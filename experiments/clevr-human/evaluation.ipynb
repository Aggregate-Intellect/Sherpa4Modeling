{
 "cells": [
  {
   "cell_type": "code",
   "execution_count": 1,
   "metadata": {},
   "outputs": [],
   "source": [
    "import pandas as pd"
   ]
  },
  {
   "cell_type": "code",
   "execution_count": 11,
   "metadata": {},
   "outputs": [],
   "source": [
    "def get_category(answer):\n",
    "    answer = str(answer).lower()\n",
    "    if answer in [\"yes\", \"no\"]:\n",
    "        return \"judge\"\n",
    "    elif answer in [\"0\", \"1\", \"2\", \"3\", \"4\", \"5\", \"6\", \"7\", \"8\", \"9\", \"10\"]:\n",
    "        return \"count\"\n",
    "    else:\n",
    "        return \"query\"\n",
    "    \n",
    "def get_evaluation(df):\n",
    "    acc = (df[\"predicted\"] == df[\"actual\"]).sum() / len(df)\n",
    "    judge_df = df[df[\"category\"] == \"judge\"]\n",
    "    count_df = df[df[\"category\"] == \"count\"]\n",
    "    query_df = df[df[\"category\"] == \"query\"]\n",
    "\n",
    "    acc_judge = (judge_df[\"predicted\"] == judge_df[\"actual\"]).sum() / len(judge_df)\n",
    "    acc_count = (count_df[\"predicted\"] == count_df[\"actual\"]).sum() / len(count_df)\n",
    "    acc_query = (query_df[\"predicted\"] == query_df[\"actual\"]).sum() / len(query_df)\n",
    "\n",
    "    return {\n",
    "        \"total accuracy\": acc,\n",
    "        \"judge_accuracy\": acc_judge,\n",
    "        \"count_accuracy\": acc_count,\n",
    "        \"query_accuracy\": acc_query\n",
    "    }"
   ]
  },
  {
   "cell_type": "code",
   "execution_count": 4,
   "metadata": {},
   "outputs": [],
   "source": [
    "evaluation_map = {\n",
    "    \"direct\": \"direct_prompt_results_gpt-4o-mini.csv\",\n",
    "    \"react\": \"react_results_gpt-4o-mini.csv\",\n",
    "    \"react_no_scene\": \"react_results_gpt-4o-mini_no_scene.csv\",\n",
    "    \"routing\": \"routing_results_gpt-4o-mini.csv\",\n",
    "    \"routing_no_scene\": \"routing_results_gpt-4o-mini_no_scene.csv\",\n",
    "    \"state_machine\": \"state_machine_results_gpt-4o-mini.csv\",\n",
    "    \"state_machine_no_scene\": \"state_machine_results_gpt-4o-mini_no_scene.csv\",\n",
    "}"
   ]
  },
  {
   "cell_type": "code",
   "execution_count": 5,
   "metadata": {},
   "outputs": [],
   "source": [
    "evaluation_data = {}\n",
    "\n",
    "for key, value in evaluation_map.items():\n",
    "    evaluation_data[key] = pd.read_csv(f\"{value}\")\n",
    "for value in evaluation_data.values():\n",
    "    value[\"category\"] = value[\"actual\"].apply(get_category)"
   ]
  },
  {
   "cell_type": "code",
   "execution_count": 14,
   "metadata": {},
   "outputs": [],
   "source": [
    "evaluation_results = []\n",
    "\n",
    "for key, value in evaluation_data.items():\n",
    "    result = get_evaluation(value)\n",
    "    result[\"setting\"] = key\n",
    "    evaluation_results.append(result)"
   ]
  },
  {
   "cell_type": "code",
   "execution_count": 19,
   "metadata": {},
   "outputs": [
    {
     "data": {
      "text/html": [
       "<div>\n",
       "<style scoped>\n",
       "    .dataframe tbody tr th:only-of-type {\n",
       "        vertical-align: middle;\n",
       "    }\n",
       "\n",
       "    .dataframe tbody tr th {\n",
       "        vertical-align: top;\n",
       "    }\n",
       "\n",
       "    .dataframe thead th {\n",
       "        text-align: right;\n",
       "    }\n",
       "</style>\n",
       "<table border=\"1\" class=\"dataframe\">\n",
       "  <thead>\n",
       "    <tr style=\"text-align: right;\">\n",
       "      <th></th>\n",
       "      <th>total accuracy</th>\n",
       "      <th>judge_accuracy</th>\n",
       "      <th>count_accuracy</th>\n",
       "      <th>query_accuracy</th>\n",
       "    </tr>\n",
       "    <tr>\n",
       "      <th>setting</th>\n",
       "      <th></th>\n",
       "      <th></th>\n",
       "      <th></th>\n",
       "      <th></th>\n",
       "    </tr>\n",
       "  </thead>\n",
       "  <tbody>\n",
       "    <tr>\n",
       "      <th>direct</th>\n",
       "      <td>0.82</td>\n",
       "      <td>0.969697</td>\n",
       "      <td>0.787879</td>\n",
       "      <td>0.705882</td>\n",
       "    </tr>\n",
       "    <tr>\n",
       "      <th>react</th>\n",
       "      <td>0.74</td>\n",
       "      <td>0.757576</td>\n",
       "      <td>0.727273</td>\n",
       "      <td>0.735294</td>\n",
       "    </tr>\n",
       "    <tr>\n",
       "      <th>react_no_scene</th>\n",
       "      <td>0.60</td>\n",
       "      <td>0.696970</td>\n",
       "      <td>0.636364</td>\n",
       "      <td>0.470588</td>\n",
       "    </tr>\n",
       "    <tr>\n",
       "      <th>routing</th>\n",
       "      <td>0.36</td>\n",
       "      <td>0.030303</td>\n",
       "      <td>0.787879</td>\n",
       "      <td>0.264706</td>\n",
       "    </tr>\n",
       "    <tr>\n",
       "      <th>routing_no_scene</th>\n",
       "      <td>0.24</td>\n",
       "      <td>0.000000</td>\n",
       "      <td>0.727273</td>\n",
       "      <td>0.000000</td>\n",
       "    </tr>\n",
       "    <tr>\n",
       "      <th>state_machine</th>\n",
       "      <td>0.73</td>\n",
       "      <td>0.848485</td>\n",
       "      <td>0.666667</td>\n",
       "      <td>0.676471</td>\n",
       "    </tr>\n",
       "    <tr>\n",
       "      <th>state_machine_no_scene</th>\n",
       "      <td>0.70</td>\n",
       "      <td>0.727273</td>\n",
       "      <td>0.787879</td>\n",
       "      <td>0.588235</td>\n",
       "    </tr>\n",
       "  </tbody>\n",
       "</table>\n",
       "</div>"
      ],
      "text/plain": [
       "                        total accuracy  judge_accuracy  count_accuracy  \\\n",
       "setting                                                                  \n",
       "direct                            0.82        0.969697        0.787879   \n",
       "react                             0.74        0.757576        0.727273   \n",
       "react_no_scene                    0.60        0.696970        0.636364   \n",
       "routing                           0.36        0.030303        0.787879   \n",
       "routing_no_scene                  0.24        0.000000        0.727273   \n",
       "state_machine                     0.73        0.848485        0.666667   \n",
       "state_machine_no_scene            0.70        0.727273        0.787879   \n",
       "\n",
       "                        query_accuracy  \n",
       "setting                                 \n",
       "direct                        0.705882  \n",
       "react                         0.735294  \n",
       "react_no_scene                0.470588  \n",
       "routing                       0.264706  \n",
       "routing_no_scene              0.000000  \n",
       "state_machine                 0.676471  \n",
       "state_machine_no_scene        0.588235  "
      ]
     },
     "execution_count": 19,
     "metadata": {},
     "output_type": "execute_result"
    }
   ],
   "source": [
    "evaluation_result_df = pd.DataFrame(evaluation_results)\n",
    "evaluation_result_df.set_index(\"setting\", inplace=True)\n",
    "evaluation_result_df"
   ]
  },
  {
   "cell_type": "code",
   "execution_count": null,
   "metadata": {},
   "outputs": [],
   "source": []
  }
 ],
 "metadata": {
  "kernelspec": {
   "display_name": "sherpa",
   "language": "python",
   "name": "python3"
  },
  "language_info": {
   "codemirror_mode": {
    "name": "ipython",
    "version": 3
   },
   "file_extension": ".py",
   "mimetype": "text/x-python",
   "name": "python",
   "nbconvert_exporter": "python",
   "pygments_lexer": "ipython3",
   "version": "3.9.18"
  }
 },
 "nbformat": 4,
 "nbformat_minor": 2
}
