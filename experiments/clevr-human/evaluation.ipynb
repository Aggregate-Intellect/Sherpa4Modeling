{
 "cells": [
  {
   "cell_type": "code",
   "execution_count": 4,
   "metadata": {},
   "outputs": [],
   "source": [
    "import pandas as pd"
   ]
  },
  {
   "cell_type": "code",
   "execution_count": 5,
   "metadata": {},
   "outputs": [],
   "source": [
    "def get_category(answer):\n",
    "    answer = str(answer).lower()\n",
    "    if answer in [\"yes\", \"no\"]:\n",
    "        return \"judge\"\n",
    "    elif answer in [\"0\", \"1\", \"2\", \"3\", \"4\", \"5\", \"6\", \"7\", \"8\", \"9\", \"10\"]:\n",
    "        return \"count\"\n",
    "    else:\n",
    "        return \"query\"\n",
    "    \n",
    "def get_evaluation(df):\n",
    "    acc = (df[\"predicted\"] == df[\"actual\"]).sum() / len(df)\n",
    "    judge_df = df[df[\"category\"] == \"judge\"]\n",
    "    count_df = df[df[\"category\"] == \"count\"]\n",
    "    query_df = df[df[\"category\"] == \"query\"]\n",
    "\n",
    "    acc_judge = (judge_df[\"predicted\"] == judge_df[\"actual\"]).sum() / len(judge_df)\n",
    "    acc_count = (count_df[\"predicted\"] == count_df[\"actual\"]).sum() / len(count_df)\n",
    "    acc_query = (query_df[\"predicted\"] == query_df[\"actual\"]).sum() / len(query_df)\n",
    "\n",
    "    return {\n",
    "        \"total accuracy\": acc,\n",
    "        \"judge_accuracy\": acc_judge,\n",
    "        \"count_accuracy\": acc_count,\n",
    "        \"query_accuracy\": acc_query\n",
    "    }"
   ]
  },
  {
   "cell_type": "code",
   "execution_count": 61,
   "metadata": {},
   "outputs": [],
   "source": [
    "evaluation_map = {\n",
    "    \"direct_1\": \"results/0.2/direct_prompt_results_gpt-4o-mini_1.csv\",\n",
    "    \"direct_2\": \"results/0.2/direct_prompt_results_gpt-4o-mini_2.csv\",\n",
    "    \"direct_3\": \"results/0.2/direct_prompt_results_gpt-4o-mini_3.csv\",\n",
    "    \"state_machine_1\": \"results/0.2/state_machine_results_gpt-4o-mini_1.csv\",\n",
    "    \"state_machine_2\": \"results/0.2/state_machine_results_gpt-4o-mini_2.csv\",\n",
    "    \"state_machine_3\": \"results/0.2/state_machine_results_gpt-4o-mini_2.csv\",\n",
    "\n",
    "    \"react\": \"results/react_results_gpt-4o-mini.csv\",\n",
    "    # \"react_no_scene\": \"react_results_gpt-4o-mini_no_scene.csv\",\n",
    "    \"routing\": \"results/routing_results_gpt-4o-mini.csv\",\n",
    "    # \"routing_no_scene\": \"results/routing_results_gpt-4o-mini_no_scene.csv\",\n",
    "    # \"state_machine\": \"state_machine_results_gpt-4o-mini.csv\",\n",
    "    # \"state_machine_2\": \"state_machine_results_gpt-4o-mini_2.csv\",\n",
    "    # \"state_machine_no_scene\": \"state_machine_results_gpt-4o-mini_no_scene.csv\",\n",
    "}"
   ]
  },
  {
   "cell_type": "code",
   "execution_count": 48,
   "metadata": {},
   "outputs": [],
   "source": [
    "evaluation_map = {\n",
    "    \"direct_1\": \"results/direct_prompt_Meta-Llama-3.1-8B-Instruct-Turbo_1.csv\",\n",
    "    \"direct_2\": \"results/direct_prompt_Meta-Llama-3.1-8B-Instruct-Turbo_2.csv\",\n",
    "    \"direct_3\": \"results/direct_prompt_Meta-Llama-3.1-8B-Instruct-Turbo_3.csv\",\n",
    "    \"state_machine_1\": \"results/state_machine_Meta-Llama-3.1-8B-Instruct-Turbo_1.csv\",\n",
    "    \"state_machine_2\": \"results/state_machine_Meta-Llama-3.1-8B-Instruct-Turbo_2.csv\",\n",
    "    \"state_machine_3\": \"results/state_machine_Meta-Llama-3.1-8B-Instruct-Turbo_3.csv\",\n",
    "\n",
    "    # \"direct_2\": \"results/0.2/direct_prompt_results_gpt-4o-mini_2.csv\",\n",
    "    # \"direct_3\": \"results/0.2/direct_prompt_results_gpt-4o-mini_3.csv\",\n",
    "    # \"state_machine_1\": \"results/0.2/state_machine_results_gpt-4o-mini_1.csv\",\n",
    "    # \"state_machine_2\": \"results/0.2/state_machine_results_gpt-4o-mini_2.csv\",\n",
    "    # \"state_machine_3\": \"results/0.2/state_machine_results_gpt-4o-mini_2.csv\",\n",
    "\n",
    "    # \"react\": \"results/react_results_gpt-4o-mini.csv\",\n",
    "    # \"react_no_scene\": \"react_results_gpt-4o-mini_no_scene.csv\",\n",
    "    # \"routing\": \"results/routing_results_gpt-4o-mini.csv\",\n",
    "    # \"routing_no_scene\": \"results/routing_results_gpt-4o-mini_no_scene.csv\",\n",
    "    # \"state_machine\": \"state_machine_results_gpt-4o-mini.csv\",\n",
    "    # \"state_machine_2\": \"state_machine_results_gpt-4o-mini_2.csv\",\n",
    "    # \"state_machine_no_scene\": \"state_machine_results_gpt-4o-mini_no_scene.csv\",\n",
    "}"
   ]
  },
  {
   "cell_type": "code",
   "execution_count": 49,
   "metadata": {},
   "outputs": [],
   "source": [
    "evaluation_data = {}\n",
    "\n",
    "for key, value in evaluation_map.items():\n",
    "    evaluation_data[key] = pd.read_csv(f\"{value}\")\n",
    "for value in evaluation_data.values():\n",
    "    value[\"category\"] = value[\"actual\"].apply(get_category)"
   ]
  },
  {
   "cell_type": "code",
   "execution_count": 50,
   "metadata": {},
   "outputs": [],
   "source": [
    "evaluation_results = []\n",
    "\n",
    "for key, value in evaluation_data.items():\n",
    "    value = value.astype(str)\n",
    "    result = get_evaluation(value)\n",
    "    result[\"setting\"] = key\n",
    "    evaluation_results.append(result)"
   ]
  },
  {
   "cell_type": "code",
   "execution_count": 51,
   "metadata": {},
   "outputs": [
    {
     "data": {
      "text/html": [
       "<div>\n",
       "<style scoped>\n",
       "    .dataframe tbody tr th:only-of-type {\n",
       "        vertical-align: middle;\n",
       "    }\n",
       "\n",
       "    .dataframe tbody tr th {\n",
       "        vertical-align: top;\n",
       "    }\n",
       "\n",
       "    .dataframe thead th {\n",
       "        text-align: right;\n",
       "    }\n",
       "</style>\n",
       "<table border=\"1\" class=\"dataframe\">\n",
       "  <thead>\n",
       "    <tr style=\"text-align: right;\">\n",
       "      <th></th>\n",
       "      <th>total accuracy</th>\n",
       "      <th>judge_accuracy</th>\n",
       "      <th>count_accuracy</th>\n",
       "      <th>query_accuracy</th>\n",
       "    </tr>\n",
       "    <tr>\n",
       "      <th>setting</th>\n",
       "      <th></th>\n",
       "      <th></th>\n",
       "      <th></th>\n",
       "      <th></th>\n",
       "    </tr>\n",
       "  </thead>\n",
       "  <tbody>\n",
       "    <tr>\n",
       "      <th>direct_1</th>\n",
       "      <td>0.72</td>\n",
       "      <td>0.787879</td>\n",
       "      <td>0.696970</td>\n",
       "      <td>0.676471</td>\n",
       "    </tr>\n",
       "    <tr>\n",
       "      <th>direct_2</th>\n",
       "      <td>0.74</td>\n",
       "      <td>0.909091</td>\n",
       "      <td>0.606061</td>\n",
       "      <td>0.705882</td>\n",
       "    </tr>\n",
       "    <tr>\n",
       "      <th>direct_3</th>\n",
       "      <td>0.73</td>\n",
       "      <td>0.848485</td>\n",
       "      <td>0.696970</td>\n",
       "      <td>0.647059</td>\n",
       "    </tr>\n",
       "    <tr>\n",
       "      <th>state_machine_1</th>\n",
       "      <td>0.72</td>\n",
       "      <td>0.878788</td>\n",
       "      <td>0.515152</td>\n",
       "      <td>0.764706</td>\n",
       "    </tr>\n",
       "    <tr>\n",
       "      <th>state_machine_2</th>\n",
       "      <td>0.74</td>\n",
       "      <td>0.848485</td>\n",
       "      <td>0.606061</td>\n",
       "      <td>0.764706</td>\n",
       "    </tr>\n",
       "    <tr>\n",
       "      <th>state_machine_3</th>\n",
       "      <td>0.72</td>\n",
       "      <td>0.909091</td>\n",
       "      <td>0.545455</td>\n",
       "      <td>0.705882</td>\n",
       "    </tr>\n",
       "    <tr>\n",
       "      <th>state_machine_test</th>\n",
       "      <td>0.72</td>\n",
       "      <td>0.787879</td>\n",
       "      <td>0.636364</td>\n",
       "      <td>0.735294</td>\n",
       "    </tr>\n",
       "  </tbody>\n",
       "</table>\n",
       "</div>"
      ],
      "text/plain": [
       "                    total accuracy  judge_accuracy  count_accuracy  \\\n",
       "setting                                                              \n",
       "direct_1                      0.72        0.787879        0.696970   \n",
       "direct_2                      0.74        0.909091        0.606061   \n",
       "direct_3                      0.73        0.848485        0.696970   \n",
       "state_machine_1               0.72        0.878788        0.515152   \n",
       "state_machine_2               0.74        0.848485        0.606061   \n",
       "state_machine_3               0.72        0.909091        0.545455   \n",
       "state_machine_test            0.72        0.787879        0.636364   \n",
       "\n",
       "                    query_accuracy  \n",
       "setting                             \n",
       "direct_1                  0.676471  \n",
       "direct_2                  0.705882  \n",
       "direct_3                  0.647059  \n",
       "state_machine_1           0.764706  \n",
       "state_machine_2           0.764706  \n",
       "state_machine_3           0.705882  \n",
       "state_machine_test        0.735294  "
      ]
     },
     "execution_count": 51,
     "metadata": {},
     "output_type": "execute_result"
    }
   ],
   "source": [
    "evaluation_result_df = pd.DataFrame(evaluation_results)\n",
    "evaluation_result_df.set_index(\"setting\", inplace=True)\n",
    "evaluation_result_df"
   ]
  },
  {
   "cell_type": "code",
   "execution_count": 8,
   "metadata": {},
   "outputs": [
    {
     "data": {
      "text/html": [
       "<div>\n",
       "<style scoped>\n",
       "    .dataframe tbody tr th:only-of-type {\n",
       "        vertical-align: middle;\n",
       "    }\n",
       "\n",
       "    .dataframe tbody tr th {\n",
       "        vertical-align: top;\n",
       "    }\n",
       "\n",
       "    .dataframe thead th {\n",
       "        text-align: right;\n",
       "    }\n",
       "</style>\n",
       "<table border=\"1\" class=\"dataframe\">\n",
       "  <thead>\n",
       "    <tr style=\"text-align: right;\">\n",
       "      <th></th>\n",
       "      <th>total accuracy</th>\n",
       "      <th>judge_accuracy</th>\n",
       "      <th>count_accuracy</th>\n",
       "      <th>query_accuracy</th>\n",
       "    </tr>\n",
       "    <tr>\n",
       "      <th>setting</th>\n",
       "      <th></th>\n",
       "      <th></th>\n",
       "      <th></th>\n",
       "      <th></th>\n",
       "    </tr>\n",
       "  </thead>\n",
       "  <tbody>\n",
       "    <tr>\n",
       "      <th>direct</th>\n",
       "      <td>0.84</td>\n",
       "      <td>0.939394</td>\n",
       "      <td>0.818182</td>\n",
       "      <td>0.764706</td>\n",
       "    </tr>\n",
       "    <tr>\n",
       "      <th>react</th>\n",
       "      <td>0.85</td>\n",
       "      <td>1.000000</td>\n",
       "      <td>0.787879</td>\n",
       "      <td>0.764706</td>\n",
       "    </tr>\n",
       "    <tr>\n",
       "      <th>react_no_scene</th>\n",
       "      <td>0.62</td>\n",
       "      <td>0.787879</td>\n",
       "      <td>0.636364</td>\n",
       "      <td>0.441176</td>\n",
       "    </tr>\n",
       "    <tr>\n",
       "      <th>routing</th>\n",
       "      <td>0.36</td>\n",
       "      <td>0.030303</td>\n",
       "      <td>0.787879</td>\n",
       "      <td>0.264706</td>\n",
       "    </tr>\n",
       "    <tr>\n",
       "      <th>routing_no_scene</th>\n",
       "      <td>0.24</td>\n",
       "      <td>0.000000</td>\n",
       "      <td>0.727273</td>\n",
       "      <td>0.000000</td>\n",
       "    </tr>\n",
       "    <tr>\n",
       "      <th>state_machine</th>\n",
       "      <td>0.88</td>\n",
       "      <td>1.000000</td>\n",
       "      <td>0.848485</td>\n",
       "      <td>0.794118</td>\n",
       "    </tr>\n",
       "    <tr>\n",
       "      <th>state_machine_no_scene</th>\n",
       "      <td>0.68</td>\n",
       "      <td>0.878788</td>\n",
       "      <td>0.727273</td>\n",
       "      <td>0.441176</td>\n",
       "    </tr>\n",
       "  </tbody>\n",
       "</table>\n",
       "</div>"
      ],
      "text/plain": [
       "                        total accuracy  judge_accuracy  count_accuracy  \\\n",
       "setting                                                                  \n",
       "direct                            0.84        0.939394        0.818182   \n",
       "react                             0.85        1.000000        0.787879   \n",
       "react_no_scene                    0.62        0.787879        0.636364   \n",
       "routing                           0.36        0.030303        0.787879   \n",
       "routing_no_scene                  0.24        0.000000        0.727273   \n",
       "state_machine                     0.88        1.000000        0.848485   \n",
       "state_machine_no_scene            0.68        0.878788        0.727273   \n",
       "\n",
       "                        query_accuracy  \n",
       "setting                                 \n",
       "direct                        0.764706  \n",
       "react                         0.764706  \n",
       "react_no_scene                0.441176  \n",
       "routing                       0.264706  \n",
       "routing_no_scene              0.000000  \n",
       "state_machine                 0.794118  \n",
       "state_machine_no_scene        0.441176  "
      ]
     },
     "execution_count": 8,
     "metadata": {},
     "output_type": "execute_result"
    }
   ],
   "source": [
    "evaluation_result_df = pd.DataFrame(evaluation_results)\n",
    "evaluation_result_df.set_index(\"setting\", inplace=True)\n",
    "evaluation_result_df"
   ]
  },
  {
   "cell_type": "markdown",
   "metadata": {},
   "source": [
    "## Non-functional Evaluation"
   ]
  },
  {
   "cell_type": "code",
   "execution_count": 15,
   "metadata": {},
   "outputs": [
    {
     "data": {
      "text/plain": [
       "4.33"
      ]
     },
     "execution_count": 15,
     "metadata": {},
     "output_type": "execute_result"
    }
   ],
   "source": [
    "evaluation_data[\"react_no_scene\"][\"reasoning\"].map(lambda x: x.count(\"EventType.action \")).mean()"
   ]
  },
  {
   "cell_type": "code",
   "execution_count": 21,
   "metadata": {},
   "outputs": [],
   "source": [
    "average_reasoning_length = {}\n",
    "for key, value in evaluation_data.items():\n",
    "    if key == \"direct\":\n",
    "        average_reasoning_length[key] = 1\n",
    "    else:\n",
    "        average_reasoning_length[key] = value[\"reasoning\"].map(lambda x: x.count(\"EventType.action \")).mean()"
   ]
  },
  {
   "cell_type": "code",
   "execution_count": 23,
   "metadata": {},
   "outputs": [
    {
     "data": {
      "text/plain": [
       "{'direct': 1,\n",
       " 'react': 3.68,\n",
       " 'react_no_scene': 4.33,\n",
       " 'routing': 3.09,\n",
       " 'routing_no_scene': 3.44,\n",
       " 'state_machine': 2.81,\n",
       " 'state_machine_no_scene': 4.44}"
      ]
     },
     "execution_count": 23,
     "metadata": {},
     "output_type": "execute_result"
    }
   ],
   "source": [
    "average_reasoning_length"
   ]
  },
  {
   "cell_type": "code",
   "execution_count": null,
   "metadata": {},
   "outputs": [],
   "source": []
  }
 ],
 "metadata": {
  "kernelspec": {
   "display_name": "Python 3",
   "language": "python",
   "name": "python3"
  },
  "language_info": {
   "codemirror_mode": {
    "name": "ipython",
    "version": 3
   },
   "file_extension": ".py",
   "mimetype": "text/x-python",
   "name": "python",
   "nbconvert_exporter": "python",
   "pygments_lexer": "ipython3",
   "version": "3.10.15"
  }
 },
 "nbformat": 4,
 "nbformat_minor": 2
}
