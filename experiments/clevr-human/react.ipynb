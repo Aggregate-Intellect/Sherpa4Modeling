{
 "cells": [
  {
   "cell_type": "code",
   "execution_count": 1,
   "metadata": {},
   "outputs": [],
   "source": [
    "%load_ext autoreload\n",
    "%autoreload 2"
   ]
  },
  {
   "cell_type": "code",
   "execution_count": 3,
   "metadata": {},
   "outputs": [],
   "source": [
    "from sherpa_ai.memory import Belief\n",
    "from react.states import get_actions, add_state_machine\n",
    "from utils import load_processed_dataset\n",
    "import random\n",
    "from langchain_openai import ChatOpenAI\n",
    "from sherpa_ai.agents.qa_agent import QAAgent\n",
    "from sherpa_ai.events import Event, EventType\n",
    "from clevr_policy import ReactPolicy\n",
    "from tqdm.notebook import tqdm\n",
    "import pandas as pd\n",
    "from datasets import load_dataset"
   ]
  },
  {
   "cell_type": "code",
   "execution_count": 4,
   "metadata": {},
   "outputs": [],
   "source": [
    "dataset = load_dataset(\"Dogdays/clevr_subset\", token=True)[\"train\"]"
   ]
  },
  {
   "cell_type": "code",
   "execution_count": 5,
   "metadata": {},
   "outputs": [],
   "source": [
    "model_name = \"gpt-4o-mini\"\n",
    "llm = ChatOpenAI(model=model_name)"
   ]
  },
  {
   "cell_type": "markdown",
   "metadata": {},
   "source": [
    "Next: Run the react state machine with Clevr example"
   ]
  },
  {
   "cell_type": "code",
   "execution_count": 48,
   "metadata": {},
   "outputs": [
    {
     "name": "stdout",
     "output_type": "stream",
     "text": [
      "---\n",
      "State Machine\n",
      "---\n",
      "stateDiagram-v2\n",
      "  direction LR\n",
      "  classDef s_default fill:white,color:black\n",
      "  classDef s_inactive fill:white,color:black\n",
      "  classDef s_parallel color:black,fill:white\n",
      "  classDef s_active color:red,fill:darksalmon\n",
      "  classDef s_previous color:blue,fill:azure\n",
      "  \n",
      "  state \"Start\" as Start\n",
      "  Class Start s_active\n",
      "  state \"Reasoning\" as Reasoning\n",
      "  Class Reasoning s_default\n",
      "  state \"Finish\" as Finish\n",
      "  Class Finish s_default\n",
      "  \n",
      "  Start --> Reasoning: start\n",
      "  Reasoning --> Reasoning: filter_with_attribute | query_attribute | get_related_objects | get_same_objects | count_all_objects\n",
      "  Reasoning --> Finish: answer\n",
      "  [*] --> Start\n"
     ]
    },
    {
     "data": {
      "text/plain": [
       "<sherpa_ai.memory.belief.Belief at 0x1f328bf3430>"
      ]
     },
     "execution_count": 48,
     "metadata": {},
     "output_type": "execute_result"
    }
   ],
   "source": [
    "add_state_machine(belief, action_map)"
   ]
  },
  {
   "cell_type": "code",
   "execution_count": 43,
   "metadata": {},
   "outputs": [
    {
     "data": {
      "application/vnd.jupyter.widget-view+json": {
       "model_id": "1ea59b1b986a4b44ac162175c2917cbe",
       "version_major": 2,
       "version_minor": 0
      },
      "text/plain": [
       "  0%|          | 0/100 [00:00<?, ?it/s]"
      ]
     },
     "metadata": {},
     "output_type": "display_data"
    },
    {
     "name": "stderr",
     "output_type": "stream",
     "text": [
      "\u001b[32m2024-11-26 23:31:27.435\u001b[0m | \u001b[31m\u001b[1mERROR   \u001b[0m | \u001b[36msherpa_ai.agents.base\u001b[0m:\u001b[36mact\u001b[0m:\u001b[36m351\u001b[0m - \u001b[31m\u001b[1mExpecting property name enclosed in double quotes: line 1 column 2 (char 1)\u001b[0m\n",
      "\u001b[33m\u001b[1mTraceback (most recent call last):\u001b[0m\n",
      "\n",
      "  File \"\u001b[32mc:\\Users\\chenp\\anaconda3\\envs\\sherpa\\lib\\\u001b[0m\u001b[32m\u001b[1mrunpy.py\u001b[0m\", line \u001b[33m196\u001b[0m, in \u001b[35m_run_module_as_main\u001b[0m\n",
      "    \u001b[35m\u001b[1mreturn\u001b[0m \u001b[1m_run_code\u001b[0m\u001b[1m(\u001b[0m\u001b[1mcode\u001b[0m\u001b[1m,\u001b[0m \u001b[1mmain_globals\u001b[0m\u001b[1m,\u001b[0m \u001b[36m\u001b[1mNone\u001b[0m\u001b[1m,\u001b[0m\n",
      "    \u001b[36m       │         │     └ \u001b[0m\u001b[36m\u001b[1m{'__name__': '__main__', '__doc__': 'Entry point for launching an IPython kernel.\\n\\nThis is separate from the ipykernel pack...\u001b[0m\n",
      "    \u001b[36m       │         └ \u001b[0m\u001b[36m\u001b[1m<code object <module> at 0x000001F35A907050, file \"c:\\Users\\chenp\\anaconda3\\envs\\sherpa\\lib\\site-packages\\ipykernel_launcher....\u001b[0m\n",
      "    \u001b[36m       └ \u001b[0m\u001b[36m\u001b[1m<function _run_code at 0x000001F35A90B2E0>\u001b[0m\n",
      "\n",
      "  File \"\u001b[32mc:\\Users\\chenp\\anaconda3\\envs\\sherpa\\lib\\\u001b[0m\u001b[32m\u001b[1mrunpy.py\u001b[0m\", line \u001b[33m86\u001b[0m, in \u001b[35m_run_code\u001b[0m\n",
      "    \u001b[1mexec\u001b[0m\u001b[1m(\u001b[0m\u001b[1mcode\u001b[0m\u001b[1m,\u001b[0m \u001b[1mrun_globals\u001b[0m\u001b[1m)\u001b[0m\n",
      "    \u001b[36m     │     └ \u001b[0m\u001b[36m\u001b[1m{'__name__': '__main__', '__doc__': 'Entry point for launching an IPython kernel.\\n\\nThis is separate from the ipykernel pack...\u001b[0m\n",
      "    \u001b[36m     └ \u001b[0m\u001b[36m\u001b[1m<code object <module> at 0x000001F35A907050, file \"c:\\Users\\chenp\\anaconda3\\envs\\sherpa\\lib\\site-packages\\ipykernel_launcher....\u001b[0m\n",
      "\n",
      "  File \"\u001b[32mc:\\Users\\chenp\\anaconda3\\envs\\sherpa\\lib\\site-packages\\\u001b[0m\u001b[32m\u001b[1mipykernel_launcher.py\u001b[0m\", line \u001b[33m18\u001b[0m, in \u001b[35m<module>\u001b[0m\n",
      "    \u001b[1mapp\u001b[0m\u001b[35m\u001b[1m.\u001b[0m\u001b[1mlaunch_new_instance\u001b[0m\u001b[1m(\u001b[0m\u001b[1m)\u001b[0m\n",
      "    \u001b[36m│   └ \u001b[0m\u001b[36m\u001b[1m<bound method Application.launch_instance of <class 'ipykernel.kernelapp.IPKernelApp'>>\u001b[0m\n",
      "    \u001b[36m└ \u001b[0m\u001b[36m\u001b[1m<module 'ipykernel.kernelapp' from 'c:\\\\Users\\\\chenp\\\\anaconda3\\\\envs\\\\sherpa\\\\lib\\\\site-packages\\\\ipykernel\\\\kernelapp.py'>\u001b[0m\n",
      "\n",
      "  File \"\u001b[32mc:\\Users\\chenp\\anaconda3\\envs\\sherpa\\lib\\site-packages\\traitlets\\config\\\u001b[0m\u001b[32m\u001b[1mapplication.py\u001b[0m\", line \u001b[33m1075\u001b[0m, in \u001b[35mlaunch_instance\u001b[0m\n",
      "    \u001b[1mapp\u001b[0m\u001b[35m\u001b[1m.\u001b[0m\u001b[1mstart\u001b[0m\u001b[1m(\u001b[0m\u001b[1m)\u001b[0m\n",
      "    \u001b[36m│   └ \u001b[0m\u001b[36m\u001b[1m<function IPKernelApp.start at 0x000001F35EB71000>\u001b[0m\n",
      "    \u001b[36m└ \u001b[0m\u001b[36m\u001b[1m<ipykernel.kernelapp.IPKernelApp object at 0x000001F35A8C0250>\u001b[0m\n",
      "\n",
      "  File \"\u001b[32mc:\\Users\\chenp\\anaconda3\\envs\\sherpa\\lib\\site-packages\\ipykernel\\\u001b[0m\u001b[32m\u001b[1mkernelapp.py\u001b[0m\", line \u001b[33m739\u001b[0m, in \u001b[35mstart\u001b[0m\n",
      "    \u001b[1mself\u001b[0m\u001b[35m\u001b[1m.\u001b[0m\u001b[1mio_loop\u001b[0m\u001b[35m\u001b[1m.\u001b[0m\u001b[1mstart\u001b[0m\u001b[1m(\u001b[0m\u001b[1m)\u001b[0m\n",
      "    \u001b[36m│    │       └ \u001b[0m\u001b[36m\u001b[1m<function BaseAsyncIOLoop.start at 0x000001F35EBD9090>\u001b[0m\n",
      "    \u001b[36m│    └ \u001b[0m\u001b[36m\u001b[1m<tornado.platform.asyncio.AsyncIOMainLoop object at 0x000001F35EBB6A40>\u001b[0m\n",
      "    \u001b[36m└ \u001b[0m\u001b[36m\u001b[1m<ipykernel.kernelapp.IPKernelApp object at 0x000001F35A8C0250>\u001b[0m\n",
      "\n",
      "  File \"\u001b[32mc:\\Users\\chenp\\anaconda3\\envs\\sherpa\\lib\\site-packages\\tornado\\platform\\\u001b[0m\u001b[32m\u001b[1masyncio.py\u001b[0m\", line \u001b[33m205\u001b[0m, in \u001b[35mstart\u001b[0m\n",
      "    \u001b[1mself\u001b[0m\u001b[35m\u001b[1m.\u001b[0m\u001b[1masyncio_loop\u001b[0m\u001b[35m\u001b[1m.\u001b[0m\u001b[1mrun_forever\u001b[0m\u001b[1m(\u001b[0m\u001b[1m)\u001b[0m\n",
      "    \u001b[36m│    │            └ \u001b[0m\u001b[36m\u001b[1m<function BaseEventLoop.run_forever at 0x000001F35CAA9A20>\u001b[0m\n",
      "    \u001b[36m│    └ \u001b[0m\u001b[36m\u001b[1m<_WindowsSelectorEventLoop running=True closed=False debug=False>\u001b[0m\n",
      "    \u001b[36m└ \u001b[0m\u001b[36m\u001b[1m<tornado.platform.asyncio.AsyncIOMainLoop object at 0x000001F35EBB6A40>\u001b[0m\n",
      "\n",
      "  File \"\u001b[32mc:\\Users\\chenp\\anaconda3\\envs\\sherpa\\lib\\asyncio\\\u001b[0m\u001b[32m\u001b[1mbase_events.py\u001b[0m\", line \u001b[33m595\u001b[0m, in \u001b[35mrun_forever\u001b[0m\n",
      "    \u001b[1mself\u001b[0m\u001b[35m\u001b[1m.\u001b[0m\u001b[1m_run_once\u001b[0m\u001b[1m(\u001b[0m\u001b[1m)\u001b[0m\n",
      "    \u001b[36m│    └ \u001b[0m\u001b[36m\u001b[1m<function BaseEventLoop._run_once at 0x000001F35CAAB520>\u001b[0m\n",
      "    \u001b[36m└ \u001b[0m\u001b[36m\u001b[1m<_WindowsSelectorEventLoop running=True closed=False debug=False>\u001b[0m\n",
      "\n",
      "  File \"\u001b[32mc:\\Users\\chenp\\anaconda3\\envs\\sherpa\\lib\\asyncio\\\u001b[0m\u001b[32m\u001b[1mbase_events.py\u001b[0m\", line \u001b[33m1881\u001b[0m, in \u001b[35m_run_once\u001b[0m\n",
      "    \u001b[1mhandle\u001b[0m\u001b[35m\u001b[1m.\u001b[0m\u001b[1m_run\u001b[0m\u001b[1m(\u001b[0m\u001b[1m)\u001b[0m\n",
      "    \u001b[36m│      └ \u001b[0m\u001b[36m\u001b[1m<function Handle._run at 0x000001F35CA32830>\u001b[0m\n",
      "    \u001b[36m└ \u001b[0m\u001b[36m\u001b[1m<Handle Task.task_wakeup(<Future finis...6B)>, ...],))>)>\u001b[0m\n",
      "\n",
      "  File \"\u001b[32mc:\\Users\\chenp\\anaconda3\\envs\\sherpa\\lib\\asyncio\\\u001b[0m\u001b[32m\u001b[1mevents.py\u001b[0m\", line \u001b[33m80\u001b[0m, in \u001b[35m_run\u001b[0m\n",
      "    \u001b[1mself\u001b[0m\u001b[35m\u001b[1m.\u001b[0m\u001b[1m_context\u001b[0m\u001b[35m\u001b[1m.\u001b[0m\u001b[1mrun\u001b[0m\u001b[1m(\u001b[0m\u001b[1mself\u001b[0m\u001b[35m\u001b[1m.\u001b[0m\u001b[1m_callback\u001b[0m\u001b[1m,\u001b[0m \u001b[35m\u001b[1m*\u001b[0m\u001b[1mself\u001b[0m\u001b[35m\u001b[1m.\u001b[0m\u001b[1m_args\u001b[0m\u001b[1m)\u001b[0m\n",
      "    \u001b[36m│    │            │    │           │    └ \u001b[0m\u001b[36m\u001b[1m<member '_args' of 'Handle' objects>\u001b[0m\n",
      "    \u001b[36m│    │            │    │           └ \u001b[0m\u001b[36m\u001b[1m<Handle Task.task_wakeup(<Future finis...6B)>, ...],))>)>\u001b[0m\n",
      "    \u001b[36m│    │            │    └ \u001b[0m\u001b[36m\u001b[1m<member '_callback' of 'Handle' objects>\u001b[0m\n",
      "    \u001b[36m│    │            └ \u001b[0m\u001b[36m\u001b[1m<Handle Task.task_wakeup(<Future finis...6B)>, ...],))>)>\u001b[0m\n",
      "    \u001b[36m│    └ \u001b[0m\u001b[36m\u001b[1m<member '_context' of 'Handle' objects>\u001b[0m\n",
      "    \u001b[36m└ \u001b[0m\u001b[36m\u001b[1m<Handle Task.task_wakeup(<Future finis...6B)>, ...],))>)>\u001b[0m\n",
      "\n",
      "  File \"\u001b[32mc:\\Users\\chenp\\anaconda3\\envs\\sherpa\\lib\\site-packages\\ipykernel\\\u001b[0m\u001b[32m\u001b[1mkernelbase.py\u001b[0m\", line \u001b[33m545\u001b[0m, in \u001b[35mdispatch_queue\u001b[0m\n",
      "    \u001b[35m\u001b[1mawait\u001b[0m \u001b[1mself\u001b[0m\u001b[35m\u001b[1m.\u001b[0m\u001b[1mprocess_one\u001b[0m\u001b[1m(\u001b[0m\u001b[1m)\u001b[0m\n",
      "    \u001b[36m      │    └ \u001b[0m\u001b[36m\u001b[1m<function Kernel.process_one at 0x000001F35EB27B50>\u001b[0m\n",
      "    \u001b[36m      └ \u001b[0m\u001b[36m\u001b[1m<ipykernel.ipkernel.IPythonKernel object at 0x000001F35EBB7010>\u001b[0m\n",
      "\n",
      "  File \"\u001b[32mc:\\Users\\chenp\\anaconda3\\envs\\sherpa\\lib\\site-packages\\ipykernel\\\u001b[0m\u001b[32m\u001b[1mkernelbase.py\u001b[0m\", line \u001b[33m534\u001b[0m, in \u001b[35mprocess_one\u001b[0m\n",
      "    \u001b[35m\u001b[1mawait\u001b[0m \u001b[1mdispatch\u001b[0m\u001b[1m(\u001b[0m\u001b[35m\u001b[1m*\u001b[0m\u001b[1margs\u001b[0m\u001b[1m)\u001b[0m\n",
      "    \u001b[36m      │         └ \u001b[0m\u001b[36m\u001b[1m([<zmq.Frame(b'8c74b078-7bd'...36B)>, <zmq.Frame(b'<IDS|MSG>')>, <zmq.Frame(b'9cdb5bcd8e7f'...64B)>, <zmq.Frame(b'{\"date\":\"20...\u001b[0m\n",
      "    \u001b[36m      └ \u001b[0m\u001b[36m\u001b[1m<bound method Kernel.dispatch_shell of <ipykernel.ipkernel.IPythonKernel object at 0x000001F35EBB7010>>\u001b[0m\n",
      "\n",
      "  File \"\u001b[32mc:\\Users\\chenp\\anaconda3\\envs\\sherpa\\lib\\site-packages\\ipykernel\\\u001b[0m\u001b[32m\u001b[1mkernelbase.py\u001b[0m\", line \u001b[33m437\u001b[0m, in \u001b[35mdispatch_shell\u001b[0m\n",
      "    \u001b[35m\u001b[1mawait\u001b[0m \u001b[1mresult\u001b[0m\n",
      "    \u001b[36m      └ \u001b[0m\u001b[36m\u001b[1m<coroutine object IPythonKernel.execute_request at 0x000001F3292C5460>\u001b[0m\n",
      "\n",
      "  File \"\u001b[32mc:\\Users\\chenp\\anaconda3\\envs\\sherpa\\lib\\site-packages\\ipykernel\\\u001b[0m\u001b[32m\u001b[1mipkernel.py\u001b[0m\", line \u001b[33m362\u001b[0m, in \u001b[35mexecute_request\u001b[0m\n",
      "    \u001b[35m\u001b[1mawait\u001b[0m \u001b[1msuper\u001b[0m\u001b[1m(\u001b[0m\u001b[1m)\u001b[0m\u001b[35m\u001b[1m.\u001b[0m\u001b[1mexecute_request\u001b[0m\u001b[1m(\u001b[0m\u001b[1mstream\u001b[0m\u001b[1m,\u001b[0m \u001b[1mident\u001b[0m\u001b[1m,\u001b[0m \u001b[1mparent\u001b[0m\u001b[1m)\u001b[0m\n",
      "    \u001b[36m                              │       │      └ \u001b[0m\u001b[36m\u001b[1m{'header': {'date': datetime.datetime(2024, 11, 27, 4, 27, 46, 937000, tzinfo=tzutc()), 'msg_id': 'e02ea6f0-a7a7-4063-93c8-73...\u001b[0m\n",
      "    \u001b[36m                              │       └ \u001b[0m\u001b[36m\u001b[1m[b'8c74b078-7bdb-4aff-8d39-52d905d50c97']\u001b[0m\n",
      "    \u001b[36m                              └ \u001b[0m\u001b[36m\u001b[1m<zmq.eventloop.zmqstream.ZMQStream object at 0x000001F35EBB6770>\u001b[0m\n",
      "\n",
      "  File \"\u001b[32mc:\\Users\\chenp\\anaconda3\\envs\\sherpa\\lib\\site-packages\\ipykernel\\\u001b[0m\u001b[32m\u001b[1mkernelbase.py\u001b[0m\", line \u001b[33m778\u001b[0m, in \u001b[35mexecute_request\u001b[0m\n",
      "    \u001b[1mreply_content\u001b[0m \u001b[35m\u001b[1m=\u001b[0m \u001b[35m\u001b[1mawait\u001b[0m \u001b[1mreply_content\u001b[0m\n",
      "    \u001b[36m                      └ \u001b[0m\u001b[36m\u001b[1m<coroutine object IPythonKernel.do_execute at 0x000001F3292C4040>\u001b[0m\n",
      "\n",
      "  File \"\u001b[32mc:\\Users\\chenp\\anaconda3\\envs\\sherpa\\lib\\site-packages\\ipykernel\\\u001b[0m\u001b[32m\u001b[1mipkernel.py\u001b[0m\", line \u001b[33m449\u001b[0m, in \u001b[35mdo_execute\u001b[0m\n",
      "    \u001b[1mres\u001b[0m \u001b[35m\u001b[1m=\u001b[0m \u001b[1mshell\u001b[0m\u001b[35m\u001b[1m.\u001b[0m\u001b[1mrun_cell\u001b[0m\u001b[1m(\u001b[0m\n",
      "    \u001b[36m      │     └ \u001b[0m\u001b[36m\u001b[1m<function ZMQInteractiveShell.run_cell at 0x000001F35EB525F0>\u001b[0m\n",
      "    \u001b[36m      └ \u001b[0m\u001b[36m\u001b[1m<ipykernel.zmqshell.ZMQInteractiveShell object at 0x000001F35F01F820>\u001b[0m\n",
      "\n",
      "  File \"\u001b[32mc:\\Users\\chenp\\anaconda3\\envs\\sherpa\\lib\\site-packages\\ipykernel\\\u001b[0m\u001b[32m\u001b[1mzmqshell.py\u001b[0m\", line \u001b[33m549\u001b[0m, in \u001b[35mrun_cell\u001b[0m\n",
      "    \u001b[35m\u001b[1mreturn\u001b[0m \u001b[1msuper\u001b[0m\u001b[1m(\u001b[0m\u001b[1m)\u001b[0m\u001b[35m\u001b[1m.\u001b[0m\u001b[1mrun_cell\u001b[0m\u001b[1m(\u001b[0m\u001b[35m\u001b[1m*\u001b[0m\u001b[1margs\u001b[0m\u001b[1m,\u001b[0m \u001b[35m\u001b[1m**\u001b[0m\u001b[1mkwargs\u001b[0m\u001b[1m)\u001b[0m\n",
      "    \u001b[36m                         │       └ \u001b[0m\u001b[36m\u001b[1m{'store_history': True, 'silent': False, 'cell_id': 'vscode-notebook-cell:/d%3A/Projects/Sherpa4Modeling/experiments/clevr-hu...\u001b[0m\n",
      "    \u001b[36m                         └ \u001b[0m\u001b[36m\u001b[1m('results = []\\n\\nAGENT_DESCRIPTION = \"\"\"\\nYou are a question answering assistant helping users to find answers to their ques...\u001b[0m\n",
      "\n",
      "  File \"\u001b[32mc:\\Users\\chenp\\anaconda3\\envs\\sherpa\\lib\\site-packages\\IPython\\core\\\u001b[0m\u001b[32m\u001b[1minteractiveshell.py\u001b[0m\", line \u001b[33m3075\u001b[0m, in \u001b[35mrun_cell\u001b[0m\n",
      "    \u001b[1mresult\u001b[0m \u001b[35m\u001b[1m=\u001b[0m \u001b[1mself\u001b[0m\u001b[35m\u001b[1m.\u001b[0m\u001b[1m_run_cell\u001b[0m\u001b[1m(\u001b[0m\n",
      "    \u001b[36m         │    └ \u001b[0m\u001b[36m\u001b[1m<function InteractiveShell._run_cell at 0x000001F35DA06EF0>\u001b[0m\n",
      "    \u001b[36m         └ \u001b[0m\u001b[36m\u001b[1m<ipykernel.zmqshell.ZMQInteractiveShell object at 0x000001F35F01F820>\u001b[0m\n",
      "\n",
      "  File \"\u001b[32mc:\\Users\\chenp\\anaconda3\\envs\\sherpa\\lib\\site-packages\\IPython\\core\\\u001b[0m\u001b[32m\u001b[1minteractiveshell.py\u001b[0m\", line \u001b[33m3130\u001b[0m, in \u001b[35m_run_cell\u001b[0m\n",
      "    \u001b[1mresult\u001b[0m \u001b[35m\u001b[1m=\u001b[0m \u001b[1mrunner\u001b[0m\u001b[1m(\u001b[0m\u001b[1mcoro\u001b[0m\u001b[1m)\u001b[0m\n",
      "    \u001b[36m         │      └ \u001b[0m\u001b[36m\u001b[1m<coroutine object InteractiveShell.run_cell_async at 0x000001F3292C51C0>\u001b[0m\n",
      "    \u001b[36m         └ \u001b[0m\u001b[36m\u001b[1m<function _pseudo_sync_runner at 0x000001F35D9EE830>\u001b[0m\n",
      "\n",
      "  File \"\u001b[32mc:\\Users\\chenp\\anaconda3\\envs\\sherpa\\lib\\site-packages\\IPython\\core\\\u001b[0m\u001b[32m\u001b[1masync_helpers.py\u001b[0m\", line \u001b[33m128\u001b[0m, in \u001b[35m_pseudo_sync_runner\u001b[0m\n",
      "    \u001b[1mcoro\u001b[0m\u001b[35m\u001b[1m.\u001b[0m\u001b[1msend\u001b[0m\u001b[1m(\u001b[0m\u001b[36m\u001b[1mNone\u001b[0m\u001b[1m)\u001b[0m\n",
      "    \u001b[36m│    └ \u001b[0m\u001b[36m\u001b[1m<method 'send' of 'coroutine' objects>\u001b[0m\n",
      "    \u001b[36m└ \u001b[0m\u001b[36m\u001b[1m<coroutine object InteractiveShell.run_cell_async at 0x000001F3292C51C0>\u001b[0m\n",
      "\n",
      "  File \"\u001b[32mc:\\Users\\chenp\\anaconda3\\envs\\sherpa\\lib\\site-packages\\IPython\\core\\\u001b[0m\u001b[32m\u001b[1minteractiveshell.py\u001b[0m\", line \u001b[33m3334\u001b[0m, in \u001b[35mrun_cell_async\u001b[0m\n",
      "    \u001b[1mhas_raised\u001b[0m \u001b[35m\u001b[1m=\u001b[0m \u001b[35m\u001b[1mawait\u001b[0m \u001b[1mself\u001b[0m\u001b[35m\u001b[1m.\u001b[0m\u001b[1mrun_ast_nodes\u001b[0m\u001b[1m(\u001b[0m\u001b[1mcode_ast\u001b[0m\u001b[35m\u001b[1m.\u001b[0m\u001b[1mbody\u001b[0m\u001b[1m,\u001b[0m \u001b[1mcell_name\u001b[0m\u001b[1m,\u001b[0m\n",
      "    \u001b[36m                   │    │             │        │     └ \u001b[0m\u001b[36m\u001b[1m'C:\\\\Users\\\\chenp\\\\AppData\\\\Local\\\\Temp\\\\ipykernel_57568\\\\2227337691.py'\u001b[0m\n",
      "    \u001b[36m                   │    │             │        └ \u001b[0m\u001b[36m\u001b[1m[<ast.Assign object at 0x000001F32859B070>, <ast.Assign object at 0x000001F32859B7C0>, <ast.Assign object at 0x000001F32859B4...\u001b[0m\n",
      "    \u001b[36m                   │    │             └ \u001b[0m\u001b[36m\u001b[1m<ast.Module object at 0x000001F32859B6D0>\u001b[0m\n",
      "    \u001b[36m                   │    └ \u001b[0m\u001b[36m\u001b[1m<function InteractiveShell.run_ast_nodes at 0x000001F35DA071C0>\u001b[0m\n",
      "    \u001b[36m                   └ \u001b[0m\u001b[36m\u001b[1m<ipykernel.zmqshell.ZMQInteractiveShell object at 0x000001F35F01F820>\u001b[0m\n",
      "\n",
      "  File \"\u001b[32mc:\\Users\\chenp\\anaconda3\\envs\\sherpa\\lib\\site-packages\\IPython\\core\\\u001b[0m\u001b[32m\u001b[1minteractiveshell.py\u001b[0m\", line \u001b[33m3517\u001b[0m, in \u001b[35mrun_ast_nodes\u001b[0m\n",
      "    \u001b[35m\u001b[1mif\u001b[0m \u001b[35m\u001b[1mawait\u001b[0m \u001b[1mself\u001b[0m\u001b[35m\u001b[1m.\u001b[0m\u001b[1mrun_code\u001b[0m\u001b[1m(\u001b[0m\u001b[1mcode\u001b[0m\u001b[1m,\u001b[0m \u001b[1mresult\u001b[0m\u001b[1m,\u001b[0m \u001b[1masync_\u001b[0m\u001b[35m\u001b[1m=\u001b[0m\u001b[1masy\u001b[0m\u001b[1m)\u001b[0m\u001b[1m:\u001b[0m\n",
      "    \u001b[36m         │    │        │     │              └ \u001b[0m\u001b[36m\u001b[1mFalse\u001b[0m\n",
      "    \u001b[36m         │    │        │     └ \u001b[0m\u001b[36m\u001b[1m<ExecutionResult object at 1f3287576d0, execution_count=43 error_before_exec=None error_in_exec=None info=<ExecutionInfo obje...\u001b[0m\n",
      "    \u001b[36m         │    │        └ \u001b[0m\u001b[36m\u001b[1m<code object <module> at 0x000001F32942C3A0, file \"C:\\Users\\chenp\\AppData\\Local\\Temp\\ipykernel_57568\\2227337691.py\", line 1>\u001b[0m\n",
      "    \u001b[36m         │    └ \u001b[0m\u001b[36m\u001b[1m<function InteractiveShell.run_code at 0x000001F35DA07250>\u001b[0m\n",
      "    \u001b[36m         └ \u001b[0m\u001b[36m\u001b[1m<ipykernel.zmqshell.ZMQInteractiveShell object at 0x000001F35F01F820>\u001b[0m\n",
      "\n",
      "  File \"\u001b[32mc:\\Users\\chenp\\anaconda3\\envs\\sherpa\\lib\\site-packages\\IPython\\core\\\u001b[0m\u001b[32m\u001b[1minteractiveshell.py\u001b[0m\", line \u001b[33m3577\u001b[0m, in \u001b[35mrun_code\u001b[0m\n",
      "    \u001b[1mexec\u001b[0m\u001b[1m(\u001b[0m\u001b[1mcode_obj\u001b[0m\u001b[1m,\u001b[0m \u001b[1mself\u001b[0m\u001b[35m\u001b[1m.\u001b[0m\u001b[1muser_global_ns\u001b[0m\u001b[1m,\u001b[0m \u001b[1mself\u001b[0m\u001b[35m\u001b[1m.\u001b[0m\u001b[1muser_ns\u001b[0m\u001b[1m)\u001b[0m\n",
      "    \u001b[36m     │         │    │               │    └ \u001b[0m\u001b[36m\u001b[1m{'__name__': '__main__', '__doc__': 'Automatically created module for IPython interactive environment', '__package__': None, ...\u001b[0m\n",
      "    \u001b[36m     │         │    │               └ \u001b[0m\u001b[36m\u001b[1m<ipykernel.zmqshell.ZMQInteractiveShell object at 0x000001F35F01F820>\u001b[0m\n",
      "    \u001b[36m     │         │    └ \u001b[0m\u001b[36m\u001b[1m<property object at 0x000001F35D9EB240>\u001b[0m\n",
      "    \u001b[36m     │         └ \u001b[0m\u001b[36m\u001b[1m<ipykernel.zmqshell.ZMQInteractiveShell object at 0x000001F35F01F820>\u001b[0m\n",
      "    \u001b[36m     └ \u001b[0m\u001b[36m\u001b[1m<code object <module> at 0x000001F32942C3A0, file \"C:\\Users\\chenp\\AppData\\Local\\Temp\\ipykernel_57568\\2227337691.py\", line 1>\u001b[0m\n",
      "\n",
      "  File \"\u001b[32mC:\\Users\\chenp\\AppData\\Local\\Temp\\ipykernel_57568\\\u001b[0m\u001b[32m\u001b[1m2227337691.py\u001b[0m\", line \u001b[33m56\u001b[0m, in \u001b[35m<module>\u001b[0m\n",
      "    \u001b[1magent\u001b[0m\u001b[35m\u001b[1m.\u001b[0m\u001b[1mrun\u001b[0m\u001b[1m(\u001b[0m\u001b[1m)\u001b[0m\n",
      "    \u001b[36m│     └ \u001b[0m\u001b[36m\u001b[1m<function BaseAgent.run at 0x000001F3268AAD40>\u001b[0m\n",
      "    \u001b[36m└ \u001b[0m\u001b[36m\u001b[1mQAAgent(name='QA Agent', description='\\nYou are a question answering assistant helping users to find answers to their questio...\u001b[0m\n",
      "\n",
      "  File \"\u001b[32mD:\\Projects\\sherpa\\src\\sherpa_ai\\agents\\\u001b[0m\u001b[32m\u001b[1mbase.py\u001b[0m\", line \u001b[33m138\u001b[0m, in \u001b[35mrun\u001b[0m\n",
      "    \u001b[1maction_output\u001b[0m \u001b[35m\u001b[1m=\u001b[0m \u001b[1mself\u001b[0m\u001b[35m\u001b[1m.\u001b[0m\u001b[1mact\u001b[0m\u001b[1m(\u001b[0m\u001b[1mresult\u001b[0m\u001b[35m\u001b[1m.\u001b[0m\u001b[1maction\u001b[0m\u001b[1m,\u001b[0m \u001b[1mresult\u001b[0m\u001b[35m\u001b[1m.\u001b[0m\u001b[1margs\u001b[0m\u001b[1m)\u001b[0m\n",
      "    \u001b[36m                │    │   │      │       │      └ \u001b[0m\u001b[36m\u001b[1m{}\u001b[0m\n",
      "    \u001b[36m                │    │   │      │       └ \u001b[0m\u001b[36m\u001b[1mPolicyOutput(action={\u001b[0m\n",
      "    \u001b[36m                │    │   │      │         \u001b[0m\u001b[36m\u001b[1m    \"name\": \"answer\",\u001b[0m\n",
      "    \u001b[36m                │    │   │      │         \u001b[0m\u001b[36m\u001b[1m    \"args\": {},\u001b[0m\n",
      "    \u001b[36m                │    │   │      │         \u001b[0m\u001b[36m\u001b[1m    \"usage\": \". Return the answer when there is enough informatio...\u001b[0m\n",
      "    \u001b[36m                │    │   │      └ \u001b[0m\u001b[36m\u001b[1m{\u001b[0m\n",
      "    \u001b[36m                │    │   │        \u001b[0m\u001b[36m\u001b[1m    \"name\": \"answer\",\u001b[0m\n",
      "    \u001b[36m                │    │   │        \u001b[0m\u001b[36m\u001b[1m    \"args\": {},\u001b[0m\n",
      "    \u001b[36m                │    │   │        \u001b[0m\u001b[36m\u001b[1m    \"usage\": \". Return the answer when there is enough information to answer the ques...\u001b[0m\n",
      "    \u001b[36m                │    │   └ \u001b[0m\u001b[36m\u001b[1mPolicyOutput(action={\u001b[0m\n",
      "    \u001b[36m                │    │     \u001b[0m\u001b[36m\u001b[1m    \"name\": \"answer\",\u001b[0m\n",
      "    \u001b[36m                │    │     \u001b[0m\u001b[36m\u001b[1m    \"args\": {},\u001b[0m\n",
      "    \u001b[36m                │    │     \u001b[0m\u001b[36m\u001b[1m    \"usage\": \". Return the answer when there is enough informatio...\u001b[0m\n",
      "    \u001b[36m                │    └ \u001b[0m\u001b[36m\u001b[1m<function BaseAgent.act at 0x000001F3268AB010>\u001b[0m\n",
      "    \u001b[36m                └ \u001b[0m\u001b[36m\u001b[1mQAAgent(name='QA Agent', description='\\nYou are a question answering assistant helping users to find answers to their questio...\u001b[0m\n",
      "\n",
      "> File \"\u001b[32mD:\\Projects\\sherpa\\src\\sherpa_ai\\agents\\\u001b[0m\u001b[32m\u001b[1mbase.py\u001b[0m\", line \u001b[33m340\u001b[0m, in \u001b[35mact\u001b[0m\n",
      "    \u001b[1maction_output\u001b[0m \u001b[35m\u001b[1m=\u001b[0m \u001b[1maction\u001b[0m\u001b[1m(\u001b[0m\u001b[35m\u001b[1m**\u001b[0m\u001b[1minputs\u001b[0m\u001b[1m)\u001b[0m\n",
      "    \u001b[36m                │        └ \u001b[0m\u001b[36m\u001b[1m{}\u001b[0m\n",
      "    \u001b[36m                └ \u001b[0m\u001b[36m\u001b[1m{\u001b[0m\n",
      "    \u001b[36m                  \u001b[0m\u001b[36m\u001b[1m    \"name\": \"answer\",\u001b[0m\n",
      "    \u001b[36m                  \u001b[0m\u001b[36m\u001b[1m    \"args\": {},\u001b[0m\n",
      "    \u001b[36m                  \u001b[0m\u001b[36m\u001b[1m    \"usage\": \". Return the answer when there is enough information to answer the ques...\u001b[0m\n",
      "\n",
      "  File \"\u001b[32mD:\\Projects\\sherpa\\src\\sherpa_ai\\actions\\\u001b[0m\u001b[32m\u001b[1mbase.py\u001b[0m\", line \u001b[33m160\u001b[0m, in \u001b[35m__call__\u001b[0m\n",
      "    \u001b[1mresult\u001b[0m \u001b[35m\u001b[1m=\u001b[0m \u001b[1mself\u001b[0m\u001b[35m\u001b[1m.\u001b[0m\u001b[1mexecute\u001b[0m\u001b[1m(\u001b[0m\u001b[35m\u001b[1m**\u001b[0m\u001b[1mfiltered_kwargs\u001b[0m\u001b[1m)\u001b[0m\n",
      "    \u001b[36m         │    │         └ \u001b[0m\u001b[36m\u001b[1m{}\u001b[0m\n",
      "    \u001b[36m         │    └ \u001b[0m\u001b[36m\u001b[1m<function DynamicAction.execute at 0x000001F32683E5F0>\u001b[0m\n",
      "    \u001b[36m         └ \u001b[0m\u001b[36m\u001b[1m{\u001b[0m\n",
      "    \u001b[36m           \u001b[0m\u001b[36m\u001b[1m    \"name\": \"answer\",\u001b[0m\n",
      "    \u001b[36m           \u001b[0m\u001b[36m\u001b[1m    \"args\": {},\u001b[0m\n",
      "    \u001b[36m           \u001b[0m\u001b[36m\u001b[1m    \"usage\": \". Return the answer when there is enough information to answer the ques...\u001b[0m\n",
      "\n",
      "  File \"\u001b[32mD:\\Projects\\sherpa\\src\\sherpa_ai\\actions\\\u001b[0m\u001b[32m\u001b[1mdynamic.py\u001b[0m\", line \u001b[33m21\u001b[0m, in \u001b[35mexecute\u001b[0m\n",
      "    \u001b[35m\u001b[1mreturn\u001b[0m \u001b[1mself\u001b[0m\u001b[35m\u001b[1m.\u001b[0m\u001b[1maction\u001b[0m\u001b[1m(\u001b[0m\u001b[35m\u001b[1m**\u001b[0m\u001b[1mkwargs\u001b[0m\u001b[1m)\u001b[0m\n",
      "    \u001b[36m       │    │        └ \u001b[0m\u001b[36m\u001b[1m{}\u001b[0m\n",
      "    \u001b[36m       │    └ \u001b[0m\u001b[36m\u001b[1m<function SherpaStateMachine.transition_to_action.<locals>.wrapper_action at 0x000001F3291E64D0>\u001b[0m\n",
      "    \u001b[36m       └ \u001b[0m\u001b[36m\u001b[1m{\u001b[0m\n",
      "    \u001b[36m         \u001b[0m\u001b[36m\u001b[1m    \"name\": \"answer\",\u001b[0m\n",
      "    \u001b[36m         \u001b[0m\u001b[36m\u001b[1m    \"args\": {},\u001b[0m\n",
      "    \u001b[36m         \u001b[0m\u001b[36m\u001b[1m    \"usage\": \". Return the answer when there is enough information to answer the ques...\u001b[0m\n",
      "\n",
      "  File \"\u001b[32mD:\\Projects\\sherpa\\src\\sherpa_ai\\memory\\\u001b[0m\u001b[32m\u001b[1mstate_machine.py\u001b[0m\", line \u001b[33m231\u001b[0m, in \u001b[35mwrapper_action\u001b[0m\n",
      "    \u001b[1mresult\u001b[0m \u001b[35m\u001b[1m=\u001b[0m \u001b[1mtransit_trigger\u001b[0m\u001b[1m(\u001b[0m\u001b[35m\u001b[1m**\u001b[0m\u001b[1mkwargs\u001b[0m\u001b[1m)\u001b[0m\n",
      "    \u001b[36m         │                 └ \u001b[0m\u001b[36m\u001b[1m{}\u001b[0m\n",
      "    \u001b[36m         └ \u001b[0m\u001b[36m\u001b[1mfunctools.partial(<bound method HierarchicalMachine.trigger_event of <transitions.extensions.diagrams.HierarchicalGraphMachin...\u001b[0m\n",
      "\n",
      "  File \"\u001b[32mc:\\Users\\chenp\\anaconda3\\envs\\sherpa\\lib\\site-packages\\transitions\\extensions\\\u001b[0m\u001b[32m\u001b[1mnesting.py\u001b[0m\", line \u001b[33m905\u001b[0m, in \u001b[35mtrigger_event\u001b[0m\n",
      "    \u001b[35m\u001b[1mreturn\u001b[0m \u001b[1mself\u001b[0m\u001b[35m\u001b[1m.\u001b[0m\u001b[1m_process\u001b[0m\u001b[1m(\u001b[0m\u001b[1mpartial\u001b[0m\u001b[1m(\u001b[0m\u001b[1mself\u001b[0m\u001b[35m\u001b[1m.\u001b[0m\u001b[1m_trigger_event\u001b[0m\u001b[1m,\u001b[0m \u001b[1mevent_data\u001b[0m\u001b[1m,\u001b[0m \u001b[1mtrigger\u001b[0m\u001b[1m)\u001b[0m\u001b[1m)\u001b[0m\n",
      "    \u001b[36m       │    │        │       │    │               │           └ \u001b[0m\u001b[36m\u001b[1m'answer'\u001b[0m\n",
      "    \u001b[36m       │    │        │       │    │               └ \u001b[0m\u001b[36m\u001b[1m<NestedEventData(<NestedEvent('answer')@2143870720928>, <CustomState('Reasoning')@2143878684128>, <CustomTransition('Reasonin...\u001b[0m\n",
      "    \u001b[36m       │    │        │       │    └ \u001b[0m\u001b[36m\u001b[1m<function HierarchicalMachine._trigger_event at 0x000001F32682CEE0>\u001b[0m\n",
      "    \u001b[36m       │    │        │       └ \u001b[0m\u001b[36m\u001b[1m<transitions.extensions.diagrams.HierarchicalGraphMachine object at 0x000001F329208EB0>\u001b[0m\n",
      "    \u001b[36m       │    │        └ \u001b[0m\u001b[36m\u001b[1m<class 'functools.partial'>\u001b[0m\n",
      "    \u001b[36m       │    └ \u001b[0m\u001b[36m\u001b[1m<function Machine._process at 0x000001F321CB7370>\u001b[0m\n",
      "    \u001b[36m       └ \u001b[0m\u001b[36m\u001b[1m<transitions.extensions.diagrams.HierarchicalGraphMachine object at 0x000001F329208EB0>\u001b[0m\n",
      "\n",
      "  File \"\u001b[32mc:\\Users\\chenp\\anaconda3\\envs\\sherpa\\lib\\site-packages\\transitions\\\u001b[0m\u001b[32m\u001b[1mcore.py\u001b[0m\", line \u001b[33m1239\u001b[0m, in \u001b[35m_process\u001b[0m\n",
      "    \u001b[35m\u001b[1mreturn\u001b[0m \u001b[1mtrigger\u001b[0m\u001b[1m(\u001b[0m\u001b[1m)\u001b[0m\n",
      "    \u001b[36m       └ \u001b[0m\u001b[36m\u001b[1mfunctools.partial(<bound method HierarchicalMachine._trigger_event of <transitions.extensions.diagrams.HierarchicalGraphMachi...\u001b[0m\n",
      "\n",
      "  File \"\u001b[32mc:\\Users\\chenp\\anaconda3\\envs\\sherpa\\lib\\site-packages\\transitions\\extensions\\\u001b[0m\u001b[32m\u001b[1mnesting.py\u001b[0m\", line \u001b[33m910\u001b[0m, in \u001b[35m_trigger_event\u001b[0m\n",
      "    \u001b[1mres\u001b[0m \u001b[35m\u001b[1m=\u001b[0m \u001b[1mself\u001b[0m\u001b[35m\u001b[1m.\u001b[0m\u001b[1m_trigger_event_nested\u001b[0m\u001b[1m(\u001b[0m\u001b[1mevent_data\u001b[0m\u001b[1m,\u001b[0m \u001b[1mtrigger\u001b[0m\u001b[1m,\u001b[0m \u001b[36m\u001b[1mNone\u001b[0m\u001b[1m)\u001b[0m\n",
      "    \u001b[36m      │    │                     │           └ \u001b[0m\u001b[36m\u001b[1m'answer'\u001b[0m\n",
      "    \u001b[36m      │    │                     └ \u001b[0m\u001b[36m\u001b[1m<NestedEventData(<NestedEvent('answer')@2143870720928>, <CustomState('Reasoning')@2143878684128>, <CustomTransition('Reasonin...\u001b[0m\n",
      "    \u001b[36m      │    └ \u001b[0m\u001b[36m\u001b[1m<function HierarchicalMachine._trigger_event_nested at 0x000001F32682D900>\u001b[0m\n",
      "    \u001b[36m      └ \u001b[0m\u001b[36m\u001b[1m<transitions.extensions.diagrams.HierarchicalGraphMachine object at 0x000001F329208EB0>\u001b[0m\n",
      "\n",
      "  File \"\u001b[32mc:\\Users\\chenp\\anaconda3\\envs\\sherpa\\lib\\site-packages\\transitions\\extensions\\\u001b[0m\u001b[32m\u001b[1mnesting.py\u001b[0m\", line \u001b[33m1261\u001b[0m, in \u001b[35m_trigger_event_nested\u001b[0m\n",
      "    \u001b[1mtmp\u001b[0m \u001b[35m\u001b[1m=\u001b[0m \u001b[1mevent_data\u001b[0m\u001b[35m\u001b[1m.\u001b[0m\u001b[1mevent\u001b[0m\u001b[35m\u001b[1m.\u001b[0m\u001b[1mtrigger_nested\u001b[0m\u001b[1m(\u001b[0m\u001b[1mevent_data\u001b[0m\u001b[1m)\u001b[0m\n",
      "    \u001b[36m      │          │     │              └ \u001b[0m\u001b[36m\u001b[1m<NestedEventData(<NestedEvent('answer')@2143870720928>, <CustomState('Reasoning')@2143878684128>, <CustomTransition('Reasonin...\u001b[0m\n",
      "    \u001b[36m      │          │     └ \u001b[0m\u001b[36m\u001b[1m<function NestedEvent.trigger_nested at 0x000001F3267FCCA0>\u001b[0m\n",
      "    \u001b[36m      │          └ \u001b[0m\u001b[36m\u001b[1m<NestedEvent('answer')@2143870720928>\u001b[0m\n",
      "    \u001b[36m      └ \u001b[0m\u001b[36m\u001b[1m<NestedEventData(<NestedEvent('answer')@2143870720928>, <CustomState('Reasoning')@2143878684128>, <CustomTransition('Reasonin...\u001b[0m\n",
      "\n",
      "  File \"\u001b[32mc:\\Users\\chenp\\anaconda3\\envs\\sherpa\\lib\\site-packages\\transitions\\extensions\\\u001b[0m\u001b[32m\u001b[1mnesting.py\u001b[0m\", line \u001b[33m134\u001b[0m, in \u001b[35mtrigger_nested\u001b[0m\n",
      "    \u001b[1mself\u001b[0m\u001b[35m\u001b[1m.\u001b[0m\u001b[1m_process\u001b[0m\u001b[1m(\u001b[0m\u001b[1mevent_data\u001b[0m\u001b[1m)\u001b[0m\n",
      "    \u001b[36m│    │        └ \u001b[0m\u001b[36m\u001b[1m<NestedEventData(<NestedEvent('answer')@2143870720928>, <CustomState('Reasoning')@2143878684128>, <CustomTransition('Reasonin...\u001b[0m\n",
      "    \u001b[36m│    └ \u001b[0m\u001b[36m\u001b[1m<function NestedEvent._process at 0x000001F3267FD750>\u001b[0m\n",
      "    \u001b[36m└ \u001b[0m\u001b[36m\u001b[1m<NestedEvent('answer')@2143870720928>\u001b[0m\n",
      "\n",
      "  File \"\u001b[32mc:\\Users\\chenp\\anaconda3\\envs\\sherpa\\lib\\site-packages\\transitions\\extensions\\\u001b[0m\u001b[32m\u001b[1mnesting.py\u001b[0m\", line \u001b[33m148\u001b[0m, in \u001b[35m_process\u001b[0m\n",
      "    \u001b[1mevent_data\u001b[0m\u001b[35m\u001b[1m.\u001b[0m\u001b[1mresult\u001b[0m \u001b[35m\u001b[1m=\u001b[0m \u001b[1mtrans\u001b[0m\u001b[35m\u001b[1m.\u001b[0m\u001b[1mexecute\u001b[0m\u001b[1m(\u001b[0m\u001b[1mevent_data\u001b[0m\u001b[1m)\u001b[0m\n",
      "    \u001b[36m│          │        │     │       └ \u001b[0m\u001b[36m\u001b[1m<NestedEventData(<NestedEvent('answer')@2143870720928>, <CustomState('Reasoning')@2143878684128>, <CustomTransition('Reasonin...\u001b[0m\n",
      "    \u001b[36m│          │        │     └ \u001b[0m\u001b[36m\u001b[1m<function Transition.execute at 0x000001F321CB51B0>\u001b[0m\n",
      "    \u001b[36m│          │        └ \u001b[0m\u001b[36m\u001b[1m<CustomTransition('Reasoning', 'Finish')@2143870716320>\u001b[0m\n",
      "    \u001b[36m│          └ \u001b[0m\u001b[36m\u001b[1mNone\u001b[0m\n",
      "    \u001b[36m└ \u001b[0m\u001b[36m\u001b[1m<NestedEventData(<NestedEvent('answer')@2143870720928>, <CustomState('Reasoning')@2143878684128>, <CustomTransition('Reasonin...\u001b[0m\n",
      "\n",
      "  File \"\u001b[32mc:\\Users\\chenp\\anaconda3\\envs\\sherpa\\lib\\site-packages\\transitions\\\u001b[0m\u001b[32m\u001b[1mcore.py\u001b[0m\", line \u001b[33m274\u001b[0m, in \u001b[35mexecute\u001b[0m\n",
      "    \u001b[1mevent_data\u001b[0m\u001b[35m\u001b[1m.\u001b[0m\u001b[1mmachine\u001b[0m\u001b[35m\u001b[1m.\u001b[0m\u001b[1mcallbacks\u001b[0m\u001b[1m(\u001b[0m\u001b[1mitertools\u001b[0m\u001b[35m\u001b[1m.\u001b[0m\u001b[1mchain\u001b[0m\u001b[1m(\u001b[0m\u001b[1mevent_data\u001b[0m\u001b[35m\u001b[1m.\u001b[0m\u001b[1mmachine\u001b[0m\u001b[35m\u001b[1m.\u001b[0m\u001b[1mbefore_state_change\u001b[0m\u001b[1m,\u001b[0m \u001b[1mself\u001b[0m\u001b[35m\u001b[1m.\u001b[0m\u001b[1mbefore\u001b[0m\u001b[1m)\u001b[0m\u001b[1m,\u001b[0m \u001b[1mevent_data\u001b[0m\u001b[1m)\u001b[0m\n",
      "    \u001b[36m│          │       │         │         │     │          │       │                    │    │        └ \u001b[0m\u001b[36m\u001b[1m<NestedEventData(<NestedEvent('answer')@2143870720928>, <CustomState('Reasoning')@2143878684128>, <CustomTransition('Reasonin...\u001b[0m\n",
      "    \u001b[36m│          │       │         │         │     │          │       │                    │    └ \u001b[0m\u001b[36m\u001b[1m['answer_action']\u001b[0m\n",
      "    \u001b[36m│          │       │         │         │     │          │       │                    └ \u001b[0m\u001b[36m\u001b[1m<CustomTransition('Reasoning', 'Finish')@2143870716320>\u001b[0m\n",
      "    \u001b[36m│          │       │         │         │     │          │       └ \u001b[0m\u001b[36m\u001b[1m<property object at 0x000001F321CC0450>\u001b[0m\n",
      "    \u001b[36m│          │       │         │         │     │          └ \u001b[0m\u001b[36m\u001b[1m<transitions.extensions.diagrams.HierarchicalGraphMachine object at 0x000001F329208EB0>\u001b[0m\n",
      "    \u001b[36m│          │       │         │         │     └ \u001b[0m\u001b[36m\u001b[1m<NestedEventData(<NestedEvent('answer')@2143870720928>, <CustomState('Reasoning')@2143878684128>, <CustomTransition('Reasonin...\u001b[0m\n",
      "    \u001b[36m│          │       │         │         └ \u001b[0m\u001b[36m\u001b[1m<class 'itertools.chain'>\u001b[0m\n",
      "    \u001b[36m│          │       │         └ \u001b[0m\u001b[36m\u001b[1m<module 'itertools' (built-in)>\u001b[0m\n",
      "    \u001b[36m│          │       └ \u001b[0m\u001b[36m\u001b[1m<function Machine.callbacks at 0x000001F321CB7130>\u001b[0m\n",
      "    \u001b[36m│          └ \u001b[0m\u001b[36m\u001b[1m<transitions.extensions.diagrams.HierarchicalGraphMachine object at 0x000001F329208EB0>\u001b[0m\n",
      "    \u001b[36m└ \u001b[0m\u001b[36m\u001b[1m<NestedEventData(<NestedEvent('answer')@2143870720928>, <CustomState('Reasoning')@2143878684128>, <CustomTransition('Reasonin...\u001b[0m\n",
      "\n",
      "  File \"\u001b[32mc:\\Users\\chenp\\anaconda3\\envs\\sherpa\\lib\\site-packages\\transitions\\\u001b[0m\u001b[32m\u001b[1mcore.py\u001b[0m\", line \u001b[33m1174\u001b[0m, in \u001b[35mcallbacks\u001b[0m\n",
      "    \u001b[1mself\u001b[0m\u001b[35m\u001b[1m.\u001b[0m\u001b[1mcallback\u001b[0m\u001b[1m(\u001b[0m\u001b[1mfunc\u001b[0m\u001b[1m,\u001b[0m \u001b[1mevent_data\u001b[0m\u001b[1m)\u001b[0m\n",
      "    \u001b[36m│    │        │     └ \u001b[0m\u001b[36m\u001b[1m<NestedEventData(<NestedEvent('answer')@2143870720928>, <CustomState('Reasoning')@2143878684128>, <CustomTransition('Reasonin...\u001b[0m\n",
      "    \u001b[36m│    │        └ \u001b[0m\u001b[36m\u001b[1m'answer_action'\u001b[0m\n",
      "    \u001b[36m│    └ \u001b[0m\u001b[36m\u001b[1m<function Machine.callback at 0x000001F321CB71C0>\u001b[0m\n",
      "    \u001b[36m└ \u001b[0m\u001b[36m\u001b[1m<transitions.extensions.diagrams.HierarchicalGraphMachine object at 0x000001F329208EB0>\u001b[0m\n",
      "\n",
      "  File \"\u001b[32mc:\\Users\\chenp\\anaconda3\\envs\\sherpa\\lib\\site-packages\\transitions\\\u001b[0m\u001b[32m\u001b[1mcore.py\u001b[0m\", line \u001b[33m1195\u001b[0m, in \u001b[35mcallback\u001b[0m\n",
      "    \u001b[1mfunc\u001b[0m\u001b[1m(\u001b[0m\u001b[35m\u001b[1m*\u001b[0m\u001b[1mevent_data\u001b[0m\u001b[35m\u001b[1m.\u001b[0m\u001b[1margs\u001b[0m\u001b[1m,\u001b[0m \u001b[35m\u001b[1m**\u001b[0m\u001b[1mevent_data\u001b[0m\u001b[35m\u001b[1m.\u001b[0m\u001b[1mkwargs\u001b[0m\u001b[1m)\u001b[0m\n",
      "    \u001b[36m│     │          │       │          └ \u001b[0m\u001b[36m\u001b[1m{}\u001b[0m\n",
      "    \u001b[36m│     │          │       └ \u001b[0m\u001b[36m\u001b[1m<NestedEventData(<NestedEvent('answer')@2143870720928>, <CustomState('Reasoning')@2143878684128>, <CustomTransition('Reasonin...\u001b[0m\n",
      "    \u001b[36m│     │          └ \u001b[0m\u001b[36m\u001b[1m()\u001b[0m\n",
      "    \u001b[36m│     └ \u001b[0m\u001b[36m\u001b[1m<NestedEventData(<NestedEvent('answer')@2143870720928>, <CustomState('Reasoning')@2143878684128>, <CustomTransition('Reasonin...\u001b[0m\n",
      "    \u001b[36m└ \u001b[0m\u001b[36m\u001b[1m{\u001b[0m\n",
      "    \u001b[36m  \u001b[0m\u001b[36m\u001b[1m    \"name\": \"answer\",\u001b[0m\n",
      "    \u001b[36m  \u001b[0m\u001b[36m\u001b[1m    \"args\": {},\u001b[0m\n",
      "    \u001b[36m  \u001b[0m\u001b[36m\u001b[1m    \"usage\": \"Return the answer when there is enough information to answer the questi...\u001b[0m\n",
      "\n",
      "  File \"\u001b[32mD:\\Projects\\sherpa\\src\\sherpa_ai\\actions\\\u001b[0m\u001b[32m\u001b[1mbase.py\u001b[0m\", line \u001b[33m160\u001b[0m, in \u001b[35m__call__\u001b[0m\n",
      "    \u001b[1mresult\u001b[0m \u001b[35m\u001b[1m=\u001b[0m \u001b[1mself\u001b[0m\u001b[35m\u001b[1m.\u001b[0m\u001b[1mexecute\u001b[0m\u001b[1m(\u001b[0m\u001b[35m\u001b[1m**\u001b[0m\u001b[1mfiltered_kwargs\u001b[0m\u001b[1m)\u001b[0m\n",
      "    \u001b[36m         │    │         └ \u001b[0m\u001b[36m\u001b[1m{}\u001b[0m\n",
      "    \u001b[36m         │    └ \u001b[0m\u001b[36m\u001b[1m<function GenerateOutput.execute at 0x000001F32673B490>\u001b[0m\n",
      "    \u001b[36m         └ \u001b[0m\u001b[36m\u001b[1m{\u001b[0m\n",
      "    \u001b[36m           \u001b[0m\u001b[36m\u001b[1m    \"name\": \"answer\",\u001b[0m\n",
      "    \u001b[36m           \u001b[0m\u001b[36m\u001b[1m    \"args\": {},\u001b[0m\n",
      "    \u001b[36m           \u001b[0m\u001b[36m\u001b[1m    \"usage\": \"Return the answer when there is enough information to answer the questi...\u001b[0m\n",
      "\n",
      "  File \"\u001b[32md:\\Projects\\Sherpa4Modeling\\experiments\\clevr-human\\react\\\u001b[0m\u001b[32m\u001b[1mactions.py\u001b[0m\", line \u001b[33m199\u001b[0m, in \u001b[35mexecute\u001b[0m\n",
      "    \u001b[35m\u001b[1mreturn\u001b[0m \u001b[1mself\u001b[0m\u001b[35m\u001b[1m.\u001b[0m\u001b[1mtransform_output\u001b[0m\u001b[1m(\u001b[0m\u001b[1mresult\u001b[0m\u001b[1m)\u001b[0m\n",
      "    \u001b[36m       │    │                └ \u001b[0m\u001b[36m\u001b[1m'To answer the question, we need to compare the number of shiny gold objects with the number of yellow objects in the scene.\\...\u001b[0m\n",
      "    \u001b[36m       │    └ \u001b[0m\u001b[36m\u001b[1m<function GenerateOutput.transform_output at 0x000001F32673BBE0>\u001b[0m\n",
      "    \u001b[36m       └ \u001b[0m\u001b[36m\u001b[1m{\u001b[0m\n",
      "    \u001b[36m         \u001b[0m\u001b[36m\u001b[1m    \"name\": \"answer\",\u001b[0m\n",
      "    \u001b[36m         \u001b[0m\u001b[36m\u001b[1m    \"args\": {},\u001b[0m\n",
      "    \u001b[36m         \u001b[0m\u001b[36m\u001b[1m    \"usage\": \"Return the answer when there is enough information to answer the questi...\u001b[0m\n",
      "\n",
      "  File \"\u001b[32md:\\Projects\\Sherpa4Modeling\\experiments\\clevr-human\\react\\\u001b[0m\u001b[32m\u001b[1mactions.py\u001b[0m\", line \u001b[33m173\u001b[0m, in \u001b[35mtransform_output\u001b[0m\n",
      "    \u001b[35m\u001b[1mreturn\u001b[0m \u001b[1mjson\u001b[0m\u001b[35m\u001b[1m.\u001b[0m\u001b[1mloads\u001b[0m\u001b[1m(\u001b[0m\u001b[1mmatch\u001b[0m\u001b[35m\u001b[1m.\u001b[0m\u001b[1mgroup\u001b[0m\u001b[1m(\u001b[0m\u001b[34m\u001b[1m1\u001b[0m\u001b[1m)\u001b[0m\u001b[1m)\u001b[0m\n",
      "    \u001b[36m       │    │     │     └ \u001b[0m\u001b[36m\u001b[1m<method 'group' of 're.Match' objects>\u001b[0m\n",
      "    \u001b[36m       │    │     └ \u001b[0m\u001b[36m\u001b[1m<re.Match object; span=(231, 763), match='{\\'material\\': \\'metal\\', \\'color\\': \\'gold\\'}`) >\u001b[0m\n",
      "    \u001b[36m       │    └ \u001b[0m\u001b[36m\u001b[1m<function loads at 0x000001F35ADCF370>\u001b[0m\n",
      "    \u001b[36m       └ \u001b[0m\u001b[36m\u001b[1m<module 'json' from 'c:\\\\Users\\\\chenp\\\\anaconda3\\\\envs\\\\sherpa\\\\lib\\\\json\\\\__init__.py'>\u001b[0m\n",
      "\n",
      "  File \"\u001b[32mc:\\Users\\chenp\\anaconda3\\envs\\sherpa\\lib\\json\\\u001b[0m\u001b[32m\u001b[1m__init__.py\u001b[0m\", line \u001b[33m346\u001b[0m, in \u001b[35mloads\u001b[0m\n",
      "    \u001b[35m\u001b[1mreturn\u001b[0m \u001b[1m_default_decoder\u001b[0m\u001b[35m\u001b[1m.\u001b[0m\u001b[1mdecode\u001b[0m\u001b[1m(\u001b[0m\u001b[1ms\u001b[0m\u001b[1m)\u001b[0m\n",
      "    \u001b[36m       │                │      └ \u001b[0m\u001b[36m\u001b[1m'{\\'material\\': \\'metal\\', \\'color\\': \\'gold\\'}`) resulted in no observations, meaning there are **0 shiny gold objects**.\\n\\...\u001b[0m\n",
      "    \u001b[36m       │                └ \u001b[0m\u001b[36m\u001b[1m<function JSONDecoder.decode at 0x000001F35ADCEC20>\u001b[0m\n",
      "    \u001b[36m       └ \u001b[0m\u001b[36m\u001b[1m<json.decoder.JSONDecoder object at 0x000001F35ADC6110>\u001b[0m\n",
      "\n",
      "  File \"\u001b[32mc:\\Users\\chenp\\anaconda3\\envs\\sherpa\\lib\\json\\\u001b[0m\u001b[32m\u001b[1mdecoder.py\u001b[0m\", line \u001b[33m337\u001b[0m, in \u001b[35mdecode\u001b[0m\n",
      "    \u001b[1mobj\u001b[0m\u001b[1m,\u001b[0m \u001b[1mend\u001b[0m \u001b[35m\u001b[1m=\u001b[0m \u001b[1mself\u001b[0m\u001b[35m\u001b[1m.\u001b[0m\u001b[1mraw_decode\u001b[0m\u001b[1m(\u001b[0m\u001b[1ms\u001b[0m\u001b[1m,\u001b[0m \u001b[1midx\u001b[0m\u001b[35m\u001b[1m=\u001b[0m\u001b[1m_w\u001b[0m\u001b[1m(\u001b[0m\u001b[1ms\u001b[0m\u001b[1m,\u001b[0m \u001b[34m\u001b[1m0\u001b[0m\u001b[1m)\u001b[0m\u001b[35m\u001b[1m.\u001b[0m\u001b[1mend\u001b[0m\u001b[1m(\u001b[0m\u001b[1m)\u001b[0m\u001b[1m)\u001b[0m\n",
      "    \u001b[36m           │    │          │      │  └ \u001b[0m\u001b[36m\u001b[1m'{\\'material\\': \\'metal\\', \\'color\\': \\'gold\\'}`) resulted in no observations, meaning there are **0 shiny gold objects**.\\n\\...\u001b[0m\n",
      "    \u001b[36m           │    │          │      └ \u001b[0m\u001b[36m\u001b[1m<built-in method match of re.Pattern object at 0x000001F35ADD82B0>\u001b[0m\n",
      "    \u001b[36m           │    │          └ \u001b[0m\u001b[36m\u001b[1m'{\\'material\\': \\'metal\\', \\'color\\': \\'gold\\'}`) resulted in no observations, meaning there are **0 shiny gold objects**.\\n\\...\u001b[0m\n",
      "    \u001b[36m           │    └ \u001b[0m\u001b[36m\u001b[1m<function JSONDecoder.raw_decode at 0x000001F35ADCECB0>\u001b[0m\n",
      "    \u001b[36m           └ \u001b[0m\u001b[36m\u001b[1m<json.decoder.JSONDecoder object at 0x000001F35ADC6110>\u001b[0m\n",
      "\n",
      "  File \"\u001b[32mc:\\Users\\chenp\\anaconda3\\envs\\sherpa\\lib\\json\\\u001b[0m\u001b[32m\u001b[1mdecoder.py\u001b[0m\", line \u001b[33m353\u001b[0m, in \u001b[35mraw_decode\u001b[0m\n",
      "    \u001b[1mobj\u001b[0m\u001b[1m,\u001b[0m \u001b[1mend\u001b[0m \u001b[35m\u001b[1m=\u001b[0m \u001b[1mself\u001b[0m\u001b[35m\u001b[1m.\u001b[0m\u001b[1mscan_once\u001b[0m\u001b[1m(\u001b[0m\u001b[1ms\u001b[0m\u001b[1m,\u001b[0m \u001b[1midx\u001b[0m\u001b[1m)\u001b[0m\n",
      "    \u001b[36m           │    │         │  └ \u001b[0m\u001b[36m\u001b[1m0\u001b[0m\n",
      "    \u001b[36m           │    │         └ \u001b[0m\u001b[36m\u001b[1m'{\\'material\\': \\'metal\\', \\'color\\': \\'gold\\'}`) resulted in no observations, meaning there are **0 shiny gold objects**.\\n\\...\u001b[0m\n",
      "    \u001b[36m           │    └ \u001b[0m\u001b[36m\u001b[1m<_json.Scanner object at 0x000001F35AD9A560>\u001b[0m\n",
      "    \u001b[36m           └ \u001b[0m\u001b[36m\u001b[1m<json.decoder.JSONDecoder object at 0x000001F35ADC6110>\u001b[0m\n",
      "\n",
      "\u001b[31m\u001b[1mjson.decoder.JSONDecodeError\u001b[0m:\u001b[1m Expecting property name enclosed in double quotes: line 1 column 2 (char 1)\u001b[0m\n"
     ]
    }
   ],
   "source": [
    "results = []\n",
    "\n",
    "AGENT_DESCRIPTION = \"\"\"\n",
    "You are a question answering assistant helping users to find answers to their questions based on a specific scene.\n",
    "Each object in the scene contain the following properties: color, size, shape, material, and a unique identifier.\n",
    "The properties are from a fixed set of values:\n",
    "– Size: One of large or small.\n",
    "– Color: One of gray, red, blue, green, brown, purple, cyan, or yellow.\n",
    "– Shape: One of cube (block), sphere, or cylinder.\n",
    "– Material: One of rubber (matte) or metal (shinning).\n",
    "- Unique identifier: The index of the object in the scene, starting from 0.\n",
    "\n",
    "Scene: {scene}\n",
    "\n",
    "Objects in the scene also have the following relationships: left, right, front or behind.\n",
    "\n",
    "Use the available actions to interact with the scene and collect information to answer the question.\n",
    "When provide action arguments, ONLY use the values from the fixed set of values above.\n",
    "\"\"\"\n",
    "\n",
    "use_scene = True\n",
    "\n",
    "for sample in tqdm(dataset.select(range(100))):\n",
    "    scene = sample[\"scene\"]\n",
    "    test_question = sample[\"question\"]\n",
    "\n",
    "    belief = Belief()\n",
    "    action_map = get_actions(belief, llm)\n",
    "    add_state_machine(belief, action_map)\n",
    "\n",
    "    belief.set(\"scene\", scene)\n",
    "    if use_scene:\n",
    "        belief.set(\"agent_scene\", scene)\n",
    "\n",
    "    agent_description = AGENT_DESCRIPTION.format(scene=scene)\n",
    "\n",
    "    policy = ReactPolicy(\n",
    "        role_description=agent_description,\n",
    "        output_instruction=\"Output the answer to the question.\",\n",
    "        llm=llm,\n",
    "    )\n",
    "\n",
    "    agent = QAAgent(\n",
    "        llm=llm,\n",
    "        belief=belief,\n",
    "        description=agent_description,\n",
    "        num_runs=10,\n",
    "        policy=policy,\n",
    "    )\n",
    "\n",
    "    belief.set_current_task(\n",
    "        Event(\n",
    "            EventType.task, \"user\", f\"Answer the question: {test_question}.\"\n",
    "        )\n",
    "    )\n",
    "    agent.run()\n",
    "\n",
    "    if belief.state_machine.state != \"Finish\":\n",
    "        belief.state_machine.answer()\n",
    "\n",
    "    result = [str(event) for event in belief.internal_events]\n",
    "    answer = belief.get(\"answer_action\", \"No answer found.\")\n",
    "    results.append((result, answer))"
   ]
  },
  {
   "cell_type": "code",
   "execution_count": 29,
   "metadata": {},
   "outputs": [],
   "source": [
    "real_answers = [q[\"answer\"] for q in dataset]"
   ]
  },
  {
   "cell_type": "code",
   "execution_count": 42,
   "metadata": {},
   "outputs": [
    {
     "data": {
      "text/plain": [
       "([\"filter_with_attribute: EventType.action - Action: filter_with_attribute starts, Args: {'attributes': {'color': 'green', 'shape': 'cube'}}\",\n",
       "  'filter_with_attribute: EventType.action_output - Action: filter_with_attribute finishes, Observation: []',\n",
       "  'answer: EventType.action - Action: answer starts, Args: {}',\n",
       "  \"answer: EventType.action_output - Action: answer finishes, Observation: {'answer': 0}\"],\n",
       " {'answer': 0})"
      ]
     },
     "execution_count": 42,
     "metadata": {},
     "output_type": "execute_result"
    }
   ],
   "source": [
    "results[1]"
   ]
  },
  {
   "cell_type": "code",
   "execution_count": 44,
   "metadata": {},
   "outputs": [],
   "source": [
    "predicted_answers = []\n",
    "\n",
    "for result in results:\n",
    "    if type(result[1]) == str:\n",
    "        predicted_answers.append(result[1])\n",
    "    else:\n",
    "        predicted_answers.append(result[1][\"answer\"])"
   ]
  },
  {
   "cell_type": "code",
   "execution_count": 45,
   "metadata": {},
   "outputs": [
    {
     "name": "stdout",
     "output_type": "stream",
     "text": [
      "100 85 0.85\n"
     ]
    }
   ],
   "source": [
    "correct = [1 if str(p) == str(a) else 0 for p, a in zip(predicted_answers, real_answers)]\n",
    "print(len(correct), sum(correct), sum(correct) / len(correct))"
   ]
  },
  {
   "cell_type": "code",
   "execution_count": 46,
   "metadata": {},
   "outputs": [],
   "source": [
    "df = pd.DataFrame({\n",
    "    \"predicted\": [r[1] for r in results],\n",
    "    \"reasoning\": [r[0] for r in results],\n",
    "    \"actual\": real_answers\n",
    "})\n",
    "\n",
    "df.to_csv(f\"react_results_{model_name}.csv\", index=False)"
   ]
  },
  {
   "cell_type": "code",
   "execution_count": 6,
   "metadata": {},
   "outputs": [],
   "source": [
    "results_dict = []\n",
    "for log, question in results:\n",
    "    results_dict.append({\n",
    "        \"log\": log,\n",
    "        \"question\": question\n",
    "    })\n",
    "\n",
    "df = pd.DataFrame(results_dict)\n",
    "df.to_csv(\"results_react_gpt-4o.csv\", index=False)"
   ]
  },
  {
   "cell_type": "code",
   "execution_count": null,
   "metadata": {},
   "outputs": [
    {
     "data": {
      "text/plain": [
       "['count_all_objects: EventType.action - Action: count_all_objects starts, Args: {}',\n",
       " 'count_all_objects: EventType.action_output - Action: count_all_objects finishes, Observation: 10',\n",
       " \"filter_with_attribute: EventType.action - Action: filter_with_attribute starts, Args: {'object_ids': [], 'attribute': 'material', 'value': 'rubber'}\",\n",
       " 'filter_with_attribute: EventType.action_output - Action: filter_with_attribute finishes, Observation: [3, 5, 6, 7, 9]',\n",
       " \"filter_with_attribute: EventType.action - Action: filter_with_attribute starts, Args: {'object_ids': [], 'attribute': 'material', 'value': 'metal'}\",\n",
       " 'filter_with_attribute: EventType.action_output - Action: filter_with_attribute finishes, Observation: [0, 1, 2, 4, 8]',\n",
       " \"answer: EventType.action - Action: answer starts, Args: {'answer': 'No, there are more matte objects than shiny objects.'}\",\n",
       " 'answer: EventType.action_output - Action: answer finishes, Observation: No, there are more matte objects than shiny objects.']"
      ]
     },
     "execution_count": 20,
     "metadata": {},
     "output_type": "execute_result"
    }
   ],
   "source": []
  },
  {
   "cell_type": "code",
   "execution_count": null,
   "metadata": {},
   "outputs": [
    {
     "name": "stdout",
     "output_type": "stream",
     "text": [
      "how many cylinders are there that are in front of a green cube?\n"
     ]
    }
   ],
   "source": [
    "print(test_question['question'])"
   ]
  },
  {
   "cell_type": "code",
   "execution_count": 11,
   "metadata": {},
   "outputs": [],
   "source": []
  },
  {
   "cell_type": "code",
   "execution_count": 12,
   "metadata": {},
   "outputs": [
    {
     "name": "stderr",
     "output_type": "stream",
     "text": [
      "\u001b[32m2024-10-15 23:41:24.088\u001b[0m | \u001b[33m\u001b[1mWARNING \u001b[0m | \u001b[36msherpa_ai.agents.base\u001b[0m:\u001b[36mrun\u001b[0m:\u001b[36m96\u001b[0m - \u001b[33m\u001b[1m```start\n",
      " Input: {}...```\u001b[0m\n",
      "c:\\Users\\chenp\\anaconda3\\envs\\sherpa\\lib\\site-packages\\langchain_core\\_api\\deprecation.py:141: LangChainDeprecationWarning: The method `BaseChatModel.predict` was deprecated in langchain-core 0.1.7 and will be removed in 1.0. Use invoke instead.\n",
      "  warn_deprecated(\n",
      "\u001b[32m2024-10-15 23:41:26.803\u001b[0m | \u001b[33m\u001b[1mWARNING \u001b[0m | \u001b[36msherpa_ai.agents.base\u001b[0m:\u001b[36mrun\u001b[0m:\u001b[36m96\u001b[0m - \u001b[33m\u001b[1m```filter_with_attribute\n",
      " Input: {'object_ids': [], 'attribute': 'shape', 'value': 'cylinder'}...```\u001b[0m\n",
      "\u001b[32m2024-10-15 23:41:26.804\u001b[0m | \u001b[33m\u001b[1mWARNING \u001b[0m | \u001b[36msherpa_ai.actions.base\u001b[0m:\u001b[36m__call__\u001b[0m:\u001b[36m150\u001b[0m - \u001b[33m\u001b[1mAction output: [0, 5, 6, 8, 9]\u001b[0m\n",
      "\u001b[32m2024-10-15 23:41:29.358\u001b[0m | \u001b[33m\u001b[1mWARNING \u001b[0m | \u001b[36msherpa_ai.agents.base\u001b[0m:\u001b[36mrun\u001b[0m:\u001b[36m96\u001b[0m - \u001b[33m\u001b[1m```get_related_objects\n",
      " Input: {'object_id': 8, 'relation': 'front'}...```\u001b[0m\n",
      "\u001b[32m2024-10-15 23:41:29.359\u001b[0m | \u001b[33m\u001b[1mWARNING \u001b[0m | \u001b[36msherpa_ai.actions.base\u001b[0m:\u001b[36m__call__\u001b[0m:\u001b[36m150\u001b[0m - \u001b[33m\u001b[1mAction output: [0, 1, 2, 3, 5, 6, 7, 9]\u001b[0m\n",
      "\u001b[32m2024-10-15 23:41:34.642\u001b[0m | \u001b[33m\u001b[1mWARNING \u001b[0m | \u001b[36msherpa_ai.agents.base\u001b[0m:\u001b[36mrun\u001b[0m:\u001b[36m96\u001b[0m - \u001b[33m\u001b[1m```filter_with_attribute\n",
      " Input: {'object_ids': [0, 5, 6, 8, 9], 'attribute': 'color', 'value': 'green'}...```\u001b[0m\n",
      "\u001b[32m2024-10-15 23:41:34.643\u001b[0m | \u001b[33m\u001b[1mWARNING \u001b[0m | \u001b[36msherpa_ai.actions.base\u001b[0m:\u001b[36m__call__\u001b[0m:\u001b[36m150\u001b[0m - \u001b[33m\u001b[1mAction output: [8]\u001b[0m\n",
      "\u001b[32m2024-10-15 23:41:36.059\u001b[0m | \u001b[33m\u001b[1mWARNING \u001b[0m | \u001b[36msherpa_ai.agents.base\u001b[0m:\u001b[36mrun\u001b[0m:\u001b[36m96\u001b[0m - \u001b[33m\u001b[1m```count_all_objects\n",
      " Input: {}...```\u001b[0m\n",
      "\u001b[32m2024-10-15 23:41:36.060\u001b[0m | \u001b[33m\u001b[1mWARNING \u001b[0m | \u001b[36msherpa_ai.actions.base\u001b[0m:\u001b[36m__call__\u001b[0m:\u001b[36m150\u001b[0m - \u001b[33m\u001b[1mAction output: 10\u001b[0m\n",
      "\u001b[32m2024-10-15 23:41:37.490\u001b[0m | \u001b[33m\u001b[1mWARNING \u001b[0m | \u001b[36msherpa_ai.agents.base\u001b[0m:\u001b[36mrun\u001b[0m:\u001b[36m96\u001b[0m - \u001b[33m\u001b[1m```count_all_objects\n",
      " Input: {}...```\u001b[0m\n",
      "\u001b[32m2024-10-15 23:41:37.492\u001b[0m | \u001b[33m\u001b[1mWARNING \u001b[0m | \u001b[36msherpa_ai.actions.base\u001b[0m:\u001b[36m__call__\u001b[0m:\u001b[36m150\u001b[0m - \u001b[33m\u001b[1mAction output: 10\u001b[0m\n",
      "\u001b[32m2024-10-15 23:41:39.400\u001b[0m | \u001b[33m\u001b[1mWARNING \u001b[0m | \u001b[36msherpa_ai.agents.base\u001b[0m:\u001b[36mrun\u001b[0m:\u001b[36m96\u001b[0m - \u001b[33m\u001b[1m```get_related_objects\n",
      " Input: {'object_id': 8, 'relation': 'front'}...```\u001b[0m\n",
      "\u001b[32m2024-10-15 23:41:39.401\u001b[0m | \u001b[33m\u001b[1mWARNING \u001b[0m | \u001b[36msherpa_ai.actions.base\u001b[0m:\u001b[36m__call__\u001b[0m:\u001b[36m150\u001b[0m - \u001b[33m\u001b[1mAction output: [0, 1, 2, 3, 5, 6, 7, 9]\u001b[0m\n",
      "\u001b[32m2024-10-15 23:41:40.897\u001b[0m | \u001b[33m\u001b[1mWARNING \u001b[0m | \u001b[36msherpa_ai.agents.base\u001b[0m:\u001b[36mrun\u001b[0m:\u001b[36m96\u001b[0m - \u001b[33m\u001b[1m```count_all_objects\n",
      " Input: {}...```\u001b[0m\n",
      "\u001b[32m2024-10-15 23:41:40.898\u001b[0m | \u001b[33m\u001b[1mWARNING \u001b[0m | \u001b[36msherpa_ai.actions.base\u001b[0m:\u001b[36m__call__\u001b[0m:\u001b[36m150\u001b[0m - \u001b[33m\u001b[1mAction output: 10\u001b[0m\n",
      "\u001b[32m2024-10-15 23:41:42.606\u001b[0m | \u001b[33m\u001b[1mWARNING \u001b[0m | \u001b[36msherpa_ai.agents.base\u001b[0m:\u001b[36mrun\u001b[0m:\u001b[36m96\u001b[0m - \u001b[33m\u001b[1m```answer\n",
      " Input: {'answer': '2'}...```\u001b[0m\n",
      "\u001b[32m2024-10-15 23:41:42.607\u001b[0m | \u001b[33m\u001b[1mWARNING \u001b[0m | \u001b[36msherpa_ai.actions.base\u001b[0m:\u001b[36m__call__\u001b[0m:\u001b[36m150\u001b[0m - \u001b[33m\u001b[1mAction output: 2\u001b[0m\n"
     ]
    },
    {
     "data": {
      "text/plain": [
       "PolicyOutput(action={\n",
       "    \"name\": \"answer\",\n",
       "    \"args\": {\n",
       "        \"answer\": \"Answer to the question, type: str\"\n",
       "    },\n",
       "    \"usage\": \"Output answer to the question Transit the state from Reasoning to Finish\"\n",
       "}, args={'answer': '2'})"
      ]
     },
     "execution_count": 12,
     "metadata": {},
     "output_type": "execute_result"
    }
   ],
   "source": []
  },
  {
   "cell_type": "code",
   "execution_count": null,
   "metadata": {},
   "outputs": [
    {
     "data": {
      "text/plain": [
       "{'split': 'val',\n",
       " 'image_filename': 'CLEVR_val_003661.png',\n",
       " 'answer': '0',\n",
       " 'question': 'how many cylinders are there that are in front of a green cube?',\n",
       " 'image_index': 3661}"
      ]
     },
     "execution_count": 71,
     "metadata": {},
     "output_type": "execute_result"
    }
   ],
   "source": [
    "test_question"
   ]
  },
  {
   "cell_type": "code",
   "execution_count": null,
   "metadata": {},
   "outputs": [],
   "source": []
  }
 ],
 "metadata": {
  "kernelspec": {
   "display_name": "sherpa",
   "language": "python",
   "name": "python3"
  },
  "language_info": {
   "codemirror_mode": {
    "name": "ipython",
    "version": 3
   },
   "file_extension": ".py",
   "mimetype": "text/x-python",
   "name": "python",
   "nbconvert_exporter": "python",
   "pygments_lexer": "ipython3",
   "version": "3.10.0"
  }
 },
 "nbformat": 4,
 "nbformat_minor": 2
}
