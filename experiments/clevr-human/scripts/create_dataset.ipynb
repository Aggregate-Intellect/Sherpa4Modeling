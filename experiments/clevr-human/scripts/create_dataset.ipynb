{
 "cells": [
  {
   "cell_type": "code",
   "execution_count": 42,
   "metadata": {},
   "outputs": [],
   "source": [
    "import json\n",
    "from datasets import Dataset, load_dataset\n",
    "import pandas as pd"
   ]
  },
  {
   "cell_type": "code",
   "execution_count": 9,
   "metadata": {},
   "outputs": [],
   "source": [
    "dataset_folder = \"../data\"\n",
    "\n",
    "question_file = dataset_folder + \"/filtered_questions.jsonl\"\n",
    "scene_file = dataset_folder + \"/CLEVR_val_scenes.json\""
   ]
  },
  {
   "cell_type": "code",
   "execution_count": 10,
   "metadata": {},
   "outputs": [],
   "source": [
    "questions = []\n",
    "with open(question_file, \"r\") as f:\n",
    "    for line in f:\n",
    "        questions.append(json.loads(line))\n",
    "\n",
    "with open(scene_file, \"r\") as f:\n",
    "    scenes = json.load(f)[\"scenes\"]"
   ]
  },
  {
   "cell_type": "code",
   "execution_count": 14,
   "metadata": {},
   "outputs": [],
   "source": [
    "def process_scene(scene):\n",
    "    if \"image_index\" in scene:\n",
    "        scene.pop(\"image_index\")\n",
    "\n",
    "    for obj in scene[\"objects\"]:\n",
    "        if \"rotation\" in obj:\n",
    "            obj.pop(\"rotation\")\n",
    "        if \"pixel_coords\" in obj:\n",
    "            obj.pop(\"pixel_coords\")\n",
    "        if \"3d_coords\" in obj:\n",
    "            obj.pop(\"3d_coords\")\n",
    "    \n",
    "    if \"image_filename\" in scene:\n",
    "        scene.pop(\"image_filename\")\n",
    "\n",
    "    if \"split\" in scene:\n",
    "        scene.pop(\"split\")\n",
    "\n",
    "    if \"directions\" in scene:\n",
    "        scene.pop(\"directions\")\n",
    "\n",
    "    return scene"
   ]
  },
  {
   "cell_type": "code",
   "execution_count": 36,
   "metadata": {},
   "outputs": [],
   "source": [
    "samples = []\n",
    "for q in questions:\n",
    "    scene = scenes[q[\"image_index\"]]\n",
    "    samples.append({\n",
    "        \"question\": q[\"question\"],\n",
    "        \"answer\": q[\"answer\"],\n",
    "        \"image\": q[\"image_filename\"],\n",
    "        \"scene\": process_scene(scene)\n",
    "    })\n",
    "\n",
    "dataframe = pd.DataFrame(samples)"
   ]
  },
  {
   "cell_type": "code",
   "execution_count": 38,
   "metadata": {},
   "outputs": [],
   "source": [
    "dataset = Dataset.from_pandas(dataframe)"
   ]
  },
  {
   "cell_type": "code",
   "execution_count": 40,
   "metadata": {},
   "outputs": [
    {
     "data": {
      "application/vnd.jupyter.widget-view+json": {
       "model_id": "ef50c3b7c19f45e68acc12f7dc975753",
       "version_major": 2,
       "version_minor": 0
      },
      "text/plain": [
       "Uploading the dataset shards:   0%|          | 0/1 [00:00<?, ?it/s]"
      ]
     },
     "metadata": {},
     "output_type": "display_data"
    },
    {
     "data": {
      "application/vnd.jupyter.widget-view+json": {
       "model_id": "ac7d32ba27b04fa69c380978891f636d",
       "version_major": 2,
       "version_minor": 0
      },
      "text/plain": [
       "Creating parquet from Arrow format:   0%|          | 0/1 [00:00<?, ?ba/s]"
      ]
     },
     "metadata": {},
     "output_type": "display_data"
    },
    {
     "data": {
      "text/plain": [
       "CommitInfo(commit_url='https://huggingface.co/datasets/Dogdays/clevr_subset/commit/853e2177f21a7b215442c540e1a217f768fd674b', commit_message='Upload dataset', commit_description='', oid='853e2177f21a7b215442c540e1a217f768fd674b', pr_url=None, pr_revision=None, pr_num=None)"
      ]
     },
     "execution_count": 40,
     "metadata": {},
     "output_type": "execute_result"
    }
   ],
   "source": [
    "dataset.push_to_hub(\"Dogdays/clevr_subset\", private=True)"
   ]
  },
  {
   "cell_type": "code",
   "execution_count": 45,
   "metadata": {},
   "outputs": [],
   "source": [
    "dataset = load_dataset(\"Dogdays/clevr_subset\", token=True)[\"train\"]"
   ]
  },
  {
   "cell_type": "code",
   "execution_count": 46,
   "metadata": {},
   "outputs": [
    {
     "data": {
      "text/plain": [
       "{'question': \"How many metal objects would there be if you didn't include spheres?\",\n",
       " 'answer': '2',\n",
       " 'image': 'CLEVR_val_002378.png',\n",
       " 'scene': {'objects': [{'color': 'purple',\n",
       "    'material': 'metal',\n",
       "    'shape': 'cube',\n",
       "    'size': 'large'},\n",
       "   {'color': 'purple', 'material': 'rubber', 'shape': 'cube', 'size': 'large'},\n",
       "   {'color': 'yellow',\n",
       "    'material': 'rubber',\n",
       "    'shape': 'sphere',\n",
       "    'size': 'large'},\n",
       "   {'color': 'red', 'material': 'metal', 'shape': 'sphere', 'size': 'small'},\n",
       "   {'color': 'gray',\n",
       "    'material': 'rubber',\n",
       "    'shape': 'cylinder',\n",
       "    'size': 'small'},\n",
       "   {'color': 'purple',\n",
       "    'material': 'metal',\n",
       "    'shape': 'cylinder',\n",
       "    'size': 'small'},\n",
       "   {'color': 'brown',\n",
       "    'material': 'rubber',\n",
       "    'shape': 'cylinder',\n",
       "    'size': 'small'},\n",
       "   {'color': 'blue', 'material': 'metal', 'shape': 'sphere', 'size': 'large'}],\n",
       "  'relationships': {'behind': [[2, 3, 6],\n",
       "    [0, 2, 3, 6, 7],\n",
       "    [6],\n",
       "    [2, 6],\n",
       "    [0, 1, 2, 3, 6, 7],\n",
       "    [0, 1, 2, 3, 4, 6, 7],\n",
       "    [],\n",
       "    [0, 2, 3, 6]],\n",
       "   'front': [[1, 4, 5, 7],\n",
       "    [4, 5],\n",
       "    [0, 1, 3, 4, 5, 7],\n",
       "    [0, 1, 4, 5, 7],\n",
       "    [5],\n",
       "    [],\n",
       "    [0, 1, 2, 3, 4, 5, 7],\n",
       "    [1, 4, 5]],\n",
       "   'left': [[2, 3, 4, 5, 6, 7],\n",
       "    [0, 2, 3, 4, 5, 6, 7],\n",
       "    [3, 4, 7],\n",
       "    [],\n",
       "    [3],\n",
       "    [2, 3, 4, 7],\n",
       "    [2, 3, 4, 5, 7],\n",
       "    [3, 4]],\n",
       "   'right': [[1],\n",
       "    [],\n",
       "    [0, 1, 5, 6],\n",
       "    [0, 1, 2, 4, 5, 6, 7],\n",
       "    [0, 1, 2, 5, 6, 7],\n",
       "    [0, 1, 6],\n",
       "    [0, 1],\n",
       "    [0, 1, 2, 5, 6]]}}}"
      ]
     },
     "execution_count": 46,
     "metadata": {},
     "output_type": "execute_result"
    }
   ],
   "source": [
    "dataset[0]"
   ]
  },
  {
   "cell_type": "code",
   "execution_count": null,
   "metadata": {},
   "outputs": [],
   "source": []
  }
 ],
 "metadata": {
  "kernelspec": {
   "display_name": "sherpa",
   "language": "python",
   "name": "python3"
  },
  "language_info": {
   "codemirror_mode": {
    "name": "ipython",
    "version": 3
   },
   "file_extension": ".py",
   "mimetype": "text/x-python",
   "name": "python",
   "nbconvert_exporter": "python",
   "pygments_lexer": "ipython3",
   "version": "3.9.18"
  }
 },
 "nbformat": 4,
 "nbformat_minor": 2
}
