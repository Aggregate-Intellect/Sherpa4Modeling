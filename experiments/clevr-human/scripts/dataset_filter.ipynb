{
 "cells": [
  {
   "cell_type": "code",
   "execution_count": 1,
   "metadata": {},
   "outputs": [],
   "source": [
    "%load_ext autoreload\n",
    "%autoreload 2"
   ]
  },
  {
   "cell_type": "code",
   "execution_count": 2,
   "metadata": {},
   "outputs": [],
   "source": [
    "from langchain_openai import ChatOpenAI\n",
    "from utils import load_dataset\n",
    "from langchain_core.prompts import PromptTemplate\n",
    "import re\n",
    "import json\n",
    "import random\n",
    "from tqdm.notebook import tqdm\n",
    "\n",
    "\n"
   ]
  },
  {
   "cell_type": "code",
   "execution_count": 3,
   "metadata": {},
   "outputs": [],
   "source": [
    "random.seed(42)\n",
    "scenes, questions = load_dataset()\n",
    "random.shuffle(questions)"
   ]
  },
  {
   "cell_type": "code",
   "execution_count": 4,
   "metadata": {},
   "outputs": [],
   "source": [
    "def process_scene(scene):\n",
    "    if \"image_index\" in scene:\n",
    "        scene.pop(\"image_index\")\n",
    "\n",
    "    for obj in scene[\"objects\"]:\n",
    "        if \"rotation\" in obj:\n",
    "            obj.pop(\"rotation\")\n",
    "        if \"pixel_coords\" in obj:\n",
    "            obj.pop(\"pixel_coords\")\n",
    "        if \"3d_coords\" in obj:\n",
    "            obj.pop(\"3d_coords\")\n",
    "    \n",
    "    if \"image_filename\" in scene:\n",
    "        scene.pop(\"image_filename\")\n",
    "\n",
    "    if \"split\" in scene:\n",
    "        scene.pop(\"split\")\n",
    "\n",
    "    if \"directions\" in scene:\n",
    "        scene.pop(\"directions\")\n",
    "\n",
    "def get_question_by_category(questions, category, count=20):\n",
    "    filtered_questions = []\n",
    "\n",
    "    for question in questions:\n",
    "        if category == \"count\" and question[\"answer\"].isdigit():\n",
    "            filtered_questions.append(question)\n",
    "        elif category == \"judge\" and question[\"answer\"].lower() in [\"yes\", \"no\"]:\n",
    "            filtered_questions.append(question)\n",
    "        elif category == \"query\" and question[\"answer\"].lower() not in [\"yes\", \"no\"] and not question[\"answer\"].isdigit():\n",
    "            filtered_questions.append(question)\n",
    "        \n",
    "        if len(filtered_questions) >= count:\n",
    "            break\n",
    "    \n",
    "    return filtered_questions"
   ]
  },
  {
   "cell_type": "code",
   "execution_count": 198,
   "metadata": {},
   "outputs": [],
   "source": [
    "category = \"query\"\n",
    "filtered_questions = get_question_by_category(questions, category, count=50)\n",
    "filtered_dataset = []"
   ]
  },
  {
   "cell_type": "code",
   "execution_count": 311,
   "metadata": {},
   "outputs": [],
   "source": [
    "# count_skip_index = [2, 15, 24, 34, 36, 37, 38, 39]\n",
    "# # wrong answer\n",
    "# # wrong answer\n",
    "# # not answerable without image\n",
    "# judge_skip_index = [1, 3, 4, 5, 34]\n",
    "# not answerable without image\n",
    "# wrong answer\n",
    "# not answerable without image\n",
    "# the question is a bit ambiguous\n",
    "# typo in the question\n",
    "query_skip_index = [4, 5, 11, 15, 18, 19, 29, 33, 38, 39, 42, 43, 44, 45, 46]\n",
    "# not answerable without image\n",
    "# not answerable without image\n",
    "# wrong answer\n",
    "# wrong answer\n",
    "# not answerable without image\n",
    "# not answerable without image\n",
    "# not answerable without image\n",
    "# not answerable without image\n",
    "# not answerable without image\n",
    "# not answerable without image\n",
    "# not answerable without image\n",
    "# wrong answer\n",
    "# not answerable without image\n",
    "# not answerable without image\n",
    "# not answerable without image"
   ]
  },
  {
   "cell_type": "code",
   "execution_count": 315,
   "metadata": {},
   "outputs": [
    {
     "name": "stdout",
     "output_type": "stream",
     "text": [
      "{'split': 'val', 'image_filename': 'CLEVR_val_000654.png', 'answer': 'cyan', 'question': 'What color are the two identical objects?', 'image_index': 654}\n"
     ]
    }
   ],
   "source": [
    "id = 48\n",
    "print(filtered_questions[id])\n"
   ]
  },
  {
   "cell_type": "code",
   "execution_count": 316,
   "metadata": {},
   "outputs": [
    {
     "data": {
      "text/plain": [
       "{'objects': [{'color': 'red',\n",
       "   'size': 'small',\n",
       "   'shape': 'sphere',\n",
       "   'material': 'rubber'},\n",
       "  {'color': 'cyan',\n",
       "   'size': 'large',\n",
       "   'shape': 'cylinder',\n",
       "   'material': 'rubber'},\n",
       "  {'color': 'yellow',\n",
       "   'size': 'large',\n",
       "   'shape': 'cylinder',\n",
       "   'material': 'rubber'},\n",
       "  {'color': 'green',\n",
       "   'size': 'small',\n",
       "   'shape': 'cylinder',\n",
       "   'material': 'rubber'},\n",
       "  {'color': 'red', 'size': 'large', 'shape': 'cube', 'material': 'metal'},\n",
       "  {'color': 'blue', 'size': 'large', 'shape': 'cylinder', 'material': 'metal'},\n",
       "  {'color': 'cyan',\n",
       "   'size': 'large',\n",
       "   'shape': 'cylinder',\n",
       "   'material': 'rubber'}],\n",
       " 'relationships': {'right': [[1, 2, 3, 4, 6],\n",
       "   [2, 3, 4, 6],\n",
       "   [6],\n",
       "   [2, 6],\n",
       "   [2, 3, 6],\n",
       "   [0, 1, 2, 3, 4, 6],\n",
       "   []],\n",
       "  'behind': [[1, 6],\n",
       "   [],\n",
       "   [0, 1, 3, 5, 6],\n",
       "   [0, 1, 6],\n",
       "   [0, 1, 2, 3, 5, 6],\n",
       "   [0, 1, 3, 6],\n",
       "   [1]],\n",
       "  'front': [[2, 3, 4, 5],\n",
       "   [0, 2, 3, 4, 5, 6],\n",
       "   [4],\n",
       "   [2, 4, 5],\n",
       "   [],\n",
       "   [2, 4],\n",
       "   [0, 2, 3, 4, 5]],\n",
       "  'left': [[5],\n",
       "   [0, 5],\n",
       "   [0, 1, 3, 4, 5],\n",
       "   [0, 1, 4, 5],\n",
       "   [0, 1, 5],\n",
       "   [],\n",
       "   [0, 1, 2, 3, 4, 5]]}}"
      ]
     },
     "execution_count": 316,
     "metadata": {},
     "output_type": "execute_result"
    }
   ],
   "source": [
    "process_scene(scenes[filtered_questions[id][\"image_index\"]])\n",
    "scenes[filtered_questions[id][\"image_index\"]]"
   ]
  },
  {
   "cell_type": "code",
   "execution_count": 317,
   "metadata": {},
   "outputs": [],
   "source": [
    "processed_questions = []\n",
    "\n",
    "for i, question in enumerate(filtered_questions[0:id+1]):\n",
    "    if i in query_skip_index:\n",
    "        continue\n",
    "    processed_questions.append(question)"
   ]
  },
  {
   "cell_type": "code",
   "execution_count": 318,
   "metadata": {},
   "outputs": [
    {
     "data": {
      "text/plain": [
       "34"
      ]
     },
     "execution_count": 318,
     "metadata": {},
     "output_type": "execute_result"
    }
   ],
   "source": [
    "len(processed_questions)"
   ]
  },
  {
   "cell_type": "code",
   "execution_count": 319,
   "metadata": {},
   "outputs": [],
   "source": [
    "with open(\"data/filtered_questions.jsonl\", \"a\") as f:\n",
    "    for question in processed_questions:\n",
    "        f.write(json.dumps(question) + \"\\n\")"
   ]
  },
  {
   "cell_type": "code",
   "execution_count": null,
   "metadata": {},
   "outputs": [],
   "source": []
  }
 ],
 "metadata": {
  "kernelspec": {
   "display_name": "sherpa",
   "language": "python",
   "name": "python3"
  },
  "language_info": {
   "codemirror_mode": {
    "name": "ipython",
    "version": 3
   },
   "file_extension": ".py",
   "mimetype": "text/x-python",
   "name": "python",
   "nbconvert_exporter": "python",
   "pygments_lexer": "ipython3",
   "version": "3.9.18"
  }
 },
 "nbformat": 4,
 "nbformat_minor": 2
}
