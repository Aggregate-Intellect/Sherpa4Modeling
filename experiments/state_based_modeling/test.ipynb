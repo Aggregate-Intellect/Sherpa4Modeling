{
 "cells": [
  {
   "cell_type": "code",
   "execution_count": 1,
   "metadata": {},
   "outputs": [],
   "source": [
    "%load_ext autoreload\n",
    "%autoreload 2"
   ]
  },
  {
   "cell_type": "code",
   "execution_count": 2,
   "metadata": {},
   "outputs": [],
   "source": [
    "from evaluation.model_metadata import DomainModel\n",
    "from worde4mde import load_embeddings\n",
    "from evaluation.model_matcher import Grader\n",
    "from loguru import logger\n",
    "import sys\n",
    "from tqdm.notebook import tqdm"
   ]
  },
  {
   "cell_type": "code",
   "execution_count": 3,
   "metadata": {},
   "outputs": [
    {
     "data": {
      "text/plain": [
       "1"
      ]
     },
     "execution_count": 3,
     "metadata": {},
     "output_type": "execute_result"
    }
   ],
   "source": [
    "logger.remove()\n",
    "# set debug info level to sys.stderr\n",
    "logger.add(sys.stderr, level=\"INFO\")"
   ]
  },
  {
   "cell_type": "code",
   "execution_count": 76,
   "metadata": {},
   "outputs": [],
   "source": [
    "sgram_mde = load_embeddings('sgram-mde')"
   ]
  },
  {
   "cell_type": "code",
   "execution_count": 114,
   "metadata": {},
   "outputs": [],
   "source": [
    "models = [\"gpt-4\", \"gpt-4o\", \"gpt-4o-mini\", \"Meta-Llama-3.1-70B-Instruct-Turbo\", \"Qwen2.5-7B-Instruct-Turbo\", \"Qwen2.5-72B-Instruct-Turbo\"]\n",
    "approaches = [\"yujing\", \"sherpa\", \"direct\"]\n",
    "domains = [\n",
    "    \"0_Lab Requisition Management System\", \n",
    "    \"1_Celebrations Organization System (CelO)\", \n",
    "    \"2_Team Sports Scouting (TSS)\", \n",
    "    \"3_SHAS\", \n",
    "    \"4_Online Tutoring System (OTS)\", \n",
    "    \"5_Block\", \n",
    "    \"6_Tile-O\", \n",
    "    \"7_HBMS\"\n",
    "]"
   ]
  },
  {
   "cell_type": "code",
   "execution_count": 115,
   "metadata": {},
   "outputs": [
    {
     "name": "stdout",
     "output_type": "stream",
     "text": [
      "Processing yujing with gpt-4\n"
     ]
    },
    {
     "data": {
      "application/vnd.jupyter.widget-view+json": {
       "model_id": "2f58bd6d32ad495cac92273da2ac5379",
       "version_major": 2,
       "version_minor": 0
      },
      "text/plain": [
       "  0%|          | 0/8 [00:00<?, ?it/s]"
      ]
     },
     "metadata": {},
     "output_type": "display_data"
    },
    {
     "name": "stdout",
     "output_type": "stream",
     "text": [
      "['Enumerations:', 'Interval(weekly, monthly, everyHalfYear, yearly)', 'AccessType (reservable, walkIn, dropOff)', 'DayOfWeek(Monday, Tuesday, Wednesday, Thursday, Friday, Saturday, Sunday)', 'Classes:', 'LabTracker()', 'Person(string lastName, string firstName, string address, string phoneNumber)', 'abstract PersonRole(idNumber)', 'Patient (string dateOfBirth)', 'Doctor (string signature)', 'Requisition (string effectiveDate, int repetitionCount, Interval repetitionInterval)', 'TestResult(boolean negative, string report)', 'SpecificTest(Data date)', 'Appointment (string confirmation, Date date, string startTime, string endTime)', 'BusinessHour(DayOfWeek dayOfWeek, string startTime, string endTime)', 'Lab (string registrationNumber, string name, string address, boolean changeCancelFee)', 'Test (string name, string duration)', 'TestType(string name, string durationAdditive, AccessType access)']\n",
      "['Enumerations:', 'Classes:', 'Doctor()', 'Patient()', 'Test()', 'BloodTest()', 'UltrasoundExamination()', 'XRayExamination()', 'Appointment()', 'Lab()', 'Requisition()']\n"
     ]
    },
    {
     "name": "stderr",
     "output_type": "stream",
     "text": [
      "\u001b[32m2025-02-19 01:04:12.498\u001b[0m | \u001b[1mINFO    \u001b[0m | \u001b[36mevaluation.model_matcher\u001b[0m:\u001b[36mmatch_classes\u001b[0m:\u001b[36m231\u001b[0m - \u001b[1mLoading cache from transformed_results/gpt-4_output_yujing/0_Lab Requisition Management System_ada_embedding.txt\u001b[0m\n"
     ]
    },
    {
     "name": "stdout",
     "output_type": "stream",
     "text": [
      "['Enumerations:', 'AttendeeStatus(Yes, Maybe, No, NoResponse)', 'CompletionStatus(ToBeDone, Done, NotApplicable, Attendee)', 'Classes:', 'CelO()', 'Person(string lastName, string firstName, string emailAddress, string password)', 'abstract PersonRole()', 'Organizer(string address, string phoneNumber)', 'Attendee()', 'TaskStatus(CompletionStatus status)', 'Registration(AttendeeStatus status)', 'CheckListTask(string description)', 'Location(string name, string address)', 'Event(string occasion, date startTime, date endTime)', 'EventType(string name)']\n",
      "['Enumerations:', 'EventType(BirthdayParty, GraduationParty)', 'TaskStatus(NeedsToBeDone, HasBeenDone, NotApplicable)', 'AttendanceStatus(WillAttend, MaybeWillAttend, CannotAttend)', 'Classes:', 'User()', 'Organizer()', 'Attendee()', 'Event()', 'Location()', 'Invitation()', 'Checklist()', 'Task()']\n"
     ]
    },
    {
     "name": "stderr",
     "output_type": "stream",
     "text": [
      "\u001b[32m2025-02-19 01:04:12.779\u001b[0m | \u001b[1mINFO    \u001b[0m | \u001b[36mevaluation.model_matcher\u001b[0m:\u001b[36mmatch_classes\u001b[0m:\u001b[36m231\u001b[0m - \u001b[1mLoading cache from transformed_results/gpt-4_output_yujing/1_Celebrations Organization System (CelO)_ada_embedding.txt\u001b[0m\n"
     ]
    },
    {
     "name": "stdout",
     "output_type": "stream",
     "text": [
      "['Enumerations:', 'Position(GK, LB)', 'Recommendation(KEY_PLAYER, FIRST_TEAM_PLAYER, RESERVE_TEAM_PLAYER, PROSPECTIVE_PLAYER, NOT_RECOMMENDED)', 'ScoutingStatus(LONG_LISTED, SHORT_LISTED, RECOMMENDED_FOR_SIGNING, OFFER_MADE)', 'ScoutKind(REGULAR_SCOUNT, HEAD_SCOUT)', 'Classes:', 'TSS()', 'abstract Person(string firstName, string lastName)', 'Player(ScoutingStatus status)', 'HeadCoach()', 'Director()', 'Scout(ScoutKind scoutKind)', 'Club()', 'Offer(int value)', 'ScoutingAssignmnet()', 'ScoutReport(string pro, string con, Recommendation recommendation)', 'PlayerProfile(Position position)', 'PlayerAttribute(string name, int value)']\n",
      "['Enumerations:', 'Recommendation(KeyPlayer, FirstTeamPlayer, ReserveTeamPlayer, ProspectivePlayer, NotAGoodSigning)', 'Classes:', 'ScoutingSystem()', 'Club()', 'Role()', 'HeadCoach()', 'Role()', 'Director()', 'Role()', 'Scout()', 'Role()', 'PlayerProfile()', 'Player()', 'ScoutingAssignment()', 'ScoutingReport()', 'Offer()']\n"
     ]
    },
    {
     "name": "stderr",
     "output_type": "stream",
     "text": [
      "\u001b[32m2025-02-19 01:04:13.112\u001b[0m | \u001b[1mINFO    \u001b[0m | \u001b[36mevaluation.model_matcher\u001b[0m:\u001b[36mmatch_classes\u001b[0m:\u001b[36m231\u001b[0m - \u001b[1mLoading cache from transformed_results/gpt-4_output_yujing/2_Team Sports Scouting (TSS)_ada_embedding.txt\u001b[0m\n"
     ]
    },
    {
     "name": "stdout",
     "output_type": "stream",
     "text": [
      "['Enumerations:', 'DeviceStatus(Activated, Deactivated)', 'CommandType (lockDoor, turnOnHeating)', 'CommandStatus (Requested, Completed, Failed)', 'RuleStatus (created, edited, activated, deactivated)', 'BinaryOp (AND, OR )', 'Classes:', 'SHAS()', 'SmartHome()', 'User(string name)', 'Address(string city, string postalCode, string street, string aptNumber)', 'Room()', 'abstract Device(DeviceStatus deviceStatus, int deviceID)', 'SensorDevice()', 'ActuatorDevice()', 'ActvityLog()', 'abstract RuntimeElement(time timestamp)', 'SensorReading(double value)', 'ControlCommand (CommandType commandType, CommandStatus commandStatus)', 'AlertRule (RuleStatus ruleStatus)', 'abstract BooleanExpression()', 'RelationalTerm()', 'NotExpression()', 'BinaryExpression(BinaryOp binaryOp)', 'CommandSequence()']\n",
      "['Enumerations:', 'Classes:', 'SmartHomeAutomationSystem()', 'User()', 'Owner()', 'SmartHome()', 'Room()', 'Device()', 'SensorDevice()', 'Device()', 'ActuatorDevice()', 'Device()', 'InfrastructureMap()', 'SensorReading()', 'ControlCommand()', 'ActivityLog()', 'Alert()', 'AutomationRule()', 'RuleHierarchy()']\n"
     ]
    },
    {
     "name": "stderr",
     "output_type": "stream",
     "text": [
      "\u001b[32m2025-02-19 01:04:13.407\u001b[0m | \u001b[1mINFO    \u001b[0m | \u001b[36mevaluation.model_matcher\u001b[0m:\u001b[36mmatch_classes\u001b[0m:\u001b[36m231\u001b[0m - \u001b[1mLoading cache from transformed_results/gpt-4_output_yujing/3_SHAS_ada_embedding.txt\u001b[0m\n"
     ]
    },
    {
     "name": "stdout",
     "output_type": "stream",
     "text": [
      "['Enumerations:', 'LevelOfTutoring(PrimarySchool, HighSchool, University)', 'SessionStatus(Proposed, Confirmed, Completed, Paid, Cancelled)', 'PaymentKind(CreditCard, WireTransfer)', 'Classes:', 'OTS()', 'User(string name, string email)', 'BestTutorAward(int year, int month)', 'Tutor(string bankAccount)', 'TutoringOffer(float hourlyPrice)', 'Subject(string name)', 'TutorAvailability(Date startTime, Time endTime)', 'abstract TutoringRole()', 'abstract TutoringElement(LevelOfTutoring tutoringLevel)', 'Student()', 'TutoringRequest()', 'TutoringSession(Date sessionDate, float totalPrice, SessionStatus sessionStatus)', 'Payment(PaymentKind paymentForm, date paymentDate)']\n",
      "['Enumerations:', 'Classes:', 'User()', 'Tutor()', 'Subject()', 'TutoringSession()', 'Payment()', 'Cancellation()', 'Student()']\n"
     ]
    },
    {
     "name": "stderr",
     "output_type": "stream",
     "text": [
      "\u001b[32m2025-02-19 01:04:13.690\u001b[0m | \u001b[1mINFO    \u001b[0m | \u001b[36mevaluation.model_matcher\u001b[0m:\u001b[36mmatch_classes\u001b[0m:\u001b[36m231\u001b[0m - \u001b[1mLoading cache from transformed_results/gpt-4_output_yujing/4_Online Tutoring System (OTS)_ada_embedding.txt\u001b[0m\n"
     ]
    },
    {
     "name": "stdout",
     "output_type": "stream",
     "text": [
      "['Enumerations:', 'Classes:', 'DestroyBlock()', 'User(string username, string password)', 'BlockAssignment(int gridHorizontalPosition, int gridVerticalPosition)', 'Level (boolean isRandom)', 'Game (string name, int nrBlocksPerLevel)', 'Block(int id, int red, int green, int blue, int points)', 'Paddle(int amxPaddleLength, int minPaddleLength)', 'Ball(int minBallSpeedX, int minBallSpeedY)', 'HallOfFameEntry(int score)', 'PlayedGame(int id, int score, int lives, int currentLevel)', 'PlayedBall(double ballDirectionX, double ballDirectionY, double currentBallX, double currentBallY)', 'PlayedPaddle(double currentPaddleLength, double currentPaddleX, double currentPaddleY)', 'PlayedBlockAssignment(int x, int y)', 'Player()', 'Admin()']\n",
      "['Enumerations:', 'Classes:', 'User()', 'Admin()', 'User()', 'Player()', 'User()', 'DestroyBlockGame()', 'Block()', 'Level()', 'GridSystem()', 'Ball()', 'Paddle()', 'HallOfFame()']\n"
     ]
    },
    {
     "name": "stderr",
     "output_type": "stream",
     "text": [
      "\u001b[32m2025-02-19 01:04:14.032\u001b[0m | \u001b[1mINFO    \u001b[0m | \u001b[36mevaluation.model_matcher\u001b[0m:\u001b[36mmatch_classes\u001b[0m:\u001b[36m231\u001b[0m - \u001b[1mLoading cache from transformed_results/gpt-4_output_yujing/5_Block_ada_embedding.txt\u001b[0m\n"
     ]
    },
    {
     "name": "stdout",
     "output_type": "stream",
     "text": [
      "['Enumerations:', 'Mode(design, game)', 'Color(red, blue, green, yellow)', 'Classes:', 'TileO()', 'Game(int currentConnectionPieces, Mode mode, int spaceConnectionPieces, int numberOfActionCards)', 'Connection()', 'Die()', 'Deck()', 'abstract Tile(int x, int y, boolean hasBeenVisited)', 'abstract ActionCard (string instructions)', 'RollDieActionCard()', 'ConnectTilesActionCard()', 'RemoveConnectionActionCard()', 'TeleportActionCard()', 'LoseTurnActionCard()', 'WinTile()', 'ActionTile(int inactivityPeriod, int turnsUntilActive)', 'NormalTile()', 'Player(int number, int turnsUntilActive, Color color)']\n",
      "['Enumerations:', 'Classes:', 'TileOApplication()', 'User()', 'GameDesigner()', 'BoardGame()', 'Player()', 'Tile()', 'Board()', 'PlayingPiece()', 'Die()', 'ConnectionPiece()', 'ActionCard()', 'Deck()', 'GameTurn()']\n"
     ]
    },
    {
     "name": "stderr",
     "output_type": "stream",
     "text": [
      "\u001b[32m2025-02-19 01:04:14.390\u001b[0m | \u001b[1mINFO    \u001b[0m | \u001b[36mevaluation.model_matcher\u001b[0m:\u001b[36mmatch_classes\u001b[0m:\u001b[36m231\u001b[0m - \u001b[1mLoading cache from transformed_results/gpt-4_output_yujing/6_Tile-O_ada_embedding.txt\u001b[0m\n"
     ]
    },
    {
     "name": "stdout",
     "output_type": "stream",
     "text": [
      "['Enumerations:', 'RoomType(SINGLE, DOUBLE, TWIN)', 'BookingStatus(FINALIZED, CONFIRMED, CANCELLED_BY_HBMS, PRELIMINARY, CANCELLED_BY_TRAVELLER, CANCELLED_BY_HOTEL)', 'PaymentType (PREPAID, PAID_AT_HOTEL)', 'Classes:', 'HotelBookingManager()', 'HotelChain()', 'Traveller (string name, int reliabilityRating)', 'BillingInformation(string companyName, string address)', 'TravelPreference(string preference, string value)', 'Hotel (string city, string country, string area)', 'abstract Offer()', 'SpecialOffer()', 'RegularOffer()', 'TravelSearch()', 'SearchInfo()', 'RoomAvailability()', 'abstract TripInfo(int numberOfRooms, RoomType roomType, date arrivalDate, date departureDate, float budgetPerNight)', 'BookingInfo()', 'Booking (int bookingId, date cancellationDeadline, string creditCardNumber, BookingStatus bookingStatus, PaymentType paymentType, date confirmationDate, float paidAmount)']\n",
      "['Enumerations:', 'BookingStatus(Preliminary, Regular, Finalized, Confirmed, Cancelled)', 'PaymentType(PrePaid, PaidAtHotel)', 'RoomType(Single, Double, Twin)', 'HotelRating(OneStar, TwoStar, ThreeStar, FourStar, FiveStar)', 'Classes:', 'HotelBookingManagementSystem()', 'BusinessTraveller()', 'AccommodationDeal()', 'Hotel()', 'BillingInformation()', 'TravelPreference()', 'BookingStatus()', 'PreliminaryBooking()', 'BookingStatus()', 'RegularBooking()', 'BookingStatus()', 'FinalizedBooking()', 'BookingStatus()', 'ConfirmedBooking()', 'BookingStatus()', 'CancelledBooking()', 'BookingStatus()', 'SpecialOffer()', 'CreditCardInformation()', 'RoomAvailability()']\n"
     ]
    },
    {
     "name": "stderr",
     "output_type": "stream",
     "text": [
      "\u001b[32m2025-02-19 01:04:14.738\u001b[0m | \u001b[1mINFO    \u001b[0m | \u001b[36mevaluation.model_matcher\u001b[0m:\u001b[36mmatch_classes\u001b[0m:\u001b[36m231\u001b[0m - \u001b[1mLoading cache from transformed_results/gpt-4_output_yujing/7_HBMS_ada_embedding.txt\u001b[0m\n"
     ]
    },
    {
     "name": "stdout",
     "output_type": "stream",
     "text": [
      "Processing sherpa with gpt-4\n"
     ]
    },
    {
     "data": {
      "application/vnd.jupyter.widget-view+json": {
       "model_id": "e8cf02d813754728b877e7e7c4b5676f",
       "version_major": 2,
       "version_minor": 0
      },
      "text/plain": [
       "  0%|          | 0/8 [00:00<?, ?it/s]"
      ]
     },
     "metadata": {},
     "output_type": "display_data"
    },
    {
     "name": "stdout",
     "output_type": "stream",
     "text": [
      "['Enumerations:', 'Interval(weekly, monthly, everyHalfYear, yearly)', 'AccessType (reservable, walkIn, dropOff)', 'DayOfWeek(Monday, Tuesday, Wednesday, Thursday, Friday, Saturday, Sunday)', 'Classes:', 'LabTracker()', 'Person(string lastName, string firstName, string address, string phoneNumber)', 'abstract PersonRole(idNumber)', 'Patient (string dateOfBirth)', 'Doctor (string signature)', 'Requisition (string effectiveDate, int repetitionCount, Interval repetitionInterval)', 'TestResult(boolean negative, string report)', 'SpecificTest(Data date)', 'Appointment (string confirmation, Date date, string startTime, string endTime)', 'BusinessHour(DayOfWeek dayOfWeek, string startTime, string endTime)', 'Lab (string registrationNumber, string name, string address, boolean changeCancelFee)', 'Test (string name, string duration)', 'TestType(string name, string durationAdditive, AccessType access)']\n",
      "['Enumerations:', 'RepetitionInterval(Weekly, Monthly, HalfYearly, Yearly)', 'Classes:', 'LabTrackerSoftware()', 'Doctor()', 'Role()', 'PrescribingTestRole()', 'Patient()', 'BookingAppointmentRole()', 'Requisition()', 'Test()', 'TestGroup()', 'Appointment()', 'Lab()', 'Fee()', 'Result()', 'Report()']\n"
     ]
    },
    {
     "name": "stderr",
     "output_type": "stream",
     "text": [
      "\u001b[32m2025-02-19 01:04:15.056\u001b[0m | \u001b[1mINFO    \u001b[0m | \u001b[36mevaluation.model_matcher\u001b[0m:\u001b[36mmatch_classes\u001b[0m:\u001b[36m231\u001b[0m - \u001b[1mLoading cache from transformed_results/gpt-4_output_sherpa/0_Lab Requisition Management System_ada_embedding.txt\u001b[0m\n"
     ]
    },
    {
     "name": "stdout",
     "output_type": "stream",
     "text": [
      "['Enumerations:', 'AttendeeStatus(Yes, Maybe, No, NoResponse)', 'CompletionStatus(ToBeDone, Done, NotApplicable, Attendee)', 'Classes:', 'CelO()', 'Person(string lastName, string firstName, string emailAddress, string password)', 'abstract PersonRole()', 'Organizer(string address, string phoneNumber)', 'Attendee()', 'TaskStatus(CompletionStatus status)', 'Registration(AttendeeStatus status)', 'CheckListTask(string description)', 'Location(string name, string address)', 'Event(string occasion, date startTime, date endTime)', 'EventType(string name)']\n",
      "['Enumerations:', 'Classes:', 'CelOApplication()', 'User()', 'UserRole()', 'Organizer()', 'Attendee()', 'Event()', 'Task()', 'Invitation()', 'Checklist()', 'Location()', 'Account()', 'EventType()', 'TaskStatus()', 'InvitationStatus()']\n"
     ]
    },
    {
     "name": "stderr",
     "output_type": "stream",
     "text": [
      "\u001b[32m2025-02-19 01:04:15.337\u001b[0m | \u001b[1mINFO    \u001b[0m | \u001b[36mevaluation.model_matcher\u001b[0m:\u001b[36mmatch_classes\u001b[0m:\u001b[36m231\u001b[0m - \u001b[1mLoading cache from transformed_results/gpt-4_output_sherpa/1_Celebrations Organization System (CelO)_ada_embedding.txt\u001b[0m\n"
     ]
    },
    {
     "name": "stdout",
     "output_type": "stream",
     "text": [
      "['Enumerations:', 'Position(GK, LB)', 'Recommendation(KEY_PLAYER, FIRST_TEAM_PLAYER, RESERVE_TEAM_PLAYER, PROSPECTIVE_PLAYER, NOT_RECOMMENDED)', 'ScoutingStatus(LONG_LISTED, SHORT_LISTED, RECOMMENDED_FOR_SIGNING, OFFER_MADE)', 'ScoutKind(REGULAR_SCOUNT, HEAD_SCOUT)', 'Classes:', 'TSS()', 'abstract Person(string firstName, string lastName)', 'Player(ScoutingStatus status)', 'HeadCoach()', 'Director()', 'Scout(ScoutKind scoutKind)', 'Club()', 'Offer(int value)', 'ScoutingAssignmnet()', 'ScoutReport(string pro, string con, Recommendation recommendation)', 'PlayerProfile(Position position)', 'PlayerAttribute(string name, int value)']\n",
      "['Enumerations:', 'Recommendation(KeyPlayer, FirstTeamPlayer, ReserveTeamPlayer, ProspectivePlayer, NotAGoodSigning)', 'Classes:', 'TeamSportsScoutingSystem()', 'Club()', 'HeadCoach()', 'Director()', 'Scout()', 'PlayerProfile()', 'TargetPosition()', 'Player()', 'PlayerAttribute()', 'LongList()', 'HeadScout()', 'ScoutingAssignment()', 'Team()', 'ScoutingReport()', 'ShortList()', 'Round()', 'Offer()']\n"
     ]
    },
    {
     "name": "stderr",
     "output_type": "stream",
     "text": [
      "\u001b[32m2025-02-19 01:04:15.660\u001b[0m | \u001b[1mINFO    \u001b[0m | \u001b[36mevaluation.model_matcher\u001b[0m:\u001b[36mmatch_classes\u001b[0m:\u001b[36m231\u001b[0m - \u001b[1mLoading cache from transformed_results/gpt-4_output_sherpa/2_Team Sports Scouting (TSS)_ada_embedding.txt\u001b[0m\n"
     ]
    },
    {
     "name": "stdout",
     "output_type": "stream",
     "text": [
      "['Enumerations:', 'DeviceStatus(Activated, Deactivated)', 'CommandType (lockDoor, turnOnHeating)', 'CommandStatus (Requested, Completed, Failed)', 'RuleStatus (created, edited, activated, deactivated)', 'BinaryOp (AND, OR )', 'Classes:', 'SHAS()', 'SmartHome()', 'User(string name)', 'Address(string city, string postalCode, string street, string aptNumber)', 'Room()', 'abstract Device(DeviceStatus deviceStatus, int deviceID)', 'SensorDevice()', 'ActuatorDevice()', 'ActvityLog()', 'abstract RuntimeElement(time timestamp)', 'SensorReading(double value)', 'ControlCommand (CommandType commandType, CommandStatus commandStatus)', 'AlertRule (RuleStatus ruleStatus)', 'abstract BooleanExpression()', 'RelationalTerm()', 'NotExpression()', 'BinaryExpression(BinaryOp binaryOp)', 'CommandSequence()']\n",
      "['Enumerations:', 'BooleanOperator(AND, OR, NOT)', 'Classes:', 'SmartHomeAutomationSystem()', 'User()', 'SmartHome()', 'Room()', 'Device()', 'SensorDevice()', 'ActuatorDevice()', 'InfrastructureMap()', 'SensorReading()', 'ControlCommand()', 'ActivityLog()', 'Owner()', 'AutomationRule()', 'RuleHierarchy()']\n"
     ]
    },
    {
     "name": "stderr",
     "output_type": "stream",
     "text": [
      "\u001b[32m2025-02-19 01:04:15.994\u001b[0m | \u001b[1mINFO    \u001b[0m | \u001b[36mevaluation.model_matcher\u001b[0m:\u001b[36mmatch_classes\u001b[0m:\u001b[36m231\u001b[0m - \u001b[1mLoading cache from transformed_results/gpt-4_output_sherpa/3_SHAS_ada_embedding.txt\u001b[0m\n"
     ]
    },
    {
     "name": "stdout",
     "output_type": "stream",
     "text": [
      "['Enumerations:', 'LevelOfTutoring(PrimarySchool, HighSchool, University)', 'SessionStatus(Proposed, Confirmed, Completed, Paid, Cancelled)', 'PaymentKind(CreditCard, WireTransfer)', 'Classes:', 'OTS()', 'User(string name, string email)', 'BestTutorAward(int year, int month)', 'Tutor(string bankAccount)', 'TutoringOffer(float hourlyPrice)', 'Subject(string name)', 'TutorAvailability(Date startTime, Time endTime)', 'abstract TutoringRole()', 'abstract TutoringElement(LevelOfTutoring tutoringLevel)', 'Student()', 'TutoringRequest()', 'TutoringSession(Date sessionDate, float totalPrice, SessionStatus sessionStatus)', 'Payment(PaymentKind paymentForm, date paymentDate)']\n",
      "['Enumerations:', 'LevelOfExpertise(PrimarySchoolLevel, HighSchoolLevel, UniversityLevel)', 'PaymentMethod(CreditCard, WireTransfer)', 'Classes:', 'Person()', 'Tutor()', 'Subject()', 'TutoringSession()', 'TutoringOffer()', 'TutoringRequest()', 'Payment()', 'Cancellation()', 'Tutor()']\n"
     ]
    },
    {
     "name": "stderr",
     "output_type": "stream",
     "text": [
      "\u001b[32m2025-02-19 01:04:16.315\u001b[0m | \u001b[1mINFO    \u001b[0m | \u001b[36mevaluation.model_matcher\u001b[0m:\u001b[36mmatch_classes\u001b[0m:\u001b[36m231\u001b[0m - \u001b[1mLoading cache from transformed_results/gpt-4_output_sherpa/4_Online Tutoring System (OTS)_ada_embedding.txt\u001b[0m\n"
     ]
    },
    {
     "name": "stdout",
     "output_type": "stream",
     "text": [
      "['Enumerations:', 'Classes:', 'DestroyBlock()', 'User(string username, string password)', 'BlockAssignment(int gridHorizontalPosition, int gridVerticalPosition)', 'Level (boolean isRandom)', 'Game (string name, int nrBlocksPerLevel)', 'Block(int id, int red, int green, int blue, int points)', 'Paddle(int amxPaddleLength, int minPaddleLength)', 'Ball(int minBallSpeedX, int minBallSpeedY)', 'HallOfFameEntry(int score)', 'PlayedGame(int id, int score, int lives, int currentLevel)', 'PlayedBall(double ballDirectionX, double ballDirectionY, double currentBallX, double currentBallY)', 'PlayedPaddle(double currentPaddleLength, double currentPaddleX, double currentPaddleY)', 'PlayedBlockAssignment(int x, int y)', 'Player()', 'Admin()']\n",
      "['Enumerations:', 'Classes:', 'DestroyBlockApplication()', 'User()', 'Player()', 'GameAdmin()', 'DestroyBlockGame()', 'HallOfFame()', 'Block()', 'Level()', 'Ball()', 'Paddle()', 'Mode()', 'Direction()']\n"
     ]
    },
    {
     "name": "stderr",
     "output_type": "stream",
     "text": [
      "\u001b[32m2025-02-19 01:04:16.651\u001b[0m | \u001b[1mINFO    \u001b[0m | \u001b[36mevaluation.model_matcher\u001b[0m:\u001b[36mmatch_classes\u001b[0m:\u001b[36m231\u001b[0m - \u001b[1mLoading cache from transformed_results/gpt-4_output_sherpa/5_Block_ada_embedding.txt\u001b[0m\n"
     ]
    },
    {
     "name": "stdout",
     "output_type": "stream",
     "text": [
      "['Enumerations:', 'Mode(design, game)', 'Color(red, blue, green, yellow)', 'Classes:', 'TileO()', 'Game(int currentConnectionPieces, Mode mode, int spaceConnectionPieces, int numberOfActionCards)', 'Connection()', 'Die()', 'Deck()', 'abstract Tile(int x, int y, boolean hasBeenVisited)', 'abstract ActionCard (string instructions)', 'RollDieActionCard()', 'ConnectTilesActionCard()', 'RemoveConnectionActionCard()', 'TeleportActionCard()', 'LoseTurnActionCard()', 'WinTile()', 'ActionTile(int inactivityPeriod, int turnsUntilActive)', 'NormalTile()', 'Player(int number, int turnsUntilActive, Color color)']\n",
      "['Enumerations:', 'Classes:', 'TileOApplication()', 'GameDesigner()', 'BoardGame()', 'Player()', 'Tile()', 'Board()', 'PlayingPiece()', 'GameBoard()', 'ConnectionPiece()', 'HiddenTile()', 'StartingPosition()', 'ActionTile()', 'Deck()', 'ActionCard()', 'Die()', 'Turn()', 'Pile()', 'RegularTile()']\n"
     ]
    },
    {
     "name": "stderr",
     "output_type": "stream",
     "text": [
      "\u001b[32m2025-02-19 01:04:16.963\u001b[0m | \u001b[1mINFO    \u001b[0m | \u001b[36mevaluation.model_matcher\u001b[0m:\u001b[36mmatch_classes\u001b[0m:\u001b[36m231\u001b[0m - \u001b[1mLoading cache from transformed_results/gpt-4_output_sherpa/6_Tile-O_ada_embedding.txt\u001b[0m\n"
     ]
    },
    {
     "name": "stdout",
     "output_type": "stream",
     "text": [
      "['Enumerations:', 'RoomType(SINGLE, DOUBLE, TWIN)', 'BookingStatus(FINALIZED, CONFIRMED, CANCELLED_BY_HBMS, PRELIMINARY, CANCELLED_BY_TRAVELLER, CANCELLED_BY_HOTEL)', 'PaymentType (PREPAID, PAID_AT_HOTEL)', 'Classes:', 'HotelBookingManager()', 'HotelChain()', 'Traveller (string name, int reliabilityRating)', 'BillingInformation(string companyName, string address)', 'TravelPreference(string preference, string value)', 'Hotel (string city, string country, string area)', 'abstract Offer()', 'SpecialOffer()', 'RegularOffer()', 'TravelSearch()', 'SearchInfo()', 'RoomAvailability()', 'abstract TripInfo(int numberOfRooms, RoomType roomType, date arrivalDate, date departureDate, float budgetPerNight)', 'BookingInfo()', 'Booking (int bookingId, date cancellationDeadline, string creditCardNumber, BookingStatus bookingStatus, PaymentType paymentType, date confirmationDate, float paidAmount)']\n",
      "['Enumerations:', 'Classes:', 'HBMS()', 'BusinessTraveller()', 'AccommodationDeal()', 'Hotel()', 'Room()', 'Booking()', 'SpecialOffer()', 'Confirmation()']\n"
     ]
    },
    {
     "name": "stderr",
     "output_type": "stream",
     "text": [
      "\u001b[32m2025-02-19 01:04:17.299\u001b[0m | \u001b[1mINFO    \u001b[0m | \u001b[36mevaluation.model_matcher\u001b[0m:\u001b[36mmatch_classes\u001b[0m:\u001b[36m231\u001b[0m - \u001b[1mLoading cache from transformed_results/gpt-4_output_sherpa/7_HBMS_ada_embedding.txt\u001b[0m\n"
     ]
    },
    {
     "name": "stdout",
     "output_type": "stream",
     "text": [
      "Processing direct with gpt-4\n"
     ]
    },
    {
     "data": {
      "application/vnd.jupyter.widget-view+json": {
       "model_id": "02485610223b4568a8a3d89eb8dfa074",
       "version_major": 2,
       "version_minor": 0
      },
      "text/plain": [
       "  0%|          | 0/8 [00:00<?, ?it/s]"
      ]
     },
     "metadata": {},
     "output_type": "display_data"
    },
    {
     "name": "stdout",
     "output_type": "stream",
     "text": [
      "['Enumerations:', 'Interval(weekly, monthly, everyHalfYear, yearly)', 'AccessType (reservable, walkIn, dropOff)', 'DayOfWeek(Monday, Tuesday, Wednesday, Thursday, Friday, Saturday, Sunday)', 'Classes:', 'LabTracker()', 'Person(string lastName, string firstName, string address, string phoneNumber)', 'abstract PersonRole(idNumber)', 'Patient (string dateOfBirth)', 'Doctor (string signature)', 'Requisition (string effectiveDate, int repetitionCount, Interval repetitionInterval)', 'TestResult(boolean negative, string report)', 'SpecificTest(Data date)', 'Appointment (string confirmation, Date date, string startTime, string endTime)', 'BusinessHour(DayOfWeek dayOfWeek, string startTime, string endTime)', 'Lab (string registrationNumber, string name, string address, boolean changeCancelFee)', 'Test (string name, string duration)', 'TestType(string name, string durationAdditive, AccessType access)']\n",
      "['Enumerations:', 'RepetitionInterval(Weekly, Monthly, HalfYearly, Yearly)', 'TestStatus(Negative, Positive)', 'Classes:', 'LabTracker()', 'Doctor()', 'Patient()', 'Test()', 'Requisition()', 'Lab()', 'Appointment()']\n"
     ]
    },
    {
     "name": "stderr",
     "output_type": "stream",
     "text": [
      "\u001b[32m2025-02-19 01:04:17.586\u001b[0m | \u001b[1mINFO    \u001b[0m | \u001b[36mevaluation.model_matcher\u001b[0m:\u001b[36mmatch_classes\u001b[0m:\u001b[36m231\u001b[0m - \u001b[1mLoading cache from transformed_results/gpt-4_output_direct/0_Lab Requisition Management System_ada_embedding.txt\u001b[0m\n"
     ]
    },
    {
     "name": "stdout",
     "output_type": "stream",
     "text": [
      "['Enumerations:', 'AttendeeStatus(Yes, Maybe, No, NoResponse)', 'CompletionStatus(ToBeDone, Done, NotApplicable, Attendee)', 'Classes:', 'CelO()', 'Person(string lastName, string firstName, string emailAddress, string password)', 'abstract PersonRole()', 'Organizer(string address, string phoneNumber)', 'Attendee()', 'TaskStatus(CompletionStatus status)', 'Registration(AttendeeStatus status)', 'CheckListTask(string description)', 'Location(string name, string address)', 'Event(string occasion, date startTime, date endTime)', 'EventType(string name)']\n",
      "['Enumerations:', 'CrimeStatus(Solved, Pending, Unsolved)', 'Classes:', 'PISystem()', 'PoliceStation()', 'Case()', 'PoliceOfficer()', 'Victim()', 'Crime()', 'Note()']\n"
     ]
    },
    {
     "name": "stderr",
     "output_type": "stream",
     "text": [
      "\u001b[32m2025-02-19 01:04:17.849\u001b[0m | \u001b[1mINFO    \u001b[0m | \u001b[36mevaluation.model_matcher\u001b[0m:\u001b[36mmatch_classes\u001b[0m:\u001b[36m231\u001b[0m - \u001b[1mLoading cache from transformed_results/gpt-4_output_direct/1_Celebrations Organization System (CelO)_ada_embedding.txt\u001b[0m\n"
     ]
    },
    {
     "name": "stdout",
     "output_type": "stream",
     "text": [
      "['Enumerations:', 'Position(GK, LB)', 'Recommendation(KEY_PLAYER, FIRST_TEAM_PLAYER, RESERVE_TEAM_PLAYER, PROSPECTIVE_PLAYER, NOT_RECOMMENDED)', 'ScoutingStatus(LONG_LISTED, SHORT_LISTED, RECOMMENDED_FOR_SIGNING, OFFER_MADE)', 'ScoutKind(REGULAR_SCOUNT, HEAD_SCOUT)', 'Classes:', 'TSS()', 'abstract Person(string firstName, string lastName)', 'Player(ScoutingStatus status)', 'HeadCoach()', 'Director()', 'Scout(ScoutKind scoutKind)', 'Club()', 'Offer(int value)', 'ScoutingAssignmnet()', 'ScoutReport(string pro, string con, Recommendation recommendation)', 'PlayerProfile(Position position)', 'PlayerAttribute(string name, int value)']\n",
      "['Enumerations:', 'CrimeStatus(Solved, Pending, Unsolved)', 'Classes:', 'PISystem()', 'PoliceStation()', 'Case()', 'PoliceOfficer()', 'Victim()', 'Crime()', 'Note()']\n"
     ]
    },
    {
     "name": "stderr",
     "output_type": "stream",
     "text": [
      "\u001b[32m2025-02-19 01:04:18.116\u001b[0m | \u001b[1mINFO    \u001b[0m | \u001b[36mevaluation.model_matcher\u001b[0m:\u001b[36mmatch_classes\u001b[0m:\u001b[36m231\u001b[0m - \u001b[1mLoading cache from transformed_results/gpt-4_output_direct/2_Team Sports Scouting (TSS)_ada_embedding.txt\u001b[0m\n"
     ]
    },
    {
     "name": "stdout",
     "output_type": "stream",
     "text": [
      "['Enumerations:', 'DeviceStatus(Activated, Deactivated)', 'CommandType (lockDoor, turnOnHeating)', 'CommandStatus (Requested, Completed, Failed)', 'RuleStatus (created, edited, activated, deactivated)', 'BinaryOp (AND, OR )', 'Classes:', 'SHAS()', 'SmartHome()', 'User(string name)', 'Address(string city, string postalCode, string street, string aptNumber)', 'Room()', 'abstract Device(DeviceStatus deviceStatus, int deviceID)', 'SensorDevice()', 'ActuatorDevice()', 'ActvityLog()', 'abstract RuntimeElement(time timestamp)', 'SensorReading(double value)', 'ControlCommand (CommandType commandType, CommandStatus commandStatus)', 'AlertRule (RuleStatus ruleStatus)', 'abstract BooleanExpression()', 'RelationalTerm()', 'NotExpression()', 'BinaryExpression(BinaryOp binaryOp)', 'CommandSequence()']\n",
      "['Enumerations:', 'RuleStatus(Activated, Deactivated)', 'Classes:', 'SmartHomeAutomationSystem()', 'SmartHome()', 'Room()', 'SensorDevice()', 'ActuatorDevice()', 'SensorReading()', 'ControlCommand()', 'ActivityLog()', 'AutomationRule()', 'Precondition()', 'Action()', 'RuleTrigger()']\n"
     ]
    },
    {
     "name": "stderr",
     "output_type": "stream",
     "text": [
      "\u001b[32m2025-02-19 01:04:18.392\u001b[0m | \u001b[1mINFO    \u001b[0m | \u001b[36mevaluation.model_matcher\u001b[0m:\u001b[36mmatch_classes\u001b[0m:\u001b[36m231\u001b[0m - \u001b[1mLoading cache from transformed_results/gpt-4_output_direct/3_SHAS_ada_embedding.txt\u001b[0m\n"
     ]
    },
    {
     "name": "stdout",
     "output_type": "stream",
     "text": [
      "['Enumerations:', 'LevelOfTutoring(PrimarySchool, HighSchool, University)', 'SessionStatus(Proposed, Confirmed, Completed, Paid, Cancelled)', 'PaymentKind(CreditCard, WireTransfer)', 'Classes:', 'OTS()', 'User(string name, string email)', 'BestTutorAward(int year, int month)', 'Tutor(string bankAccount)', 'TutoringOffer(float hourlyPrice)', 'Subject(string name)', 'TutorAvailability(Date startTime, Time endTime)', 'abstract TutoringRole()', 'abstract TutoringElement(LevelOfTutoring tutoringLevel)', 'Student()', 'TutoringRequest()', 'TutoringSession(Date sessionDate, float totalPrice, SessionStatus sessionStatus)', 'Payment(PaymentKind paymentForm, date paymentDate)']\n",
      "['Enumerations:', 'LevelOfExpertise(PrimarySchool, HighSchool, University)', 'Classes:', 'Tutor()', 'Student()', 'TutoringSession()', 'Subject()', 'Availability()', 'Payment()']\n"
     ]
    },
    {
     "name": "stderr",
     "output_type": "stream",
     "text": [
      "\u001b[32m2025-02-19 01:04:18.648\u001b[0m | \u001b[1mINFO    \u001b[0m | \u001b[36mevaluation.model_matcher\u001b[0m:\u001b[36mmatch_classes\u001b[0m:\u001b[36m231\u001b[0m - \u001b[1mLoading cache from transformed_results/gpt-4_output_direct/4_Online Tutoring System (OTS)_ada_embedding.txt\u001b[0m\n"
     ]
    },
    {
     "name": "stdout",
     "output_type": "stream",
     "text": [
      "['Enumerations:', 'Classes:', 'DestroyBlock()', 'User(string username, string password)', 'BlockAssignment(int gridHorizontalPosition, int gridVerticalPosition)', 'Level (boolean isRandom)', 'Game (string name, int nrBlocksPerLevel)', 'Block(int id, int red, int green, int blue, int points)', 'Paddle(int amxPaddleLength, int minPaddleLength)', 'Ball(int minBallSpeedX, int minBallSpeedY)', 'HallOfFameEntry(int score)', 'PlayedGame(int id, int score, int lives, int currentLevel)', 'PlayedBall(double ballDirectionX, double ballDirectionY, double currentBallX, double currentBallY)', 'PlayedPaddle(double currentPaddleLength, double currentPaddleX, double currentPaddleY)', 'PlayedBlockAssignment(int x, int y)', 'Player()', 'Admin()']\n",
      "['Enumerations:', 'GameStatus(Published, Paused, Ended)', 'Classes:', 'Game()', 'Block()', 'Level()', 'Player()', 'Admin()', 'HallOfFame()']\n"
     ]
    },
    {
     "name": "stderr",
     "output_type": "stream",
     "text": [
      "\u001b[32m2025-02-19 01:04:18.949\u001b[0m | \u001b[1mINFO    \u001b[0m | \u001b[36mevaluation.model_matcher\u001b[0m:\u001b[36mmatch_classes\u001b[0m:\u001b[36m231\u001b[0m - \u001b[1mLoading cache from transformed_results/gpt-4_output_direct/5_Block_ada_embedding.txt\u001b[0m\n"
     ]
    },
    {
     "name": "stdout",
     "output_type": "stream",
     "text": [
      "['Enumerations:', 'Mode(design, game)', 'Color(red, blue, green, yellow)', 'Classes:', 'TileO()', 'Game(int currentConnectionPieces, Mode mode, int spaceConnectionPieces, int numberOfActionCards)', 'Connection()', 'Die()', 'Deck()', 'abstract Tile(int x, int y, boolean hasBeenVisited)', 'abstract ActionCard (string instructions)', 'RollDieActionCard()', 'ConnectTilesActionCard()', 'RemoveConnectionActionCard()', 'TeleportActionCard()', 'LoseTurnActionCard()', 'WinTile()', 'ActionTile(int inactivityPeriod, int turnsUntilActive)', 'NormalTile()', 'Player(int number, int turnsUntilActive, Color color)']\n",
      "['Enumerations:', 'ActionCardType(RollDieForExtraTurn, ConnectTwoAdjacentTiles, RemoveConnectionPiece, MoveToArbitraryTile, LoseNextTurn)', 'Classes:', 'GameBoard()', 'Tile()', 'ConnectionPiece()', 'ActionCard()', 'Player()', 'Die()']\n"
     ]
    },
    {
     "name": "stderr",
     "output_type": "stream",
     "text": [
      "\u001b[32m2025-02-19 01:04:19.255\u001b[0m | \u001b[1mINFO    \u001b[0m | \u001b[36mevaluation.model_matcher\u001b[0m:\u001b[36mmatch_classes\u001b[0m:\u001b[36m231\u001b[0m - \u001b[1mLoading cache from transformed_results/gpt-4_output_direct/6_Tile-O_ada_embedding.txt\u001b[0m\n"
     ]
    },
    {
     "name": "stdout",
     "output_type": "stream",
     "text": [
      "['Enumerations:', 'RoomType(SINGLE, DOUBLE, TWIN)', 'BookingStatus(FINALIZED, CONFIRMED, CANCELLED_BY_HBMS, PRELIMINARY, CANCELLED_BY_TRAVELLER, CANCELLED_BY_HOTEL)', 'PaymentType (PREPAID, PAID_AT_HOTEL)', 'Classes:', 'HotelBookingManager()', 'HotelChain()', 'Traveller (string name, int reliabilityRating)', 'BillingInformation(string companyName, string address)', 'TravelPreference(string preference, string value)', 'Hotel (string city, string country, string area)', 'abstract Offer()', 'SpecialOffer()', 'RegularOffer()', 'TravelSearch()', 'SearchInfo()', 'RoomAvailability()', 'abstract TripInfo(int numberOfRooms, RoomType roomType, date arrivalDate, date departureDate, float budgetPerNight)', 'BookingInfo()', 'Booking (int bookingId, date cancellationDeadline, string creditCardNumber, BookingStatus bookingStatus, PaymentType paymentType, date confirmationDate, float paidAmount)']\n",
      "['Enumerations:', 'RoomType(Single, Double, Twin)', 'PaymentType(PrePaid, PaidAtHotel)', 'BookingStatus(Confirmed, Cancelled)', 'Classes:', 'HotelBookingManagementSystem()', 'Traveller()', 'Hotel()', 'RoomType()', 'Booking()', 'Payment()', 'CancellationDeadline()']\n"
     ]
    },
    {
     "name": "stderr",
     "output_type": "stream",
     "text": [
      "\u001b[32m2025-02-19 01:04:19.525\u001b[0m | \u001b[1mINFO    \u001b[0m | \u001b[36mevaluation.model_matcher\u001b[0m:\u001b[36mmatch_classes\u001b[0m:\u001b[36m231\u001b[0m - \u001b[1mLoading cache from transformed_results/gpt-4_output_direct/7_HBMS_ada_embedding.txt\u001b[0m\n"
     ]
    },
    {
     "name": "stdout",
     "output_type": "stream",
     "text": [
      "Processing yujing with gpt-4o\n"
     ]
    },
    {
     "data": {
      "application/vnd.jupyter.widget-view+json": {
       "model_id": "00d1b7c44d8d4a2cb35406c78cbd314f",
       "version_major": 2,
       "version_minor": 0
      },
      "text/plain": [
       "  0%|          | 0/8 [00:00<?, ?it/s]"
      ]
     },
     "metadata": {},
     "output_type": "display_data"
    },
    {
     "name": "stdout",
     "output_type": "stream",
     "text": [
      "['Enumerations:', 'Interval(weekly, monthly, everyHalfYear, yearly)', 'AccessType (reservable, walkIn, dropOff)', 'DayOfWeek(Monday, Tuesday, Wednesday, Thursday, Friday, Saturday, Sunday)', 'Classes:', 'LabTracker()', 'Person(string lastName, string firstName, string address, string phoneNumber)', 'abstract PersonRole(idNumber)', 'Patient (string dateOfBirth)', 'Doctor (string signature)', 'Requisition (string effectiveDate, int repetitionCount, Interval repetitionInterval)', 'TestResult(boolean negative, string report)', 'SpecificTest(Data date)', 'Appointment (string confirmation, Date date, string startTime, string endTime)', 'BusinessHour(DayOfWeek dayOfWeek, string startTime, string endTime)', 'Lab (string registrationNumber, string name, string address, boolean changeCancelFee)', 'Test (string name, string duration)', 'TestType(string name, string durationAdditive, AccessType access)']\n",
      "['Enumerations:', 'Interval(Weekly, Monthly, HalfYearly, Yearly)', 'Classes:', 'Person()', 'Doctor()', 'Patient()', 'Requisition()', 'Test()', 'Appointment()', 'Lab()', 'TestResult()']\n"
     ]
    },
    {
     "name": "stderr",
     "output_type": "stream",
     "text": [
      "\u001b[32m2025-02-19 01:04:19.804\u001b[0m | \u001b[1mINFO    \u001b[0m | \u001b[36mevaluation.model_matcher\u001b[0m:\u001b[36mmatch_classes\u001b[0m:\u001b[36m231\u001b[0m - \u001b[1mLoading cache from transformed_results/gpt-4o_output_yujing/0_Lab Requisition Management System_ada_embedding.txt\u001b[0m\n"
     ]
    },
    {
     "name": "stdout",
     "output_type": "stream",
     "text": [
      "['Enumerations:', 'AttendeeStatus(Yes, Maybe, No, NoResponse)', 'CompletionStatus(ToBeDone, Done, NotApplicable, Attendee)', 'Classes:', 'CelO()', 'Person(string lastName, string firstName, string emailAddress, string password)', 'abstract PersonRole()', 'Organizer(string address, string phoneNumber)', 'Attendee()', 'TaskStatus(CompletionStatus status)', 'Registration(AttendeeStatus status)', 'CheckListTask(string description)', 'Location(string name, string address)', 'Event(string occasion, date startTime, date endTime)', 'EventType(string name)']\n",
      "['Enumerations:', 'Classes:', 'Event()', 'Organizer()', 'Attendee()', 'Task()', 'Location()']\n"
     ]
    },
    {
     "name": "stderr",
     "output_type": "stream",
     "text": [
      "\u001b[32m2025-02-19 01:04:20.059\u001b[0m | \u001b[1mINFO    \u001b[0m | \u001b[36mevaluation.model_matcher\u001b[0m:\u001b[36mmatch_classes\u001b[0m:\u001b[36m231\u001b[0m - \u001b[1mLoading cache from transformed_results/gpt-4o_output_yujing/1_Celebrations Organization System (CelO)_ada_embedding.txt\u001b[0m\n"
     ]
    },
    {
     "name": "stdout",
     "output_type": "stream",
     "text": [
      "['Enumerations:', 'Position(GK, LB)', 'Recommendation(KEY_PLAYER, FIRST_TEAM_PLAYER, RESERVE_TEAM_PLAYER, PROSPECTIVE_PLAYER, NOT_RECOMMENDED)', 'ScoutingStatus(LONG_LISTED, SHORT_LISTED, RECOMMENDED_FOR_SIGNING, OFFER_MADE)', 'ScoutKind(REGULAR_SCOUNT, HEAD_SCOUT)', 'Classes:', 'TSS()', 'abstract Person(string firstName, string lastName)', 'Player(ScoutingStatus status)', 'HeadCoach()', 'Director()', 'Scout(ScoutKind scoutKind)', 'Club()', 'Offer(int value)', 'ScoutingAssignmnet()', 'ScoutReport(string pro, string con, Recommendation recommendation)', 'PlayerProfile(Position position)', 'PlayerAttribute(string name, int value)']\n",
      "['Enumerations:', 'Recommendation(KeyPlayer, FirstTeamPlayer, ReserveTeamPlayer, ProspectivePlayer, NotAGoodSigning)', 'Classes:', 'Employee()', 'Club()', 'HeadCoach()', 'Director()', 'Scout()', 'PlayerProfile()', 'Player()', 'ScoutingAssignment()', 'ScoutingReport()']\n"
     ]
    },
    {
     "name": "stderr",
     "output_type": "stream",
     "text": [
      "\u001b[32m2025-02-19 01:04:20.308\u001b[0m | \u001b[1mINFO    \u001b[0m | \u001b[36mevaluation.model_matcher\u001b[0m:\u001b[36mmatch_classes\u001b[0m:\u001b[36m231\u001b[0m - \u001b[1mLoading cache from transformed_results/gpt-4o_output_yujing/2_Team Sports Scouting (TSS)_ada_embedding.txt\u001b[0m\n"
     ]
    },
    {
     "name": "stdout",
     "output_type": "stream",
     "text": [
      "['Enumerations:', 'DeviceStatus(Activated, Deactivated)', 'CommandType (lockDoor, turnOnHeating)', 'CommandStatus (Requested, Completed, Failed)', 'RuleStatus (created, edited, activated, deactivated)', 'BinaryOp (AND, OR )', 'Classes:', 'SHAS()', 'SmartHome()', 'User(string name)', 'Address(string city, string postalCode, string street, string aptNumber)', 'Room()', 'abstract Device(DeviceStatus deviceStatus, int deviceID)', 'SensorDevice()', 'ActuatorDevice()', 'ActvityLog()', 'abstract RuntimeElement(time timestamp)', 'SensorReading(double value)', 'ControlCommand (CommandType commandType, CommandStatus commandStatus)', 'AlertRule (RuleStatus ruleStatus)', 'abstract BooleanExpression()', 'RelationalTerm()', 'NotExpression()', 'BinaryExpression(BinaryOp binaryOp)', 'CommandSequence()']\n",
      "['Enumerations:', 'DeviceType(TemperatureSensor, MovementSensor, LightController, LockController)', 'CommandStatus(Requested, Completed, Failed)', 'BooleanOperator(AND, OR, NOT)', 'Classes:', 'Device()', 'SmartHomeAutomationSystem()', 'User()', 'SmartHome()', 'Room()', 'SensorDevice()', 'ActuatorDevice()', 'AutomationRule()', 'ActivityLog()']\n"
     ]
    },
    {
     "name": "stderr",
     "output_type": "stream",
     "text": [
      "\u001b[32m2025-02-19 01:04:20.573\u001b[0m | \u001b[1mINFO    \u001b[0m | \u001b[36mevaluation.model_matcher\u001b[0m:\u001b[36mmatch_classes\u001b[0m:\u001b[36m231\u001b[0m - \u001b[1mLoading cache from transformed_results/gpt-4o_output_yujing/3_SHAS_ada_embedding.txt\u001b[0m\n"
     ]
    },
    {
     "name": "stdout",
     "output_type": "stream",
     "text": [
      "['Enumerations:', 'LevelOfTutoring(PrimarySchool, HighSchool, University)', 'SessionStatus(Proposed, Confirmed, Completed, Paid, Cancelled)', 'PaymentKind(CreditCard, WireTransfer)', 'Classes:', 'OTS()', 'User(string name, string email)', 'BestTutorAward(int year, int month)', 'Tutor(string bankAccount)', 'TutoringOffer(float hourlyPrice)', 'Subject(string name)', 'TutorAvailability(Date startTime, Time endTime)', 'abstract TutoringRole()', 'abstract TutoringElement(LevelOfTutoring tutoringLevel)', 'Student()', 'TutoringRequest()', 'TutoringSession(Date sessionDate, float totalPrice, SessionStatus sessionStatus)', 'Payment(PaymentKind paymentForm, date paymentDate)']\n",
      "['Enumerations:', 'ExpertiseLevel(PrimarySchool, HighSchool, University)', 'PaymentMethod(CreditCard, WireTransfer)', 'Classes:', 'User()', 'Student()', 'Tutor()', 'TutoringSession()', 'TutoringRequest()', 'Payment()']\n"
     ]
    },
    {
     "name": "stderr",
     "output_type": "stream",
     "text": [
      "\u001b[32m2025-02-19 01:04:20.850\u001b[0m | \u001b[1mINFO    \u001b[0m | \u001b[36mevaluation.model_matcher\u001b[0m:\u001b[36mmatch_classes\u001b[0m:\u001b[36m231\u001b[0m - \u001b[1mLoading cache from transformed_results/gpt-4o_output_yujing/4_Online Tutoring System (OTS)_ada_embedding.txt\u001b[0m\n"
     ]
    },
    {
     "name": "stdout",
     "output_type": "stream",
     "text": [
      "['Enumerations:', 'Classes:', 'DestroyBlock()', 'User(string username, string password)', 'BlockAssignment(int gridHorizontalPosition, int gridVerticalPosition)', 'Level (boolean isRandom)', 'Game (string name, int nrBlocksPerLevel)', 'Block(int id, int red, int green, int blue, int points)', 'Paddle(int amxPaddleLength, int minPaddleLength)', 'Ball(int minBallSpeedX, int minBallSpeedY)', 'HallOfFameEntry(int score)', 'PlayedGame(int id, int score, int lives, int currentLevel)', 'PlayedBall(double ballDirectionX, double ballDirectionY, double currentBallX, double currentBallY)', 'PlayedPaddle(double currentPaddleLength, double currentPaddleX, double currentPaddleY)', 'PlayedBlockAssignment(int x, int y)', 'Player()', 'Admin()']\n",
      "['Enumerations:', 'Classes:', 'User()', 'Game()', 'Admin()', 'Player()', 'Block()', 'Level()', 'Ball()']\n"
     ]
    },
    {
     "name": "stderr",
     "output_type": "stream",
     "text": [
      "\u001b[32m2025-02-19 01:04:21.128\u001b[0m | \u001b[1mINFO    \u001b[0m | \u001b[36mevaluation.model_matcher\u001b[0m:\u001b[36mmatch_classes\u001b[0m:\u001b[36m231\u001b[0m - \u001b[1mLoading cache from transformed_results/gpt-4o_output_yujing/5_Block_ada_embedding.txt\u001b[0m\n"
     ]
    },
    {
     "name": "stdout",
     "output_type": "stream",
     "text": [
      "['Enumerations:', 'Mode(design, game)', 'Color(red, blue, green, yellow)', 'Classes:', 'TileO()', 'Game(int currentConnectionPieces, Mode mode, int spaceConnectionPieces, int numberOfActionCards)', 'Connection()', 'Die()', 'Deck()', 'abstract Tile(int x, int y, boolean hasBeenVisited)', 'abstract ActionCard (string instructions)', 'RollDieActionCard()', 'ConnectTilesActionCard()', 'RemoveConnectionActionCard()', 'TeleportActionCard()', 'LoseTurnActionCard()', 'WinTile()', 'ActionTile(int inactivityPeriod, int turnsUntilActive)', 'NormalTile()', 'Player(int number, int turnsUntilActive, Color color)']\n",
      "['Enumerations:', 'Classes:', 'Game()', 'Designer()', 'Board()', 'Player()', 'Tile()', 'Die()', 'ActionCard()', 'ActionTile()']\n"
     ]
    },
    {
     "name": "stderr",
     "output_type": "stream",
     "text": [
      "\u001b[32m2025-02-19 01:04:21.472\u001b[0m | \u001b[1mINFO    \u001b[0m | \u001b[36mevaluation.model_matcher\u001b[0m:\u001b[36mmatch_classes\u001b[0m:\u001b[36m231\u001b[0m - \u001b[1mLoading cache from transformed_results/gpt-4o_output_yujing/6_Tile-O_ada_embedding.txt\u001b[0m\n"
     ]
    },
    {
     "name": "stdout",
     "output_type": "stream",
     "text": [
      "['Enumerations:', 'RoomType(SINGLE, DOUBLE, TWIN)', 'BookingStatus(FINALIZED, CONFIRMED, CANCELLED_BY_HBMS, PRELIMINARY, CANCELLED_BY_TRAVELLER, CANCELLED_BY_HOTEL)', 'PaymentType (PREPAID, PAID_AT_HOTEL)', 'Classes:', 'HotelBookingManager()', 'HotelChain()', 'Traveller (string name, int reliabilityRating)', 'BillingInformation(string companyName, string address)', 'TravelPreference(string preference, string value)', 'Hotel (string city, string country, string area)', 'abstract Offer()', 'SpecialOffer()', 'RegularOffer()', 'TravelSearch()', 'SearchInfo()', 'RoomAvailability()', 'abstract TripInfo(int numberOfRooms, RoomType roomType, date arrivalDate, date departureDate, float budgetPerNight)', 'BookingInfo()', 'Booking (int bookingId, date cancellationDeadline, string creditCardNumber, BookingStatus bookingStatus, PaymentType paymentType, date confirmationDate, float paidAmount)']\n",
      "['Enumerations:', 'RoomType(Single, Double, Twin)', 'Classes:', 'Traveller()', 'Booking()', 'Hotel()', 'Room()', 'Offer()', 'CreditCard()']\n"
     ]
    },
    {
     "name": "stderr",
     "output_type": "stream",
     "text": [
      "\u001b[32m2025-02-19 01:04:21.749\u001b[0m | \u001b[1mINFO    \u001b[0m | \u001b[36mevaluation.model_matcher\u001b[0m:\u001b[36mmatch_classes\u001b[0m:\u001b[36m231\u001b[0m - \u001b[1mLoading cache from transformed_results/gpt-4o_output_yujing/7_HBMS_ada_embedding.txt\u001b[0m\n"
     ]
    },
    {
     "name": "stdout",
     "output_type": "stream",
     "text": [
      "Processing sherpa with gpt-4o\n"
     ]
    },
    {
     "data": {
      "application/vnd.jupyter.widget-view+json": {
       "model_id": "bd9b7d56ef474ed8a8906cb31acc5c7e",
       "version_major": 2,
       "version_minor": 0
      },
      "text/plain": [
       "  0%|          | 0/8 [00:00<?, ?it/s]"
      ]
     },
     "metadata": {},
     "output_type": "display_data"
    },
    {
     "name": "stdout",
     "output_type": "stream",
     "text": [
      "['Enumerations:', 'Interval(weekly, monthly, everyHalfYear, yearly)', 'AccessType (reservable, walkIn, dropOff)', 'DayOfWeek(Monday, Tuesday, Wednesday, Thursday, Friday, Saturday, Sunday)', 'Classes:', 'LabTracker()', 'Person(string lastName, string firstName, string address, string phoneNumber)', 'abstract PersonRole(idNumber)', 'Patient (string dateOfBirth)', 'Doctor (string signature)', 'Requisition (string effectiveDate, int repetitionCount, Interval repetitionInterval)', 'TestResult(boolean negative, string report)', 'SpecificTest(Data date)', 'Appointment (string confirmation, Date date, string startTime, string endTime)', 'BusinessHour(DayOfWeek dayOfWeek, string startTime, string endTime)', 'Lab (string registrationNumber, string name, string address, boolean changeCancelFee)', 'Test (string name, string duration)', 'TestType(string name, string durationAdditive, AccessType access)']\n",
      "['Enumerations:', 'RepeatInterval(Weekly, Monthly, HalfYearly, Yearly)', 'Classes:', 'LabTracker()', 'Person()', 'Doctor()', 'Requisition()', 'Test()', 'Patient()', 'Appointment()', 'Lab()', 'Report()']\n"
     ]
    },
    {
     "name": "stderr",
     "output_type": "stream",
     "text": [
      "\u001b[32m2025-02-19 01:04:22.007\u001b[0m | \u001b[1mINFO    \u001b[0m | \u001b[36mevaluation.model_matcher\u001b[0m:\u001b[36mmatch_classes\u001b[0m:\u001b[36m231\u001b[0m - \u001b[1mLoading cache from transformed_results/gpt-4o_output_sherpa/0_Lab Requisition Management System_ada_embedding.txt\u001b[0m\n"
     ]
    },
    {
     "name": "stdout",
     "output_type": "stream",
     "text": [
      "['Enumerations:', 'AttendeeStatus(Yes, Maybe, No, NoResponse)', 'CompletionStatus(ToBeDone, Done, NotApplicable, Attendee)', 'Classes:', 'CelO()', 'Person(string lastName, string firstName, string emailAddress, string password)', 'abstract PersonRole()', 'Organizer(string address, string phoneNumber)', 'Attendee()', 'TaskStatus(CompletionStatus status)', 'Registration(AttendeeStatus status)', 'CheckListTask(string description)', 'Location(string name, string address)', 'Event(string occasion, date startTime, date endTime)', 'EventType(string name)']\n",
      "['Enumerations:', 'Classes:', 'CelOApplication()', 'Event()', 'Person()', 'Organizer()', 'Attendee()', 'Task()', 'Invitation()', 'Account()', 'Location()', 'Checklist()']\n"
     ]
    },
    {
     "name": "stderr",
     "output_type": "stream",
     "text": [
      "\u001b[32m2025-02-19 01:04:22.262\u001b[0m | \u001b[1mINFO    \u001b[0m | \u001b[36mevaluation.model_matcher\u001b[0m:\u001b[36mmatch_classes\u001b[0m:\u001b[36m231\u001b[0m - \u001b[1mLoading cache from transformed_results/gpt-4o_output_sherpa/1_Celebrations Organization System (CelO)_ada_embedding.txt\u001b[0m\n"
     ]
    },
    {
     "name": "stdout",
     "output_type": "stream",
     "text": [
      "['Enumerations:', 'Position(GK, LB)', 'Recommendation(KEY_PLAYER, FIRST_TEAM_PLAYER, RESERVE_TEAM_PLAYER, PROSPECTIVE_PLAYER, NOT_RECOMMENDED)', 'ScoutingStatus(LONG_LISTED, SHORT_LISTED, RECOMMENDED_FOR_SIGNING, OFFER_MADE)', 'ScoutKind(REGULAR_SCOUNT, HEAD_SCOUT)', 'Classes:', 'TSS()', 'abstract Person(string firstName, string lastName)', 'Player(ScoutingStatus status)', 'HeadCoach()', 'Director()', 'Scout(ScoutKind scoutKind)', 'Club()', 'Offer(int value)', 'ScoutingAssignmnet()', 'ScoutReport(string pro, string con, Recommendation recommendation)', 'PlayerProfile(Position position)', 'PlayerAttribute(string name, int value)']\n",
      "['Enumerations:', 'Recommendation(KeyPlayer, FirstTeamPlayer, ReserveTeamPlayer, ProspectivePlayer, NotAGoodSigning)', 'Classes:', 'Team()', 'Employee()', 'Club()', 'HeadCoach()', 'Director()', 'Scout()', 'PlayerProfile()', 'Player()', 'ScoutingAssignment()', 'ScoutingReport()', 'ListManager()']\n"
     ]
    },
    {
     "name": "stderr",
     "output_type": "stream",
     "text": [
      "\u001b[32m2025-02-19 01:04:22.520\u001b[0m | \u001b[1mINFO    \u001b[0m | \u001b[36mevaluation.model_matcher\u001b[0m:\u001b[36mmatch_classes\u001b[0m:\u001b[36m231\u001b[0m - \u001b[1mLoading cache from transformed_results/gpt-4o_output_sherpa/2_Team Sports Scouting (TSS)_ada_embedding.txt\u001b[0m\n"
     ]
    },
    {
     "name": "stdout",
     "output_type": "stream",
     "text": [
      "['Enumerations:', 'DeviceStatus(Activated, Deactivated)', 'CommandType (lockDoor, turnOnHeating)', 'CommandStatus (Requested, Completed, Failed)', 'RuleStatus (created, edited, activated, deactivated)', 'BinaryOp (AND, OR )', 'Classes:', 'SHAS()', 'SmartHome()', 'User(string name)', 'Address(string city, string postalCode, string street, string aptNumber)', 'Room()', 'abstract Device(DeviceStatus deviceStatus, int deviceID)', 'SensorDevice()', 'ActuatorDevice()', 'ActvityLog()', 'abstract RuntimeElement(time timestamp)', 'SensorReading(double value)', 'ControlCommand (CommandType commandType, CommandStatus commandStatus)', 'AlertRule (RuleStatus ruleStatus)', 'abstract BooleanExpression()', 'RelationalTerm()', 'NotExpression()', 'BinaryExpression(BinaryOp binaryOp)', 'CommandSequence()']\n",
      "['Enumerations:', 'Classes:', 'SmartHomeAutomationSystem()', 'User()', 'SmartHome()', 'Room()', 'Device()', 'SensorDevice()', 'ActuatorDevice()', 'SensorReading()', 'ControlCommand()', 'ActivityLog()', 'AutomationRule()', 'UserRole()', 'OwnerRole()']\n"
     ]
    },
    {
     "name": "stderr",
     "output_type": "stream",
     "text": [
      "\u001b[32m2025-02-19 01:04:22.826\u001b[0m | \u001b[1mINFO    \u001b[0m | \u001b[36mevaluation.model_matcher\u001b[0m:\u001b[36mmatch_classes\u001b[0m:\u001b[36m231\u001b[0m - \u001b[1mLoading cache from transformed_results/gpt-4o_output_sherpa/3_SHAS_ada_embedding.txt\u001b[0m\n"
     ]
    },
    {
     "name": "stdout",
     "output_type": "stream",
     "text": [
      "['Enumerations:', 'LevelOfTutoring(PrimarySchool, HighSchool, University)', 'SessionStatus(Proposed, Confirmed, Completed, Paid, Cancelled)', 'PaymentKind(CreditCard, WireTransfer)', 'Classes:', 'OTS()', 'User(string name, string email)', 'BestTutorAward(int year, int month)', 'Tutor(string bankAccount)', 'TutoringOffer(float hourlyPrice)', 'Subject(string name)', 'TutorAvailability(Date startTime, Time endTime)', 'abstract TutoringRole()', 'abstract TutoringElement(LevelOfTutoring tutoringLevel)', 'Student()', 'TutoringRequest()', 'TutoringSession(Date sessionDate, float totalPrice, SessionStatus sessionStatus)', 'Payment(PaymentKind paymentForm, date paymentDate)']\n",
      "['Enumerations:', 'Classes:', 'Person()', 'Tutor()', 'Student()', 'TutoringSession()', 'TutoringRequest()', 'Payment()', 'Availability()', 'CancellationPolicy()']\n"
     ]
    },
    {
     "name": "stderr",
     "output_type": "stream",
     "text": [
      "\u001b[32m2025-02-19 01:04:23.097\u001b[0m | \u001b[1mINFO    \u001b[0m | \u001b[36mevaluation.model_matcher\u001b[0m:\u001b[36mmatch_classes\u001b[0m:\u001b[36m231\u001b[0m - \u001b[1mLoading cache from transformed_results/gpt-4o_output_sherpa/4_Online Tutoring System (OTS)_ada_embedding.txt\u001b[0m\n"
     ]
    },
    {
     "name": "stdout",
     "output_type": "stream",
     "text": [
      "['Enumerations:', 'Classes:', 'DestroyBlock()', 'User(string username, string password)', 'BlockAssignment(int gridHorizontalPosition, int gridVerticalPosition)', 'Level (boolean isRandom)', 'Game (string name, int nrBlocksPerLevel)', 'Block(int id, int red, int green, int blue, int points)', 'Paddle(int amxPaddleLength, int minPaddleLength)', 'Ball(int minBallSpeedX, int minBallSpeedY)', 'HallOfFameEntry(int score)', 'PlayedGame(int id, int score, int lives, int currentLevel)', 'PlayedBall(double ballDirectionX, double ballDirectionY, double currentBallX, double currentBallY)', 'PlayedPaddle(double currentPaddleLength, double currentPaddleX, double currentPaddleY)', 'PlayedBlockAssignment(int x, int y)', 'Player()', 'Admin()']\n",
      "['Enumerations:', 'Classes:', 'DestroyBlockApplication()', 'User()', 'Admin()', 'Player()', 'Game()', 'Block()', 'Level()', 'HallOfFame()', 'GameSession()']\n"
     ]
    },
    {
     "name": "stderr",
     "output_type": "stream",
     "text": [
      "\u001b[32m2025-02-19 01:04:23.346\u001b[0m | \u001b[1mINFO    \u001b[0m | \u001b[36mevaluation.model_matcher\u001b[0m:\u001b[36mmatch_classes\u001b[0m:\u001b[36m231\u001b[0m - \u001b[1mLoading cache from transformed_results/gpt-4o_output_sherpa/5_Block_ada_embedding.txt\u001b[0m\n"
     ]
    },
    {
     "name": "stdout",
     "output_type": "stream",
     "text": [
      "['Enumerations:', 'Mode(design, game)', 'Color(red, blue, green, yellow)', 'Classes:', 'TileO()', 'Game(int currentConnectionPieces, Mode mode, int spaceConnectionPieces, int numberOfActionCards)', 'Connection()', 'Die()', 'Deck()', 'abstract Tile(int x, int y, boolean hasBeenVisited)', 'abstract ActionCard (string instructions)', 'RollDieActionCard()', 'ConnectTilesActionCard()', 'RemoveConnectionActionCard()', 'TeleportActionCard()', 'LoseTurnActionCard()', 'WinTile()', 'ActionTile(int inactivityPeriod, int turnsUntilActive)', 'NormalTile()', 'Player(int number, int turnsUntilActive, Color color)']\n",
      "['Enumerations:', 'ActionType(RollExtraTurn, ConnectTiles, RemoveConnection, MoveToTile, LoseTurn)', 'Classes:', 'TileOApplication()', 'Game()', 'Designer()', 'Board()', 'Player()', 'Tile()', 'ActionCard()']\n"
     ]
    },
    {
     "name": "stderr",
     "output_type": "stream",
     "text": [
      "\u001b[32m2025-02-19 01:04:23.614\u001b[0m | \u001b[1mINFO    \u001b[0m | \u001b[36mevaluation.model_matcher\u001b[0m:\u001b[36mmatch_classes\u001b[0m:\u001b[36m231\u001b[0m - \u001b[1mLoading cache from transformed_results/gpt-4o_output_sherpa/6_Tile-O_ada_embedding.txt\u001b[0m\n"
     ]
    },
    {
     "name": "stdout",
     "output_type": "stream",
     "text": [
      "['Enumerations:', 'RoomType(SINGLE, DOUBLE, TWIN)', 'BookingStatus(FINALIZED, CONFIRMED, CANCELLED_BY_HBMS, PRELIMINARY, CANCELLED_BY_TRAVELLER, CANCELLED_BY_HOTEL)', 'PaymentType (PREPAID, PAID_AT_HOTEL)', 'Classes:', 'HotelBookingManager()', 'HotelChain()', 'Traveller (string name, int reliabilityRating)', 'BillingInformation(string companyName, string address)', 'TravelPreference(string preference, string value)', 'Hotel (string city, string country, string area)', 'abstract Offer()', 'SpecialOffer()', 'RegularOffer()', 'TravelSearch()', 'SearchInfo()', 'RoomAvailability()', 'abstract TripInfo(int numberOfRooms, RoomType roomType, date arrivalDate, date departureDate, float budgetPerNight)', 'BookingInfo()', 'Booking (int bookingId, date cancellationDeadline, string creditCardNumber, BookingStatus bookingStatus, PaymentType paymentType, date confirmationDate, float paidAmount)']\n",
      "['Enumerations:', 'Classes:', 'Hotel()', 'Traveller()', 'Booking()', 'Room()', 'HotelChain()', 'SpecialOffer()', 'CreditCard()', 'Address()', 'ReliabilityRating()', 'Payment()', 'SearchCriteria()']\n"
     ]
    },
    {
     "name": "stderr",
     "output_type": "stream",
     "text": [
      "\u001b[32m2025-02-19 01:04:23.956\u001b[0m | \u001b[1mINFO    \u001b[0m | \u001b[36mevaluation.model_matcher\u001b[0m:\u001b[36mmatch_classes\u001b[0m:\u001b[36m231\u001b[0m - \u001b[1mLoading cache from transformed_results/gpt-4o_output_sherpa/7_HBMS_ada_embedding.txt\u001b[0m\n"
     ]
    },
    {
     "name": "stdout",
     "output_type": "stream",
     "text": [
      "Processing direct with gpt-4o\n"
     ]
    },
    {
     "data": {
      "application/vnd.jupyter.widget-view+json": {
       "model_id": "e44149bbb0ce496eb47acfb12ebe2aed",
       "version_major": 2,
       "version_minor": 0
      },
      "text/plain": [
       "  0%|          | 0/8 [00:00<?, ?it/s]"
      ]
     },
     "metadata": {},
     "output_type": "display_data"
    },
    {
     "name": "stdout",
     "output_type": "stream",
     "text": [
      "['Enumerations:', 'Interval(weekly, monthly, everyHalfYear, yearly)', 'AccessType (reservable, walkIn, dropOff)', 'DayOfWeek(Monday, Tuesday, Wednesday, Thursday, Friday, Saturday, Sunday)', 'Classes:', 'LabTracker()', 'Person(string lastName, string firstName, string address, string phoneNumber)', 'abstract PersonRole(idNumber)', 'Patient (string dateOfBirth)', 'Doctor (string signature)', 'Requisition (string effectiveDate, int repetitionCount, Interval repetitionInterval)', 'TestResult(boolean negative, string report)', 'SpecificTest(Data date)', 'Appointment (string confirmation, Date date, string startTime, string endTime)', 'BusinessHour(DayOfWeek dayOfWeek, string startTime, string endTime)', 'Lab (string registrationNumber, string name, string address, boolean changeCancelFee)', 'Test (string name, string duration)', 'TestType(string name, string durationAdditive, AccessType access)']\n",
      "['Enumerations:', 'RepetitionInterval(Weekly, Monthly, HalfYearly, Yearly)', 'TestStatus(Negative, Positive)', 'Classes:', 'LabTracker()', 'Doctor()', 'Patient()', 'Test()', 'Requisition()', 'Lab()', 'Appointment()']\n"
     ]
    },
    {
     "name": "stderr",
     "output_type": "stream",
     "text": [
      "\u001b[32m2025-02-19 01:04:24.239\u001b[0m | \u001b[1mINFO    \u001b[0m | \u001b[36mevaluation.model_matcher\u001b[0m:\u001b[36mmatch_classes\u001b[0m:\u001b[36m231\u001b[0m - \u001b[1mLoading cache from transformed_results/gpt-4o_output_direct/0_Lab Requisition Management System_ada_embedding.txt\u001b[0m\n"
     ]
    },
    {
     "name": "stdout",
     "output_type": "stream",
     "text": [
      "['Enumerations:', 'AttendeeStatus(Yes, Maybe, No, NoResponse)', 'CompletionStatus(ToBeDone, Done, NotApplicable, Attendee)', 'Classes:', 'CelO()', 'Person(string lastName, string firstName, string emailAddress, string password)', 'abstract PersonRole()', 'Organizer(string address, string phoneNumber)', 'Attendee()', 'TaskStatus(CompletionStatus status)', 'Registration(AttendeeStatus status)', 'CheckListTask(string description)', 'Location(string name, string address)', 'Event(string occasion, date startTime, date endTime)', 'EventType(string name)']\n",
      "['Enumerations:', 'CrimeStatus(Solved, Pending, Unsolved)', 'Classes:', 'PISystem()', 'PoliceStation()', 'Case()', 'PoliceOfficer()', 'Victim()', 'Crime()', 'Note()']\n"
     ]
    },
    {
     "name": "stderr",
     "output_type": "stream",
     "text": [
      "\u001b[32m2025-02-19 01:04:24.510\u001b[0m | \u001b[1mINFO    \u001b[0m | \u001b[36mevaluation.model_matcher\u001b[0m:\u001b[36mmatch_classes\u001b[0m:\u001b[36m231\u001b[0m - \u001b[1mLoading cache from transformed_results/gpt-4o_output_direct/1_Celebrations Organization System (CelO)_ada_embedding.txt\u001b[0m\n"
     ]
    },
    {
     "name": "stdout",
     "output_type": "stream",
     "text": [
      "['Enumerations:', 'Position(GK, LB)', 'Recommendation(KEY_PLAYER, FIRST_TEAM_PLAYER, RESERVE_TEAM_PLAYER, PROSPECTIVE_PLAYER, NOT_RECOMMENDED)', 'ScoutingStatus(LONG_LISTED, SHORT_LISTED, RECOMMENDED_FOR_SIGNING, OFFER_MADE)', 'ScoutKind(REGULAR_SCOUNT, HEAD_SCOUT)', 'Classes:', 'TSS()', 'abstract Person(string firstName, string lastName)', 'Player(ScoutingStatus status)', 'HeadCoach()', 'Director()', 'Scout(ScoutKind scoutKind)', 'Club()', 'Offer(int value)', 'ScoutingAssignmnet()', 'ScoutReport(string pro, string con, Recommendation recommendation)', 'PlayerProfile(Position position)', 'PlayerAttribute(string name, int value)']\n",
      "['Enumerations:', 'CrimeStatus(Solved, Pending, Unsolved)', 'Classes:', 'PISystem()', 'PoliceStation()', 'Case()', 'PoliceOfficer()', 'Victim()', 'Crime()', 'Note()']\n"
     ]
    },
    {
     "name": "stderr",
     "output_type": "stream",
     "text": [
      "\u001b[32m2025-02-19 01:04:24.780\u001b[0m | \u001b[1mINFO    \u001b[0m | \u001b[36mevaluation.model_matcher\u001b[0m:\u001b[36mmatch_classes\u001b[0m:\u001b[36m231\u001b[0m - \u001b[1mLoading cache from transformed_results/gpt-4o_output_direct/2_Team Sports Scouting (TSS)_ada_embedding.txt\u001b[0m\n"
     ]
    },
    {
     "name": "stdout",
     "output_type": "stream",
     "text": [
      "['Enumerations:', 'DeviceStatus(Activated, Deactivated)', 'CommandType (lockDoor, turnOnHeating)', 'CommandStatus (Requested, Completed, Failed)', 'RuleStatus (created, edited, activated, deactivated)', 'BinaryOp (AND, OR )', 'Classes:', 'SHAS()', 'SmartHome()', 'User(string name)', 'Address(string city, string postalCode, string street, string aptNumber)', 'Room()', 'abstract Device(DeviceStatus deviceStatus, int deviceID)', 'SensorDevice()', 'ActuatorDevice()', 'ActvityLog()', 'abstract RuntimeElement(time timestamp)', 'SensorReading(double value)', 'ControlCommand (CommandType commandType, CommandStatus commandStatus)', 'AlertRule (RuleStatus ruleStatus)', 'abstract BooleanExpression()', 'RelationalTerm()', 'NotExpression()', 'BinaryExpression(BinaryOp binaryOp)', 'CommandSequence()']\n",
      "['Enumerations:', 'DeviceStatus(Activated, Deactivated)', 'CommandStatus(Requested, Completed, Failed)', 'RuleStatus(Active, Deactivated)', 'Classes:', 'SmartHomeAutomationSystem()', 'SmartHome()', 'Room()', 'SensorDevice()', 'ActuatorDevice()', 'SensorReading()', 'ControlCommand()', 'ActivityLog()', 'AutomationRule()', 'Precondition()', 'Action()', 'RuleTrigger()']\n"
     ]
    },
    {
     "name": "stderr",
     "output_type": "stream",
     "text": [
      "\u001b[32m2025-02-19 01:04:25.070\u001b[0m | \u001b[1mINFO    \u001b[0m | \u001b[36mevaluation.model_matcher\u001b[0m:\u001b[36mmatch_classes\u001b[0m:\u001b[36m231\u001b[0m - \u001b[1mLoading cache from transformed_results/gpt-4o_output_direct/3_SHAS_ada_embedding.txt\u001b[0m\n"
     ]
    },
    {
     "name": "stdout",
     "output_type": "stream",
     "text": [
      "['Enumerations:', 'LevelOfTutoring(PrimarySchool, HighSchool, University)', 'SessionStatus(Proposed, Confirmed, Completed, Paid, Cancelled)', 'PaymentKind(CreditCard, WireTransfer)', 'Classes:', 'OTS()', 'User(string name, string email)', 'BestTutorAward(int year, int month)', 'Tutor(string bankAccount)', 'TutoringOffer(float hourlyPrice)', 'Subject(string name)', 'TutorAvailability(Date startTime, Time endTime)', 'abstract TutoringRole()', 'abstract TutoringElement(LevelOfTutoring tutoringLevel)', 'Student()', 'TutoringRequest()', 'TutoringSession(Date sessionDate, float totalPrice, SessionStatus sessionStatus)', 'Payment(PaymentKind paymentForm, date paymentDate)']\n",
      "['Enumerations:', 'Subject(Mathematics, Science, Literature)', 'Level(PrimarySchool, HighSchool, University)', 'Classes:', 'Tutor()', 'Student()', 'TutoringSession()']\n"
     ]
    },
    {
     "name": "stderr",
     "output_type": "stream",
     "text": [
      "\u001b[32m2025-02-19 01:04:25.338\u001b[0m | \u001b[1mINFO    \u001b[0m | \u001b[36mevaluation.model_matcher\u001b[0m:\u001b[36mmatch_classes\u001b[0m:\u001b[36m231\u001b[0m - \u001b[1mLoading cache from transformed_results/gpt-4o_output_direct/4_Online Tutoring System (OTS)_ada_embedding.txt\u001b[0m\n"
     ]
    },
    {
     "name": "stdout",
     "output_type": "stream",
     "text": [
      "['Enumerations:', 'Classes:', 'DestroyBlock()', 'User(string username, string password)', 'BlockAssignment(int gridHorizontalPosition, int gridVerticalPosition)', 'Level (boolean isRandom)', 'Game (string name, int nrBlocksPerLevel)', 'Block(int id, int red, int green, int blue, int points)', 'Paddle(int amxPaddleLength, int minPaddleLength)', 'Ball(int minBallSpeedX, int minBallSpeedY)', 'HallOfFameEntry(int score)', 'PlayedGame(int id, int score, int lives, int currentLevel)', 'PlayedBall(double ballDirectionX, double ballDirectionY, double currentBallX, double currentBallY)', 'PlayedPaddle(double currentPaddleLength, double currentPaddleX, double currentPaddleY)', 'PlayedBlockAssignment(int x, int y)', 'Player()', 'Admin()']\n",
      "['Enumerations:', 'Classes:', 'Game()', 'Admin()', 'Player()', 'Block()', 'Level()', 'GridPosition()', 'Speed()', 'Paddle()', 'Ball()', 'Life()', 'HallOfFame()']\n"
     ]
    },
    {
     "name": "stderr",
     "output_type": "stream",
     "text": [
      "\u001b[32m2025-02-19 01:04:25.595\u001b[0m | \u001b[1mINFO    \u001b[0m | \u001b[36mevaluation.model_matcher\u001b[0m:\u001b[36mmatch_classes\u001b[0m:\u001b[36m231\u001b[0m - \u001b[1mLoading cache from transformed_results/gpt-4o_output_direct/5_Block_ada_embedding.txt\u001b[0m\n"
     ]
    },
    {
     "name": "stdout",
     "output_type": "stream",
     "text": [
      "['Enumerations:', 'Mode(design, game)', 'Color(red, blue, green, yellow)', 'Classes:', 'TileO()', 'Game(int currentConnectionPieces, Mode mode, int spaceConnectionPieces, int numberOfActionCards)', 'Connection()', 'Die()', 'Deck()', 'abstract Tile(int x, int y, boolean hasBeenVisited)', 'abstract ActionCard (string instructions)', 'RollDieActionCard()', 'ConnectTilesActionCard()', 'RemoveConnectionActionCard()', 'TeleportActionCard()', 'LoseTurnActionCard()', 'WinTile()', 'ActionTile(int inactivityPeriod, int turnsUntilActive)', 'NormalTile()', 'Player(int number, int turnsUntilActive, Color color)']\n",
      "['Enumerations:', 'ActionCardType(RollDieForExtraTurn, ConnectTwoAdjacentTiles, RemoveConnectionPiece, MoveToArbitraryTile, LoseNextTurn)', 'Classes:', 'GameBoard()', 'Tile()', 'ConnectionPiece()', 'ActionCard()', 'Player()', 'Die()', 'ActionTile()']\n"
     ]
    },
    {
     "name": "stderr",
     "output_type": "stream",
     "text": [
      "\u001b[32m2025-02-19 01:04:25.863\u001b[0m | \u001b[1mINFO    \u001b[0m | \u001b[36mevaluation.model_matcher\u001b[0m:\u001b[36mmatch_classes\u001b[0m:\u001b[36m231\u001b[0m - \u001b[1mLoading cache from transformed_results/gpt-4o_output_direct/6_Tile-O_ada_embedding.txt\u001b[0m\n"
     ]
    },
    {
     "name": "stdout",
     "output_type": "stream",
     "text": [
      "['Enumerations:', 'RoomType(SINGLE, DOUBLE, TWIN)', 'BookingStatus(FINALIZED, CONFIRMED, CANCELLED_BY_HBMS, PRELIMINARY, CANCELLED_BY_TRAVELLER, CANCELLED_BY_HOTEL)', 'PaymentType (PREPAID, PAID_AT_HOTEL)', 'Classes:', 'HotelBookingManager()', 'HotelChain()', 'Traveller (string name, int reliabilityRating)', 'BillingInformation(string companyName, string address)', 'TravelPreference(string preference, string value)', 'Hotel (string city, string country, string area)', 'abstract Offer()', 'SpecialOffer()', 'RegularOffer()', 'TravelSearch()', 'SearchInfo()', 'RoomAvailability()', 'abstract TripInfo(int numberOfRooms, RoomType roomType, date arrivalDate, date departureDate, float budgetPerNight)', 'BookingInfo()', 'Booking (int bookingId, date cancellationDeadline, string creditCardNumber, BookingStatus bookingStatus, PaymentType paymentType, date confirmationDate, float paidAmount)']\n",
      "['Enumerations:', 'RoomType(Single, Double, Twin)', 'PaymentType(PrePaid, PaidAtHotel)', 'BookingStatus(Confirmed, Cancelled)', 'Classes:', 'HotelBookingManagementSystem()', 'Traveller()', 'Hotel()', 'Room()', 'Booking()']\n"
     ]
    },
    {
     "name": "stderr",
     "output_type": "stream",
     "text": [
      "\u001b[32m2025-02-19 01:04:26.150\u001b[0m | \u001b[1mINFO    \u001b[0m | \u001b[36mevaluation.model_matcher\u001b[0m:\u001b[36mmatch_classes\u001b[0m:\u001b[36m231\u001b[0m - \u001b[1mLoading cache from transformed_results/gpt-4o_output_direct/7_HBMS_ada_embedding.txt\u001b[0m\n"
     ]
    },
    {
     "name": "stdout",
     "output_type": "stream",
     "text": [
      "Processing yujing with gpt-4o-mini\n"
     ]
    },
    {
     "data": {
      "application/vnd.jupyter.widget-view+json": {
       "model_id": "798cfcf7c2d7433fa67515beddaf0a2c",
       "version_major": 2,
       "version_minor": 0
      },
      "text/plain": [
       "  0%|          | 0/8 [00:00<?, ?it/s]"
      ]
     },
     "metadata": {},
     "output_type": "display_data"
    },
    {
     "name": "stdout",
     "output_type": "stream",
     "text": [
      "['Enumerations:', 'Interval(weekly, monthly, everyHalfYear, yearly)', 'AccessType (reservable, walkIn, dropOff)', 'DayOfWeek(Monday, Tuesday, Wednesday, Thursday, Friday, Saturday, Sunday)', 'Classes:', 'LabTracker()', 'Person(string lastName, string firstName, string address, string phoneNumber)', 'abstract PersonRole(idNumber)', 'Patient (string dateOfBirth)', 'Doctor (string signature)', 'Requisition (string effectiveDate, int repetitionCount, Interval repetitionInterval)', 'TestResult(boolean negative, string report)', 'SpecificTest(Data date)', 'Appointment (string confirmation, Date date, string startTime, string endTime)', 'BusinessHour(DayOfWeek dayOfWeek, string startTime, string endTime)', 'Lab (string registrationNumber, string name, string address, boolean changeCancelFee)', 'Test (string name, string duration)', 'TestType(string name, string durationAdditive, AccessType access)']\n",
      "['Enumerations:', 'RepetitionInterval(Weekly, Monthly, HalfYearly, Yearly)', 'Classes:', 'LabTracker()', 'Doctor()', 'PersonRole()', 'Patient()', 'PersonRole()', 'Requisition()', 'Test()', 'Appointment()', 'Lab()', 'Result()', 'Report()', 'BusinessHours()', 'Fee()', 'Doctor()', 'PersonRole()', 'Patient()', 'PersonRole()']\n"
     ]
    },
    {
     "name": "stderr",
     "output_type": "stream",
     "text": [
      "\u001b[32m2025-02-19 01:04:26.479\u001b[0m | \u001b[1mINFO    \u001b[0m | \u001b[36mevaluation.model_matcher\u001b[0m:\u001b[36mmatch_classes\u001b[0m:\u001b[36m231\u001b[0m - \u001b[1mLoading cache from transformed_results/gpt-4o-mini_output_yujing/0_Lab Requisition Management System_ada_embedding.txt\u001b[0m\n"
     ]
    },
    {
     "name": "stdout",
     "output_type": "stream",
     "text": [
      "['Enumerations:', 'AttendeeStatus(Yes, Maybe, No, NoResponse)', 'CompletionStatus(ToBeDone, Done, NotApplicable, Attendee)', 'Classes:', 'CelO()', 'Person(string lastName, string firstName, string emailAddress, string password)', 'abstract PersonRole()', 'Organizer(string address, string phoneNumber)', 'Attendee()', 'TaskStatus(CompletionStatus status)', 'Registration(AttendeeStatus status)', 'CheckListTask(string description)', 'Location(string name, string address)', 'Event(string occasion, date startTime, date endTime)', 'EventType(string name)']\n",
      "['Enumerations:', 'Occasion(Birthday, Graduation, Other)', 'Classes:', 'Organizer()', 'Event()', 'Attendee()', 'Task()', 'Location()', 'Invitation()']\n"
     ]
    },
    {
     "name": "stderr",
     "output_type": "stream",
     "text": [
      "\u001b[32m2025-02-19 01:04:26.743\u001b[0m | \u001b[1mINFO    \u001b[0m | \u001b[36mevaluation.model_matcher\u001b[0m:\u001b[36mmatch_classes\u001b[0m:\u001b[36m231\u001b[0m - \u001b[1mLoading cache from transformed_results/gpt-4o-mini_output_yujing/1_Celebrations Organization System (CelO)_ada_embedding.txt\u001b[0m\n"
     ]
    },
    {
     "name": "stdout",
     "output_type": "stream",
     "text": [
      "['Enumerations:', 'Position(GK, LB)', 'Recommendation(KEY_PLAYER, FIRST_TEAM_PLAYER, RESERVE_TEAM_PLAYER, PROSPECTIVE_PLAYER, NOT_RECOMMENDED)', 'ScoutingStatus(LONG_LISTED, SHORT_LISTED, RECOMMENDED_FOR_SIGNING, OFFER_MADE)', 'ScoutKind(REGULAR_SCOUNT, HEAD_SCOUT)', 'Classes:', 'TSS()', 'abstract Person(string firstName, string lastName)', 'Player(ScoutingStatus status)', 'HeadCoach()', 'Director()', 'Scout(ScoutKind scoutKind)', 'Club()', 'Offer(int value)', 'ScoutingAssignmnet()', 'ScoutReport(string pro, string con, Recommendation recommendation)', 'PlayerProfile(Position position)', 'PlayerAttribute(string name, int value)']\n",
      "['Enumerations:', 'Recommendation(keyPlayer, firstTeamPlayer, reserveTeamPlayer, prospectivePlayer, notAGoodSigning)', 'Classes:', 'Employee()', 'HeadCoach()', 'Director()', 'Scout()', 'Player()', 'Profile()', 'Attribute()', 'ScoutingAssignment()', 'ScoutingReport()', 'ShortList()']\n"
     ]
    },
    {
     "name": "stderr",
     "output_type": "stream",
     "text": [
      "\u001b[32m2025-02-19 01:04:27.016\u001b[0m | \u001b[1mINFO    \u001b[0m | \u001b[36mevaluation.model_matcher\u001b[0m:\u001b[36mmatch_classes\u001b[0m:\u001b[36m231\u001b[0m - \u001b[1mLoading cache from transformed_results/gpt-4o-mini_output_yujing/2_Team Sports Scouting (TSS)_ada_embedding.txt\u001b[0m\n"
     ]
    },
    {
     "name": "stdout",
     "output_type": "stream",
     "text": [
      "['Enumerations:', 'DeviceStatus(Activated, Deactivated)', 'CommandType (lockDoor, turnOnHeating)', 'CommandStatus (Requested, Completed, Failed)', 'RuleStatus (created, edited, activated, deactivated)', 'BinaryOp (AND, OR )', 'Classes:', 'SHAS()', 'SmartHome()', 'User(string name)', 'Address(string city, string postalCode, string street, string aptNumber)', 'Room()', 'abstract Device(DeviceStatus deviceStatus, int deviceID)', 'SensorDevice()', 'ActuatorDevice()', 'ActvityLog()', 'abstract RuntimeElement(time timestamp)', 'SensorReading(double value)', 'ControlCommand (CommandType commandType, CommandStatus commandStatus)', 'AlertRule (RuleStatus ruleStatus)', 'abstract BooleanExpression()', 'RelationalTerm()', 'NotExpression()', 'BinaryExpression(BinaryOp binaryOp)', 'CommandSequence()']\n",
      "['Enumerations:', 'Classes:', 'SmartHome()', 'Room()', 'SensorDevice()', 'ActuatorDevice()', 'Sensor()', 'SensorDevice()', 'Actuator()', 'ActuatorDevice()', 'SensorReading()', 'ControlCommand()', 'Alert()', 'Owner()', 'AutomationRule()', 'Precondition()', 'Action()', 'ActiveRule()']\n"
     ]
    },
    {
     "name": "stderr",
     "output_type": "stream",
     "text": [
      "\u001b[32m2025-02-19 01:04:27.286\u001b[0m | \u001b[1mINFO    \u001b[0m | \u001b[36mevaluation.model_matcher\u001b[0m:\u001b[36mmatch_classes\u001b[0m:\u001b[36m231\u001b[0m - \u001b[1mLoading cache from transformed_results/gpt-4o-mini_output_yujing/3_SHAS_ada_embedding.txt\u001b[0m\n"
     ]
    },
    {
     "name": "stdout",
     "output_type": "stream",
     "text": [
      "['Enumerations:', 'LevelOfTutoring(PrimarySchool, HighSchool, University)', 'SessionStatus(Proposed, Confirmed, Completed, Paid, Cancelled)', 'PaymentKind(CreditCard, WireTransfer)', 'Classes:', 'OTS()', 'User(string name, string email)', 'BestTutorAward(int year, int month)', 'Tutor(string bankAccount)', 'TutoringOffer(float hourlyPrice)', 'Subject(string name)', 'TutorAvailability(Date startTime, Time endTime)', 'abstract TutoringRole()', 'abstract TutoringElement(LevelOfTutoring tutoringLevel)', 'Student()', 'TutoringRequest()', 'TutoringSession(Date sessionDate, float totalPrice, SessionStatus sessionStatus)', 'Payment(PaymentKind paymentForm, date paymentDate)']\n",
      "['Enumerations:', 'PaymentMethod(CreditCard, WireTransfer)', 'SubjectLevel(PrimarySchool, HighSchool, University)', 'Classes:', 'OTS()', 'Student()', 'UserRole()', 'Tutor()', 'UserRole()', 'Subject()', 'TutoringSession()', 'Availability()', 'Request()', 'Payment()', 'Cancellation()', 'Discount()']\n"
     ]
    },
    {
     "name": "stderr",
     "output_type": "stream",
     "text": [
      "\u001b[32m2025-02-19 01:04:27.546\u001b[0m | \u001b[1mINFO    \u001b[0m | \u001b[36mevaluation.model_matcher\u001b[0m:\u001b[36mmatch_classes\u001b[0m:\u001b[36m231\u001b[0m - \u001b[1mLoading cache from transformed_results/gpt-4o-mini_output_yujing/4_Online Tutoring System (OTS)_ada_embedding.txt\u001b[0m\n"
     ]
    },
    {
     "name": "stdout",
     "output_type": "stream",
     "text": [
      "['Enumerations:', 'Classes:', 'DestroyBlock()', 'User(string username, string password)', 'BlockAssignment(int gridHorizontalPosition, int gridVerticalPosition)', 'Level (boolean isRandom)', 'Game (string name, int nrBlocksPerLevel)', 'Block(int id, int red, int green, int blue, int points)', 'Paddle(int amxPaddleLength, int minPaddleLength)', 'Ball(int minBallSpeedX, int minBallSpeedY)', 'HallOfFameEntry(int score)', 'PlayedGame(int id, int score, int lives, int currentLevel)', 'PlayedBall(double ballDirectionX, double ballDirectionY, double currentBallX, double currentBallY)', 'PlayedPaddle(double currentPaddleLength, double currentPaddleX, double currentPaddleY)', 'PlayedBlockAssignment(int x, int y)', 'Player()', 'Admin()']\n",
      "['Enumerations:', 'GameMode(Play, Admin)', 'BlockColor(Red, Green, Blue, Yellow, Orange, Purple)', 'Classes:', 'Application()', 'User()', 'Admin()', 'Player()', 'Game()', 'Block()', 'Level()', 'Ball()', 'Paddle()', 'Score()', 'HallOfFame()', 'Admin()', 'UserRole()', 'Player()', 'UserRole()']\n"
     ]
    },
    {
     "name": "stderr",
     "output_type": "stream",
     "text": [
      "\u001b[32m2025-02-19 01:04:27.811\u001b[0m | \u001b[1mINFO    \u001b[0m | \u001b[36mevaluation.model_matcher\u001b[0m:\u001b[36mmatch_classes\u001b[0m:\u001b[36m231\u001b[0m - \u001b[1mLoading cache from transformed_results/gpt-4o-mini_output_yujing/5_Block_ada_embedding.txt\u001b[0m\n"
     ]
    },
    {
     "name": "stdout",
     "output_type": "stream",
     "text": [
      "['Enumerations:', 'Mode(design, game)', 'Color(red, blue, green, yellow)', 'Classes:', 'TileO()', 'Game(int currentConnectionPieces, Mode mode, int spaceConnectionPieces, int numberOfActionCards)', 'Connection()', 'Die()', 'Deck()', 'abstract Tile(int x, int y, boolean hasBeenVisited)', 'abstract ActionCard (string instructions)', 'RollDieActionCard()', 'ConnectTilesActionCard()', 'RemoveConnectionActionCard()', 'TeleportActionCard()', 'LoseTurnActionCard()', 'WinTile()', 'ActionTile(int inactivityPeriod, int turnsUntilActive)', 'NormalTile()', 'Player(int number, int turnsUntilActive, Color color)']\n",
      "['Enumerations:', 'ActionCardType(ExtraTurn, ConnectTiles, RemoveConnection, MovePiece, LoseTurn)', 'Classes:', 'TileOApplication()', 'GameDesigner()', 'BoardGame()', 'Player()', 'Tile()', 'ConnectionPiece()', 'ActionTile()', 'ActionCard()', 'Die()', 'PlayingPiece()', 'HiddenTile()', 'ActionCardDeck()', 'GamePlayer()', 'PlayerRole()', 'Spectator()', 'PlayerRole()']\n"
     ]
    },
    {
     "name": "stderr",
     "output_type": "stream",
     "text": [
      "\u001b[32m2025-02-19 01:04:28.112\u001b[0m | \u001b[1mINFO    \u001b[0m | \u001b[36mevaluation.model_matcher\u001b[0m:\u001b[36mmatch_classes\u001b[0m:\u001b[36m231\u001b[0m - \u001b[1mLoading cache from transformed_results/gpt-4o-mini_output_yujing/6_Tile-O_ada_embedding.txt\u001b[0m\n"
     ]
    },
    {
     "name": "stdout",
     "output_type": "stream",
     "text": [
      "['Enumerations:', 'RoomType(SINGLE, DOUBLE, TWIN)', 'BookingStatus(FINALIZED, CONFIRMED, CANCELLED_BY_HBMS, PRELIMINARY, CANCELLED_BY_TRAVELLER, CANCELLED_BY_HOTEL)', 'PaymentType (PREPAID, PAID_AT_HOTEL)', 'Classes:', 'HotelBookingManager()', 'HotelChain()', 'Traveller (string name, int reliabilityRating)', 'BillingInformation(string companyName, string address)', 'TravelPreference(string preference, string value)', 'Hotel (string city, string country, string area)', 'abstract Offer()', 'SpecialOffer()', 'RegularOffer()', 'TravelSearch()', 'SearchInfo()', 'RoomAvailability()', 'abstract TripInfo(int numberOfRooms, RoomType roomType, date arrivalDate, date departureDate, float budgetPerNight)', 'BookingInfo()', 'Booking (int bookingId, date cancellationDeadline, string creditCardNumber, BookingStatus bookingStatus, PaymentType paymentType, date confirmationDate, float paidAmount)']\n",
      "['Enumerations:', 'RoomType(Single, Double, Twin)', 'PaymentType(PrePaid, PayAtHotel)', 'HotelRating(OneStar, TwoStars, ThreeStars, FourStars, FiveStars)', 'Classes:', 'Hotel()', 'BookingRole()', 'PreliminaryBooking()', 'BookingRole()', 'FinalizedBooking()', 'BookingRole()', 'Traveller()', 'Offer()', 'Room()', 'CancellationPolicy()', 'BookingRole()', 'BookingRole()']\n"
     ]
    },
    {
     "name": "stderr",
     "output_type": "stream",
     "text": [
      "\u001b[32m2025-02-19 01:04:28.382\u001b[0m | \u001b[1mINFO    \u001b[0m | \u001b[36mevaluation.model_matcher\u001b[0m:\u001b[36mmatch_classes\u001b[0m:\u001b[36m231\u001b[0m - \u001b[1mLoading cache from transformed_results/gpt-4o-mini_output_yujing/7_HBMS_ada_embedding.txt\u001b[0m\n"
     ]
    },
    {
     "name": "stdout",
     "output_type": "stream",
     "text": [
      "Processing sherpa with gpt-4o-mini\n"
     ]
    },
    {
     "data": {
      "application/vnd.jupyter.widget-view+json": {
       "model_id": "153cbcd27bd04d869cc1a34e950717f5",
       "version_major": 2,
       "version_minor": 0
      },
      "text/plain": [
       "  0%|          | 0/8 [00:00<?, ?it/s]"
      ]
     },
     "metadata": {},
     "output_type": "display_data"
    },
    {
     "name": "stdout",
     "output_type": "stream",
     "text": [
      "['Enumerations:', 'Interval(weekly, monthly, everyHalfYear, yearly)', 'AccessType (reservable, walkIn, dropOff)', 'DayOfWeek(Monday, Tuesday, Wednesday, Thursday, Friday, Saturday, Sunday)', 'Classes:', 'LabTracker()', 'Person(string lastName, string firstName, string address, string phoneNumber)', 'abstract PersonRole(idNumber)', 'Patient (string dateOfBirth)', 'Doctor (string signature)', 'Requisition (string effectiveDate, int repetitionCount, Interval repetitionInterval)', 'TestResult(boolean negative, string report)', 'SpecificTest(Data date)', 'Appointment (string confirmation, Date date, string startTime, string endTime)', 'BusinessHour(DayOfWeek dayOfWeek, string startTime, string endTime)', 'Lab (string registrationNumber, string name, string address, boolean changeCancelFee)', 'Test (string name, string duration)', 'TestType(string name, string durationAdditive, AccessType access)']\n",
      "['Enumerations:', 'Interval(Weekly, Monthly, HalfYearly, Yearly)', 'Classes:', 'LabTracker()', 'Doctor()', 'Role()', 'Requisition()', 'Test()', 'Patient()', 'Role()', 'Appointment()', 'Lab()', 'Report()', 'BusinessHours()', 'Duration()', 'Repetition()']\n"
     ]
    },
    {
     "name": "stderr",
     "output_type": "stream",
     "text": [
      "\u001b[32m2025-02-19 01:04:28.690\u001b[0m | \u001b[1mINFO    \u001b[0m | \u001b[36mevaluation.model_matcher\u001b[0m:\u001b[36mmatch_classes\u001b[0m:\u001b[36m231\u001b[0m - \u001b[1mLoading cache from transformed_results/gpt-4o-mini_output_sherpa/0_Lab Requisition Management System_ada_embedding.txt\u001b[0m\n"
     ]
    },
    {
     "name": "stdout",
     "output_type": "stream",
     "text": [
      "['Enumerations:', 'AttendeeStatus(Yes, Maybe, No, NoResponse)', 'CompletionStatus(ToBeDone, Done, NotApplicable, Attendee)', 'Classes:', 'CelO()', 'Person(string lastName, string firstName, string emailAddress, string password)', 'abstract PersonRole()', 'Organizer(string address, string phoneNumber)', 'Attendee()', 'TaskStatus(CompletionStatus status)', 'Registration(AttendeeStatus status)', 'CheckListTask(string description)', 'Location(string name, string address)', 'Event(string occasion, date startTime, date endTime)', 'EventType(string name)']\n",
      "['Enumerations:', 'EventType(BirthdayParty, GraduationParty, Other)', 'Classes:', 'Organizer()', 'Event()', 'Attendee()', 'Task()', 'Checklist()', 'Location()', 'Invitation()', 'Account()', 'Attendance()']\n"
     ]
    },
    {
     "name": "stderr",
     "output_type": "stream",
     "text": [
      "\u001b[32m2025-02-19 01:04:28.993\u001b[0m | \u001b[1mINFO    \u001b[0m | \u001b[36mevaluation.model_matcher\u001b[0m:\u001b[36mmatch_classes\u001b[0m:\u001b[36m231\u001b[0m - \u001b[1mLoading cache from transformed_results/gpt-4o-mini_output_sherpa/1_Celebrations Organization System (CelO)_ada_embedding.txt\u001b[0m\n"
     ]
    },
    {
     "name": "stdout",
     "output_type": "stream",
     "text": [
      "['Enumerations:', 'Position(GK, LB)', 'Recommendation(KEY_PLAYER, FIRST_TEAM_PLAYER, RESERVE_TEAM_PLAYER, PROSPECTIVE_PLAYER, NOT_RECOMMENDED)', 'ScoutingStatus(LONG_LISTED, SHORT_LISTED, RECOMMENDED_FOR_SIGNING, OFFER_MADE)', 'ScoutKind(REGULAR_SCOUNT, HEAD_SCOUT)', 'Classes:', 'TSS()', 'abstract Person(string firstName, string lastName)', 'Player(ScoutingStatus status)', 'HeadCoach()', 'Director()', 'Scout(ScoutKind scoutKind)', 'Club()', 'Offer(int value)', 'ScoutingAssignmnet()', 'ScoutReport(string pro, string con, Recommendation recommendation)', 'PlayerProfile(Position position)', 'PlayerAttribute(string name, int value)']\n",
      "['Enumerations:', 'RecommendationType(KeyPlayer, FirstTeamPlayer, ReserveTeamPlayer, ProspectivePlayer, NotAGoodSigning)', 'Classes:', 'TeamSportsScoutingSystem()', 'Employee()', 'HeadCoach()', 'Director()', 'Scout()', 'HeadScout()', 'Player()', 'PlayerProfile()', 'PlayerAttribute()', 'ScoutingAssignment()', 'ScoutingReport()', 'Recommendation()', 'ShortList()', 'Offer()']\n"
     ]
    },
    {
     "name": "stderr",
     "output_type": "stream",
     "text": [
      "\u001b[32m2025-02-19 01:04:29.263\u001b[0m | \u001b[1mINFO    \u001b[0m | \u001b[36mevaluation.model_matcher\u001b[0m:\u001b[36mmatch_classes\u001b[0m:\u001b[36m231\u001b[0m - \u001b[1mLoading cache from transformed_results/gpt-4o-mini_output_sherpa/2_Team Sports Scouting (TSS)_ada_embedding.txt\u001b[0m\n"
     ]
    },
    {
     "name": "stdout",
     "output_type": "stream",
     "text": [
      "['Enumerations:', 'DeviceStatus(Activated, Deactivated)', 'CommandType (lockDoor, turnOnHeating)', 'CommandStatus (Requested, Completed, Failed)', 'RuleStatus (created, edited, activated, deactivated)', 'BinaryOp (AND, OR )', 'Classes:', 'SHAS()', 'SmartHome()', 'User(string name)', 'Address(string city, string postalCode, string street, string aptNumber)', 'Room()', 'abstract Device(DeviceStatus deviceStatus, int deviceID)', 'SensorDevice()', 'ActuatorDevice()', 'ActvityLog()', 'abstract RuntimeElement(time timestamp)', 'SensorReading(double value)', 'ControlCommand (CommandType commandType, CommandStatus commandStatus)', 'AlertRule (RuleStatus ruleStatus)', 'abstract BooleanExpression()', 'RelationalTerm()', 'NotExpression()', 'BinaryExpression(BinaryOp binaryOp)', 'CommandSequence()']\n",
      "['Enumerations:', 'CommandStatus(Requested, Completed, Failed)', 'BooleanOperator(AND, OR, NOT)', 'RoomName(LivingRoom, Kitchen, Bedroom)', 'Classes:', 'SmartHomeAutomationSystem()', 'Device()', 'SensorDevice()', 'ActuatorDevice()', 'SensorReading()', 'ControlCommand()', 'Alert()', 'Owner()', 'AutomationRule()', 'Precondition()', 'Action()', 'Rule()', 'ComplexRuleHierarchy()', 'ActiveRule()', 'DeviceRole()', 'SensorRole()', 'ActuatorRole()']\n"
     ]
    },
    {
     "name": "stderr",
     "output_type": "stream",
     "text": [
      "\u001b[32m2025-02-19 01:04:29.541\u001b[0m | \u001b[1mINFO    \u001b[0m | \u001b[36mevaluation.model_matcher\u001b[0m:\u001b[36mmatch_classes\u001b[0m:\u001b[36m231\u001b[0m - \u001b[1mLoading cache from transformed_results/gpt-4o-mini_output_sherpa/3_SHAS_ada_embedding.txt\u001b[0m\n"
     ]
    },
    {
     "name": "stdout",
     "output_type": "stream",
     "text": [
      "['Enumerations:', 'LevelOfTutoring(PrimarySchool, HighSchool, University)', 'SessionStatus(Proposed, Confirmed, Completed, Paid, Cancelled)', 'PaymentKind(CreditCard, WireTransfer)', 'Classes:', 'OTS()', 'User(string name, string email)', 'BestTutorAward(int year, int month)', 'Tutor(string bankAccount)', 'TutoringOffer(float hourlyPrice)', 'Subject(string name)', 'TutorAvailability(Date startTime, Time endTime)', 'abstract TutoringRole()', 'abstract TutoringElement(LevelOfTutoring tutoringLevel)', 'Student()', 'TutoringRequest()', 'TutoringSession(Date sessionDate, float totalPrice, SessionStatus sessionStatus)', 'Payment(PaymentKind paymentForm, date paymentDate)']\n",
      "['Enumerations:', 'Classes:', 'User()', 'Student()', 'Tutor()', 'Subject()', 'Expertise()', 'TutoringSession()', 'Availability()', 'Request()', 'Cancellation()']\n"
     ]
    },
    {
     "name": "stderr",
     "output_type": "stream",
     "text": [
      "\u001b[32m2025-02-19 01:04:29.823\u001b[0m | \u001b[1mINFO    \u001b[0m | \u001b[36mevaluation.model_matcher\u001b[0m:\u001b[36mmatch_classes\u001b[0m:\u001b[36m231\u001b[0m - \u001b[1mLoading cache from transformed_results/gpt-4o-mini_output_sherpa/4_Online Tutoring System (OTS)_ada_embedding.txt\u001b[0m\n"
     ]
    },
    {
     "name": "stdout",
     "output_type": "stream",
     "text": [
      "['Enumerations:', 'Classes:', 'DestroyBlock()', 'User(string username, string password)', 'BlockAssignment(int gridHorizontalPosition, int gridVerticalPosition)', 'Level (boolean isRandom)', 'Game (string name, int nrBlocksPerLevel)', 'Block(int id, int red, int green, int blue, int points)', 'Paddle(int amxPaddleLength, int minPaddleLength)', 'Ball(int minBallSpeedX, int minBallSpeedY)', 'HallOfFameEntry(int score)', 'PlayedGame(int id, int score, int lives, int currentLevel)', 'PlayedBall(double ballDirectionX, double ballDirectionY, double currentBallX, double currentBallY)', 'PlayedPaddle(double currentPaddleLength, double currentPaddleX, double currentPaddleY)', 'PlayedBlockAssignment(int x, int y)', 'Player()', 'Admin()']\n",
      "['Enumerations:', 'GameMode(PlayMode, AdminMode)', 'BlockArrangement(Random, Fixed)', 'Classes:', 'DestroyBlockApplication()', 'User()', 'Admin()', 'Player()', 'Game()', 'Block()', 'Level()', 'PlayArea()', 'Ball()', 'Paddle()', 'HallOfFame()']\n"
     ]
    },
    {
     "name": "stderr",
     "output_type": "stream",
     "text": [
      "\u001b[32m2025-02-19 01:04:30.127\u001b[0m | \u001b[1mINFO    \u001b[0m | \u001b[36mevaluation.model_matcher\u001b[0m:\u001b[36mmatch_classes\u001b[0m:\u001b[36m231\u001b[0m - \u001b[1mLoading cache from transformed_results/gpt-4o-mini_output_sherpa/5_Block_ada_embedding.txt\u001b[0m\n"
     ]
    },
    {
     "name": "stdout",
     "output_type": "stream",
     "text": [
      "['Enumerations:', 'Mode(design, game)', 'Color(red, blue, green, yellow)', 'Classes:', 'TileO()', 'Game(int currentConnectionPieces, Mode mode, int spaceConnectionPieces, int numberOfActionCards)', 'Connection()', 'Die()', 'Deck()', 'abstract Tile(int x, int y, boolean hasBeenVisited)', 'abstract ActionCard (string instructions)', 'RollDieActionCard()', 'ConnectTilesActionCard()', 'RemoveConnectionActionCard()', 'TeleportActionCard()', 'LoseTurnActionCard()', 'WinTile()', 'ActionTile(int inactivityPeriod, int turnsUntilActive)', 'NormalTile()', 'Player(int number, int turnsUntilActive, Color color)']\n",
      "['Enumerations:', 'ActionCardType(rollExtraTurn, connectTiles, removeConnection, movePiece, loseTurn)', 'Classes:', 'TileOApplication()', 'Game()', 'Designer()', 'Board()', 'Player()', 'Tile()', 'ConnectionPiece()', 'ActionTile()', 'ActionCard()', 'Die()', 'PlayingPiece()', 'ActionCardDeck()']\n"
     ]
    },
    {
     "name": "stderr",
     "output_type": "stream",
     "text": [
      "\u001b[32m2025-02-19 01:04:30.422\u001b[0m | \u001b[1mINFO    \u001b[0m | \u001b[36mevaluation.model_matcher\u001b[0m:\u001b[36mmatch_classes\u001b[0m:\u001b[36m231\u001b[0m - \u001b[1mLoading cache from transformed_results/gpt-4o-mini_output_sherpa/6_Tile-O_ada_embedding.txt\u001b[0m\n"
     ]
    },
    {
     "name": "stdout",
     "output_type": "stream",
     "text": [
      "['Enumerations:', 'RoomType(SINGLE, DOUBLE, TWIN)', 'BookingStatus(FINALIZED, CONFIRMED, CANCELLED_BY_HBMS, PRELIMINARY, CANCELLED_BY_TRAVELLER, CANCELLED_BY_HOTEL)', 'PaymentType (PREPAID, PAID_AT_HOTEL)', 'Classes:', 'HotelBookingManager()', 'HotelChain()', 'Traveller (string name, int reliabilityRating)', 'BillingInformation(string companyName, string address)', 'TravelPreference(string preference, string value)', 'Hotel (string city, string country, string area)', 'abstract Offer()', 'SpecialOffer()', 'RegularOffer()', 'TravelSearch()', 'SearchInfo()', 'RoomAvailability()', 'abstract TripInfo(int numberOfRooms, RoomType roomType, date arrivalDate, date departureDate, float budgetPerNight)', 'BookingInfo()', 'Booking (int bookingId, date cancellationDeadline, string creditCardNumber, BookingStatus bookingStatus, PaymentType paymentType, date confirmationDate, float paidAmount)']\n",
      "['Enumerations:', 'RoomType(Single, Double, Twin)', 'BookingStatus(PrePaid, PayAtHotel)', 'CancellationPolicy(NoConsequences, OneNightCharge)', 'Classes:', 'Hotel()', 'Booking()', 'PreliminaryBooking()', 'FinalizedBooking()', 'Traveller()', 'AccommodationDeal()', 'BillingInformation()', 'TravelPreference()', 'Room()', 'Offer()', 'CreditCard()', 'ReliabilityRating()', 'HotelChain()', 'Competitor()', 'FinancialCompensation()']\n"
     ]
    },
    {
     "name": "stderr",
     "output_type": "stream",
     "text": [
      "\u001b[32m2025-02-19 01:04:30.698\u001b[0m | \u001b[1mINFO    \u001b[0m | \u001b[36mevaluation.model_matcher\u001b[0m:\u001b[36mmatch_classes\u001b[0m:\u001b[36m231\u001b[0m - \u001b[1mLoading cache from transformed_results/gpt-4o-mini_output_sherpa/7_HBMS_ada_embedding.txt\u001b[0m\n"
     ]
    },
    {
     "name": "stdout",
     "output_type": "stream",
     "text": [
      "Processing direct with gpt-4o-mini\n"
     ]
    },
    {
     "data": {
      "application/vnd.jupyter.widget-view+json": {
       "model_id": "f9ec8f7753c94064af6fb9bf353f0c9d",
       "version_major": 2,
       "version_minor": 0
      },
      "text/plain": [
       "  0%|          | 0/8 [00:00<?, ?it/s]"
      ]
     },
     "metadata": {},
     "output_type": "display_data"
    },
    {
     "name": "stdout",
     "output_type": "stream",
     "text": [
      "['Enumerations:', 'Interval(weekly, monthly, everyHalfYear, yearly)', 'AccessType (reservable, walkIn, dropOff)', 'DayOfWeek(Monday, Tuesday, Wednesday, Thursday, Friday, Saturday, Sunday)', 'Classes:', 'LabTracker()', 'Person(string lastName, string firstName, string address, string phoneNumber)', 'abstract PersonRole(idNumber)', 'Patient (string dateOfBirth)', 'Doctor (string signature)', 'Requisition (string effectiveDate, int repetitionCount, Interval repetitionInterval)', 'TestResult(boolean negative, string report)', 'SpecificTest(Data date)', 'Appointment (string confirmation, Date date, string startTime, string endTime)', 'BusinessHour(DayOfWeek dayOfWeek, string startTime, string endTime)', 'Lab (string registrationNumber, string name, string address, boolean changeCancelFee)', 'Test (string name, string duration)', 'TestType(string name, string durationAdditive, AccessType access)']\n",
      "['Enumerations:', 'RepetitionInterval(Weekly, Monthly, HalfYearly, Yearly)', 'TestStatus(Negative, Positive)', 'Classes:', 'LabTracker()', 'Doctor()', 'Patient()', 'Test()', 'Requisition()', 'Lab()', 'Appointment()']\n"
     ]
    },
    {
     "name": "stderr",
     "output_type": "stream",
     "text": [
      "\u001b[32m2025-02-19 01:04:30.975\u001b[0m | \u001b[1mINFO    \u001b[0m | \u001b[36mevaluation.model_matcher\u001b[0m:\u001b[36mmatch_classes\u001b[0m:\u001b[36m231\u001b[0m - \u001b[1mLoading cache from transformed_results/gpt-4o-mini_output_direct/0_Lab Requisition Management System_ada_embedding.txt\u001b[0m\n"
     ]
    },
    {
     "name": "stdout",
     "output_type": "stream",
     "text": [
      "['Enumerations:', 'AttendeeStatus(Yes, Maybe, No, NoResponse)', 'CompletionStatus(ToBeDone, Done, NotApplicable, Attendee)', 'Classes:', 'CelO()', 'Person(string lastName, string firstName, string emailAddress, string password)', 'abstract PersonRole()', 'Organizer(string address, string phoneNumber)', 'Attendee()', 'TaskStatus(CompletionStatus status)', 'Registration(AttendeeStatus status)', 'CheckListTask(string description)', 'Location(string name, string address)', 'Event(string occasion, date startTime, date endTime)', 'EventType(string name)']\n",
      "['Enumerations:', 'CrimeStatus(Solved, Pending, Unsolved)', 'Classes:', 'PISystem()', 'PoliceStation()', 'Case()', 'PoliceOfficer()', 'Victim()', 'Crime()', 'Note()']\n"
     ]
    },
    {
     "name": "stderr",
     "output_type": "stream",
     "text": [
      "\u001b[32m2025-02-19 01:04:31.275\u001b[0m | \u001b[1mINFO    \u001b[0m | \u001b[36mevaluation.model_matcher\u001b[0m:\u001b[36mmatch_classes\u001b[0m:\u001b[36m231\u001b[0m - \u001b[1mLoading cache from transformed_results/gpt-4o-mini_output_direct/1_Celebrations Organization System (CelO)_ada_embedding.txt\u001b[0m\n"
     ]
    },
    {
     "name": "stdout",
     "output_type": "stream",
     "text": [
      "['Enumerations:', 'Position(GK, LB)', 'Recommendation(KEY_PLAYER, FIRST_TEAM_PLAYER, RESERVE_TEAM_PLAYER, PROSPECTIVE_PLAYER, NOT_RECOMMENDED)', 'ScoutingStatus(LONG_LISTED, SHORT_LISTED, RECOMMENDED_FOR_SIGNING, OFFER_MADE)', 'ScoutKind(REGULAR_SCOUNT, HEAD_SCOUT)', 'Classes:', 'TSS()', 'abstract Person(string firstName, string lastName)', 'Player(ScoutingStatus status)', 'HeadCoach()', 'Director()', 'Scout(ScoutKind scoutKind)', 'Club()', 'Offer(int value)', 'ScoutingAssignmnet()', 'ScoutReport(string pro, string con, Recommendation recommendation)', 'PlayerProfile(Position position)', 'PlayerAttribute(string name, int value)']\n",
      "['Enumerations:', 'CrimeStatus(Solved, Pending, Unsolved)', 'Classes:', 'PISystem()', 'PoliceStation()', 'Case()', 'PoliceOfficer()', 'Victim()', 'Crime()', 'Note()']\n"
     ]
    },
    {
     "name": "stderr",
     "output_type": "stream",
     "text": [
      "\u001b[32m2025-02-19 01:04:31.552\u001b[0m | \u001b[1mINFO    \u001b[0m | \u001b[36mevaluation.model_matcher\u001b[0m:\u001b[36mmatch_classes\u001b[0m:\u001b[36m231\u001b[0m - \u001b[1mLoading cache from transformed_results/gpt-4o-mini_output_direct/2_Team Sports Scouting (TSS)_ada_embedding.txt\u001b[0m\n"
     ]
    },
    {
     "name": "stdout",
     "output_type": "stream",
     "text": [
      "['Enumerations:', 'DeviceStatus(Activated, Deactivated)', 'CommandType (lockDoor, turnOnHeating)', 'CommandStatus (Requested, Completed, Failed)', 'RuleStatus (created, edited, activated, deactivated)', 'BinaryOp (AND, OR )', 'Classes:', 'SHAS()', 'SmartHome()', 'User(string name)', 'Address(string city, string postalCode, string street, string aptNumber)', 'Room()', 'abstract Device(DeviceStatus deviceStatus, int deviceID)', 'SensorDevice()', 'ActuatorDevice()', 'ActvityLog()', 'abstract RuntimeElement(time timestamp)', 'SensorReading(double value)', 'ControlCommand (CommandType commandType, CommandStatus commandStatus)', 'AlertRule (RuleStatus ruleStatus)', 'abstract BooleanExpression()', 'RelationalTerm()', 'NotExpression()', 'BinaryExpression(BinaryOp binaryOp)', 'CommandSequence()']\n",
      "['Enumerations:', 'RuleStatus(Active, Deactivated)', 'Classes:', 'SmartHomeAutomationSystem()', 'SmartHome()', 'Room()', 'SensorDevice()', 'ActuatorDevice()', 'SensorReading()', 'ControlCommand()', 'ActivityLog()', 'AutomationRule()', 'Precondition()', 'Action()', 'RuleTrigger()']\n"
     ]
    },
    {
     "name": "stderr",
     "output_type": "stream",
     "text": [
      "\u001b[32m2025-02-19 01:04:31.857\u001b[0m | \u001b[1mINFO    \u001b[0m | \u001b[36mevaluation.model_matcher\u001b[0m:\u001b[36mmatch_classes\u001b[0m:\u001b[36m231\u001b[0m - \u001b[1mLoading cache from transformed_results/gpt-4o-mini_output_direct/3_SHAS_ada_embedding.txt\u001b[0m\n"
     ]
    },
    {
     "name": "stdout",
     "output_type": "stream",
     "text": [
      "['Enumerations:', 'LevelOfTutoring(PrimarySchool, HighSchool, University)', 'SessionStatus(Proposed, Confirmed, Completed, Paid, Cancelled)', 'PaymentKind(CreditCard, WireTransfer)', 'Classes:', 'OTS()', 'User(string name, string email)', 'BestTutorAward(int year, int month)', 'Tutor(string bankAccount)', 'TutoringOffer(float hourlyPrice)', 'Subject(string name)', 'TutorAvailability(Date startTime, Time endTime)', 'abstract TutoringRole()', 'abstract TutoringElement(LevelOfTutoring tutoringLevel)', 'Student()', 'TutoringRequest()', 'TutoringSession(Date sessionDate, float totalPrice, SessionStatus sessionStatus)', 'Payment(PaymentKind paymentForm, date paymentDate)']\n",
      "['Enumerations:', 'LevelOfExpertise(PrimarySchool, HighSchool, University)', 'Classes:', 'OTS()', 'Tutor()', 'Student()', 'TutoringSession()', 'Subject()', 'Availability()', 'Payment()', 'CancellationReason()']\n"
     ]
    },
    {
     "name": "stderr",
     "output_type": "stream",
     "text": [
      "\u001b[32m2025-02-19 01:04:32.112\u001b[0m | \u001b[1mINFO    \u001b[0m | \u001b[36mevaluation.model_matcher\u001b[0m:\u001b[36mmatch_classes\u001b[0m:\u001b[36m231\u001b[0m - \u001b[1mLoading cache from transformed_results/gpt-4o-mini_output_direct/4_Online Tutoring System (OTS)_ada_embedding.txt\u001b[0m\n"
     ]
    },
    {
     "name": "stdout",
     "output_type": "stream",
     "text": [
      "['Enumerations:', 'Classes:', 'DestroyBlock()', 'User(string username, string password)', 'BlockAssignment(int gridHorizontalPosition, int gridVerticalPosition)', 'Level (boolean isRandom)', 'Game (string name, int nrBlocksPerLevel)', 'Block(int id, int red, int green, int blue, int points)', 'Paddle(int amxPaddleLength, int minPaddleLength)', 'Ball(int minBallSpeedX, int minBallSpeedY)', 'HallOfFameEntry(int score)', 'PlayedGame(int id, int score, int lives, int currentLevel)', 'PlayedBall(double ballDirectionX, double ballDirectionY, double currentBallX, double currentBallY)', 'PlayedPaddle(double currentPaddleLength, double currentPaddleX, double currentPaddleY)', 'PlayedBlockAssignment(int x, int y)', 'Player()', 'Admin()']\n",
      "['Enumerations:', 'GameMode(Admin, Play)', 'BlockColor()', 'GameStatus(Active, Paused, Ended)', 'Classes:', 'Game()', 'Block()', 'Level()', 'Player()', 'Admin()', 'HallOfFame()']\n"
     ]
    },
    {
     "name": "stderr",
     "output_type": "stream",
     "text": [
      "\u001b[32m2025-02-19 01:04:32.360\u001b[0m | \u001b[1mINFO    \u001b[0m | \u001b[36mevaluation.model_matcher\u001b[0m:\u001b[36mmatch_classes\u001b[0m:\u001b[36m231\u001b[0m - \u001b[1mLoading cache from transformed_results/gpt-4o-mini_output_direct/5_Block_ada_embedding.txt\u001b[0m\n"
     ]
    },
    {
     "name": "stdout",
     "output_type": "stream",
     "text": [
      "['Enumerations:', 'Mode(design, game)', 'Color(red, blue, green, yellow)', 'Classes:', 'TileO()', 'Game(int currentConnectionPieces, Mode mode, int spaceConnectionPieces, int numberOfActionCards)', 'Connection()', 'Die()', 'Deck()', 'abstract Tile(int x, int y, boolean hasBeenVisited)', 'abstract ActionCard (string instructions)', 'RollDieActionCard()', 'ConnectTilesActionCard()', 'RemoveConnectionActionCard()', 'TeleportActionCard()', 'LoseTurnActionCard()', 'WinTile()', 'ActionTile(int inactivityPeriod, int turnsUntilActive)', 'NormalTile()', 'Player(int number, int turnsUntilActive, Color color)']\n",
      "['Enumerations:', 'ActionCardType(RollDieForExtraTurn, ConnectTwoAdjacentTiles, RemoveConnectionPiece, MoveToArbitraryTile, LoseNextTurn)', 'PlayerColor(Red, Blue, Green, Yellow)', 'Classes:', 'GameDesigner()', 'GameBoard()', 'Tile()', 'ConnectionPiece()', 'ActionCard()', 'Player()', 'Die()', 'ActionTile()']\n"
     ]
    },
    {
     "name": "stderr",
     "output_type": "stream",
     "text": [
      "\u001b[32m2025-02-19 01:04:32.635\u001b[0m | \u001b[1mINFO    \u001b[0m | \u001b[36mevaluation.model_matcher\u001b[0m:\u001b[36mmatch_classes\u001b[0m:\u001b[36m231\u001b[0m - \u001b[1mLoading cache from transformed_results/gpt-4o-mini_output_direct/6_Tile-O_ada_embedding.txt\u001b[0m\n"
     ]
    },
    {
     "name": "stdout",
     "output_type": "stream",
     "text": [
      "['Enumerations:', 'RoomType(SINGLE, DOUBLE, TWIN)', 'BookingStatus(FINALIZED, CONFIRMED, CANCELLED_BY_HBMS, PRELIMINARY, CANCELLED_BY_TRAVELLER, CANCELLED_BY_HOTEL)', 'PaymentType (PREPAID, PAID_AT_HOTEL)', 'Classes:', 'HotelBookingManager()', 'HotelChain()', 'Traveller (string name, int reliabilityRating)', 'BillingInformation(string companyName, string address)', 'TravelPreference(string preference, string value)', 'Hotel (string city, string country, string area)', 'abstract Offer()', 'SpecialOffer()', 'RegularOffer()', 'TravelSearch()', 'SearchInfo()', 'RoomAvailability()', 'abstract TripInfo(int numberOfRooms, RoomType roomType, date arrivalDate, date departureDate, float budgetPerNight)', 'BookingInfo()', 'Booking (int bookingId, date cancellationDeadline, string creditCardNumber, BookingStatus bookingStatus, PaymentType paymentType, date confirmationDate, float paidAmount)']\n",
      "['Enumerations:', 'CrimeStatus(Solved, Pending, Unsolved)', 'Classes:', 'PISystem()', 'PoliceStation()', 'Case()', 'PoliceOfficer()', 'Victim()', 'Crime()', 'Note()']\n"
     ]
    },
    {
     "name": "stderr",
     "output_type": "stream",
     "text": [
      "\u001b[32m2025-02-19 01:04:32.906\u001b[0m | \u001b[1mINFO    \u001b[0m | \u001b[36mevaluation.model_matcher\u001b[0m:\u001b[36mmatch_classes\u001b[0m:\u001b[36m231\u001b[0m - \u001b[1mLoading cache from transformed_results/gpt-4o-mini_output_direct/7_HBMS_ada_embedding.txt\u001b[0m\n"
     ]
    },
    {
     "name": "stdout",
     "output_type": "stream",
     "text": [
      "Processing yujing with Meta-Llama-3.1-70B-Instruct-Turbo\n"
     ]
    },
    {
     "data": {
      "application/vnd.jupyter.widget-view+json": {
       "model_id": "c8ac0047dc2d46c5b658fae27feee151",
       "version_major": 2,
       "version_minor": 0
      },
      "text/plain": [
       "  0%|          | 0/8 [00:00<?, ?it/s]"
      ]
     },
     "metadata": {},
     "output_type": "display_data"
    },
    {
     "name": "stdout",
     "output_type": "stream",
     "text": [
      "['Enumerations:', 'Interval(weekly, monthly, everyHalfYear, yearly)', 'AccessType (reservable, walkIn, dropOff)', 'DayOfWeek(Monday, Tuesday, Wednesday, Thursday, Friday, Saturday, Sunday)', 'Classes:', 'LabTracker()', 'Person(string lastName, string firstName, string address, string phoneNumber)', 'abstract PersonRole(idNumber)', 'Patient (string dateOfBirth)', 'Doctor (string signature)', 'Requisition (string effectiveDate, int repetitionCount, Interval repetitionInterval)', 'TestResult(boolean negative, string report)', 'SpecificTest(Data date)', 'Appointment (string confirmation, Date date, string startTime, string endTime)', 'BusinessHour(DayOfWeek dayOfWeek, string startTime, string endTime)', 'Lab (string registrationNumber, string name, string address, boolean changeCancelFee)', 'Test (string name, string duration)', 'TestType(string name, string durationAdditive, AccessType access)']\n",
      "['Enumerations:', 'RepetitionInterval(Weekly, Monthly, HalfYearly, Yearly)', 'TestType(BloodTest, UltrasoundTest, XRayTest)', 'Classes:', 'Person()', 'Doctor()', 'Patient()', 'Lab()', 'Requisition()', 'Test()', 'Appointment()', 'Result()', 'Report()', 'Image()', 'Time()', 'Date()']\n"
     ]
    },
    {
     "name": "stderr",
     "output_type": "stream",
     "text": [
      "\u001b[32m2025-02-19 01:04:33.194\u001b[0m | \u001b[1mINFO    \u001b[0m | \u001b[36mevaluation.model_matcher\u001b[0m:\u001b[36mmatch_classes\u001b[0m:\u001b[36m231\u001b[0m - \u001b[1mLoading cache from transformed_results/Meta-Llama-3.1-70B-Instruct-Turbo_output_yujing/0_Lab Requisition Management System_ada_embedding.txt\u001b[0m\n"
     ]
    },
    {
     "name": "stdout",
     "output_type": "stream",
     "text": [
      "['Enumerations:', 'AttendeeStatus(Yes, Maybe, No, NoResponse)', 'CompletionStatus(ToBeDone, Done, NotApplicable, Attendee)', 'Classes:', 'CelO()', 'Person(string lastName, string firstName, string emailAddress, string password)', 'abstract PersonRole()', 'Organizer(string address, string phoneNumber)', 'Attendee()', 'TaskStatus(CompletionStatus status)', 'Registration(AttendeeStatus status)', 'CheckListTask(string description)', 'Location(string name, string address)', 'Event(string occasion, date startTime, date endTime)', 'EventType(string name)']\n",
      "['Enumerations:', 'Classes:', 'Person()', 'PersonRole()', 'OrganizerRole()', 'Organizer()', 'AttendeeRole()', 'Attendee()', 'Event()', 'Task()', 'Checklist()', 'Location()', 'Invitation()', 'Account()', 'EventType()', 'InvitationStatus()', 'TaskStatus()']\n"
     ]
    },
    {
     "name": "stderr",
     "output_type": "stream",
     "text": [
      "\u001b[32m2025-02-19 01:04:33.472\u001b[0m | \u001b[1mINFO    \u001b[0m | \u001b[36mevaluation.model_matcher\u001b[0m:\u001b[36mmatch_classes\u001b[0m:\u001b[36m231\u001b[0m - \u001b[1mLoading cache from transformed_results/Meta-Llama-3.1-70B-Instruct-Turbo_output_yujing/1_Celebrations Organization System (CelO)_ada_embedding.txt\u001b[0m\n"
     ]
    },
    {
     "name": "stdout",
     "output_type": "stream",
     "text": [
      "['Enumerations:', 'Position(GK, LB)', 'Recommendation(KEY_PLAYER, FIRST_TEAM_PLAYER, RESERVE_TEAM_PLAYER, PROSPECTIVE_PLAYER, NOT_RECOMMENDED)', 'ScoutingStatus(LONG_LISTED, SHORT_LISTED, RECOMMENDED_FOR_SIGNING, OFFER_MADE)', 'ScoutKind(REGULAR_SCOUNT, HEAD_SCOUT)', 'Classes:', 'TSS()', 'abstract Person(string firstName, string lastName)', 'Player(ScoutingStatus status)', 'HeadCoach()', 'Director()', 'Scout(ScoutKind scoutKind)', 'Club()', 'Offer(int value)', 'ScoutingAssignmnet()', 'ScoutReport(string pro, string con, Recommendation recommendation)', 'PlayerProfile(Position position)', 'PlayerAttribute(string name, int value)']\n",
      "['Enumerations:', 'PlayerPosition(GK, LB, RB, CB, CM, LM, RM, ST)', 'ScoutingRecommendation(KeyPlayer, FirstTeamPlayer, ReserveTeamPlayer, ProspectivePlayer, NotAGoodSigning)', 'Classes:', 'Person()', 'Staff()', 'Coach()', 'Scout()', 'Director()', 'Player()', 'Assignment()', 'Report()', 'Offer()']\n"
     ]
    },
    {
     "name": "stderr",
     "output_type": "stream",
     "text": [
      "\u001b[32m2025-02-19 01:04:33.767\u001b[0m | \u001b[1mINFO    \u001b[0m | \u001b[36mevaluation.model_matcher\u001b[0m:\u001b[36mmatch_classes\u001b[0m:\u001b[36m231\u001b[0m - \u001b[1mLoading cache from transformed_results/Meta-Llama-3.1-70B-Instruct-Turbo_output_yujing/2_Team Sports Scouting (TSS)_ada_embedding.txt\u001b[0m\n"
     ]
    },
    {
     "name": "stdout",
     "output_type": "stream",
     "text": [
      "['Enumerations:', 'DeviceStatus(Activated, Deactivated)', 'CommandType (lockDoor, turnOnHeating)', 'CommandStatus (Requested, Completed, Failed)', 'RuleStatus (created, edited, activated, deactivated)', 'BinaryOp (AND, OR )', 'Classes:', 'SHAS()', 'SmartHome()', 'User(string name)', 'Address(string city, string postalCode, string street, string aptNumber)', 'Room()', 'abstract Device(DeviceStatus deviceStatus, int deviceID)', 'SensorDevice()', 'ActuatorDevice()', 'ActvityLog()', 'abstract RuntimeElement(time timestamp)', 'SensorReading(double value)', 'ControlCommand (CommandType commandType, CommandStatus commandStatus)', 'AlertRule (RuleStatus ruleStatus)', 'abstract BooleanExpression()', 'RelationalTerm()', 'NotExpression()', 'BinaryExpression(BinaryOp binaryOp)', 'CommandSequence()']\n",
      "['Enumerations:', 'DeviceType(TemperatureSensor, MovementSensor, LightController, LockController)', 'CommandStatus(Requested, Completed, Failed)', 'BooleanOperator(AND, OR, NOT)', 'RuleStatus(Active, Inactive)', 'CommandType(LockDoor, TurnOnHeating)', 'Classes:', 'User()', 'Owner()', 'Administrator()', 'Device()', 'Sensor()', 'Actuator()', 'SmartHome()', 'Room()', 'Address()', 'AutomationRule()', 'Command()', 'Reading()', 'Log()', 'Alert()', 'RuleHierarchy()']\n"
     ]
    },
    {
     "name": "stderr",
     "output_type": "stream",
     "text": [
      "\u001b[32m2025-02-19 01:04:34.073\u001b[0m | \u001b[1mINFO    \u001b[0m | \u001b[36mevaluation.model_matcher\u001b[0m:\u001b[36mmatch_classes\u001b[0m:\u001b[36m231\u001b[0m - \u001b[1mLoading cache from transformed_results/Meta-Llama-3.1-70B-Instruct-Turbo_output_yujing/3_SHAS_ada_embedding.txt\u001b[0m\n"
     ]
    },
    {
     "name": "stdout",
     "output_type": "stream",
     "text": [
      "['Enumerations:', 'LevelOfTutoring(PrimarySchool, HighSchool, University)', 'SessionStatus(Proposed, Confirmed, Completed, Paid, Cancelled)', 'PaymentKind(CreditCard, WireTransfer)', 'Classes:', 'OTS()', 'User(string name, string email)', 'BestTutorAward(int year, int month)', 'Tutor(string bankAccount)', 'TutoringOffer(float hourlyPrice)', 'Subject(string name)', 'TutorAvailability(Date startTime, Time endTime)', 'abstract TutoringRole()', 'abstract TutoringElement(LevelOfTutoring tutoringLevel)', 'Student()', 'TutoringRequest()', 'TutoringSession(Date sessionDate, float totalPrice, SessionStatus sessionStatus)', 'Payment(PaymentKind paymentForm, date paymentDate)']\n",
      "['Enumerations:', 'SessionLevel(PrimarySchool, HighSchool, University)', 'PaymentMethod(CreditCard, WireTransfer)', 'CancellationReason(Student, Tutor)', 'SessionStatus(Requested, Confirmed, Cancelled)', 'Classes:', 'User()', 'UserRole()', 'TutorRole()', 'StudentRole()', 'Session()', 'Request()', 'Payment()', 'Cancellation()']\n"
     ]
    },
    {
     "name": "stderr",
     "output_type": "stream",
     "text": [
      "\u001b[32m2025-02-19 01:04:34.348\u001b[0m | \u001b[1mINFO    \u001b[0m | \u001b[36mevaluation.model_matcher\u001b[0m:\u001b[36mmatch_classes\u001b[0m:\u001b[36m231\u001b[0m - \u001b[1mLoading cache from transformed_results/Meta-Llama-3.1-70B-Instruct-Turbo_output_yujing/4_Online Tutoring System (OTS)_ada_embedding.txt\u001b[0m\n"
     ]
    },
    {
     "name": "stdout",
     "output_type": "stream",
     "text": [
      "['Enumerations:', 'Classes:', 'DestroyBlock()', 'User(string username, string password)', 'BlockAssignment(int gridHorizontalPosition, int gridVerticalPosition)', 'Level (boolean isRandom)', 'Game (string name, int nrBlocksPerLevel)', 'Block(int id, int red, int green, int blue, int points)', 'Paddle(int amxPaddleLength, int minPaddleLength)', 'Ball(int minBallSpeedX, int minBallSpeedY)', 'HallOfFameEntry(int score)', 'PlayedGame(int id, int score, int lives, int currentLevel)', 'PlayedBall(double ballDirectionX, double ballDirectionY, double currentBallX, double currentBallY)', 'PlayedPaddle(double currentPaddleLength, double currentPaddleX, double currentPaddleY)', 'PlayedBlockAssignment(int x, int y)', 'Player()', 'Admin()']\n",
      "['Enumerations:', 'Classes:', 'User()', 'Game()', 'Admin()', 'Player()', 'Block()', 'Level()', 'RandomLevel()']\n"
     ]
    },
    {
     "name": "stderr",
     "output_type": "stream",
     "text": [
      "\u001b[32m2025-02-19 01:04:34.606\u001b[0m | \u001b[1mINFO    \u001b[0m | \u001b[36mevaluation.model_matcher\u001b[0m:\u001b[36mmatch_classes\u001b[0m:\u001b[36m231\u001b[0m - \u001b[1mLoading cache from transformed_results/Meta-Llama-3.1-70B-Instruct-Turbo_output_yujing/5_Block_ada_embedding.txt\u001b[0m\n"
     ]
    },
    {
     "name": "stdout",
     "output_type": "stream",
     "text": [
      "['Enumerations:', 'Mode(design, game)', 'Color(red, blue, green, yellow)', 'Classes:', 'TileO()', 'Game(int currentConnectionPieces, Mode mode, int spaceConnectionPieces, int numberOfActionCards)', 'Connection()', 'Die()', 'Deck()', 'abstract Tile(int x, int y, boolean hasBeenVisited)', 'abstract ActionCard (string instructions)', 'RollDieActionCard()', 'ConnectTilesActionCard()', 'RemoveConnectionActionCard()', 'TeleportActionCard()', 'LoseTurnActionCard()', 'WinTile()', 'ActionTile(int inactivityPeriod, int turnsUntilActive)', 'NormalTile()', 'Player(int number, int turnsUntilActive, Color color)']\n",
      "['Enumerations:', 'Classes:', 'Game()', 'Player()', 'Board()', 'Tile()', 'Deck()', 'Action()', 'Die()']\n"
     ]
    },
    {
     "name": "stderr",
     "output_type": "stream",
     "text": [
      "\u001b[32m2025-02-19 01:04:34.865\u001b[0m | \u001b[1mINFO    \u001b[0m | \u001b[36mevaluation.model_matcher\u001b[0m:\u001b[36mmatch_classes\u001b[0m:\u001b[36m231\u001b[0m - \u001b[1mLoading cache from transformed_results/Meta-Llama-3.1-70B-Instruct-Turbo_output_yujing/6_Tile-O_ada_embedding.txt\u001b[0m\n"
     ]
    },
    {
     "name": "stdout",
     "output_type": "stream",
     "text": [
      "['Enumerations:', 'RoomType(SINGLE, DOUBLE, TWIN)', 'BookingStatus(FINALIZED, CONFIRMED, CANCELLED_BY_HBMS, PRELIMINARY, CANCELLED_BY_TRAVELLER, CANCELLED_BY_HOTEL)', 'PaymentType (PREPAID, PAID_AT_HOTEL)', 'Classes:', 'HotelBookingManager()', 'HotelChain()', 'Traveller (string name, int reliabilityRating)', 'BillingInformation(string companyName, string address)', 'TravelPreference(string preference, string value)', 'Hotel (string city, string country, string area)', 'abstract Offer()', 'SpecialOffer()', 'RegularOffer()', 'TravelSearch()', 'SearchInfo()', 'RoomAvailability()', 'abstract TripInfo(int numberOfRooms, RoomType roomType, date arrivalDate, date departureDate, float budgetPerNight)', 'BookingInfo()', 'Booking (int bookingId, date cancellationDeadline, string creditCardNumber, BookingStatus bookingStatus, PaymentType paymentType, date confirmationDate, float paidAmount)']\n",
      "['Enumerations:', 'Classes:', 'Traveller()', 'Hotel()', 'HotelRating()', 'RoomType()', 'Room()', 'PaymentMethod()', 'BookingStatus()', 'CancellationPolicy()', 'ReliabilityRating()', 'Booking()', 'CreditCard()', 'Search()', 'Offer()', 'Confirmation()', 'Cancellation()', 'Reimbursement()', 'Compensation()', 'Reliability()']\n"
     ]
    },
    {
     "name": "stderr",
     "output_type": "stream",
     "text": [
      "\u001b[32m2025-02-19 01:04:35.129\u001b[0m | \u001b[1mINFO    \u001b[0m | \u001b[36mevaluation.model_matcher\u001b[0m:\u001b[36mmatch_classes\u001b[0m:\u001b[36m231\u001b[0m - \u001b[1mLoading cache from transformed_results/Meta-Llama-3.1-70B-Instruct-Turbo_output_yujing/7_HBMS_ada_embedding.txt\u001b[0m\n"
     ]
    },
    {
     "name": "stdout",
     "output_type": "stream",
     "text": [
      "Processing sherpa with Meta-Llama-3.1-70B-Instruct-Turbo\n"
     ]
    },
    {
     "data": {
      "application/vnd.jupyter.widget-view+json": {
       "model_id": "f5b6eff32e504acc8419020b3e64ce82",
       "version_major": 2,
       "version_minor": 0
      },
      "text/plain": [
       "  0%|          | 0/8 [00:00<?, ?it/s]"
      ]
     },
     "metadata": {},
     "output_type": "display_data"
    },
    {
     "name": "stdout",
     "output_type": "stream",
     "text": [
      "['Enumerations:', 'Interval(weekly, monthly, everyHalfYear, yearly)', 'AccessType (reservable, walkIn, dropOff)', 'DayOfWeek(Monday, Tuesday, Wednesday, Thursday, Friday, Saturday, Sunday)', 'Classes:', 'LabTracker()', 'Person(string lastName, string firstName, string address, string phoneNumber)', 'abstract PersonRole(idNumber)', 'Patient (string dateOfBirth)', 'Doctor (string signature)', 'Requisition (string effectiveDate, int repetitionCount, Interval repetitionInterval)', 'TestResult(boolean negative, string report)', 'SpecificTest(Data date)', 'Appointment (string confirmation, Date date, string startTime, string endTime)', 'BusinessHour(DayOfWeek dayOfWeek, string startTime, string endTime)', 'Lab (string registrationNumber, string name, string address, boolean changeCancelFee)', 'Test (string name, string duration)', 'TestType(string name, string durationAdditive, AccessType access)']\n",
      "['Enumerations:', 'Classes:', 'Doctor()', 'Patient()', 'Requisition()', 'Test()', 'Appointment()', 'Lab()', 'BusinessHour()', 'Result()', 'Confirmation()', 'IntervalTypeEnum()', 'TestCategory()', 'RequisitionStatus()', 'AppointmentStatus()', 'ResultStatus()']\n"
     ]
    },
    {
     "name": "stderr",
     "output_type": "stream",
     "text": [
      "\u001b[32m2025-02-19 01:04:35.410\u001b[0m | \u001b[1mINFO    \u001b[0m | \u001b[36mevaluation.model_matcher\u001b[0m:\u001b[36mmatch_classes\u001b[0m:\u001b[36m231\u001b[0m - \u001b[1mLoading cache from transformed_results/Meta-Llama-3.1-70B-Instruct-Turbo_output_sherpa/0_Lab Requisition Management System_ada_embedding.txt\u001b[0m\n"
     ]
    },
    {
     "name": "stdout",
     "output_type": "stream",
     "text": [
      "['Enumerations:', 'AttendeeStatus(Yes, Maybe, No, NoResponse)', 'CompletionStatus(ToBeDone, Done, NotApplicable, Attendee)', 'Classes:', 'CelO()', 'Person(string lastName, string firstName, string emailAddress, string password)', 'abstract PersonRole()', 'Organizer(string address, string phoneNumber)', 'Attendee()', 'TaskStatus(CompletionStatus status)', 'Registration(AttendeeStatus status)', 'CheckListTask(string description)', 'Location(string name, string address)', 'Event(string occasion, date startTime, date endTime)', 'EventType(string name)']\n",
      "['Enumerations:', 'Classes:', 'Application()', 'Person()', 'Organizer()', 'Attendee()', 'Location()', 'Event()', 'Account()']\n"
     ]
    },
    {
     "name": "stderr",
     "output_type": "stream",
     "text": [
      "\u001b[32m2025-02-19 01:04:35.676\u001b[0m | \u001b[1mINFO    \u001b[0m | \u001b[36mevaluation.model_matcher\u001b[0m:\u001b[36mmatch_classes\u001b[0m:\u001b[36m231\u001b[0m - \u001b[1mLoading cache from transformed_results/Meta-Llama-3.1-70B-Instruct-Turbo_output_sherpa/1_Celebrations Organization System (CelO)_ada_embedding.txt\u001b[0m\n"
     ]
    },
    {
     "name": "stdout",
     "output_type": "stream",
     "text": [
      "['Enumerations:', 'Position(GK, LB)', 'Recommendation(KEY_PLAYER, FIRST_TEAM_PLAYER, RESERVE_TEAM_PLAYER, PROSPECTIVE_PLAYER, NOT_RECOMMENDED)', 'ScoutingStatus(LONG_LISTED, SHORT_LISTED, RECOMMENDED_FOR_SIGNING, OFFER_MADE)', 'ScoutKind(REGULAR_SCOUNT, HEAD_SCOUT)', 'Classes:', 'TSS()', 'abstract Person(string firstName, string lastName)', 'Player(ScoutingStatus status)', 'HeadCoach()', 'Director()', 'Scout(ScoutKind scoutKind)', 'Club()', 'Offer(int value)', 'ScoutingAssignmnet()', 'ScoutReport(string pro, string con, Recommendation recommendation)', 'PlayerProfile(Position position)', 'PlayerAttribute(string name, int value)']\n",
      "['Enumerations:', 'Classes:', 'Club()', 'Employee()', 'Profile()', 'Position()', 'Attribute()', 'Assignment()', 'Report()', 'HeadCoach()', 'Scout()', 'Director()', 'PlayerRole()', 'TargetPlayer()', 'ScoutedPlayer()', 'ShortListedPlayer()', 'SignedKeyPlayer()', 'Player()']\n"
     ]
    },
    {
     "name": "stderr",
     "output_type": "stream",
     "text": [
      "\u001b[32m2025-02-19 01:04:35.931\u001b[0m | \u001b[1mINFO    \u001b[0m | \u001b[36mevaluation.model_matcher\u001b[0m:\u001b[36mmatch_classes\u001b[0m:\u001b[36m231\u001b[0m - \u001b[1mLoading cache from transformed_results/Meta-Llama-3.1-70B-Instruct-Turbo_output_sherpa/2_Team Sports Scouting (TSS)_ada_embedding.txt\u001b[0m\n"
     ]
    },
    {
     "name": "stdout",
     "output_type": "stream",
     "text": [
      "['Enumerations:', 'DeviceStatus(Activated, Deactivated)', 'CommandType (lockDoor, turnOnHeating)', 'CommandStatus (Requested, Completed, Failed)', 'RuleStatus (created, edited, activated, deactivated)', 'BinaryOp (AND, OR )', 'Classes:', 'SHAS()', 'SmartHome()', 'User(string name)', 'Address(string city, string postalCode, string street, string aptNumber)', 'Room()', 'abstract Device(DeviceStatus deviceStatus, int deviceID)', 'SensorDevice()', 'ActuatorDevice()', 'ActvityLog()', 'abstract RuntimeElement(time timestamp)', 'SensorReading(double value)', 'ControlCommand (CommandType commandType, CommandStatus commandStatus)', 'AlertRule (RuleStatus ruleStatus)', 'abstract BooleanExpression()', 'RelationalTerm()', 'NotExpression()', 'BinaryExpression(BinaryOp binaryOp)', 'CommandSequence()']\n",
      "['Enumerations:', 'Classes:', 'User()', 'Owner()', 'Room()', 'Device()', 'Sensor()', 'Actuator()', 'Reading()', 'Timestamp()', 'Command()', 'Log()', 'Rule()', 'Term()', 'SmartHome()', 'ConditionalExpression()', 'CommandList()', 'RoomDeviceMapping()', 'RoomSmartHomeMapping()', 'OwnerSmartHomeMapping()']\n"
     ]
    },
    {
     "name": "stderr",
     "output_type": "stream",
     "text": [
      "\u001b[32m2025-02-19 01:04:36.260\u001b[0m | \u001b[1mINFO    \u001b[0m | \u001b[36mevaluation.model_matcher\u001b[0m:\u001b[36mmatch_classes\u001b[0m:\u001b[36m231\u001b[0m - \u001b[1mLoading cache from transformed_results/Meta-Llama-3.1-70B-Instruct-Turbo_output_sherpa/3_SHAS_ada_embedding.txt\u001b[0m\n"
     ]
    },
    {
     "name": "stdout",
     "output_type": "stream",
     "text": [
      "['Enumerations:', 'LevelOfTutoring(PrimarySchool, HighSchool, University)', 'SessionStatus(Proposed, Confirmed, Completed, Paid, Cancelled)', 'PaymentKind(CreditCard, WireTransfer)', 'Classes:', 'OTS()', 'User(string name, string email)', 'BestTutorAward(int year, int month)', 'Tutor(string bankAccount)', 'TutoringOffer(float hourlyPrice)', 'Subject(string name)', 'TutorAvailability(Date startTime, Time endTime)', 'abstract TutoringRole()', 'abstract TutoringElement(LevelOfTutoring tutoringLevel)', 'Student()', 'TutoringRequest()', 'TutoringSession(Date sessionDate, float totalPrice, SessionStatus sessionStatus)', 'Payment(PaymentKind paymentForm, date paymentDate)']\n",
      "['Enumerations:', 'Classes:', 'User()', 'UserRole()', 'Tutor()', 'Student()', 'PaymentMethod()', 'CreditCardPayment()', 'WireTransferPayment()', 'BankAccount()', 'TutorAvailability()', 'DayOfWeek()', 'LevelOfExpertise()', 'SubjectType()', 'TutoringAvailabilityStatus()', 'TutoringSessionStatus()', 'CancellationPolicyType()', 'DiscountType()', 'Session()', 'TutoringSession()', 'Request()', 'TutoringRequest()', 'Registration()', 'Offer()', 'Review()', 'Payment()']\n"
     ]
    },
    {
     "name": "stderr",
     "output_type": "stream",
     "text": [
      "\u001b[32m2025-02-19 01:04:36.546\u001b[0m | \u001b[1mINFO    \u001b[0m | \u001b[36mevaluation.model_matcher\u001b[0m:\u001b[36mmatch_classes\u001b[0m:\u001b[36m231\u001b[0m - \u001b[1mLoading cache from transformed_results/Meta-Llama-3.1-70B-Instruct-Turbo_output_sherpa/4_Online Tutoring System (OTS)_ada_embedding.txt\u001b[0m\n"
     ]
    },
    {
     "name": "stdout",
     "output_type": "stream",
     "text": [
      "['Enumerations:', 'Classes:', 'DestroyBlock()', 'User(string username, string password)', 'BlockAssignment(int gridHorizontalPosition, int gridVerticalPosition)', 'Level (boolean isRandom)', 'Game (string name, int nrBlocksPerLevel)', 'Block(int id, int red, int green, int blue, int points)', 'Paddle(int amxPaddleLength, int minPaddleLength)', 'Ball(int minBallSpeedX, int minBallSpeedY)', 'HallOfFameEntry(int score)', 'PlayedGame(int id, int score, int lives, int currentLevel)', 'PlayedBall(double ballDirectionX, double ballDirectionY, double currentBallX, double currentBallY)', 'PlayedPaddle(double currentPaddleLength, double currentPaddleX, double currentPaddleY)', 'PlayedBlockAssignment(int x, int y)', 'Player()', 'Admin()']\n",
      "['Enumerations:', 'Classes:', 'User()', 'Player()', 'Admin()', 'User()', 'Game()', 'Level()', 'Block()', 'HallOfFame()', 'GameConfig()', 'BlockArrangement()', 'PlayerScore()', 'GameStatus()']\n"
     ]
    },
    {
     "name": "stderr",
     "output_type": "stream",
     "text": [
      "\u001b[32m2025-02-19 01:04:36.829\u001b[0m | \u001b[1mINFO    \u001b[0m | \u001b[36mevaluation.model_matcher\u001b[0m:\u001b[36mmatch_classes\u001b[0m:\u001b[36m231\u001b[0m - \u001b[1mLoading cache from transformed_results/Meta-Llama-3.1-70B-Instruct-Turbo_output_sherpa/5_Block_ada_embedding.txt\u001b[0m\n"
     ]
    },
    {
     "name": "stdout",
     "output_type": "stream",
     "text": [
      "['Enumerations:', 'Mode(design, game)', 'Color(red, blue, green, yellow)', 'Classes:', 'TileO()', 'Game(int currentConnectionPieces, Mode mode, int spaceConnectionPieces, int numberOfActionCards)', 'Connection()', 'Die()', 'Deck()', 'abstract Tile(int x, int y, boolean hasBeenVisited)', 'abstract ActionCard (string instructions)', 'RollDieActionCard()', 'ConnectTilesActionCard()', 'RemoveConnectionActionCard()', 'TeleportActionCard()', 'LoseTurnActionCard()', 'WinTile()', 'ActionTile(int inactivityPeriod, int turnsUntilActive)', 'NormalTile()', 'Player(int number, int turnsUntilActive, Color color)']\n",
      "['Enumerations:', 'Classes:', 'ConnectionSide()', 'ActionType()', 'GameElement()', 'Game()', 'BoardElement()', 'Tile()', 'Piece()', 'Board()', 'Die()', 'Card()', 'ActionCard()', 'Deck()', 'Player()', 'Turn()', 'GameHistory()']\n"
     ]
    },
    {
     "name": "stderr",
     "output_type": "stream",
     "text": [
      "\u001b[32m2025-02-19 01:04:37.095\u001b[0m | \u001b[1mINFO    \u001b[0m | \u001b[36mevaluation.model_matcher\u001b[0m:\u001b[36mmatch_classes\u001b[0m:\u001b[36m231\u001b[0m - \u001b[1mLoading cache from transformed_results/Meta-Llama-3.1-70B-Instruct-Turbo_output_sherpa/6_Tile-O_ada_embedding.txt\u001b[0m\n"
     ]
    },
    {
     "name": "stdout",
     "output_type": "stream",
     "text": [
      "['Enumerations:', 'RoomType(SINGLE, DOUBLE, TWIN)', 'BookingStatus(FINALIZED, CONFIRMED, CANCELLED_BY_HBMS, PRELIMINARY, CANCELLED_BY_TRAVELLER, CANCELLED_BY_HOTEL)', 'PaymentType (PREPAID, PAID_AT_HOTEL)', 'Classes:', 'HotelBookingManager()', 'HotelChain()', 'Traveller (string name, int reliabilityRating)', 'BillingInformation(string companyName, string address)', 'TravelPreference(string preference, string value)', 'Hotel (string city, string country, string area)', 'abstract Offer()', 'SpecialOffer()', 'RegularOffer()', 'TravelSearch()', 'SearchInfo()', 'RoomAvailability()', 'abstract TripInfo(int numberOfRooms, RoomType roomType, date arrivalDate, date departureDate, float budgetPerNight)', 'BookingInfo()', 'Booking (int bookingId, date cancellationDeadline, string creditCardNumber, BookingStatus bookingStatus, PaymentType paymentType, date confirmationDate, float paidAmount)']\n",
      "['Enumerations:', 'PaymentMethod(CreditCard, Cash)', 'PaymentStatus(Completed, Pending)', 'BookingType(Preliminary, Complete)', 'BookingStatus(Preliminary, Confirmed, Cancelled)', 'Classes:', 'HotelChain()', 'Hotel()', 'Room()', 'RoomType()', 'Deal()', 'City()', 'Address()', 'Preference()', 'Cost()', 'Period()', 'HotelConfirmation()', 'Cancellation()', 'TravelPreference()', 'Traveller()', 'Booking()', 'Payment()']\n"
     ]
    },
    {
     "name": "stderr",
     "output_type": "stream",
     "text": [
      "\u001b[32m2025-02-19 01:04:37.360\u001b[0m | \u001b[1mINFO    \u001b[0m | \u001b[36mevaluation.model_matcher\u001b[0m:\u001b[36mmatch_classes\u001b[0m:\u001b[36m231\u001b[0m - \u001b[1mLoading cache from transformed_results/Meta-Llama-3.1-70B-Instruct-Turbo_output_sherpa/7_HBMS_ada_embedding.txt\u001b[0m\n"
     ]
    },
    {
     "name": "stdout",
     "output_type": "stream",
     "text": [
      "Processing direct with Meta-Llama-3.1-70B-Instruct-Turbo\n"
     ]
    },
    {
     "data": {
      "application/vnd.jupyter.widget-view+json": {
       "model_id": "c36cbd998475450da5bdf719634c7b18",
       "version_major": 2,
       "version_minor": 0
      },
      "text/plain": [
       "  0%|          | 0/8 [00:00<?, ?it/s]"
      ]
     },
     "metadata": {},
     "output_type": "display_data"
    },
    {
     "name": "stdout",
     "output_type": "stream",
     "text": [
      "['Enumerations:', 'Interval(weekly, monthly, everyHalfYear, yearly)', 'AccessType (reservable, walkIn, dropOff)', 'DayOfWeek(Monday, Tuesday, Wednesday, Thursday, Friday, Saturday, Sunday)', 'Classes:', 'LabTracker()', 'Person(string lastName, string firstName, string address, string phoneNumber)', 'abstract PersonRole(idNumber)', 'Patient (string dateOfBirth)', 'Doctor (string signature)', 'Requisition (string effectiveDate, int repetitionCount, Interval repetitionInterval)', 'TestResult(boolean negative, string report)', 'SpecificTest(Data date)', 'Appointment (string confirmation, Date date, string startTime, string endTime)', 'BusinessHour(DayOfWeek dayOfWeek, string startTime, string endTime)', 'Lab (string registrationNumber, string name, string address, boolean changeCancelFee)', 'Test (string name, string duration)', 'TestType(string name, string durationAdditive, AccessType access)']\n",
      "['Enumerations:', 'TestGroup(XRay, BloodTest, Ultrasound, UrineTest, StoolTest)', 'TestResult(Negative, Positive)', 'TestRepetitionInterval(Weekly, Monthly, EveryHalfYear, Yearly)', 'LabStatus(Open, Closed)', 'AppointmentStatus(Confirmed, Rescheduled, Cancelled)', 'Classes:', 'Lab()', 'Doctor()', 'Patient()', 'Requisition()', 'Test()', 'LabNetwork()', 'Appointment()', 'Report()']\n"
     ]
    },
    {
     "name": "stderr",
     "output_type": "stream",
     "text": [
      "\u001b[32m2025-02-19 01:04:37.656\u001b[0m | \u001b[1mINFO    \u001b[0m | \u001b[36mevaluation.model_matcher\u001b[0m:\u001b[36mmatch_classes\u001b[0m:\u001b[36m231\u001b[0m - \u001b[1mLoading cache from transformed_results/Meta-Llama-3.1-70B-Instruct-Turbo_output_direct/0_Lab Requisition Management System_ada_embedding.txt\u001b[0m\n"
     ]
    },
    {
     "name": "stdout",
     "output_type": "stream",
     "text": [
      "['Enumerations:', 'AttendeeStatus(Yes, Maybe, No, NoResponse)', 'CompletionStatus(ToBeDone, Done, NotApplicable, Attendee)', 'Classes:', 'CelO()', 'Person(string lastName, string firstName, string emailAddress, string password)', 'abstract PersonRole()', 'Organizer(string address, string phoneNumber)', 'Attendee()', 'TaskStatus(CompletionStatus status)', 'Registration(AttendeeStatus status)', 'CheckListTask(string description)', 'Location(string name, string address)', 'Event(string occasion, date startTime, date endTime)', 'EventType(string name)']\n",
      "['Enumerations:', 'TaskStatus(NeedsToDo, Done, NotApplicable, DesignatedForAttendee)', 'Classes:', 'Organizer()', 'Event()', 'EventType()', 'Location()', 'Attendee()', 'Account()', 'Password()', 'Checklist()', 'Task()', 'TaskStatus()']\n"
     ]
    },
    {
     "name": "stderr",
     "output_type": "stream",
     "text": [
      "\u001b[32m2025-02-19 01:04:37.961\u001b[0m | \u001b[1mINFO    \u001b[0m | \u001b[36mevaluation.model_matcher\u001b[0m:\u001b[36mmatch_classes\u001b[0m:\u001b[36m231\u001b[0m - \u001b[1mLoading cache from transformed_results/Meta-Llama-3.1-70B-Instruct-Turbo_output_direct/1_Celebrations Organization System (CelO)_ada_embedding.txt\u001b[0m\n"
     ]
    },
    {
     "name": "stdout",
     "output_type": "stream",
     "text": [
      "['Enumerations:', 'Position(GK, LB)', 'Recommendation(KEY_PLAYER, FIRST_TEAM_PLAYER, RESERVE_TEAM_PLAYER, PROSPECTIVE_PLAYER, NOT_RECOMMENDED)', 'ScoutingStatus(LONG_LISTED, SHORT_LISTED, RECOMMENDED_FOR_SIGNING, OFFER_MADE)', 'ScoutKind(REGULAR_SCOUNT, HEAD_SCOUT)', 'Classes:', 'TSS()', 'abstract Person(string firstName, string lastName)', 'Player(ScoutingStatus status)', 'HeadCoach()', 'Director()', 'Scout(ScoutKind scoutKind)', 'Club()', 'Offer(int value)', 'ScoutingAssignmnet()', 'ScoutReport(string pro, string con, Recommendation recommendation)', 'PlayerProfile(Position position)', 'PlayerAttribute(string name, int value)']\n",
      "['Enumerations:', 'PlayerPosition(GK, LB, RB, etc.)', 'Recommendation(KeyPlayer, FirstTeamPlayer, ReserveTeamPlayer, ProspectivePlayer, NotAGoodSigning)', 'PlayerStatus(ShortListed, NotShortListed)', 'Classes:', 'Club()', 'Employee()', 'HeadCoach()', 'Scout()', 'HeadScout()', 'Director()', 'Player()', 'PlayerProfile()', 'PlayerPosition()', 'PlayerAttribute()', 'ScoutingAssignment()', 'ScoutingReport()']\n"
     ]
    },
    {
     "name": "stderr",
     "output_type": "stream",
     "text": [
      "\u001b[32m2025-02-19 01:04:38.216\u001b[0m | \u001b[1mINFO    \u001b[0m | \u001b[36mevaluation.model_matcher\u001b[0m:\u001b[36mmatch_classes\u001b[0m:\u001b[36m231\u001b[0m - \u001b[1mLoading cache from transformed_results/Meta-Llama-3.1-70B-Instruct-Turbo_output_direct/2_Team Sports Scouting (TSS)_ada_embedding.txt\u001b[0m\n"
     ]
    },
    {
     "name": "stdout",
     "output_type": "stream",
     "text": [
      "['Enumerations:', 'DeviceStatus(Activated, Deactivated)', 'CommandType (lockDoor, turnOnHeating)', 'CommandStatus (Requested, Completed, Failed)', 'RuleStatus (created, edited, activated, deactivated)', 'BinaryOp (AND, OR )', 'Classes:', 'SHAS()', 'SmartHome()', 'User(string name)', 'Address(string city, string postalCode, string street, string aptNumber)', 'Room()', 'abstract Device(DeviceStatus deviceStatus, int deviceID)', 'SensorDevice()', 'ActuatorDevice()', 'ActvityLog()', 'abstract RuntimeElement(time timestamp)', 'SensorReading(double value)', 'ControlCommand (CommandType commandType, CommandStatus commandStatus)', 'AlertRule (RuleStatus ruleStatus)', 'abstract BooleanExpression()', 'RelationalTerm()', 'NotExpression()', 'BinaryExpression(BinaryOp binaryOp)', 'CommandSequence()']\n",
      "['Enumerations:', 'CommandStatus(Requested, Completed, Failed)', 'DeviceType(TemperatureSensor, MovementSensor, LightController, LockController)', 'Classes:', 'SmartHome()', 'Room()', 'Device()', 'SensorDevice()', 'ActuatorDevice()', 'SensorReading()', 'ControlCommand()', 'ActivityLog()', 'AutomationRule()']\n"
     ]
    },
    {
     "name": "stderr",
     "output_type": "stream",
     "text": [
      "\u001b[32m2025-02-19 01:04:38.528\u001b[0m | \u001b[1mINFO    \u001b[0m | \u001b[36mevaluation.model_matcher\u001b[0m:\u001b[36mmatch_classes\u001b[0m:\u001b[36m231\u001b[0m - \u001b[1mLoading cache from transformed_results/Meta-Llama-3.1-70B-Instruct-Turbo_output_direct/3_SHAS_ada_embedding.txt\u001b[0m\n"
     ]
    },
    {
     "name": "stdout",
     "output_type": "stream",
     "text": [
      "['Enumerations:', 'LevelOfTutoring(PrimarySchool, HighSchool, University)', 'SessionStatus(Proposed, Confirmed, Completed, Paid, Cancelled)', 'PaymentKind(CreditCard, WireTransfer)', 'Classes:', 'OTS()', 'User(string name, string email)', 'BestTutorAward(int year, int month)', 'Tutor(string bankAccount)', 'TutoringOffer(float hourlyPrice)', 'Subject(string name)', 'TutorAvailability(Date startTime, Time endTime)', 'abstract TutoringRole()', 'abstract TutoringElement(LevelOfTutoring tutoringLevel)', 'Student()', 'TutoringRequest()', 'TutoringSession(Date sessionDate, float totalPrice, SessionStatus sessionStatus)', 'Payment(PaymentKind paymentForm, date paymentDate)']\n",
      "['Enumerations:', 'PaymentMethod(Type)', 'SubjectLevel(PrimarySchool, HighSchool, University)', 'TutoringSessionStatus(Agreed, Cancelled, Completed)', 'SlotStatus(Available, Unavailable)', 'PaymentStatus(Paid, Unpaid)', 'Classes:', 'Tutor()', 'Student()', 'TutoringSession()', 'TutoringOffer()', 'BankAccount()', 'Subject()', 'PaymentMethod()']\n"
     ]
    },
    {
     "name": "stderr",
     "output_type": "stream",
     "text": [
      "\u001b[32m2025-02-19 01:04:38.849\u001b[0m | \u001b[1mINFO    \u001b[0m | \u001b[36mevaluation.model_matcher\u001b[0m:\u001b[36mmatch_classes\u001b[0m:\u001b[36m231\u001b[0m - \u001b[1mLoading cache from transformed_results/Meta-Llama-3.1-70B-Instruct-Turbo_output_direct/4_Online Tutoring System (OTS)_ada_embedding.txt\u001b[0m\n"
     ]
    },
    {
     "name": "stdout",
     "output_type": "stream",
     "text": [
      "['Enumerations:', 'Classes:', 'DestroyBlock()', 'User(string username, string password)', 'BlockAssignment(int gridHorizontalPosition, int gridVerticalPosition)', 'Level (boolean isRandom)', 'Game (string name, int nrBlocksPerLevel)', 'Block(int id, int red, int green, int blue, int points)', 'Paddle(int amxPaddleLength, int minPaddleLength)', 'Ball(int minBallSpeedX, int minBallSpeedY)', 'HallOfFameEntry(int score)', 'PlayedGame(int id, int score, int lives, int currentLevel)', 'PlayedBall(double ballDirectionX, double ballDirectionY, double currentBallX, double currentBallY)', 'PlayedPaddle(double currentPaddleLength, double currentPaddleX, double currentPaddleY)', 'PlayedBlockAssignment(int x, int y)', 'Player()', 'Admin()']\n",
      "['Enumerations:', 'BlockStatus(Active, Inactive)', 'GameStatus(Published, Unpublished)', 'LevelStatus(Completed, NotCompleted)', 'GameMode(Play, Admin)', 'Classes:', 'Block()', 'Game()', 'Level()', 'BlockArrangement()', 'GridPosition()', 'GameAdmin()', 'User()', 'Player()', 'Ball()', 'Paddle()', 'HallOfFame()']\n"
     ]
    },
    {
     "name": "stderr",
     "output_type": "stream",
     "text": [
      "\u001b[32m2025-02-19 01:04:39.118\u001b[0m | \u001b[1mINFO    \u001b[0m | \u001b[36mevaluation.model_matcher\u001b[0m:\u001b[36mmatch_classes\u001b[0m:\u001b[36m231\u001b[0m - \u001b[1mLoading cache from transformed_results/Meta-Llama-3.1-70B-Instruct-Turbo_output_direct/5_Block_ada_embedding.txt\u001b[0m\n"
     ]
    },
    {
     "name": "stdout",
     "output_type": "stream",
     "text": [
      "['Enumerations:', 'Mode(design, game)', 'Color(red, blue, green, yellow)', 'Classes:', 'TileO()', 'Game(int currentConnectionPieces, Mode mode, int spaceConnectionPieces, int numberOfActionCards)', 'Connection()', 'Die()', 'Deck()', 'abstract Tile(int x, int y, boolean hasBeenVisited)', 'abstract ActionCard (string instructions)', 'RollDieActionCard()', 'ConnectTilesActionCard()', 'RemoveConnectionActionCard()', 'TeleportActionCard()', 'LoseTurnActionCard()', 'WinTile()', 'ActionTile(int inactivityPeriod, int turnsUntilActive)', 'NormalTile()', 'Player(int number, int turnsUntilActive, Color color)']\n",
      "['Enumerations:', 'TileType(Regular, Action, HiddenStart)', 'ActionCardType(ExtraTurn, ConnectTiles, RemoveConnection, MoveArbitrary, LoseTurn)', 'Classes:', 'Player()', 'GameDesigner()', 'GameBoard()', 'Tile()', 'ConnectionPiece()', 'ActionCard()', 'Deck()', 'Die()', 'PlayingPiece()']\n"
     ]
    },
    {
     "name": "stderr",
     "output_type": "stream",
     "text": [
      "\u001b[32m2025-02-19 01:04:39.409\u001b[0m | \u001b[1mINFO    \u001b[0m | \u001b[36mevaluation.model_matcher\u001b[0m:\u001b[36mmatch_classes\u001b[0m:\u001b[36m231\u001b[0m - \u001b[1mLoading cache from transformed_results/Meta-Llama-3.1-70B-Instruct-Turbo_output_direct/6_Tile-O_ada_embedding.txt\u001b[0m\n"
     ]
    },
    {
     "name": "stdout",
     "output_type": "stream",
     "text": [
      "['Enumerations:', 'RoomType(SINGLE, DOUBLE, TWIN)', 'BookingStatus(FINALIZED, CONFIRMED, CANCELLED_BY_HBMS, PRELIMINARY, CANCELLED_BY_TRAVELLER, CANCELLED_BY_HOTEL)', 'PaymentType (PREPAID, PAID_AT_HOTEL)', 'Classes:', 'HotelBookingManager()', 'HotelChain()', 'Traveller (string name, int reliabilityRating)', 'BillingInformation(string companyName, string address)', 'TravelPreference(string preference, string value)', 'Hotel (string city, string country, string area)', 'abstract Offer()', 'SpecialOffer()', 'RegularOffer()', 'TravelSearch()', 'SearchInfo()', 'RoomAvailability()', 'abstract TripInfo(int numberOfRooms, RoomType roomType, date arrivalDate, date departureDate, float budgetPerNight)', 'BookingInfo()', 'Booking (int bookingId, date cancellationDeadline, string creditCardNumber, BookingStatus bookingStatus, PaymentType paymentType, date confirmationDate, float paidAmount)']\n",
      "['Enumerations:', 'HotelRating()', 'RoomType()', 'PaymentMethod()', 'BookingStatus()', 'TravelPreference()', 'BookingType()', 'Classes:', 'Hotel()', 'Traveller()', 'Booking()', 'HotelChain()', 'City()', 'Address()', 'CreditCard()']\n"
     ]
    },
    {
     "name": "stderr",
     "output_type": "stream",
     "text": [
      "\u001b[32m2025-02-19 01:04:39.688\u001b[0m | \u001b[1mINFO    \u001b[0m | \u001b[36mevaluation.model_matcher\u001b[0m:\u001b[36mmatch_classes\u001b[0m:\u001b[36m231\u001b[0m - \u001b[1mLoading cache from transformed_results/Meta-Llama-3.1-70B-Instruct-Turbo_output_direct/7_HBMS_ada_embedding.txt\u001b[0m\n"
     ]
    },
    {
     "name": "stdout",
     "output_type": "stream",
     "text": [
      "Processing yujing with Qwen2.5-7B-Instruct-Turbo\n"
     ]
    },
    {
     "data": {
      "application/vnd.jupyter.widget-view+json": {
       "model_id": "929b63b72b1f42fbb8803619fea008bb",
       "version_major": 2,
       "version_minor": 0
      },
      "text/plain": [
       "  0%|          | 0/8 [00:00<?, ?it/s]"
      ]
     },
     "metadata": {},
     "output_type": "display_data"
    },
    {
     "name": "stdout",
     "output_type": "stream",
     "text": [
      "['Enumerations:', 'Interval(weekly, monthly, everyHalfYear, yearly)', 'AccessType (reservable, walkIn, dropOff)', 'DayOfWeek(Monday, Tuesday, Wednesday, Thursday, Friday, Saturday, Sunday)', 'Classes:', 'LabTracker()', 'Person(string lastName, string firstName, string address, string phoneNumber)', 'abstract PersonRole(idNumber)', 'Patient (string dateOfBirth)', 'Doctor (string signature)', 'Requisition (string effectiveDate, int repetitionCount, Interval repetitionInterval)', 'TestResult(boolean negative, string report)', 'SpecificTest(Data date)', 'Appointment (string confirmation, Date date, string startTime, string endTime)', 'BusinessHour(DayOfWeek dayOfWeek, string startTime, string endTime)', 'Lab (string registrationNumber, string name, string address, boolean changeCancelFee)', 'Test (string name, string duration)', 'TestType(string name, string durationAdditive, AccessType access)']\n",
      "['Enumerations:', 'Classes:', 'Lab()', 'Test()', 'Sample()', 'Result()', 'Report()', 'Appointment()', 'Requisition()', 'Doctor()', 'Patient()', 'Interval()', 'BusinessHours()', 'Fee()', 'SampleType()']\n",
      "['Enumerations:', 'AttendeeStatus(Yes, Maybe, No, NoResponse)', 'CompletionStatus(ToBeDone, Done, NotApplicable, Attendee)', 'Classes:', 'CelO()', 'Person(string lastName, string firstName, string emailAddress, string password)', 'abstract PersonRole()', 'Organizer(string address, string phoneNumber)', 'Attendee()', 'TaskStatus(CompletionStatus status)', 'Registration(AttendeeStatus status)', 'CheckListTask(string description)', 'Location(string name, string address)', 'Event(string occasion, date startTime, date endTime)', 'EventType(string name)']\n",
      "['Enumerations:', 'Classes:', 'Organizer()', 'Event()', 'Task()', 'Location()', 'Attendee()', 'Invitation()', 'Account()']\n",
      "['Enumerations:', 'Position(GK, LB)', 'Recommendation(KEY_PLAYER, FIRST_TEAM_PLAYER, RESERVE_TEAM_PLAYER, PROSPECTIVE_PLAYER, NOT_RECOMMENDED)', 'ScoutingStatus(LONG_LISTED, SHORT_LISTED, RECOMMENDED_FOR_SIGNING, OFFER_MADE)', 'ScoutKind(REGULAR_SCOUNT, HEAD_SCOUT)', 'Classes:', 'TSS()', 'abstract Person(string firstName, string lastName)', 'Player(ScoutingStatus status)', 'HeadCoach()', 'Director()', 'Scout(ScoutKind scoutKind)', 'Club()', 'Offer(int value)', 'ScoutingAssignmnet()', 'ScoutReport(string pro, string con, Recommendation recommendation)', 'PlayerProfile(Position position)', 'PlayerAttribute(string name, int value)']\n",
      "['Enumerations:', 'Classes:', 'Person()', 'Profile()', 'Player()', 'Profile()', 'Recommendation()', 'ScoutingReport()', 'HeadCoach()', 'Person()', 'Director()', 'Person()', 'TeamSportsScoutingSystem()', 'Profile()']\n",
      "['Enumerations:', 'DeviceStatus(Activated, Deactivated)', 'CommandType (lockDoor, turnOnHeating)', 'CommandStatus (Requested, Completed, Failed)', 'RuleStatus (created, edited, activated, deactivated)', 'BinaryOp (AND, OR )', 'Classes:', 'SHAS()', 'SmartHome()', 'User(string name)', 'Address(string city, string postalCode, string street, string aptNumber)', 'Room()', 'abstract Device(DeviceStatus deviceStatus, int deviceID)', 'SensorDevice()', 'ActuatorDevice()', 'ActvityLog()', 'abstract RuntimeElement(time timestamp)', 'SensorReading(double value)', 'ControlCommand (CommandType commandType, CommandStatus commandStatus)', 'AlertRule (RuleStatus ruleStatus)', 'abstract BooleanExpression()', 'RelationalTerm()', 'NotExpression()', 'BinaryExpression(BinaryOp binaryOp)', 'CommandSequence()']\n",
      "['Enumerations:', 'Classes:', 'SmartHome()', 'Room()', 'Device()', 'SensorDevice()', 'ActuatorDevice()', 'AutomationRule()', 'BooleanExpression()', 'RelationalTerm()', 'BasicBooleanOperator()', 'ControlCommand()', 'ControlCommandStatus()', 'Timestamp()']\n",
      "['Enumerations:', 'LevelOfTutoring(PrimarySchool, HighSchool, University)', 'SessionStatus(Proposed, Confirmed, Completed, Paid, Cancelled)', 'PaymentKind(CreditCard, WireTransfer)', 'Classes:', 'OTS()', 'User(string name, string email)', 'BestTutorAward(int year, int month)', 'Tutor(string bankAccount)', 'TutoringOffer(float hourlyPrice)', 'Subject(string name)', 'TutorAvailability(Date startTime, Time endTime)', 'abstract TutoringRole()', 'abstract TutoringElement(LevelOfTutoring tutoringLevel)', 'Student()', 'TutoringRequest()', 'TutoringSession(Date sessionDate, float totalPrice, SessionStatus sessionStatus)', 'Payment(PaymentKind paymentForm, date paymentDate)']\n",
      "['Enumerations:', 'Classes:', 'Registration()', 'Tutor()', 'Student()', 'TutoringLevel()', 'Subject()', 'TutoringRequest()', 'TutoringSession()', 'Cancellation()', 'Discount()']\n",
      "['Enumerations:', 'Classes:', 'DestroyBlock()', 'User(string username, string password)', 'BlockAssignment(int gridHorizontalPosition, int gridVerticalPosition)', 'Level (boolean isRandom)', 'Game (string name, int nrBlocksPerLevel)', 'Block(int id, int red, int green, int blue, int points)', 'Paddle(int amxPaddleLength, int minPaddleLength)', 'Ball(int minBallSpeedX, int minBallSpeedY)', 'HallOfFameEntry(int score)', 'PlayedGame(int id, int score, int lives, int currentLevel)', 'PlayedBall(double ballDirectionX, double ballDirectionY, double currentBallX, double currentBallY)', 'PlayedPaddle(double currentPaddleLength, double currentPaddleX, double currentPaddleY)', 'PlayedBlockAssignment(int x, int y)', 'Player()', 'Admin()']\n",
      "['Enumerations:', 'Classes:', 'User()', 'Game()', 'Block()', 'Level()', 'HallOfFame()', 'Ball()', 'Paddle()', 'Wall()', 'Direction()', 'GameSession()', 'GameStatus()', 'Confirmation()']\n",
      "['Enumerations:', 'Mode(design, game)', 'Color(red, blue, green, yellow)', 'Classes:', 'TileO()', 'Game(int currentConnectionPieces, Mode mode, int spaceConnectionPieces, int numberOfActionCards)', 'Connection()', 'Die()', 'Deck()', 'abstract Tile(int x, int y, boolean hasBeenVisited)', 'abstract ActionCard (string instructions)', 'RollDieActionCard()', 'ConnectTilesActionCard()', 'RemoveConnectionActionCard()', 'TeleportActionCard()', 'LoseTurnActionCard()', 'WinTile()', 'ActionTile(int inactivityPeriod, int turnsUntilActive)', 'NormalTile()', 'Player(int number, int turnsUntilActive, Color color)']\n",
      "['Enumerations:', 'Classes:', 'Game()', 'Board()', 'Tile()', 'Connection()', 'Player()', 'PlayingPiece()', 'Die()', 'ActionCard()', 'Deck()', 'HiddenTile()', 'StartingPosition()', 'ActionTile()', 'GameDesigner()', 'Turn()', 'Roll()', 'Move()', 'Color()', 'Win()', 'Lose()']\n",
      "['Enumerations:', 'RoomType(SINGLE, DOUBLE, TWIN)', 'BookingStatus(FINALIZED, CONFIRMED, CANCELLED_BY_HBMS, PRELIMINARY, CANCELLED_BY_TRAVELLER, CANCELLED_BY_HOTEL)', 'PaymentType (PREPAID, PAID_AT_HOTEL)', 'Classes:', 'HotelBookingManager()', 'HotelChain()', 'Traveller (string name, int reliabilityRating)', 'BillingInformation(string companyName, string address)', 'TravelPreference(string preference, string value)', 'Hotel (string city, string country, string area)', 'abstract Offer()', 'SpecialOffer()', 'RegularOffer()', 'TravelSearch()', 'SearchInfo()', 'RoomAvailability()', 'abstract TripInfo(int numberOfRooms, RoomType roomType, date arrivalDate, date departureDate, float budgetPerNight)', 'BookingInfo()', 'Booking (int bookingId, date cancellationDeadline, string creditCardNumber, BookingStatus bookingStatus, PaymentType paymentType, date confirmationDate, float paidAmount)']\n",
      "['Enumerations:', 'Classes:', 'Hotel()', 'Booking()', 'City()', 'Date()', 'Room()', 'Type()', 'Rating()', 'Budget()', 'Preference()', 'Offer()', 'CreditCard()', 'Period()', 'RoomType()', 'BookingIdentifier()', 'SpecialOffer()', 'ReliabilityRating()', 'CompetitorHotel()', 'Confirmation()', 'FinancialCompensation()']\n",
      "Processing sherpa with Qwen2.5-7B-Instruct-Turbo\n"
     ]
    },
    {
     "data": {
      "application/vnd.jupyter.widget-view+json": {
       "model_id": "22b74ad5dad443ec94c1d768950581a4",
       "version_major": 2,
       "version_minor": 0
      },
      "text/plain": [
       "  0%|          | 0/8 [00:00<?, ?it/s]"
      ]
     },
     "metadata": {},
     "output_type": "display_data"
    },
    {
     "name": "stdout",
     "output_type": "stream",
     "text": [
      "['Enumerations:', 'Interval(weekly, monthly, everyHalfYear, yearly)', 'AccessType (reservable, walkIn, dropOff)', 'DayOfWeek(Monday, Tuesday, Wednesday, Thursday, Friday, Saturday, Sunday)', 'Classes:', 'LabTracker()', 'Person(string lastName, string firstName, string address, string phoneNumber)', 'abstract PersonRole(idNumber)', 'Patient (string dateOfBirth)', 'Doctor (string signature)', 'Requisition (string effectiveDate, int repetitionCount, Interval repetitionInterval)', 'TestResult(boolean negative, string report)', 'SpecificTest(Data date)', 'Appointment (string confirmation, Date date, string startTime, string endTime)', 'BusinessHour(DayOfWeek dayOfWeek, string startTime, string endTime)', 'Lab (string registrationNumber, string name, string address, boolean changeCancelFee)', 'Test (string name, string duration)', 'TestType(string name, string durationAdditive, AccessType access)']\n",
      "['Enumerations:', 'Classes:', 'Person()', 'Doctor()', 'Patient()', 'Requisition()', 'Appointment()', 'Test()', 'BloodTest()', 'UltrasoundExamination()', 'XRayExamination()', 'UrineSample()', 'StoolSample()', 'RepeatingPattern()', 'Fee()', 'Lab()', 'OpenHours()', 'AppointmentPolicy()']\n",
      "['Enumerations:', 'AttendeeStatus(Yes, Maybe, No, NoResponse)', 'CompletionStatus(ToBeDone, Done, NotApplicable, Attendee)', 'Classes:', 'CelO()', 'Person(string lastName, string firstName, string emailAddress, string password)', 'abstract PersonRole()', 'Organizer(string address, string phoneNumber)', 'Attendee()', 'TaskStatus(CompletionStatus status)', 'Registration(AttendeeStatus status)', 'CheckListTask(string description)', 'Location(string name, string address)', 'Event(string occasion, date startTime, date endTime)', 'EventType(string name)']\n",
      "['Enumerations:', 'Classes:', 'Organizer()', 'eventType()', 'Event()', 'Invitation()', 'Location()', 'Checklist()', 'Task()', 'Attendee()']\n",
      "['Enumerations:', 'Position(GK, LB)', 'Recommendation(KEY_PLAYER, FIRST_TEAM_PLAYER, RESERVE_TEAM_PLAYER, PROSPECTIVE_PLAYER, NOT_RECOMMENDED)', 'ScoutingStatus(LONG_LISTED, SHORT_LISTED, RECOMMENDED_FOR_SIGNING, OFFER_MADE)', 'ScoutKind(REGULAR_SCOUNT, HEAD_SCOUT)', 'Classes:', 'TSS()', 'abstract Person(string firstName, string lastName)', 'Player(ScoutingStatus status)', 'HeadCoach()', 'Director()', 'Scout(ScoutKind scoutKind)', 'Club()', 'Offer(int value)', 'ScoutingAssignmnet()', 'ScoutReport(string pro, string con, Recommendation recommendation)', 'PlayerProfile(Position position)', 'PlayerAttribute(string name, int value)']\n",
      "['Enumerations:', 'Classes:', 'Position()', 'ScoutingAssignment()', 'ScoutingReport()', 'PlayerProfileList()']\n",
      "['Enumerations:', 'DeviceStatus(Activated, Deactivated)', 'CommandType (lockDoor, turnOnHeating)', 'CommandStatus (Requested, Completed, Failed)', 'RuleStatus (created, edited, activated, deactivated)', 'BinaryOp (AND, OR )', 'Classes:', 'SHAS()', 'SmartHome()', 'User(string name)', 'Address(string city, string postalCode, string street, string aptNumber)', 'Room()', 'abstract Device(DeviceStatus deviceStatus, int deviceID)', 'SensorDevice()', 'ActuatorDevice()', 'ActvityLog()', 'abstract RuntimeElement(time timestamp)', 'SensorReading(double value)', 'ControlCommand (CommandType commandType, CommandStatus commandStatus)', 'AlertRule (RuleStatus ruleStatus)', 'abstract BooleanExpression()', 'RelationalTerm()', 'NotExpression()', 'BinaryExpression(BinaryOp binaryOp)', 'CommandSequence()']\n",
      "['Enumerations:', 'Classes:', 'DeviceIdentifier()', 'ControlCommandStatus()', 'BooleanOperator()', 'Device()', 'SensorDevice()', 'ActuatorDevice()', 'SmartHome()', 'Room()', 'RelationalTerm()', 'RelationalTerm_SensorDevice()', 'RelationalTerm_ActuatorDevice()', 'BooleanExpression()', 'BooleanExpression_SingleRelationalTerm()', 'BooleanExpression_LogicalOperator()', 'Action()', 'Action_ControlCommandSequence()', 'Rule()', 'TriggeredTimestamp()', 'ControlCommand()', 'AutomationRuleDependencies()', 'AutomationRuleHierarchy()']\n",
      "['Enumerations:', 'LevelOfTutoring(PrimarySchool, HighSchool, University)', 'SessionStatus(Proposed, Confirmed, Completed, Paid, Cancelled)', 'PaymentKind(CreditCard, WireTransfer)', 'Classes:', 'OTS()', 'User(string name, string email)', 'BestTutorAward(int year, int month)', 'Tutor(string bankAccount)', 'TutoringOffer(float hourlyPrice)', 'Subject(string name)', 'TutorAvailability(Date startTime, Time endTime)', 'abstract TutoringRole()', 'abstract TutoringElement(LevelOfTutoring tutoringLevel)', 'Student()', 'TutoringRequest()', 'TutoringSession(Date sessionDate, float totalPrice, SessionStatus sessionStatus)', 'Payment(PaymentKind paymentForm, date paymentDate)']\n",
      "['Enumerations:', 'Classes:', 'Patron()', 'BankAccount()', 'CreditCardAccount()', 'WireTransferAccount()', 'ExpertiseLevel()', 'Subject()', 'Cancellation()', 'TutoringRequest()', 'TutoringSession()', 'CancellationType()']\n",
      "['Enumerations:', 'Classes:', 'DestroyBlock()', 'User(string username, string password)', 'BlockAssignment(int gridHorizontalPosition, int gridVerticalPosition)', 'Level (boolean isRandom)', 'Game (string name, int nrBlocksPerLevel)', 'Block(int id, int red, int green, int blue, int points)', 'Paddle(int amxPaddleLength, int minPaddleLength)', 'Ball(int minBallSpeedX, int minBallSpeedY)', 'HallOfFameEntry(int score)', 'PlayedGame(int id, int score, int lives, int currentLevel)', 'PlayedBall(double ballDirectionX, double ballDirectionY, double currentBallX, double currentBallY)', 'PlayedPaddle(double currentPaddleLength, double currentPaddleX, double currentPaddleY)', 'PlayedBlockAssignment(int x, int y)', 'Player()', 'Admin()']\n",
      "['Enumerations:', 'Classes:', 'User()', 'Game()', 'Block()', 'Level()', 'GameSpeed()', 'Paddle()', 'LevelDesign()', 'BlockArrangement()']\n",
      "['Enumerations:', 'Mode(design, game)', 'Color(red, blue, green, yellow)', 'Classes:', 'TileO()', 'Game(int currentConnectionPieces, Mode mode, int spaceConnectionPieces, int numberOfActionCards)', 'Connection()', 'Die()', 'Deck()', 'abstract Tile(int x, int y, boolean hasBeenVisited)', 'abstract ActionCard (string instructions)', 'RollDieActionCard()', 'ConnectTilesActionCard()', 'RemoveConnectionActionCard()', 'TeleportActionCard()', 'LoseTurnActionCard()', 'WinTile()', 'ActionTile(int inactivityPeriod, int turnsUntilActive)', 'NormalTile()', 'Player(int number, int turnsUntilActive, Color color)']\n",
      "['Enumerations:', 'Classes:', 'Game()', 'Tile()', 'ConnectionPiece()', 'Player()', 'Die()', 'ActionCard()', 'Pile()', 'HiddenTile()', 'StartingPosition()', 'ActionTile()', 'Board()', 'list()', 'list()', 'list()', 'Turn()', 'GameBoardAction()', 'DieType()', 'TileType()', 'BoardPieceType()']\n",
      "['Enumerations:', 'RoomType(SINGLE, DOUBLE, TWIN)', 'BookingStatus(FINALIZED, CONFIRMED, CANCELLED_BY_HBMS, PRELIMINARY, CANCELLED_BY_TRAVELLER, CANCELLED_BY_HOTEL)', 'PaymentType (PREPAID, PAID_AT_HOTEL)', 'Classes:', 'HotelBookingManager()', 'HotelChain()', 'Traveller (string name, int reliabilityRating)', 'BillingInformation(string companyName, string address)', 'TravelPreference(string preference, string value)', 'Hotel (string city, string country, string area)', 'abstract Offer()', 'SpecialOffer()', 'RegularOffer()', 'TravelSearch()', 'SearchInfo()', 'RoomAvailability()', 'abstract TripInfo(int numberOfRooms, RoomType roomType, date arrivalDate, date departureDate, float budgetPerNight)', 'BookingInfo()', 'Booking (int bookingId, date cancellationDeadline, string creditCardNumber, BookingStatus bookingStatus, PaymentType paymentType, date confirmationDate, float paidAmount)']\n",
      "['Enumerations:', 'Classes:', 'TravellerStatus()', 'BookingPaymentType()', 'BookingConfirmationStatus()', 'RoomType()', 'HotelChainMembership()', 'HotelChain()', 'Traveller()', 'BillingInformation()', 'Date()', 'City()', 'Arrival()', 'Departure()', 'Room()', 'Type()', 'Rating()', 'Budget()', 'Preference()', 'Booking()', 'Identifier()', 'SpecialOffer()', 'CreditCardInformation()', 'ReliabilityRating()', 'HotelChain()', 'Address()', 'Period()', 'BookingInformation()', 'Booking()', 'FinalizedBooking()', 'PreliminaryBooking()', 'CancelledBooking()']\n",
      "Processing direct with Qwen2.5-7B-Instruct-Turbo\n"
     ]
    },
    {
     "data": {
      "application/vnd.jupyter.widget-view+json": {
       "model_id": "9f8d407a3cd74380a0424e68b8894f13",
       "version_major": 2,
       "version_minor": 0
      },
      "text/plain": [
       "  0%|          | 0/8 [00:00<?, ?it/s]"
      ]
     },
     "metadata": {},
     "output_type": "display_data"
    },
    {
     "name": "stdout",
     "output_type": "stream",
     "text": [
      "['Enumerations:', 'Interval(weekly, monthly, everyHalfYear, yearly)', 'AccessType (reservable, walkIn, dropOff)', 'DayOfWeek(Monday, Tuesday, Wednesday, Thursday, Friday, Saturday, Sunday)', 'Classes:', 'LabTracker()', 'Person(string lastName, string firstName, string address, string phoneNumber)', 'abstract PersonRole(idNumber)', 'Patient (string dateOfBirth)', 'Doctor (string signature)', 'Requisition (string effectiveDate, int repetitionCount, Interval repetitionInterval)', 'TestResult(boolean negative, string report)', 'SpecificTest(Data date)', 'Appointment (string confirmation, Date date, string startTime, string endTime)', 'BusinessHour(DayOfWeek dayOfWeek, string startTime, string endTime)', 'Lab (string registrationNumber, string name, string address, boolean changeCancelFee)', 'Test (string name, string duration)', 'TestType(string name, string durationAdditive, AccessType access)']\n",
      "['Enumerations:', 'TestType()', 'RepetitionInterval(Weekly, Monthly, EveryHalfYear, Yearly)', 'AppointmentStatus()', 'Classes:', 'Patient()', 'Doctor()', 'Lab()', 'Requisition()', 'Test()', 'Appointment()']\n"
     ]
    },
    {
     "name": "stderr",
     "output_type": "stream",
     "text": [
      "\u001b[32m2025-02-19 01:30:53.111\u001b[0m | \u001b[1mINFO    \u001b[0m | \u001b[36mevaluation.model_matcher\u001b[0m:\u001b[36mmatch_classes\u001b[0m:\u001b[36m231\u001b[0m - \u001b[1mLoading cache from transformed_results/Qwen2.5-7B-Instruct-Turbo_output_direct/0_Lab Requisition Management System_ada_embedding.txt\u001b[0m\n"
     ]
    },
    {
     "name": "stdout",
     "output_type": "stream",
     "text": [
      "['Enumerations:', 'AttendeeStatus(Yes, Maybe, No, NoResponse)', 'CompletionStatus(ToBeDone, Done, NotApplicable, Attendee)', 'Classes:', 'CelO()', 'Person(string lastName, string firstName, string emailAddress, string password)', 'abstract PersonRole()', 'Organizer(string address, string phoneNumber)', 'Attendee()', 'TaskStatus(CompletionStatus status)', 'Registration(AttendeeStatus status)', 'CheckListTask(string description)', 'Location(string name, string address)', 'Event(string occasion, date startTime, date endTime)', 'EventType(string name)']\n",
      "['Enumerations:', 'EventOccasion()', 'EventLocationType()', 'AttendeeStatus()', 'TaskStatus()', 'Classes:', 'Organizer()', 'Event()', 'Invite()', 'Task()', 'Attendee()']\n"
     ]
    },
    {
     "name": "stderr",
     "output_type": "stream",
     "text": [
      "\u001b[32m2025-02-19 01:30:53.409\u001b[0m | \u001b[1mINFO    \u001b[0m | \u001b[36mevaluation.model_matcher\u001b[0m:\u001b[36mmatch_classes\u001b[0m:\u001b[36m231\u001b[0m - \u001b[1mLoading cache from transformed_results/Qwen2.5-7B-Instruct-Turbo_output_direct/1_Celebrations Organization System (CelO)_ada_embedding.txt\u001b[0m\n"
     ]
    },
    {
     "name": "stdout",
     "output_type": "stream",
     "text": [
      "['Enumerations:', 'Position(GK, LB)', 'Recommendation(KEY_PLAYER, FIRST_TEAM_PLAYER, RESERVE_TEAM_PLAYER, PROSPECTIVE_PLAYER, NOT_RECOMMENDED)', 'ScoutingStatus(LONG_LISTED, SHORT_LISTED, RECOMMENDED_FOR_SIGNING, OFFER_MADE)', 'ScoutKind(REGULAR_SCOUNT, HEAD_SCOUT)', 'Classes:', 'TSS()', 'abstract Person(string firstName, string lastName)', 'Player(ScoutingStatus status)', 'HeadCoach()', 'Director()', 'Scout(ScoutKind scoutKind)', 'Club()', 'Offer(int value)', 'ScoutingAssignmnet()', 'ScoutReport(string pro, string con, Recommendation recommendation)', 'PlayerProfile(Position position)', 'PlayerAttribute(string name, int value)']\n",
      "['Enumerations:', 'PlayerStatus(KeyPlayer, FirstTeamPlayer, ReserveTeamPlayer, ProspectivePlayer, NotASignature)', 'TargetPosition(GK, LB, RB, CF, FW, CM, RM, LM, CD, AM, ST, DF)', 'Classes:', 'Player()', 'ScoutReport()', 'ScoutingAssignment()', 'PlayerProfile()', 'HeadCoach()', 'Director()']\n"
     ]
    },
    {
     "name": "stderr",
     "output_type": "stream",
     "text": [
      "\u001b[32m2025-02-19 01:30:53.683\u001b[0m | \u001b[1mINFO    \u001b[0m | \u001b[36mevaluation.model_matcher\u001b[0m:\u001b[36mmatch_classes\u001b[0m:\u001b[36m231\u001b[0m - \u001b[1mLoading cache from transformed_results/Qwen2.5-7B-Instruct-Turbo_output_direct/2_Team Sports Scouting (TSS)_ada_embedding.txt\u001b[0m\n"
     ]
    },
    {
     "name": "stdout",
     "output_type": "stream",
     "text": [
      "['Enumerations:', 'DeviceStatus(Activated, Deactivated)', 'CommandType (lockDoor, turnOnHeating)', 'CommandStatus (Requested, Completed, Failed)', 'RuleStatus (created, edited, activated, deactivated)', 'BinaryOp (AND, OR )', 'Classes:', 'SHAS()', 'SmartHome()', 'User(string name)', 'Address(string city, string postalCode, string street, string aptNumber)', 'Room()', 'abstract Device(DeviceStatus deviceStatus, int deviceID)', 'SensorDevice()', 'ActuatorDevice()', 'ActvityLog()', 'abstract RuntimeElement(time timestamp)', 'SensorReading(double value)', 'ControlCommand (CommandType commandType, CommandStatus commandStatus)', 'AlertRule (RuleStatus ruleStatus)', 'abstract BooleanExpression()', 'RelationalTerm()', 'NotExpression()', 'BinaryExpression(BinaryOp binaryOp)', 'CommandSequence()']\n",
      "['Enumerations:', 'AutomationRuleStatus(Active, Deactivated)', 'SensorReadingStatus(Received, Processed)', 'RoomType(LivingRoom, Kitchen, Bedroom, Bathroom)', 'DeviceType(TemperatureSensor, MovementSensor, LightController, LockController)', 'SensorType(Temperature, Movement)', 'ActuatorType(Light, Lock)', 'Classes:']\n"
     ]
    },
    {
     "name": "stderr",
     "output_type": "stream",
     "text": [
      "\u001b[32m2025-02-19 01:30:53.997\u001b[0m | \u001b[1mINFO    \u001b[0m | \u001b[36mevaluation.model_matcher\u001b[0m:\u001b[36mmatch_classes\u001b[0m:\u001b[36m231\u001b[0m - \u001b[1mLoading cache from transformed_results/Qwen2.5-7B-Instruct-Turbo_output_direct/3_SHAS_ada_embedding.txt\u001b[0m\n"
     ]
    },
    {
     "name": "stdout",
     "output_type": "stream",
     "text": [
      "['Enumerations:', 'LevelOfTutoring(PrimarySchool, HighSchool, University)', 'SessionStatus(Proposed, Confirmed, Completed, Paid, Cancelled)', 'PaymentKind(CreditCard, WireTransfer)', 'Classes:', 'OTS()', 'User(string name, string email)', 'BestTutorAward(int year, int month)', 'Tutor(string bankAccount)', 'TutoringOffer(float hourlyPrice)', 'Subject(string name)', 'TutorAvailability(Date startTime, Time endTime)', 'abstract TutoringRole()', 'abstract TutoringElement(LevelOfTutoring tutoringLevel)', 'Student()', 'TutoringRequest()', 'TutoringSession(Date sessionDate, float totalPrice, SessionStatus sessionStatus)', 'Payment(PaymentKind paymentForm, date paymentDate)']\n",
      "['Enumerations:', 'TutorStatus()', 'SessionStatus()', 'CancelReason()', 'PaymentMethod()', 'Classes:', 'Tutor()', 'Student()', 'Subject()', 'TutoringOffer()', 'TutoringRequest()', 'TutoringSession()']\n"
     ]
    },
    {
     "name": "stderr",
     "output_type": "stream",
     "text": [
      "\u001b[32m2025-02-19 01:30:54.398\u001b[0m | \u001b[1mINFO    \u001b[0m | \u001b[36mevaluation.model_matcher\u001b[0m:\u001b[36mmatch_classes\u001b[0m:\u001b[36m231\u001b[0m - \u001b[1mLoading cache from transformed_results/Qwen2.5-7B-Instruct-Turbo_output_direct/4_Online Tutoring System (OTS)_ada_embedding.txt\u001b[0m\n"
     ]
    },
    {
     "name": "stdout",
     "output_type": "stream",
     "text": [
      "['Enumerations:', 'Classes:', 'DestroyBlock()', 'User(string username, string password)', 'BlockAssignment(int gridHorizontalPosition, int gridVerticalPosition)', 'Level (boolean isRandom)', 'Game (string name, int nrBlocksPerLevel)', 'Block(int id, int red, int green, int blue, int points)', 'Paddle(int amxPaddleLength, int minPaddleLength)', 'Ball(int minBallSpeedX, int minBallSpeedY)', 'HallOfFameEntry(int score)', 'PlayedGame(int id, int score, int lives, int currentLevel)', 'PlayedBall(double ballDirectionX, double ballDirectionY, double currentBallX, double currentBallY)', 'PlayedPaddle(double currentPaddleLength, double currentPaddleX, double currentPaddleY)', 'PlayedBlockAssignment(int x, int y)', 'Player()', 'Admin()']\n",
      "['Enumerations:', 'CrimeStatus()', 'BlockPosition()', 'BlockType()', 'GameStatus()', 'LevelStatus()', 'Classes:', 'User()', 'Player()', 'Admin()', 'Game()', 'Level()', 'Block()']\n"
     ]
    },
    {
     "name": "stderr",
     "output_type": "stream",
     "text": [
      "\u001b[32m2025-02-19 01:30:54.761\u001b[0m | \u001b[1mINFO    \u001b[0m | \u001b[36mevaluation.model_matcher\u001b[0m:\u001b[36mmatch_classes\u001b[0m:\u001b[36m231\u001b[0m - \u001b[1mLoading cache from transformed_results/Qwen2.5-7B-Instruct-Turbo_output_direct/5_Block_ada_embedding.txt\u001b[0m\n"
     ]
    },
    {
     "name": "stdout",
     "output_type": "stream",
     "text": [
      "['Enumerations:', 'Mode(design, game)', 'Color(red, blue, green, yellow)', 'Classes:', 'TileO()', 'Game(int currentConnectionPieces, Mode mode, int spaceConnectionPieces, int numberOfActionCards)', 'Connection()', 'Die()', 'Deck()', 'abstract Tile(int x, int y, boolean hasBeenVisited)', 'abstract ActionCard (string instructions)', 'RollDieActionCard()', 'ConnectTilesActionCard()', 'RemoveConnectionActionCard()', 'TeleportActionCard()', 'LoseTurnActionCard()', 'WinTile()', 'ActionTile(int inactivityPeriod, int turnsUntilActive)', 'NormalTile()', 'Player(int number, int turnsUntilActive, Color color)']\n",
      "['Enumerations:', 'ActionTileType()', 'TileStatus()', 'DiceValue()', 'PlayerTurn()', 'CardAction()', 'Classes:']\n"
     ]
    },
    {
     "name": "stderr",
     "output_type": "stream",
     "text": [
      "\u001b[32m2025-02-19 01:30:55.063\u001b[0m | \u001b[1mINFO    \u001b[0m | \u001b[36mevaluation.model_matcher\u001b[0m:\u001b[36mmatch_classes\u001b[0m:\u001b[36m231\u001b[0m - \u001b[1mLoading cache from transformed_results/Qwen2.5-7B-Instruct-Turbo_output_direct/6_Tile-O_ada_embedding.txt\u001b[0m\n"
     ]
    },
    {
     "name": "stdout",
     "output_type": "stream",
     "text": [
      "['Enumerations:', 'RoomType(SINGLE, DOUBLE, TWIN)', 'BookingStatus(FINALIZED, CONFIRMED, CANCELLED_BY_HBMS, PRELIMINARY, CANCELLED_BY_TRAVELLER, CANCELLED_BY_HOTEL)', 'PaymentType (PREPAID, PAID_AT_HOTEL)', 'Classes:', 'HotelBookingManager()', 'HotelChain()', 'Traveller (string name, int reliabilityRating)', 'BillingInformation(string companyName, string address)', 'TravelPreference(string preference, string value)', 'Hotel (string city, string country, string area)', 'abstract Offer()', 'SpecialOffer()', 'RegularOffer()', 'TravelSearch()', 'SearchInfo()', 'RoomAvailability()', 'abstract TripInfo(int numberOfRooms, RoomType roomType, date arrivalDate, date departureDate, float budgetPerNight)', 'BookingInfo()', 'Booking (int bookingId, date cancellationDeadline, string creditCardNumber, BookingStatus bookingStatus, PaymentType paymentType, date confirmationDate, float paidAmount)']\n",
      "['Enumerations:', 'CrimeStatus(enum Solved, Pending, Unsolved)', 'HotelChain()', 'RoomType()', 'BookingStatus()', 'PaymentMethod()', 'TravelPreference()', 'Classes:', 'Traveller()', 'Hotel()', 'Room()', 'City()', 'HotelChainAffiliation()', 'Booking()', 'PreliminaryBooking()', 'FinalizedBooking()', 'Payment()', 'Note()', 'CityArea()', 'HotelRating()']\n"
     ]
    },
    {
     "name": "stderr",
     "output_type": "stream",
     "text": [
      "\u001b[32m2025-02-19 01:30:55.338\u001b[0m | \u001b[1mINFO    \u001b[0m | \u001b[36mevaluation.model_matcher\u001b[0m:\u001b[36mmatch_classes\u001b[0m:\u001b[36m231\u001b[0m - \u001b[1mLoading cache from transformed_results/Qwen2.5-7B-Instruct-Turbo_output_direct/7_HBMS_ada_embedding.txt\u001b[0m\n"
     ]
    },
    {
     "name": "stdout",
     "output_type": "stream",
     "text": [
      "Processing yujing with Qwen2.5-72B-Instruct-Turbo\n"
     ]
    },
    {
     "data": {
      "application/vnd.jupyter.widget-view+json": {
       "model_id": "2f584743ef0d4c8ebed54ef1cc0d95d6",
       "version_major": 2,
       "version_minor": 0
      },
      "text/plain": [
       "  0%|          | 0/8 [00:00<?, ?it/s]"
      ]
     },
     "metadata": {},
     "output_type": "display_data"
    },
    {
     "name": "stdout",
     "output_type": "stream",
     "text": [
      "['Enumerations:', 'Interval(weekly, monthly, everyHalfYear, yearly)', 'AccessType (reservable, walkIn, dropOff)', 'DayOfWeek(Monday, Tuesday, Wednesday, Thursday, Friday, Saturday, Sunday)', 'Classes:', 'LabTracker()', 'Person(string lastName, string firstName, string address, string phoneNumber)', 'abstract PersonRole(idNumber)', 'Patient (string dateOfBirth)', 'Doctor (string signature)', 'Requisition (string effectiveDate, int repetitionCount, Interval repetitionInterval)', 'TestResult(boolean negative, string report)', 'SpecificTest(Data date)', 'Appointment (string confirmation, Date date, string startTime, string endTime)', 'BusinessHour(DayOfWeek dayOfWeek, string startTime, string endTime)', 'Lab (string registrationNumber, string name, string address, boolean changeCancelFee)', 'Test (string name, string duration)', 'TestType(string name, string durationAdditive, AccessType access)']\n",
      "['Enumerations:', 'Interval(Weekly, Monthly, HalfYear, Yearly)', 'TestGroup(Blood, Ultrasound, XRay, Urine, Stool)', 'Classes:', 'Doctor()', 'Patient()', 'Test()', 'Requisition()', 'Lab()', 'Appointment()', 'BusinessHours()']\n"
     ]
    },
    {
     "name": "stderr",
     "output_type": "stream",
     "text": [
      "\u001b[32m2025-02-19 01:30:55.658\u001b[0m | \u001b[1mINFO    \u001b[0m | \u001b[36mevaluation.model_matcher\u001b[0m:\u001b[36mmatch_classes\u001b[0m:\u001b[36m231\u001b[0m - \u001b[1mLoading cache from transformed_results/Qwen2.5-72B-Instruct-Turbo_output_yujing/0_Lab Requisition Management System_ada_embedding.txt\u001b[0m\n"
     ]
    },
    {
     "name": "stdout",
     "output_type": "stream",
     "text": [
      "['Enumerations:', 'AttendeeStatus(Yes, Maybe, No, NoResponse)', 'CompletionStatus(ToBeDone, Done, NotApplicable, Attendee)', 'Classes:', 'CelO()', 'Person(string lastName, string firstName, string emailAddress, string password)', 'abstract PersonRole()', 'Organizer(string address, string phoneNumber)', 'Attendee()', 'TaskStatus(CompletionStatus status)', 'Registration(AttendeeStatus status)', 'CheckListTask(string description)', 'Location(string name, string address)', 'Event(string occasion, date startTime, date endTime)', 'EventType(string name)']\n",
      "['Enumerations:', 'EventKind(BirthdayParty, GraduationParty)', 'InvitationStatus(Accepted, Maybe, Declined, Pending)', 'Classes:', 'Person()', 'PersonRole()', 'Organizer()', 'Attendee()', 'Event()', 'Task()', 'Location()', 'Invitation()']\n"
     ]
    },
    {
     "name": "stderr",
     "output_type": "stream",
     "text": [
      "\u001b[32m2025-02-19 01:30:55.958\u001b[0m | \u001b[1mINFO    \u001b[0m | \u001b[36mevaluation.model_matcher\u001b[0m:\u001b[36mmatch_classes\u001b[0m:\u001b[36m231\u001b[0m - \u001b[1mLoading cache from transformed_results/Qwen2.5-72B-Instruct-Turbo_output_yujing/1_Celebrations Organization System (CelO)_ada_embedding.txt\u001b[0m\n"
     ]
    },
    {
     "name": "stdout",
     "output_type": "stream",
     "text": [
      "['Enumerations:', 'Position(GK, LB)', 'Recommendation(KEY_PLAYER, FIRST_TEAM_PLAYER, RESERVE_TEAM_PLAYER, PROSPECTIVE_PLAYER, NOT_RECOMMENDED)', 'ScoutingStatus(LONG_LISTED, SHORT_LISTED, RECOMMENDED_FOR_SIGNING, OFFER_MADE)', 'ScoutKind(REGULAR_SCOUNT, HEAD_SCOUT)', 'Classes:', 'TSS()', 'abstract Person(string firstName, string lastName)', 'Player(ScoutingStatus status)', 'HeadCoach()', 'Director()', 'Scout(ScoutKind scoutKind)', 'Club()', 'Offer(int value)', 'ScoutingAssignmnet()', 'ScoutReport(string pro, string con, Recommendation recommendation)', 'PlayerProfile(Position position)', 'PlayerAttribute(string name, int value)']\n",
      "['Enumerations:', 'Classes:', 'HeadCoach()', 'Director()', 'Scout()', 'Player()', 'Profile()', 'Attribute()', 'LongList()', 'ScoutingAssignment()', 'Report()', 'ShortList()', 'Offer()']\n"
     ]
    },
    {
     "name": "stderr",
     "output_type": "stream",
     "text": [
      "\u001b[32m2025-02-19 01:30:56.244\u001b[0m | \u001b[1mINFO    \u001b[0m | \u001b[36mevaluation.model_matcher\u001b[0m:\u001b[36mmatch_classes\u001b[0m:\u001b[36m231\u001b[0m - \u001b[1mLoading cache from transformed_results/Qwen2.5-72B-Instruct-Turbo_output_yujing/2_Team Sports Scouting (TSS)_ada_embedding.txt\u001b[0m\n"
     ]
    },
    {
     "name": "stdout",
     "output_type": "stream",
     "text": [
      "['Enumerations:', 'DeviceStatus(Activated, Deactivated)', 'CommandType (lockDoor, turnOnHeating)', 'CommandStatus (Requested, Completed, Failed)', 'RuleStatus (created, edited, activated, deactivated)', 'BinaryOp (AND, OR )', 'Classes:', 'SHAS()', 'SmartHome()', 'User(string name)', 'Address(string city, string postalCode, string street, string aptNumber)', 'Room()', 'abstract Device(DeviceStatus deviceStatus, int deviceID)', 'SensorDevice()', 'ActuatorDevice()', 'ActvityLog()', 'abstract RuntimeElement(time timestamp)', 'SensorReading(double value)', 'ControlCommand (CommandType commandType, CommandStatus commandStatus)', 'AlertRule (RuleStatus ruleStatus)', 'abstract BooleanExpression()', 'RelationalTerm()', 'NotExpression()', 'BinaryExpression(BinaryOp binaryOp)', 'CommandSequence()']\n",
      "['Enumerations:', 'DeviceType(TemperatureSensor, MovementSensor, LightController, LockController)', 'CommandStatus(Requested, Completed, Failed)', 'Classes:', 'SmartHomeAutomationSystem()', 'SmartHome()', 'Room()', 'Device()', 'SensorDevice()', 'ActuatorDevice()', 'SensorReading()', 'ControlCommand()', 'ActivityLog()', 'Owner()', 'Rule()', 'AutomationRule()', 'Precondition()', 'Action()', 'RelationalTerm()', 'TriggerEvent()']\n"
     ]
    },
    {
     "name": "stderr",
     "output_type": "stream",
     "text": [
      "\u001b[32m2025-02-19 01:30:56.542\u001b[0m | \u001b[1mINFO    \u001b[0m | \u001b[36mevaluation.model_matcher\u001b[0m:\u001b[36mmatch_classes\u001b[0m:\u001b[36m231\u001b[0m - \u001b[1mLoading cache from transformed_results/Qwen2.5-72B-Instruct-Turbo_output_yujing/3_SHAS_ada_embedding.txt\u001b[0m\n"
     ]
    },
    {
     "name": "stdout",
     "output_type": "stream",
     "text": [
      "['Enumerations:', 'LevelOfTutoring(PrimarySchool, HighSchool, University)', 'SessionStatus(Proposed, Confirmed, Completed, Paid, Cancelled)', 'PaymentKind(CreditCard, WireTransfer)', 'Classes:', 'OTS()', 'User(string name, string email)', 'BestTutorAward(int year, int month)', 'Tutor(string bankAccount)', 'TutoringOffer(float hourlyPrice)', 'Subject(string name)', 'TutorAvailability(Date startTime, Time endTime)', 'abstract TutoringRole()', 'abstract TutoringElement(LevelOfTutoring tutoringLevel)', 'Student()', 'TutoringRequest()', 'TutoringSession(Date sessionDate, float totalPrice, SessionStatus sessionStatus)', 'Payment(PaymentKind paymentForm, date paymentDate)']\n",
      "['Enumerations:', 'Classes:', 'OTSUser()', 'OTSRole()', 'TutorRole()', 'OTSRole()', 'Subject()', 'TutoringSession()', 'Payment()', 'CancellationPolicy()']\n"
     ]
    },
    {
     "name": "stderr",
     "output_type": "stream",
     "text": [
      "\u001b[32m2025-02-19 01:30:56.845\u001b[0m | \u001b[1mINFO    \u001b[0m | \u001b[36mevaluation.model_matcher\u001b[0m:\u001b[36mmatch_classes\u001b[0m:\u001b[36m231\u001b[0m - \u001b[1mLoading cache from transformed_results/Qwen2.5-72B-Instruct-Turbo_output_yujing/4_Online Tutoring System (OTS)_ada_embedding.txt\u001b[0m\n"
     ]
    },
    {
     "name": "stdout",
     "output_type": "stream",
     "text": [
      "['Enumerations:', 'Classes:', 'DestroyBlock()', 'User(string username, string password)', 'BlockAssignment(int gridHorizontalPosition, int gridVerticalPosition)', 'Level (boolean isRandom)', 'Game (string name, int nrBlocksPerLevel)', 'Block(int id, int red, int green, int blue, int points)', 'Paddle(int amxPaddleLength, int minPaddleLength)', 'Ball(int minBallSpeedX, int minBallSpeedY)', 'HallOfFameEntry(int score)', 'PlayedGame(int id, int score, int lives, int currentLevel)', 'PlayedBall(double ballDirectionX, double ballDirectionY, double currentBallX, double currentBallY)', 'PlayedPaddle(double currentPaddleLength, double currentPaddleX, double currentPaddleY)', 'PlayedBlockAssignment(int x, int y)', 'Player()', 'Admin()']\n",
      "['Enumerations:', 'Direction(Up, Down, Left, Right)', 'Classes:', 'User()', 'UserRole()', 'Player()', 'UserRole()', 'Admin()', 'UserRole()', 'Game()', 'Block()', 'Level()', 'Ball()', 'Paddle()', 'PlayArea()']\n"
     ]
    },
    {
     "name": "stderr",
     "output_type": "stream",
     "text": [
      "\u001b[32m2025-02-19 01:30:57.118\u001b[0m | \u001b[1mINFO    \u001b[0m | \u001b[36mevaluation.model_matcher\u001b[0m:\u001b[36mmatch_classes\u001b[0m:\u001b[36m231\u001b[0m - \u001b[1mLoading cache from transformed_results/Qwen2.5-72B-Instruct-Turbo_output_yujing/5_Block_ada_embedding.txt\u001b[0m\n"
     ]
    },
    {
     "name": "stdout",
     "output_type": "stream",
     "text": [
      "['Enumerations:', 'Mode(design, game)', 'Color(red, blue, green, yellow)', 'Classes:', 'TileO()', 'Game(int currentConnectionPieces, Mode mode, int spaceConnectionPieces, int numberOfActionCards)', 'Connection()', 'Die()', 'Deck()', 'abstract Tile(int x, int y, boolean hasBeenVisited)', 'abstract ActionCard (string instructions)', 'RollDieActionCard()', 'ConnectTilesActionCard()', 'RemoveConnectionActionCard()', 'TeleportActionCard()', 'LoseTurnActionCard()', 'WinTile()', 'ActionTile(int inactivityPeriod, int turnsUntilActive)', 'NormalTile()', 'Player(int number, int turnsUntilActive, Color color)']\n",
      "['Enumerations:', 'Classes:', 'Game()', 'Designer()', 'Board()', 'Tile()', 'ConnectionPiece()', 'Player()', 'Die()', 'Deck()', 'ActionCard()', 'Turn()', 'ActionCardType()']\n"
     ]
    },
    {
     "name": "stderr",
     "output_type": "stream",
     "text": [
      "\u001b[32m2025-02-19 01:30:57.403\u001b[0m | \u001b[1mINFO    \u001b[0m | \u001b[36mevaluation.model_matcher\u001b[0m:\u001b[36mmatch_classes\u001b[0m:\u001b[36m231\u001b[0m - \u001b[1mLoading cache from transformed_results/Qwen2.5-72B-Instruct-Turbo_output_yujing/6_Tile-O_ada_embedding.txt\u001b[0m\n"
     ]
    },
    {
     "name": "stdout",
     "output_type": "stream",
     "text": [
      "['Enumerations:', 'RoomType(SINGLE, DOUBLE, TWIN)', 'BookingStatus(FINALIZED, CONFIRMED, CANCELLED_BY_HBMS, PRELIMINARY, CANCELLED_BY_TRAVELLER, CANCELLED_BY_HOTEL)', 'PaymentType (PREPAID, PAID_AT_HOTEL)', 'Classes:', 'HotelBookingManager()', 'HotelChain()', 'Traveller (string name, int reliabilityRating)', 'BillingInformation(string companyName, string address)', 'TravelPreference(string preference, string value)', 'Hotel (string city, string country, string area)', 'abstract Offer()', 'SpecialOffer()', 'RegularOffer()', 'TravelSearch()', 'SearchInfo()', 'RoomAvailability()', 'abstract TripInfo(int numberOfRooms, RoomType roomType, date arrivalDate, date departureDate, float budgetPerNight)', 'BookingInfo()', 'Booking (int bookingId, date cancellationDeadline, string creditCardNumber, BookingStatus bookingStatus, PaymentType paymentType, date confirmationDate, float paidAmount)']\n",
      "['Enumerations:', 'RoomType(Single, Double, Twin)', 'PaymentType(PrePaid, PaidAtHotel)', 'CancellationPolicy(NoFee, OneNightCharge)', 'Classes:', 'Hotel()', 'HotelChain()', 'City()', 'Room()', 'Traveller()', 'Booking()', 'SpecialOffer()', 'Payment()']\n"
     ]
    },
    {
     "name": "stderr",
     "output_type": "stream",
     "text": [
      "\u001b[32m2025-02-19 01:30:57.661\u001b[0m | \u001b[1mINFO    \u001b[0m | \u001b[36mevaluation.model_matcher\u001b[0m:\u001b[36mmatch_classes\u001b[0m:\u001b[36m231\u001b[0m - \u001b[1mLoading cache from transformed_results/Qwen2.5-72B-Instruct-Turbo_output_yujing/7_HBMS_ada_embedding.txt\u001b[0m\n"
     ]
    },
    {
     "name": "stdout",
     "output_type": "stream",
     "text": [
      "Processing sherpa with Qwen2.5-72B-Instruct-Turbo\n"
     ]
    },
    {
     "data": {
      "application/vnd.jupyter.widget-view+json": {
       "model_id": "db335f27f285496ab30faea79a11c834",
       "version_major": 2,
       "version_minor": 0
      },
      "text/plain": [
       "  0%|          | 0/8 [00:00<?, ?it/s]"
      ]
     },
     "metadata": {},
     "output_type": "display_data"
    },
    {
     "name": "stdout",
     "output_type": "stream",
     "text": [
      "['Enumerations:', 'Interval(weekly, monthly, everyHalfYear, yearly)', 'AccessType (reservable, walkIn, dropOff)', 'DayOfWeek(Monday, Tuesday, Wednesday, Thursday, Friday, Saturday, Sunday)', 'Classes:', 'LabTracker()', 'Person(string lastName, string firstName, string address, string phoneNumber)', 'abstract PersonRole(idNumber)', 'Patient (string dateOfBirth)', 'Doctor (string signature)', 'Requisition (string effectiveDate, int repetitionCount, Interval repetitionInterval)', 'TestResult(boolean negative, string report)', 'SpecificTest(Data date)', 'Appointment (string confirmation, Date date, string startTime, string endTime)', 'BusinessHour(DayOfWeek dayOfWeek, string startTime, string endTime)', 'Lab (string registrationNumber, string name, string address, boolean changeCancelFee)', 'Test (string name, string duration)', 'TestType(string name, string durationAdditive, AccessType access)']\n",
      "['Enumerations:', 'Interval(Weekly, Monthly, HalfYearly, Yearly)', 'SampleType(Blood, Urine, Stool)', 'Classes:', 'LabTracker()', 'Doctor()', 'Patient()', 'Requisition()', 'Test()', 'Lab()', 'Appointment()', 'Report()', 'AppointmentChange()', 'LabNetwork()']\n"
     ]
    },
    {
     "name": "stderr",
     "output_type": "stream",
     "text": [
      "\u001b[32m2025-02-19 01:30:57.979\u001b[0m | \u001b[1mINFO    \u001b[0m | \u001b[36mevaluation.model_matcher\u001b[0m:\u001b[36mmatch_classes\u001b[0m:\u001b[36m231\u001b[0m - \u001b[1mLoading cache from transformed_results/Qwen2.5-72B-Instruct-Turbo_output_sherpa/0_Lab Requisition Management System_ada_embedding.txt\u001b[0m\n"
     ]
    },
    {
     "name": "stdout",
     "output_type": "stream",
     "text": [
      "['Enumerations:', 'AttendeeStatus(Yes, Maybe, No, NoResponse)', 'CompletionStatus(ToBeDone, Done, NotApplicable, Attendee)', 'Classes:', 'CelO()', 'Person(string lastName, string firstName, string emailAddress, string password)', 'abstract PersonRole()', 'Organizer(string address, string phoneNumber)', 'Attendee()', 'TaskStatus(CompletionStatus status)', 'Registration(AttendeeStatus status)', 'CheckListTask(string description)', 'Location(string name, string address)', 'Event(string occasion, date startTime, date endTime)', 'EventType(string name)']\n",
      "['Enumerations:', 'AttendanceStatus(Attending, Maybe, NotAttending)', 'Classes:', 'Person()', 'Organizer()', 'Attendee()', 'Event()', 'Task()', 'Location()', 'Invitation()', 'EventManager()', 'manageEvent()', 'TaskManager()', 'markTaskAsDone()', 'assignTaskToAttendee()']\n"
     ]
    },
    {
     "name": "stderr",
     "output_type": "stream",
     "text": [
      "\u001b[32m2025-02-19 01:30:58.291\u001b[0m | \u001b[1mINFO    \u001b[0m | \u001b[36mevaluation.model_matcher\u001b[0m:\u001b[36mmatch_classes\u001b[0m:\u001b[36m231\u001b[0m - \u001b[1mLoading cache from transformed_results/Qwen2.5-72B-Instruct-Turbo_output_sherpa/1_Celebrations Organization System (CelO)_ada_embedding.txt\u001b[0m\n"
     ]
    },
    {
     "name": "stdout",
     "output_type": "stream",
     "text": [
      "['Enumerations:', 'Position(GK, LB)', 'Recommendation(KEY_PLAYER, FIRST_TEAM_PLAYER, RESERVE_TEAM_PLAYER, PROSPECTIVE_PLAYER, NOT_RECOMMENDED)', 'ScoutingStatus(LONG_LISTED, SHORT_LISTED, RECOMMENDED_FOR_SIGNING, OFFER_MADE)', 'ScoutKind(REGULAR_SCOUNT, HEAD_SCOUT)', 'Classes:', 'TSS()', 'abstract Person(string firstName, string lastName)', 'Player(ScoutingStatus status)', 'HeadCoach()', 'Director()', 'Scout(ScoutKind scoutKind)', 'Club()', 'Offer(int value)', 'ScoutingAssignmnet()', 'ScoutReport(string pro, string con, Recommendation recommendation)', 'PlayerProfile(Position position)', 'PlayerAttribute(string name, int value)']\n",
      "['Enumerations:', 'RecommendationType(KEY_PLAYER, FIRST_TEAM_PLAYER, RESERVE_TEAM_PLAYER, PROSPECTIVE_PLAYER, NOT_A_GOOD_SIGNING)', 'Classes:', 'Team()', 'SportsScoutingSystem()', 'Club()', 'Employee()', 'Role()', 'HeadCoach()', 'Role()', 'Director()', 'Role()', 'Scout()', 'Role()', 'Player()', 'PlayerProfile()', 'TargetPosition()', 'Attribute()', 'LongList()', 'ScoutingAssignment()', 'Report()', 'ShortList()', 'OfficialOffer()']\n"
     ]
    },
    {
     "name": "stderr",
     "output_type": "stream",
     "text": [
      "\u001b[32m2025-02-19 01:30:58.574\u001b[0m | \u001b[1mINFO    \u001b[0m | \u001b[36mevaluation.model_matcher\u001b[0m:\u001b[36mmatch_classes\u001b[0m:\u001b[36m231\u001b[0m - \u001b[1mLoading cache from transformed_results/Qwen2.5-72B-Instruct-Turbo_output_sherpa/2_Team Sports Scouting (TSS)_ada_embedding.txt\u001b[0m\n"
     ]
    },
    {
     "name": "stdout",
     "output_type": "stream",
     "text": [
      "['Enumerations:', 'DeviceStatus(Activated, Deactivated)', 'CommandType (lockDoor, turnOnHeating)', 'CommandStatus (Requested, Completed, Failed)', 'RuleStatus (created, edited, activated, deactivated)', 'BinaryOp (AND, OR )', 'Classes:', 'SHAS()', 'SmartHome()', 'User(string name)', 'Address(string city, string postalCode, string street, string aptNumber)', 'Room()', 'abstract Device(DeviceStatus deviceStatus, int deviceID)', 'SensorDevice()', 'ActuatorDevice()', 'ActvityLog()', 'abstract RuntimeElement(time timestamp)', 'SensorReading(double value)', 'ControlCommand (CommandType commandType, CommandStatus commandStatus)', 'AlertRule (RuleStatus ruleStatus)', 'abstract BooleanExpression()', 'RelationalTerm()', 'NotExpression()', 'BinaryExpression(BinaryOp binaryOp)', 'CommandSequence()']\n",
      "['Enumerations:', 'Classes:', 'SmartHomeAutomationSystem()', 'SmartHome()', 'Room()', 'Device()', 'SensorReading()', 'ControlCommand()', 'ActivityLog()', 'Owner()', 'AutomationRule()', 'BooleanExpression()', 'RelationalTerm()', 'DeviceType()', 'CommandStatus()', 'BooleanOperator()', 'LogEntry()']\n"
     ]
    },
    {
     "name": "stderr",
     "output_type": "stream",
     "text": [
      "\u001b[32m2025-02-19 01:30:58.884\u001b[0m | \u001b[1mINFO    \u001b[0m | \u001b[36mevaluation.model_matcher\u001b[0m:\u001b[36mmatch_classes\u001b[0m:\u001b[36m231\u001b[0m - \u001b[1mLoading cache from transformed_results/Qwen2.5-72B-Instruct-Turbo_output_sherpa/3_SHAS_ada_embedding.txt\u001b[0m\n"
     ]
    },
    {
     "name": "stdout",
     "output_type": "stream",
     "text": [
      "['Enumerations:', 'LevelOfTutoring(PrimarySchool, HighSchool, University)', 'SessionStatus(Proposed, Confirmed, Completed, Paid, Cancelled)', 'PaymentKind(CreditCard, WireTransfer)', 'Classes:', 'OTS()', 'User(string name, string email)', 'BestTutorAward(int year, int month)', 'Tutor(string bankAccount)', 'TutoringOffer(float hourlyPrice)', 'Subject(string name)', 'TutorAvailability(Date startTime, Time endTime)', 'abstract TutoringRole()', 'abstract TutoringElement(LevelOfTutoring tutoringLevel)', 'Student()', 'TutoringRequest()', 'TutoringSession(Date sessionDate, float totalPrice, SessionStatus sessionStatus)', 'Payment(PaymentKind paymentForm, date paymentDate)']\n",
      "['Enumerations:', 'Classes:', 'Person()', 'Student()', 'Tutor()', 'Subject()', 'TimeSlot()', 'TutoringSession()']\n"
     ]
    },
    {
     "name": "stderr",
     "output_type": "stream",
     "text": [
      "\u001b[32m2025-02-19 01:30:59.154\u001b[0m | \u001b[1mINFO    \u001b[0m | \u001b[36mevaluation.model_matcher\u001b[0m:\u001b[36mmatch_classes\u001b[0m:\u001b[36m231\u001b[0m - \u001b[1mLoading cache from transformed_results/Qwen2.5-72B-Instruct-Turbo_output_sherpa/4_Online Tutoring System (OTS)_ada_embedding.txt\u001b[0m\n"
     ]
    },
    {
     "name": "stdout",
     "output_type": "stream",
     "text": [
      "['Enumerations:', 'Classes:', 'DestroyBlock()', 'User(string username, string password)', 'BlockAssignment(int gridHorizontalPosition, int gridVerticalPosition)', 'Level (boolean isRandom)', 'Game (string name, int nrBlocksPerLevel)', 'Block(int id, int red, int green, int blue, int points)', 'Paddle(int amxPaddleLength, int minPaddleLength)', 'Ball(int minBallSpeedX, int minBallSpeedY)', 'HallOfFameEntry(int score)', 'PlayedGame(int id, int score, int lives, int currentLevel)', 'PlayedBall(double ballDirectionX, double ballDirectionY, double currentBallX, double currentBallY)', 'PlayedPaddle(double currentPaddleLength, double currentPaddleX, double currentPaddleY)', 'PlayedBlockAssignment(int x, int y)', 'Player()', 'Admin()']\n",
      "['Enumerations:', 'Classes:', 'User()', 'Game()', 'Block()', 'Level()', 'Ball()', 'Paddle()', 'PlayArea()', 'HallOfFame()', 'GameProgress()', 'Direction()']\n"
     ]
    },
    {
     "name": "stderr",
     "output_type": "stream",
     "text": [
      "\u001b[32m2025-02-19 01:30:59.413\u001b[0m | \u001b[1mINFO    \u001b[0m | \u001b[36mevaluation.model_matcher\u001b[0m:\u001b[36mmatch_classes\u001b[0m:\u001b[36m231\u001b[0m - \u001b[1mLoading cache from transformed_results/Qwen2.5-72B-Instruct-Turbo_output_sherpa/5_Block_ada_embedding.txt\u001b[0m\n"
     ]
    },
    {
     "name": "stdout",
     "output_type": "stream",
     "text": [
      "['Enumerations:', 'Mode(design, game)', 'Color(red, blue, green, yellow)', 'Classes:', 'TileO()', 'Game(int currentConnectionPieces, Mode mode, int spaceConnectionPieces, int numberOfActionCards)', 'Connection()', 'Die()', 'Deck()', 'abstract Tile(int x, int y, boolean hasBeenVisited)', 'abstract ActionCard (string instructions)', 'RollDieActionCard()', 'ConnectTilesActionCard()', 'RemoveConnectionActionCard()', 'TeleportActionCard()', 'LoseTurnActionCard()', 'WinTile()', 'ActionTile(int inactivityPeriod, int turnsUntilActive)', 'NormalTile()', 'Player(int number, int turnsUntilActive, Color color)']\n",
      "['Enumerations:', 'Classes:', 'Game()', 'Board()', 'Tile()', 'ActionCard()', 'Die()', 'Player()']\n"
     ]
    },
    {
     "name": "stderr",
     "output_type": "stream",
     "text": [
      "\u001b[32m2025-02-19 01:30:59.679\u001b[0m | \u001b[1mINFO    \u001b[0m | \u001b[36mevaluation.model_matcher\u001b[0m:\u001b[36mmatch_classes\u001b[0m:\u001b[36m231\u001b[0m - \u001b[1mLoading cache from transformed_results/Qwen2.5-72B-Instruct-Turbo_output_sherpa/6_Tile-O_ada_embedding.txt\u001b[0m\n"
     ]
    },
    {
     "name": "stdout",
     "output_type": "stream",
     "text": [
      "['Enumerations:', 'RoomType(SINGLE, DOUBLE, TWIN)', 'BookingStatus(FINALIZED, CONFIRMED, CANCELLED_BY_HBMS, PRELIMINARY, CANCELLED_BY_TRAVELLER, CANCELLED_BY_HOTEL)', 'PaymentType (PREPAID, PAID_AT_HOTEL)', 'Classes:', 'HotelBookingManager()', 'HotelChain()', 'Traveller (string name, int reliabilityRating)', 'BillingInformation(string companyName, string address)', 'TravelPreference(string preference, string value)', 'Hotel (string city, string country, string area)', 'abstract Offer()', 'SpecialOffer()', 'RegularOffer()', 'TravelSearch()', 'SearchInfo()', 'RoomAvailability()', 'abstract TripInfo(int numberOfRooms, RoomType roomType, date arrivalDate, date departureDate, float budgetPerNight)', 'BookingInfo()', 'Booking (int bookingId, date cancellationDeadline, string creditCardNumber, BookingStatus bookingStatus, PaymentType paymentType, date confirmationDate, float paidAmount)']\n",
      "['Enumerations:', 'BookingStatus(Preliminary, Confirmed, Cancelled, Completed)', 'RoomType(Single, Double, Twin)', 'PaymentType(PrePaid, PaidAtStay)', 'Classes:', 'Hotel()', 'HotelChain()', 'Booking()', 'PreliminaryBooking()', 'RegularBooking()', 'PrePaidBooking()', 'PaidAtStayBooking()', 'Offer()', 'CompetingOffer()', 'SpecialOffer()', 'BestOffer()', 'BusinessTraveller()', 'AccommodationDeal()', 'Search()', 'Confirmation()', 'Cancellation()', 'FinancialCompensation()', 'CreditCard()', 'Payment()', 'Notification()']\n"
     ]
    },
    {
     "name": "stderr",
     "output_type": "stream",
     "text": [
      "\u001b[32m2025-02-19 01:30:59.966\u001b[0m | \u001b[1mINFO    \u001b[0m | \u001b[36mevaluation.model_matcher\u001b[0m:\u001b[36mmatch_classes\u001b[0m:\u001b[36m231\u001b[0m - \u001b[1mLoading cache from transformed_results/Qwen2.5-72B-Instruct-Turbo_output_sherpa/7_HBMS_ada_embedding.txt\u001b[0m\n"
     ]
    },
    {
     "name": "stdout",
     "output_type": "stream",
     "text": [
      "Processing direct with Qwen2.5-72B-Instruct-Turbo\n"
     ]
    },
    {
     "data": {
      "application/vnd.jupyter.widget-view+json": {
       "model_id": "b328b672b69541b2ad9309afdaad1c3f",
       "version_major": 2,
       "version_minor": 0
      },
      "text/plain": [
       "  0%|          | 0/8 [00:00<?, ?it/s]"
      ]
     },
     "metadata": {},
     "output_type": "display_data"
    },
    {
     "name": "stdout",
     "output_type": "stream",
     "text": [
      "['Enumerations:', 'Interval(weekly, monthly, everyHalfYear, yearly)', 'AccessType (reservable, walkIn, dropOff)', 'DayOfWeek(Monday, Tuesday, Wednesday, Thursday, Friday, Saturday, Sunday)', 'Classes:', 'LabTracker()', 'Person(string lastName, string firstName, string address, string phoneNumber)', 'abstract PersonRole(idNumber)', 'Patient (string dateOfBirth)', 'Doctor (string signature)', 'Requisition (string effectiveDate, int repetitionCount, Interval repetitionInterval)', 'TestResult(boolean negative, string report)', 'SpecificTest(Data date)', 'Appointment (string confirmation, Date date, string startTime, string endTime)', 'BusinessHour(DayOfWeek dayOfWeek, string startTime, string endTime)', 'Lab (string registrationNumber, string name, string address, boolean changeCancelFee)', 'Test (string name, string duration)', 'TestType(string name, string durationAdditive, AccessType access)']\n",
      "['Enumerations:', 'TestType(Blood, Ultrasound, XRay, SampleDropOff)', 'RepetitionInterval(Weekly, Monthly, HalfYearly, Yearly)', 'TestResult(Negative, Positive)', 'Classes:', 'LabTracker()', 'Doctor()', 'Patient()', 'Requisition()', 'Test()', 'Appointment()', 'Lab()']\n"
     ]
    },
    {
     "name": "stderr",
     "output_type": "stream",
     "text": [
      "\u001b[32m2025-02-19 01:31:00.280\u001b[0m | \u001b[1mINFO    \u001b[0m | \u001b[36mevaluation.model_matcher\u001b[0m:\u001b[36mmatch_classes\u001b[0m:\u001b[36m231\u001b[0m - \u001b[1mLoading cache from transformed_results/Qwen2.5-72B-Instruct-Turbo_output_direct/0_Lab Requisition Management System_ada_embedding.txt\u001b[0m\n"
     ]
    },
    {
     "name": "stdout",
     "output_type": "stream",
     "text": [
      "['Enumerations:', 'AttendeeStatus(Yes, Maybe, No, NoResponse)', 'CompletionStatus(ToBeDone, Done, NotApplicable, Attendee)', 'Classes:', 'CelO()', 'Person(string lastName, string firstName, string emailAddress, string password)', 'abstract PersonRole()', 'Organizer(string address, string phoneNumber)', 'Attendee()', 'TaskStatus(CompletionStatus status)', 'Registration(AttendeeStatus status)', 'CheckListTask(string description)', 'Location(string name, string address)', 'Event(string occasion, date startTime, date endTime)', 'EventType(string name)']\n",
      "['Enumerations:', 'EventStatus(Planned, InProgress, Completed)', 'AttendanceStatus(Attending, MaybeAttending, NotAttending)', 'TaskStatus(NeedToDo, Done, NotApplicable)', 'Classes:', 'Organizer()', 'Attendee()', 'Event()', 'Location()', 'Task()']\n"
     ]
    },
    {
     "name": "stderr",
     "output_type": "stream",
     "text": [
      "\u001b[32m2025-02-19 01:31:00.554\u001b[0m | \u001b[1mINFO    \u001b[0m | \u001b[36mevaluation.model_matcher\u001b[0m:\u001b[36mmatch_classes\u001b[0m:\u001b[36m231\u001b[0m - \u001b[1mLoading cache from transformed_results/Qwen2.5-72B-Instruct-Turbo_output_direct/1_Celebrations Organization System (CelO)_ada_embedding.txt\u001b[0m\n"
     ]
    },
    {
     "name": "stdout",
     "output_type": "stream",
     "text": [
      "['Enumerations:', 'Position(GK, LB)', 'Recommendation(KEY_PLAYER, FIRST_TEAM_PLAYER, RESERVE_TEAM_PLAYER, PROSPECTIVE_PLAYER, NOT_RECOMMENDED)', 'ScoutingStatus(LONG_LISTED, SHORT_LISTED, RECOMMENDED_FOR_SIGNING, OFFER_MADE)', 'ScoutKind(REGULAR_SCOUNT, HEAD_SCOUT)', 'Classes:', 'TSS()', 'abstract Person(string firstName, string lastName)', 'Player(ScoutingStatus status)', 'HeadCoach()', 'Director()', 'Scout(ScoutKind scoutKind)', 'Club()', 'Offer(int value)', 'ScoutingAssignmnet()', 'ScoutReport(string pro, string con, Recommendation recommendation)', 'PlayerProfile(Position position)', 'PlayerAttribute(string name, int value)']\n",
      "['Enumerations:', 'RecommendationType(KeyPlayer, FirstTeamPlayer, ReserveTeamPlayer, ProspectivePlayer, NotGoodSigning)', 'Classes:', 'TeamSportsScoutingSystem()', 'HeadCoach()', 'Director()', 'Scout()', 'PlayerProfile()', 'TargetPosition()', 'PlayerAttribute()', 'LongList()', 'ScoutingAssignment()', 'ScoutingReport()', 'Pros()', 'Cons()', 'Recommendation()', 'ShortList()']\n"
     ]
    },
    {
     "name": "stderr",
     "output_type": "stream",
     "text": [
      "\u001b[32m2025-02-19 01:31:00.828\u001b[0m | \u001b[1mINFO    \u001b[0m | \u001b[36mevaluation.model_matcher\u001b[0m:\u001b[36mmatch_classes\u001b[0m:\u001b[36m231\u001b[0m - \u001b[1mLoading cache from transformed_results/Qwen2.5-72B-Instruct-Turbo_output_direct/2_Team Sports Scouting (TSS)_ada_embedding.txt\u001b[0m\n"
     ]
    },
    {
     "name": "stdout",
     "output_type": "stream",
     "text": [
      "['Enumerations:', 'DeviceStatus(Activated, Deactivated)', 'CommandType (lockDoor, turnOnHeating)', 'CommandStatus (Requested, Completed, Failed)', 'RuleStatus (created, edited, activated, deactivated)', 'BinaryOp (AND, OR )', 'Classes:', 'SHAS()', 'SmartHome()', 'User(string name)', 'Address(string city, string postalCode, string street, string aptNumber)', 'Room()', 'abstract Device(DeviceStatus deviceStatus, int deviceID)', 'SensorDevice()', 'ActuatorDevice()', 'ActvityLog()', 'abstract RuntimeElement(time timestamp)', 'SensorReading(double value)', 'ControlCommand (CommandType commandType, CommandStatus commandStatus)', 'AlertRule (RuleStatus ruleStatus)', 'abstract BooleanExpression()', 'RelationalTerm()', 'NotExpression()', 'BinaryExpression(BinaryOp binaryOp)', 'CommandSequence()']\n",
      "['Enumerations:', 'DeviceStatus(Active, Inactive)', 'CommandStatus(Requested, Completed, Failed)', 'RuleStatus(Active, Deactivated)', 'Classes:', 'SmartHome()', 'Room()', 'Device()', 'Sensor()', 'Actuator()', 'SensorReading()', 'ControlCommand()', 'AutomationRule()']\n"
     ]
    },
    {
     "name": "stderr",
     "output_type": "stream",
     "text": [
      "\u001b[32m2025-02-19 01:31:01.113\u001b[0m | \u001b[1mINFO    \u001b[0m | \u001b[36mevaluation.model_matcher\u001b[0m:\u001b[36mmatch_classes\u001b[0m:\u001b[36m231\u001b[0m - \u001b[1mLoading cache from transformed_results/Qwen2.5-72B-Instruct-Turbo_output_direct/3_SHAS_ada_embedding.txt\u001b[0m\n"
     ]
    },
    {
     "name": "stdout",
     "output_type": "stream",
     "text": [
      "['Enumerations:', 'LevelOfTutoring(PrimarySchool, HighSchool, University)', 'SessionStatus(Proposed, Confirmed, Completed, Paid, Cancelled)', 'PaymentKind(CreditCard, WireTransfer)', 'Classes:', 'OTS()', 'User(string name, string email)', 'BestTutorAward(int year, int month)', 'Tutor(string bankAccount)', 'TutoringOffer(float hourlyPrice)', 'Subject(string name)', 'TutorAvailability(Date startTime, Time endTime)', 'abstract TutoringRole()', 'abstract TutoringElement(LevelOfTutoring tutoringLevel)', 'Student()', 'TutoringRequest()', 'TutoringSession(Date sessionDate, float totalPrice, SessionStatus sessionStatus)', 'Payment(PaymentKind paymentForm, date paymentDate)']\n",
      "['Enumerations:', 'TutoringLevel(PrimarySchoolLevel, HighSchoolLevel, UniversityLevel)', 'SessionStatus(Confirmed, Cancelled, Pending)', 'CancellationPolicy(StudentLateCancellation, TutorLateCancellation)', 'Classes:', 'User()', 'Tutor()', 'Student()', 'TutoringSession()', 'Subject()']\n"
     ]
    },
    {
     "name": "stderr",
     "output_type": "stream",
     "text": [
      "\u001b[32m2025-02-19 01:31:01.383\u001b[0m | \u001b[1mINFO    \u001b[0m | \u001b[36mevaluation.model_matcher\u001b[0m:\u001b[36mmatch_classes\u001b[0m:\u001b[36m231\u001b[0m - \u001b[1mLoading cache from transformed_results/Qwen2.5-72B-Instruct-Turbo_output_direct/4_Online Tutoring System (OTS)_ada_embedding.txt\u001b[0m\n"
     ]
    },
    {
     "name": "stdout",
     "output_type": "stream",
     "text": [
      "['Enumerations:', 'Classes:', 'DestroyBlock()', 'User(string username, string password)', 'BlockAssignment(int gridHorizontalPosition, int gridVerticalPosition)', 'Level (boolean isRandom)', 'Game (string name, int nrBlocksPerLevel)', 'Block(int id, int red, int green, int blue, int points)', 'Paddle(int amxPaddleLength, int minPaddleLength)', 'Ball(int minBallSpeedX, int minBallSpeedY)', 'HallOfFameEntry(int score)', 'PlayedGame(int id, int score, int lives, int currentLevel)', 'PlayedBall(double ballDirectionX, double ballDirectionY, double currentBallX, double currentBallY)', 'PlayedPaddle(double currentPaddleLength, double currentPaddleX, double currentPaddleY)', 'PlayedBlockAssignment(int x, int y)', 'Player()', 'Admin()']\n",
      "['Enumerations:', 'GameStatus(Playing, Paused, Finished)', 'Direction(Up, Down, Left, Right)', 'Classes:', 'User()', 'Game()', 'Block()', 'Level()']\n"
     ]
    },
    {
     "name": "stderr",
     "output_type": "stream",
     "text": [
      "\u001b[32m2025-02-19 01:31:01.642\u001b[0m | \u001b[1mINFO    \u001b[0m | \u001b[36mevaluation.model_matcher\u001b[0m:\u001b[36mmatch_classes\u001b[0m:\u001b[36m231\u001b[0m - \u001b[1mLoading cache from transformed_results/Qwen2.5-72B-Instruct-Turbo_output_direct/5_Block_ada_embedding.txt\u001b[0m\n"
     ]
    },
    {
     "name": "stdout",
     "output_type": "stream",
     "text": [
      "['Enumerations:', 'Mode(design, game)', 'Color(red, blue, green, yellow)', 'Classes:', 'TileO()', 'Game(int currentConnectionPieces, Mode mode, int spaceConnectionPieces, int numberOfActionCards)', 'Connection()', 'Die()', 'Deck()', 'abstract Tile(int x, int y, boolean hasBeenVisited)', 'abstract ActionCard (string instructions)', 'RollDieActionCard()', 'ConnectTilesActionCard()', 'RemoveConnectionActionCard()', 'TeleportActionCard()', 'LoseTurnActionCard()', 'WinTile()', 'ActionTile(int inactivityPeriod, int turnsUntilActive)', 'NormalTile()', 'Player(int number, int turnsUntilActive, Color color)']\n",
      "['Enumerations:', 'ActionCardType(RollExtraTurn, ConnectTiles, RemoveConnection, MoveToTile, LoseNextTurn)', 'Classes:', 'Game()', 'Designer()', 'Player()', 'Board()', 'Tile()', 'Connection()', 'HiddenTile()', 'StartingPosition()', 'ActionTile()', 'ActionCard()', 'Die()']\n"
     ]
    },
    {
     "name": "stderr",
     "output_type": "stream",
     "text": [
      "\u001b[32m2025-02-19 01:31:01.934\u001b[0m | \u001b[1mINFO    \u001b[0m | \u001b[36mevaluation.model_matcher\u001b[0m:\u001b[36mmatch_classes\u001b[0m:\u001b[36m231\u001b[0m - \u001b[1mLoading cache from transformed_results/Qwen2.5-72B-Instruct-Turbo_output_direct/6_Tile-O_ada_embedding.txt\u001b[0m\n"
     ]
    },
    {
     "name": "stdout",
     "output_type": "stream",
     "text": [
      "['Enumerations:', 'RoomType(SINGLE, DOUBLE, TWIN)', 'BookingStatus(FINALIZED, CONFIRMED, CANCELLED_BY_HBMS, PRELIMINARY, CANCELLED_BY_TRAVELLER, CANCELLED_BY_HOTEL)', 'PaymentType (PREPAID, PAID_AT_HOTEL)', 'Classes:', 'HotelBookingManager()', 'HotelChain()', 'Traveller (string name, int reliabilityRating)', 'BillingInformation(string companyName, string address)', 'TravelPreference(string preference, string value)', 'Hotel (string city, string country, string area)', 'abstract Offer()', 'SpecialOffer()', 'RegularOffer()', 'TravelSearch()', 'SearchInfo()', 'RoomAvailability()', 'abstract TripInfo(int numberOfRooms, RoomType roomType, date arrivalDate, date departureDate, float budgetPerNight)', 'BookingInfo()', 'Booking (int bookingId, date cancellationDeadline, string creditCardNumber, BookingStatus bookingStatus, PaymentType paymentType, date confirmationDate, float paidAmount)']\n",
      "['Enumerations:', 'BookingStatus(Preliminary, Finalized, Cancelled)', 'PaymentType(PrePaid, PaidAtHotel)', 'BookingConfirmationStatus(Confirmed, Unconfirmed, CancelledByHotel)', 'CancellationPolicy(NoCharge, OneNightCharge)', 'Classes:', 'Hotel()', 'Traveller()', 'Booking()', 'PreliminaryBooking()', 'FinalizedBooking()', 'RoomType()', 'City()', 'HotelChain()']\n"
     ]
    },
    {
     "name": "stderr",
     "output_type": "stream",
     "text": [
      "\u001b[32m2025-02-19 01:31:02.210\u001b[0m | \u001b[1mINFO    \u001b[0m | \u001b[36mevaluation.model_matcher\u001b[0m:\u001b[36mmatch_classes\u001b[0m:\u001b[36m231\u001b[0m - \u001b[1mLoading cache from transformed_results/Qwen2.5-72B-Instruct-Turbo_output_direct/7_HBMS_ada_embedding.txt\u001b[0m\n"
     ]
    }
   ],
   "source": [
    "results = []\n",
    "\n",
    "for model in models:\n",
    "    for approach in approaches:\n",
    "        print(f\"Processing {approach} with {model}\")\n",
    "        approach_results = []\n",
    "        for domain in tqdm(domains):\n",
    "            student_input = f\"transformed_results/{model}_output_{approach}/{domain}.txt\"\n",
    "            instructor_input = f\"ground_truth/{domain}.txt\"\n",
    "            embedding_caching_path = f\"transformed_results/{model}_output_{approach}/{domain}_ada_embedding.txt\"\n",
    "        \n",
    "            grader = Grader(sgram_mde)\n",
    "            reference_model = DomainModel(instructor_input)\n",
    "            candidate_model = DomainModel(student_input)\n",
    "            result = grader.calculate_scores(reference_model, candidate_model,embedding_caching_path)\n",
    "            approach_results.append(result)\n",
    "        results.append({\n",
    "            \"model\": model,\n",
    "            \"approach\": approach,\n",
    "            \"precision\": np.mean([r[\"class\"][\"precision\"] for r in approach_results]),\n",
    "            \"recall\": np.mean([r[\"class\"][\"recall\"] for r in approach_results]),\n",
    "            \"f1\": np.mean([r[\"class\"][\"f1\"] for r in approach_results])\n",
    "    \n",
    "        })\n",
    "\n"
   ]
  },
  {
   "cell_type": "code",
   "execution_count": 116,
   "metadata": {},
   "outputs": [],
   "source": [
    "import pandas as pd"
   ]
  },
  {
   "cell_type": "code",
   "execution_count": 117,
   "metadata": {},
   "outputs": [
    {
     "data": {
      "text/html": [
       "<div>\n",
       "<style scoped>\n",
       "    .dataframe tbody tr th:only-of-type {\n",
       "        vertical-align: middle;\n",
       "    }\n",
       "\n",
       "    .dataframe tbody tr th {\n",
       "        vertical-align: top;\n",
       "    }\n",
       "\n",
       "    .dataframe thead th {\n",
       "        text-align: right;\n",
       "    }\n",
       "</style>\n",
       "<table border=\"1\" class=\"dataframe\">\n",
       "  <thead>\n",
       "    <tr style=\"text-align: right;\">\n",
       "      <th></th>\n",
       "      <th>model</th>\n",
       "      <th>approach</th>\n",
       "      <th>precision</th>\n",
       "      <th>recall</th>\n",
       "      <th>f1</th>\n",
       "    </tr>\n",
       "  </thead>\n",
       "  <tbody>\n",
       "    <tr>\n",
       "      <th>0</th>\n",
       "      <td>gpt-4</td>\n",
       "      <td>yujing</td>\n",
       "      <td>0.894905</td>\n",
       "      <td>0.626762</td>\n",
       "      <td>0.727244</td>\n",
       "    </tr>\n",
       "    <tr>\n",
       "      <th>1</th>\n",
       "      <td>gpt-4</td>\n",
       "      <td>sherpa</td>\n",
       "      <td>0.872123</td>\n",
       "      <td>0.705301</td>\n",
       "      <td>0.764565</td>\n",
       "    </tr>\n",
       "    <tr>\n",
       "      <th>2</th>\n",
       "      <td>gpt-4</td>\n",
       "      <td>direct</td>\n",
       "      <td>0.885226</td>\n",
       "      <td>0.453452</td>\n",
       "      <td>0.598347</td>\n",
       "    </tr>\n",
       "    <tr>\n",
       "      <th>3</th>\n",
       "      <td>gpt-4o</td>\n",
       "      <td>yujing</td>\n",
       "      <td>0.950967</td>\n",
       "      <td>0.468937</td>\n",
       "      <td>0.624293</td>\n",
       "    </tr>\n",
       "    <tr>\n",
       "      <th>4</th>\n",
       "      <td>gpt-4o</td>\n",
       "      <td>sherpa</td>\n",
       "      <td>0.909342</td>\n",
       "      <td>0.570634</td>\n",
       "      <td>0.698241</td>\n",
       "    </tr>\n",
       "    <tr>\n",
       "      <th>5</th>\n",
       "      <td>gpt-4o</td>\n",
       "      <td>direct</td>\n",
       "      <td>0.869239</td>\n",
       "      <td>0.465624</td>\n",
       "      <td>0.599629</td>\n",
       "    </tr>\n",
       "    <tr>\n",
       "      <th>6</th>\n",
       "      <td>gpt-4o-mini</td>\n",
       "      <td>yujing</td>\n",
       "      <td>0.894527</td>\n",
       "      <td>0.649151</td>\n",
       "      <td>0.746552</td>\n",
       "    </tr>\n",
       "    <tr>\n",
       "      <th>7</th>\n",
       "      <td>gpt-4o-mini</td>\n",
       "      <td>sherpa</td>\n",
       "      <td>0.892041</td>\n",
       "      <td>0.734946</td>\n",
       "      <td>0.801599</td>\n",
       "    </tr>\n",
       "    <tr>\n",
       "      <th>8</th>\n",
       "      <td>gpt-4o-mini</td>\n",
       "      <td>direct</td>\n",
       "      <td>0.859655</td>\n",
       "      <td>0.483921</td>\n",
       "      <td>0.617224</td>\n",
       "    </tr>\n",
       "    <tr>\n",
       "      <th>9</th>\n",
       "      <td>Meta-Llama-3.1-70B-Instruct-Turbo</td>\n",
       "      <td>yujing</td>\n",
       "      <td>0.887324</td>\n",
       "      <td>0.676251</td>\n",
       "      <td>0.748293</td>\n",
       "    </tr>\n",
       "    <tr>\n",
       "      <th>10</th>\n",
       "      <td>Meta-Llama-3.1-70B-Instruct-Turbo</td>\n",
       "      <td>sherpa</td>\n",
       "      <td>0.836210</td>\n",
       "      <td>0.727215</td>\n",
       "      <td>0.766453</td>\n",
       "    </tr>\n",
       "    <tr>\n",
       "      <th>11</th>\n",
       "      <td>Meta-Llama-3.1-70B-Instruct-Turbo</td>\n",
       "      <td>direct</td>\n",
       "      <td>0.886971</td>\n",
       "      <td>0.667075</td>\n",
       "      <td>0.754417</td>\n",
       "    </tr>\n",
       "    <tr>\n",
       "      <th>12</th>\n",
       "      <td>Qwen2.5-7B-Instruct-Turbo</td>\n",
       "      <td>yujing</td>\n",
       "      <td>0.885457</td>\n",
       "      <td>0.630590</td>\n",
       "      <td>0.722256</td>\n",
       "    </tr>\n",
       "    <tr>\n",
       "      <th>13</th>\n",
       "      <td>Qwen2.5-7B-Instruct-Turbo</td>\n",
       "      <td>sherpa</td>\n",
       "      <td>0.844223</td>\n",
       "      <td>0.620850</td>\n",
       "      <td>0.686899</td>\n",
       "    </tr>\n",
       "    <tr>\n",
       "      <th>14</th>\n",
       "      <td>Qwen2.5-7B-Instruct-Turbo</td>\n",
       "      <td>direct</td>\n",
       "      <td>0.811742</td>\n",
       "      <td>0.479257</td>\n",
       "      <td>0.586401</td>\n",
       "    </tr>\n",
       "    <tr>\n",
       "      <th>15</th>\n",
       "      <td>Qwen2.5-72B-Instruct-Turbo</td>\n",
       "      <td>yujing</td>\n",
       "      <td>0.912509</td>\n",
       "      <td>0.594008</td>\n",
       "      <td>0.714621</td>\n",
       "    </tr>\n",
       "    <tr>\n",
       "      <th>16</th>\n",
       "      <td>Qwen2.5-72B-Instruct-Turbo</td>\n",
       "      <td>sherpa</td>\n",
       "      <td>0.867484</td>\n",
       "      <td>0.646908</td>\n",
       "      <td>0.710781</td>\n",
       "    </tr>\n",
       "    <tr>\n",
       "      <th>17</th>\n",
       "      <td>Qwen2.5-72B-Instruct-Turbo</td>\n",
       "      <td>direct</td>\n",
       "      <td>0.904735</td>\n",
       "      <td>0.568677</td>\n",
       "      <td>0.690127</td>\n",
       "    </tr>\n",
       "  </tbody>\n",
       "</table>\n",
       "</div>"
      ],
      "text/plain": [
       "                                model approach  precision    recall        f1\n",
       "0                               gpt-4   yujing   0.894905  0.626762  0.727244\n",
       "1                               gpt-4   sherpa   0.872123  0.705301  0.764565\n",
       "2                               gpt-4   direct   0.885226  0.453452  0.598347\n",
       "3                              gpt-4o   yujing   0.950967  0.468937  0.624293\n",
       "4                              gpt-4o   sherpa   0.909342  0.570634  0.698241\n",
       "5                              gpt-4o   direct   0.869239  0.465624  0.599629\n",
       "6                         gpt-4o-mini   yujing   0.894527  0.649151  0.746552\n",
       "7                         gpt-4o-mini   sherpa   0.892041  0.734946  0.801599\n",
       "8                         gpt-4o-mini   direct   0.859655  0.483921  0.617224\n",
       "9   Meta-Llama-3.1-70B-Instruct-Turbo   yujing   0.887324  0.676251  0.748293\n",
       "10  Meta-Llama-3.1-70B-Instruct-Turbo   sherpa   0.836210  0.727215  0.766453\n",
       "11  Meta-Llama-3.1-70B-Instruct-Turbo   direct   0.886971  0.667075  0.754417\n",
       "12          Qwen2.5-7B-Instruct-Turbo   yujing   0.885457  0.630590  0.722256\n",
       "13          Qwen2.5-7B-Instruct-Turbo   sherpa   0.844223  0.620850  0.686899\n",
       "14          Qwen2.5-7B-Instruct-Turbo   direct   0.811742  0.479257  0.586401\n",
       "15         Qwen2.5-72B-Instruct-Turbo   yujing   0.912509  0.594008  0.714621\n",
       "16         Qwen2.5-72B-Instruct-Turbo   sherpa   0.867484  0.646908  0.710781\n",
       "17         Qwen2.5-72B-Instruct-Turbo   direct   0.904735  0.568677  0.690127"
      ]
     },
     "execution_count": 117,
     "metadata": {},
     "output_type": "execute_result"
    }
   ],
   "source": [
    "pd.DataFrame(results)"
   ]
  },
  {
   "cell_type": "code",
   "execution_count": null,
   "metadata": {},
   "outputs": [],
   "source": []
  }
 ],
 "metadata": {
  "kernelspec": {
   "display_name": "Python 3 (ipykernel)",
   "language": "python",
   "name": "python3"
  },
  "language_info": {
   "codemirror_mode": {
    "name": "ipython",
    "version": 3
   },
   "file_extension": ".py",
   "mimetype": "text/x-python",
   "name": "python",
   "nbconvert_exporter": "python",
   "pygments_lexer": "ipython3",
   "version": "3.8.20"
  }
 },
 "nbformat": 4,
 "nbformat_minor": 4
}
