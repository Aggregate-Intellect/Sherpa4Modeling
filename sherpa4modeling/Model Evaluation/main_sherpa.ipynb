{
 "cells": [
  {
   "cell_type": "code",
   "execution_count": 1,
   "metadata": {},
   "outputs": [],
   "source": [
    "import subprocess\n",
    "from tqdm import tqdm\n",
    "\n",
    "import os\n",
    "import shutil"
   ]
  },
  {
   "cell_type": "code",
   "execution_count": 2,
   "metadata": {},
   "outputs": [],
   "source": [
    "problem_ids = [\n",
    "    \"01_LabTracker\",\n",
    "    \"02_CelO\",\n",
    "    \"03_TSS\",\n",
    "    \"04_SHAS\",\n",
    "    \"05_OTS\",\n",
    "    \"06_Block\",\n",
    "    \"07_Tile\",\n",
    "    \"08_HBMS\",\n",
    "]\n",
    "\n",
    "instructor_dir = \"results\"\n",
    "\n",
    "llm_ids = [\"gpt-4o-mini\", \"gpt-4\", \"gpt-4o\"]\n",
    "\n",
    "method_ids = [\"yujing\", \"sherpa\"]"
   ]
  },
  {
   "cell_type": "code",
   "execution_count": null,
   "metadata": {},
   "outputs": [],
   "source": [
    "for p in tqdm(problem_ids):\n",
    "\n",
    "    try:\n",
    "        print(\"evaluating modeling problem \" + p + \" ...\")\n",
    "        subprocess.run(\n",
    "            [\n",
    "                \"python\",\n",
    "                script_path,\n",
    "                \"dir=\" + instructor_dir,\n",
    "                \"problem_id=\" + p,\n",
    "                \"llm_id=\" + llm_ids[0],\n",
    "                \"method_id=\" + method_ids[0],\n",
    "            ],\n",
    "            check=True,\n",
    "        )\n",
    "    except subprocess.CalledProcessError as e:\n",
    "        print(f\"Error: {e}\")"
   ]
  }
 ],
 "metadata": {
  "kernelspec": {
   "display_name": "m38",
   "language": "python",
   "name": "python3"
  },
  "language_info": {
   "codemirror_mode": {
    "name": "ipython",
    "version": 3
   },
   "file_extension": ".py",
   "mimetype": "text/x-python",
   "name": "python",
   "nbconvert_exporter": "python",
   "pygments_lexer": "ipython3",
   "version": "3.8.18"
  }
 },
 "nbformat": 4,
 "nbformat_minor": 2
}
