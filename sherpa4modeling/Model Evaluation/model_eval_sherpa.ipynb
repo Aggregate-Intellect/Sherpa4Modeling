{
 "cells": [
  {
   "cell_type": "markdown",
   "metadata": {
    "id": "pBpCEgQV82Nj"
   },
   "source": [
    "# Set up"
   ]
  },
  {
   "cell_type": "code",
   "execution_count": 4415,
   "metadata": {},
   "outputs": [],
   "source": [
    "from worde4mde import load_embeddings\n",
    "sgram_mde = load_embeddings('sgram-mde')"
   ]
  },
  {
   "cell_type": "code",
   "execution_count": 4416,
   "metadata": {},
   "outputs": [
    {
     "data": {
      "text/plain": [
       "array([ 0.14674647,  0.42704162,  0.17717203,  0.05179158,  0.38020504,\n",
       "       -0.00091264,  0.02094162,  0.00924711, -0.13806985,  0.1403339 ,\n",
       "       -0.0953936 , -0.03681302,  0.38122246, -0.03746711, -0.17595871,\n",
       "       -0.02031669,  0.23675247,  0.27676958, -0.07487358, -0.1987225 ,\n",
       "        0.02015282,  0.05147164, -0.223504  ,  0.00699752, -0.06145973,\n",
       "        0.00920826,  0.01364714,  0.10218145, -0.25330105, -0.14080754,\n",
       "        0.2541444 ,  0.4577827 , -0.16825216, -0.08050938,  0.11404785,\n",
       "       -0.38822263, -0.06395938, -0.4724689 , -0.00111705,  0.27869806,\n",
       "        0.28032073,  0.02976846, -0.01675524,  0.09774698,  0.18298927,\n",
       "       -0.24398401, -0.3238438 ,  0.01912955,  0.11861664,  0.08640955,\n",
       "        0.18799016, -0.06891091, -0.03893414, -0.04862301,  0.02151174,\n",
       "       -0.39205688, -0.23195332, -0.09532862, -0.01324714, -0.24555108,\n",
       "        0.09372689, -0.21971853, -0.26171875, -0.3605202 , -0.07306654,\n",
       "       -0.16288763,  0.12160088,  0.11416717,  0.17378834, -0.04977667,\n",
       "       -0.02417112, -0.13736062,  0.10142291,  0.14622003, -0.06097897,\n",
       "        0.0110862 ,  0.05240794,  0.15037489,  0.01547078,  0.35214952,\n",
       "       -0.15471339,  0.5516976 ,  0.02722004,  0.02725664,  0.23240256,\n",
       "        0.05949455, -0.44269025, -0.13142551,  0.06569727,  0.35366765,\n",
       "        0.0054803 ,  0.31536654, -0.09254798, -0.15512526, -0.0875922 ,\n",
       "        0.11746775, -0.28369817,  0.09341916, -0.00101699,  0.04416016,\n",
       "       -0.07782371,  0.02029933, -0.22690448, -0.12364466, -0.03259058,\n",
       "        0.22620802, -0.21208178,  0.263114  ,  0.39393342, -0.15680021,\n",
       "        0.22134748,  0.35054302,  0.06579161,  0.35725534, -0.17017011,\n",
       "        0.15412103,  0.26485255, -0.18039705,  0.64513373, -0.19044282,\n",
       "        0.05683825,  0.3352058 , -0.02149567,  0.08801293, -0.08748423,\n",
       "       -0.17109865, -0.14135368,  0.10019533, -0.3675318 ,  0.00882045,\n",
       "        0.16446897, -0.41429162, -0.00912068,  0.40898782,  0.02396349,\n",
       "        0.04935403, -0.43389502,  0.13081332,  0.42163405, -0.01841845,\n",
       "        0.08077876,  0.29817823,  0.15492964,  0.15107153,  0.04632611,\n",
       "       -0.5162636 , -0.4262554 ,  0.4967304 ,  0.26285887, -0.02183742,\n",
       "        0.15454406, -0.15592995, -0.3154367 ,  0.19769375, -0.40255702,\n",
       "        0.5028242 , -0.12623732,  0.04818065, -0.00665806,  0.0951322 ,\n",
       "       -0.13625342, -0.18664543,  0.03917297, -0.13414499, -0.21604219,\n",
       "       -0.17906193,  0.08638127, -0.0697468 ,  0.32579476, -0.03519589,\n",
       "       -0.1119362 , -0.08318598, -0.14666392,  0.15051971,  0.1680534 ,\n",
       "       -0.1643881 ,  0.00266754,  0.05763746,  0.01020493,  0.11781339,\n",
       "        0.03850262,  0.11651297, -0.19016212, -0.24033345,  0.24375466,\n",
       "       -0.12184826,  0.29208905,  0.28852615, -0.13238004, -0.02661056,\n",
       "       -0.09076066, -0.25580582,  0.09068189,  0.14338125, -0.03469551,\n",
       "       -0.01255474, -0.28556666,  0.27322152,  0.25480196,  0.067168  ,\n",
       "       -0.1661719 ,  0.07038358,  0.2961011 ,  0.39964455, -0.24441637,\n",
       "       -0.14219673,  0.4223389 ,  0.08920322, -0.5007695 ,  0.22100608,\n",
       "       -0.04162686,  0.07493343, -0.37272817, -0.08913708, -0.05271813,\n",
       "        0.07073972,  0.03486674,  0.01831518, -0.18682544,  0.24017447,\n",
       "        0.04472353, -0.21995458, -0.09560642,  0.05616789, -0.09767775,\n",
       "        0.46399042,  0.26137525, -0.2067443 , -0.20870632, -0.12792471,\n",
       "       -0.32071748, -0.00343737,  0.00869052, -0.17461683,  0.11852369,\n",
       "       -0.23727247,  0.16901173,  0.1390128 ,  0.19200057,  0.07023092,\n",
       "        0.10720899, -0.3680233 , -0.00385552,  0.30061063, -0.0638096 ,\n",
       "        0.15909314,  0.49717936, -0.02870842,  0.04373342, -0.03065694,\n",
       "       -0.03803138, -0.07179781,  0.1352796 ,  0.1206585 ,  0.28997678,\n",
       "       -0.22211125,  0.07451916, -0.4530426 , -0.12867354,  0.25162628,\n",
       "       -0.04360061, -0.01631085,  0.02732887,  0.26878425, -0.25473082,\n",
       "       -0.0563923 ,  0.47035375, -0.1539718 , -0.08114478,  0.3599968 ,\n",
       "        0.01964958,  0.00155073, -0.13521218, -0.04892039,  0.05788288,\n",
       "       -0.29886478,  0.00960886, -0.23544846, -0.46280792,  0.05992502,\n",
       "       -0.42226458,  0.31675085, -0.01231112,  0.15420774, -0.55189675,\n",
       "       -0.08054933,  0.24695848,  0.19135405,  0.2637137 ,  0.2340654 ,\n",
       "        0.05448505, -0.5442373 , -0.01433846,  0.35339138, -0.1810006 ,\n",
       "       -0.07710031, -0.04899847, -0.14326005, -0.2965767 , -0.10492669],\n",
       "      dtype=float32)"
      ]
     },
     "execution_count": 4416,
     "metadata": {},
     "output_type": "execute_result"
    }
   ],
   "source": [
    "word = 'ecore'\n",
    "sgram_mde[word]"
   ]
  },
  {
   "cell_type": "code",
   "execution_count": 4417,
   "metadata": {},
   "outputs": [],
   "source": [
    "# import pickle\n",
    "\n",
    "import ast\n",
    "import pandas as pd\n",
    "import numpy as np\n",
    "\n",
    "from worde4mde import load_embeddings\n",
    "import re\n",
    "\n",
    "import os\n",
    "import openai\n",
    "from openai import OpenAI\n",
    "import json\n",
    "\n",
    "import networkx as nx\n",
    "import sys\n"
   ]
  },
  {
   "cell_type": "code",
   "execution_count": 4418,
   "metadata": {},
   "outputs": [],
   "source": [
    "from dotenv import load_dotenv\n",
    "\n",
    "# %%\n",
    "\n",
    "load_dotenv()\n",
    "\n",
    "openai_key = os.getenv('openai_key')\n",
    "os.environ['OPENAI_API_KEY'] = openai_key"
   ]
  },
  {
   "cell_type": "markdown",
   "metadata": {},
   "source": [
    "## Input"
   ]
  },
  {
   "cell_type": "code",
   "execution_count": 4419,
   "metadata": {},
   "outputs": [
    {
     "data": {
      "text/plain": [
       "'results/gpt-4/yujing/08_HBMS/result/'"
      ]
     },
     "execution_count": 4419,
     "metadata": {},
     "output_type": "execute_result"
    }
   ],
   "source": [
    "##### update here to change input file directory ######\n",
    "##### update here to change input file directory ######\n",
    "##### update here to change input file directory ######\n",
    "##### update here to change input file directory ######\n",
    "\n",
    "instructor_dir = \"results/\"\n",
    "\n",
    "# 01_LabTracker\n",
    "# 02_CelO\n",
    "# 03_TSS\n",
    "# 04_SHAS\n",
    "# 05_OTS\n",
    "# 06_Block\n",
    "# 07_Tile\n",
    "# 08_HBMS\n",
    "problem_id = \"08_HBMS\"\n",
    "\n",
    "# location of reference domain model is stored. It is in .txt format\n",
    "instructor_input = instructor_dir + problem_id + \".txt\"\n",
    "\n",
    "# gpt-4o-mini\n",
    "# gpt-4\n",
    "# gpt-4o\n",
    "llm_id = \"gpt-4\"\n",
    "\n",
    "# yujing\n",
    "# sherpa\n",
    "method_id = \"yujing\"\n",
    "\n",
    "student_dir = instructor_dir + llm_id + '/' + method_id + '/' + problem_id + '/'\n",
    "if not os.path.exists(student_dir):\n",
    "    # Create the directory\n",
    "    os.makedirs(student_dir)\n",
    "    \n",
    "# location of generated domain model is saved. The file should be in .txt    \n",
    "student_input = student_dir + problem_id + \".txt\"\n",
    "student_input\n",
    "student_out_dir = student_dir + \"result/\"\n",
    "student_out_dir"
   ]
  },
  {
   "cell_type": "code",
   "execution_count": 4420,
   "metadata": {
    "colab": {
     "base_uri": "https://localhost:8080/",
     "height": 408
    },
    "id": "4wrNW7WHaq87",
    "outputId": "8b57cb37-45b8-4bac-860c-b6e933a5c239"
   },
   "outputs": [],
   "source": [
    "# First of all, you need to load the embeddings (currently supported: 'sgram-mde' and 'glove-mde')\n",
    "sgram_mde = load_embeddings('sgram-mde')\n",
    "# glove = load_embeddings('glove-mde')\n",
    "# sgram_mde[\"id\"]"
   ]
  },
  {
   "cell_type": "code",
   "execution_count": 4421,
   "metadata": {},
   "outputs": [],
   "source": [
    "# word = 'id'\n",
    "# sgram_mde.most_similar(positive=[word])"
   ]
  },
  {
   "cell_type": "code",
   "execution_count": 4422,
   "metadata": {
    "id": "GnemiQCKo1uA"
   },
   "outputs": [],
   "source": [
    "def inEmbedding(word, embedding):\n",
    "  try:\n",
    "    return True, embedding[word]\n",
    "  except:\n",
    "    return False, None"
   ]
  },
  {
   "cell_type": "code",
   "execution_count": 4423,
   "metadata": {
    "id": "tYrP3rmxLQ3o"
   },
   "outputs": [
    {
     "data": {
      "text/plain": [
       "['device', 'ID']"
      ]
     },
     "execution_count": 4423,
     "metadata": {},
     "output_type": "execute_result"
    }
   ],
   "source": [
    "\n",
    "def splitCamelCase(word):\n",
    "  splitted = re.sub('([A-Z][a-z]+)', r' \\1', re.sub('([A-Z]+)', r' \\1', word)).split()\n",
    "  return splitted\n",
    "\n",
    "splitCamelCase(\"device ID\")"
   ]
  },
  {
   "cell_type": "code",
   "execution_count": 4424,
   "metadata": {},
   "outputs": [
    {
     "data": {
      "text/plain": [
       "['Command', 'Status']"
      ]
     },
     "execution_count": 4424,
     "metadata": {},
     "output_type": "execute_result"
    }
   ],
   "source": [
    "splitCamelCase(\"CommandStatus\")"
   ]
  },
  {
   "cell_type": "code",
   "execution_count": 4425,
   "metadata": {
    "id": "YJ7yNdA488Vm"
   },
   "outputs": [],
   "source": [
    "# client = OpenAI()\n",
    "\n",
    "# def run_llm(prompt, model =\"gpt-3.5-turbo\"):\n",
    "#   response = client.chat.completions.create(\n",
    "#     model=model,\n",
    "#     messages=[\n",
    "#       {\"role\": \"user\", \"content\": prompt},\n",
    "\n",
    "#     ]\n",
    "#   )\n",
    "#   return response.choices[0].message.content"
   ]
  },
  {
   "cell_type": "code",
   "execution_count": 4426,
   "metadata": {
    "id": "0Juq9RcN9BcX"
   },
   "outputs": [],
   "source": [
    "client = OpenAI()\n",
    "\n",
    "def get_embedding(text, model=\"text-embedding-ada-002\"):\n",
    "   text = text.replace(\"\\n\", \" \")\n",
    "   return client.embeddings.create(input = [text], model=model).data[0].embedding"
   ]
  },
  {
   "cell_type": "code",
   "execution_count": 4427,
   "metadata": {
    "id": "-qddd_ct9lDV"
   },
   "outputs": [],
   "source": [
    "def get_all_info(class_index, class_nodes, list_of_classes, list_edges, need_edge = True):\n",
    "  result = ''\n",
    "  result +=  list_of_classes[class_index] + \"\\n\"\n",
    "  node = class_nodes[class_index]\n",
    "  if \"abstract\" in node:\n",
    "      node = node.replace(\"abstract\", \"\").strip()\n",
    "  if \"Abstract\" in node:\n",
    "      node = node.replace(\"Abstract\", \"\").strip()\n",
    "  if need_edge:\n",
    "    for edge in list_edges:\n",
    "      element = [i.strip() for i in edge.split()]\n",
    "      if node in element:\n",
    "        result += edge + \"\\n\"\n",
    "\n",
    "  return  result"
   ]
  },
  {
   "cell_type": "code",
   "execution_count": 4428,
   "metadata": {
    "id": "PF1WvdorJYa8"
   },
   "outputs": [],
   "source": [
    "def match_classes(raw_1, raw_2, dict_attr, thresh = 0.5, verbose = False):\n",
    "  # raw_1: nodes from reference solution\n",
    "  # raw_2: nodes from student solution\n",
    "  # dict_attr: dictionary for embeddings\n",
    "  # thresh for subst cost\n",
    "  # map class lists raw_1 and raw_2\n",
    "  print(dict_attr)\n",
    "  def node_subst_cost_attr(node1, node2):\n",
    "    # threshod as 0.45\n",
    "    if dict_attr[node1[\"name\"]][node2[\"name\"]] < thresh:\n",
    "      return 3\n",
    "    else:\n",
    "      return 1-dict_attr[node1[\"name\"]][node2[\"name\"]]\n",
    "    \n",
    "\n",
    "\n",
    "  G_att_1 = nx.Graph()\n",
    "  G_att_2 = nx.Graph()\n",
    "  for node in raw_1:\n",
    "    G_att_1.add_node(node, name = node)\n",
    "\n",
    "  for node in raw_2:\n",
    "    G_att_2.add_node(node, name = node)\n",
    "\n",
    "  for v in nx.optimize_edit_paths(G_att_1, G_att_2, node_subst_cost=node_subst_cost_attr, edge_match=None, timeout = 20):\n",
    "      minv = v\n",
    "  # minv\n",
    "\n",
    "  return minv"
   ]
  },
  {
   "cell_type": "markdown",
   "metadata": {
    "id": "y7GUzcWW8p6a"
   },
   "source": [
    "# Group"
   ]
  },
  {
   "cell_type": "code",
   "execution_count": 4429,
   "metadata": {
    "id": "ADtI3209Oy52"
   },
   "outputs": [],
   "source": [
    "class Grader():\n",
    "  def __init__(self):\n",
    "    self.ref = None\n",
    "    self.stu = None"
   ]
  },
  {
   "cell_type": "code",
   "execution_count": 4430,
   "metadata": {
    "id": "qvUpWnJVC-9P"
   },
   "outputs": [],
   "source": [
    "grader = Grader()"
   ]
  },
  {
   "cell_type": "markdown",
   "metadata": {
    "id": "MOMw2WnS8p6h"
   },
   "source": [
    "## Class"
   ]
  },
  {
   "cell_type": "markdown",
   "metadata": {
    "id": "_UPG9p99KA6q"
   },
   "source": [
    "### Define metadata"
   ]
  },
  {
   "cell_type": "code",
   "execution_count": 4431,
   "metadata": {
    "id": "IaR1jGbEKCq4"
   },
   "outputs": [],
   "source": [
    "class ModelInfo():\n",
    "\n",
    "  def __init(self):\n",
    "    self.cls_atr = {}\n",
    "    self.cls_name = []\n",
    "    self.raw_dsl = []\n",
    "    self.rel = None"
   ]
  },
  {
   "cell_type": "code",
   "execution_count": 4432,
   "metadata": {
    "id": "4-b5m2ovKZDg"
   },
   "outputs": [],
   "source": [
    "ref_cls = ModelInfo()\n",
    "stu_cls = ModelInfo()"
   ]
  },
  {
   "cell_type": "code",
   "execution_count": 4433,
   "metadata": {
    "id": "bviDqFkT42Tc"
   },
   "outputs": [],
   "source": [
    "grader.ref = ref_cls\n",
    "grader.stu = stu_cls"
   ]
  },
  {
   "cell_type": "code",
   "execution_count": 4434,
   "metadata": {},
   "outputs": [],
   "source": [
    "with open(instructor_input, 'r') as file:\n",
    "    # Read the entire content of the file\n",
    "    instructor_all = file.read()\n",
    "\n",
    "with open(student_input, 'r') as file:\n",
    "    # Read the entire content of the file\n",
    "    student_all = file.read()"
   ]
  },
  {
   "cell_type": "code",
   "execution_count": 4435,
   "metadata": {},
   "outputs": [
    {
     "name": "stdout",
     "output_type": "stream",
     "text": [
      "Enumerations:\n",
      "RoomType(SINGLE, DOUBLE, TWIN)\n",
      "BookingStatus(FINALIZED, CONFIRMED, CANCELLED_BY_HBMS, PRELIMINARY, CANCELLED_BY_TRAVELLER, CANCELLED_BY_HOTEL)\n",
      "PaymentType (PREPAID, PAID_AT_HOTEL)\n",
      "\n",
      "Classes:\n",
      "HotelBookingManager()\n",
      "HotelChain()\n",
      "\n",
      "Traveller (string name, int reliabilityRating)\n",
      "\n",
      "BillingInformation(string companyName, string address)\n",
      "TravelPreference(string preference, string value)\n",
      "Hotel (string city, string country, string area)\n",
      "abstract Offer()\n",
      "SpecialOffer()\n",
      "RegularOffer()\n",
      "TravelSearch()\n",
      "SearchInfo()\n",
      "RoomAvailability()\n",
      "abstract TripInfo(int numberOfRooms, RoomType roomType, date arrivalDate, date departureDate, float budgetPerNight)\n",
      "BookingInfo()\n",
      "Booking (int bookingId, date cancellationDeadline, string creditCardNumber, BookingStatus bookingStatus, PaymentType paymentType, date confirmationDate, float paidAmount)\n",
      "\n",
      "\n",
      "Relationships:\n",
      "\n"
     ]
    }
   ],
   "source": [
    "print(instructor_all)"
   ]
  },
  {
   "cell_type": "code",
   "execution_count": 4436,
   "metadata": {},
   "outputs": [
    {
     "name": "stdout",
     "output_type": "stream",
     "text": [
      "Enumerations:\n",
      "RoomType(Single, Double, Twin)\n",
      "BookingStatus(Preliminary, Regular, Finalized, Confirmed, Cancelled)\n",
      "PaymentType(PrePaid, PaidAtHotel)\n",
      "HotelRating(OneStar, TwoStar, ThreeStar, FourStar, FiveStar)\n",
      "\n",
      "Classes:\n",
      "\n",
      "HotelBookingManagementSystem(string city, date dateOfArrival, date dateOfDeparture, int numberOfRooms, string typeOfRooms, int hotelRating, float budget, string travelPeriod, string bookingStatus, string bookingIdentifier)\n",
      "BusinessTraveller(string name, BillingInformation billingInformation, TravelPreference travelPreference, ReliabilityRating reliabilityRating)\n",
      "\n",
      "BillingInformation(string companyName, string address)\n",
      "TravelPreference(boolean breakfastIncluded, boolean freeWifi, boolean frontDesk)\n",
      "Hotel(string name, string address, string city, string hotelChain, RoomAvailability roomAvailability)\n",
      "\n",
      "SpecialOffer(float price, string cityArea, int hotelRating, string keyPreferences)\n",
      "\n",
      "\n",
      "\n",
      "RoomAvailability(string typeOfRoom, boolean isAvailable)\n",
      "\n",
      "\n",
      "RegularBooking(string bookingIdentifier)\n",
      "AccommodationDeal(string city, date dateOfArrival, date dateOfDeparture, int numberOfRooms, string typeOfRooms, int hotelRating, float budget)\n",
      "abstract BookingStatus()\n",
      "PreliminaryBooking(string bookingIdentifier, string cityArea, int hotelRating, string keyPreferences) \n",
      "\n",
      "FinalizedBooking(string bookingIdentifier, CreditCardInformation creditCardInformation) \n",
      "ConfirmedBooking(string bookingIdentifier, date cancellationDeadline, FinancialCompensation financialCompensation) \n",
      "CancelledBooking(string bookingIdentifier, FinancialCompensation financialCompensation)\n",
      "CreditCardInformation(string cardNumber, string cardHolderName, date expiryDate, int cvv)\n",
      "\n",
      "\n",
      "\n",
      "Relationships:\n",
      "\n"
     ]
    }
   ],
   "source": [
    "print(student_all)"
   ]
  },
  {
   "cell_type": "code",
   "execution_count": 4437,
   "metadata": {},
   "outputs": [],
   "source": [
    "shas_sol = instructor_all.split(\"Relationships:\")[0]\n",
    "stu_sol_g =  student_all.split(\"Relationships:\")[0] # student solution"
   ]
  },
  {
   "cell_type": "code",
   "execution_count": 4438,
   "metadata": {
    "id": "PHb2yzli8p6h"
   },
   "outputs": [],
   "source": [
    "ref_classes_raw = []\n",
    "tmp = shas_sol.strip().splitlines()\n",
    "ref_classes_raw = [i.strip() for i in tmp if len(i) > 0]\n",
    "ref_classes_raw\n",
    "\n",
    "reference_class = []\n",
    "tmp = shas_sol.strip().splitlines()\n",
    "reference_class = [i.split(\"(\")[0].strip() for i in tmp if len(i) > 0]"
   ]
  },
  {
   "cell_type": "code",
   "execution_count": 4439,
   "metadata": {
    "id": "zR4naxeW8p6h"
   },
   "outputs": [
    {
     "data": {
      "text/plain": [
       "['Enumerations:',\n",
       " 'RoomType',\n",
       " 'BookingStatus',\n",
       " 'PaymentType',\n",
       " 'HotelRating',\n",
       " 'Classes:',\n",
       " 'HotelBookingManagementSystem',\n",
       " 'BusinessTraveller',\n",
       " 'BillingInformation',\n",
       " 'TravelPreference',\n",
       " 'Hotel',\n",
       " 'SpecialOffer',\n",
       " 'RoomAvailability',\n",
       " 'RegularBooking',\n",
       " 'AccommodationDeal',\n",
       " 'abstract BookingStatus',\n",
       " 'PreliminaryBooking',\n",
       " 'FinalizedBooking',\n",
       " 'ConfirmedBooking',\n",
       " 'CancelledBooking',\n",
       " 'CreditCardInformation']"
      ]
     },
     "execution_count": 4439,
     "metadata": {},
     "output_type": "execute_result"
    }
   ],
   "source": [
    "stu_classes_raw = []\n",
    "tmp = stu_sol_g.strip().splitlines()\n",
    "stu_classes_raw = [i.strip() for i in tmp if len(i) > 0]\n",
    "stu_classes_raw\n",
    "\n",
    "tmp = stu_sol_g.strip().splitlines()\n",
    "stu_class = [i.split(\"(\")[0].strip() for i in tmp if len(i) > 0]\n",
    "stu_class"
   ]
  },
  {
   "cell_type": "code",
   "execution_count": 4440,
   "metadata": {
    "id": "Kt4R2geh8p6h"
   },
   "outputs": [],
   "source": [
    "ref_attributes = {}\n",
    "enum_index = ref_classes_raw.index(\"Enumerations:\")\n",
    "regular_index = ref_classes_raw.index(\"Classes:\")\n",
    "for cla, dsl in zip(reference_class, ref_classes_raw):\n",
    "  if dsl == \"Enumerations:\" or dsl == \"Classes:\":\n",
    "    continue\n",
    "  else:\n",
    "    index = ref_classes_raw.index(dsl)\n",
    "    if index > regular_index:\n",
    "      class_type = \"regular\"\n",
    "      if \"abstract\" in dsl:\n",
    "        class_type = \"abstract\"\n",
    "    else:\n",
    "      class_type = \"enum\"\n",
    "    ref_attributes[cla] = {\"score\": 0, \"type\":class_type, \"dsl\":dsl, \"counterpart\": None, \"attributes\": {}}\n",
    "\n",
    "    attributes = dsl.split(\"(\")[1][:-1].split(\",\")\n",
    "    for attr in attributes:\n",
    "      attr = attr.strip()\n",
    "      if len(attr) > 0:\n",
    "        ref_attributes[cla][\"attributes\"][attr] = {\"score\":0, \"counterpart\": None}"
   ]
  },
  {
   "cell_type": "code",
   "execution_count": 4441,
   "metadata": {
    "id": "L_TGf3xW8p6i"
   },
   "outputs": [],
   "source": [
    "reference_class.remove(\"Enumerations:\")\n",
    "reference_class.remove(\"Classes:\")\n",
    "\n",
    "ref_classes_raw.remove(\"Enumerations:\")\n",
    "ref_classes_raw.remove(\"Classes:\")"
   ]
  },
  {
   "cell_type": "code",
   "execution_count": 4442,
   "metadata": {
    "id": "6WI2xkurLJTq"
   },
   "outputs": [],
   "source": [
    "ref_cls.cls_name = reference_class\n",
    "ref_cls.raw_dsl = ref_classes_raw\n",
    "ref_cls.cls_atr = ref_attributes"
   ]
  },
  {
   "cell_type": "code",
   "execution_count": 4443,
   "metadata": {
    "id": "nkxF3Yda8p6i"
   },
   "outputs": [
    {
     "name": "stdout",
     "output_type": "stream",
     "text": [
      "RoomType(Single, Double, Twin)\n",
      "BookingStatus(Preliminary, Regular, Finalized, Confirmed, Cancelled)\n",
      "PaymentType(PrePaid, PaidAtHotel)\n",
      "HotelRating(OneStar, TwoStar, ThreeStar, FourStar, FiveStar)\n",
      "HotelBookingManagementSystem(string city, date dateOfArrival, date dateOfDeparture, int numberOfRooms, string typeOfRooms, int hotelRating, float budget, string travelPeriod, string bookingStatus, string bookingIdentifier)\n",
      "BusinessTraveller(string name, BillingInformation billingInformation, TravelPreference travelPreference, ReliabilityRating reliabilityRating)\n",
      "BillingInformation(string companyName, string address)\n",
      "TravelPreference(boolean breakfastIncluded, boolean freeWifi, boolean frontDesk)\n",
      "Hotel(string name, string address, string city, string hotelChain, RoomAvailability roomAvailability)\n",
      "SpecialOffer(float price, string cityArea, int hotelRating, string keyPreferences)\n",
      "RoomAvailability(string typeOfRoom, boolean isAvailable)\n",
      "RegularBooking(string bookingIdentifier)\n",
      "AccommodationDeal(string city, date dateOfArrival, date dateOfDeparture, int numberOfRooms, string typeOfRooms, int hotelRating, float budget)\n",
      "abstract BookingStatus()\n",
      "PreliminaryBooking(string bookingIdentifier, string cityArea, int hotelRating, string keyPreferences)\n",
      "FinalizedBooking(string bookingIdentifier, CreditCardInformation creditCardInformation)\n",
      "ConfirmedBooking(string bookingIdentifier, date cancellationDeadline, FinancialCompensation financialCompensation)\n",
      "CancelledBooking(string bookingIdentifier, FinancialCompensation financialCompensation)\n",
      "CreditCardInformation(string cardNumber, string cardHolderName, date expiryDate, int cvv)\n"
     ]
    }
   ],
   "source": [
    "stu_attributes = {}\n",
    "enum_index = stu_classes_raw.index(\"Enumerations:\")\n",
    "regular_index = stu_classes_raw.index(\"Classes:\")\n",
    "\n",
    "for cla, dsl in zip(stu_class, stu_classes_raw):\n",
    "  if dsl == \"Enumerations:\" or dsl == \"Classes:\":\n",
    "    continue\n",
    "  else:\n",
    "    index = stu_classes_raw.index(dsl)\n",
    "    if index > regular_index:\n",
    "      class_type = \"regular\"\n",
    "      if \"abstract\" in dsl:\n",
    "        class_type = \"abstract\"\n",
    "    else:\n",
    "      class_type = \"enum\"\n",
    "\n",
    "    stu_attributes[cla] = {\"score\": 0, \"type\":class_type, \"dsl\":dsl, \"counterpart\": None, \"attributes\": {}}\n",
    "\n",
    "    print(dsl)\n",
    "    attributes = dsl.split(\"(\")[1][:-1].split(\",\")\n",
    "    for attr in attributes:\n",
    "      attr = attr.strip()\n",
    "      if len(attr) > 0:\n",
    "        stu_attributes[cla][\"attributes\"][attr] = {\"score\":0, \"counterpart\": None}"
   ]
  },
  {
   "cell_type": "code",
   "execution_count": 4444,
   "metadata": {
    "id": "iK3ITyIW8p6i"
   },
   "outputs": [],
   "source": [
    "stu_class.remove(\"Enumerations:\")\n",
    "stu_class.remove(\"Classes:\")\n",
    "\n",
    "stu_classes_raw.remove(\"Enumerations:\")\n",
    "stu_classes_raw.remove(\"Classes:\")"
   ]
  },
  {
   "cell_type": "code",
   "execution_count": 4445,
   "metadata": {
    "id": "-DjOKJ1wNNdt"
   },
   "outputs": [],
   "source": [
    "stu_cls.cls_name = stu_class\n",
    "stu_cls.raw_dsl = stu_classes_raw\n",
    "stu_cls.cls_atr = stu_attributes"
   ]
  },
  {
   "cell_type": "markdown",
   "metadata": {
    "id": "dblsT4MS8p6i"
   },
   "source": [
    "## Edges"
   ]
  },
  {
   "cell_type": "markdown",
   "metadata": {
    "id": "7D5Je00s8p6i"
   },
   "source": [
    "### reference and student solutions"
   ]
  },
  {
   "cell_type": "code",
   "execution_count": 4446,
   "metadata": {},
   "outputs": [],
   "source": [
    "shas_edges = instructor_all.split(\"Relationships:\")[1]\n",
    "shas_G2_edges =  student_all.split(\"Relationships:\")[1] # student solution"
   ]
  },
  {
   "cell_type": "code",
   "execution_count": 4447,
   "metadata": {},
   "outputs": [
    {
     "data": {
      "text/plain": [
       "'\\n'"
      ]
     },
     "execution_count": 4447,
     "metadata": {},
     "output_type": "execute_result"
    }
   ],
   "source": [
    "shas_edges"
   ]
  },
  {
   "cell_type": "code",
   "execution_count": 4448,
   "metadata": {},
   "outputs": [
    {
     "data": {
      "text/plain": [
       "'\\n'"
      ]
     },
     "execution_count": 4448,
     "metadata": {},
     "output_type": "execute_result"
    }
   ],
   "source": [
    "shas_edges"
   ]
  },
  {
   "cell_type": "code",
   "execution_count": 4449,
   "metadata": {
    "id": "9ShLk-8_8p6i"
   },
   "outputs": [],
   "source": [
    "shas_edges = shas_edges.replace(\"0..*\",\"*\")"
   ]
  },
  {
   "cell_type": "code",
   "execution_count": 4450,
   "metadata": {
    "id": "54aKqVt58p6j"
   },
   "outputs": [],
   "source": [
    "shas_G2_edges = shas_G2_edges.replace(\"0..*\",\"*\")"
   ]
  },
  {
   "cell_type": "code",
   "execution_count": 4451,
   "metadata": {
    "id": "onsbAmwq8p6j"
   },
   "outputs": [],
   "source": [
    "tmp = shas_edges.strip().splitlines()\n",
    "ref_edges = [i.strip() for i in tmp if len(i) > 0]\n",
    "\n",
    "for i in ref_edges:\n",
    "  length = len(i.split())\n",
    "  if length == 5 or length == 3:\n",
    "    pass\n",
    "  else:\n",
    "    print(\"Reference Length error:\", i)\n",
    "\n",
    "tmp = shas_G2_edges.strip().splitlines()\n",
    "stu_edges = [i.strip() for i in tmp if len(i) > 0]\n",
    "\n",
    "for i in stu_edges:\n",
    "  length = len(i.split())\n",
    "  if length == 5 or length == 3:\n",
    "    pass\n",
    "  else:\n",
    "    print(\"Student Length error:\", i)\n",
    "\n"
   ]
  },
  {
   "cell_type": "code",
   "execution_count": 4452,
   "metadata": {
    "id": "MqopbetK8p6j"
   },
   "outputs": [],
   "source": [
    "class Relationship:\n",
    "  def __init__(self):\n",
    "    self.rels = [] # list of dict{}\n",
    "    self.raw_dsl = []\n",
    "  # find first non-matched or matched reltionshipi given dsl\n",
    "  def find_relation(self, dsl, matched = False):\n",
    "    for index, i in enumerate(self.rels):\n",
    "      if i[\"dsl\"] == dsl and i[\"counterpart\"] is None:\n",
    "        return index, i\n",
    "\n",
    "    return None"
   ]
  },
  {
   "cell_type": "code",
   "execution_count": 4453,
   "metadata": {
    "id": "lznKb5N28p6j"
   },
   "outputs": [],
   "source": [
    "ref_edges_obj = Relationship()\n",
    "stu_edges_obj = Relationship()\n",
    "\n",
    "\n",
    "ref_edges_dict = []\n",
    "for e in ref_edges:\n",
    "  ref_edges_dict.append({\"dsl\":e,\"score\":0, \"counterpart\": None})\n",
    "\n",
    "ref_edges_obj.rels = ref_edges_dict\n",
    "ref_edges_obj.raw_dsl = ref_edges\n",
    "\n",
    "stu_edges_dict = []\n",
    "for e in stu_edges:\n",
    "  stu_edges_dict.append({\"dsl\":e,\"score\":0, \"counterpart\": None})\n",
    "\n",
    "stu_edges_obj.rels = stu_edges_dict\n",
    "stu_edges_obj.raw_dsl = stu_edges"
   ]
  },
  {
   "cell_type": "code",
   "execution_count": 4454,
   "metadata": {
    "id": "oxwZDyyDaibf"
   },
   "outputs": [],
   "source": [
    "# link to classInfo object\n",
    "ref_cls.rel = ref_edges_obj\n",
    "stu_cls.rel = stu_edges_obj"
   ]
  },
  {
   "cell_type": "code",
   "execution_count": 4455,
   "metadata": {
    "id": "6Otwiuqn8p6j"
   },
   "outputs": [],
   "source": [
    "edges = [ref_edges_obj, stu_edges_obj]"
   ]
  },
  {
   "cell_type": "markdown",
   "metadata": {
    "id": "pjvx1y428p6j"
   },
   "source": [
    "## Getting embedding"
   ]
  },
  {
   "cell_type": "code",
   "execution_count": 4456,
   "metadata": {},
   "outputs": [],
   "source": [
    "def removeChars(text, chars):\n",
    "    for c in chars:\n",
    "        text = text.replace(c,\"\")\n",
    "    return text\n"
   ]
  },
  {
   "cell_type": "code",
   "execution_count": 4457,
   "metadata": {
    "id": "ee0LtyGkkVu3"
   },
   "outputs": [],
   "source": [
    "def get_mde_embedding(text, embedding):\n",
    "  # >>> get_mde_embedding(\"WhatDevice\", sgram_mde)\n",
    "  words = splitCamelCase(removeChars(text, [\"(\",\")\",\",\"]))\n",
    "  lowercase_list = [s.lower() for s in words]\n",
    "  counter = 0\n",
    "  emb = np.zeros(300)\n",
    "  for w in lowercase_list:\n",
    "    try:\n",
    "      emb += embedding[w]\n",
    "      counter += 1\n",
    "    except:\n",
    "      # if failed in emb the complete word, embed the token\n",
    "      tmp = np.zeros(300)\n",
    "      for char in list(w):\n",
    "\n",
    "        tmp += embedding[char]\n",
    "      emb += (tmp / len(w))\n",
    "      counter += 1\n",
    "  return emb / counter"
   ]
  },
  {
   "cell_type": "code",
   "execution_count": 4458,
   "metadata": {},
   "outputs": [
    {
     "data": {
      "text/plain": [
       "['Automation', 'Status', 'Created', 'Edited', 'Activated', 'Deactivated']"
      ]
     },
     "execution_count": 4458,
     "metadata": {},
     "output_type": "execute_result"
    }
   ],
   "source": [
    "text = \"AutomationStatus (Created, Edited, Activated, Deactivated)\"\n",
    "words = splitCamelCase(removeChars(text, [\"(\",\")\",\",\"]))\n",
    "words"
   ]
  },
  {
   "cell_type": "code",
   "execution_count": 4459,
   "metadata": {
    "id": "G_8OE4YpljN7"
   },
   "outputs": [],
   "source": [
    "def cosine_distance(emb_i, emb_j):\n",
    "  return np.dot(emb_i, emb_j) / (np.linalg.norm(emb_i) * np.linalg.norm(emb_j))"
   ]
  },
  {
   "cell_type": "markdown",
   "metadata": {
    "id": "V84BIi42N3vb"
   },
   "source": [
    "## Stage 1.1 Class name mapping"
   ]
  },
  {
   "cell_type": "code",
   "execution_count": 4460,
   "metadata": {
    "id": "4Bfij7cROA8x"
   },
   "outputs": [
    {
     "name": "stdout",
     "output_type": "stream",
     "text": [
      "\n",
      "\n",
      "\n",
      "\n",
      "\n",
      "\n",
      "\n",
      "\n",
      "\n",
      "\n",
      "\n",
      "\n",
      "\n",
      "\n",
      "\n",
      "\n",
      "\n",
      "\n",
      "\n",
      "\n",
      "\n",
      "\n",
      "\n",
      "\n",
      "\n",
      "\n",
      "\n",
      "\n",
      "\n",
      "\n",
      "\n",
      "\n",
      "\n",
      "\n",
      "\n",
      "\n",
      "\n",
      "\n",
      "\n",
      "\n",
      "\n",
      "\n",
      "\n",
      "\n",
      "\n",
      "\n",
      "\n",
      "\n",
      "\n",
      "\n",
      "\n",
      "\n",
      "\n",
      "\n",
      "\n",
      "\n",
      "\n",
      "\n",
      "\n",
      "\n",
      "\n",
      "\n",
      "\n",
      "\n",
      "\n",
      "\n",
      "\n",
      "\n",
      "\n",
      "\n",
      "\n",
      "\n",
      "\n",
      "\n",
      "\n",
      "\n",
      "\n",
      "\n",
      "\n",
      "\n",
      "\n",
      "\n",
      "\n",
      "\n",
      "\n",
      "\n",
      "\n",
      "\n",
      "\n",
      "\n",
      "\n",
      "\n",
      "\n",
      "\n",
      "\n",
      "\n",
      "\n",
      "\n",
      "\n",
      "\n",
      "\n",
      "\n",
      "\n",
      "\n",
      "\n",
      "\n",
      "\n",
      "\n",
      "\n",
      "\n",
      "\n",
      "\n",
      "\n",
      "\n",
      "\n",
      "\n",
      "\n",
      "\n",
      "\n",
      "\n",
      "\n",
      "\n",
      "\n",
      "\n",
      "\n",
      "\n",
      "\n",
      "\n",
      "\n",
      "\n",
      "\n",
      "\n",
      "\n",
      "\n",
      "\n",
      "\n",
      "\n",
      "\n",
      "\n",
      "\n",
      "\n",
      "\n",
      "\n",
      "\n",
      "\n",
      "\n",
      "\n",
      "\n",
      "\n",
      "\n",
      "\n",
      "\n",
      "\n",
      "\n",
      "\n",
      "\n",
      "\n",
      "\n",
      "\n",
      "\n",
      "\n",
      "\n",
      "\n",
      "\n",
      "\n",
      "\n",
      "\n",
      "\n",
      "\n",
      "\n",
      "\n",
      "\n",
      "\n",
      "\n",
      "\n",
      "\n",
      "\n",
      "\n",
      "\n",
      "\n",
      "\n",
      "\n",
      "\n",
      "\n",
      "\n",
      "\n",
      "\n",
      "\n",
      "\n",
      "\n",
      "\n",
      "\n",
      "\n",
      "\n",
      "\n",
      "\n",
      "\n",
      "\n",
      "\n",
      "\n",
      "\n",
      "\n",
      "\n",
      "\n",
      "\n",
      "\n",
      "\n",
      "\n",
      "\n",
      "\n",
      "\n",
      "\n",
      "\n",
      "\n",
      "\n",
      "\n",
      "\n",
      "\n",
      "\n",
      "\n",
      "\n",
      "\n",
      "\n",
      "\n",
      "\n",
      "\n",
      "\n",
      "\n",
      "\n",
      "\n",
      "\n",
      "\n",
      "\n",
      "\n",
      "\n",
      "\n",
      "\n",
      "\n",
      "\n",
      "\n",
      "\n",
      "\n",
      "\n",
      "\n",
      "\n",
      "\n",
      "\n",
      "\n",
      "\n",
      "\n",
      "\n",
      "\n",
      "\n",
      "\n",
      "\n",
      "\n",
      "\n",
      "\n",
      "\n",
      "\n",
      "\n",
      "\n",
      "\n",
      "\n",
      "\n",
      "\n",
      "\n",
      "\n",
      "\n",
      "\n",
      "\n",
      "\n",
      "\n",
      "\n",
      "\n",
      "\n",
      "\n",
      "\n",
      "\n",
      "\n",
      "\n",
      "\n",
      "\n",
      "\n",
      "\n",
      "\n",
      "\n",
      "\n",
      "\n",
      "\n",
      "\n",
      "\n",
      "\n",
      "\n",
      "\n",
      "\n",
      "\n",
      "\n",
      "\n",
      "\n",
      "\n",
      "\n",
      "\n",
      "\n",
      "\n",
      "\n",
      "\n",
      "\n",
      "\n",
      "\n",
      "\n",
      "\n",
      "\n",
      "\n",
      "\n",
      "\n",
      "\n",
      "\n",
      "\n",
      "\n",
      "\n",
      "\n",
      "\n",
      "\n",
      "\n",
      "\n",
      "\n",
      "\n",
      "\n",
      "\n",
      "\n",
      "\n",
      "\n",
      "\n",
      "\n",
      "\n",
      "\n",
      "\n",
      "\n",
      "\n",
      "\n",
      "\n"
     ]
    }
   ],
   "source": [
    "# get name embedding\n",
    "# all info\n",
    "similarity_mde = []\n",
    "mde_embedding = sgram_mde\n",
    "threshold = 0.7\n",
    "similarity_mde_dsl = []\n",
    "percentage = 0.8\n",
    "for index, node in enumerate(ref_cls.cls_name):\n",
    "  cls = node.split()[-1].strip() # get the class name, remove abstract key word\n",
    "  \n",
    "  mde_emb_i = get_mde_embedding(cls, mde_embedding)\n",
    "  mde_emb_i_dsl = get_mde_embedding(ref_cls.cls_atr[node][\"dsl\"], mde_embedding)\n",
    "\n",
    "  pair = []\n",
    "  mde_pair = []\n",
    "  for j, stu_node in enumerate(stu_cls.cls_name):\n",
    "    cls = stu_node.split()[-1].strip() # get the class name, remove abstract key word\n",
    "    print()\n",
    "    mde_emb_j = get_mde_embedding(cls, mde_embedding)\n",
    "    mde_emb_j_dsl = get_mde_embedding(stu_cls.cls_atr[stu_node][\"dsl\"], mde_embedding)\n",
    "\n",
    "    mde_sim = cosine_distance(mde_emb_i, mde_emb_j)\n",
    "    mde_sim_dsl = cosine_distance(mde_emb_i_dsl, mde_emb_j_dsl)\n",
    "\n",
    "    mde_pair.append(mde_sim * percentage + (1-percentage) * mde_sim_dsl)\n",
    "\n",
    "  # apply third quartile\n",
    "  similarity_mde.append(mde_pair)\n",
    "\n",
    "dict_sim_word = {}\n",
    "for i in range(len(ref_cls.cls_name)):\n",
    "  dict_sim_word[ref_cls.cls_name[i]] = {}\n",
    "  for j in range(len(stu_cls.cls_name)):\n",
    "    dict_sim_word[ref_cls.cls_name[i]][stu_cls.cls_name[j]] = similarity_mde[i][j]"
   ]
  },
  {
   "cell_type": "code",
   "execution_count": 4461,
   "metadata": {},
   "outputs": [
    {
     "name": "stdout",
     "output_type": "stream",
     "text": [
      "RoomType\n",
      "update\n",
      "BillingInformation\n",
      "update\n"
     ]
    }
   ],
   "source": [
    "for key in dict_sim_word:\n",
    "    exact_match = False\n",
    "    exact_cls = \"\"\n",
    "    for cls_2 in dict_sim_word[key]:\n",
    "        if dict_sim_word[key][cls_2] > 0.99:\n",
    "            exact_match = True\n",
    "            exact_cls = cls_2\n",
    "            print(cls_2)\n",
    "            break\n",
    "    \n",
    "    if exact_match:    # keep the exact match, others to 0\n",
    "        print(\"update\")\n",
    "        for cls_2 in dict_sim_word[key]:\n",
    "            if cls_2 !=  exact_cls:\n",
    "                dict_sim_word[key][cls_2] = 0\n",
    "\n",
    "similarity_mde = []\n",
    "for i in dict_sim_word:\n",
    "    tmp = []\n",
    "    for j in dict_sim_word[i]:\n",
    "        tmp.append(dict_sim_word[i][j])\n",
    "\n",
    "    similarity_mde.append(tmp)"
   ]
  },
  {
   "cell_type": "code",
   "execution_count": 4462,
   "metadata": {
    "id": "eWumU7AcQqKv"
   },
   "outputs": [
    {
     "data": {
      "text/html": [
       "<div>\n",
       "<style scoped>\n",
       "    .dataframe tbody tr th:only-of-type {\n",
       "        vertical-align: middle;\n",
       "    }\n",
       "\n",
       "    .dataframe tbody tr th {\n",
       "        vertical-align: top;\n",
       "    }\n",
       "\n",
       "    .dataframe thead th {\n",
       "        text-align: right;\n",
       "    }\n",
       "</style>\n",
       "<table border=\"1\" class=\"dataframe\">\n",
       "  <thead>\n",
       "    <tr style=\"text-align: right;\">\n",
       "      <th></th>\n",
       "      <th>RoomType</th>\n",
       "      <th>BookingStatus</th>\n",
       "      <th>PaymentType</th>\n",
       "      <th>HotelRating</th>\n",
       "      <th>HotelBookingManagementSystem</th>\n",
       "      <th>BusinessTraveller</th>\n",
       "      <th>BillingInformation</th>\n",
       "      <th>TravelPreference</th>\n",
       "      <th>Hotel</th>\n",
       "      <th>SpecialOffer</th>\n",
       "      <th>RoomAvailability</th>\n",
       "      <th>RegularBooking</th>\n",
       "      <th>AccommodationDeal</th>\n",
       "      <th>abstract BookingStatus</th>\n",
       "      <th>PreliminaryBooking</th>\n",
       "      <th>FinalizedBooking</th>\n",
       "      <th>ConfirmedBooking</th>\n",
       "      <th>CancelledBooking</th>\n",
       "      <th>CreditCardInformation</th>\n",
       "    </tr>\n",
       "  </thead>\n",
       "  <tbody>\n",
       "    <tr>\n",
       "      <th>RoomType</th>\n",
       "      <td>1.000000</td>\n",
       "      <td>0.000000</td>\n",
       "      <td>0.000000</td>\n",
       "      <td>0.000000</td>\n",
       "      <td>0.000000</td>\n",
       "      <td>0.000000</td>\n",
       "      <td>0.000000</td>\n",
       "      <td>0.000000</td>\n",
       "      <td>0.000000</td>\n",
       "      <td>0.000000</td>\n",
       "      <td>0.000000</td>\n",
       "      <td>0.000000</td>\n",
       "      <td>0.000000</td>\n",
       "      <td>0.000000</td>\n",
       "      <td>0.000000</td>\n",
       "      <td>0.000000</td>\n",
       "      <td>0.000000</td>\n",
       "      <td>0.000000</td>\n",
       "      <td>0.000000</td>\n",
       "    </tr>\n",
       "    <tr>\n",
       "      <th>BookingStatus</th>\n",
       "      <td>0.417276</td>\n",
       "      <td>0.950814</td>\n",
       "      <td>0.524146</td>\n",
       "      <td>0.434472</td>\n",
       "      <td>0.717348</td>\n",
       "      <td>0.431577</td>\n",
       "      <td>0.451960</td>\n",
       "      <td>0.474790</td>\n",
       "      <td>0.455107</td>\n",
       "      <td>0.311174</td>\n",
       "      <td>0.428766</td>\n",
       "      <td>0.729993</td>\n",
       "      <td>0.365752</td>\n",
       "      <td>0.929731</td>\n",
       "      <td>0.741056</td>\n",
       "      <td>0.680430</td>\n",
       "      <td>0.735933</td>\n",
       "      <td>0.725983</td>\n",
       "      <td>0.404945</td>\n",
       "    </tr>\n",
       "    <tr>\n",
       "      <th>PaymentType</th>\n",
       "      <td>0.403901</td>\n",
       "      <td>0.510761</td>\n",
       "      <td>0.945078</td>\n",
       "      <td>0.344794</td>\n",
       "      <td>0.499869</td>\n",
       "      <td>0.392599</td>\n",
       "      <td>0.517732</td>\n",
       "      <td>0.393012</td>\n",
       "      <td>0.336580</td>\n",
       "      <td>0.403015</td>\n",
       "      <td>0.350155</td>\n",
       "      <td>0.463458</td>\n",
       "      <td>0.390009</td>\n",
       "      <td>0.517321</td>\n",
       "      <td>0.444215</td>\n",
       "      <td>0.450104</td>\n",
       "      <td>0.501350</td>\n",
       "      <td>0.517498</td>\n",
       "      <td>0.572045</td>\n",
       "    </tr>\n",
       "    <tr>\n",
       "      <th>HotelBookingManager</th>\n",
       "      <td>0.411749</td>\n",
       "      <td>0.700174</td>\n",
       "      <td>0.477571</td>\n",
       "      <td>0.616955</td>\n",
       "      <td>0.869835</td>\n",
       "      <td>0.470396</td>\n",
       "      <td>0.455592</td>\n",
       "      <td>0.469642</td>\n",
       "      <td>0.773188</td>\n",
       "      <td>0.317623</td>\n",
       "      <td>0.460285</td>\n",
       "      <td>0.707691</td>\n",
       "      <td>0.416947</td>\n",
       "      <td>0.724261</td>\n",
       "      <td>0.706409</td>\n",
       "      <td>0.648066</td>\n",
       "      <td>0.687924</td>\n",
       "      <td>0.677351</td>\n",
       "      <td>0.382796</td>\n",
       "    </tr>\n",
       "    <tr>\n",
       "      <th>HotelChain</th>\n",
       "      <td>0.311024</td>\n",
       "      <td>0.354715</td>\n",
       "      <td>0.341594</td>\n",
       "      <td>0.663262</td>\n",
       "      <td>0.693455</td>\n",
       "      <td>0.397784</td>\n",
       "      <td>0.332584</td>\n",
       "      <td>0.355941</td>\n",
       "      <td>0.804447</td>\n",
       "      <td>0.294366</td>\n",
       "      <td>0.375822</td>\n",
       "      <td>0.402391</td>\n",
       "      <td>0.382943</td>\n",
       "      <td>0.357943</td>\n",
       "      <td>0.434351</td>\n",
       "      <td>0.387463</td>\n",
       "      <td>0.367899</td>\n",
       "      <td>0.397377</td>\n",
       "      <td>0.291746</td>\n",
       "    </tr>\n",
       "    <tr>\n",
       "      <th>Traveller</th>\n",
       "      <td>0.230137</td>\n",
       "      <td>0.392869</td>\n",
       "      <td>0.304445</td>\n",
       "      <td>0.396521</td>\n",
       "      <td>0.474476</td>\n",
       "      <td>0.810079</td>\n",
       "      <td>0.431873</td>\n",
       "      <td>0.455774</td>\n",
       "      <td>0.420221</td>\n",
       "      <td>0.341422</td>\n",
       "      <td>0.315120</td>\n",
       "      <td>0.378396</td>\n",
       "      <td>0.352967</td>\n",
       "      <td>0.394879</td>\n",
       "      <td>0.452741</td>\n",
       "      <td>0.369274</td>\n",
       "      <td>0.402113</td>\n",
       "      <td>0.402763</td>\n",
       "      <td>0.343432</td>\n",
       "    </tr>\n",
       "    <tr>\n",
       "      <th>BillingInformation</th>\n",
       "      <td>0.000000</td>\n",
       "      <td>0.000000</td>\n",
       "      <td>0.000000</td>\n",
       "      <td>0.000000</td>\n",
       "      <td>0.000000</td>\n",
       "      <td>0.000000</td>\n",
       "      <td>1.000000</td>\n",
       "      <td>0.000000</td>\n",
       "      <td>0.000000</td>\n",
       "      <td>0.000000</td>\n",
       "      <td>0.000000</td>\n",
       "      <td>0.000000</td>\n",
       "      <td>0.000000</td>\n",
       "      <td>0.000000</td>\n",
       "      <td>0.000000</td>\n",
       "      <td>0.000000</td>\n",
       "      <td>0.000000</td>\n",
       "      <td>0.000000</td>\n",
       "      <td>0.000000</td>\n",
       "    </tr>\n",
       "    <tr>\n",
       "      <th>TravelPreference</th>\n",
       "      <td>0.280731</td>\n",
       "      <td>0.451204</td>\n",
       "      <td>0.379848</td>\n",
       "      <td>0.450227</td>\n",
       "      <td>0.543773</td>\n",
       "      <td>0.528986</td>\n",
       "      <td>0.407387</td>\n",
       "      <td>0.935521</td>\n",
       "      <td>0.431168</td>\n",
       "      <td>0.367817</td>\n",
       "      <td>0.368790</td>\n",
       "      <td>0.454925</td>\n",
       "      <td>0.444117</td>\n",
       "      <td>0.453402</td>\n",
       "      <td>0.518085</td>\n",
       "      <td>0.412377</td>\n",
       "      <td>0.450702</td>\n",
       "      <td>0.455096</td>\n",
       "      <td>0.351299</td>\n",
       "    </tr>\n",
       "    <tr>\n",
       "      <th>Hotel</th>\n",
       "      <td>0.373558</td>\n",
       "      <td>0.427193</td>\n",
       "      <td>0.308634</td>\n",
       "      <td>0.732863</td>\n",
       "      <td>0.804965</td>\n",
       "      <td>0.390898</td>\n",
       "      <td>0.405672</td>\n",
       "      <td>0.409515</td>\n",
       "      <td>0.973505</td>\n",
       "      <td>0.326743</td>\n",
       "      <td>0.456470</td>\n",
       "      <td>0.477488</td>\n",
       "      <td>0.438255</td>\n",
       "      <td>0.447216</td>\n",
       "      <td>0.553960</td>\n",
       "      <td>0.419551</td>\n",
       "      <td>0.448087</td>\n",
       "      <td>0.445587</td>\n",
       "      <td>0.340434</td>\n",
       "    </tr>\n",
       "    <tr>\n",
       "      <th>abstract Offer</th>\n",
       "      <td>0.191393</td>\n",
       "      <td>0.240495</td>\n",
       "      <td>0.318664</td>\n",
       "      <td>0.218947</td>\n",
       "      <td>0.301632</td>\n",
       "      <td>0.277345</td>\n",
       "      <td>0.276246</td>\n",
       "      <td>0.258333</td>\n",
       "      <td>0.249774</td>\n",
       "      <td>0.669884</td>\n",
       "      <td>0.282248</td>\n",
       "      <td>0.215396</td>\n",
       "      <td>0.293032</td>\n",
       "      <td>0.268474</td>\n",
       "      <td>0.204587</td>\n",
       "      <td>0.171866</td>\n",
       "      <td>0.276751</td>\n",
       "      <td>0.286296</td>\n",
       "      <td>0.207283</td>\n",
       "    </tr>\n",
       "    <tr>\n",
       "      <th>SpecialOffer</th>\n",
       "      <td>0.225495</td>\n",
       "      <td>0.273841</td>\n",
       "      <td>0.357632</td>\n",
       "      <td>0.186603</td>\n",
       "      <td>0.329004</td>\n",
       "      <td>0.308101</td>\n",
       "      <td>0.312488</td>\n",
       "      <td>0.278985</td>\n",
       "      <td>0.216749</td>\n",
       "      <td>0.879239</td>\n",
       "      <td>0.246465</td>\n",
       "      <td>0.375119</td>\n",
       "      <td>0.350346</td>\n",
       "      <td>0.260344</td>\n",
       "      <td>0.260754</td>\n",
       "      <td>0.212200</td>\n",
       "      <td>0.277955</td>\n",
       "      <td>0.293607</td>\n",
       "      <td>0.239577</td>\n",
       "    </tr>\n",
       "    <tr>\n",
       "      <th>RegularOffer</th>\n",
       "      <td>0.231364</td>\n",
       "      <td>0.244983</td>\n",
       "      <td>0.296277</td>\n",
       "      <td>0.229607</td>\n",
       "      <td>0.296748</td>\n",
       "      <td>0.289574</td>\n",
       "      <td>0.248966</td>\n",
       "      <td>0.274408</td>\n",
       "      <td>0.234121</td>\n",
       "      <td>0.702109</td>\n",
       "      <td>0.261666</td>\n",
       "      <td>0.484782</td>\n",
       "      <td>0.298581</td>\n",
       "      <td>0.214227</td>\n",
       "      <td>0.215107</td>\n",
       "      <td>0.174800</td>\n",
       "      <td>0.225428</td>\n",
       "      <td>0.278195</td>\n",
       "      <td>0.202261</td>\n",
       "    </tr>\n",
       "    <tr>\n",
       "      <th>TravelSearch</th>\n",
       "      <td>0.202412</td>\n",
       "      <td>0.427927</td>\n",
       "      <td>0.329499</td>\n",
       "      <td>0.394108</td>\n",
       "      <td>0.536008</td>\n",
       "      <td>0.478838</td>\n",
       "      <td>0.353297</td>\n",
       "      <td>0.669496</td>\n",
       "      <td>0.421874</td>\n",
       "      <td>0.294655</td>\n",
       "      <td>0.278447</td>\n",
       "      <td>0.469894</td>\n",
       "      <td>0.407751</td>\n",
       "      <td>0.423895</td>\n",
       "      <td>0.485573</td>\n",
       "      <td>0.408819</td>\n",
       "      <td>0.452509</td>\n",
       "      <td>0.435853</td>\n",
       "      <td>0.276935</td>\n",
       "    </tr>\n",
       "    <tr>\n",
       "      <th>SearchInfo</th>\n",
       "      <td>0.216570</td>\n",
       "      <td>0.337558</td>\n",
       "      <td>0.284337</td>\n",
       "      <td>0.316529</td>\n",
       "      <td>0.375221</td>\n",
       "      <td>0.306032</td>\n",
       "      <td>0.354878</td>\n",
       "      <td>0.383664</td>\n",
       "      <td>0.314032</td>\n",
       "      <td>0.262911</td>\n",
       "      <td>0.243529</td>\n",
       "      <td>0.321980</td>\n",
       "      <td>0.285572</td>\n",
       "      <td>0.345867</td>\n",
       "      <td>0.313582</td>\n",
       "      <td>0.296815</td>\n",
       "      <td>0.312397</td>\n",
       "      <td>0.278590</td>\n",
       "      <td>0.265477</td>\n",
       "    </tr>\n",
       "    <tr>\n",
       "      <th>RoomAvailability</th>\n",
       "      <td>0.741935</td>\n",
       "      <td>0.389678</td>\n",
       "      <td>0.342601</td>\n",
       "      <td>0.437004</td>\n",
       "      <td>0.513628</td>\n",
       "      <td>0.352568</td>\n",
       "      <td>0.375587</td>\n",
       "      <td>0.347926</td>\n",
       "      <td>0.501463</td>\n",
       "      <td>0.286273</td>\n",
       "      <td>0.951465</td>\n",
       "      <td>0.336040</td>\n",
       "      <td>0.358549</td>\n",
       "      <td>0.399856</td>\n",
       "      <td>0.376857</td>\n",
       "      <td>0.314460</td>\n",
       "      <td>0.329123</td>\n",
       "      <td>0.346996</td>\n",
       "      <td>0.314142</td>\n",
       "    </tr>\n",
       "    <tr>\n",
       "      <th>abstract TripInfo</th>\n",
       "      <td>0.309694</td>\n",
       "      <td>0.447248</td>\n",
       "      <td>0.407608</td>\n",
       "      <td>0.381822</td>\n",
       "      <td>0.526944</td>\n",
       "      <td>0.388864</td>\n",
       "      <td>0.443212</td>\n",
       "      <td>0.470621</td>\n",
       "      <td>0.444504</td>\n",
       "      <td>0.282988</td>\n",
       "      <td>0.349211</td>\n",
       "      <td>0.393881</td>\n",
       "      <td>0.417112</td>\n",
       "      <td>0.462737</td>\n",
       "      <td>0.410387</td>\n",
       "      <td>0.377314</td>\n",
       "      <td>0.371262</td>\n",
       "      <td>0.398651</td>\n",
       "      <td>0.395743</td>\n",
       "    </tr>\n",
       "    <tr>\n",
       "      <th>BookingInfo</th>\n",
       "      <td>0.358536</td>\n",
       "      <td>0.709164</td>\n",
       "      <td>0.481983</td>\n",
       "      <td>0.412283</td>\n",
       "      <td>0.686600</td>\n",
       "      <td>0.409606</td>\n",
       "      <td>0.480953</td>\n",
       "      <td>0.461323</td>\n",
       "      <td>0.471306</td>\n",
       "      <td>0.299744</td>\n",
       "      <td>0.370357</td>\n",
       "      <td>0.690625</td>\n",
       "      <td>0.354309</td>\n",
       "      <td>0.748232</td>\n",
       "      <td>0.650022</td>\n",
       "      <td>0.623538</td>\n",
       "      <td>0.652731</td>\n",
       "      <td>0.628089</td>\n",
       "      <td>0.388341</td>\n",
       "    </tr>\n",
       "    <tr>\n",
       "      <th>Booking</th>\n",
       "      <td>0.379004</td>\n",
       "      <td>0.822500</td>\n",
       "      <td>0.498164</td>\n",
       "      <td>0.420160</td>\n",
       "      <td>0.817368</td>\n",
       "      <td>0.440489</td>\n",
       "      <td>0.460300</td>\n",
       "      <td>0.470981</td>\n",
       "      <td>0.541474</td>\n",
       "      <td>0.307924</td>\n",
       "      <td>0.385852</td>\n",
       "      <td>0.825048</td>\n",
       "      <td>0.402585</td>\n",
       "      <td>0.840563</td>\n",
       "      <td>0.832399</td>\n",
       "      <td>0.778067</td>\n",
       "      <td>0.824380</td>\n",
       "      <td>0.764323</td>\n",
       "      <td>0.420664</td>\n",
       "    </tr>\n",
       "  </tbody>\n",
       "</table>\n",
       "</div>"
      ],
      "text/plain": [
       "                     RoomType  BookingStatus  PaymentType  HotelRating  \\\n",
       "RoomType             1.000000       0.000000     0.000000     0.000000   \n",
       "BookingStatus        0.417276       0.950814     0.524146     0.434472   \n",
       "PaymentType          0.403901       0.510761     0.945078     0.344794   \n",
       "HotelBookingManager  0.411749       0.700174     0.477571     0.616955   \n",
       "HotelChain           0.311024       0.354715     0.341594     0.663262   \n",
       "Traveller            0.230137       0.392869     0.304445     0.396521   \n",
       "BillingInformation   0.000000       0.000000     0.000000     0.000000   \n",
       "TravelPreference     0.280731       0.451204     0.379848     0.450227   \n",
       "Hotel                0.373558       0.427193     0.308634     0.732863   \n",
       "abstract Offer       0.191393       0.240495     0.318664     0.218947   \n",
       "SpecialOffer         0.225495       0.273841     0.357632     0.186603   \n",
       "RegularOffer         0.231364       0.244983     0.296277     0.229607   \n",
       "TravelSearch         0.202412       0.427927     0.329499     0.394108   \n",
       "SearchInfo           0.216570       0.337558     0.284337     0.316529   \n",
       "RoomAvailability     0.741935       0.389678     0.342601     0.437004   \n",
       "abstract TripInfo    0.309694       0.447248     0.407608     0.381822   \n",
       "BookingInfo          0.358536       0.709164     0.481983     0.412283   \n",
       "Booking              0.379004       0.822500     0.498164     0.420160   \n",
       "\n",
       "                     HotelBookingManagementSystem  BusinessTraveller  \\\n",
       "RoomType                                 0.000000           0.000000   \n",
       "BookingStatus                            0.717348           0.431577   \n",
       "PaymentType                              0.499869           0.392599   \n",
       "HotelBookingManager                      0.869835           0.470396   \n",
       "HotelChain                               0.693455           0.397784   \n",
       "Traveller                                0.474476           0.810079   \n",
       "BillingInformation                       0.000000           0.000000   \n",
       "TravelPreference                         0.543773           0.528986   \n",
       "Hotel                                    0.804965           0.390898   \n",
       "abstract Offer                           0.301632           0.277345   \n",
       "SpecialOffer                             0.329004           0.308101   \n",
       "RegularOffer                             0.296748           0.289574   \n",
       "TravelSearch                             0.536008           0.478838   \n",
       "SearchInfo                               0.375221           0.306032   \n",
       "RoomAvailability                         0.513628           0.352568   \n",
       "abstract TripInfo                        0.526944           0.388864   \n",
       "BookingInfo                              0.686600           0.409606   \n",
       "Booking                                  0.817368           0.440489   \n",
       "\n",
       "                     BillingInformation  TravelPreference     Hotel  \\\n",
       "RoomType                       0.000000          0.000000  0.000000   \n",
       "BookingStatus                  0.451960          0.474790  0.455107   \n",
       "PaymentType                    0.517732          0.393012  0.336580   \n",
       "HotelBookingManager            0.455592          0.469642  0.773188   \n",
       "HotelChain                     0.332584          0.355941  0.804447   \n",
       "Traveller                      0.431873          0.455774  0.420221   \n",
       "BillingInformation             1.000000          0.000000  0.000000   \n",
       "TravelPreference               0.407387          0.935521  0.431168   \n",
       "Hotel                          0.405672          0.409515  0.973505   \n",
       "abstract Offer                 0.276246          0.258333  0.249774   \n",
       "SpecialOffer                   0.312488          0.278985  0.216749   \n",
       "RegularOffer                   0.248966          0.274408  0.234121   \n",
       "TravelSearch                   0.353297          0.669496  0.421874   \n",
       "SearchInfo                     0.354878          0.383664  0.314032   \n",
       "RoomAvailability               0.375587          0.347926  0.501463   \n",
       "abstract TripInfo              0.443212          0.470621  0.444504   \n",
       "BookingInfo                    0.480953          0.461323  0.471306   \n",
       "Booking                        0.460300          0.470981  0.541474   \n",
       "\n",
       "                     SpecialOffer  RoomAvailability  RegularBooking  \\\n",
       "RoomType                 0.000000          0.000000        0.000000   \n",
       "BookingStatus            0.311174          0.428766        0.729993   \n",
       "PaymentType              0.403015          0.350155        0.463458   \n",
       "HotelBookingManager      0.317623          0.460285        0.707691   \n",
       "HotelChain               0.294366          0.375822        0.402391   \n",
       "Traveller                0.341422          0.315120        0.378396   \n",
       "BillingInformation       0.000000          0.000000        0.000000   \n",
       "TravelPreference         0.367817          0.368790        0.454925   \n",
       "Hotel                    0.326743          0.456470        0.477488   \n",
       "abstract Offer           0.669884          0.282248        0.215396   \n",
       "SpecialOffer             0.879239          0.246465        0.375119   \n",
       "RegularOffer             0.702109          0.261666        0.484782   \n",
       "TravelSearch             0.294655          0.278447        0.469894   \n",
       "SearchInfo               0.262911          0.243529        0.321980   \n",
       "RoomAvailability         0.286273          0.951465        0.336040   \n",
       "abstract TripInfo        0.282988          0.349211        0.393881   \n",
       "BookingInfo              0.299744          0.370357        0.690625   \n",
       "Booking                  0.307924          0.385852        0.825048   \n",
       "\n",
       "                     AccommodationDeal  abstract BookingStatus  \\\n",
       "RoomType                      0.000000                0.000000   \n",
       "BookingStatus                 0.365752                0.929731   \n",
       "PaymentType                   0.390009                0.517321   \n",
       "HotelBookingManager           0.416947                0.724261   \n",
       "HotelChain                    0.382943                0.357943   \n",
       "Traveller                     0.352967                0.394879   \n",
       "BillingInformation            0.000000                0.000000   \n",
       "TravelPreference              0.444117                0.453402   \n",
       "Hotel                         0.438255                0.447216   \n",
       "abstract Offer                0.293032                0.268474   \n",
       "SpecialOffer                  0.350346                0.260344   \n",
       "RegularOffer                  0.298581                0.214227   \n",
       "TravelSearch                  0.407751                0.423895   \n",
       "SearchInfo                    0.285572                0.345867   \n",
       "RoomAvailability              0.358549                0.399856   \n",
       "abstract TripInfo             0.417112                0.462737   \n",
       "BookingInfo                   0.354309                0.748232   \n",
       "Booking                       0.402585                0.840563   \n",
       "\n",
       "                     PreliminaryBooking  FinalizedBooking  ConfirmedBooking  \\\n",
       "RoomType                       0.000000          0.000000          0.000000   \n",
       "BookingStatus                  0.741056          0.680430          0.735933   \n",
       "PaymentType                    0.444215          0.450104          0.501350   \n",
       "HotelBookingManager            0.706409          0.648066          0.687924   \n",
       "HotelChain                     0.434351          0.387463          0.367899   \n",
       "Traveller                      0.452741          0.369274          0.402113   \n",
       "BillingInformation             0.000000          0.000000          0.000000   \n",
       "TravelPreference               0.518085          0.412377          0.450702   \n",
       "Hotel                          0.553960          0.419551          0.448087   \n",
       "abstract Offer                 0.204587          0.171866          0.276751   \n",
       "SpecialOffer                   0.260754          0.212200          0.277955   \n",
       "RegularOffer                   0.215107          0.174800          0.225428   \n",
       "TravelSearch                   0.485573          0.408819          0.452509   \n",
       "SearchInfo                     0.313582          0.296815          0.312397   \n",
       "RoomAvailability               0.376857          0.314460          0.329123   \n",
       "abstract TripInfo              0.410387          0.377314          0.371262   \n",
       "BookingInfo                    0.650022          0.623538          0.652731   \n",
       "Booking                        0.832399          0.778067          0.824380   \n",
       "\n",
       "                     CancelledBooking  CreditCardInformation  \n",
       "RoomType                     0.000000               0.000000  \n",
       "BookingStatus                0.725983               0.404945  \n",
       "PaymentType                  0.517498               0.572045  \n",
       "HotelBookingManager          0.677351               0.382796  \n",
       "HotelChain                   0.397377               0.291746  \n",
       "Traveller                    0.402763               0.343432  \n",
       "BillingInformation           0.000000               0.000000  \n",
       "TravelPreference             0.455096               0.351299  \n",
       "Hotel                        0.445587               0.340434  \n",
       "abstract Offer               0.286296               0.207283  \n",
       "SpecialOffer                 0.293607               0.239577  \n",
       "RegularOffer                 0.278195               0.202261  \n",
       "TravelSearch                 0.435853               0.276935  \n",
       "SearchInfo                   0.278590               0.265477  \n",
       "RoomAvailability             0.346996               0.314142  \n",
       "abstract TripInfo            0.398651               0.395743  \n",
       "BookingInfo                  0.628089               0.388341  \n",
       "Booking                      0.764323               0.420664  "
      ]
     },
     "execution_count": 4462,
     "metadata": {},
     "output_type": "execute_result"
    }
   ],
   "source": [
    "import pandas as pd\n",
    "\n",
    "df = pd.DataFrame(index=reference_class, columns=stu_class, data=similarity_mde)\n",
    "df"
   ]
  },
  {
   "cell_type": "markdown",
   "metadata": {
    "id": "qUHDc0UMRhZ4"
   },
   "source": [
    "### Stage 1.1.1 Mapping (enum / regular + abstract)"
   ]
  },
  {
   "cell_type": "code",
   "execution_count": 4463,
   "metadata": {
    "id": "jjiO8XGnRmJ-"
   },
   "outputs": [],
   "source": [
    "ref_enum = []\n",
    "ref_reg_cls = []\n",
    "stu_enum = []\n",
    "stu_reg_cls = []\n",
    "\n",
    "for enum in ref_cls.cls_name:\n",
    "  if ref_cls.cls_atr[enum][\"type\"] == \"enum\":\n",
    "    ref_enum.append(enum)\n",
    "  else:\n",
    "    ref_reg_cls.append(enum)\n",
    "\n",
    "for enum in stu_cls.cls_name:\n",
    "  if stu_cls.cls_atr[enum][\"type\"] == \"enum\":\n",
    "    stu_enum.append(enum)\n",
    "  else:\n",
    "    stu_reg_cls.append(enum)"
   ]
  },
  {
   "cell_type": "code",
   "execution_count": 4464,
   "metadata": {
    "id": "fJH4xn6wTUxJ"
   },
   "outputs": [
    {
     "name": "stdout",
     "output_type": "stream",
     "text": [
      "{'RoomType': {'RoomType': 0.9999999999999999, 'BookingStatus': 0, 'PaymentType': 0, 'HotelRating': 0, 'HotelBookingManagementSystem': 0, 'BusinessTraveller': 0, 'BillingInformation': 0, 'TravelPreference': 0, 'Hotel': 0, 'SpecialOffer': 0, 'RoomAvailability': 0, 'RegularBooking': 0, 'AccommodationDeal': 0, 'abstract BookingStatus': 0, 'PreliminaryBooking': 0, 'FinalizedBooking': 0, 'ConfirmedBooking': 0, 'CancelledBooking': 0, 'CreditCardInformation': 0}, 'BookingStatus': {'RoomType': 0.4172764538666226, 'BookingStatus': 0.9508141644108056, 'PaymentType': 0.5241455868344695, 'HotelRating': 0.4344716732215805, 'HotelBookingManagementSystem': 0.7173481002881363, 'BusinessTraveller': 0.43157678852641745, 'BillingInformation': 0.4519601960602197, 'TravelPreference': 0.47478994627586624, 'Hotel': 0.45510740827348384, 'SpecialOffer': 0.31117415882730476, 'RoomAvailability': 0.42876579936188375, 'RegularBooking': 0.7299933713778834, 'AccommodationDeal': 0.3657524818001095, 'abstract BookingStatus': 0.9297307809324904, 'PreliminaryBooking': 0.741055675632734, 'FinalizedBooking': 0.6804298300654439, 'ConfirmedBooking': 0.7359333721871881, 'CancelledBooking': 0.7259831180672285, 'CreditCardInformation': 0.40494502890884443}, 'PaymentType': {'RoomType': 0.4039014138339695, 'BookingStatus': 0.5107612648658314, 'PaymentType': 0.9450781679580915, 'HotelRating': 0.34479403391151353, 'HotelBookingManagementSystem': 0.499869391414029, 'BusinessTraveller': 0.39259855923193276, 'BillingInformation': 0.5177317169200558, 'TravelPreference': 0.3930115920575229, 'Hotel': 0.33657991764059236, 'SpecialOffer': 0.4030145571705338, 'RoomAvailability': 0.3501553700554024, 'RegularBooking': 0.46345815851007904, 'AccommodationDeal': 0.3900087830441126, 'abstract BookingStatus': 0.5173208726039744, 'PreliminaryBooking': 0.4442150304614836, 'FinalizedBooking': 0.4501044075625143, 'ConfirmedBooking': 0.5013504222826046, 'CancelledBooking': 0.5174980918350467, 'CreditCardInformation': 0.5720451665597368}, 'HotelBookingManager': {'RoomType': 0.41174873818418706, 'BookingStatus': 0.7001744558014601, 'PaymentType': 0.4775708245340258, 'HotelRating': 0.616954913768523, 'HotelBookingManagementSystem': 0.8698351859567232, 'BusinessTraveller': 0.47039623412197346, 'BillingInformation': 0.45559231871824624, 'TravelPreference': 0.4696423264353142, 'Hotel': 0.7731877308726139, 'SpecialOffer': 0.31762341021448315, 'RoomAvailability': 0.4602846243228759, 'RegularBooking': 0.7076913123032255, 'AccommodationDeal': 0.41694742516414113, 'abstract BookingStatus': 0.7242614393805529, 'PreliminaryBooking': 0.7064088027398905, 'FinalizedBooking': 0.6480655308835912, 'ConfirmedBooking': 0.6879240437857107, 'CancelledBooking': 0.6773509181175549, 'CreditCardInformation': 0.3827961496297293}, 'HotelChain': {'RoomType': 0.3110244479203478, 'BookingStatus': 0.3547147431458117, 'PaymentType': 0.3415943916915497, 'HotelRating': 0.663261511998284, 'HotelBookingManagementSystem': 0.6934554235298537, 'BusinessTraveller': 0.3977839435320199, 'BillingInformation': 0.3325841300969327, 'TravelPreference': 0.3559411066691811, 'Hotel': 0.8044469586394896, 'SpecialOffer': 0.29436648680873323, 'RoomAvailability': 0.37582241721240045, 'RegularBooking': 0.40239071736458876, 'AccommodationDeal': 0.3829432847692632, 'abstract BookingStatus': 0.35794341074861624, 'PreliminaryBooking': 0.43435128827296887, 'FinalizedBooking': 0.3874633209127576, 'ConfirmedBooking': 0.36789894795596, 'CancelledBooking': 0.3973767089943341, 'CreditCardInformation': 0.2917460429941375}, 'Traveller': {'RoomType': 0.23013657298724932, 'BookingStatus': 0.3928690669258207, 'PaymentType': 0.3044447655426876, 'HotelRating': 0.39652070624735136, 'HotelBookingManagementSystem': 0.4744757755932699, 'BusinessTraveller': 0.8100789244522781, 'BillingInformation': 0.4318728783675232, 'TravelPreference': 0.4557744624320355, 'Hotel': 0.420220993135763, 'SpecialOffer': 0.34142193075742877, 'RoomAvailability': 0.3151200032792556, 'RegularBooking': 0.37839558570970355, 'AccommodationDeal': 0.3529674163585853, 'abstract BookingStatus': 0.39487901988034735, 'PreliminaryBooking': 0.45274122133646844, 'FinalizedBooking': 0.3692743488696324, 'ConfirmedBooking': 0.402112832279228, 'CancelledBooking': 0.4027634708070619, 'CreditCardInformation': 0.3434323443018039}, 'BillingInformation': {'RoomType': 0, 'BookingStatus': 0, 'PaymentType': 0, 'HotelRating': 0, 'HotelBookingManagementSystem': 0, 'BusinessTraveller': 0, 'BillingInformation': 1.0, 'TravelPreference': 0, 'Hotel': 0, 'SpecialOffer': 0, 'RoomAvailability': 0, 'RegularBooking': 0, 'AccommodationDeal': 0, 'abstract BookingStatus': 0, 'PreliminaryBooking': 0, 'FinalizedBooking': 0, 'ConfirmedBooking': 0, 'CancelledBooking': 0, 'CreditCardInformation': 0}, 'TravelPreference': {'RoomType': 0.2807306780504749, 'BookingStatus': 0.451203887477458, 'PaymentType': 0.37984823095693054, 'HotelRating': 0.45022682756705623, 'HotelBookingManagementSystem': 0.5437734048545094, 'BusinessTraveller': 0.5289862175679639, 'BillingInformation': 0.40738708995930306, 'TravelPreference': 0.9355209902644763, 'Hotel': 0.4311677975439866, 'SpecialOffer': 0.36781664309666623, 'RoomAvailability': 0.3687900481086087, 'RegularBooking': 0.4549249570906668, 'AccommodationDeal': 0.4441168656473773, 'abstract BookingStatus': 0.45340155843108615, 'PreliminaryBooking': 0.5180845447202898, 'FinalizedBooking': 0.41237716349706505, 'ConfirmedBooking': 0.45070236497618854, 'CancelledBooking': 0.4550956534265939, 'CreditCardInformation': 0.3512985607975805}, 'Hotel': {'RoomType': 0.3735580395262369, 'BookingStatus': 0.4271928040642373, 'PaymentType': 0.30863395951045075, 'HotelRating': 0.7328630923219113, 'HotelBookingManagementSystem': 0.8049651346925886, 'BusinessTraveller': 0.3908978739960007, 'BillingInformation': 0.40567195971835257, 'TravelPreference': 0.40951544114380045, 'Hotel': 0.9735054063534423, 'SpecialOffer': 0.32674303507121427, 'RoomAvailability': 0.4564700437226081, 'RegularBooking': 0.47748787773794654, 'AccommodationDeal': 0.4382549387421512, 'abstract BookingStatus': 0.4472156018781397, 'PreliminaryBooking': 0.5539602326173806, 'FinalizedBooking': 0.4195509339623127, 'ConfirmedBooking': 0.4480865898921854, 'CancelledBooking': 0.44558743274477686, 'CreditCardInformation': 0.34043426259131304}, 'abstract Offer': {'RoomType': 0.19139312460792712, 'BookingStatus': 0.2404945326095949, 'PaymentType': 0.318663851040142, 'HotelRating': 0.21894713730724247, 'HotelBookingManagementSystem': 0.3016319762521462, 'BusinessTraveller': 0.2773452404229245, 'BillingInformation': 0.27624649798782697, 'TravelPreference': 0.2583326898496476, 'Hotel': 0.2497741520215963, 'SpecialOffer': 0.6698840505112456, 'RoomAvailability': 0.28224849498697435, 'RegularBooking': 0.21539589295259523, 'AccommodationDeal': 0.2930317457233206, 'abstract BookingStatus': 0.2684736391491285, 'PreliminaryBooking': 0.20458718768689776, 'FinalizedBooking': 0.17186575956542813, 'ConfirmedBooking': 0.2767511605726727, 'CancelledBooking': 0.28629579318339954, 'CreditCardInformation': 0.20728319582179175}, 'SpecialOffer': {'RoomType': 0.22549495327102437, 'BookingStatus': 0.27384119668788964, 'PaymentType': 0.35763157693569253, 'HotelRating': 0.18660283979241657, 'HotelBookingManagementSystem': 0.3290041675703177, 'BusinessTraveller': 0.30810066153765636, 'BillingInformation': 0.31248828815602503, 'TravelPreference': 0.27898467993620846, 'Hotel': 0.2167491388080674, 'SpecialOffer': 0.8792385274477823, 'RoomAvailability': 0.24646460607496848, 'RegularBooking': 0.37511867163595, 'AccommodationDeal': 0.3503459642852908, 'abstract BookingStatus': 0.260344216457445, 'PreliminaryBooking': 0.26075433529052783, 'FinalizedBooking': 0.2122001883581207, 'ConfirmedBooking': 0.27795470921608845, 'CancelledBooking': 0.2936072417963928, 'CreditCardInformation': 0.23957675507407622}, 'RegularOffer': {'RoomType': 0.23136419599959518, 'BookingStatus': 0.2449831605655995, 'PaymentType': 0.2962769864234177, 'HotelRating': 0.22960747526534223, 'HotelBookingManagementSystem': 0.2967480399358876, 'BusinessTraveller': 0.28957388770320464, 'BillingInformation': 0.24896601437244972, 'TravelPreference': 0.2744084504177535, 'Hotel': 0.23412135618654545, 'SpecialOffer': 0.7021094477748594, 'RoomAvailability': 0.26166606983979634, 'RegularBooking': 0.48478206503815124, 'AccommodationDeal': 0.2985813203104775, 'abstract BookingStatus': 0.21422691881146447, 'PreliminaryBooking': 0.21510694956882778, 'FinalizedBooking': 0.1747998154457849, 'ConfirmedBooking': 0.2254278118888562, 'CancelledBooking': 0.2781950243913486, 'CreditCardInformation': 0.2022612816943011}, 'TravelSearch': {'RoomType': 0.20241168349835406, 'BookingStatus': 0.42792733546056383, 'PaymentType': 0.3294987867559096, 'HotelRating': 0.39410794068259886, 'HotelBookingManagementSystem': 0.536007986126847, 'BusinessTraveller': 0.47883778991078474, 'BillingInformation': 0.35329705314728943, 'TravelPreference': 0.6694958038064424, 'Hotel': 0.42187363184039656, 'SpecialOffer': 0.29465459849751724, 'RoomAvailability': 0.2784468964032569, 'RegularBooking': 0.4698937383895884, 'AccommodationDeal': 0.40775082744127017, 'abstract BookingStatus': 0.4238950848814659, 'PreliminaryBooking': 0.485572650069221, 'FinalizedBooking': 0.4088194677815656, 'ConfirmedBooking': 0.45250925287093713, 'CancelledBooking': 0.4358526370209112, 'CreditCardInformation': 0.2769354947290074}, 'SearchInfo': {'RoomType': 0.21656966504684094, 'BookingStatus': 0.33755769676896, 'PaymentType': 0.2843370203314046, 'HotelRating': 0.31652857945529295, 'HotelBookingManagementSystem': 0.37522081936527285, 'BusinessTraveller': 0.30603177251342645, 'BillingInformation': 0.35487801646616607, 'TravelPreference': 0.38366439323454754, 'Hotel': 0.31403217064699024, 'SpecialOffer': 0.2629113440877725, 'RoomAvailability': 0.2435292641504188, 'RegularBooking': 0.3219801932093958, 'AccommodationDeal': 0.28557205753472903, 'abstract BookingStatus': 0.34586659564999195, 'PreliminaryBooking': 0.31358207299795, 'FinalizedBooking': 0.29681491491521994, 'ConfirmedBooking': 0.3123973388332996, 'CancelledBooking': 0.2785901061522741, 'CreditCardInformation': 0.2654770066327175}, 'RoomAvailability': {'RoomType': 0.7419351796255418, 'BookingStatus': 0.38967756853687635, 'PaymentType': 0.342600966807874, 'HotelRating': 0.43700400708311204, 'HotelBookingManagementSystem': 0.5136282514053347, 'BusinessTraveller': 0.3525678095279814, 'BillingInformation': 0.37558745396083515, 'TravelPreference': 0.34792560612337536, 'Hotel': 0.501463300554015, 'SpecialOffer': 0.28627284625093574, 'RoomAvailability': 0.9514648916520033, 'RegularBooking': 0.3360401835174088, 'AccommodationDeal': 0.3585485945891087, 'abstract BookingStatus': 0.39985642706732105, 'PreliminaryBooking': 0.376857146468117, 'FinalizedBooking': 0.3144596634372716, 'ConfirmedBooking': 0.32912326626491056, 'CancelledBooking': 0.34699600755749643, 'CreditCardInformation': 0.3141422563097124}, 'abstract TripInfo': {'RoomType': 0.30969441045557217, 'BookingStatus': 0.4472475527613428, 'PaymentType': 0.40760816148539014, 'HotelRating': 0.38182206999155777, 'HotelBookingManagementSystem': 0.5269440268153577, 'BusinessTraveller': 0.3888638038234919, 'BillingInformation': 0.44321217007391267, 'TravelPreference': 0.47062132143251223, 'Hotel': 0.4445036572948948, 'SpecialOffer': 0.28298805941679384, 'RoomAvailability': 0.3492105102023628, 'RegularBooking': 0.39388129936048344, 'AccommodationDeal': 0.41711216339581597, 'abstract BookingStatus': 0.46273731718756156, 'PreliminaryBooking': 0.4103868599139772, 'FinalizedBooking': 0.37731412644762297, 'ConfirmedBooking': 0.3712623642697399, 'CancelledBooking': 0.3986512823356586, 'CreditCardInformation': 0.39574290089040326}, 'BookingInfo': {'RoomType': 0.3585357176662239, 'BookingStatus': 0.7091637615410091, 'PaymentType': 0.4819825729474349, 'HotelRating': 0.4122833311871788, 'HotelBookingManagementSystem': 0.6865998829149721, 'BusinessTraveller': 0.4096063277535696, 'BillingInformation': 0.4809526569403834, 'TravelPreference': 0.46132278740468724, 'Hotel': 0.47130574282686166, 'SpecialOffer': 0.2997436271243093, 'RoomAvailability': 0.370356802993017, 'RegularBooking': 0.6906251822168806, 'AccommodationDeal': 0.35430917174246945, 'abstract BookingStatus': 0.7482317561091013, 'PreliminaryBooking': 0.6500220012518768, 'FinalizedBooking': 0.6235377847987777, 'ConfirmedBooking': 0.6527306944980774, 'CancelledBooking': 0.6280891716040705, 'CreditCardInformation': 0.38834136360899585}, 'Booking': {'RoomType': 0.37900408590152046, 'BookingStatus': 0.8225003919737094, 'PaymentType': 0.4981642258000504, 'HotelRating': 0.4201600046552888, 'HotelBookingManagementSystem': 0.8173684763715752, 'BusinessTraveller': 0.44048941327797997, 'BillingInformation': 0.4602995670460966, 'TravelPreference': 0.47098076136188666, 'Hotel': 0.5414744780790353, 'SpecialOffer': 0.3079238750778555, 'RoomAvailability': 0.3858522441944584, 'RegularBooking': 0.825047811879908, 'AccommodationDeal': 0.4025854738697759, 'abstract BookingStatus': 0.8405634229444594, 'PreliminaryBooking': 0.8323987962117928, 'FinalizedBooking': 0.7780668097957809, 'ConfirmedBooking': 0.8243796375647544, 'CancelledBooking': 0.7643226178762338, 'CreditCardInformation': 0.4206642806790647}}\n"
     ]
    },
    {
     "data": {
      "text/plain": [
       "[('RoomType', 'RoomType'),\n",
       " ('BookingStatus', 'BookingStatus'),\n",
       " ('PaymentType', 'PaymentType'),\n",
       " (None, 'HotelRating')]"
      ]
     },
     "execution_count": 4464,
     "metadata": {},
     "output_type": "execute_result"
    }
   ],
   "source": [
    "enum_mapping = match_classes(ref_enum, stu_enum, dict_sim_word, thresh = 0.5)\n",
    "enum_mapping[0]"
   ]
  },
  {
   "cell_type": "code",
   "execution_count": 4465,
   "metadata": {
    "id": "LW80yVXTT7jK"
   },
   "outputs": [
    {
     "name": "stdout",
     "output_type": "stream",
     "text": [
      "{'RoomType': {'RoomType': 0.9999999999999999, 'BookingStatus': 0, 'PaymentType': 0, 'HotelRating': 0, 'HotelBookingManagementSystem': 0, 'BusinessTraveller': 0, 'BillingInformation': 0, 'TravelPreference': 0, 'Hotel': 0, 'SpecialOffer': 0, 'RoomAvailability': 0, 'RegularBooking': 0, 'AccommodationDeal': 0, 'abstract BookingStatus': 0, 'PreliminaryBooking': 0, 'FinalizedBooking': 0, 'ConfirmedBooking': 0, 'CancelledBooking': 0, 'CreditCardInformation': 0}, 'BookingStatus': {'RoomType': 0.4172764538666226, 'BookingStatus': 0.9508141644108056, 'PaymentType': 0.5241455868344695, 'HotelRating': 0.4344716732215805, 'HotelBookingManagementSystem': 0.7173481002881363, 'BusinessTraveller': 0.43157678852641745, 'BillingInformation': 0.4519601960602197, 'TravelPreference': 0.47478994627586624, 'Hotel': 0.45510740827348384, 'SpecialOffer': 0.31117415882730476, 'RoomAvailability': 0.42876579936188375, 'RegularBooking': 0.7299933713778834, 'AccommodationDeal': 0.3657524818001095, 'abstract BookingStatus': 0.9297307809324904, 'PreliminaryBooking': 0.741055675632734, 'FinalizedBooking': 0.6804298300654439, 'ConfirmedBooking': 0.7359333721871881, 'CancelledBooking': 0.7259831180672285, 'CreditCardInformation': 0.40494502890884443}, 'PaymentType': {'RoomType': 0.4039014138339695, 'BookingStatus': 0.5107612648658314, 'PaymentType': 0.9450781679580915, 'HotelRating': 0.34479403391151353, 'HotelBookingManagementSystem': 0.499869391414029, 'BusinessTraveller': 0.39259855923193276, 'BillingInformation': 0.5177317169200558, 'TravelPreference': 0.3930115920575229, 'Hotel': 0.33657991764059236, 'SpecialOffer': 0.4030145571705338, 'RoomAvailability': 0.3501553700554024, 'RegularBooking': 0.46345815851007904, 'AccommodationDeal': 0.3900087830441126, 'abstract BookingStatus': 0.5173208726039744, 'PreliminaryBooking': 0.4442150304614836, 'FinalizedBooking': 0.4501044075625143, 'ConfirmedBooking': 0.5013504222826046, 'CancelledBooking': 0.5174980918350467, 'CreditCardInformation': 0.5720451665597368}, 'HotelBookingManager': {'RoomType': 0.41174873818418706, 'BookingStatus': 0.7001744558014601, 'PaymentType': 0.4775708245340258, 'HotelRating': 0.616954913768523, 'HotelBookingManagementSystem': 0.8698351859567232, 'BusinessTraveller': 0.47039623412197346, 'BillingInformation': 0.45559231871824624, 'TravelPreference': 0.4696423264353142, 'Hotel': 0.7731877308726139, 'SpecialOffer': 0.31762341021448315, 'RoomAvailability': 0.4602846243228759, 'RegularBooking': 0.7076913123032255, 'AccommodationDeal': 0.41694742516414113, 'abstract BookingStatus': 0.7242614393805529, 'PreliminaryBooking': 0.7064088027398905, 'FinalizedBooking': 0.6480655308835912, 'ConfirmedBooking': 0.6879240437857107, 'CancelledBooking': 0.6773509181175549, 'CreditCardInformation': 0.3827961496297293}, 'HotelChain': {'RoomType': 0.3110244479203478, 'BookingStatus': 0.3547147431458117, 'PaymentType': 0.3415943916915497, 'HotelRating': 0.663261511998284, 'HotelBookingManagementSystem': 0.6934554235298537, 'BusinessTraveller': 0.3977839435320199, 'BillingInformation': 0.3325841300969327, 'TravelPreference': 0.3559411066691811, 'Hotel': 0.8044469586394896, 'SpecialOffer': 0.29436648680873323, 'RoomAvailability': 0.37582241721240045, 'RegularBooking': 0.40239071736458876, 'AccommodationDeal': 0.3829432847692632, 'abstract BookingStatus': 0.35794341074861624, 'PreliminaryBooking': 0.43435128827296887, 'FinalizedBooking': 0.3874633209127576, 'ConfirmedBooking': 0.36789894795596, 'CancelledBooking': 0.3973767089943341, 'CreditCardInformation': 0.2917460429941375}, 'Traveller': {'RoomType': 0.23013657298724932, 'BookingStatus': 0.3928690669258207, 'PaymentType': 0.3044447655426876, 'HotelRating': 0.39652070624735136, 'HotelBookingManagementSystem': 0.4744757755932699, 'BusinessTraveller': 0.8100789244522781, 'BillingInformation': 0.4318728783675232, 'TravelPreference': 0.4557744624320355, 'Hotel': 0.420220993135763, 'SpecialOffer': 0.34142193075742877, 'RoomAvailability': 0.3151200032792556, 'RegularBooking': 0.37839558570970355, 'AccommodationDeal': 0.3529674163585853, 'abstract BookingStatus': 0.39487901988034735, 'PreliminaryBooking': 0.45274122133646844, 'FinalizedBooking': 0.3692743488696324, 'ConfirmedBooking': 0.402112832279228, 'CancelledBooking': 0.4027634708070619, 'CreditCardInformation': 0.3434323443018039}, 'BillingInformation': {'RoomType': 0, 'BookingStatus': 0, 'PaymentType': 0, 'HotelRating': 0, 'HotelBookingManagementSystem': 0, 'BusinessTraveller': 0, 'BillingInformation': 1.0, 'TravelPreference': 0, 'Hotel': 0, 'SpecialOffer': 0, 'RoomAvailability': 0, 'RegularBooking': 0, 'AccommodationDeal': 0, 'abstract BookingStatus': 0, 'PreliminaryBooking': 0, 'FinalizedBooking': 0, 'ConfirmedBooking': 0, 'CancelledBooking': 0, 'CreditCardInformation': 0}, 'TravelPreference': {'RoomType': 0.2807306780504749, 'BookingStatus': 0.451203887477458, 'PaymentType': 0.37984823095693054, 'HotelRating': 0.45022682756705623, 'HotelBookingManagementSystem': 0.5437734048545094, 'BusinessTraveller': 0.5289862175679639, 'BillingInformation': 0.40738708995930306, 'TravelPreference': 0.9355209902644763, 'Hotel': 0.4311677975439866, 'SpecialOffer': 0.36781664309666623, 'RoomAvailability': 0.3687900481086087, 'RegularBooking': 0.4549249570906668, 'AccommodationDeal': 0.4441168656473773, 'abstract BookingStatus': 0.45340155843108615, 'PreliminaryBooking': 0.5180845447202898, 'FinalizedBooking': 0.41237716349706505, 'ConfirmedBooking': 0.45070236497618854, 'CancelledBooking': 0.4550956534265939, 'CreditCardInformation': 0.3512985607975805}, 'Hotel': {'RoomType': 0.3735580395262369, 'BookingStatus': 0.4271928040642373, 'PaymentType': 0.30863395951045075, 'HotelRating': 0.7328630923219113, 'HotelBookingManagementSystem': 0.8049651346925886, 'BusinessTraveller': 0.3908978739960007, 'BillingInformation': 0.40567195971835257, 'TravelPreference': 0.40951544114380045, 'Hotel': 0.9735054063534423, 'SpecialOffer': 0.32674303507121427, 'RoomAvailability': 0.4564700437226081, 'RegularBooking': 0.47748787773794654, 'AccommodationDeal': 0.4382549387421512, 'abstract BookingStatus': 0.4472156018781397, 'PreliminaryBooking': 0.5539602326173806, 'FinalizedBooking': 0.4195509339623127, 'ConfirmedBooking': 0.4480865898921854, 'CancelledBooking': 0.44558743274477686, 'CreditCardInformation': 0.34043426259131304}, 'abstract Offer': {'RoomType': 0.19139312460792712, 'BookingStatus': 0.2404945326095949, 'PaymentType': 0.318663851040142, 'HotelRating': 0.21894713730724247, 'HotelBookingManagementSystem': 0.3016319762521462, 'BusinessTraveller': 0.2773452404229245, 'BillingInformation': 0.27624649798782697, 'TravelPreference': 0.2583326898496476, 'Hotel': 0.2497741520215963, 'SpecialOffer': 0.6698840505112456, 'RoomAvailability': 0.28224849498697435, 'RegularBooking': 0.21539589295259523, 'AccommodationDeal': 0.2930317457233206, 'abstract BookingStatus': 0.2684736391491285, 'PreliminaryBooking': 0.20458718768689776, 'FinalizedBooking': 0.17186575956542813, 'ConfirmedBooking': 0.2767511605726727, 'CancelledBooking': 0.28629579318339954, 'CreditCardInformation': 0.20728319582179175}, 'SpecialOffer': {'RoomType': 0.22549495327102437, 'BookingStatus': 0.27384119668788964, 'PaymentType': 0.35763157693569253, 'HotelRating': 0.18660283979241657, 'HotelBookingManagementSystem': 0.3290041675703177, 'BusinessTraveller': 0.30810066153765636, 'BillingInformation': 0.31248828815602503, 'TravelPreference': 0.27898467993620846, 'Hotel': 0.2167491388080674, 'SpecialOffer': 0.8792385274477823, 'RoomAvailability': 0.24646460607496848, 'RegularBooking': 0.37511867163595, 'AccommodationDeal': 0.3503459642852908, 'abstract BookingStatus': 0.260344216457445, 'PreliminaryBooking': 0.26075433529052783, 'FinalizedBooking': 0.2122001883581207, 'ConfirmedBooking': 0.27795470921608845, 'CancelledBooking': 0.2936072417963928, 'CreditCardInformation': 0.23957675507407622}, 'RegularOffer': {'RoomType': 0.23136419599959518, 'BookingStatus': 0.2449831605655995, 'PaymentType': 0.2962769864234177, 'HotelRating': 0.22960747526534223, 'HotelBookingManagementSystem': 0.2967480399358876, 'BusinessTraveller': 0.28957388770320464, 'BillingInformation': 0.24896601437244972, 'TravelPreference': 0.2744084504177535, 'Hotel': 0.23412135618654545, 'SpecialOffer': 0.7021094477748594, 'RoomAvailability': 0.26166606983979634, 'RegularBooking': 0.48478206503815124, 'AccommodationDeal': 0.2985813203104775, 'abstract BookingStatus': 0.21422691881146447, 'PreliminaryBooking': 0.21510694956882778, 'FinalizedBooking': 0.1747998154457849, 'ConfirmedBooking': 0.2254278118888562, 'CancelledBooking': 0.2781950243913486, 'CreditCardInformation': 0.2022612816943011}, 'TravelSearch': {'RoomType': 0.20241168349835406, 'BookingStatus': 0.42792733546056383, 'PaymentType': 0.3294987867559096, 'HotelRating': 0.39410794068259886, 'HotelBookingManagementSystem': 0.536007986126847, 'BusinessTraveller': 0.47883778991078474, 'BillingInformation': 0.35329705314728943, 'TravelPreference': 0.6694958038064424, 'Hotel': 0.42187363184039656, 'SpecialOffer': 0.29465459849751724, 'RoomAvailability': 0.2784468964032569, 'RegularBooking': 0.4698937383895884, 'AccommodationDeal': 0.40775082744127017, 'abstract BookingStatus': 0.4238950848814659, 'PreliminaryBooking': 0.485572650069221, 'FinalizedBooking': 0.4088194677815656, 'ConfirmedBooking': 0.45250925287093713, 'CancelledBooking': 0.4358526370209112, 'CreditCardInformation': 0.2769354947290074}, 'SearchInfo': {'RoomType': 0.21656966504684094, 'BookingStatus': 0.33755769676896, 'PaymentType': 0.2843370203314046, 'HotelRating': 0.31652857945529295, 'HotelBookingManagementSystem': 0.37522081936527285, 'BusinessTraveller': 0.30603177251342645, 'BillingInformation': 0.35487801646616607, 'TravelPreference': 0.38366439323454754, 'Hotel': 0.31403217064699024, 'SpecialOffer': 0.2629113440877725, 'RoomAvailability': 0.2435292641504188, 'RegularBooking': 0.3219801932093958, 'AccommodationDeal': 0.28557205753472903, 'abstract BookingStatus': 0.34586659564999195, 'PreliminaryBooking': 0.31358207299795, 'FinalizedBooking': 0.29681491491521994, 'ConfirmedBooking': 0.3123973388332996, 'CancelledBooking': 0.2785901061522741, 'CreditCardInformation': 0.2654770066327175}, 'RoomAvailability': {'RoomType': 0.7419351796255418, 'BookingStatus': 0.38967756853687635, 'PaymentType': 0.342600966807874, 'HotelRating': 0.43700400708311204, 'HotelBookingManagementSystem': 0.5136282514053347, 'BusinessTraveller': 0.3525678095279814, 'BillingInformation': 0.37558745396083515, 'TravelPreference': 0.34792560612337536, 'Hotel': 0.501463300554015, 'SpecialOffer': 0.28627284625093574, 'RoomAvailability': 0.9514648916520033, 'RegularBooking': 0.3360401835174088, 'AccommodationDeal': 0.3585485945891087, 'abstract BookingStatus': 0.39985642706732105, 'PreliminaryBooking': 0.376857146468117, 'FinalizedBooking': 0.3144596634372716, 'ConfirmedBooking': 0.32912326626491056, 'CancelledBooking': 0.34699600755749643, 'CreditCardInformation': 0.3141422563097124}, 'abstract TripInfo': {'RoomType': 0.30969441045557217, 'BookingStatus': 0.4472475527613428, 'PaymentType': 0.40760816148539014, 'HotelRating': 0.38182206999155777, 'HotelBookingManagementSystem': 0.5269440268153577, 'BusinessTraveller': 0.3888638038234919, 'BillingInformation': 0.44321217007391267, 'TravelPreference': 0.47062132143251223, 'Hotel': 0.4445036572948948, 'SpecialOffer': 0.28298805941679384, 'RoomAvailability': 0.3492105102023628, 'RegularBooking': 0.39388129936048344, 'AccommodationDeal': 0.41711216339581597, 'abstract BookingStatus': 0.46273731718756156, 'PreliminaryBooking': 0.4103868599139772, 'FinalizedBooking': 0.37731412644762297, 'ConfirmedBooking': 0.3712623642697399, 'CancelledBooking': 0.3986512823356586, 'CreditCardInformation': 0.39574290089040326}, 'BookingInfo': {'RoomType': 0.3585357176662239, 'BookingStatus': 0.7091637615410091, 'PaymentType': 0.4819825729474349, 'HotelRating': 0.4122833311871788, 'HotelBookingManagementSystem': 0.6865998829149721, 'BusinessTraveller': 0.4096063277535696, 'BillingInformation': 0.4809526569403834, 'TravelPreference': 0.46132278740468724, 'Hotel': 0.47130574282686166, 'SpecialOffer': 0.2997436271243093, 'RoomAvailability': 0.370356802993017, 'RegularBooking': 0.6906251822168806, 'AccommodationDeal': 0.35430917174246945, 'abstract BookingStatus': 0.7482317561091013, 'PreliminaryBooking': 0.6500220012518768, 'FinalizedBooking': 0.6235377847987777, 'ConfirmedBooking': 0.6527306944980774, 'CancelledBooking': 0.6280891716040705, 'CreditCardInformation': 0.38834136360899585}, 'Booking': {'RoomType': 0.37900408590152046, 'BookingStatus': 0.8225003919737094, 'PaymentType': 0.4981642258000504, 'HotelRating': 0.4201600046552888, 'HotelBookingManagementSystem': 0.8173684763715752, 'BusinessTraveller': 0.44048941327797997, 'BillingInformation': 0.4602995670460966, 'TravelPreference': 0.47098076136188666, 'Hotel': 0.5414744780790353, 'SpecialOffer': 0.3079238750778555, 'RoomAvailability': 0.3858522441944584, 'RegularBooking': 0.825047811879908, 'AccommodationDeal': 0.4025854738697759, 'abstract BookingStatus': 0.8405634229444594, 'PreliminaryBooking': 0.8323987962117928, 'FinalizedBooking': 0.7780668097957809, 'ConfirmedBooking': 0.8243796375647544, 'CancelledBooking': 0.7643226178762338, 'CreditCardInformation': 0.4206642806790647}}\n"
     ]
    },
    {
     "data": {
      "text/plain": [
       "[('HotelBookingManager', 'RegularBooking'),\n",
       " ('HotelChain', 'HotelBookingManagementSystem'),\n",
       " ('Traveller', 'BusinessTraveller'),\n",
       " ('BillingInformation', 'BillingInformation'),\n",
       " ('TravelPreference', 'PreliminaryBooking'),\n",
       " ('Hotel', 'Hotel'),\n",
       " ('abstract Offer', None),\n",
       " ('SpecialOffer', 'SpecialOffer'),\n",
       " ('RegularOffer', None),\n",
       " ('TravelSearch', 'TravelPreference'),\n",
       " ('SearchInfo', None),\n",
       " ('RoomAvailability', 'RoomAvailability'),\n",
       " ('abstract TripInfo', None),\n",
       " ('BookingInfo', 'abstract BookingStatus'),\n",
       " ('Booking', 'ConfirmedBooking'),\n",
       " (None, 'AccommodationDeal'),\n",
       " (None, 'FinalizedBooking'),\n",
       " (None, 'CancelledBooking'),\n",
       " (None, 'CreditCardInformation')]"
      ]
     },
     "execution_count": 4465,
     "metadata": {},
     "output_type": "execute_result"
    }
   ],
   "source": [
    "cls_mapping = match_classes(ref_reg_cls, stu_reg_cls, dict_sim_word, thresh = 0.5)\n",
    "cls_mapping[0]"
   ]
  },
  {
   "cell_type": "code",
   "execution_count": 4466,
   "metadata": {
    "id": "X6xo0l99VeXm"
   },
   "outputs": [],
   "source": [
    "mapping = enum_mapping[0] + cls_mapping[0]\n",
    "\n",
    "for map in mapping:\n",
    "  if map[0] and map[1]:\n",
    "    ref_cls.cls_atr[map[0]]['score'] = 1\n",
    "    ref_cls.cls_atr[map[0]]['counterpart'] = map[1]\n",
    "\n",
    "    stu_cls.cls_atr[map[1]]['score'] = 1\n",
    "    stu_cls.cls_atr[map[1]]['counterpart'] = map[0]\n",
    "\n",
    "    if ref_cls.cls_atr[map[0]][\"type\"] !=  stu_cls.cls_atr[map[1]][\"type\"]:\n",
    "      # type mismatch\n",
    "      ref_cls.cls_atr[map[0]]['score'] = 0.5\n",
    "      stu_cls.cls_atr[map[1]][\"score\"] = 0.5"
   ]
  },
  {
   "cell_type": "code",
   "execution_count": 4467,
   "metadata": {
    "id": "zndCFvnoWS7D"
   },
   "outputs": [
    {
     "data": {
      "text/plain": [
       "{'RoomType': {'score': 1,\n",
       "  'type': 'enum',\n",
       "  'dsl': 'RoomType(SINGLE, DOUBLE, TWIN)',\n",
       "  'counterpart': 'RoomType',\n",
       "  'attributes': {'SINGLE': {'score': 0, 'counterpart': None},\n",
       "   'DOUBLE': {'score': 0, 'counterpart': None},\n",
       "   'TWIN': {'score': 0, 'counterpart': None}}},\n",
       " 'BookingStatus': {'score': 1,\n",
       "  'type': 'enum',\n",
       "  'dsl': 'BookingStatus(FINALIZED, CONFIRMED, CANCELLED_BY_HBMS, PRELIMINARY, CANCELLED_BY_TRAVELLER, CANCELLED_BY_HOTEL)',\n",
       "  'counterpart': 'BookingStatus',\n",
       "  'attributes': {'FINALIZED': {'score': 0, 'counterpart': None},\n",
       "   'CONFIRMED': {'score': 0, 'counterpart': None},\n",
       "   'CANCELLED_BY_HBMS': {'score': 0, 'counterpart': None},\n",
       "   'PRELIMINARY': {'score': 0, 'counterpart': None},\n",
       "   'CANCELLED_BY_TRAVELLER': {'score': 0, 'counterpart': None},\n",
       "   'CANCELLED_BY_HOTEL': {'score': 0, 'counterpart': None}}},\n",
       " 'PaymentType': {'score': 1,\n",
       "  'type': 'enum',\n",
       "  'dsl': 'PaymentType (PREPAID, PAID_AT_HOTEL)',\n",
       "  'counterpart': 'PaymentType',\n",
       "  'attributes': {'PREPAID': {'score': 0, 'counterpart': None},\n",
       "   'PAID_AT_HOTEL': {'score': 0, 'counterpart': None}}},\n",
       " 'HotelBookingManager': {'score': 1,\n",
       "  'type': 'regular',\n",
       "  'dsl': 'HotelBookingManager()',\n",
       "  'counterpart': 'RegularBooking',\n",
       "  'attributes': {}},\n",
       " 'HotelChain': {'score': 1,\n",
       "  'type': 'regular',\n",
       "  'dsl': 'HotelChain()',\n",
       "  'counterpart': 'HotelBookingManagementSystem',\n",
       "  'attributes': {}},\n",
       " 'Traveller': {'score': 1,\n",
       "  'type': 'regular',\n",
       "  'dsl': 'Traveller (string name, int reliabilityRating)',\n",
       "  'counterpart': 'BusinessTraveller',\n",
       "  'attributes': {'string name': {'score': 0, 'counterpart': None},\n",
       "   'int reliabilityRating': {'score': 0, 'counterpart': None}}},\n",
       " 'BillingInformation': {'score': 1,\n",
       "  'type': 'regular',\n",
       "  'dsl': 'BillingInformation(string companyName, string address)',\n",
       "  'counterpart': 'BillingInformation',\n",
       "  'attributes': {'string companyName': {'score': 0, 'counterpart': None},\n",
       "   'string address': {'score': 0, 'counterpart': None}}},\n",
       " 'TravelPreference': {'score': 1,\n",
       "  'type': 'regular',\n",
       "  'dsl': 'TravelPreference(string preference, string value)',\n",
       "  'counterpart': 'PreliminaryBooking',\n",
       "  'attributes': {'string preference': {'score': 0, 'counterpart': None},\n",
       "   'string value': {'score': 0, 'counterpart': None}}},\n",
       " 'Hotel': {'score': 1,\n",
       "  'type': 'regular',\n",
       "  'dsl': 'Hotel (string city, string country, string area)',\n",
       "  'counterpart': 'Hotel',\n",
       "  'attributes': {'string city': {'score': 0, 'counterpart': None},\n",
       "   'string country': {'score': 0, 'counterpart': None},\n",
       "   'string area': {'score': 0, 'counterpart': None}}},\n",
       " 'abstract Offer': {'score': 0,\n",
       "  'type': 'abstract',\n",
       "  'dsl': 'abstract Offer()',\n",
       "  'counterpart': None,\n",
       "  'attributes': {}},\n",
       " 'SpecialOffer': {'score': 1,\n",
       "  'type': 'regular',\n",
       "  'dsl': 'SpecialOffer()',\n",
       "  'counterpart': 'SpecialOffer',\n",
       "  'attributes': {}},\n",
       " 'RegularOffer': {'score': 0,\n",
       "  'type': 'regular',\n",
       "  'dsl': 'RegularOffer()',\n",
       "  'counterpart': None,\n",
       "  'attributes': {}},\n",
       " 'TravelSearch': {'score': 1,\n",
       "  'type': 'regular',\n",
       "  'dsl': 'TravelSearch()',\n",
       "  'counterpart': 'TravelPreference',\n",
       "  'attributes': {}},\n",
       " 'SearchInfo': {'score': 0,\n",
       "  'type': 'regular',\n",
       "  'dsl': 'SearchInfo()',\n",
       "  'counterpart': None,\n",
       "  'attributes': {}},\n",
       " 'RoomAvailability': {'score': 1,\n",
       "  'type': 'regular',\n",
       "  'dsl': 'RoomAvailability()',\n",
       "  'counterpart': 'RoomAvailability',\n",
       "  'attributes': {}},\n",
       " 'abstract TripInfo': {'score': 0,\n",
       "  'type': 'abstract',\n",
       "  'dsl': 'abstract TripInfo(int numberOfRooms, RoomType roomType, date arrivalDate, date departureDate, float budgetPerNight)',\n",
       "  'counterpart': None,\n",
       "  'attributes': {'int numberOfRooms': {'score': 0, 'counterpart': None},\n",
       "   'RoomType roomType': {'score': 0, 'counterpart': None},\n",
       "   'date arrivalDate': {'score': 0, 'counterpart': None},\n",
       "   'date departureDate': {'score': 0, 'counterpart': None},\n",
       "   'float budgetPerNight': {'score': 0, 'counterpart': None}}},\n",
       " 'BookingInfo': {'score': 0.5,\n",
       "  'type': 'regular',\n",
       "  'dsl': 'BookingInfo()',\n",
       "  'counterpart': 'abstract BookingStatus',\n",
       "  'attributes': {}},\n",
       " 'Booking': {'score': 1,\n",
       "  'type': 'regular',\n",
       "  'dsl': 'Booking (int bookingId, date cancellationDeadline, string creditCardNumber, BookingStatus bookingStatus, PaymentType paymentType, date confirmationDate, float paidAmount)',\n",
       "  'counterpart': 'ConfirmedBooking',\n",
       "  'attributes': {'int bookingId': {'score': 0, 'counterpart': None},\n",
       "   'date cancellationDeadline': {'score': 0, 'counterpart': None},\n",
       "   'string creditCardNumber': {'score': 0, 'counterpart': None},\n",
       "   'BookingStatus bookingStatus': {'score': 0, 'counterpart': None},\n",
       "   'PaymentType paymentType': {'score': 0, 'counterpart': None},\n",
       "   'date confirmationDate': {'score': 0, 'counterpart': None},\n",
       "   'float paidAmount': {'score': 0, 'counterpart': None}}}}"
      ]
     },
     "execution_count": 4467,
     "metadata": {},
     "output_type": "execute_result"
    }
   ],
   "source": [
    "ref_cls.cls_atr"
   ]
  },
  {
   "cell_type": "markdown",
   "metadata": {
    "id": "8y1nt_fsXDwB"
   },
   "source": [
    "## Stage 1.2 Class Mapping (with all info)"
   ]
  },
  {
   "cell_type": "code",
   "execution_count": 4468,
   "metadata": {
    "id": "8FOiiOpfXM5c"
   },
   "outputs": [],
   "source": [
    "ref_classes = []\n",
    "stu_classes = []\n",
    "\n",
    "for cls in ref_cls.cls_name:\n",
    "  if ref_cls.cls_atr[cls][\"counterpart\"] == None:\n",
    "    ref_classes.append(cls)\n",
    "\n",
    "for cls in stu_cls.cls_name:\n",
    "  if stu_cls.cls_atr[cls][\"counterpart\"] == None:\n",
    "    stu_classes.append(cls)"
   ]
  },
  {
   "cell_type": "code",
   "execution_count": 4469,
   "metadata": {
    "id": "l_HDKCa3XmuR"
   },
   "outputs": [],
   "source": [
    "# get name embedding\n",
    "# all info\n",
    "similarity_all = []\n",
    "mde_embedding = sgram_mde\n",
    "threshold = 0.7\n",
    "\n",
    "\n",
    "\n",
    "\n",
    "# reuse saved embedding result...\n",
    "# may cause problem\n",
    "# if os.path.exists(student_dir + \"ada_embedding.txt\"):\n",
    "#   pass\n",
    "  \n",
    "  # with open(student_dir + \"ada_embedding.txt\", 'r') as json_file:\n",
    "  #   dict_sim_all = json.load(json_file)\n",
    "\n",
    "if False:\n",
    "  pass\n",
    "\n",
    "else:\n",
    "  for index, node in enumerate(ref_cls.cls_name):\n",
    "    text_1 = get_all_info(index, ref_cls.cls_name, ref_cls.raw_dsl, ref_cls.rel.raw_dsl, True)\n",
    "    emb_i = get_embedding(text_1)\n",
    "    mde_pair = []\n",
    "    for j, stu_node in enumerate(stu_cls.cls_name):\n",
    "      text_2 = get_all_info(j, stu_cls.cls_name, stu_cls.raw_dsl, stu_cls.rel.raw_dsl, True)\n",
    "      emb_j = get_embedding(text_2)\n",
    "      mde_sim = cosine_distance(emb_i, emb_j)\n",
    "      mde_pair.append(mde_sim)\n",
    "\n",
    "    # apply third quartile\n",
    "    similarity_all.append(mde_pair)\n",
    "\n",
    "  dict_sim_all = {}\n",
    "  for i in range(len(ref_cls.cls_name)):\n",
    "    dict_sim_all[ref_cls.cls_name[i]] = {}\n",
    "    for j in range(len(stu_cls.cls_name)):\n",
    "      dict_sim_all[ref_cls.cls_name[i]][stu_cls.cls_name[j]] = similarity_all[i][j]\n",
    "\n",
    "\n",
    "\n"
   ]
  },
  {
   "cell_type": "code",
   "execution_count": 4470,
   "metadata": {},
   "outputs": [],
   "source": [
    "with open(student_dir + \"ada_embedding.txt\", 'w') as json_file:\n",
    "    json.dump(dict_sim_all, json_file)"
   ]
  },
  {
   "cell_type": "code",
   "execution_count": 4471,
   "metadata": {},
   "outputs": [
    {
     "data": {
      "text/plain": [
       "'results/gpt-4/yujing/08_HBMS/'"
      ]
     },
     "execution_count": 4471,
     "metadata": {},
     "output_type": "execute_result"
    }
   ],
   "source": [
    "student_dir"
   ]
  },
  {
   "cell_type": "code",
   "execution_count": 4472,
   "metadata": {},
   "outputs": [
    {
     "data": {
      "text/plain": [
       "['abstract Offer', 'RegularOffer', 'SearchInfo', 'abstract TripInfo']"
      ]
     },
     "execution_count": 4472,
     "metadata": {},
     "output_type": "execute_result"
    }
   ],
   "source": [
    "ref_classes"
   ]
  },
  {
   "cell_type": "code",
   "execution_count": 4473,
   "metadata": {},
   "outputs": [
    {
     "data": {
      "text/plain": [
       "['HotelRating',\n",
       " 'AccommodationDeal',\n",
       " 'FinalizedBooking',\n",
       " 'CancelledBooking',\n",
       " 'CreditCardInformation']"
      ]
     },
     "execution_count": 4473,
     "metadata": {},
     "output_type": "execute_result"
    }
   ],
   "source": [
    "stu_classes"
   ]
  },
  {
   "cell_type": "code",
   "execution_count": 4474,
   "metadata": {},
   "outputs": [
    {
     "data": {
      "text/plain": [
       "{'RoomType': {'RoomType': 0.9909474228763404,\n",
       "  'BookingStatus': 0.803173552380923,\n",
       "  'PaymentType': 0.8356707840767582,\n",
       "  'HotelRating': 0.8656606555287104,\n",
       "  'HotelBookingManagementSystem': 0.8064718432994785,\n",
       "  'BusinessTraveller': 0.7864257585806163,\n",
       "  'BillingInformation': 0.7348513553502879,\n",
       "  'TravelPreference': 0.8377312087593446,\n",
       "  'Hotel': 0.8208074443952517,\n",
       "  'SpecialOffer': 0.8013737019585344,\n",
       "  'RoomAvailability': 0.8344231884840786,\n",
       "  'RegularBooking': 0.7748748241275621,\n",
       "  'AccommodationDeal': 0.8101307113313594,\n",
       "  'abstract BookingStatus': 0.7869862865542151,\n",
       "  'PreliminaryBooking': 0.7854488525915789,\n",
       "  'FinalizedBooking': 0.7426128517704281,\n",
       "  'ConfirmedBooking': 0.752288714795395,\n",
       "  'CancelledBooking': 0.7227882411866817,\n",
       "  'CreditCardInformation': 0.7490899683486841},\n",
       " 'BookingStatus': {'RoomType': 0.8027120785275237,\n",
       "  'BookingStatus': 0.9434973030104289,\n",
       "  'PaymentType': 0.843292947147087,\n",
       "  'HotelRating': 0.807593369010461,\n",
       "  'HotelBookingManagementSystem': 0.8191117182644779,\n",
       "  'BusinessTraveller': 0.800528442545874,\n",
       "  'BillingInformation': 0.7464193671084086,\n",
       "  'TravelPreference': 0.7951148487252923,\n",
       "  'Hotel': 0.7782929323273896,\n",
       "  'SpecialOffer': 0.7732534754614532,\n",
       "  'RoomAvailability': 0.7937803910335806,\n",
       "  'RegularBooking': 0.8006402711219207,\n",
       "  'AccommodationDeal': 0.7731614740823705,\n",
       "  'abstract BookingStatus': 0.8697896790116759,\n",
       "  'PreliminaryBooking': 0.8057120756525333,\n",
       "  'FinalizedBooking': 0.8274070324679652,\n",
       "  'ConfirmedBooking': 0.8265516769417472,\n",
       "  'CancelledBooking': 0.7954636729351393,\n",
       "  'CreditCardInformation': 0.7440674214554283},\n",
       " 'PaymentType': {'RoomType': 0.8278632526260015,\n",
       "  'BookingStatus': 0.8214603286536607,\n",
       "  'PaymentType': 0.9693347381393047,\n",
       "  'HotelRating': 0.7979550026189763,\n",
       "  'HotelBookingManagementSystem': 0.7920402929828062,\n",
       "  'BusinessTraveller': 0.7803862371317991,\n",
       "  'BillingInformation': 0.7557272845634426,\n",
       "  'TravelPreference': 0.8086271372645515,\n",
       "  'Hotel': 0.7844018655052342,\n",
       "  'SpecialOffer': 0.8007195931442392,\n",
       "  'RoomAvailability': 0.777833185822076,\n",
       "  'RegularBooking': 0.7633344450566075,\n",
       "  'AccommodationDeal': 0.7927951819631798,\n",
       "  'abstract BookingStatus': 0.7845337189302389,\n",
       "  'PreliminaryBooking': 0.7965719928518672,\n",
       "  'FinalizedBooking': 0.7817273793174133,\n",
       "  'ConfirmedBooking': 0.779534955872446,\n",
       "  'CancelledBooking': 0.7583548369605168,\n",
       "  'CreditCardInformation': 0.7791156667851183},\n",
       " 'HotelBookingManager': {'RoomType': 0.8101730565613753,\n",
       "  'BookingStatus': 0.8219499272708078,\n",
       "  'PaymentType': 0.8195750449576507,\n",
       "  'HotelRating': 0.8155408927391687,\n",
       "  'HotelBookingManagementSystem': 0.8700011988669095,\n",
       "  'BusinessTraveller': 0.8438760629249028,\n",
       "  'BillingInformation': 0.8043925035586648,\n",
       "  'TravelPreference': 0.826393889288776,\n",
       "  'Hotel': 0.8319152998946993,\n",
       "  'SpecialOffer': 0.820303873256826,\n",
       "  'RoomAvailability': 0.809732135515477,\n",
       "  'RegularBooking': 0.8253848652427807,\n",
       "  'AccommodationDeal': 0.8260985877663383,\n",
       "  'abstract BookingStatus': 0.862826277868499,\n",
       "  'PreliminaryBooking': 0.8301406708422051,\n",
       "  'FinalizedBooking': 0.7996699457836551,\n",
       "  'ConfirmedBooking': 0.8115415018625013,\n",
       "  'CancelledBooking': 0.7898205877740744,\n",
       "  'CreditCardInformation': 0.7820510282546642},\n",
       " 'HotelChain': {'RoomType': 0.8050499934827958,\n",
       "  'BookingStatus': 0.7779218098091142,\n",
       "  'PaymentType': 0.7897572292695731,\n",
       "  'HotelRating': 0.8149093742932707,\n",
       "  'HotelBookingManagementSystem': 0.7738219146238428,\n",
       "  'BusinessTraveller': 0.7757907275990849,\n",
       "  'BillingInformation': 0.7903209244314078,\n",
       "  'TravelPreference': 0.78997694834863,\n",
       "  'Hotel': 0.8290614016899094,\n",
       "  'SpecialOffer': 0.7678790964299707,\n",
       "  'RoomAvailability': 0.7561838438701958,\n",
       "  'RegularBooking': 0.7596311314536915,\n",
       "  'AccommodationDeal': 0.7692597674375308,\n",
       "  'abstract BookingStatus': 0.7924894968743205,\n",
       "  'PreliminaryBooking': 0.7573661088730242,\n",
       "  'FinalizedBooking': 0.7455858946901324,\n",
       "  'ConfirmedBooking': 0.748874202171724,\n",
       "  'CancelledBooking': 0.7316359275469171,\n",
       "  'CreditCardInformation': 0.764066643162201},\n",
       " 'Traveller': {'RoomType': 0.7996293870427519,\n",
       "  'BookingStatus': 0.7729388011788869,\n",
       "  'PaymentType': 0.7636464874288719,\n",
       "  'HotelRating': 0.8270910958955654,\n",
       "  'HotelBookingManagementSystem': 0.8217193169758392,\n",
       "  'BusinessTraveller': 0.902706750077143,\n",
       "  'BillingInformation': 0.7707423365658489,\n",
       "  'TravelPreference': 0.8277873036580767,\n",
       "  'Hotel': 0.8187004437907296,\n",
       "  'SpecialOffer': 0.8125876660646766,\n",
       "  'RoomAvailability': 0.7854797278351174,\n",
       "  'RegularBooking': 0.8044599109387794,\n",
       "  'AccommodationDeal': 0.8023958079634839,\n",
       "  'abstract BookingStatus': 0.7792933885690779,\n",
       "  'PreliminaryBooking': 0.8164886986271358,\n",
       "  'FinalizedBooking': 0.7718417986509598,\n",
       "  'ConfirmedBooking': 0.7919157206639494,\n",
       "  'CancelledBooking': 0.7579524424961167,\n",
       "  'CreditCardInformation': 0.7828878925033522},\n",
       " 'BillingInformation': {'RoomType': 0.7356592066920595,\n",
       "  'BookingStatus': 0.7636975026075079,\n",
       "  'PaymentType': 0.7685768152015403,\n",
       "  'HotelRating': 0.7387872842125014,\n",
       "  'HotelBookingManagementSystem': 0.812550912486847,\n",
       "  'BusinessTraveller': 0.839935238924872,\n",
       "  'BillingInformation': 1.0,\n",
       "  'TravelPreference': 0.7434788972864906,\n",
       "  'Hotel': 0.8134274105017312,\n",
       "  'SpecialOffer': 0.7877896197105283,\n",
       "  'RoomAvailability': 0.7521361049117692,\n",
       "  'RegularBooking': 0.7895412996122981,\n",
       "  'AccommodationDeal': 0.792184807068781,\n",
       "  'abstract BookingStatus': 0.7685266820851651,\n",
       "  'PreliminaryBooking': 0.7870449682192104,\n",
       "  'FinalizedBooking': 0.8054156814881505,\n",
       "  'ConfirmedBooking': 0.8031590117144528,\n",
       "  'CancelledBooking': 0.7814110629304134,\n",
       "  'CreditCardInformation': 0.8296641433745262},\n",
       " 'TravelPreference': {'RoomType': 0.758149222587078,\n",
       "  'BookingStatus': 0.7342174848902595,\n",
       "  'PaymentType': 0.7722159713176486,\n",
       "  'HotelRating': 0.746957417035505,\n",
       "  'HotelBookingManagementSystem': 0.7952568805703215,\n",
       "  'BusinessTraveller': 0.8498624783757178,\n",
       "  'BillingInformation': 0.7603783318169406,\n",
       "  'TravelPreference': 0.8356745728833521,\n",
       "  'Hotel': 0.7935715201786033,\n",
       "  'SpecialOffer': 0.8233053242110906,\n",
       "  'RoomAvailability': 0.7727653666017064,\n",
       "  'RegularBooking': 0.7661997151218456,\n",
       "  'AccommodationDeal': 0.7901832804902991,\n",
       "  'abstract BookingStatus': 0.7392935151120398,\n",
       "  'PreliminaryBooking': 0.8260820135891479,\n",
       "  'FinalizedBooking': 0.7528199033661849,\n",
       "  'ConfirmedBooking': 0.7598093581228957,\n",
       "  'CancelledBooking': 0.7391557711073502,\n",
       "  'CreditCardInformation': 0.7830287943898538},\n",
       " 'Hotel': {'RoomType': 0.8432980249667227,\n",
       "  'BookingStatus': 0.7669211634074385,\n",
       "  'PaymentType': 0.8082559483019817,\n",
       "  'HotelRating': 0.8550193899503623,\n",
       "  'HotelBookingManagementSystem': 0.8617563861700959,\n",
       "  'BusinessTraveller': 0.8032017649199746,\n",
       "  'BillingInformation': 0.7939322768908781,\n",
       "  'TravelPreference': 0.8246457689138345,\n",
       "  'Hotel': 0.883694963640264,\n",
       "  'SpecialOffer': 0.8736439237767198,\n",
       "  'RoomAvailability': 0.8113018776372051,\n",
       "  'RegularBooking': 0.7941956174992514,\n",
       "  'AccommodationDeal': 0.8578753948707175,\n",
       "  'abstract BookingStatus': 0.7616313462020573,\n",
       "  'PreliminaryBooking': 0.855679929383873,\n",
       "  'FinalizedBooking': 0.7673715060729556,\n",
       "  'ConfirmedBooking': 0.7732026491334454,\n",
       "  'CancelledBooking': 0.7453165971769226,\n",
       "  'CreditCardInformation': 0.777871795865105},\n",
       " 'abstract Offer': {'RoomType': 0.7592300701161118,\n",
       "  'BookingStatus': 0.7507204991535305,\n",
       "  'PaymentType': 0.7676300375184282,\n",
       "  'HotelRating': 0.7456567783358651,\n",
       "  'HotelBookingManagementSystem': 0.7637036282099069,\n",
       "  'BusinessTraveller': 0.7541697871591476,\n",
       "  'BillingInformation': 0.7685193769628651,\n",
       "  'TravelPreference': 0.7661555012982781,\n",
       "  'Hotel': 0.7717525681107431,\n",
       "  'SpecialOffer': 0.804573914567415,\n",
       "  'RoomAvailability': 0.7686630021923975,\n",
       "  'RegularBooking': 0.7568626248471927,\n",
       "  'AccommodationDeal': 0.7839237792722914,\n",
       "  'abstract BookingStatus': 0.8269215963022077,\n",
       "  'PreliminaryBooking': 0.7400084354309814,\n",
       "  'FinalizedBooking': 0.738419313169626,\n",
       "  'ConfirmedBooking': 0.7640760802096931,\n",
       "  'CancelledBooking': 0.7445792051638127,\n",
       "  'CreditCardInformation': 0.7511701042136232},\n",
       " 'SpecialOffer': {'RoomType': 0.7944324271150082,\n",
       "  'BookingStatus': 0.7747004181926608,\n",
       "  'PaymentType': 0.8053977450155122,\n",
       "  'HotelRating': 0.785879959201758,\n",
       "  'HotelBookingManagementSystem': 0.785809432039423,\n",
       "  'BusinessTraveller': 0.7751279448730126,\n",
       "  'BillingInformation': 0.7861624763790233,\n",
       "  'TravelPreference': 0.7905244388706668,\n",
       "  'Hotel': 0.7949762915499287,\n",
       "  'SpecialOffer': 0.8701718571947649,\n",
       "  'RoomAvailability': 0.8012457884268229,\n",
       "  'RegularBooking': 0.7933329745528036,\n",
       "  'AccommodationDeal': 0.8041353426465746,\n",
       "  'abstract BookingStatus': 0.8102013824744206,\n",
       "  'PreliminaryBooking': 0.7735145930921392,\n",
       "  'FinalizedBooking': 0.7621039418807154,\n",
       "  'ConfirmedBooking': 0.781191672450775,\n",
       "  'CancelledBooking': 0.7644560713721332,\n",
       "  'CreditCardInformation': 0.7700971577504127},\n",
       " 'RegularOffer': {'RoomType': 0.7803062228133726,\n",
       "  'BookingStatus': 0.7829229414724115,\n",
       "  'PaymentType': 0.7871316341005641,\n",
       "  'HotelRating': 0.7758676475012535,\n",
       "  'HotelBookingManagementSystem': 0.7685491717319042,\n",
       "  'BusinessTraveller': 0.7769103816719305,\n",
       "  'BillingInformation': 0.7819968950990437,\n",
       "  'TravelPreference': 0.7741318296450733,\n",
       "  'Hotel': 0.7858643157729142,\n",
       "  'SpecialOffer': 0.8327502850634988,\n",
       "  'RoomAvailability': 0.7954173012204728,\n",
       "  'RegularBooking': 0.8098239270267622,\n",
       "  'AccommodationDeal': 0.7889460965874866,\n",
       "  'abstract BookingStatus': 0.8028199921605412,\n",
       "  'PreliminaryBooking': 0.7574384091247269,\n",
       "  'FinalizedBooking': 0.751290855996951,\n",
       "  'ConfirmedBooking': 0.7716641272256869,\n",
       "  'CancelledBooking': 0.7537381415993878,\n",
       "  'CreditCardInformation': 0.762963188728857},\n",
       " 'TravelSearch': {'RoomType': 0.8013318055248408,\n",
       "  'BookingStatus': 0.793464116778319,\n",
       "  'PaymentType': 0.7916768764424708,\n",
       "  'HotelRating': 0.8050349232033385,\n",
       "  'HotelBookingManagementSystem': 0.8207496059647282,\n",
       "  'BusinessTraveller': 0.8342625067918823,\n",
       "  'BillingInformation': 0.7631240075008887,\n",
       "  'TravelPreference': 0.839266689665539,\n",
       "  'Hotel': 0.7931088921518923,\n",
       "  'SpecialOffer': 0.8034191276536587,\n",
       "  'RoomAvailability': 0.7773317884377098,\n",
       "  'RegularBooking': 0.7829532069923,\n",
       "  'AccommodationDeal': 0.8062896248269388,\n",
       "  'abstract BookingStatus': 0.8136507709453334,\n",
       "  'PreliminaryBooking': 0.8007308086543147,\n",
       "  'FinalizedBooking': 0.7579498257731963,\n",
       "  'ConfirmedBooking': 0.7684967148818856,\n",
       "  'CancelledBooking': 0.7469736817516556,\n",
       "  'CreditCardInformation': 0.7680216430198993},\n",
       " 'SearchInfo': {'RoomType': 0.763404872727234,\n",
       "  'BookingStatus': 0.7592079735795024,\n",
       "  'PaymentType': 0.75083062318596,\n",
       "  'HotelRating': 0.760931721212066,\n",
       "  'HotelBookingManagementSystem': 0.7585378837699166,\n",
       "  'BusinessTraveller': 0.7556806188271789,\n",
       "  'BillingInformation': 0.7731286182460521,\n",
       "  'TravelPreference': 0.7556591355309831,\n",
       "  'Hotel': 0.7509630126134117,\n",
       "  'SpecialOffer': 0.7719065790089227,\n",
       "  'RoomAvailability': 0.746246216116954,\n",
       "  'RegularBooking': 0.7492535006306243,\n",
       "  'AccommodationDeal': 0.7451073343153186,\n",
       "  'abstract BookingStatus': 0.7881975482685027,\n",
       "  'PreliminaryBooking': 0.7571758542398117,\n",
       "  'FinalizedBooking': 0.729365667567341,\n",
       "  'ConfirmedBooking': 0.7357822574978213,\n",
       "  'CancelledBooking': 0.7155983679024124,\n",
       "  'CreditCardInformation': 0.760437621455646},\n",
       " 'RoomAvailability': {'RoomType': 0.8490306871420473,\n",
       "  'BookingStatus': 0.8256118153665181,\n",
       "  'PaymentType': 0.8039890276437807,\n",
       "  'HotelRating': 0.8273625582543835,\n",
       "  'HotelBookingManagementSystem': 0.824278643002357,\n",
       "  'BusinessTraveller': 0.7876337074490508,\n",
       "  'BillingInformation': 0.7585381963543812,\n",
       "  'TravelPreference': 0.8304346940912392,\n",
       "  'Hotel': 0.8524384539643934,\n",
       "  'SpecialOffer': 0.8103287720899981,\n",
       "  'RoomAvailability': 0.9033410205488339,\n",
       "  'RegularBooking': 0.8331377650958598,\n",
       "  'AccommodationDeal': 0.8158271438861106,\n",
       "  'abstract BookingStatus': 0.8560168327440671,\n",
       "  'PreliminaryBooking': 0.8154945833415912,\n",
       "  'FinalizedBooking': 0.7795924953411419,\n",
       "  'ConfirmedBooking': 0.8046017049605021,\n",
       "  'CancelledBooking': 0.7822039573314159,\n",
       "  'CreditCardInformation': 0.7479167183157557},\n",
       " 'abstract TripInfo': {'RoomType': 0.8161907517553271,\n",
       "  'BookingStatus': 0.7650449009490059,\n",
       "  'PaymentType': 0.7983407702258624,\n",
       "  'HotelRating': 0.7867127341450556,\n",
       "  'HotelBookingManagementSystem': 0.8662680297711165,\n",
       "  'BusinessTraveller': 0.8446030308363776,\n",
       "  'BillingInformation': 0.7534983561551903,\n",
       "  'TravelPreference': 0.8399929534284835,\n",
       "  'Hotel': 0.823309425852576,\n",
       "  'SpecialOffer': 0.8100779755143902,\n",
       "  'RoomAvailability': 0.8250084825919592,\n",
       "  'RegularBooking': 0.7679153236445722,\n",
       "  'AccommodationDeal': 0.8714891691843597,\n",
       "  'abstract BookingStatus': 0.8080481371616747,\n",
       "  'PreliminaryBooking': 0.8075200403250918,\n",
       "  'FinalizedBooking': 0.7805793256135833,\n",
       "  'ConfirmedBooking': 0.8017775131099532,\n",
       "  'CancelledBooking': 0.7525084525020772,\n",
       "  'CreditCardInformation': 0.7903712120195713},\n",
       " 'BookingInfo': {'RoomType': 0.8049231800176824,\n",
       "  'BookingStatus': 0.841857771351328,\n",
       "  'PaymentType': 0.8223420707526528,\n",
       "  'HotelRating': 0.8129458023087855,\n",
       "  'HotelBookingManagementSystem': 0.8428731291920126,\n",
       "  'BusinessTraveller': 0.822428297634177,\n",
       "  'BillingInformation': 0.826092965851521,\n",
       "  'TravelPreference': 0.8125199556265822,\n",
       "  'Hotel': 0.8092578898169661,\n",
       "  'SpecialOffer': 0.8101500245387286,\n",
       "  'RoomAvailability': 0.8075561447680436,\n",
       "  'RegularBooking': 0.8197572411482156,\n",
       "  'AccommodationDeal': 0.8122392949379084,\n",
       "  'abstract BookingStatus': 0.8661572075795454,\n",
       "  'PreliminaryBooking': 0.8209356555628714,\n",
       "  'FinalizedBooking': 0.812959514701358,\n",
       "  'ConfirmedBooking': 0.8224632999726738,\n",
       "  'CancelledBooking': 0.7916777890523874,\n",
       "  'CreditCardInformation': 0.788938939451792},\n",
       " 'Booking': {'RoomType': 0.7627877391434869,\n",
       "  'BookingStatus': 0.8194467783292654,\n",
       "  'PaymentType': 0.8211411073014256,\n",
       "  'HotelRating': 0.7578003509064843,\n",
       "  'HotelBookingManagementSystem': 0.8791978236740596,\n",
       "  'BusinessTraveller': 0.8352298538729844,\n",
       "  'BillingInformation': 0.7930680604651662,\n",
       "  'TravelPreference': 0.7709635230128322,\n",
       "  'Hotel': 0.8161618007583146,\n",
       "  'SpecialOffer': 0.8198957572357004,\n",
       "  'RoomAvailability': 0.7921376687618645,\n",
       "  'RegularBooking': 0.838810685528129,\n",
       "  'AccommodationDeal': 0.8481108415135812,\n",
       "  'abstract BookingStatus': 0.8281742286992524,\n",
       "  'PreliminaryBooking': 0.8409712690776492,\n",
       "  'FinalizedBooking': 0.8854403962398649,\n",
       "  'ConfirmedBooking': 0.8862501104219482,\n",
       "  'CancelledBooking': 0.8445218694647897,\n",
       "  'CreditCardInformation': 0.8435469015174503}}"
      ]
     },
     "execution_count": 4474,
     "metadata": {},
     "output_type": "execute_result"
    }
   ],
   "source": [
    "dict_sim_all"
   ]
  },
  {
   "cell_type": "code",
   "execution_count": 4475,
   "metadata": {
    "id": "0h_VDYCKdqHv"
   },
   "outputs": [
    {
     "name": "stdout",
     "output_type": "stream",
     "text": [
      "{'RoomType': {'RoomType': 0.9909474228763404, 'BookingStatus': 0.803173552380923, 'PaymentType': 0.8356707840767582, 'HotelRating': 0.8656606555287104, 'HotelBookingManagementSystem': 0.8064718432994785, 'BusinessTraveller': 0.7864257585806163, 'BillingInformation': 0.7348513553502879, 'TravelPreference': 0.8377312087593446, 'Hotel': 0.8208074443952517, 'SpecialOffer': 0.8013737019585344, 'RoomAvailability': 0.8344231884840786, 'RegularBooking': 0.7748748241275621, 'AccommodationDeal': 0.8101307113313594, 'abstract BookingStatus': 0.7869862865542151, 'PreliminaryBooking': 0.7854488525915789, 'FinalizedBooking': 0.7426128517704281, 'ConfirmedBooking': 0.752288714795395, 'CancelledBooking': 0.7227882411866817, 'CreditCardInformation': 0.7490899683486841}, 'BookingStatus': {'RoomType': 0.8027120785275237, 'BookingStatus': 0.9434973030104289, 'PaymentType': 0.843292947147087, 'HotelRating': 0.807593369010461, 'HotelBookingManagementSystem': 0.8191117182644779, 'BusinessTraveller': 0.800528442545874, 'BillingInformation': 0.7464193671084086, 'TravelPreference': 0.7951148487252923, 'Hotel': 0.7782929323273896, 'SpecialOffer': 0.7732534754614532, 'RoomAvailability': 0.7937803910335806, 'RegularBooking': 0.8006402711219207, 'AccommodationDeal': 0.7731614740823705, 'abstract BookingStatus': 0.8697896790116759, 'PreliminaryBooking': 0.8057120756525333, 'FinalizedBooking': 0.8274070324679652, 'ConfirmedBooking': 0.8265516769417472, 'CancelledBooking': 0.7954636729351393, 'CreditCardInformation': 0.7440674214554283}, 'PaymentType': {'RoomType': 0.8278632526260015, 'BookingStatus': 0.8214603286536607, 'PaymentType': 0.9693347381393047, 'HotelRating': 0.7979550026189763, 'HotelBookingManagementSystem': 0.7920402929828062, 'BusinessTraveller': 0.7803862371317991, 'BillingInformation': 0.7557272845634426, 'TravelPreference': 0.8086271372645515, 'Hotel': 0.7844018655052342, 'SpecialOffer': 0.8007195931442392, 'RoomAvailability': 0.777833185822076, 'RegularBooking': 0.7633344450566075, 'AccommodationDeal': 0.7927951819631798, 'abstract BookingStatus': 0.7845337189302389, 'PreliminaryBooking': 0.7965719928518672, 'FinalizedBooking': 0.7817273793174133, 'ConfirmedBooking': 0.779534955872446, 'CancelledBooking': 0.7583548369605168, 'CreditCardInformation': 0.7791156667851183}, 'HotelBookingManager': {'RoomType': 0.8101730565613753, 'BookingStatus': 0.8219499272708078, 'PaymentType': 0.8195750449576507, 'HotelRating': 0.8155408927391687, 'HotelBookingManagementSystem': 0.8700011988669095, 'BusinessTraveller': 0.8438760629249028, 'BillingInformation': 0.8043925035586648, 'TravelPreference': 0.826393889288776, 'Hotel': 0.8319152998946993, 'SpecialOffer': 0.820303873256826, 'RoomAvailability': 0.809732135515477, 'RegularBooking': 0.8253848652427807, 'AccommodationDeal': 0.8260985877663383, 'abstract BookingStatus': 0.862826277868499, 'PreliminaryBooking': 0.8301406708422051, 'FinalizedBooking': 0.7996699457836551, 'ConfirmedBooking': 0.8115415018625013, 'CancelledBooking': 0.7898205877740744, 'CreditCardInformation': 0.7820510282546642}, 'HotelChain': {'RoomType': 0.8050499934827958, 'BookingStatus': 0.7779218098091142, 'PaymentType': 0.7897572292695731, 'HotelRating': 0.8149093742932707, 'HotelBookingManagementSystem': 0.7738219146238428, 'BusinessTraveller': 0.7757907275990849, 'BillingInformation': 0.7903209244314078, 'TravelPreference': 0.78997694834863, 'Hotel': 0.8290614016899094, 'SpecialOffer': 0.7678790964299707, 'RoomAvailability': 0.7561838438701958, 'RegularBooking': 0.7596311314536915, 'AccommodationDeal': 0.7692597674375308, 'abstract BookingStatus': 0.7924894968743205, 'PreliminaryBooking': 0.7573661088730242, 'FinalizedBooking': 0.7455858946901324, 'ConfirmedBooking': 0.748874202171724, 'CancelledBooking': 0.7316359275469171, 'CreditCardInformation': 0.764066643162201}, 'Traveller': {'RoomType': 0.7996293870427519, 'BookingStatus': 0.7729388011788869, 'PaymentType': 0.7636464874288719, 'HotelRating': 0.8270910958955654, 'HotelBookingManagementSystem': 0.8217193169758392, 'BusinessTraveller': 0.902706750077143, 'BillingInformation': 0.7707423365658489, 'TravelPreference': 0.8277873036580767, 'Hotel': 0.8187004437907296, 'SpecialOffer': 0.8125876660646766, 'RoomAvailability': 0.7854797278351174, 'RegularBooking': 0.8044599109387794, 'AccommodationDeal': 0.8023958079634839, 'abstract BookingStatus': 0.7792933885690779, 'PreliminaryBooking': 0.8164886986271358, 'FinalizedBooking': 0.7718417986509598, 'ConfirmedBooking': 0.7919157206639494, 'CancelledBooking': 0.7579524424961167, 'CreditCardInformation': 0.7828878925033522}, 'BillingInformation': {'RoomType': 0.7356592066920595, 'BookingStatus': 0.7636975026075079, 'PaymentType': 0.7685768152015403, 'HotelRating': 0.7387872842125014, 'HotelBookingManagementSystem': 0.812550912486847, 'BusinessTraveller': 0.839935238924872, 'BillingInformation': 1.0, 'TravelPreference': 0.7434788972864906, 'Hotel': 0.8134274105017312, 'SpecialOffer': 0.7877896197105283, 'RoomAvailability': 0.7521361049117692, 'RegularBooking': 0.7895412996122981, 'AccommodationDeal': 0.792184807068781, 'abstract BookingStatus': 0.7685266820851651, 'PreliminaryBooking': 0.7870449682192104, 'FinalizedBooking': 0.8054156814881505, 'ConfirmedBooking': 0.8031590117144528, 'CancelledBooking': 0.7814110629304134, 'CreditCardInformation': 0.8296641433745262}, 'TravelPreference': {'RoomType': 0.758149222587078, 'BookingStatus': 0.7342174848902595, 'PaymentType': 0.7722159713176486, 'HotelRating': 0.746957417035505, 'HotelBookingManagementSystem': 0.7952568805703215, 'BusinessTraveller': 0.8498624783757178, 'BillingInformation': 0.7603783318169406, 'TravelPreference': 0.8356745728833521, 'Hotel': 0.7935715201786033, 'SpecialOffer': 0.8233053242110906, 'RoomAvailability': 0.7727653666017064, 'RegularBooking': 0.7661997151218456, 'AccommodationDeal': 0.7901832804902991, 'abstract BookingStatus': 0.7392935151120398, 'PreliminaryBooking': 0.8260820135891479, 'FinalizedBooking': 0.7528199033661849, 'ConfirmedBooking': 0.7598093581228957, 'CancelledBooking': 0.7391557711073502, 'CreditCardInformation': 0.7830287943898538}, 'Hotel': {'RoomType': 0.8432980249667227, 'BookingStatus': 0.7669211634074385, 'PaymentType': 0.8082559483019817, 'HotelRating': 0.8550193899503623, 'HotelBookingManagementSystem': 0.8617563861700959, 'BusinessTraveller': 0.8032017649199746, 'BillingInformation': 0.7939322768908781, 'TravelPreference': 0.8246457689138345, 'Hotel': 0.883694963640264, 'SpecialOffer': 0.8736439237767198, 'RoomAvailability': 0.8113018776372051, 'RegularBooking': 0.7941956174992514, 'AccommodationDeal': 0.8578753948707175, 'abstract BookingStatus': 0.7616313462020573, 'PreliminaryBooking': 0.855679929383873, 'FinalizedBooking': 0.7673715060729556, 'ConfirmedBooking': 0.7732026491334454, 'CancelledBooking': 0.7453165971769226, 'CreditCardInformation': 0.777871795865105}, 'abstract Offer': {'RoomType': 0.7592300701161118, 'BookingStatus': 0.7507204991535305, 'PaymentType': 0.7676300375184282, 'HotelRating': 0.7456567783358651, 'HotelBookingManagementSystem': 0.7637036282099069, 'BusinessTraveller': 0.7541697871591476, 'BillingInformation': 0.7685193769628651, 'TravelPreference': 0.7661555012982781, 'Hotel': 0.7717525681107431, 'SpecialOffer': 0.804573914567415, 'RoomAvailability': 0.7686630021923975, 'RegularBooking': 0.7568626248471927, 'AccommodationDeal': 0.7839237792722914, 'abstract BookingStatus': 0.8269215963022077, 'PreliminaryBooking': 0.7400084354309814, 'FinalizedBooking': 0.738419313169626, 'ConfirmedBooking': 0.7640760802096931, 'CancelledBooking': 0.7445792051638127, 'CreditCardInformation': 0.7511701042136232}, 'SpecialOffer': {'RoomType': 0.7944324271150082, 'BookingStatus': 0.7747004181926608, 'PaymentType': 0.8053977450155122, 'HotelRating': 0.785879959201758, 'HotelBookingManagementSystem': 0.785809432039423, 'BusinessTraveller': 0.7751279448730126, 'BillingInformation': 0.7861624763790233, 'TravelPreference': 0.7905244388706668, 'Hotel': 0.7949762915499287, 'SpecialOffer': 0.8701718571947649, 'RoomAvailability': 0.8012457884268229, 'RegularBooking': 0.7933329745528036, 'AccommodationDeal': 0.8041353426465746, 'abstract BookingStatus': 0.8102013824744206, 'PreliminaryBooking': 0.7735145930921392, 'FinalizedBooking': 0.7621039418807154, 'ConfirmedBooking': 0.781191672450775, 'CancelledBooking': 0.7644560713721332, 'CreditCardInformation': 0.7700971577504127}, 'RegularOffer': {'RoomType': 0.7803062228133726, 'BookingStatus': 0.7829229414724115, 'PaymentType': 0.7871316341005641, 'HotelRating': 0.7758676475012535, 'HotelBookingManagementSystem': 0.7685491717319042, 'BusinessTraveller': 0.7769103816719305, 'BillingInformation': 0.7819968950990437, 'TravelPreference': 0.7741318296450733, 'Hotel': 0.7858643157729142, 'SpecialOffer': 0.8327502850634988, 'RoomAvailability': 0.7954173012204728, 'RegularBooking': 0.8098239270267622, 'AccommodationDeal': 0.7889460965874866, 'abstract BookingStatus': 0.8028199921605412, 'PreliminaryBooking': 0.7574384091247269, 'FinalizedBooking': 0.751290855996951, 'ConfirmedBooking': 0.7716641272256869, 'CancelledBooking': 0.7537381415993878, 'CreditCardInformation': 0.762963188728857}, 'TravelSearch': {'RoomType': 0.8013318055248408, 'BookingStatus': 0.793464116778319, 'PaymentType': 0.7916768764424708, 'HotelRating': 0.8050349232033385, 'HotelBookingManagementSystem': 0.8207496059647282, 'BusinessTraveller': 0.8342625067918823, 'BillingInformation': 0.7631240075008887, 'TravelPreference': 0.839266689665539, 'Hotel': 0.7931088921518923, 'SpecialOffer': 0.8034191276536587, 'RoomAvailability': 0.7773317884377098, 'RegularBooking': 0.7829532069923, 'AccommodationDeal': 0.8062896248269388, 'abstract BookingStatus': 0.8136507709453334, 'PreliminaryBooking': 0.8007308086543147, 'FinalizedBooking': 0.7579498257731963, 'ConfirmedBooking': 0.7684967148818856, 'CancelledBooking': 0.7469736817516556, 'CreditCardInformation': 0.7680216430198993}, 'SearchInfo': {'RoomType': 0.763404872727234, 'BookingStatus': 0.7592079735795024, 'PaymentType': 0.75083062318596, 'HotelRating': 0.760931721212066, 'HotelBookingManagementSystem': 0.7585378837699166, 'BusinessTraveller': 0.7556806188271789, 'BillingInformation': 0.7731286182460521, 'TravelPreference': 0.7556591355309831, 'Hotel': 0.7509630126134117, 'SpecialOffer': 0.7719065790089227, 'RoomAvailability': 0.746246216116954, 'RegularBooking': 0.7492535006306243, 'AccommodationDeal': 0.7451073343153186, 'abstract BookingStatus': 0.7881975482685027, 'PreliminaryBooking': 0.7571758542398117, 'FinalizedBooking': 0.729365667567341, 'ConfirmedBooking': 0.7357822574978213, 'CancelledBooking': 0.7155983679024124, 'CreditCardInformation': 0.760437621455646}, 'RoomAvailability': {'RoomType': 0.8490306871420473, 'BookingStatus': 0.8256118153665181, 'PaymentType': 0.8039890276437807, 'HotelRating': 0.8273625582543835, 'HotelBookingManagementSystem': 0.824278643002357, 'BusinessTraveller': 0.7876337074490508, 'BillingInformation': 0.7585381963543812, 'TravelPreference': 0.8304346940912392, 'Hotel': 0.8524384539643934, 'SpecialOffer': 0.8103287720899981, 'RoomAvailability': 0.9033410205488339, 'RegularBooking': 0.8331377650958598, 'AccommodationDeal': 0.8158271438861106, 'abstract BookingStatus': 0.8560168327440671, 'PreliminaryBooking': 0.8154945833415912, 'FinalizedBooking': 0.7795924953411419, 'ConfirmedBooking': 0.8046017049605021, 'CancelledBooking': 0.7822039573314159, 'CreditCardInformation': 0.7479167183157557}, 'abstract TripInfo': {'RoomType': 0.8161907517553271, 'BookingStatus': 0.7650449009490059, 'PaymentType': 0.7983407702258624, 'HotelRating': 0.7867127341450556, 'HotelBookingManagementSystem': 0.8662680297711165, 'BusinessTraveller': 0.8446030308363776, 'BillingInformation': 0.7534983561551903, 'TravelPreference': 0.8399929534284835, 'Hotel': 0.823309425852576, 'SpecialOffer': 0.8100779755143902, 'RoomAvailability': 0.8250084825919592, 'RegularBooking': 0.7679153236445722, 'AccommodationDeal': 0.8714891691843597, 'abstract BookingStatus': 0.8080481371616747, 'PreliminaryBooking': 0.8075200403250918, 'FinalizedBooking': 0.7805793256135833, 'ConfirmedBooking': 0.8017775131099532, 'CancelledBooking': 0.7525084525020772, 'CreditCardInformation': 0.7903712120195713}, 'BookingInfo': {'RoomType': 0.8049231800176824, 'BookingStatus': 0.841857771351328, 'PaymentType': 0.8223420707526528, 'HotelRating': 0.8129458023087855, 'HotelBookingManagementSystem': 0.8428731291920126, 'BusinessTraveller': 0.822428297634177, 'BillingInformation': 0.826092965851521, 'TravelPreference': 0.8125199556265822, 'Hotel': 0.8092578898169661, 'SpecialOffer': 0.8101500245387286, 'RoomAvailability': 0.8075561447680436, 'RegularBooking': 0.8197572411482156, 'AccommodationDeal': 0.8122392949379084, 'abstract BookingStatus': 0.8661572075795454, 'PreliminaryBooking': 0.8209356555628714, 'FinalizedBooking': 0.812959514701358, 'ConfirmedBooking': 0.8224632999726738, 'CancelledBooking': 0.7916777890523874, 'CreditCardInformation': 0.788938939451792}, 'Booking': {'RoomType': 0.7627877391434869, 'BookingStatus': 0.8194467783292654, 'PaymentType': 0.8211411073014256, 'HotelRating': 0.7578003509064843, 'HotelBookingManagementSystem': 0.8791978236740596, 'BusinessTraveller': 0.8352298538729844, 'BillingInformation': 0.7930680604651662, 'TravelPreference': 0.7709635230128322, 'Hotel': 0.8161618007583146, 'SpecialOffer': 0.8198957572357004, 'RoomAvailability': 0.7921376687618645, 'RegularBooking': 0.838810685528129, 'AccommodationDeal': 0.8481108415135812, 'abstract BookingStatus': 0.8281742286992524, 'PreliminaryBooking': 0.8409712690776492, 'FinalizedBooking': 0.8854403962398649, 'ConfirmedBooking': 0.8862501104219482, 'CancelledBooking': 0.8445218694647897, 'CreditCardInformation': 0.8435469015174503}}\n"
     ]
    },
    {
     "data": {
      "text/plain": [
       "[('abstract Offer', None),\n",
       " ('RegularOffer', None),\n",
       " ('SearchInfo', None),\n",
       " ('abstract TripInfo', 'AccommodationDeal'),\n",
       " (None, 'HotelRating'),\n",
       " (None, 'FinalizedBooking'),\n",
       " (None, 'CancelledBooking'),\n",
       " (None, 'CreditCardInformation')]"
      ]
     },
     "execution_count": 4475,
     "metadata": {},
     "output_type": "execute_result"
    }
   ],
   "source": [
    "mapping = match_classes(ref_classes, stu_classes, dict_sim_all, 0.8)\n",
    "mapping[0]"
   ]
  },
  {
   "cell_type": "code",
   "execution_count": 4476,
   "metadata": {
    "id": "c-JGkI6OgFFf"
   },
   "outputs": [],
   "source": [
    "for map in mapping[0]:\n",
    "  if map[0] and map[1]:\n",
    "    ref_cls.cls_atr[map[0]]['score'] = 1\n",
    "    ref_cls.cls_atr[map[0]]['counterpart'] = map[1]\n",
    "\n",
    "    stu_cls.cls_atr[map[1]]['score'] = 1\n",
    "    stu_cls.cls_atr[map[1]]['counterpart'] = map[0]\n",
    "\n",
    "    if ref_cls.cls_atr[map[0]][\"type\"] !=  stu_cls.cls_atr[map[1]][\"type\"]:\n",
    "      # type mismatch\n",
    "      ref_cls.cls_atr[map[0]]['score'] = 0.5\n",
    "      stu_cls.cls_atr[map[1]][\"score\"] = 0.5"
   ]
  },
  {
   "cell_type": "code",
   "execution_count": null,
   "metadata": {},
   "outputs": [],
   "source": []
  },
  {
   "cell_type": "markdown",
   "metadata": {
    "id": "AD1YW_WlcROJ"
   },
   "source": [
    "## Stage 2.1 Attribute mapping"
   ]
  },
  {
   "cell_type": "code",
   "execution_count": 4477,
   "metadata": {
    "id": "iscQC5FOiqGK"
   },
   "outputs": [],
   "source": [
    "def get_cosine_disntance(text1, text2, embedding):\n",
    "    avg = np.sum(embedding[text1], axis=0)\n",
    "    emb_i = avg / len(text1)\n",
    "\n",
    "    avg = np.sum(embedding[text2], axis=0)\n",
    "    emb_j = avg / len(text2)\n",
    "\n",
    "    return np.dot(emb_i, emb_j) / (np.linalg.norm(emb_i) * np.linalg.norm(emb_j))"
   ]
  },
  {
   "cell_type": "code",
   "execution_count": 4478,
   "metadata": {
    "id": "Y_pf4bzuhcWM"
   },
   "outputs": [],
   "source": [
    "def create_cosine_similarity_dict(attr_1, attr_2, embedding):\n",
    "  # attr_1: list[list] split camel case into separated case\n",
    "  # attr_2: list[list] split camel case into separated case\n",
    "  # embedding:\n",
    "  # raw_1: list[str] camcel case attributes\n",
    "  # raw_2: list[str] camcel case attributes\n",
    "\n",
    "  # create cosine distance between two attributes with embeeding\n",
    "\n",
    "  # >>> dic = createCosineDistance(['deviceStatus', 'deviceId'], ['id'], sgram_mde)\n",
    "  similarities = []\n",
    "  for att in attr_1:\n",
    "    emb_i = get_mde_embedding(att, embedding)\n",
    "    pair = []\n",
    "    for attribute in attr_2:\n",
    "      emb_j = get_mde_embedding(attribute, embedding)\n",
    "\n",
    "      sim = np.dot(emb_i, emb_j) / (np.linalg.norm(emb_i) * np.linalg.norm(emb_j))\n",
    "      pair.append(sim)\n",
    "\n",
    "    similarities.append(pair)\n",
    "\n",
    "  dict_attr = {}\n",
    "  for i in range(len(attr_1)):\n",
    "    dict_attr[attr_1[i]] = {}\n",
    "    for j in range(len(attr_2)):\n",
    "      dict_attr[attr_1[i]][attr_2[j]] = similarities[i][j]\n",
    "\n",
    "  return dict_attr"
   ]
  },
  {
   "cell_type": "code",
   "execution_count": 4479,
   "metadata": {
    "id": "3zgOAtMkjId5"
   },
   "outputs": [],
   "source": [
    "def match_attributes(raw_1, raw_2, dict_attr, threshold = 0.5):\n",
    "  # map attributes lists raw_1 and raw_2\n",
    "  # >>> mapAttributes(['deviceStatus'], ['id'], dic)[0]\n",
    "  def node_subst_cost_attr(node1, node2):\n",
    "    # threshod as 0.45\n",
    "    if dict_attr[node1[\"name\"]][node2[\"name\"]] < threshold:\n",
    "      return 3\n",
    "    else:\n",
    "      return 1-dict_attr[node1[\"name\"]][node2[\"name\"]]\n",
    "\n",
    "  G_att_1 = nx.Graph()\n",
    "  G_att_2 = nx.Graph()\n",
    "  for node in raw_1:\n",
    "    G_att_1.add_node(node, name = node)\n",
    "\n",
    "  for node in raw_2:\n",
    "    G_att_2.add_node(node, name = node)\n",
    "\n",
    "  for v in nx.optimize_edit_paths(G_att_1, G_att_2, node_subst_cost=node_subst_cost_attr, edge_match=None, timeout = 20):\n",
    "      minv = v\n",
    "  # minv\n",
    "\n",
    "  return minv"
   ]
  },
  {
   "cell_type": "code",
   "execution_count": 4480,
   "metadata": {
    "id": "_DfPQzlrkIPr"
   },
   "outputs": [],
   "source": [
    "def check_attributes_type(attr_1, attr_2, ref_dict, stu_dict):\n",
    "  # given two attribute, compare whether their type can match\n",
    "  attr_1 = attr_1.split() # from reference solution do not need to check it\n",
    "  attr_2 = attr_2.split()\n",
    "\n",
    "  # if enumerate literal and attributes\n",
    "  # if len(attr_1) != len(attr_2):\n",
    "  #   return 0.5, 0.5\n",
    "\n",
    "  # if an attributes use a regular class as its type\n",
    "  if len(attr_2) == 2:\n",
    "    t = attr_2[0].strip()\n",
    "    cls = stu_dict.get(t, None)\n",
    "    if cls is not None and (stu_dict[t]['type'] == \"regular\" or stu_dict[t]['type'] == \"abstract\"):\n",
    "      return 0.5, 0.5\n",
    "    \n",
    "  if len(attr_1) == 2 or len(attr_2) == 2:\n",
    "    t = attr_1[0].strip()\n",
    "    cls = ref_dict.get(t, None)\n",
    "    # print(cls)\n",
    "    t_2 = attr_2[0].strip()\n",
    "    cls_2 = stu_dict.get(t_2, None)   \n",
    "    # print(cls_2) \n",
    "    if cls is not None:\n",
    "      if ref_dict[t]['counterpart'] != t_2:\n",
    "        return 0.5, 0.5\n",
    "    if cls_2 is not None:\n",
    "      if stu_dict[t_2]['counterpart'] != t:\n",
    "        return 0.5, 0.5\n",
    "    \n",
    "  return 1,1"
   ]
  },
  {
   "cell_type": "code",
   "execution_count": 4481,
   "metadata": {},
   "outputs": [
    {
     "data": {
      "text/plain": [
       "(1, 1)"
      ]
     },
     "execution_count": 4481,
     "metadata": {},
     "output_type": "execute_result"
    }
   ],
   "source": [
    "x =check_attributes_type(('CommandStatus commandStatus', 'ControllerStatus status')[0], ('CommandStatus commandStatus', 'ControllerStatus status')[1], ref_cls.cls_atr, stu_cls.cls_atr)\n",
    "x"
   ]
  },
  {
   "cell_type": "markdown",
   "metadata": {
    "id": "Aa4XV2BtjJyR"
   },
   "source": [
    "### Stage 2.1.1 Attribute <-> Attribute (mapped classes)"
   ]
  },
  {
   "cell_type": "code",
   "execution_count": 4482,
   "metadata": {
    "id": "AWTlbDOnrwK-"
   },
   "outputs": [
    {
     "name": "stdout",
     "output_type": "stream",
     "text": [
      "['RoomType', 'RoomType']\n",
      "mapping [('SINGLE', 'Single'), ('DOUBLE', 'Double'), ('TWIN', 'Twin')]\n",
      "====================\n",
      "['BookingStatus', 'BookingStatus']\n",
      "mapping [('FINALIZED', 'Finalized'), ('CONFIRMED', 'Confirmed'), ('CANCELLED_BY_HBMS', None), ('PRELIMINARY', 'Preliminary'), ('CANCELLED_BY_TRAVELLER', None), ('CANCELLED_BY_HOTEL', None), (None, 'Regular'), (None, 'Cancelled')]\n",
      "====================\n",
      "['PaymentType', 'PaymentType']\n",
      "mapping [('PREPAID', None), ('PAID_AT_HOTEL', 'PaidAtHotel'), (None, 'PrePaid')]\n",
      "====================\n",
      "['HotelBookingManager', 'RegularBooking']\n",
      "mapping [(None, 'string bookingIdentifier')]\n",
      "====================\n",
      "['HotelChain', 'HotelBookingManagementSystem']\n",
      "mapping [(None, 'string city'), (None, 'date dateOfArrival'), (None, 'date dateOfDeparture'), (None, 'int numberOfRooms'), (None, 'string typeOfRooms'), (None, 'int hotelRating'), (None, 'float budget'), (None, 'string travelPeriod'), (None, 'string bookingStatus'), (None, 'string bookingIdentifier')]\n",
      "====================\n",
      "['Traveller', 'BusinessTraveller']\n",
      "mapping [('string name', 'string name'), ('int reliabilityRating', 'ReliabilityRating reliabilityRating'), (None, 'BillingInformation billingInformation'), (None, 'TravelPreference travelPreference')]\n",
      "====================\n",
      "['BillingInformation', 'BillingInformation']\n",
      "mapping [('string companyName', 'string companyName'), ('string address', 'string address')]\n",
      "====================\n",
      "['TravelPreference', 'PreliminaryBooking']\n",
      "mapping [('string preference', 'string keyPreferences'), ('string value', 'string bookingIdentifier'), (None, 'string cityArea'), (None, 'int hotelRating')]\n",
      "====================\n",
      "['Hotel', 'Hotel']\n",
      "mapping [('string city', 'string city'), ('string country', 'string name'), ('string area', 'string address'), (None, 'string hotelChain'), (None, 'RoomAvailability roomAvailability')]\n",
      "====================\n",
      "['SpecialOffer', 'SpecialOffer']\n",
      "mapping [(None, 'float price'), (None, 'string cityArea'), (None, 'int hotelRating'), (None, 'string keyPreferences')]\n",
      "====================\n",
      "['TravelSearch', 'TravelPreference']\n",
      "mapping [(None, 'boolean breakfastIncluded'), (None, 'boolean freeWifi'), (None, 'boolean frontDesk')]\n",
      "====================\n",
      "['RoomAvailability', 'RoomAvailability']\n",
      "mapping [(None, 'string typeOfRoom'), (None, 'boolean isAvailable')]\n",
      "====================\n",
      "['abstract TripInfo', 'AccommodationDeal']\n",
      "mapping [('int numberOfRooms', 'int numberOfRooms'), ('RoomType roomType', 'string typeOfRooms'), ('date arrivalDate', 'date dateOfArrival'), ('date departureDate', 'date dateOfDeparture'), ('float budgetPerNight', 'float budget'), (None, 'string city'), (None, 'int hotelRating')]\n",
      "====================\n",
      "['BookingInfo', 'abstract BookingStatus']\n",
      "mapping []\n",
      "====================\n",
      "['Booking', 'ConfirmedBooking']\n",
      "mapping [('int bookingId', 'string bookingIdentifier'), ('date cancellationDeadline', 'date cancellationDeadline'), ('string creditCardNumber', None), ('BookingStatus bookingStatus', None), ('PaymentType paymentType', None), ('date confirmationDate', None), ('float paidAmount', None), (None, 'FinancialCompensation financialCompensation')]\n",
      "====================\n"
     ]
    }
   ],
   "source": [
    "# map classes\n",
    "pairs = []\n",
    "\n",
    "# get matched pairs\n",
    "for key in ref_cls.cls_atr:\n",
    "  if ref_cls.cls_atr[key][\"counterpart\"] != None:\n",
    "    pair = [key, ref_cls.cls_atr[key][\"counterpart\"]]\n",
    "    pairs.append(pair)\n",
    "\n",
    "for pair in pairs:\n",
    "  if pair[0] and pair[1]:\n",
    "    print(pair)\n",
    "\n",
    "    # map attributes:\n",
    "    # matched_ref = set()\n",
    "    # matched_attr = set()\n",
    "\n",
    "    raw_1 = []\n",
    "    for attributes in ref_cls.cls_atr[pair[0]][\"attributes\"]:\n",
    "      raw_1.append(attributes)\n",
    "\n",
    "    raw_2 = []\n",
    "    for attributes in stu_cls.cls_atr[pair[1]][\"attributes\"]:\n",
    "      raw_2.append(attributes)\n",
    "\n",
    "    cos_dict = create_cosine_similarity_dict(raw_1, raw_2, sgram_mde)\n",
    "    mappings = match_attributes(raw_1, raw_2, cos_dict)[0]\n",
    "    print(\"mapping\", mappings)\n",
    "\n",
    "    for mapping in mappings:\n",
    "      if mapping[0] != None and mapping[1] != None:\n",
    "        scores = check_attributes_type(mapping[0], mapping[1], ref_cls.cls_atr, stu_cls.cls_atr)\n",
    "        ref_cls.cls_atr[pair[0]][\"attributes\"][mapping[0]]['score'] = scores[0]\n",
    "        ref_cls.cls_atr[pair[0]][\"attributes\"][mapping[0]][\"counterpart\"] = (mapping[1], pair[1])\n",
    "        stu_cls.cls_atr[pair[1]][\"attributes\"][mapping[1]]['score'] = scores[1]\n",
    "        stu_cls.cls_atr[pair[1]][\"attributes\"][mapping[1]][\"counterpart\"] =  (mapping[0], pair[0])\n",
    "\n",
    "    print(\"=\"*20)"
   ]
  },
  {
   "cell_type": "markdown",
   "metadata": {
    "id": "w1MhcWsJ5oaH"
   },
   "source": [
    "### Stage 2.1.2 Attribute <-> Attribute (between any classes)"
   ]
  },
  {
   "cell_type": "code",
   "execution_count": 4483,
   "metadata": {
    "id": "h6Hg_bA7AozB"
   },
   "outputs": [],
   "source": [
    "def create_cosine_similarity_list(attr_1, attr_2, embedding):\n",
    "  # attr_1: list[list] split camel case into separated case\n",
    "  # attr_2: list[list] split camel case into separated case\n",
    "  # embedding:\n",
    "  # raw_1: list[str] camcel case attributes\n",
    "  # raw_2: list[str] camcel case attributes\n",
    "\n",
    "  # create cosine distance between two attributes with embeeding\n",
    "\n",
    "  # >>> dic = createCosineDistance(['deviceStatus', 'deviceId'], ['id'], sgram_mde)\n",
    "  similarities = []\n",
    "  for att in attr_1:\n",
    "    emb_i = get_mde_embedding(att, embedding)\n",
    "    pair = []\n",
    "    for attribute in attr_2:\n",
    "      emb_j = get_mde_embedding(attribute, embedding)\n",
    "\n",
    "      sim = np.dot(emb_i, emb_j) / (np.linalg.norm(emb_i) * np.linalg.norm(emb_j))\n",
    "      pair.append(sim)\n",
    "\n",
    "    similarities.append(pair)\n",
    "\n",
    "  return similarities"
   ]
  },
  {
   "cell_type": "code",
   "execution_count": 4484,
   "metadata": {
    "id": "MJjwB1h-9rgc"
   },
   "outputs": [],
   "source": [
    "def combine_two_dict(list_1, list_2, atr_1, atr_2, cls_1, cls_2, weight_1 = 0.9, weight_2=0.1):\n",
    "  # list_1: similarity between cls\n",
    "  # list_2: cos similarity between attributes\n",
    "  if weight_1 + weight_2 != 1:\n",
    "    raise ValueError(\"weight_1 + weight_2 != 1\")\n",
    "  result = {}\n",
    "  for i in range(len(atr_1)):\n",
    "    atr_r = atr_1[i]\n",
    "    cls_r = cls_1[i]\n",
    "    tmp_ref = (atr_r, cls_r)\n",
    "    result[tmp_ref] = {}\n",
    "    for j in range(len(atr_2)):\n",
    "      atr_s = atr_2[j]\n",
    "      cls_s = cls_2[j]\n",
    "      tmp_stu = (atr_s, cls_s)\n",
    "\n",
    "      result[tmp_ref][tmp_stu] = weight_1 * list_1[i][j] + weight_2 * list_2[i][j]\n",
    "\n",
    "  return result\n"
   ]
  },
  {
   "cell_type": "code",
   "execution_count": 4485,
   "metadata": {
    "id": "ksyw3eTg5nLe"
   },
   "outputs": [
    {
     "name": "stdout",
     "output_type": "stream",
     "text": [
      "(('CANCELLED_BY_HBMS', 'BookingStatus'), None)\n",
      "(('CANCELLED_BY_TRAVELLER', 'BookingStatus'), None)\n",
      "(('CANCELLED_BY_HOTEL', 'BookingStatus'), ('string hotelChain', 'Hotel'))\n",
      "(('PREPAID', 'PaymentType'), ('CreditCardInformation creditCardInformation', 'FinalizedBooking'))\n",
      "(('string creditCardNumber', 'Booking'), ('string cardNumber', 'CreditCardInformation'))\n",
      "(('BookingStatus bookingStatus', 'Booking'), ('string bookingStatus', 'HotelBookingManagementSystem'))\n",
      "(('PaymentType paymentType', 'Booking'), ('string cardHolderName', 'CreditCardInformation'))\n",
      "(('date confirmationDate', 'Booking'), ('date dateOfArrival', 'HotelBookingManagementSystem'))\n",
      "(('float paidAmount', 'Booking'), ('float budget', 'HotelBookingManagementSystem'))\n",
      "(None, ('Regular', 'BookingStatus'))\n",
      "(None, ('Cancelled', 'BookingStatus'))\n",
      "(None, ('PrePaid', 'PaymentType'))\n",
      "(None, ('OneStar', 'HotelRating'))\n",
      "(None, ('TwoStar', 'HotelRating'))\n",
      "(None, ('ThreeStar', 'HotelRating'))\n",
      "(None, ('FourStar', 'HotelRating'))\n",
      "(None, ('FiveStar', 'HotelRating'))\n",
      "(None, ('string city', 'HotelBookingManagementSystem'))\n",
      "(None, ('date dateOfDeparture', 'HotelBookingManagementSystem'))\n",
      "(None, ('int numberOfRooms', 'HotelBookingManagementSystem'))\n",
      "(None, ('string typeOfRooms', 'HotelBookingManagementSystem'))\n",
      "(None, ('int hotelRating', 'HotelBookingManagementSystem'))\n",
      "(None, ('string travelPeriod', 'HotelBookingManagementSystem'))\n",
      "(None, ('string bookingIdentifier', 'HotelBookingManagementSystem'))\n",
      "(None, ('BillingInformation billingInformation', 'BusinessTraveller'))\n",
      "(None, ('TravelPreference travelPreference', 'BusinessTraveller'))\n",
      "(None, ('boolean breakfastIncluded', 'TravelPreference'))\n",
      "(None, ('boolean freeWifi', 'TravelPreference'))\n",
      "(None, ('boolean frontDesk', 'TravelPreference'))\n",
      "(None, ('RoomAvailability roomAvailability', 'Hotel'))\n",
      "(None, ('float price', 'SpecialOffer'))\n",
      "(None, ('string cityArea', 'SpecialOffer'))\n",
      "(None, ('int hotelRating', 'SpecialOffer'))\n",
      "(None, ('string keyPreferences', 'SpecialOffer'))\n",
      "(None, ('string typeOfRoom', 'RoomAvailability'))\n",
      "(None, ('boolean isAvailable', 'RoomAvailability'))\n",
      "(None, ('string bookingIdentifier', 'RegularBooking'))\n",
      "(None, ('string city', 'AccommodationDeal'))\n",
      "(None, ('int hotelRating', 'AccommodationDeal'))\n",
      "(None, ('string cityArea', 'PreliminaryBooking'))\n",
      "(None, ('int hotelRating', 'PreliminaryBooking'))\n",
      "(None, ('string bookingIdentifier', 'FinalizedBooking'))\n",
      "(None, ('FinancialCompensation financialCompensation', 'ConfirmedBooking'))\n",
      "(None, ('string bookingIdentifier', 'CancelledBooking'))\n",
      "(None, ('FinancialCompensation financialCompensation', 'CancelledBooking'))\n",
      "(None, ('date expiryDate', 'CreditCardInformation'))\n",
      "(None, ('int cvv', 'CreditCardInformation'))\n",
      "====================\n"
     ]
    }
   ],
   "source": [
    "# attr between any classes\n",
    "\n",
    "raw_1 = []\n",
    "ref_source = []\n",
    "tup_r = []\n",
    "# get attributes on instrucotr sides\n",
    "for cls in ref_cls.cls_atr:\n",
    "  for attributes in ref_cls.cls_atr[cls][\"attributes\"]:\n",
    "    if ref_cls.cls_atr[cls][\"attributes\"][attributes][\"counterpart\"] == None:\n",
    "      raw_1.append(attributes)\n",
    "      ref_source.append(cls)\n",
    "      tup_r.append((attributes, cls))\n",
    "\n",
    "raw_2 = []\n",
    "stu_source = []\n",
    "tup_s = []\n",
    "# get attributes on student sides\n",
    "for cls in stu_cls.cls_atr:\n",
    "  for attributes in stu_cls.cls_atr[cls][\"attributes\"]:\n",
    "    if stu_cls.cls_atr[cls][\"attributes\"][attributes][\"counterpart\"] == None:\n",
    "      raw_2.append(attributes)\n",
    "      stu_source.append(cls)\n",
    "      tup_s.append((attributes, cls))\n",
    "\n",
    "list_1 = create_cosine_similarity_list(raw_1, raw_2, sgram_mde)\n",
    "list_2 = create_cosine_similarity_list(ref_source, stu_source, sgram_mde)\n",
    "combined = combine_two_dict(list_1, list_2, raw_1, raw_2, ref_source, stu_source)\n",
    "\n",
    "mappings = match_attributes(tup_r, tup_s, combined)[0]\n",
    "\n",
    "for mapping in mappings:\n",
    "  print(mapping)\n",
    "  if mapping[0] != None and mapping[1] != None:\n",
    "    scores = check_attributes_type(mapping[0][0], mapping[1][0], ref_cls.cls_atr, stu_cls.cls_atr)\n",
    "\n",
    "\n",
    "    ref_cls.cls_atr[mapping[0][1]][\"attributes\"][mapping[0][0]]['score'] = min(scores[0], 0.5)\n",
    "    ref_cls.cls_atr[mapping[0][1]][\"attributes\"][mapping[0][0]][\"counterpart\"] = mapping[1]\n",
    "\n",
    "    stu_cls.cls_atr[mapping[1][1]][\"attributes\"][mapping[1][0]]['score'] = min(scores[1], 0.5)\n",
    "    stu_cls.cls_atr[mapping[1][1]][\"attributes\"][mapping[1][0]][\"counterpart\"] =  mapping[0]\n",
    "\n",
    "    if ref_cls.cls_atr[mapping[0][1]]['counterpart'] == mapping[1][1]:\n",
    "      ref_cls.cls_atr[mapping[0][1]][\"attributes\"][mapping[0][0]]['score'] = min(scores[0], 1)\n",
    "\n",
    "      stu_cls.cls_atr[mapping[1][1]][\"attributes\"][mapping[1][0]]['score'] = min(scores[1], 1)\n",
    "print(\"=\"*20)"
   ]
  },
  {
   "cell_type": "markdown",
   "metadata": {
    "id": "z8jvTH1EcWAo"
   },
   "source": [
    "## Stage 2.2.1 Attribute mapping atr -> cls"
   ]
  },
  {
   "cell_type": "code",
   "execution_count": 4486,
   "metadata": {},
   "outputs": [
    {
     "name": "stdout",
     "output_type": "stream",
     "text": [
      "(('CANCELLED_BY_HBMS', 'BookingStatus'), None)\n",
      "(('CANCELLED_BY_TRAVELLER', 'BookingStatus'), None)\n",
      "(None, ('HotelRating', 'HotelRating'))\n",
      "(None, ('FinalizedBooking', 'FinalizedBooking'))\n",
      "(None, ('CancelledBooking', 'CancelledBooking'))\n",
      "(None, ('CreditCardInformation', 'CreditCardInformation'))\n",
      "====================\n"
     ]
    }
   ],
   "source": [
    "#  get non-mapped attributes on instrucotr side\n",
    "\n",
    "raw_1 = []\n",
    "ref_source = []\n",
    "tup_r = []\n",
    "# get attributes on instrucotr sides\n",
    "for cls in ref_cls.cls_atr:\n",
    "  for attributes in ref_cls.cls_atr[cls][\"attributes\"]:\n",
    "    if ref_cls.cls_atr[cls][\"attributes\"][attributes][\"counterpart\"] == None:\n",
    "      raw_1.append(attributes)\n",
    "      ref_source.append(cls)\n",
    "      tup_r.append((attributes, cls))\n",
    "\n",
    "raw_2 = []\n",
    "stu_source = []\n",
    "tup_s = []\n",
    "# get un-mapped class on student sides\n",
    "for cls in stu_cls.cls_atr:\n",
    "    if stu_cls.cls_atr[cls][\"counterpart\"] == None:\n",
    "      raw_2.append(cls)\n",
    "      stu_source.append(cls)\n",
    "      tup_s.append((cls, cls))\n",
    "\n",
    "list_1 = create_cosine_similarity_list(raw_1, raw_2, sgram_mde)\n",
    "list_2 = create_cosine_similarity_list(ref_source, stu_source, sgram_mde)\n",
    "combined = combine_two_dict(list_1, list_2, raw_1, raw_2, ref_source, stu_source)\n",
    "\n",
    "mappings = match_attributes(tup_r, tup_s, combined)[0]\n",
    "\n",
    "for mapping in mappings:\n",
    "  print(mapping)\n",
    "  if mapping[0] != None and mapping[1] != None:\n",
    "    # scores = check_attributes_type(mapping[0][0], mapping[1][0], ref_cls.cls_atr, stu_cls.cls_atr)\n",
    "    ref_cls.cls_atr[mapping[0][1]][\"attributes\"][mapping[0][0]]['score'] = 0.5\n",
    "    ref_cls.cls_atr[mapping[0][1]][\"attributes\"][mapping[0][0]][\"counterpart\"] = (None, mapping[1][1])\n",
    "\n",
    "    stu_cls.cls_atr[mapping[1][1]]['score'] = 0.5\n",
    "    stu_cls.cls_atr[mapping[1][1]][\"counterpart\"] =  mapping[0]\n",
    "\n",
    "print(\"=\"*20)\n"
   ]
  },
  {
   "cell_type": "markdown",
   "metadata": {
    "id": "RUqlTdHicb7A"
   },
   "source": [
    "## Stage 2.2.2 Attribute mapping cls -> atr"
   ]
  },
  {
   "cell_type": "code",
   "execution_count": 4487,
   "metadata": {},
   "outputs": [
    {
     "name": "stdout",
     "output_type": "stream",
     "text": [
      "(('abstract Offer', 'abstract Offer'), None)\n",
      "(('RegularOffer', 'RegularOffer'), ('Regular', 'BookingStatus'))\n",
      "(('SearchInfo', 'SearchInfo'), None)\n",
      "(None, ('Cancelled', 'BookingStatus'))\n",
      "(None, ('PrePaid', 'PaymentType'))\n",
      "(None, ('OneStar', 'HotelRating'))\n",
      "(None, ('TwoStar', 'HotelRating'))\n",
      "(None, ('ThreeStar', 'HotelRating'))\n",
      "(None, ('FourStar', 'HotelRating'))\n",
      "(None, ('FiveStar', 'HotelRating'))\n",
      "(None, ('string city', 'HotelBookingManagementSystem'))\n",
      "(None, ('date dateOfDeparture', 'HotelBookingManagementSystem'))\n",
      "(None, ('int numberOfRooms', 'HotelBookingManagementSystem'))\n",
      "(None, ('string typeOfRooms', 'HotelBookingManagementSystem'))\n",
      "(None, ('int hotelRating', 'HotelBookingManagementSystem'))\n",
      "(None, ('string travelPeriod', 'HotelBookingManagementSystem'))\n",
      "(None, ('string bookingIdentifier', 'HotelBookingManagementSystem'))\n",
      "(None, ('BillingInformation billingInformation', 'BusinessTraveller'))\n",
      "(None, ('TravelPreference travelPreference', 'BusinessTraveller'))\n",
      "(None, ('boolean breakfastIncluded', 'TravelPreference'))\n",
      "(None, ('boolean freeWifi', 'TravelPreference'))\n",
      "(None, ('boolean frontDesk', 'TravelPreference'))\n",
      "(None, ('RoomAvailability roomAvailability', 'Hotel'))\n",
      "(None, ('float price', 'SpecialOffer'))\n",
      "(None, ('string cityArea', 'SpecialOffer'))\n",
      "(None, ('int hotelRating', 'SpecialOffer'))\n",
      "(None, ('string keyPreferences', 'SpecialOffer'))\n",
      "(None, ('string typeOfRoom', 'RoomAvailability'))\n",
      "(None, ('boolean isAvailable', 'RoomAvailability'))\n",
      "(None, ('string bookingIdentifier', 'RegularBooking'))\n",
      "(None, ('string city', 'AccommodationDeal'))\n",
      "(None, ('int hotelRating', 'AccommodationDeal'))\n",
      "(None, ('string cityArea', 'PreliminaryBooking'))\n",
      "(None, ('int hotelRating', 'PreliminaryBooking'))\n",
      "(None, ('string bookingIdentifier', 'FinalizedBooking'))\n",
      "(None, ('FinancialCompensation financialCompensation', 'ConfirmedBooking'))\n",
      "(None, ('string bookingIdentifier', 'CancelledBooking'))\n",
      "(None, ('FinancialCompensation financialCompensation', 'CancelledBooking'))\n",
      "(None, ('date expiryDate', 'CreditCardInformation'))\n",
      "(None, ('int cvv', 'CreditCardInformation'))\n",
      "====================\n"
     ]
    }
   ],
   "source": [
    "#  get non-mapped cls on instrucotr side\n",
    "\n",
    "raw_1 = []\n",
    "ref_source = []\n",
    "tup_r = []\n",
    "# get class on instrucotr sides\n",
    "for cls in ref_cls.cls_atr:\n",
    "    if ref_cls.cls_atr[cls][\"counterpart\"] == None:\n",
    "      raw_1.append(cls)\n",
    "      ref_source.append(cls)\n",
    "      tup_r.append((cls, cls))\n",
    "\n",
    "raw_2 = []\n",
    "stu_source = []\n",
    "tup_s = []\n",
    "# get un-mapped class on student sides\n",
    "for cls in stu_cls.cls_atr:\n",
    "  for attributes in stu_cls.cls_atr[cls][\"attributes\"]:\n",
    "    if stu_cls.cls_atr[cls][\"attributes\"][attributes][\"counterpart\"] == None:\n",
    "      raw_2.append(attributes)\n",
    "      stu_source.append(cls)\n",
    "      tup_s.append((attributes, cls))\n",
    "\n",
    "list_1 = create_cosine_similarity_list(raw_1, raw_2, sgram_mde)\n",
    "list_2 = create_cosine_similarity_list(ref_source, stu_source, sgram_mde)\n",
    "combined = combine_two_dict(list_1, list_2, raw_1, raw_2, ref_source, stu_source)\n",
    "\n",
    "mappings = match_attributes(tup_r, tup_s, combined)[0]\n",
    "\n",
    "for mapping in mappings:\n",
    "  print(mapping)\n",
    "  if mapping[0] != None and mapping[1] != None:\n",
    "    # scores = check_attributes_type(mapping[0][0], mapping[1][0], ref_cls.cls_atr, stu_cls.cls_atr)\n",
    "    ref_cls.cls_atr[mapping[0][1]]['score'] = 0.5\n",
    "    ref_cls.cls_atr[mapping[0][1]][\"counterpart\"] = mapping[1]\n",
    "\n",
    "    stu_cls.cls_atr[mapping[1][1]][\"attributes\"][mapping[1][0]]['score'] = 0.5\n",
    "    stu_cls.cls_atr[mapping[1][1]][\"attributes\"][mapping[1][0]][\"counterpart\"] = (None, mapping[0][1])\n",
    "\n",
    "print(\"=\"*20)\n"
   ]
  },
  {
   "cell_type": "code",
   "execution_count": null,
   "metadata": {},
   "outputs": [],
   "source": []
  },
  {
   "cell_type": "markdown",
   "metadata": {
    "id": "Nj29zba_g4b9"
   },
   "source": [
    "## Stage 3: Relationship mapping"
   ]
  },
  {
   "cell_type": "code",
   "execution_count": 4488,
   "metadata": {
    "id": "tcebf4Y10ZWF"
   },
   "outputs": [],
   "source": [
    "def check_relations_classes(ref_index, stu_index, ref_elements, stu_elements):\n",
    "    # ref_index: index of the element in the dsl\n",
    "    # stu_index: index of the element in the dsl\n",
    "    # ref_elements: list[str] elements in the dsl\n",
    "    # stu_elements: list[str] elements in the dsl\n",
    "\n",
    "    ref_class_1 = ref_elements[ref_index]\n",
    "    # check whether this is an abstract class\n",
    "    dict_keys = list(ref_attributes.keys())\n",
    "    if not ref_class_1 in dict_keys:\n",
    "      abstract = \"abstract \" + ref_class_1\n",
    "      ref_class_1 = abstract\n",
    "\n",
    "    true_pair = ref_attributes[ref_class_1][\"counterpart\"]\n",
    "    if isinstance(true_pair, tuple):\n",
    "      boolean_1 = False\n",
    "    elif true_pair == None:\n",
    "      boolean_1 = False\n",
    "    else:\n",
    "      tmp = true_pair.replace(\"abstract \", \"\")\n",
    "      boolean_1 = stu_elements[stu_index] == tmp\n",
    "    return boolean_1"
   ]
  },
  {
   "cell_type": "markdown",
   "metadata": {
    "id": "jOkmZADOQVKU"
   },
   "source": [
    "#### Compare rel"
   ]
  },
  {
   "cell_type": "code",
   "execution_count": 4489,
   "metadata": {
    "id": "W4LkPWHX0kRX"
   },
   "outputs": [],
   "source": [
    "\n",
    "def compare_edges(ref_e, stu_e):\n",
    "  # compare if two relationships match\n",
    "  # return bool, score, score\n",
    "\n",
    "  ref_elements = ref_e.split()\n",
    "  stu_elements = stu_e.split()\n",
    "  # print(ref_elements, stu_elements)\n",
    "\n",
    "  # exact match first\n",
    "  # length must match\n",
    "  n_ref = len(ref_elements)\n",
    "  n_stu = len(stu_elements)\n",
    "  if n_ref == n_stu and n_ref == 5:\n",
    "    # all element must match\n",
    "    boolean_1 = check_relations_classes(1,1,ref_elements,stu_elements )\n",
    "\n",
    "    boolean_4 = check_relations_classes(4,4,ref_elements,stu_elements )\n",
    "\n",
    "    # type\n",
    "    boolean_2 = ref_elements[2] == stu_elements[2]\n",
    "\n",
    "    # association\n",
    "    boolean_0 = ref_elements[0] == stu_elements[0]\n",
    "\n",
    "    # association\n",
    "    boolean_3 = ref_elements[3] == stu_elements[3]\n",
    "\n",
    "    if boolean_0 and boolean_1 and boolean_2 and boolean_3 and boolean_4:\n",
    "      print(\"exact match success\")\n",
    "      print(ref_e, \"|||\", stu_e)\n",
    "      return True, 1, 1\n",
    "\n",
    "    boolean_1_4 = False\n",
    "    boolean_4_1 = False\n",
    "    boolean_1_4 = check_relations_classes(1,4,ref_elements,stu_elements )\n",
    "    boolean_4_1 = check_relations_classes(4,1,ref_elements,stu_elements )\n",
    "\n",
    "    # check if the relationship is fliped, this only works for associate, not containment\n",
    "    if  \"associate\" in ref_elements[2] and \"associate\" in stu_elements[2]:\n",
    "      # association\n",
    "      boolean_0 = ref_elements[0] == stu_elements[3]\n",
    "\n",
    "      # association\n",
    "      boolean_3 = ref_elements[3] == stu_elements[0]\n",
    "\n",
    "    if boolean_0 and boolean_1_4 and boolean_3 and boolean_4_1 and boolean_2:\n",
    "      print(\"match success, flipped associate\")\n",
    "      print(ref_e, \"|||\", stu_e)\n",
    "      return True, 1, 1\n",
    "\n",
    "    # check if relationship is partially match\n",
    "    if  (boolean_1 and boolean_4) or (boolean_1_4 and boolean_4_1):\n",
    "      print(\"match partially success\")\n",
    "      print(ref_e, \"|||\", stu_e)\n",
    "      return True, 0.5, 0.5\n",
    "\n",
    "  if n_ref == n_stu and n_ref == 3:\n",
    "    # all element must match\n",
    "    boolean_0 = check_relations_classes(0,0,ref_elements,stu_elements )\n",
    "    boolean_2 = check_relations_classes(2,2,ref_elements,stu_elements )\n",
    "\n",
    "    # type\n",
    "    boolean_1 = ref_elements[1] == stu_elements[1]\n",
    "\n",
    "    if boolean_0 and boolean_1 and boolean_2:\n",
    "      print(\"match success\")\n",
    "      print(ref_e, \"|||\", stu_e)\n",
    "      # ref_dict[ref_e][\"score\"] = 1\n",
    "      # ref_dict[ref_e][\"counterpart\"] = stu_e\n",
    "\n",
    "      # stu_dict[stu_e][\"score\"] = 1\n",
    "      # stu_dict[stu_e][\"counterpart\"] = ref_e\n",
    "      return True, 1, 1\n",
    "\n",
    "\n",
    "  return False,0, 0"
   ]
  },
  {
   "cell_type": "code",
   "execution_count": 4490,
   "metadata": {
    "id": "Ts1dyVvI0qZL"
   },
   "outputs": [],
   "source": [
    "\n",
    "for i, ref_tmp in enumerate(edges[0].raw_dsl):\n",
    "  matchings = []\n",
    "  for j, stu_tmp in enumerate(edges[1].raw_dsl):\n",
    "    if edges[0].rels[i][\"counterpart\"] is None and edges[1].rels[j][\"counterpart\"] is None:\n",
    "      result = compare_edges(ref_tmp, stu_tmp)\n",
    "      if result[0]:\n",
    "        matching = (i, j, result[1], result[2])\n",
    "        matchings.append(matching)\n",
    "        # matched_stu_edges.add(j)\n",
    "        # matched_ref_edges.add(i)\n",
    "        # edges[0].rels[i][\"score\"] = result[1]\n",
    "        # edges[0].rels[i][\"counterpart\"] = stu_tmp\n",
    "\n",
    "        # edges[1].rels[j][\"score\"] = result[2]\n",
    "        # edges[1].rels[j][\"counterpart\"] = ref_tmp\n",
    "  print(matchings)\n",
    "  if len(matchings) > 0:\n",
    "    print()\n",
    "    highest_score = 0\n",
    "    matching = None\n",
    "\n",
    "    for m in matchings:\n",
    "      if m[2] > highest_score:\n",
    "        matching = m\n",
    "        highest_score = m[2]\n",
    "    j_j = matching[1]\n",
    "    i_i = matching[0]\n",
    "    \n",
    "    edges[0].rels[i_i][\"score\"] = m[2]\n",
    "    edges[0].rels[i_i][\"counterpart\"] = edges[1].raw_dsl[j_j]\n",
    "\n",
    "    edges[1].rels[j_j][\"score\"] = m[3]\n",
    "    edges[1].rels[j_j][\"counterpart\"] = edges[0].raw_dsl[i_i]\n",
    "\n"
   ]
  },
  {
   "cell_type": "markdown",
   "metadata": {
    "id": "zVK8inUYg-4A"
   },
   "source": [
    "## Result: Precision/Recall/F1"
   ]
  },
  {
   "cell_type": "markdown",
   "metadata": {},
   "source": [
    "### save matching to disk"
   ]
  },
  {
   "cell_type": "code",
   "execution_count": 4491,
   "metadata": {},
   "outputs": [],
   "source": [
    "if not os.path.exists(student_out_dir):\n",
    "    os.makedirs(student_out_dir)"
   ]
  },
  {
   "cell_type": "code",
   "execution_count": 4492,
   "metadata": {},
   "outputs": [],
   "source": [
    "# with open( student_out_dir + 'matching.pkl', 'wb') as outp:\n",
    "#     pickle.dump(grader, outp, pickle.HIGHEST_PROTOCOL)"
   ]
  },
  {
   "cell_type": "code",
   "execution_count": 4493,
   "metadata": {},
   "outputs": [
    {
     "data": {
      "text/plain": [
       "'results/gpt-4/yujing/08_HBMS/result/'"
      ]
     },
     "execution_count": 4493,
     "metadata": {},
     "output_type": "execute_result"
    }
   ],
   "source": [
    "student_out_dir"
   ]
  },
  {
   "cell_type": "code",
   "execution_count": 4494,
   "metadata": {},
   "outputs": [],
   "source": [
    "\n",
    "\n",
    "# as requested in comment\n",
    "\n",
    "with open(student_out_dir + 'solution_matching.txt', 'w') as file:\n",
    "     file.write(json.dumps(grader.ref.cls_atr))\n",
    "\n",
    "\n",
    "with open(student_out_dir + 'student_matching.txt', 'w') as file:\n",
    "     file.write(json.dumps(grader.stu.cls_atr))\n",
    "\n",
    "with open(student_out_dir + 'solution_matching_relationship.txt', 'w') as file:\n",
    "     file.write(json.dumps(grader.ref.rel.rels))\n",
    "\n",
    "\n",
    "with open(student_out_dir + 'student_matching_relationship.txt', 'w') as file:\n",
    "     file.write(json.dumps(grader.stu.rel.rels))"
   ]
  },
  {
   "cell_type": "code",
   "execution_count": 4495,
   "metadata": {},
   "outputs": [
    {
     "data": {
      "text/plain": [
       "'results/gpt-4/yujing/08_HBMS/result/'"
      ]
     },
     "execution_count": 4495,
     "metadata": {},
     "output_type": "execute_result"
    }
   ],
   "source": [
    "student_out_dir"
   ]
  },
  {
   "cell_type": "markdown",
   "metadata": {},
   "source": [
    "###### to local"
   ]
  },
  {
   "cell_type": "code",
   "execution_count": 4496,
   "metadata": {},
   "outputs": [],
   "source": [
    "# # # be careful...\n",
    "\n",
    "# with open(student_dir + \"human_eval/\" + 'ref_meta_cls.py', 'w') as file:\n",
    "#     file.write(json.dumps(grader.ref.cls_atr))\n",
    "\n",
    "\n",
    "# with open(student_dir + \"human_eval/\" + 'stu_meta_cls.py', 'w') as file:\n",
    "#     file.write(json.dumps(grader.stu.cls_atr))\n",
    "\n",
    "# with open(student_dir + \"human_eval/\" + 'ref_meta_rels.py', 'w') as file:\n",
    "#     file.write(json.dumps(grader.ref.rel.rels))\n",
    "\n",
    "\n",
    "# with open(student_dir + \"human_eval/\" + 'stu_meta_rels.py', 'w') as file:\n",
    "#     file.write(json.dumps(grader.stu.rel.rels))"
   ]
  },
  {
   "cell_type": "code",
   "execution_count": 4497,
   "metadata": {},
   "outputs": [],
   "source": [
    "algo_result = {}\n",
    "algo_result[\"class\"] = {\"precision\": 0, \"recall\": 0, \"f1\":0}\n",
    "algo_result[\"attribute\"] = {\"precision\": 0, \"recall\": 0, \"f1\":0}\n",
    "algo_result[\"relationship\"] = {\"precision\": 0, \"recall\": 0, \"f1\":0}"
   ]
  },
  {
   "cell_type": "markdown",
   "metadata": {
    "id": "qCEg2NRm1hA3"
   },
   "source": [
    "### Class"
   ]
  },
  {
   "cell_type": "code",
   "execution_count": 4498,
   "metadata": {
    "id": "JOA-f9jC1foa"
   },
   "outputs": [
    {
     "name": "stdout",
     "output_type": "stream",
     "text": [
      "18 14.5\n"
     ]
    }
   ],
   "source": [
    "# recell\n",
    "count = 0\n",
    "recall = 0\n",
    "for key in list(ref_attributes.keys()):\n",
    "  count += 1\n",
    "  recall += ref_attributes[key][\"score\"]\n",
    "print(count, recall)\n",
    "\n",
    "if count != 0:\n",
    "  algo_result[\"class\"]['recall'] = recall / count"
   ]
  },
  {
   "cell_type": "code",
   "execution_count": 4499,
   "metadata": {
    "id": "AbAnFeeM1l4s"
   },
   "outputs": [
    {
     "name": "stdout",
     "output_type": "stream",
     "text": [
      "19 14.0\n"
     ]
    }
   ],
   "source": [
    "# precision\n",
    "count = 0\n",
    "precision = 0\n",
    "for key in list(stu_attributes.keys()):\n",
    "  count += 1\n",
    "  precision += stu_attributes[key][\"score\"]\n",
    "\n",
    "print(count, precision)\n",
    "if count != 0:\n",
    "  algo_result[\"class\"]['precision'] = precision / count\n",
    "\n",
    "if algo_result[\"class\"]['recall']   + algo_result[\"class\"]['precision'] != 0:\n",
    "  algo_result[\"class\"]['f1'] = 2* (algo_result[\"class\"]['recall']   * algo_result[\"class\"]['precision'] ) / ( algo_result[\"class\"]['recall']   + algo_result[\"class\"]['precision']  )\n"
   ]
  },
  {
   "cell_type": "markdown",
   "metadata": {
    "id": "gDH3PsL21unk"
   },
   "source": [
    "### Attribute"
   ]
  },
  {
   "cell_type": "code",
   "execution_count": 4500,
   "metadata": {
    "id": "67CLMQ6j10Wx"
   },
   "outputs": [
    {
     "name": "stdout",
     "output_type": "stream",
     "text": [
      "32 26.0\n"
     ]
    }
   ],
   "source": [
    "# recall\n",
    "count = 0\n",
    "recall = 0\n",
    "for key in list(ref_attributes.keys()):\n",
    "  attrs = ref_attributes[key][\"attributes\"]\n",
    "\n",
    "  for att in attrs:\n",
    "    count += 1\n",
    "    recall += ref_attributes[key][\"attributes\"][att][\"score\"]\n",
    "print(count, recall)\n",
    "\n",
    "if count != 0:\n",
    "  algo_result[\"attribute\"]['recall'] = recall / count"
   ]
  },
  {
   "cell_type": "code",
   "execution_count": 4501,
   "metadata": {
    "id": "7MIGD7kS12JT"
   },
   "outputs": [
    {
     "name": "stdout",
     "output_type": "stream",
     "text": [
      "68 26.5\n"
     ]
    }
   ],
   "source": [
    "count = 0\n",
    "precision = 0\n",
    "for key in list(stu_attributes.keys()):\n",
    "  attrs = stu_attributes[key][\"attributes\"]\n",
    "\n",
    "  for att in attrs:\n",
    "    count += 1\n",
    "    precision += stu_attributes[key][\"attributes\"][att][\"score\"]\n",
    "print(count, precision)\n",
    "\n",
    "if count != 0:\n",
    "  algo_result[\"attribute\"]['precision'] = precision / count\n",
    "\n",
    "r = algo_result[\"attribute\"]['recall']\n",
    "p = algo_result[\"attribute\"]['precision']\n",
    "\n",
    "if r + p != 0:\n",
    "  algo_result[\"attribute\"]['f1'] = 2* (r * p) / (r + p)\n"
   ]
  },
  {
   "cell_type": "markdown",
   "metadata": {
    "id": "qWYSO_N415V0"
   },
   "source": [
    "### Relationship"
   ]
  },
  {
   "cell_type": "code",
   "execution_count": 4502,
   "metadata": {
    "id": "PkuCKrzF17CR"
   },
   "outputs": [
    {
     "name": "stdout",
     "output_type": "stream",
     "text": [
      "0 0\n"
     ]
    }
   ],
   "source": [
    "count = 0\n",
    "recall = 0\n",
    "for tmp in edges[0].rels:\n",
    "  attrs = tmp[\"score\"]\n",
    "\n",
    "  count += 1\n",
    "  recall += attrs\n",
    "print(count, recall)\n",
    "\n",
    "if count != 0:\n",
    "  algo_result[\"relationship\"]['recall'] = recall / count"
   ]
  },
  {
   "cell_type": "code",
   "execution_count": 4503,
   "metadata": {
    "id": "XZE-uCOM2ATr"
   },
   "outputs": [
    {
     "name": "stdout",
     "output_type": "stream",
     "text": [
      "0 0\n"
     ]
    }
   ],
   "source": [
    "count = 0\n",
    "precision = 0\n",
    "for tmp in edges[1].rels:\n",
    "  attrs = tmp[\"score\"]\n",
    "\n",
    "  count += 1\n",
    "  precision += attrs\n",
    "print(count, precision)\n",
    "\n",
    "if count!= 0:\n",
    "  algo_result[\"relationship\"]['precision'] = precision / count\n",
    "r = algo_result[\"relationship\"]['recall']\n",
    "p = algo_result[\"relationship\"]['precision']\n",
    "\n",
    "if r + p != 0:\n",
    "  algo_result[\"relationship\"]['f1'] = 2* (r * p ) / ( r + p )\n"
   ]
  },
  {
   "cell_type": "code",
   "execution_count": 4504,
   "metadata": {},
   "outputs": [],
   "source": [
    "\n",
    "# as requested in comment\n",
    "\n",
    "with open(student_out_dir + 'algo_result.txt', 'w') as file:\n",
    "     file.write(json.dumps(algo_result))"
   ]
  }
 ],
 "metadata": {
  "colab": {
   "collapsed_sections": [
    "pBpCEgQV82Nj",
    "MOMw2WnS8p6h",
    "_UPG9p99KA6q",
    "7D5Je00s8p6i",
    "V84BIi42N3vb",
    "AD1YW_WlcROJ",
    "-lWeUly08p6j",
    "Qt34Gd8g8p6o"
   ],
   "provenance": [],
   "toc_visible": true
  },
  "kernelspec": {
   "display_name": "m38",
   "language": "python",
   "name": "python3"
  },
  "language_info": {
   "codemirror_mode": {
    "name": "ipython",
    "version": 3
   },
   "file_extension": ".py",
   "mimetype": "text/x-python",
   "name": "python",
   "nbconvert_exporter": "python",
   "pygments_lexer": "ipython3",
   "version": "3.8.18"
  }
 },
 "nbformat": 4,
 "nbformat_minor": 0
}
