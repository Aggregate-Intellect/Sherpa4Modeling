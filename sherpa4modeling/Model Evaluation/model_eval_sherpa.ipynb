{
 "cells": [
  {
   "cell_type": "markdown",
   "metadata": {
    "id": "pBpCEgQV82Nj"
   },
   "source": [
    "# Set up"
   ]
  },
  {
   "cell_type": "code",
   "execution_count": 2609,
   "metadata": {},
   "outputs": [],
   "source": [
    "from worde4mde import load_embeddings\n",
    "sgram_mde = load_embeddings('sgram-mde')"
   ]
  },
  {
   "cell_type": "code",
   "execution_count": 2610,
   "metadata": {},
   "outputs": [
    {
     "data": {
      "text/plain": [
       "array([ 0.14674647,  0.42704162,  0.17717203,  0.05179158,  0.38020504,\n",
       "       -0.00091264,  0.02094162,  0.00924711, -0.13806985,  0.1403339 ,\n",
       "       -0.0953936 , -0.03681302,  0.38122246, -0.03746711, -0.17595871,\n",
       "       -0.02031669,  0.23675247,  0.27676958, -0.07487358, -0.1987225 ,\n",
       "        0.02015282,  0.05147164, -0.223504  ,  0.00699752, -0.06145973,\n",
       "        0.00920826,  0.01364714,  0.10218145, -0.25330105, -0.14080754,\n",
       "        0.2541444 ,  0.4577827 , -0.16825216, -0.08050938,  0.11404785,\n",
       "       -0.38822263, -0.06395938, -0.4724689 , -0.00111705,  0.27869806,\n",
       "        0.28032073,  0.02976846, -0.01675524,  0.09774698,  0.18298927,\n",
       "       -0.24398401, -0.3238438 ,  0.01912955,  0.11861664,  0.08640955,\n",
       "        0.18799016, -0.06891091, -0.03893414, -0.04862301,  0.02151174,\n",
       "       -0.39205688, -0.23195332, -0.09532862, -0.01324714, -0.24555108,\n",
       "        0.09372689, -0.21971853, -0.26171875, -0.3605202 , -0.07306654,\n",
       "       -0.16288763,  0.12160088,  0.11416717,  0.17378834, -0.04977667,\n",
       "       -0.02417112, -0.13736062,  0.10142291,  0.14622003, -0.06097897,\n",
       "        0.0110862 ,  0.05240794,  0.15037489,  0.01547078,  0.35214952,\n",
       "       -0.15471339,  0.5516976 ,  0.02722004,  0.02725664,  0.23240256,\n",
       "        0.05949455, -0.44269025, -0.13142551,  0.06569727,  0.35366765,\n",
       "        0.0054803 ,  0.31536654, -0.09254798, -0.15512526, -0.0875922 ,\n",
       "        0.11746775, -0.28369817,  0.09341916, -0.00101699,  0.04416016,\n",
       "       -0.07782371,  0.02029933, -0.22690448, -0.12364466, -0.03259058,\n",
       "        0.22620802, -0.21208178,  0.263114  ,  0.39393342, -0.15680021,\n",
       "        0.22134748,  0.35054302,  0.06579161,  0.35725534, -0.17017011,\n",
       "        0.15412103,  0.26485255, -0.18039705,  0.64513373, -0.19044282,\n",
       "        0.05683825,  0.3352058 , -0.02149567,  0.08801293, -0.08748423,\n",
       "       -0.17109865, -0.14135368,  0.10019533, -0.3675318 ,  0.00882045,\n",
       "        0.16446897, -0.41429162, -0.00912068,  0.40898782,  0.02396349,\n",
       "        0.04935403, -0.43389502,  0.13081332,  0.42163405, -0.01841845,\n",
       "        0.08077876,  0.29817823,  0.15492964,  0.15107153,  0.04632611,\n",
       "       -0.5162636 , -0.4262554 ,  0.4967304 ,  0.26285887, -0.02183742,\n",
       "        0.15454406, -0.15592995, -0.3154367 ,  0.19769375, -0.40255702,\n",
       "        0.5028242 , -0.12623732,  0.04818065, -0.00665806,  0.0951322 ,\n",
       "       -0.13625342, -0.18664543,  0.03917297, -0.13414499, -0.21604219,\n",
       "       -0.17906193,  0.08638127, -0.0697468 ,  0.32579476, -0.03519589,\n",
       "       -0.1119362 , -0.08318598, -0.14666392,  0.15051971,  0.1680534 ,\n",
       "       -0.1643881 ,  0.00266754,  0.05763746,  0.01020493,  0.11781339,\n",
       "        0.03850262,  0.11651297, -0.19016212, -0.24033345,  0.24375466,\n",
       "       -0.12184826,  0.29208905,  0.28852615, -0.13238004, -0.02661056,\n",
       "       -0.09076066, -0.25580582,  0.09068189,  0.14338125, -0.03469551,\n",
       "       -0.01255474, -0.28556666,  0.27322152,  0.25480196,  0.067168  ,\n",
       "       -0.1661719 ,  0.07038358,  0.2961011 ,  0.39964455, -0.24441637,\n",
       "       -0.14219673,  0.4223389 ,  0.08920322, -0.5007695 ,  0.22100608,\n",
       "       -0.04162686,  0.07493343, -0.37272817, -0.08913708, -0.05271813,\n",
       "        0.07073972,  0.03486674,  0.01831518, -0.18682544,  0.24017447,\n",
       "        0.04472353, -0.21995458, -0.09560642,  0.05616789, -0.09767775,\n",
       "        0.46399042,  0.26137525, -0.2067443 , -0.20870632, -0.12792471,\n",
       "       -0.32071748, -0.00343737,  0.00869052, -0.17461683,  0.11852369,\n",
       "       -0.23727247,  0.16901173,  0.1390128 ,  0.19200057,  0.07023092,\n",
       "        0.10720899, -0.3680233 , -0.00385552,  0.30061063, -0.0638096 ,\n",
       "        0.15909314,  0.49717936, -0.02870842,  0.04373342, -0.03065694,\n",
       "       -0.03803138, -0.07179781,  0.1352796 ,  0.1206585 ,  0.28997678,\n",
       "       -0.22211125,  0.07451916, -0.4530426 , -0.12867354,  0.25162628,\n",
       "       -0.04360061, -0.01631085,  0.02732887,  0.26878425, -0.25473082,\n",
       "       -0.0563923 ,  0.47035375, -0.1539718 , -0.08114478,  0.3599968 ,\n",
       "        0.01964958,  0.00155073, -0.13521218, -0.04892039,  0.05788288,\n",
       "       -0.29886478,  0.00960886, -0.23544846, -0.46280792,  0.05992502,\n",
       "       -0.42226458,  0.31675085, -0.01231112,  0.15420774, -0.55189675,\n",
       "       -0.08054933,  0.24695848,  0.19135405,  0.2637137 ,  0.2340654 ,\n",
       "        0.05448505, -0.5442373 , -0.01433846,  0.35339138, -0.1810006 ,\n",
       "       -0.07710031, -0.04899847, -0.14326005, -0.2965767 , -0.10492669],\n",
       "      dtype=float32)"
      ]
     },
     "execution_count": 2610,
     "metadata": {},
     "output_type": "execute_result"
    }
   ],
   "source": [
    "word = 'ecore'\n",
    "sgram_mde[word]"
   ]
  },
  {
   "cell_type": "code",
   "execution_count": 2611,
   "metadata": {},
   "outputs": [],
   "source": [
    "# import pickle\n",
    "\n",
    "import ast\n",
    "import pandas as pd\n",
    "import numpy as np\n",
    "\n",
    "from worde4mde import load_embeddings\n",
    "import re\n",
    "\n",
    "import os\n",
    "import openai\n",
    "from openai import OpenAI\n",
    "import json\n",
    "\n",
    "import networkx as nx\n",
    "import sys\n"
   ]
  },
  {
   "cell_type": "code",
   "execution_count": 2612,
   "metadata": {},
   "outputs": [],
   "source": [
    "from dotenv import load_dotenv\n",
    "\n",
    "# %%\n",
    "\n",
    "load_dotenv()\n",
    "\n",
    "openai_key = os.getenv('openai_key')\n",
    "os.environ['OPENAI_API_KEY'] = openai_key"
   ]
  },
  {
   "cell_type": "markdown",
   "metadata": {},
   "source": [
    "## Input"
   ]
  },
  {
   "cell_type": "code",
   "execution_count": 2613,
   "metadata": {},
   "outputs": [
    {
     "data": {
      "text/plain": [
       "'results/gpt-4o/yujing/07_Tile/result/'"
      ]
     },
     "execution_count": 2613,
     "metadata": {},
     "output_type": "execute_result"
    }
   ],
   "source": [
    "##### update here to change input file directory ######\n",
    "##### update here to change input file directory ######\n",
    "##### update here to change input file directory ######\n",
    "##### update here to change input file directory ######\n",
    "\n",
    "instructor_dir = \"results/\"\n",
    "\n",
    "# 01_LabTracker\n",
    "# 02_CelO\n",
    "# 03_TSS\n",
    "# 04_SHAS\n",
    "# 05_OTS\n",
    "# 06_Block\n",
    "# 07_Tile\n",
    "# 08_HBMS\n",
    "problem_id = \"08_HBMS\"\n",
    "\n",
    "# location of reference domain model is stored. It is in .txt format\n",
    "instructor_input = instructor_dir + problem_id + \".txt\"\n",
    "\n",
    "# gpt-4o-mini\n",
    "# gpt-4\n",
    "# gpt-4o\n",
    "llm_id = \"gpt-4o\"\n",
    "\n",
    "# yujing\n",
    "# sherpa\n",
    "method_id = \"yujing\"\n",
    "\n",
    "student_dir = instructor_dir + llm_id + '/' + method_id + '/' + problem_id + '/'\n",
    "if not os.path.exists(student_dir):\n",
    "    # Create the directory\n",
    "    os.makedirs(student_dir)\n",
    "    \n",
    "# location of generated domain model is saved. The file should be in .txt    \n",
    "student_input = student_dir + problem_id + \".txt\"\n",
    "student_input\n",
    "student_out_dir = student_dir + \"result/\"\n",
    "student_out_dir"
   ]
  },
  {
   "cell_type": "code",
   "execution_count": 2614,
   "metadata": {
    "colab": {
     "base_uri": "https://localhost:8080/",
     "height": 408
    },
    "id": "4wrNW7WHaq87",
    "outputId": "8b57cb37-45b8-4bac-860c-b6e933a5c239"
   },
   "outputs": [],
   "source": [
    "# First of all, you need to load the embeddings (currently supported: 'sgram-mde' and 'glove-mde')\n",
    "sgram_mde = load_embeddings('sgram-mde')\n",
    "# glove = load_embeddings('glove-mde')\n",
    "# sgram_mde[\"id\"]"
   ]
  },
  {
   "cell_type": "code",
   "execution_count": 2615,
   "metadata": {},
   "outputs": [],
   "source": [
    "# word = 'id'\n",
    "# sgram_mde.most_similar(positive=[word])"
   ]
  },
  {
   "cell_type": "code",
   "execution_count": 2616,
   "metadata": {
    "id": "GnemiQCKo1uA"
   },
   "outputs": [],
   "source": [
    "def inEmbedding(word, embedding):\n",
    "  try:\n",
    "    return True, embedding[word]\n",
    "  except:\n",
    "    return False, None"
   ]
  },
  {
   "cell_type": "code",
   "execution_count": 2617,
   "metadata": {
    "id": "tYrP3rmxLQ3o"
   },
   "outputs": [
    {
     "data": {
      "text/plain": [
       "['device', 'ID']"
      ]
     },
     "execution_count": 2617,
     "metadata": {},
     "output_type": "execute_result"
    }
   ],
   "source": [
    "\n",
    "def splitCamelCase(word):\n",
    "  splitted = re.sub('([A-Z][a-z]+)', r' \\1', re.sub('([A-Z]+)', r' \\1', word)).split()\n",
    "  return splitted\n",
    "\n",
    "splitCamelCase(\"device ID\")"
   ]
  },
  {
   "cell_type": "code",
   "execution_count": 2618,
   "metadata": {},
   "outputs": [
    {
     "data": {
      "text/plain": [
       "['Command', 'Status']"
      ]
     },
     "execution_count": 2618,
     "metadata": {},
     "output_type": "execute_result"
    }
   ],
   "source": [
    "splitCamelCase(\"CommandStatus\")"
   ]
  },
  {
   "cell_type": "code",
   "execution_count": 2619,
   "metadata": {
    "id": "YJ7yNdA488Vm"
   },
   "outputs": [],
   "source": [
    "# client = OpenAI()\n",
    "\n",
    "# def run_llm(prompt, model =\"gpt-3.5-turbo\"):\n",
    "#   response = client.chat.completions.create(\n",
    "#     model=model,\n",
    "#     messages=[\n",
    "#       {\"role\": \"user\", \"content\": prompt},\n",
    "\n",
    "#     ]\n",
    "#   )\n",
    "#   return response.choices[0].message.content"
   ]
  },
  {
   "cell_type": "code",
   "execution_count": 2620,
   "metadata": {
    "id": "0Juq9RcN9BcX"
   },
   "outputs": [],
   "source": [
    "client = OpenAI()\n",
    "\n",
    "def get_embedding(text, model=\"text-embedding-ada-002\"):\n",
    "   text = text.replace(\"\\n\", \" \")\n",
    "   return client.embeddings.create(input = [text], model=model).data[0].embedding"
   ]
  },
  {
   "cell_type": "code",
   "execution_count": 2621,
   "metadata": {
    "id": "-qddd_ct9lDV"
   },
   "outputs": [],
   "source": [
    "def get_all_info(class_index, class_nodes, list_of_classes, list_edges, need_edge = True):\n",
    "  result = ''\n",
    "  result +=  list_of_classes[class_index] + \"\\n\"\n",
    "  node = class_nodes[class_index]\n",
    "  if \"abstract\" in node:\n",
    "      node = node.replace(\"abstract\", \"\").strip()\n",
    "  if \"Abstract\" in node:\n",
    "      node = node.replace(\"Abstract\", \"\").strip()\n",
    "  if need_edge:\n",
    "    for edge in list_edges:\n",
    "      element = [i.strip() for i in edge.split()]\n",
    "      if node in element:\n",
    "        result += edge + \"\\n\"\n",
    "\n",
    "  return  result"
   ]
  },
  {
   "cell_type": "code",
   "execution_count": 2622,
   "metadata": {
    "id": "PF1WvdorJYa8"
   },
   "outputs": [],
   "source": [
    "def match_classes(raw_1, raw_2, dict_attr, thresh = 0.5, verbose = False):\n",
    "  # raw_1: nodes from reference solution\n",
    "  # raw_2: nodes from student solution\n",
    "  # dict_attr: dictionary for embeddings\n",
    "  # thresh for subst cost\n",
    "  # map class lists raw_1 and raw_2\n",
    "  print(dict_attr)\n",
    "  def node_subst_cost_attr(node1, node2):\n",
    "    # threshod as 0.45\n",
    "    if dict_attr[node1[\"name\"]][node2[\"name\"]] < thresh:\n",
    "      return 3\n",
    "    else:\n",
    "      return 1-dict_attr[node1[\"name\"]][node2[\"name\"]]\n",
    "    \n",
    "\n",
    "\n",
    "  G_att_1 = nx.Graph()\n",
    "  G_att_2 = nx.Graph()\n",
    "  for node in raw_1:\n",
    "    G_att_1.add_node(node, name = node)\n",
    "\n",
    "  for node in raw_2:\n",
    "    G_att_2.add_node(node, name = node)\n",
    "\n",
    "  for v in nx.optimize_edit_paths(G_att_1, G_att_2, node_subst_cost=node_subst_cost_attr, edge_match=None, timeout = 20):\n",
    "      minv = v\n",
    "  # minv\n",
    "\n",
    "  return minv"
   ]
  },
  {
   "cell_type": "markdown",
   "metadata": {
    "id": "y7GUzcWW8p6a"
   },
   "source": [
    "# Group"
   ]
  },
  {
   "cell_type": "code",
   "execution_count": 2623,
   "metadata": {
    "id": "ADtI3209Oy52"
   },
   "outputs": [],
   "source": [
    "class Grader():\n",
    "  def __init__(self):\n",
    "    self.ref = None\n",
    "    self.stu = None"
   ]
  },
  {
   "cell_type": "code",
   "execution_count": 2624,
   "metadata": {
    "id": "qvUpWnJVC-9P"
   },
   "outputs": [],
   "source": [
    "grader = Grader()"
   ]
  },
  {
   "cell_type": "markdown",
   "metadata": {
    "id": "MOMw2WnS8p6h"
   },
   "source": [
    "## Class"
   ]
  },
  {
   "cell_type": "markdown",
   "metadata": {
    "id": "_UPG9p99KA6q"
   },
   "source": [
    "### Define metadata"
   ]
  },
  {
   "cell_type": "code",
   "execution_count": 2625,
   "metadata": {
    "id": "IaR1jGbEKCq4"
   },
   "outputs": [],
   "source": [
    "class ModelInfo():\n",
    "\n",
    "  def __init(self):\n",
    "    self.cls_atr = {}\n",
    "    self.cls_name = []\n",
    "    self.raw_dsl = []\n",
    "    self.rel = None"
   ]
  },
  {
   "cell_type": "code",
   "execution_count": 2626,
   "metadata": {
    "id": "4-b5m2ovKZDg"
   },
   "outputs": [],
   "source": [
    "ref_cls = ModelInfo()\n",
    "stu_cls = ModelInfo()"
   ]
  },
  {
   "cell_type": "code",
   "execution_count": 2627,
   "metadata": {
    "id": "bviDqFkT42Tc"
   },
   "outputs": [],
   "source": [
    "grader.ref = ref_cls\n",
    "grader.stu = stu_cls"
   ]
  },
  {
   "cell_type": "code",
   "execution_count": 2628,
   "metadata": {},
   "outputs": [],
   "source": [
    "with open(instructor_input, 'r') as file:\n",
    "    # Read the entire content of the file\n",
    "    instructor_all = file.read()\n",
    "\n",
    "with open(student_input, 'r') as file:\n",
    "    # Read the entire content of the file\n",
    "    student_all = file.read()"
   ]
  },
  {
   "cell_type": "code",
   "execution_count": 2629,
   "metadata": {},
   "outputs": [
    {
     "name": "stdout",
     "output_type": "stream",
     "text": [
      "Enumerations:\n",
      "Mode(design, game)\n",
      "Color(red, blue, green, yellow)\n",
      "\n",
      "Classes:\n",
      "TileO()\n",
      "Game(int currentConnectionPieces, Mode mode, int spaceConnectionPieces, int numberOfActionCards)\n",
      "\n",
      "\n",
      "Connection()\n",
      "\n",
      "Die()\n",
      "Deck()\n",
      "\n",
      "abstract Tile(int x, int y, boolean hasBeenVisited)\n",
      "abstract ActionCard (string instructions)\n",
      "RollDieActionCard()\n",
      "ConnectTilesActionCard()\n",
      "RemoveConnectionActionCard()\n",
      "TeleportActionCard()\n",
      "LoseTurnActionCard()\n",
      "WinTile()\n",
      "ActionTile(int inactivityPeriod, int turnsUntilActive)\n",
      "NormalTile()\n",
      "Player(int number, int turnsUntilActive, Color color)\n",
      "\n",
      "\n",
      "Relationships:\n",
      "\n"
     ]
    }
   ],
   "source": [
    "print(instructor_all)"
   ]
  },
  {
   "cell_type": "code",
   "execution_count": 2630,
   "metadata": {},
   "outputs": [
    {
     "name": "stdout",
     "output_type": "stream",
     "text": [
      "Enumerations:\n",
      "ActionCardType(RollExtraTurn, ConnectTiles, RemoveConnection, MoveToTile, LoseTurn)\n",
      "\n",
      "Classes:\n",
      "Game(int currentPlayerIndex, boolean isGameOver, string version, string status, string designerName)\n",
      "Board(int width, int height)\n",
      "\n",
      "\n",
      "\n",
      "Die(int sides)\n",
      "\n",
      "Tile(boolean isVisited, boolean isHidden, boolean isActionTile, int turnsRemaining)\n",
      "ActionCard(ActionCardType type, string description)\n",
      "\n",
      "\n",
      "Player(string name, string color, int currentPosition)\n",
      "\n",
      "\n",
      "Relationships:\n",
      "\n"
     ]
    }
   ],
   "source": [
    "print(student_all)"
   ]
  },
  {
   "cell_type": "code",
   "execution_count": 2631,
   "metadata": {},
   "outputs": [],
   "source": [
    "shas_sol = instructor_all.split(\"Relationships:\")[0]\n",
    "stu_sol_g =  student_all.split(\"Relationships:\")[0] # student solution"
   ]
  },
  {
   "cell_type": "code",
   "execution_count": 2632,
   "metadata": {
    "id": "PHb2yzli8p6h"
   },
   "outputs": [],
   "source": [
    "ref_classes_raw = []\n",
    "tmp = shas_sol.strip().splitlines()\n",
    "ref_classes_raw = [i.strip() for i in tmp if len(i) > 0]\n",
    "ref_classes_raw\n",
    "\n",
    "reference_class = []\n",
    "tmp = shas_sol.strip().splitlines()\n",
    "reference_class = [i.split(\"(\")[0].strip() for i in tmp if len(i) > 0]"
   ]
  },
  {
   "cell_type": "code",
   "execution_count": 2633,
   "metadata": {
    "id": "zR4naxeW8p6h"
   },
   "outputs": [
    {
     "data": {
      "text/plain": [
       "['Enumerations:',\n",
       " 'ActionCardType',\n",
       " 'Classes:',\n",
       " 'Game',\n",
       " 'Board',\n",
       " 'Die',\n",
       " 'Tile',\n",
       " 'ActionCard',\n",
       " 'Player']"
      ]
     },
     "execution_count": 2633,
     "metadata": {},
     "output_type": "execute_result"
    }
   ],
   "source": [
    "stu_classes_raw = []\n",
    "tmp = stu_sol_g.strip().splitlines()\n",
    "stu_classes_raw = [i.strip() for i in tmp if len(i) > 0]\n",
    "stu_classes_raw\n",
    "\n",
    "tmp = stu_sol_g.strip().splitlines()\n",
    "stu_class = [i.split(\"(\")[0].strip() for i in tmp if len(i) > 0]\n",
    "stu_class"
   ]
  },
  {
   "cell_type": "code",
   "execution_count": 2634,
   "metadata": {
    "id": "Kt4R2geh8p6h"
   },
   "outputs": [],
   "source": [
    "ref_attributes = {}\n",
    "enum_index = ref_classes_raw.index(\"Enumerations:\")\n",
    "regular_index = ref_classes_raw.index(\"Classes:\")\n",
    "for cla, dsl in zip(reference_class, ref_classes_raw):\n",
    "  if dsl == \"Enumerations:\" or dsl == \"Classes:\":\n",
    "    continue\n",
    "  else:\n",
    "    index = ref_classes_raw.index(dsl)\n",
    "    if index > regular_index:\n",
    "      class_type = \"regular\"\n",
    "      if \"abstract\" in dsl:\n",
    "        class_type = \"abstract\"\n",
    "    else:\n",
    "      class_type = \"enum\"\n",
    "    ref_attributes[cla] = {\"score\": 0, \"type\":class_type, \"dsl\":dsl, \"counterpart\": None, \"attributes\": {}}\n",
    "\n",
    "    attributes = dsl.split(\"(\")[1][:-1].split(\",\")\n",
    "    for attr in attributes:\n",
    "      attr = attr.strip()\n",
    "      if len(attr) > 0:\n",
    "        ref_attributes[cla][\"attributes\"][attr] = {\"score\":0, \"counterpart\": None}"
   ]
  },
  {
   "cell_type": "code",
   "execution_count": 2635,
   "metadata": {
    "id": "L_TGf3xW8p6i"
   },
   "outputs": [],
   "source": [
    "reference_class.remove(\"Enumerations:\")\n",
    "reference_class.remove(\"Classes:\")\n",
    "\n",
    "ref_classes_raw.remove(\"Enumerations:\")\n",
    "ref_classes_raw.remove(\"Classes:\")"
   ]
  },
  {
   "cell_type": "code",
   "execution_count": 2636,
   "metadata": {
    "id": "6WI2xkurLJTq"
   },
   "outputs": [],
   "source": [
    "ref_cls.cls_name = reference_class\n",
    "ref_cls.raw_dsl = ref_classes_raw\n",
    "ref_cls.cls_atr = ref_attributes"
   ]
  },
  {
   "cell_type": "code",
   "execution_count": 2637,
   "metadata": {
    "id": "nkxF3Yda8p6i"
   },
   "outputs": [
    {
     "name": "stdout",
     "output_type": "stream",
     "text": [
      "ActionCardType(RollExtraTurn, ConnectTiles, RemoveConnection, MoveToTile, LoseTurn)\n",
      "Game(int currentPlayerIndex, boolean isGameOver, string version, string status, string designerName)\n",
      "Board(int width, int height)\n",
      "Die(int sides)\n",
      "Tile(boolean isVisited, boolean isHidden, boolean isActionTile, int turnsRemaining)\n",
      "ActionCard(ActionCardType type, string description)\n",
      "Player(string name, string color, int currentPosition)\n"
     ]
    }
   ],
   "source": [
    "stu_attributes = {}\n",
    "enum_index = stu_classes_raw.index(\"Enumerations:\")\n",
    "regular_index = stu_classes_raw.index(\"Classes:\")\n",
    "\n",
    "for cla, dsl in zip(stu_class, stu_classes_raw):\n",
    "  if dsl == \"Enumerations:\" or dsl == \"Classes:\":\n",
    "    continue\n",
    "  else:\n",
    "    index = stu_classes_raw.index(dsl)\n",
    "    if index > regular_index:\n",
    "      class_type = \"regular\"\n",
    "      if \"abstract\" in dsl:\n",
    "        class_type = \"abstract\"\n",
    "    else:\n",
    "      class_type = \"enum\"\n",
    "\n",
    "    stu_attributes[cla] = {\"score\": 0, \"type\":class_type, \"dsl\":dsl, \"counterpart\": None, \"attributes\": {}}\n",
    "\n",
    "    print(dsl)\n",
    "    attributes = dsl.split(\"(\")[1][:-1].split(\",\")\n",
    "    for attr in attributes:\n",
    "      attr = attr.strip()\n",
    "      if len(attr) > 0:\n",
    "        stu_attributes[cla][\"attributes\"][attr] = {\"score\":0, \"counterpart\": None}"
   ]
  },
  {
   "cell_type": "code",
   "execution_count": 2638,
   "metadata": {
    "id": "iK3ITyIW8p6i"
   },
   "outputs": [],
   "source": [
    "stu_class.remove(\"Enumerations:\")\n",
    "stu_class.remove(\"Classes:\")\n",
    "\n",
    "stu_classes_raw.remove(\"Enumerations:\")\n",
    "stu_classes_raw.remove(\"Classes:\")"
   ]
  },
  {
   "cell_type": "code",
   "execution_count": 2639,
   "metadata": {
    "id": "-DjOKJ1wNNdt"
   },
   "outputs": [],
   "source": [
    "stu_cls.cls_name = stu_class\n",
    "stu_cls.raw_dsl = stu_classes_raw\n",
    "stu_cls.cls_atr = stu_attributes"
   ]
  },
  {
   "cell_type": "markdown",
   "metadata": {
    "id": "dblsT4MS8p6i"
   },
   "source": [
    "## Edges"
   ]
  },
  {
   "cell_type": "markdown",
   "metadata": {
    "id": "7D5Je00s8p6i"
   },
   "source": [
    "### reference and student solutions"
   ]
  },
  {
   "cell_type": "code",
   "execution_count": 2640,
   "metadata": {},
   "outputs": [],
   "source": [
    "shas_edges = instructor_all.split(\"Relationships:\")[1]\n",
    "shas_G2_edges =  student_all.split(\"Relationships:\")[1] # student solution"
   ]
  },
  {
   "cell_type": "code",
   "execution_count": 2641,
   "metadata": {},
   "outputs": [
    {
     "data": {
      "text/plain": [
       "'\\n'"
      ]
     },
     "execution_count": 2641,
     "metadata": {},
     "output_type": "execute_result"
    }
   ],
   "source": [
    "shas_edges"
   ]
  },
  {
   "cell_type": "code",
   "execution_count": 2642,
   "metadata": {},
   "outputs": [
    {
     "data": {
      "text/plain": [
       "'\\n'"
      ]
     },
     "execution_count": 2642,
     "metadata": {},
     "output_type": "execute_result"
    }
   ],
   "source": [
    "shas_edges"
   ]
  },
  {
   "cell_type": "code",
   "execution_count": 2643,
   "metadata": {
    "id": "9ShLk-8_8p6i"
   },
   "outputs": [],
   "source": [
    "shas_edges = shas_edges.replace(\"0..*\",\"*\")"
   ]
  },
  {
   "cell_type": "code",
   "execution_count": 2644,
   "metadata": {
    "id": "54aKqVt58p6j"
   },
   "outputs": [],
   "source": [
    "shas_G2_edges = shas_G2_edges.replace(\"0..*\",\"*\")"
   ]
  },
  {
   "cell_type": "code",
   "execution_count": 2645,
   "metadata": {
    "id": "onsbAmwq8p6j"
   },
   "outputs": [],
   "source": [
    "tmp = shas_edges.strip().splitlines()\n",
    "ref_edges = [i.strip() for i in tmp if len(i) > 0]\n",
    "\n",
    "for i in ref_edges:\n",
    "  length = len(i.split())\n",
    "  if length == 5 or length == 3:\n",
    "    pass\n",
    "  else:\n",
    "    print(\"Reference Length error:\", i)\n",
    "\n",
    "tmp = shas_G2_edges.strip().splitlines()\n",
    "stu_edges = [i.strip() for i in tmp if len(i) > 0]\n",
    "\n",
    "for i in stu_edges:\n",
    "  length = len(i.split())\n",
    "  if length == 5 or length == 3:\n",
    "    pass\n",
    "  else:\n",
    "    print(\"Student Length error:\", i)\n",
    "\n"
   ]
  },
  {
   "cell_type": "code",
   "execution_count": 2646,
   "metadata": {
    "id": "MqopbetK8p6j"
   },
   "outputs": [],
   "source": [
    "class Relationship:\n",
    "  def __init__(self):\n",
    "    self.rels = [] # list of dict{}\n",
    "    self.raw_dsl = []\n",
    "  # find first non-matched or matched reltionshipi given dsl\n",
    "  def find_relation(self, dsl, matched = False):\n",
    "    for index, i in enumerate(self.rels):\n",
    "      if i[\"dsl\"] == dsl and i[\"counterpart\"] is None:\n",
    "        return index, i\n",
    "\n",
    "    return None"
   ]
  },
  {
   "cell_type": "code",
   "execution_count": 2647,
   "metadata": {
    "id": "lznKb5N28p6j"
   },
   "outputs": [],
   "source": [
    "ref_edges_obj = Relationship()\n",
    "stu_edges_obj = Relationship()\n",
    "\n",
    "\n",
    "ref_edges_dict = []\n",
    "for e in ref_edges:\n",
    "  ref_edges_dict.append({\"dsl\":e,\"score\":0, \"counterpart\": None})\n",
    "\n",
    "ref_edges_obj.rels = ref_edges_dict\n",
    "ref_edges_obj.raw_dsl = ref_edges\n",
    "\n",
    "stu_edges_dict = []\n",
    "for e in stu_edges:\n",
    "  stu_edges_dict.append({\"dsl\":e,\"score\":0, \"counterpart\": None})\n",
    "\n",
    "stu_edges_obj.rels = stu_edges_dict\n",
    "stu_edges_obj.raw_dsl = stu_edges"
   ]
  },
  {
   "cell_type": "code",
   "execution_count": 2648,
   "metadata": {
    "id": "oxwZDyyDaibf"
   },
   "outputs": [],
   "source": [
    "# link to classInfo object\n",
    "ref_cls.rel = ref_edges_obj\n",
    "stu_cls.rel = stu_edges_obj"
   ]
  },
  {
   "cell_type": "code",
   "execution_count": 2649,
   "metadata": {
    "id": "6Otwiuqn8p6j"
   },
   "outputs": [],
   "source": [
    "edges = [ref_edges_obj, stu_edges_obj]"
   ]
  },
  {
   "cell_type": "markdown",
   "metadata": {
    "id": "pjvx1y428p6j"
   },
   "source": [
    "## Getting embedding"
   ]
  },
  {
   "cell_type": "code",
   "execution_count": 2650,
   "metadata": {},
   "outputs": [],
   "source": [
    "def removeChars(text, chars):\n",
    "    for c in chars:\n",
    "        text = text.replace(c,\"\")\n",
    "    return text\n"
   ]
  },
  {
   "cell_type": "code",
   "execution_count": 2651,
   "metadata": {
    "id": "ee0LtyGkkVu3"
   },
   "outputs": [],
   "source": [
    "def get_mde_embedding(text, embedding):\n",
    "  # >>> get_mde_embedding(\"WhatDevice\", sgram_mde)\n",
    "  words = splitCamelCase(removeChars(text, [\"(\",\")\",\",\"]))\n",
    "  lowercase_list = [s.lower() for s in words]\n",
    "  counter = 0\n",
    "  emb = np.zeros(300)\n",
    "  for w in lowercase_list:\n",
    "    try:\n",
    "      emb += embedding[w]\n",
    "      counter += 1\n",
    "    except:\n",
    "      # if failed in emb the complete word, embed the token\n",
    "      tmp = np.zeros(300)\n",
    "      for char in list(w):\n",
    "\n",
    "        tmp += embedding[char]\n",
    "      emb += (tmp / len(w))\n",
    "      counter += 1\n",
    "  return emb / counter"
   ]
  },
  {
   "cell_type": "code",
   "execution_count": 2652,
   "metadata": {},
   "outputs": [
    {
     "data": {
      "text/plain": [
       "['Automation', 'Status', 'Created', 'Edited', 'Activated', 'Deactivated']"
      ]
     },
     "execution_count": 2652,
     "metadata": {},
     "output_type": "execute_result"
    }
   ],
   "source": [
    "text = \"AutomationStatus (Created, Edited, Activated, Deactivated)\"\n",
    "words = splitCamelCase(removeChars(text, [\"(\",\")\",\",\"]))\n",
    "words"
   ]
  },
  {
   "cell_type": "code",
   "execution_count": 2653,
   "metadata": {
    "id": "G_8OE4YpljN7"
   },
   "outputs": [],
   "source": [
    "def cosine_distance(emb_i, emb_j):\n",
    "  return np.dot(emb_i, emb_j) / (np.linalg.norm(emb_i) * np.linalg.norm(emb_j))"
   ]
  },
  {
   "cell_type": "markdown",
   "metadata": {
    "id": "V84BIi42N3vb"
   },
   "source": [
    "## Stage 1.1 Class name mapping"
   ]
  },
  {
   "cell_type": "code",
   "execution_count": 2654,
   "metadata": {
    "id": "4Bfij7cROA8x"
   },
   "outputs": [
    {
     "name": "stdout",
     "output_type": "stream",
     "text": [
      "\n",
      "\n",
      "\n",
      "\n",
      "\n",
      "\n",
      "\n",
      "\n",
      "\n",
      "\n",
      "\n",
      "\n",
      "\n",
      "\n",
      "\n",
      "\n",
      "\n",
      "\n",
      "\n",
      "\n",
      "\n",
      "\n",
      "\n",
      "\n",
      "\n",
      "\n",
      "\n",
      "\n",
      "\n",
      "\n",
      "\n",
      "\n",
      "\n",
      "\n",
      "\n",
      "\n",
      "\n",
      "\n",
      "\n",
      "\n",
      "\n",
      "\n",
      "\n",
      "\n",
      "\n",
      "\n",
      "\n",
      "\n",
      "\n",
      "\n",
      "\n",
      "\n",
      "\n",
      "\n",
      "\n",
      "\n",
      "\n",
      "\n",
      "\n",
      "\n",
      "\n",
      "\n",
      "\n",
      "\n",
      "\n",
      "\n",
      "\n",
      "\n",
      "\n",
      "\n",
      "\n",
      "\n",
      "\n",
      "\n",
      "\n",
      "\n",
      "\n",
      "\n",
      "\n",
      "\n",
      "\n",
      "\n",
      "\n",
      "\n",
      "\n",
      "\n",
      "\n",
      "\n",
      "\n",
      "\n",
      "\n",
      "\n",
      "\n",
      "\n",
      "\n",
      "\n",
      "\n",
      "\n",
      "\n",
      "\n",
      "\n",
      "\n",
      "\n",
      "\n",
      "\n",
      "\n",
      "\n",
      "\n",
      "\n",
      "\n",
      "\n",
      "\n",
      "\n",
      "\n",
      "\n",
      "\n",
      "\n",
      "\n",
      "\n",
      "\n",
      "\n",
      "\n",
      "\n",
      "\n",
      "\n",
      "\n"
     ]
    }
   ],
   "source": [
    "# get name embedding\n",
    "# all info\n",
    "similarity_mde = []\n",
    "mde_embedding = sgram_mde\n",
    "threshold = 0.7\n",
    "similarity_mde_dsl = []\n",
    "percentage = 0.8\n",
    "for index, node in enumerate(ref_cls.cls_name):\n",
    "  cls = node.split()[-1].strip() # get the class name, remove abstract key word\n",
    "  \n",
    "  mde_emb_i = get_mde_embedding(cls, mde_embedding)\n",
    "  mde_emb_i_dsl = get_mde_embedding(ref_cls.cls_atr[node][\"dsl\"], mde_embedding)\n",
    "\n",
    "  pair = []\n",
    "  mde_pair = []\n",
    "  for j, stu_node in enumerate(stu_cls.cls_name):\n",
    "    cls = stu_node.split()[-1].strip() # get the class name, remove abstract key word\n",
    "    print()\n",
    "    mde_emb_j = get_mde_embedding(cls, mde_embedding)\n",
    "    mde_emb_j_dsl = get_mde_embedding(stu_cls.cls_atr[stu_node][\"dsl\"], mde_embedding)\n",
    "\n",
    "    mde_sim = cosine_distance(mde_emb_i, mde_emb_j)\n",
    "    mde_sim_dsl = cosine_distance(mde_emb_i_dsl, mde_emb_j_dsl)\n",
    "\n",
    "    mde_pair.append(mde_sim * percentage + (1-percentage) * mde_sim_dsl)\n",
    "\n",
    "  # apply third quartile\n",
    "  similarity_mde.append(mde_pair)\n",
    "\n",
    "dict_sim_word = {}\n",
    "for i in range(len(ref_cls.cls_name)):\n",
    "  dict_sim_word[ref_cls.cls_name[i]] = {}\n",
    "  for j in range(len(stu_cls.cls_name)):\n",
    "    dict_sim_word[ref_cls.cls_name[i]][stu_cls.cls_name[j]] = similarity_mde[i][j]"
   ]
  },
  {
   "cell_type": "code",
   "execution_count": 2655,
   "metadata": {},
   "outputs": [],
   "source": [
    "for key in dict_sim_word:\n",
    "    exact_match = False\n",
    "    exact_cls = \"\"\n",
    "    for cls_2 in dict_sim_word[key]:\n",
    "        if dict_sim_word[key][cls_2] > 0.99:\n",
    "            exact_match = True\n",
    "            exact_cls = cls_2\n",
    "            print(cls_2)\n",
    "            break\n",
    "    \n",
    "    if exact_match:    # keep the exact match, others to 0\n",
    "        print(\"update\")\n",
    "        for cls_2 in dict_sim_word[key]:\n",
    "            if cls_2 !=  exact_cls:\n",
    "                dict_sim_word[key][cls_2] = 0\n",
    "\n",
    "similarity_mde = []\n",
    "for i in dict_sim_word:\n",
    "    tmp = []\n",
    "    for j in dict_sim_word[i]:\n",
    "        tmp.append(dict_sim_word[i][j])\n",
    "\n",
    "    similarity_mde.append(tmp)"
   ]
  },
  {
   "cell_type": "code",
   "execution_count": 2656,
   "metadata": {
    "id": "eWumU7AcQqKv"
   },
   "outputs": [
    {
     "data": {
      "text/html": [
       "<div>\n",
       "<style scoped>\n",
       "    .dataframe tbody tr th:only-of-type {\n",
       "        vertical-align: middle;\n",
       "    }\n",
       "\n",
       "    .dataframe tbody tr th {\n",
       "        vertical-align: top;\n",
       "    }\n",
       "\n",
       "    .dataframe thead th {\n",
       "        text-align: right;\n",
       "    }\n",
       "</style>\n",
       "<table border=\"1\" class=\"dataframe\">\n",
       "  <thead>\n",
       "    <tr style=\"text-align: right;\">\n",
       "      <th></th>\n",
       "      <th>ActionCardType</th>\n",
       "      <th>Game</th>\n",
       "      <th>Board</th>\n",
       "      <th>Die</th>\n",
       "      <th>Tile</th>\n",
       "      <th>ActionCard</th>\n",
       "      <th>Player</th>\n",
       "    </tr>\n",
       "  </thead>\n",
       "  <tbody>\n",
       "    <tr>\n",
       "      <th>Mode</th>\n",
       "      <td>0.267808</td>\n",
       "      <td>0.248988</td>\n",
       "      <td>0.149749</td>\n",
       "      <td>0.185278</td>\n",
       "      <td>0.149311</td>\n",
       "      <td>0.223748</td>\n",
       "      <td>0.252559</td>\n",
       "    </tr>\n",
       "    <tr>\n",
       "      <th>Color</th>\n",
       "      <td>0.194843</td>\n",
       "      <td>0.181019</td>\n",
       "      <td>0.146821</td>\n",
       "      <td>0.092360</td>\n",
       "      <td>0.135295</td>\n",
       "      <td>0.100038</td>\n",
       "      <td>0.236507</td>\n",
       "    </tr>\n",
       "    <tr>\n",
       "      <th>TileO</th>\n",
       "      <td>0.328346</td>\n",
       "      <td>0.222476</td>\n",
       "      <td>0.249976</td>\n",
       "      <td>0.181572</td>\n",
       "      <td>0.765110</td>\n",
       "      <td>0.244892</td>\n",
       "      <td>0.228274</td>\n",
       "    </tr>\n",
       "    <tr>\n",
       "      <th>Game</th>\n",
       "      <td>0.281891</td>\n",
       "      <td>0.931329</td>\n",
       "      <td>0.380028</td>\n",
       "      <td>0.204554</td>\n",
       "      <td>0.335641</td>\n",
       "      <td>0.306859</td>\n",
       "      <td>0.662257</td>\n",
       "    </tr>\n",
       "    <tr>\n",
       "      <th>Connection</th>\n",
       "      <td>0.290608</td>\n",
       "      <td>0.124347</td>\n",
       "      <td>0.118273</td>\n",
       "      <td>0.072788</td>\n",
       "      <td>0.158417</td>\n",
       "      <td>0.218217</td>\n",
       "      <td>0.139200</td>\n",
       "    </tr>\n",
       "    <tr>\n",
       "      <th>Die</th>\n",
       "      <td>0.104680</td>\n",
       "      <td>0.174541</td>\n",
       "      <td>0.115564</td>\n",
       "      <td>0.835174</td>\n",
       "      <td>0.049500</td>\n",
       "      <td>0.098536</td>\n",
       "      <td>0.155570</td>\n",
       "    </tr>\n",
       "    <tr>\n",
       "      <th>Deck</th>\n",
       "      <td>0.195565</td>\n",
       "      <td>0.172762</td>\n",
       "      <td>0.147373</td>\n",
       "      <td>0.145103</td>\n",
       "      <td>0.222717</td>\n",
       "      <td>0.177386</td>\n",
       "      <td>0.172959</td>\n",
       "    </tr>\n",
       "    <tr>\n",
       "      <th>abstract Tile</th>\n",
       "      <td>0.251760</td>\n",
       "      <td>0.331157</td>\n",
       "      <td>0.321670</td>\n",
       "      <td>0.107394</td>\n",
       "      <td>0.961226</td>\n",
       "      <td>0.232524</td>\n",
       "      <td>0.332810</td>\n",
       "    </tr>\n",
       "    <tr>\n",
       "      <th>abstract ActionCard</th>\n",
       "      <td>0.875761</td>\n",
       "      <td>0.318395</td>\n",
       "      <td>0.271694</td>\n",
       "      <td>0.130832</td>\n",
       "      <td>0.254289</td>\n",
       "      <td>0.972993</td>\n",
       "      <td>0.344441</td>\n",
       "    </tr>\n",
       "    <tr>\n",
       "      <th>RollDieActionCard</th>\n",
       "      <td>0.615658</td>\n",
       "      <td>0.307094</td>\n",
       "      <td>0.251918</td>\n",
       "      <td>0.574259</td>\n",
       "      <td>0.204097</td>\n",
       "      <td>0.651029</td>\n",
       "      <td>0.343016</td>\n",
       "    </tr>\n",
       "    <tr>\n",
       "      <th>ConnectTilesActionCard</th>\n",
       "      <td>0.731670</td>\n",
       "      <td>0.289657</td>\n",
       "      <td>0.300299</td>\n",
       "      <td>0.093817</td>\n",
       "      <td>0.508559</td>\n",
       "      <td>0.714384</td>\n",
       "      <td>0.298304</td>\n",
       "    </tr>\n",
       "    <tr>\n",
       "      <th>RemoveConnectionActionCard</th>\n",
       "      <td>0.814908</td>\n",
       "      <td>0.232041</td>\n",
       "      <td>0.220349</td>\n",
       "      <td>0.141107</td>\n",
       "      <td>0.227210</td>\n",
       "      <td>0.838428</td>\n",
       "      <td>0.275606</td>\n",
       "    </tr>\n",
       "    <tr>\n",
       "      <th>TeleportActionCard</th>\n",
       "      <td>0.847886</td>\n",
       "      <td>0.272514</td>\n",
       "      <td>0.251899</td>\n",
       "      <td>0.188851</td>\n",
       "      <td>0.233144</td>\n",
       "      <td>0.926894</td>\n",
       "      <td>0.298958</td>\n",
       "    </tr>\n",
       "    <tr>\n",
       "      <th>LoseTurnActionCard</th>\n",
       "      <td>0.771248</td>\n",
       "      <td>0.307021</td>\n",
       "      <td>0.226858</td>\n",
       "      <td>0.188996</td>\n",
       "      <td>0.269138</td>\n",
       "      <td>0.786112</td>\n",
       "      <td>0.347105</td>\n",
       "    </tr>\n",
       "    <tr>\n",
       "      <th>WinTile</th>\n",
       "      <td>0.295396</td>\n",
       "      <td>0.370295</td>\n",
       "      <td>0.291017</td>\n",
       "      <td>0.158461</td>\n",
       "      <td>0.665326</td>\n",
       "      <td>0.242341</td>\n",
       "      <td>0.362602</td>\n",
       "    </tr>\n",
       "    <tr>\n",
       "      <th>ActionTile</th>\n",
       "      <td>0.475642</td>\n",
       "      <td>0.352053</td>\n",
       "      <td>0.315126</td>\n",
       "      <td>0.108057</td>\n",
       "      <td>0.842119</td>\n",
       "      <td>0.452320</td>\n",
       "      <td>0.369380</td>\n",
       "    </tr>\n",
       "    <tr>\n",
       "      <th>NormalTile</th>\n",
       "      <td>0.286181</td>\n",
       "      <td>0.251437</td>\n",
       "      <td>0.207179</td>\n",
       "      <td>0.100516</td>\n",
       "      <td>0.745427</td>\n",
       "      <td>0.204781</td>\n",
       "      <td>0.257839</td>\n",
       "    </tr>\n",
       "    <tr>\n",
       "      <th>Player</th>\n",
       "      <td>0.330604</td>\n",
       "      <td>0.649046</td>\n",
       "      <td>0.324965</td>\n",
       "      <td>0.198003</td>\n",
       "      <td>0.330492</td>\n",
       "      <td>0.323720</td>\n",
       "      <td>0.959413</td>\n",
       "    </tr>\n",
       "  </tbody>\n",
       "</table>\n",
       "</div>"
      ],
      "text/plain": [
       "                            ActionCardType      Game     Board       Die  \\\n",
       "Mode                              0.267808  0.248988  0.149749  0.185278   \n",
       "Color                             0.194843  0.181019  0.146821  0.092360   \n",
       "TileO                             0.328346  0.222476  0.249976  0.181572   \n",
       "Game                              0.281891  0.931329  0.380028  0.204554   \n",
       "Connection                        0.290608  0.124347  0.118273  0.072788   \n",
       "Die                               0.104680  0.174541  0.115564  0.835174   \n",
       "Deck                              0.195565  0.172762  0.147373  0.145103   \n",
       "abstract Tile                     0.251760  0.331157  0.321670  0.107394   \n",
       "abstract ActionCard               0.875761  0.318395  0.271694  0.130832   \n",
       "RollDieActionCard                 0.615658  0.307094  0.251918  0.574259   \n",
       "ConnectTilesActionCard            0.731670  0.289657  0.300299  0.093817   \n",
       "RemoveConnectionActionCard        0.814908  0.232041  0.220349  0.141107   \n",
       "TeleportActionCard                0.847886  0.272514  0.251899  0.188851   \n",
       "LoseTurnActionCard                0.771248  0.307021  0.226858  0.188996   \n",
       "WinTile                           0.295396  0.370295  0.291017  0.158461   \n",
       "ActionTile                        0.475642  0.352053  0.315126  0.108057   \n",
       "NormalTile                        0.286181  0.251437  0.207179  0.100516   \n",
       "Player                            0.330604  0.649046  0.324965  0.198003   \n",
       "\n",
       "                                Tile  ActionCard    Player  \n",
       "Mode                        0.149311    0.223748  0.252559  \n",
       "Color                       0.135295    0.100038  0.236507  \n",
       "TileO                       0.765110    0.244892  0.228274  \n",
       "Game                        0.335641    0.306859  0.662257  \n",
       "Connection                  0.158417    0.218217  0.139200  \n",
       "Die                         0.049500    0.098536  0.155570  \n",
       "Deck                        0.222717    0.177386  0.172959  \n",
       "abstract Tile               0.961226    0.232524  0.332810  \n",
       "abstract ActionCard         0.254289    0.972993  0.344441  \n",
       "RollDieActionCard           0.204097    0.651029  0.343016  \n",
       "ConnectTilesActionCard      0.508559    0.714384  0.298304  \n",
       "RemoveConnectionActionCard  0.227210    0.838428  0.275606  \n",
       "TeleportActionCard          0.233144    0.926894  0.298958  \n",
       "LoseTurnActionCard          0.269138    0.786112  0.347105  \n",
       "WinTile                     0.665326    0.242341  0.362602  \n",
       "ActionTile                  0.842119    0.452320  0.369380  \n",
       "NormalTile                  0.745427    0.204781  0.257839  \n",
       "Player                      0.330492    0.323720  0.959413  "
      ]
     },
     "execution_count": 2656,
     "metadata": {},
     "output_type": "execute_result"
    }
   ],
   "source": [
    "import pandas as pd\n",
    "\n",
    "df = pd.DataFrame(index=reference_class, columns=stu_class, data=similarity_mde)\n",
    "df"
   ]
  },
  {
   "cell_type": "markdown",
   "metadata": {
    "id": "qUHDc0UMRhZ4"
   },
   "source": [
    "### Stage 1.1.1 Mapping (enum / regular + abstract)"
   ]
  },
  {
   "cell_type": "code",
   "execution_count": 2657,
   "metadata": {
    "id": "jjiO8XGnRmJ-"
   },
   "outputs": [],
   "source": [
    "ref_enum = []\n",
    "ref_reg_cls = []\n",
    "stu_enum = []\n",
    "stu_reg_cls = []\n",
    "\n",
    "for enum in ref_cls.cls_name:\n",
    "  if ref_cls.cls_atr[enum][\"type\"] == \"enum\":\n",
    "    ref_enum.append(enum)\n",
    "  else:\n",
    "    ref_reg_cls.append(enum)\n",
    "\n",
    "for enum in stu_cls.cls_name:\n",
    "  if stu_cls.cls_atr[enum][\"type\"] == \"enum\":\n",
    "    stu_enum.append(enum)\n",
    "  else:\n",
    "    stu_reg_cls.append(enum)"
   ]
  },
  {
   "cell_type": "code",
   "execution_count": 2658,
   "metadata": {
    "id": "fJH4xn6wTUxJ"
   },
   "outputs": [
    {
     "name": "stdout",
     "output_type": "stream",
     "text": [
      "{'Mode': {'ActionCardType': 0.2678079380820224, 'Game': 0.248987697953524, 'Board': 0.14974862515593035, 'Die': 0.18527809310768195, 'Tile': 0.1493111784987161, 'ActionCard': 0.22374783803198986, 'Player': 0.2525592511102678}, 'Color': {'ActionCardType': 0.19484252897563203, 'Game': 0.1810190345394481, 'Board': 0.14682085478516266, 'Die': 0.09236025602468209, 'Tile': 0.135294549021913, 'ActionCard': 0.10003810633290375, 'Player': 0.23650691221058562}, 'TileO': {'ActionCardType': 0.32834637119773036, 'Game': 0.22247602212244316, 'Board': 0.2499757231654977, 'Die': 0.18157181031996772, 'Tile': 0.765110160655909, 'ActionCard': 0.24489214269729334, 'Player': 0.2282741324495544}, 'Game': {'ActionCardType': 0.28189102516393894, 'Game': 0.9313286889417757, 'Board': 0.3800276814784601, 'Die': 0.20455448345932425, 'Tile': 0.3356408493114902, 'ActionCard': 0.3068587291396103, 'Player': 0.6622570304271429}, 'Connection': {'ActionCardType': 0.2906075015161558, 'Game': 0.12434748342860033, 'Board': 0.1182734386967001, 'Die': 0.07278831257758932, 'Tile': 0.158416644933716, 'ActionCard': 0.21821741923147625, 'Player': 0.13919960934408135}, 'Die': {'ActionCardType': 0.10468007594809334, 'Game': 0.174541410694739, 'Board': 0.11556385526138538, 'Die': 0.8351736310997678, 'Tile': 0.049499711626163734, 'ActionCard': 0.09853622243707343, 'Player': 0.15556986367586728}, 'Deck': {'ActionCardType': 0.19556526258643378, 'Game': 0.17276215712616963, 'Board': 0.14737306735824723, 'Die': 0.14510304703632232, 'Tile': 0.2227169470752852, 'ActionCard': 0.1773864296164104, 'Player': 0.172959167650405}, 'abstract Tile': {'ActionCardType': 0.25175965369178704, 'Game': 0.3311573022257185, 'Board': 0.3216697585686113, 'Die': 0.10739362245528022, 'Tile': 0.9612264560772397, 'ActionCard': 0.23252362136737542, 'Player': 0.33280959175982494}, 'abstract ActionCard': {'ActionCardType': 0.8757605150668835, 'Game': 0.31839513387594753, 'Board': 0.27169355548288465, 'Die': 0.13083245813251548, 'Tile': 0.25428928486578795, 'ActionCard': 0.9729926909328789, 'Player': 0.34444130643766824}, 'RollDieActionCard': {'ActionCardType': 0.6156577786982225, 'Game': 0.3070938590639705, 'Board': 0.2519181381180423, 'Die': 0.5742589861927292, 'Tile': 0.2040967022247424, 'ActionCard': 0.6510285583355162, 'Player': 0.34301616941770313}, 'ConnectTilesActionCard': {'ActionCardType': 0.7316695114691261, 'Game': 0.2896572384760143, 'Board': 0.30029861213138037, 'Die': 0.09381693479648069, 'Tile': 0.5085588011807659, 'ActionCard': 0.7143835763118142, 'Player': 0.2983042059093969}, 'RemoveConnectionActionCard': {'ActionCardType': 0.814908117888102, 'Game': 0.2320409975102647, 'Board': 0.22034860921406643, 'Die': 0.1411068454929157, 'Tile': 0.22720972917530852, 'ActionCard': 0.8384280061627482, 'Player': 0.2756061596151532}, 'TeleportActionCard': {'ActionCardType': 0.847885818781099, 'Game': 0.2725138807893802, 'Board': 0.2518986861681274, 'Die': 0.18885138128920148, 'Tile': 0.2331439182708298, 'ActionCard': 0.9268935002803058, 'Player': 0.29895826968136785}, 'LoseTurnActionCard': {'ActionCardType': 0.7712481043701238, 'Game': 0.30702060677857074, 'Board': 0.2268584879743951, 'Die': 0.18899556240449011, 'Tile': 0.2691377795271436, 'ActionCard': 0.7861118317153685, 'Player': 0.34710541426542896}, 'WinTile': {'ActionCardType': 0.2953962480411829, 'Game': 0.37029535126846835, 'Board': 0.2910165464593766, 'Die': 0.15846135807306377, 'Tile': 0.665326007086092, 'ActionCard': 0.24234058467205088, 'Player': 0.3626018235891215}, 'ActionTile': {'ActionCardType': 0.47564246228253027, 'Game': 0.3520530981921616, 'Board': 0.31512591154292197, 'Die': 0.10805650027457364, 'Tile': 0.8421189757229995, 'ActionCard': 0.4523199024137883, 'Player': 0.36938005640154375}, 'NormalTile': {'ActionCardType': 0.2861808175743026, 'Game': 0.2514368264877549, 'Board': 0.2071785033863182, 'Die': 0.10051562505847175, 'Tile': 0.7454265031599943, 'ActionCard': 0.20478124609250453, 'Player': 0.25783894064171553}, 'Player': {'ActionCardType': 0.3306039516064176, 'Game': 0.6490460260762987, 'Board': 0.3249653522966709, 'Die': 0.19800344026275174, 'Tile': 0.3304919870610519, 'ActionCard': 0.32372007739226927, 'Player': 0.9594130091897003}}\n"
     ]
    },
    {
     "data": {
      "text/plain": [
       "[('Mode', None), ('Color', None), (None, 'ActionCardType')]"
      ]
     },
     "execution_count": 2658,
     "metadata": {},
     "output_type": "execute_result"
    }
   ],
   "source": [
    "enum_mapping = match_classes(ref_enum, stu_enum, dict_sim_word, thresh = 0.5)\n",
    "enum_mapping[0]"
   ]
  },
  {
   "cell_type": "code",
   "execution_count": 2659,
   "metadata": {
    "id": "LW80yVXTT7jK"
   },
   "outputs": [
    {
     "name": "stdout",
     "output_type": "stream",
     "text": [
      "{'Mode': {'ActionCardType': 0.2678079380820224, 'Game': 0.248987697953524, 'Board': 0.14974862515593035, 'Die': 0.18527809310768195, 'Tile': 0.1493111784987161, 'ActionCard': 0.22374783803198986, 'Player': 0.2525592511102678}, 'Color': {'ActionCardType': 0.19484252897563203, 'Game': 0.1810190345394481, 'Board': 0.14682085478516266, 'Die': 0.09236025602468209, 'Tile': 0.135294549021913, 'ActionCard': 0.10003810633290375, 'Player': 0.23650691221058562}, 'TileO': {'ActionCardType': 0.32834637119773036, 'Game': 0.22247602212244316, 'Board': 0.2499757231654977, 'Die': 0.18157181031996772, 'Tile': 0.765110160655909, 'ActionCard': 0.24489214269729334, 'Player': 0.2282741324495544}, 'Game': {'ActionCardType': 0.28189102516393894, 'Game': 0.9313286889417757, 'Board': 0.3800276814784601, 'Die': 0.20455448345932425, 'Tile': 0.3356408493114902, 'ActionCard': 0.3068587291396103, 'Player': 0.6622570304271429}, 'Connection': {'ActionCardType': 0.2906075015161558, 'Game': 0.12434748342860033, 'Board': 0.1182734386967001, 'Die': 0.07278831257758932, 'Tile': 0.158416644933716, 'ActionCard': 0.21821741923147625, 'Player': 0.13919960934408135}, 'Die': {'ActionCardType': 0.10468007594809334, 'Game': 0.174541410694739, 'Board': 0.11556385526138538, 'Die': 0.8351736310997678, 'Tile': 0.049499711626163734, 'ActionCard': 0.09853622243707343, 'Player': 0.15556986367586728}, 'Deck': {'ActionCardType': 0.19556526258643378, 'Game': 0.17276215712616963, 'Board': 0.14737306735824723, 'Die': 0.14510304703632232, 'Tile': 0.2227169470752852, 'ActionCard': 0.1773864296164104, 'Player': 0.172959167650405}, 'abstract Tile': {'ActionCardType': 0.25175965369178704, 'Game': 0.3311573022257185, 'Board': 0.3216697585686113, 'Die': 0.10739362245528022, 'Tile': 0.9612264560772397, 'ActionCard': 0.23252362136737542, 'Player': 0.33280959175982494}, 'abstract ActionCard': {'ActionCardType': 0.8757605150668835, 'Game': 0.31839513387594753, 'Board': 0.27169355548288465, 'Die': 0.13083245813251548, 'Tile': 0.25428928486578795, 'ActionCard': 0.9729926909328789, 'Player': 0.34444130643766824}, 'RollDieActionCard': {'ActionCardType': 0.6156577786982225, 'Game': 0.3070938590639705, 'Board': 0.2519181381180423, 'Die': 0.5742589861927292, 'Tile': 0.2040967022247424, 'ActionCard': 0.6510285583355162, 'Player': 0.34301616941770313}, 'ConnectTilesActionCard': {'ActionCardType': 0.7316695114691261, 'Game': 0.2896572384760143, 'Board': 0.30029861213138037, 'Die': 0.09381693479648069, 'Tile': 0.5085588011807659, 'ActionCard': 0.7143835763118142, 'Player': 0.2983042059093969}, 'RemoveConnectionActionCard': {'ActionCardType': 0.814908117888102, 'Game': 0.2320409975102647, 'Board': 0.22034860921406643, 'Die': 0.1411068454929157, 'Tile': 0.22720972917530852, 'ActionCard': 0.8384280061627482, 'Player': 0.2756061596151532}, 'TeleportActionCard': {'ActionCardType': 0.847885818781099, 'Game': 0.2725138807893802, 'Board': 0.2518986861681274, 'Die': 0.18885138128920148, 'Tile': 0.2331439182708298, 'ActionCard': 0.9268935002803058, 'Player': 0.29895826968136785}, 'LoseTurnActionCard': {'ActionCardType': 0.7712481043701238, 'Game': 0.30702060677857074, 'Board': 0.2268584879743951, 'Die': 0.18899556240449011, 'Tile': 0.2691377795271436, 'ActionCard': 0.7861118317153685, 'Player': 0.34710541426542896}, 'WinTile': {'ActionCardType': 0.2953962480411829, 'Game': 0.37029535126846835, 'Board': 0.2910165464593766, 'Die': 0.15846135807306377, 'Tile': 0.665326007086092, 'ActionCard': 0.24234058467205088, 'Player': 0.3626018235891215}, 'ActionTile': {'ActionCardType': 0.47564246228253027, 'Game': 0.3520530981921616, 'Board': 0.31512591154292197, 'Die': 0.10805650027457364, 'Tile': 0.8421189757229995, 'ActionCard': 0.4523199024137883, 'Player': 0.36938005640154375}, 'NormalTile': {'ActionCardType': 0.2861808175743026, 'Game': 0.2514368264877549, 'Board': 0.2071785033863182, 'Die': 0.10051562505847175, 'Tile': 0.7454265031599943, 'ActionCard': 0.20478124609250453, 'Player': 0.25783894064171553}, 'Player': {'ActionCardType': 0.3306039516064176, 'Game': 0.6490460260762987, 'Board': 0.3249653522966709, 'Die': 0.19800344026275174, 'Tile': 0.3304919870610519, 'ActionCard': 0.32372007739226927, 'Player': 0.9594130091897003}}\n"
     ]
    },
    {
     "data": {
      "text/plain": [
       "[('TileO', None),\n",
       " ('Game', 'Game'),\n",
       " ('Connection', None),\n",
       " ('Die', 'Die'),\n",
       " ('Deck', None),\n",
       " ('abstract Tile', 'Tile'),\n",
       " ('abstract ActionCard', 'ActionCard'),\n",
       " ('RollDieActionCard', None),\n",
       " ('ConnectTilesActionCard', None),\n",
       " ('RemoveConnectionActionCard', None),\n",
       " ('TeleportActionCard', None),\n",
       " ('LoseTurnActionCard', None),\n",
       " ('WinTile', None),\n",
       " ('ActionTile', None),\n",
       " ('NormalTile', None),\n",
       " ('Player', 'Player'),\n",
       " (None, 'Board')]"
      ]
     },
     "execution_count": 2659,
     "metadata": {},
     "output_type": "execute_result"
    }
   ],
   "source": [
    "cls_mapping = match_classes(ref_reg_cls, stu_reg_cls, dict_sim_word, thresh = 0.5)\n",
    "cls_mapping[0]"
   ]
  },
  {
   "cell_type": "code",
   "execution_count": 2660,
   "metadata": {
    "id": "X6xo0l99VeXm"
   },
   "outputs": [],
   "source": [
    "mapping = enum_mapping[0] + cls_mapping[0]\n",
    "\n",
    "for map in mapping:\n",
    "  if map[0] and map[1]:\n",
    "    ref_cls.cls_atr[map[0]]['score'] = 1\n",
    "    ref_cls.cls_atr[map[0]]['counterpart'] = map[1]\n",
    "\n",
    "    stu_cls.cls_atr[map[1]]['score'] = 1\n",
    "    stu_cls.cls_atr[map[1]]['counterpart'] = map[0]\n",
    "\n",
    "    if ref_cls.cls_atr[map[0]][\"type\"] !=  stu_cls.cls_atr[map[1]][\"type\"]:\n",
    "      # type mismatch\n",
    "      ref_cls.cls_atr[map[0]]['score'] = 0.5\n",
    "      stu_cls.cls_atr[map[1]][\"score\"] = 0.5"
   ]
  },
  {
   "cell_type": "code",
   "execution_count": 2661,
   "metadata": {
    "id": "zndCFvnoWS7D"
   },
   "outputs": [
    {
     "data": {
      "text/plain": [
       "{'Mode': {'score': 0,\n",
       "  'type': 'enum',\n",
       "  'dsl': 'Mode(design, game)',\n",
       "  'counterpart': None,\n",
       "  'attributes': {'design': {'score': 0, 'counterpart': None},\n",
       "   'game': {'score': 0, 'counterpart': None}}},\n",
       " 'Color': {'score': 0,\n",
       "  'type': 'enum',\n",
       "  'dsl': 'Color(red, blue, green, yellow)',\n",
       "  'counterpart': None,\n",
       "  'attributes': {'red': {'score': 0, 'counterpart': None},\n",
       "   'blue': {'score': 0, 'counterpart': None},\n",
       "   'green': {'score': 0, 'counterpart': None},\n",
       "   'yellow': {'score': 0, 'counterpart': None}}},\n",
       " 'TileO': {'score': 0,\n",
       "  'type': 'regular',\n",
       "  'dsl': 'TileO()',\n",
       "  'counterpart': None,\n",
       "  'attributes': {}},\n",
       " 'Game': {'score': 1,\n",
       "  'type': 'regular',\n",
       "  'dsl': 'Game(int currentConnectionPieces, Mode mode, int spaceConnectionPieces, int numberOfActionCards)',\n",
       "  'counterpart': 'Game',\n",
       "  'attributes': {'int currentConnectionPieces': {'score': 0,\n",
       "    'counterpart': None},\n",
       "   'Mode mode': {'score': 0, 'counterpart': None},\n",
       "   'int spaceConnectionPieces': {'score': 0, 'counterpart': None},\n",
       "   'int numberOfActionCards': {'score': 0, 'counterpart': None}}},\n",
       " 'Connection': {'score': 0,\n",
       "  'type': 'regular',\n",
       "  'dsl': 'Connection()',\n",
       "  'counterpart': None,\n",
       "  'attributes': {}},\n",
       " 'Die': {'score': 1,\n",
       "  'type': 'regular',\n",
       "  'dsl': 'Die()',\n",
       "  'counterpart': 'Die',\n",
       "  'attributes': {}},\n",
       " 'Deck': {'score': 0,\n",
       "  'type': 'regular',\n",
       "  'dsl': 'Deck()',\n",
       "  'counterpart': None,\n",
       "  'attributes': {}},\n",
       " 'abstract Tile': {'score': 0.5,\n",
       "  'type': 'abstract',\n",
       "  'dsl': 'abstract Tile(int x, int y, boolean hasBeenVisited)',\n",
       "  'counterpart': 'Tile',\n",
       "  'attributes': {'int x': {'score': 0, 'counterpart': None},\n",
       "   'int y': {'score': 0, 'counterpart': None},\n",
       "   'boolean hasBeenVisited': {'score': 0, 'counterpart': None}}},\n",
       " 'abstract ActionCard': {'score': 0.5,\n",
       "  'type': 'abstract',\n",
       "  'dsl': 'abstract ActionCard (string instructions)',\n",
       "  'counterpart': 'ActionCard',\n",
       "  'attributes': {'string instructions': {'score': 0, 'counterpart': None}}},\n",
       " 'RollDieActionCard': {'score': 0,\n",
       "  'type': 'regular',\n",
       "  'dsl': 'RollDieActionCard()',\n",
       "  'counterpart': None,\n",
       "  'attributes': {}},\n",
       " 'ConnectTilesActionCard': {'score': 0,\n",
       "  'type': 'regular',\n",
       "  'dsl': 'ConnectTilesActionCard()',\n",
       "  'counterpart': None,\n",
       "  'attributes': {}},\n",
       " 'RemoveConnectionActionCard': {'score': 0,\n",
       "  'type': 'regular',\n",
       "  'dsl': 'RemoveConnectionActionCard()',\n",
       "  'counterpart': None,\n",
       "  'attributes': {}},\n",
       " 'TeleportActionCard': {'score': 0,\n",
       "  'type': 'regular',\n",
       "  'dsl': 'TeleportActionCard()',\n",
       "  'counterpart': None,\n",
       "  'attributes': {}},\n",
       " 'LoseTurnActionCard': {'score': 0,\n",
       "  'type': 'regular',\n",
       "  'dsl': 'LoseTurnActionCard()',\n",
       "  'counterpart': None,\n",
       "  'attributes': {}},\n",
       " 'WinTile': {'score': 0,\n",
       "  'type': 'regular',\n",
       "  'dsl': 'WinTile()',\n",
       "  'counterpart': None,\n",
       "  'attributes': {}},\n",
       " 'ActionTile': {'score': 0,\n",
       "  'type': 'regular',\n",
       "  'dsl': 'ActionTile(int inactivityPeriod, int turnsUntilActive)',\n",
       "  'counterpart': None,\n",
       "  'attributes': {'int inactivityPeriod': {'score': 0, 'counterpart': None},\n",
       "   'int turnsUntilActive': {'score': 0, 'counterpart': None}}},\n",
       " 'NormalTile': {'score': 0,\n",
       "  'type': 'regular',\n",
       "  'dsl': 'NormalTile()',\n",
       "  'counterpart': None,\n",
       "  'attributes': {}},\n",
       " 'Player': {'score': 1,\n",
       "  'type': 'regular',\n",
       "  'dsl': 'Player(int number, int turnsUntilActive, Color color)',\n",
       "  'counterpart': 'Player',\n",
       "  'attributes': {'int number': {'score': 0, 'counterpart': None},\n",
       "   'int turnsUntilActive': {'score': 0, 'counterpart': None},\n",
       "   'Color color': {'score': 0, 'counterpart': None}}}}"
      ]
     },
     "execution_count": 2661,
     "metadata": {},
     "output_type": "execute_result"
    }
   ],
   "source": [
    "ref_cls.cls_atr"
   ]
  },
  {
   "cell_type": "markdown",
   "metadata": {
    "id": "8y1nt_fsXDwB"
   },
   "source": [
    "## Stage 1.2 Class Mapping (with all info)"
   ]
  },
  {
   "cell_type": "code",
   "execution_count": 2662,
   "metadata": {
    "id": "8FOiiOpfXM5c"
   },
   "outputs": [],
   "source": [
    "ref_classes = []\n",
    "stu_classes = []\n",
    "\n",
    "for cls in ref_cls.cls_name:\n",
    "  if ref_cls.cls_atr[cls][\"counterpart\"] == None:\n",
    "    ref_classes.append(cls)\n",
    "\n",
    "for cls in stu_cls.cls_name:\n",
    "  if stu_cls.cls_atr[cls][\"counterpart\"] == None:\n",
    "    stu_classes.append(cls)"
   ]
  },
  {
   "cell_type": "code",
   "execution_count": 2663,
   "metadata": {
    "id": "l_HDKCa3XmuR"
   },
   "outputs": [],
   "source": [
    "# get name embedding\n",
    "# all info\n",
    "similarity_all = []\n",
    "mde_embedding = sgram_mde\n",
    "threshold = 0.7\n",
    "\n",
    "\n",
    "\n",
    "\n",
    "# reuse saved embedding result...\n",
    "# may cause problem\n",
    "# if os.path.exists(student_dir + \"ada_embedding.txt\"):\n",
    "#   pass\n",
    "  \n",
    "  # with open(student_dir + \"ada_embedding.txt\", 'r') as json_file:\n",
    "  #   dict_sim_all = json.load(json_file)\n",
    "\n",
    "if False:\n",
    "  pass\n",
    "\n",
    "else:\n",
    "  for index, node in enumerate(ref_cls.cls_name):\n",
    "    text_1 = get_all_info(index, ref_cls.cls_name, ref_cls.raw_dsl, ref_cls.rel.raw_dsl, True)\n",
    "    emb_i = get_embedding(text_1)\n",
    "    mde_pair = []\n",
    "    for j, stu_node in enumerate(stu_cls.cls_name):\n",
    "      text_2 = get_all_info(j, stu_cls.cls_name, stu_cls.raw_dsl, stu_cls.rel.raw_dsl, True)\n",
    "      emb_j = get_embedding(text_2)\n",
    "      mde_sim = cosine_distance(emb_i, emb_j)\n",
    "      mde_pair.append(mde_sim)\n",
    "\n",
    "    # apply third quartile\n",
    "    similarity_all.append(mde_pair)\n",
    "\n",
    "  dict_sim_all = {}\n",
    "  for i in range(len(ref_cls.cls_name)):\n",
    "    dict_sim_all[ref_cls.cls_name[i]] = {}\n",
    "    for j in range(len(stu_cls.cls_name)):\n",
    "      dict_sim_all[ref_cls.cls_name[i]][stu_cls.cls_name[j]] = similarity_all[i][j]\n",
    "\n",
    "\n",
    "\n"
   ]
  },
  {
   "cell_type": "code",
   "execution_count": 2664,
   "metadata": {},
   "outputs": [],
   "source": [
    "with open(student_dir + \"ada_embedding.txt\", 'w') as json_file:\n",
    "    json.dump(dict_sim_all, json_file)"
   ]
  },
  {
   "cell_type": "code",
   "execution_count": 2665,
   "metadata": {},
   "outputs": [
    {
     "data": {
      "text/plain": [
       "'results/gpt-4o/yujing/07_Tile/'"
      ]
     },
     "execution_count": 2665,
     "metadata": {},
     "output_type": "execute_result"
    }
   ],
   "source": [
    "student_dir"
   ]
  },
  {
   "cell_type": "code",
   "execution_count": 2666,
   "metadata": {},
   "outputs": [
    {
     "data": {
      "text/plain": [
       "['Mode',\n",
       " 'Color',\n",
       " 'TileO',\n",
       " 'Connection',\n",
       " 'Deck',\n",
       " 'RollDieActionCard',\n",
       " 'ConnectTilesActionCard',\n",
       " 'RemoveConnectionActionCard',\n",
       " 'TeleportActionCard',\n",
       " 'LoseTurnActionCard',\n",
       " 'WinTile',\n",
       " 'ActionTile',\n",
       " 'NormalTile']"
      ]
     },
     "execution_count": 2666,
     "metadata": {},
     "output_type": "execute_result"
    }
   ],
   "source": [
    "ref_classes"
   ]
  },
  {
   "cell_type": "code",
   "execution_count": 2667,
   "metadata": {},
   "outputs": [
    {
     "data": {
      "text/plain": [
       "['ActionCardType', 'Board']"
      ]
     },
     "execution_count": 2667,
     "metadata": {},
     "output_type": "execute_result"
    }
   ],
   "source": [
    "stu_classes"
   ]
  },
  {
   "cell_type": "code",
   "execution_count": 2668,
   "metadata": {},
   "outputs": [
    {
     "data": {
      "text/plain": [
       "{'Mode': {'ActionCardType': 0.777702502966393,\n",
       "  'Game': 0.8244502302111426,\n",
       "  'Board': 0.8003124058499295,\n",
       "  'Die': 0.7945335803096161,\n",
       "  'Tile': 0.7679639495332788,\n",
       "  'ActionCard': 0.7682451880242392,\n",
       "  'Player': 0.7812574454142899},\n",
       " 'Color': {'ActionCardType': 0.7464428623524403,\n",
       "  'Game': 0.7380739890702702,\n",
       "  'Board': 0.7777599471988865,\n",
       "  'Die': 0.7895114818360068,\n",
       "  'Tile': 0.7533249545145939,\n",
       "  'ActionCard': 0.7311815658380927,\n",
       "  'Player': 0.7886492905085641},\n",
       " 'TileO': {'ActionCardType': 0.7801489808452534,\n",
       "  'Game': 0.7514772499215094,\n",
       "  'Board': 0.8033025047718675,\n",
       "  'Die': 0.8187363198183137,\n",
       "  'Tile': 0.8095944925628566,\n",
       "  'ActionCard': 0.7313043728830252,\n",
       "  'Player': 0.7676285370689749},\n",
       " 'Game': {'ActionCardType': 0.829042243983316,\n",
       "  'Game': 0.833335317140809,\n",
       "  'Board': 0.813423808071896,\n",
       "  'Die': 0.7760971746473532,\n",
       "  'Tile': 0.8101148037981722,\n",
       "  'ActionCard': 0.7899889183516379,\n",
       "  'Player': 0.8094468686876671},\n",
       " 'Connection': {'ActionCardType': 0.7733959105916384,\n",
       "  'Game': 0.7625562378684552,\n",
       "  'Board': 0.772944944390733,\n",
       "  'Die': 0.7685725433644943,\n",
       "  'Tile': 0.7333846667897262,\n",
       "  'ActionCard': 0.7445504398094366,\n",
       "  'Player': 0.7782462697908911},\n",
       " 'Die': {'ActionCardType': 0.7458541125255597,\n",
       "  'Game': 0.7475514044208572,\n",
       "  'Board': 0.7725908945760652,\n",
       "  'Die': 0.8488248512224206,\n",
       "  'Tile': 0.7517089383411528,\n",
       "  'ActionCard': 0.7337724945184984,\n",
       "  'Player': 0.7639626223512538},\n",
       " 'Deck': {'ActionCardType': 0.8234305420759191,\n",
       "  'Game': 0.7959238211588555,\n",
       "  'Board': 0.8327580463395398,\n",
       "  'Die': 0.8171141458770343,\n",
       "  'Tile': 0.781545381535861,\n",
       "  'ActionCard': 0.7953500236780978,\n",
       "  'Player': 0.7920840888426351},\n",
       " 'abstract Tile': {'ActionCardType': 0.7653545449432411,\n",
       "  'Game': 0.732150877715929,\n",
       "  'Board': 0.8117439184893163,\n",
       "  'Die': 0.7639853425102133,\n",
       "  'Tile': 0.8848879326632149,\n",
       "  'ActionCard': 0.7225295593914748,\n",
       "  'Player': 0.7636337310319913},\n",
       " 'abstract ActionCard': {'ActionCardType': 0.8368657509324458,\n",
       "  'Game': 0.7686129041817177,\n",
       "  'Board': 0.7622451025387503,\n",
       "  'Die': 0.762592182206592,\n",
       "  'Tile': 0.7657850214088223,\n",
       "  'ActionCard': 0.8888653981592918,\n",
       "  'Player': 0.7647790932088052},\n",
       " 'RollDieActionCard': {'ActionCardType': 0.8796036488436629,\n",
       "  'Game': 0.769285829261019,\n",
       "  'Board': 0.7691588032449354,\n",
       "  'Die': 0.7750901871870804,\n",
       "  'Tile': 0.7860801609542216,\n",
       "  'ActionCard': 0.8393142638622111,\n",
       "  'Player': 0.7671936692774667},\n",
       " 'ConnectTilesActionCard': {'ActionCardType': 0.876387804939783,\n",
       "  'Game': 0.7592321478230749,\n",
       "  'Board': 0.7845400881965517,\n",
       "  'Die': 0.7681114128885773,\n",
       "  'Tile': 0.8185025112218373,\n",
       "  'ActionCard': 0.8348246634993859,\n",
       "  'Player': 0.7638703948809947},\n",
       " 'RemoveConnectionActionCard': {'ActionCardType': 0.8537445103620259,\n",
       "  'Game': 0.7325360074688375,\n",
       "  'Board': 0.7355231965928005,\n",
       "  'Die': 0.7373940368549384,\n",
       "  'Tile': 0.7465460881471421,\n",
       "  'ActionCard': 0.8209663272870307,\n",
       "  'Player': 0.7343397249506309},\n",
       " 'TeleportActionCard': {'ActionCardType': 0.8706327704082772,\n",
       "  'Game': 0.7586180792187165,\n",
       "  'Board': 0.7820340949450165,\n",
       "  'Die': 0.7650374704406511,\n",
       "  'Tile': 0.8081539876998151,\n",
       "  'ActionCard': 0.8590938181097441,\n",
       "  'Player': 0.7903882952955003},\n",
       " 'LoseTurnActionCard': {'ActionCardType': 0.9006464632246743,\n",
       "  'Game': 0.7704424318870986,\n",
       "  'Board': 0.768977117408859,\n",
       "  'Die': 0.7727766640514481,\n",
       "  'Tile': 0.80944660403522,\n",
       "  'ActionCard': 0.8369633334135353,\n",
       "  'Player': 0.7744897400661483},\n",
       " 'WinTile': {'ActionCardType': 0.800294402440212,\n",
       "  'Game': 0.7708908492989957,\n",
       "  'Board': 0.8119518399393095,\n",
       "  'Die': 0.7848749549568658,\n",
       "  'Tile': 0.808107998096607,\n",
       "  'ActionCard': 0.7589103984464415,\n",
       "  'Player': 0.774216431081797},\n",
       " 'ActionTile': {'ActionCardType': 0.8331296477596505,\n",
       "  'Game': 0.7501692304296546,\n",
       "  'Board': 0.7760746128659844,\n",
       "  'Die': 0.7677736769431821,\n",
       "  'Tile': 0.8406628622638238,\n",
       "  'ActionCard': 0.7904329673106406,\n",
       "  'Player': 0.7508933815836125},\n",
       " 'NormalTile': {'ActionCardType': 0.797143168137121,\n",
       "  'Game': 0.7450291942573009,\n",
       "  'Board': 0.8126630510977342,\n",
       "  'Die': 0.7926227675009657,\n",
       "  'Tile': 0.8177048610358214,\n",
       "  'ActionCard': 0.758373158391834,\n",
       "  'Player': 0.7652357910073679},\n",
       " 'Player': {'ActionCardType': 0.8063567618796776,\n",
       "  'Game': 0.8201651888393424,\n",
       "  'Board': 0.8141832471795565,\n",
       "  'Die': 0.7862722438733724,\n",
       "  'Tile': 0.8349719728580977,\n",
       "  'ActionCard': 0.7678902265125304,\n",
       "  'Player': 0.8782628912086385}}"
      ]
     },
     "execution_count": 2668,
     "metadata": {},
     "output_type": "execute_result"
    }
   ],
   "source": [
    "dict_sim_all"
   ]
  },
  {
   "cell_type": "code",
   "execution_count": 2669,
   "metadata": {
    "id": "0h_VDYCKdqHv"
   },
   "outputs": [
    {
     "name": "stdout",
     "output_type": "stream",
     "text": [
      "{'Mode': {'ActionCardType': 0.777702502966393, 'Game': 0.8244502302111426, 'Board': 0.8003124058499295, 'Die': 0.7945335803096161, 'Tile': 0.7679639495332788, 'ActionCard': 0.7682451880242392, 'Player': 0.7812574454142899}, 'Color': {'ActionCardType': 0.7464428623524403, 'Game': 0.7380739890702702, 'Board': 0.7777599471988865, 'Die': 0.7895114818360068, 'Tile': 0.7533249545145939, 'ActionCard': 0.7311815658380927, 'Player': 0.7886492905085641}, 'TileO': {'ActionCardType': 0.7801489808452534, 'Game': 0.7514772499215094, 'Board': 0.8033025047718675, 'Die': 0.8187363198183137, 'Tile': 0.8095944925628566, 'ActionCard': 0.7313043728830252, 'Player': 0.7676285370689749}, 'Game': {'ActionCardType': 0.829042243983316, 'Game': 0.833335317140809, 'Board': 0.813423808071896, 'Die': 0.7760971746473532, 'Tile': 0.8101148037981722, 'ActionCard': 0.7899889183516379, 'Player': 0.8094468686876671}, 'Connection': {'ActionCardType': 0.7733959105916384, 'Game': 0.7625562378684552, 'Board': 0.772944944390733, 'Die': 0.7685725433644943, 'Tile': 0.7333846667897262, 'ActionCard': 0.7445504398094366, 'Player': 0.7782462697908911}, 'Die': {'ActionCardType': 0.7458541125255597, 'Game': 0.7475514044208572, 'Board': 0.7725908945760652, 'Die': 0.8488248512224206, 'Tile': 0.7517089383411528, 'ActionCard': 0.7337724945184984, 'Player': 0.7639626223512538}, 'Deck': {'ActionCardType': 0.8234305420759191, 'Game': 0.7959238211588555, 'Board': 0.8327580463395398, 'Die': 0.8171141458770343, 'Tile': 0.781545381535861, 'ActionCard': 0.7953500236780978, 'Player': 0.7920840888426351}, 'abstract Tile': {'ActionCardType': 0.7653545449432411, 'Game': 0.732150877715929, 'Board': 0.8117439184893163, 'Die': 0.7639853425102133, 'Tile': 0.8848879326632149, 'ActionCard': 0.7225295593914748, 'Player': 0.7636337310319913}, 'abstract ActionCard': {'ActionCardType': 0.8368657509324458, 'Game': 0.7686129041817177, 'Board': 0.7622451025387503, 'Die': 0.762592182206592, 'Tile': 0.7657850214088223, 'ActionCard': 0.8888653981592918, 'Player': 0.7647790932088052}, 'RollDieActionCard': {'ActionCardType': 0.8796036488436629, 'Game': 0.769285829261019, 'Board': 0.7691588032449354, 'Die': 0.7750901871870804, 'Tile': 0.7860801609542216, 'ActionCard': 0.8393142638622111, 'Player': 0.7671936692774667}, 'ConnectTilesActionCard': {'ActionCardType': 0.876387804939783, 'Game': 0.7592321478230749, 'Board': 0.7845400881965517, 'Die': 0.7681114128885773, 'Tile': 0.8185025112218373, 'ActionCard': 0.8348246634993859, 'Player': 0.7638703948809947}, 'RemoveConnectionActionCard': {'ActionCardType': 0.8537445103620259, 'Game': 0.7325360074688375, 'Board': 0.7355231965928005, 'Die': 0.7373940368549384, 'Tile': 0.7465460881471421, 'ActionCard': 0.8209663272870307, 'Player': 0.7343397249506309}, 'TeleportActionCard': {'ActionCardType': 0.8706327704082772, 'Game': 0.7586180792187165, 'Board': 0.7820340949450165, 'Die': 0.7650374704406511, 'Tile': 0.8081539876998151, 'ActionCard': 0.8590938181097441, 'Player': 0.7903882952955003}, 'LoseTurnActionCard': {'ActionCardType': 0.9006464632246743, 'Game': 0.7704424318870986, 'Board': 0.768977117408859, 'Die': 0.7727766640514481, 'Tile': 0.80944660403522, 'ActionCard': 0.8369633334135353, 'Player': 0.7744897400661483}, 'WinTile': {'ActionCardType': 0.800294402440212, 'Game': 0.7708908492989957, 'Board': 0.8119518399393095, 'Die': 0.7848749549568658, 'Tile': 0.808107998096607, 'ActionCard': 0.7589103984464415, 'Player': 0.774216431081797}, 'ActionTile': {'ActionCardType': 0.8331296477596505, 'Game': 0.7501692304296546, 'Board': 0.7760746128659844, 'Die': 0.7677736769431821, 'Tile': 0.8406628622638238, 'ActionCard': 0.7904329673106406, 'Player': 0.7508933815836125}, 'NormalTile': {'ActionCardType': 0.797143168137121, 'Game': 0.7450291942573009, 'Board': 0.8126630510977342, 'Die': 0.7926227675009657, 'Tile': 0.8177048610358214, 'ActionCard': 0.758373158391834, 'Player': 0.7652357910073679}, 'Player': {'ActionCardType': 0.8063567618796776, 'Game': 0.8201651888393424, 'Board': 0.8141832471795565, 'Die': 0.7862722438733724, 'Tile': 0.8349719728580977, 'ActionCard': 0.7678902265125304, 'Player': 0.8782628912086385}}\n"
     ]
    },
    {
     "data": {
      "text/plain": [
       "[('Mode', None),\n",
       " ('Color', None),\n",
       " ('TileO', None),\n",
       " ('Connection', None),\n",
       " ('Deck', 'Board'),\n",
       " ('RollDieActionCard', None),\n",
       " ('ConnectTilesActionCard', None),\n",
       " ('RemoveConnectionActionCard', None),\n",
       " ('TeleportActionCard', None),\n",
       " ('LoseTurnActionCard', 'ActionCardType'),\n",
       " ('WinTile', None),\n",
       " ('ActionTile', None),\n",
       " ('NormalTile', None)]"
      ]
     },
     "execution_count": 2669,
     "metadata": {},
     "output_type": "execute_result"
    }
   ],
   "source": [
    "mapping = match_classes(ref_classes, stu_classes, dict_sim_all, 0.8)\n",
    "mapping[0]"
   ]
  },
  {
   "cell_type": "code",
   "execution_count": 2670,
   "metadata": {
    "id": "c-JGkI6OgFFf"
   },
   "outputs": [],
   "source": [
    "for map in mapping[0]:\n",
    "  if map[0] and map[1]:\n",
    "    ref_cls.cls_atr[map[0]]['score'] = 1\n",
    "    ref_cls.cls_atr[map[0]]['counterpart'] = map[1]\n",
    "\n",
    "    stu_cls.cls_atr[map[1]]['score'] = 1\n",
    "    stu_cls.cls_atr[map[1]]['counterpart'] = map[0]\n",
    "\n",
    "    if ref_cls.cls_atr[map[0]][\"type\"] !=  stu_cls.cls_atr[map[1]][\"type\"]:\n",
    "      # type mismatch\n",
    "      ref_cls.cls_atr[map[0]]['score'] = 0.5\n",
    "      stu_cls.cls_atr[map[1]][\"score\"] = 0.5"
   ]
  },
  {
   "cell_type": "code",
   "execution_count": null,
   "metadata": {},
   "outputs": [],
   "source": []
  },
  {
   "cell_type": "markdown",
   "metadata": {
    "id": "AD1YW_WlcROJ"
   },
   "source": [
    "## Stage 2.1 Attribute mapping"
   ]
  },
  {
   "cell_type": "code",
   "execution_count": 2671,
   "metadata": {
    "id": "iscQC5FOiqGK"
   },
   "outputs": [],
   "source": [
    "def get_cosine_disntance(text1, text2, embedding):\n",
    "    avg = np.sum(embedding[text1], axis=0)\n",
    "    emb_i = avg / len(text1)\n",
    "\n",
    "    avg = np.sum(embedding[text2], axis=0)\n",
    "    emb_j = avg / len(text2)\n",
    "\n",
    "    return np.dot(emb_i, emb_j) / (np.linalg.norm(emb_i) * np.linalg.norm(emb_j))"
   ]
  },
  {
   "cell_type": "code",
   "execution_count": 2672,
   "metadata": {
    "id": "Y_pf4bzuhcWM"
   },
   "outputs": [],
   "source": [
    "def create_cosine_similarity_dict(attr_1, attr_2, embedding):\n",
    "  # attr_1: list[list] split camel case into separated case\n",
    "  # attr_2: list[list] split camel case into separated case\n",
    "  # embedding:\n",
    "  # raw_1: list[str] camcel case attributes\n",
    "  # raw_2: list[str] camcel case attributes\n",
    "\n",
    "  # create cosine distance between two attributes with embeeding\n",
    "\n",
    "  # >>> dic = createCosineDistance(['deviceStatus', 'deviceId'], ['id'], sgram_mde)\n",
    "  similarities = []\n",
    "  for att in attr_1:\n",
    "    emb_i = get_mde_embedding(att, embedding)\n",
    "    pair = []\n",
    "    for attribute in attr_2:\n",
    "      emb_j = get_mde_embedding(attribute, embedding)\n",
    "\n",
    "      sim = np.dot(emb_i, emb_j) / (np.linalg.norm(emb_i) * np.linalg.norm(emb_j))\n",
    "      pair.append(sim)\n",
    "\n",
    "    similarities.append(pair)\n",
    "\n",
    "  dict_attr = {}\n",
    "  for i in range(len(attr_1)):\n",
    "    dict_attr[attr_1[i]] = {}\n",
    "    for j in range(len(attr_2)):\n",
    "      dict_attr[attr_1[i]][attr_2[j]] = similarities[i][j]\n",
    "\n",
    "  return dict_attr"
   ]
  },
  {
   "cell_type": "code",
   "execution_count": 2673,
   "metadata": {
    "id": "3zgOAtMkjId5"
   },
   "outputs": [],
   "source": [
    "def match_attributes(raw_1, raw_2, dict_attr, threshold = 0.5):\n",
    "  # map attributes lists raw_1 and raw_2\n",
    "  # >>> mapAttributes(['deviceStatus'], ['id'], dic)[0]\n",
    "  def node_subst_cost_attr(node1, node2):\n",
    "    # threshod as 0.45\n",
    "    if dict_attr[node1[\"name\"]][node2[\"name\"]] < threshold:\n",
    "      return 3\n",
    "    else:\n",
    "      return 1-dict_attr[node1[\"name\"]][node2[\"name\"]]\n",
    "\n",
    "  G_att_1 = nx.Graph()\n",
    "  G_att_2 = nx.Graph()\n",
    "  for node in raw_1:\n",
    "    G_att_1.add_node(node, name = node)\n",
    "\n",
    "  for node in raw_2:\n",
    "    G_att_2.add_node(node, name = node)\n",
    "\n",
    "  for v in nx.optimize_edit_paths(G_att_1, G_att_2, node_subst_cost=node_subst_cost_attr, edge_match=None, timeout = 20):\n",
    "      minv = v\n",
    "  # minv\n",
    "\n",
    "  return minv"
   ]
  },
  {
   "cell_type": "code",
   "execution_count": 2674,
   "metadata": {
    "id": "_DfPQzlrkIPr"
   },
   "outputs": [],
   "source": [
    "def check_attributes_type(attr_1, attr_2, ref_dict, stu_dict):\n",
    "  # given two attribute, compare whether their type can match\n",
    "  attr_1 = attr_1.split() # from reference solution do not need to check it\n",
    "  attr_2 = attr_2.split()\n",
    "\n",
    "  # if enumerate literal and attributes\n",
    "  # if len(attr_1) != len(attr_2):\n",
    "  #   return 0.5, 0.5\n",
    "\n",
    "  # if an attributes use a regular class as its type\n",
    "  if len(attr_2) == 2:\n",
    "    t = attr_2[0].strip()\n",
    "    cls = stu_dict.get(t, None)\n",
    "    if cls is not None and (stu_dict[t]['type'] == \"regular\" or stu_dict[t]['type'] == \"abstract\"):\n",
    "      return 0.5, 0.5\n",
    "    \n",
    "  if len(attr_1) == 2 or len(attr_2) == 2:\n",
    "    t = attr_1[0].strip()\n",
    "    cls = ref_dict.get(t, None)\n",
    "    # print(cls)\n",
    "    t_2 = attr_2[0].strip()\n",
    "    cls_2 = stu_dict.get(t_2, None)   \n",
    "    # print(cls_2) \n",
    "    if cls is not None:\n",
    "      if ref_dict[t]['counterpart'] != t_2:\n",
    "        return 0.5, 0.5\n",
    "    if cls_2 is not None:\n",
    "      if stu_dict[t_2]['counterpart'] != t:\n",
    "        return 0.5, 0.5\n",
    "    \n",
    "  return 1,1"
   ]
  },
  {
   "cell_type": "code",
   "execution_count": 2675,
   "metadata": {},
   "outputs": [
    {
     "data": {
      "text/plain": [
       "(1, 1)"
      ]
     },
     "execution_count": 2675,
     "metadata": {},
     "output_type": "execute_result"
    }
   ],
   "source": [
    "x =check_attributes_type(('CommandStatus commandStatus', 'ControllerStatus status')[0], ('CommandStatus commandStatus', 'ControllerStatus status')[1], ref_cls.cls_atr, stu_cls.cls_atr)\n",
    "x"
   ]
  },
  {
   "cell_type": "markdown",
   "metadata": {
    "id": "Aa4XV2BtjJyR"
   },
   "source": [
    "### Stage 2.1.1 Attribute <-> Attribute (mapped classes)"
   ]
  },
  {
   "cell_type": "code",
   "execution_count": 2676,
   "metadata": {
    "id": "AWTlbDOnrwK-"
   },
   "outputs": [
    {
     "name": "stdout",
     "output_type": "stream",
     "text": [
      "['Game', 'Game']\n",
      "mapping [('int currentConnectionPieces', 'string status'), ('Mode mode', None), ('int spaceConnectionPieces', None), ('int numberOfActionCards', 'int currentPlayerIndex'), (None, 'boolean isGameOver'), (None, 'string version'), (None, 'string designerName')]\n",
      "====================\n",
      "['Die', 'Die']\n",
      "mapping [(None, 'int sides')]\n",
      "====================\n",
      "['Deck', 'Board']\n",
      "mapping [(None, 'int width'), (None, 'int height')]\n",
      "====================\n",
      "['abstract Tile', 'Tile']\n",
      "mapping [('int x', 'int turnsRemaining'), ('int y', None), ('boolean hasBeenVisited', 'boolean isVisited'), (None, 'boolean isHidden'), (None, 'boolean isActionTile')]\n",
      "====================\n",
      "['abstract ActionCard', 'ActionCard']\n",
      "mapping [('string instructions', 'string description'), (None, 'ActionCardType type')]\n",
      "====================\n",
      "['LoseTurnActionCard', 'ActionCardType']\n",
      "mapping [(None, 'RollExtraTurn'), (None, 'ConnectTiles'), (None, 'RemoveConnection'), (None, 'MoveToTile'), (None, 'LoseTurn')]\n",
      "====================\n",
      "['Player', 'Player']\n",
      "mapping [('int number', 'string name'), ('int turnsUntilActive', 'int currentPosition'), ('Color color', 'string color')]\n",
      "====================\n"
     ]
    }
   ],
   "source": [
    "# map classes\n",
    "pairs = []\n",
    "\n",
    "# get matched pairs\n",
    "for key in ref_cls.cls_atr:\n",
    "  if ref_cls.cls_atr[key][\"counterpart\"] != None:\n",
    "    pair = [key, ref_cls.cls_atr[key][\"counterpart\"]]\n",
    "    pairs.append(pair)\n",
    "\n",
    "for pair in pairs:\n",
    "  if pair[0] and pair[1]:\n",
    "    print(pair)\n",
    "\n",
    "    # map attributes:\n",
    "    # matched_ref = set()\n",
    "    # matched_attr = set()\n",
    "\n",
    "    raw_1 = []\n",
    "    for attributes in ref_cls.cls_atr[pair[0]][\"attributes\"]:\n",
    "      raw_1.append(attributes)\n",
    "\n",
    "    raw_2 = []\n",
    "    for attributes in stu_cls.cls_atr[pair[1]][\"attributes\"]:\n",
    "      raw_2.append(attributes)\n",
    "\n",
    "    cos_dict = create_cosine_similarity_dict(raw_1, raw_2, sgram_mde)\n",
    "    mappings = match_attributes(raw_1, raw_2, cos_dict)[0]\n",
    "    print(\"mapping\", mappings)\n",
    "\n",
    "    for mapping in mappings:\n",
    "      if mapping[0] != None and mapping[1] != None:\n",
    "        scores = check_attributes_type(mapping[0], mapping[1], ref_cls.cls_atr, stu_cls.cls_atr)\n",
    "        ref_cls.cls_atr[pair[0]][\"attributes\"][mapping[0]]['score'] = scores[0]\n",
    "        ref_cls.cls_atr[pair[0]][\"attributes\"][mapping[0]][\"counterpart\"] = (mapping[1], pair[1])\n",
    "        stu_cls.cls_atr[pair[1]][\"attributes\"][mapping[1]]['score'] = scores[1]\n",
    "        stu_cls.cls_atr[pair[1]][\"attributes\"][mapping[1]][\"counterpart\"] =  (mapping[0], pair[0])\n",
    "\n",
    "    print(\"=\"*20)"
   ]
  },
  {
   "cell_type": "markdown",
   "metadata": {
    "id": "w1MhcWsJ5oaH"
   },
   "source": [
    "### Stage 2.1.2 Attribute <-> Attribute (between any classes)"
   ]
  },
  {
   "cell_type": "code",
   "execution_count": 2677,
   "metadata": {
    "id": "h6Hg_bA7AozB"
   },
   "outputs": [],
   "source": [
    "def create_cosine_similarity_list(attr_1, attr_2, embedding):\n",
    "  # attr_1: list[list] split camel case into separated case\n",
    "  # attr_2: list[list] split camel case into separated case\n",
    "  # embedding:\n",
    "  # raw_1: list[str] camcel case attributes\n",
    "  # raw_2: list[str] camcel case attributes\n",
    "\n",
    "  # create cosine distance between two attributes with embeeding\n",
    "\n",
    "  # >>> dic = createCosineDistance(['deviceStatus', 'deviceId'], ['id'], sgram_mde)\n",
    "  similarities = []\n",
    "  for att in attr_1:\n",
    "    emb_i = get_mde_embedding(att, embedding)\n",
    "    pair = []\n",
    "    for attribute in attr_2:\n",
    "      emb_j = get_mde_embedding(attribute, embedding)\n",
    "\n",
    "      sim = np.dot(emb_i, emb_j) / (np.linalg.norm(emb_i) * np.linalg.norm(emb_j))\n",
    "      pair.append(sim)\n",
    "\n",
    "    similarities.append(pair)\n",
    "\n",
    "  return similarities"
   ]
  },
  {
   "cell_type": "code",
   "execution_count": 2678,
   "metadata": {
    "id": "MJjwB1h-9rgc"
   },
   "outputs": [],
   "source": [
    "def combine_two_dict(list_1, list_2, atr_1, atr_2, cls_1, cls_2, weight_1 = 0.9, weight_2=0.1):\n",
    "  # list_1: similarity between cls\n",
    "  # list_2: cos similarity between attributes\n",
    "  if weight_1 + weight_2 != 1:\n",
    "    raise ValueError(\"weight_1 + weight_2 != 1\")\n",
    "  result = {}\n",
    "  for i in range(len(atr_1)):\n",
    "    atr_r = atr_1[i]\n",
    "    cls_r = cls_1[i]\n",
    "    tmp_ref = (atr_r, cls_r)\n",
    "    result[tmp_ref] = {}\n",
    "    for j in range(len(atr_2)):\n",
    "      atr_s = atr_2[j]\n",
    "      cls_s = cls_2[j]\n",
    "      tmp_stu = (atr_s, cls_s)\n",
    "\n",
    "      result[tmp_ref][tmp_stu] = weight_1 * list_1[i][j] + weight_2 * list_2[i][j]\n",
    "\n",
    "  return result\n"
   ]
  },
  {
   "cell_type": "code",
   "execution_count": 2679,
   "metadata": {
    "id": "ksyw3eTg5nLe"
   },
   "outputs": [
    {
     "name": "stdout",
     "output_type": "stream",
     "text": [
      "(('design', 'Mode'), None)\n",
      "(('game', 'Mode'), ('boolean isGameOver', 'Game'))\n",
      "(('red', 'Color'), None)\n",
      "(('blue', 'Color'), None)\n",
      "(('green', 'Color'), None)\n",
      "(('yellow', 'Color'), None)\n",
      "(('Mode mode', 'Game'), None)\n",
      "(('int spaceConnectionPieces', 'Game'), ('int sides', 'Die'))\n",
      "(('int y', 'abstract Tile'), ('int height', 'Board'))\n",
      "(('int inactivityPeriod', 'ActionTile'), ('int width', 'Board'))\n",
      "(('int turnsUntilActive', 'ActionTile'), ('boolean isActionTile', 'Tile'))\n",
      "(None, ('RollExtraTurn', 'ActionCardType'))\n",
      "(None, ('ConnectTiles', 'ActionCardType'))\n",
      "(None, ('RemoveConnection', 'ActionCardType'))\n",
      "(None, ('MoveToTile', 'ActionCardType'))\n",
      "(None, ('LoseTurn', 'ActionCardType'))\n",
      "(None, ('string version', 'Game'))\n",
      "(None, ('string designerName', 'Game'))\n",
      "(None, ('boolean isHidden', 'Tile'))\n",
      "(None, ('ActionCardType type', 'ActionCard'))\n",
      "====================\n"
     ]
    }
   ],
   "source": [
    "# attr between any classes\n",
    "\n",
    "raw_1 = []\n",
    "ref_source = []\n",
    "tup_r = []\n",
    "# get attributes on instrucotr sides\n",
    "for cls in ref_cls.cls_atr:\n",
    "  for attributes in ref_cls.cls_atr[cls][\"attributes\"]:\n",
    "    if ref_cls.cls_atr[cls][\"attributes\"][attributes][\"counterpart\"] == None:\n",
    "      raw_1.append(attributes)\n",
    "      ref_source.append(cls)\n",
    "      tup_r.append((attributes, cls))\n",
    "\n",
    "raw_2 = []\n",
    "stu_source = []\n",
    "tup_s = []\n",
    "# get attributes on student sides\n",
    "for cls in stu_cls.cls_atr:\n",
    "  for attributes in stu_cls.cls_atr[cls][\"attributes\"]:\n",
    "    if stu_cls.cls_atr[cls][\"attributes\"][attributes][\"counterpart\"] == None:\n",
    "      raw_2.append(attributes)\n",
    "      stu_source.append(cls)\n",
    "      tup_s.append((attributes, cls))\n",
    "\n",
    "list_1 = create_cosine_similarity_list(raw_1, raw_2, sgram_mde)\n",
    "list_2 = create_cosine_similarity_list(ref_source, stu_source, sgram_mde)\n",
    "combined = combine_two_dict(list_1, list_2, raw_1, raw_2, ref_source, stu_source)\n",
    "\n",
    "mappings = match_attributes(tup_r, tup_s, combined)[0]\n",
    "\n",
    "for mapping in mappings:\n",
    "  print(mapping)\n",
    "  if mapping[0] != None and mapping[1] != None:\n",
    "    scores = check_attributes_type(mapping[0][0], mapping[1][0], ref_cls.cls_atr, stu_cls.cls_atr)\n",
    "\n",
    "\n",
    "    ref_cls.cls_atr[mapping[0][1]][\"attributes\"][mapping[0][0]]['score'] = min(scores[0], 0.5)\n",
    "    ref_cls.cls_atr[mapping[0][1]][\"attributes\"][mapping[0][0]][\"counterpart\"] = mapping[1]\n",
    "\n",
    "    stu_cls.cls_atr[mapping[1][1]][\"attributes\"][mapping[1][0]]['score'] = min(scores[1], 0.5)\n",
    "    stu_cls.cls_atr[mapping[1][1]][\"attributes\"][mapping[1][0]][\"counterpart\"] =  mapping[0]\n",
    "\n",
    "    if ref_cls.cls_atr[mapping[0][1]]['counterpart'] == mapping[1][1]:\n",
    "      ref_cls.cls_atr[mapping[0][1]][\"attributes\"][mapping[0][0]]['score'] = min(scores[0], 1)\n",
    "\n",
    "      stu_cls.cls_atr[mapping[1][1]][\"attributes\"][mapping[1][0]]['score'] = min(scores[1], 1)\n",
    "print(\"=\"*20)"
   ]
  },
  {
   "cell_type": "markdown",
   "metadata": {
    "id": "z8jvTH1EcWAo"
   },
   "source": [
    "## Stage 2.2.1 Attribute mapping atr -> cls"
   ]
  },
  {
   "cell_type": "code",
   "execution_count": 2680,
   "metadata": {},
   "outputs": [
    {
     "name": "stdout",
     "output_type": "stream",
     "text": [
      "(('design', 'Mode'), None)\n",
      "(('red', 'Color'), None)\n",
      "(('blue', 'Color'), None)\n",
      "(('green', 'Color'), None)\n",
      "(('yellow', 'Color'), None)\n",
      "(('Mode mode', 'Game'), None)\n",
      "====================\n"
     ]
    }
   ],
   "source": [
    "#  get non-mapped attributes on instrucotr side\n",
    "\n",
    "raw_1 = []\n",
    "ref_source = []\n",
    "tup_r = []\n",
    "# get attributes on instrucotr sides\n",
    "for cls in ref_cls.cls_atr:\n",
    "  for attributes in ref_cls.cls_atr[cls][\"attributes\"]:\n",
    "    if ref_cls.cls_atr[cls][\"attributes\"][attributes][\"counterpart\"] == None:\n",
    "      raw_1.append(attributes)\n",
    "      ref_source.append(cls)\n",
    "      tup_r.append((attributes, cls))\n",
    "\n",
    "raw_2 = []\n",
    "stu_source = []\n",
    "tup_s = []\n",
    "# get un-mapped class on student sides\n",
    "for cls in stu_cls.cls_atr:\n",
    "    if stu_cls.cls_atr[cls][\"counterpart\"] == None:\n",
    "      raw_2.append(cls)\n",
    "      stu_source.append(cls)\n",
    "      tup_s.append((cls, cls))\n",
    "\n",
    "list_1 = create_cosine_similarity_list(raw_1, raw_2, sgram_mde)\n",
    "list_2 = create_cosine_similarity_list(ref_source, stu_source, sgram_mde)\n",
    "combined = combine_two_dict(list_1, list_2, raw_1, raw_2, ref_source, stu_source)\n",
    "\n",
    "mappings = match_attributes(tup_r, tup_s, combined)[0]\n",
    "\n",
    "for mapping in mappings:\n",
    "  print(mapping)\n",
    "  if mapping[0] != None and mapping[1] != None:\n",
    "    # scores = check_attributes_type(mapping[0][0], mapping[1][0], ref_cls.cls_atr, stu_cls.cls_atr)\n",
    "    ref_cls.cls_atr[mapping[0][1]][\"attributes\"][mapping[0][0]]['score'] = 0.5\n",
    "    ref_cls.cls_atr[mapping[0][1]][\"attributes\"][mapping[0][0]][\"counterpart\"] = (None, mapping[1][1])\n",
    "\n",
    "    stu_cls.cls_atr[mapping[1][1]]['score'] = 0.5\n",
    "    stu_cls.cls_atr[mapping[1][1]][\"counterpart\"] =  mapping[0]\n",
    "\n",
    "print(\"=\"*20)\n"
   ]
  },
  {
   "cell_type": "markdown",
   "metadata": {
    "id": "RUqlTdHicb7A"
   },
   "source": [
    "## Stage 2.2.2 Attribute mapping cls -> atr"
   ]
  },
  {
   "cell_type": "code",
   "execution_count": 2681,
   "metadata": {},
   "outputs": [
    {
     "name": "stdout",
     "output_type": "stream",
     "text": [
      "(('Mode', 'Mode'), None)\n",
      "(('Color', 'Color'), None)\n",
      "(('TileO', 'TileO'), None)\n",
      "(('Connection', 'Connection'), None)\n",
      "(('RollDieActionCard', 'RollDieActionCard'), ('RollExtraTurn', 'ActionCardType'))\n",
      "(('ConnectTilesActionCard', 'ConnectTilesActionCard'), ('ConnectTiles', 'ActionCardType'))\n",
      "(('RemoveConnectionActionCard', 'RemoveConnectionActionCard'), ('RemoveConnection', 'ActionCardType'))\n",
      "(('TeleportActionCard', 'TeleportActionCard'), ('ActionCardType type', 'ActionCard'))\n",
      "(('WinTile', 'WinTile'), None)\n",
      "(('ActionTile', 'ActionTile'), ('MoveToTile', 'ActionCardType'))\n",
      "(('NormalTile', 'NormalTile'), None)\n",
      "(None, ('LoseTurn', 'ActionCardType'))\n",
      "(None, ('string version', 'Game'))\n",
      "(None, ('string designerName', 'Game'))\n",
      "(None, ('boolean isHidden', 'Tile'))\n",
      "====================\n"
     ]
    }
   ],
   "source": [
    "#  get non-mapped cls on instrucotr side\n",
    "\n",
    "raw_1 = []\n",
    "ref_source = []\n",
    "tup_r = []\n",
    "# get class on instrucotr sides\n",
    "for cls in ref_cls.cls_atr:\n",
    "    if ref_cls.cls_atr[cls][\"counterpart\"] == None:\n",
    "      raw_1.append(cls)\n",
    "      ref_source.append(cls)\n",
    "      tup_r.append((cls, cls))\n",
    "\n",
    "raw_2 = []\n",
    "stu_source = []\n",
    "tup_s = []\n",
    "# get un-mapped class on student sides\n",
    "for cls in stu_cls.cls_atr:\n",
    "  for attributes in stu_cls.cls_atr[cls][\"attributes\"]:\n",
    "    if stu_cls.cls_atr[cls][\"attributes\"][attributes][\"counterpart\"] == None:\n",
    "      raw_2.append(attributes)\n",
    "      stu_source.append(cls)\n",
    "      tup_s.append((attributes, cls))\n",
    "\n",
    "list_1 = create_cosine_similarity_list(raw_1, raw_2, sgram_mde)\n",
    "list_2 = create_cosine_similarity_list(ref_source, stu_source, sgram_mde)\n",
    "combined = combine_two_dict(list_1, list_2, raw_1, raw_2, ref_source, stu_source)\n",
    "\n",
    "mappings = match_attributes(tup_r, tup_s, combined)[0]\n",
    "\n",
    "for mapping in mappings:\n",
    "  print(mapping)\n",
    "  if mapping[0] != None and mapping[1] != None:\n",
    "    # scores = check_attributes_type(mapping[0][0], mapping[1][0], ref_cls.cls_atr, stu_cls.cls_atr)\n",
    "    ref_cls.cls_atr[mapping[0][1]]['score'] = 0.5\n",
    "    ref_cls.cls_atr[mapping[0][1]][\"counterpart\"] = mapping[1]\n",
    "\n",
    "    stu_cls.cls_atr[mapping[1][1]][\"attributes\"][mapping[1][0]]['score'] = 0.5\n",
    "    stu_cls.cls_atr[mapping[1][1]][\"attributes\"][mapping[1][0]][\"counterpart\"] = (None, mapping[0][1])\n",
    "\n",
    "print(\"=\"*20)\n"
   ]
  },
  {
   "cell_type": "code",
   "execution_count": null,
   "metadata": {},
   "outputs": [],
   "source": []
  },
  {
   "cell_type": "markdown",
   "metadata": {
    "id": "Nj29zba_g4b9"
   },
   "source": [
    "## Stage 3: Relationship mapping"
   ]
  },
  {
   "cell_type": "code",
   "execution_count": 2682,
   "metadata": {
    "id": "tcebf4Y10ZWF"
   },
   "outputs": [],
   "source": [
    "def check_relations_classes(ref_index, stu_index, ref_elements, stu_elements):\n",
    "    # ref_index: index of the element in the dsl\n",
    "    # stu_index: index of the element in the dsl\n",
    "    # ref_elements: list[str] elements in the dsl\n",
    "    # stu_elements: list[str] elements in the dsl\n",
    "\n",
    "    ref_class_1 = ref_elements[ref_index]\n",
    "    # check whether this is an abstract class\n",
    "    dict_keys = list(ref_attributes.keys())\n",
    "    if not ref_class_1 in dict_keys:\n",
    "      abstract = \"abstract \" + ref_class_1\n",
    "      ref_class_1 = abstract\n",
    "\n",
    "    true_pair = ref_attributes[ref_class_1][\"counterpart\"]\n",
    "    if isinstance(true_pair, tuple):\n",
    "      boolean_1 = False\n",
    "    elif true_pair == None:\n",
    "      boolean_1 = False\n",
    "    else:\n",
    "      tmp = true_pair.replace(\"abstract \", \"\")\n",
    "      boolean_1 = stu_elements[stu_index] == tmp\n",
    "    return boolean_1"
   ]
  },
  {
   "cell_type": "markdown",
   "metadata": {
    "id": "jOkmZADOQVKU"
   },
   "source": [
    "#### Compare rel"
   ]
  },
  {
   "cell_type": "code",
   "execution_count": 2683,
   "metadata": {
    "id": "W4LkPWHX0kRX"
   },
   "outputs": [],
   "source": [
    "\n",
    "def compare_edges(ref_e, stu_e):\n",
    "  # compare if two relationships match\n",
    "  # return bool, score, score\n",
    "\n",
    "  ref_elements = ref_e.split()\n",
    "  stu_elements = stu_e.split()\n",
    "  # print(ref_elements, stu_elements)\n",
    "\n",
    "  # exact match first\n",
    "  # length must match\n",
    "  n_ref = len(ref_elements)\n",
    "  n_stu = len(stu_elements)\n",
    "  if n_ref == n_stu and n_ref == 5:\n",
    "    # all element must match\n",
    "    boolean_1 = check_relations_classes(1,1,ref_elements,stu_elements )\n",
    "\n",
    "    boolean_4 = check_relations_classes(4,4,ref_elements,stu_elements )\n",
    "\n",
    "    # type\n",
    "    boolean_2 = ref_elements[2] == stu_elements[2]\n",
    "\n",
    "    # association\n",
    "    boolean_0 = ref_elements[0] == stu_elements[0]\n",
    "\n",
    "    # association\n",
    "    boolean_3 = ref_elements[3] == stu_elements[3]\n",
    "\n",
    "    if boolean_0 and boolean_1 and boolean_2 and boolean_3 and boolean_4:\n",
    "      print(\"exact match success\")\n",
    "      print(ref_e, \"|||\", stu_e)\n",
    "      return True, 1, 1\n",
    "\n",
    "    boolean_1_4 = False\n",
    "    boolean_4_1 = False\n",
    "    boolean_1_4 = check_relations_classes(1,4,ref_elements,stu_elements )\n",
    "    boolean_4_1 = check_relations_classes(4,1,ref_elements,stu_elements )\n",
    "\n",
    "    # check if the relationship is fliped, this only works for associate, not containment\n",
    "    if  \"associate\" in ref_elements[2] and \"associate\" in stu_elements[2]:\n",
    "      # association\n",
    "      boolean_0 = ref_elements[0] == stu_elements[3]\n",
    "\n",
    "      # association\n",
    "      boolean_3 = ref_elements[3] == stu_elements[0]\n",
    "\n",
    "    if boolean_0 and boolean_1_4 and boolean_3 and boolean_4_1 and boolean_2:\n",
    "      print(\"match success, flipped associate\")\n",
    "      print(ref_e, \"|||\", stu_e)\n",
    "      return True, 1, 1\n",
    "\n",
    "    # check if relationship is partially match\n",
    "    if  (boolean_1 and boolean_4) or (boolean_1_4 and boolean_4_1):\n",
    "      print(\"match partially success\")\n",
    "      print(ref_e, \"|||\", stu_e)\n",
    "      return True, 0.5, 0.5\n",
    "\n",
    "  if n_ref == n_stu and n_ref == 3:\n",
    "    # all element must match\n",
    "    boolean_0 = check_relations_classes(0,0,ref_elements,stu_elements )\n",
    "    boolean_2 = check_relations_classes(2,2,ref_elements,stu_elements )\n",
    "\n",
    "    # type\n",
    "    boolean_1 = ref_elements[1] == stu_elements[1]\n",
    "\n",
    "    if boolean_0 and boolean_1 and boolean_2:\n",
    "      print(\"match success\")\n",
    "      print(ref_e, \"|||\", stu_e)\n",
    "      # ref_dict[ref_e][\"score\"] = 1\n",
    "      # ref_dict[ref_e][\"counterpart\"] = stu_e\n",
    "\n",
    "      # stu_dict[stu_e][\"score\"] = 1\n",
    "      # stu_dict[stu_e][\"counterpart\"] = ref_e\n",
    "      return True, 1, 1\n",
    "\n",
    "\n",
    "  return False,0, 0"
   ]
  },
  {
   "cell_type": "code",
   "execution_count": 2684,
   "metadata": {
    "id": "Ts1dyVvI0qZL"
   },
   "outputs": [],
   "source": [
    "\n",
    "for i, ref_tmp in enumerate(edges[0].raw_dsl):\n",
    "  matchings = []\n",
    "  for j, stu_tmp in enumerate(edges[1].raw_dsl):\n",
    "    if edges[0].rels[i][\"counterpart\"] is None and edges[1].rels[j][\"counterpart\"] is None:\n",
    "      result = compare_edges(ref_tmp, stu_tmp)\n",
    "      if result[0]:\n",
    "        matching = (i, j, result[1], result[2])\n",
    "        matchings.append(matching)\n",
    "        # matched_stu_edges.add(j)\n",
    "        # matched_ref_edges.add(i)\n",
    "        # edges[0].rels[i][\"score\"] = result[1]\n",
    "        # edges[0].rels[i][\"counterpart\"] = stu_tmp\n",
    "\n",
    "        # edges[1].rels[j][\"score\"] = result[2]\n",
    "        # edges[1].rels[j][\"counterpart\"] = ref_tmp\n",
    "  print(matchings)\n",
    "  if len(matchings) > 0:\n",
    "    print()\n",
    "    highest_score = 0\n",
    "    matching = None\n",
    "\n",
    "    for m in matchings:\n",
    "      if m[2] > highest_score:\n",
    "        matching = m\n",
    "        highest_score = m[2]\n",
    "    j_j = matching[1]\n",
    "    i_i = matching[0]\n",
    "    \n",
    "    edges[0].rels[i_i][\"score\"] = m[2]\n",
    "    edges[0].rels[i_i][\"counterpart\"] = edges[1].raw_dsl[j_j]\n",
    "\n",
    "    edges[1].rels[j_j][\"score\"] = m[3]\n",
    "    edges[1].rels[j_j][\"counterpart\"] = edges[0].raw_dsl[i_i]\n",
    "\n"
   ]
  },
  {
   "cell_type": "markdown",
   "metadata": {
    "id": "zVK8inUYg-4A"
   },
   "source": [
    "## Result: Precision/Recall/F1"
   ]
  },
  {
   "cell_type": "markdown",
   "metadata": {},
   "source": [
    "### save matching to disk"
   ]
  },
  {
   "cell_type": "code",
   "execution_count": 2685,
   "metadata": {},
   "outputs": [],
   "source": [
    "if not os.path.exists(student_out_dir):\n",
    "    os.makedirs(student_out_dir)"
   ]
  },
  {
   "cell_type": "code",
   "execution_count": 2686,
   "metadata": {},
   "outputs": [],
   "source": [
    "# with open( student_out_dir + 'matching.pkl', 'wb') as outp:\n",
    "#     pickle.dump(grader, outp, pickle.HIGHEST_PROTOCOL)"
   ]
  },
  {
   "cell_type": "code",
   "execution_count": 2687,
   "metadata": {},
   "outputs": [
    {
     "data": {
      "text/plain": [
       "'results/gpt-4o/yujing/07_Tile/result/'"
      ]
     },
     "execution_count": 2687,
     "metadata": {},
     "output_type": "execute_result"
    }
   ],
   "source": [
    "student_out_dir"
   ]
  },
  {
   "cell_type": "code",
   "execution_count": 2688,
   "metadata": {},
   "outputs": [],
   "source": [
    "\n",
    "\n",
    "# as requested in comment\n",
    "\n",
    "with open(student_out_dir + 'solution_matching.txt', 'w') as file:\n",
    "     file.write(json.dumps(grader.ref.cls_atr))\n",
    "\n",
    "\n",
    "with open(student_out_dir + 'student_matching.txt', 'w') as file:\n",
    "     file.write(json.dumps(grader.stu.cls_atr))\n",
    "\n",
    "with open(student_out_dir + 'solution_matching_relationship.txt', 'w') as file:\n",
    "     file.write(json.dumps(grader.ref.rel.rels))\n",
    "\n",
    "\n",
    "with open(student_out_dir + 'student_matching_relationship.txt', 'w') as file:\n",
    "     file.write(json.dumps(grader.stu.rel.rels))"
   ]
  },
  {
   "cell_type": "code",
   "execution_count": 2689,
   "metadata": {},
   "outputs": [
    {
     "data": {
      "text/plain": [
       "'results/gpt-4o/yujing/07_Tile/result/'"
      ]
     },
     "execution_count": 2689,
     "metadata": {},
     "output_type": "execute_result"
    }
   ],
   "source": [
    "student_out_dir"
   ]
  },
  {
   "cell_type": "markdown",
   "metadata": {},
   "source": [
    "###### to local"
   ]
  },
  {
   "cell_type": "code",
   "execution_count": 2690,
   "metadata": {},
   "outputs": [],
   "source": [
    "# # # be careful...\n",
    "\n",
    "# with open(student_dir + \"human_eval/\" + 'ref_meta_cls.py', 'w') as file:\n",
    "#     file.write(json.dumps(grader.ref.cls_atr))\n",
    "\n",
    "\n",
    "# with open(student_dir + \"human_eval/\" + 'stu_meta_cls.py', 'w') as file:\n",
    "#     file.write(json.dumps(grader.stu.cls_atr))\n",
    "\n",
    "# with open(student_dir + \"human_eval/\" + 'ref_meta_rels.py', 'w') as file:\n",
    "#     file.write(json.dumps(grader.ref.rel.rels))\n",
    "\n",
    "\n",
    "# with open(student_dir + \"human_eval/\" + 'stu_meta_rels.py', 'w') as file:\n",
    "#     file.write(json.dumps(grader.stu.rel.rels))"
   ]
  },
  {
   "cell_type": "code",
   "execution_count": 2691,
   "metadata": {},
   "outputs": [],
   "source": [
    "algo_result = {}\n",
    "algo_result[\"class\"] = {\"precision\": 0, \"recall\": 0, \"f1\":0}\n",
    "algo_result[\"attribute\"] = {\"precision\": 0, \"recall\": 0, \"f1\":0}\n",
    "algo_result[\"relationship\"] = {\"precision\": 0, \"recall\": 0, \"f1\":0}"
   ]
  },
  {
   "cell_type": "markdown",
   "metadata": {
    "id": "qCEg2NRm1hA3"
   },
   "source": [
    "### Class"
   ]
  },
  {
   "cell_type": "code",
   "execution_count": 2692,
   "metadata": {
    "id": "JOA-f9jC1foa"
   },
   "outputs": [
    {
     "name": "stdout",
     "output_type": "stream",
     "text": [
      "18 8.0\n"
     ]
    }
   ],
   "source": [
    "# recell\n",
    "count = 0\n",
    "recall = 0\n",
    "for key in list(ref_attributes.keys()):\n",
    "  count += 1\n",
    "  recall += ref_attributes[key][\"score\"]\n",
    "print(count, recall)\n",
    "\n",
    "if count != 0:\n",
    "  algo_result[\"class\"]['recall'] = recall / count"
   ]
  },
  {
   "cell_type": "code",
   "execution_count": 2693,
   "metadata": {
    "id": "AbAnFeeM1l4s"
   },
   "outputs": [
    {
     "name": "stdout",
     "output_type": "stream",
     "text": [
      "7 5.5\n"
     ]
    }
   ],
   "source": [
    "# precision\n",
    "count = 0\n",
    "precision = 0\n",
    "for key in list(stu_attributes.keys()):\n",
    "  count += 1\n",
    "  precision += stu_attributes[key][\"score\"]\n",
    "\n",
    "print(count, precision)\n",
    "if count != 0:\n",
    "  algo_result[\"class\"]['precision'] = precision / count\n",
    "\n",
    "if algo_result[\"class\"]['recall']   + algo_result[\"class\"]['precision'] != 0:\n",
    "  algo_result[\"class\"]['f1'] = 2* (algo_result[\"class\"]['recall']   * algo_result[\"class\"]['precision'] ) / ( algo_result[\"class\"]['recall']   + algo_result[\"class\"]['precision']  )\n"
   ]
  },
  {
   "cell_type": "markdown",
   "metadata": {
    "id": "gDH3PsL21unk"
   },
   "source": [
    "### Attribute"
   ]
  },
  {
   "cell_type": "code",
   "execution_count": 2694,
   "metadata": {
    "id": "67CLMQ6j10Wx"
   },
   "outputs": [
    {
     "name": "stdout",
     "output_type": "stream",
     "text": [
      "19 10.0\n"
     ]
    }
   ],
   "source": [
    "# recall\n",
    "count = 0\n",
    "recall = 0\n",
    "for key in list(ref_attributes.keys()):\n",
    "  attrs = ref_attributes[key][\"attributes\"]\n",
    "\n",
    "  for att in attrs:\n",
    "    count += 1\n",
    "    recall += ref_attributes[key][\"attributes\"][att][\"score\"]\n",
    "print(count, recall)\n",
    "\n",
    "if count != 0:\n",
    "  algo_result[\"attribute\"]['recall'] = recall / count"
   ]
  },
  {
   "cell_type": "code",
   "execution_count": 2695,
   "metadata": {
    "id": "7MIGD7kS12JT"
   },
   "outputs": [
    {
     "name": "stdout",
     "output_type": "stream",
     "text": [
      "22 12.5\n"
     ]
    }
   ],
   "source": [
    "count = 0\n",
    "precision = 0\n",
    "for key in list(stu_attributes.keys()):\n",
    "  attrs = stu_attributes[key][\"attributes\"]\n",
    "\n",
    "  for att in attrs:\n",
    "    count += 1\n",
    "    precision += stu_attributes[key][\"attributes\"][att][\"score\"]\n",
    "print(count, precision)\n",
    "\n",
    "if count != 0:\n",
    "  algo_result[\"attribute\"]['precision'] = precision / count\n",
    "\n",
    "r = algo_result[\"attribute\"]['recall']\n",
    "p = algo_result[\"attribute\"]['precision']\n",
    "\n",
    "if r + p != 0:\n",
    "  algo_result[\"attribute\"]['f1'] = 2* (r * p) / (r + p)\n"
   ]
  },
  {
   "cell_type": "markdown",
   "metadata": {
    "id": "qWYSO_N415V0"
   },
   "source": [
    "### Relationship"
   ]
  },
  {
   "cell_type": "code",
   "execution_count": 2696,
   "metadata": {
    "id": "PkuCKrzF17CR"
   },
   "outputs": [
    {
     "name": "stdout",
     "output_type": "stream",
     "text": [
      "0 0\n"
     ]
    }
   ],
   "source": [
    "count = 0\n",
    "recall = 0\n",
    "for tmp in edges[0].rels:\n",
    "  attrs = tmp[\"score\"]\n",
    "\n",
    "  count += 1\n",
    "  recall += attrs\n",
    "print(count, recall)\n",
    "\n",
    "if count != 0:\n",
    "  algo_result[\"relationship\"]['recall'] = recall / count"
   ]
  },
  {
   "cell_type": "code",
   "execution_count": 2697,
   "metadata": {
    "id": "XZE-uCOM2ATr"
   },
   "outputs": [
    {
     "name": "stdout",
     "output_type": "stream",
     "text": [
      "0 0\n"
     ]
    }
   ],
   "source": [
    "count = 0\n",
    "precision = 0\n",
    "for tmp in edges[1].rels:\n",
    "  attrs = tmp[\"score\"]\n",
    "\n",
    "  count += 1\n",
    "  precision += attrs\n",
    "print(count, precision)\n",
    "\n",
    "if count!= 0:\n",
    "  algo_result[\"relationship\"]['precision'] = precision / count\n",
    "r = algo_result[\"relationship\"]['recall']\n",
    "p = algo_result[\"relationship\"]['precision']\n",
    "\n",
    "if r + p != 0:\n",
    "  algo_result[\"relationship\"]['f1'] = 2* (r * p ) / ( r + p )\n"
   ]
  },
  {
   "cell_type": "code",
   "execution_count": 2698,
   "metadata": {},
   "outputs": [],
   "source": [
    "\n",
    "# as requested in comment\n",
    "\n",
    "with open(student_out_dir + 'algo_result.txt', 'w') as file:\n",
    "     file.write(json.dumps(algo_result))"
   ]
  }
 ],
 "metadata": {
  "colab": {
   "collapsed_sections": [
    "pBpCEgQV82Nj",
    "MOMw2WnS8p6h",
    "_UPG9p99KA6q",
    "7D5Je00s8p6i",
    "V84BIi42N3vb",
    "AD1YW_WlcROJ",
    "-lWeUly08p6j",
    "Qt34Gd8g8p6o"
   ],
   "provenance": [],
   "toc_visible": true
  },
  "kernelspec": {
   "display_name": "m38",
   "language": "python",
   "name": "python3"
  },
  "language_info": {
   "codemirror_mode": {
    "name": "ipython",
    "version": 3
   },
   "file_extension": ".py",
   "mimetype": "text/x-python",
   "name": "python",
   "nbconvert_exporter": "python",
   "pygments_lexer": "ipython3",
   "version": "3.8.18"
  }
 },
 "nbformat": 4,
 "nbformat_minor": 0
}
