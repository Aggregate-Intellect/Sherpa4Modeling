{
 "cells": [
  {
   "cell_type": "markdown",
   "metadata": {
    "id": "pBpCEgQV82Nj"
   },
   "source": [
    "# Set up"
   ]
  },
  {
   "cell_type": "code",
   "execution_count": 4595,
   "metadata": {},
   "outputs": [],
   "source": [
    "from worde4mde import load_embeddings\n",
    "\n",
    "sgram_mde = load_embeddings(\"sgram-mde\")"
   ]
  },
  {
   "cell_type": "code",
   "execution_count": 4596,
   "metadata": {},
   "outputs": [
    {
     "data": {
      "text/plain": [
       "array([ 0.14674647,  0.42704162,  0.17717203,  0.05179158,  0.38020504,\n",
       "       -0.00091264,  0.02094162,  0.00924711, -0.13806985,  0.1403339 ,\n",
       "       -0.0953936 , -0.03681302,  0.38122246, -0.03746711, -0.17595871,\n",
       "       -0.02031669,  0.23675247,  0.27676958, -0.07487358, -0.1987225 ,\n",
       "        0.02015282,  0.05147164, -0.223504  ,  0.00699752, -0.06145973,\n",
       "        0.00920826,  0.01364714,  0.10218145, -0.25330105, -0.14080754,\n",
       "        0.2541444 ,  0.4577827 , -0.16825216, -0.08050938,  0.11404785,\n",
       "       -0.38822263, -0.06395938, -0.4724689 , -0.00111705,  0.27869806,\n",
       "        0.28032073,  0.02976846, -0.01675524,  0.09774698,  0.18298927,\n",
       "       -0.24398401, -0.3238438 ,  0.01912955,  0.11861664,  0.08640955,\n",
       "        0.18799016, -0.06891091, -0.03893414, -0.04862301,  0.02151174,\n",
       "       -0.39205688, -0.23195332, -0.09532862, -0.01324714, -0.24555108,\n",
       "        0.09372689, -0.21971853, -0.26171875, -0.3605202 , -0.07306654,\n",
       "       -0.16288763,  0.12160088,  0.11416717,  0.17378834, -0.04977667,\n",
       "       -0.02417112, -0.13736062,  0.10142291,  0.14622003, -0.06097897,\n",
       "        0.0110862 ,  0.05240794,  0.15037489,  0.01547078,  0.35214952,\n",
       "       -0.15471339,  0.5516976 ,  0.02722004,  0.02725664,  0.23240256,\n",
       "        0.05949455, -0.44269025, -0.13142551,  0.06569727,  0.35366765,\n",
       "        0.0054803 ,  0.31536654, -0.09254798, -0.15512526, -0.0875922 ,\n",
       "        0.11746775, -0.28369817,  0.09341916, -0.00101699,  0.04416016,\n",
       "       -0.07782371,  0.02029933, -0.22690448, -0.12364466, -0.03259058,\n",
       "        0.22620802, -0.21208178,  0.263114  ,  0.39393342, -0.15680021,\n",
       "        0.22134748,  0.35054302,  0.06579161,  0.35725534, -0.17017011,\n",
       "        0.15412103,  0.26485255, -0.18039705,  0.64513373, -0.19044282,\n",
       "        0.05683825,  0.3352058 , -0.02149567,  0.08801293, -0.08748423,\n",
       "       -0.17109865, -0.14135368,  0.10019533, -0.3675318 ,  0.00882045,\n",
       "        0.16446897, -0.41429162, -0.00912068,  0.40898782,  0.02396349,\n",
       "        0.04935403, -0.43389502,  0.13081332,  0.42163405, -0.01841845,\n",
       "        0.08077876,  0.29817823,  0.15492964,  0.15107153,  0.04632611,\n",
       "       -0.5162636 , -0.4262554 ,  0.4967304 ,  0.26285887, -0.02183742,\n",
       "        0.15454406, -0.15592995, -0.3154367 ,  0.19769375, -0.40255702,\n",
       "        0.5028242 , -0.12623732,  0.04818065, -0.00665806,  0.0951322 ,\n",
       "       -0.13625342, -0.18664543,  0.03917297, -0.13414499, -0.21604219,\n",
       "       -0.17906193,  0.08638127, -0.0697468 ,  0.32579476, -0.03519589,\n",
       "       -0.1119362 , -0.08318598, -0.14666392,  0.15051971,  0.1680534 ,\n",
       "       -0.1643881 ,  0.00266754,  0.05763746,  0.01020493,  0.11781339,\n",
       "        0.03850262,  0.11651297, -0.19016212, -0.24033345,  0.24375466,\n",
       "       -0.12184826,  0.29208905,  0.28852615, -0.13238004, -0.02661056,\n",
       "       -0.09076066, -0.25580582,  0.09068189,  0.14338125, -0.03469551,\n",
       "       -0.01255474, -0.28556666,  0.27322152,  0.25480196,  0.067168  ,\n",
       "       -0.1661719 ,  0.07038358,  0.2961011 ,  0.39964455, -0.24441637,\n",
       "       -0.14219673,  0.4223389 ,  0.08920322, -0.5007695 ,  0.22100608,\n",
       "       -0.04162686,  0.07493343, -0.37272817, -0.08913708, -0.05271813,\n",
       "        0.07073972,  0.03486674,  0.01831518, -0.18682544,  0.24017447,\n",
       "        0.04472353, -0.21995458, -0.09560642,  0.05616789, -0.09767775,\n",
       "        0.46399042,  0.26137525, -0.2067443 , -0.20870632, -0.12792471,\n",
       "       -0.32071748, -0.00343737,  0.00869052, -0.17461683,  0.11852369,\n",
       "       -0.23727247,  0.16901173,  0.1390128 ,  0.19200057,  0.07023092,\n",
       "        0.10720899, -0.3680233 , -0.00385552,  0.30061063, -0.0638096 ,\n",
       "        0.15909314,  0.49717936, -0.02870842,  0.04373342, -0.03065694,\n",
       "       -0.03803138, -0.07179781,  0.1352796 ,  0.1206585 ,  0.28997678,\n",
       "       -0.22211125,  0.07451916, -0.4530426 , -0.12867354,  0.25162628,\n",
       "       -0.04360061, -0.01631085,  0.02732887,  0.26878425, -0.25473082,\n",
       "       -0.0563923 ,  0.47035375, -0.1539718 , -0.08114478,  0.3599968 ,\n",
       "        0.01964958,  0.00155073, -0.13521218, -0.04892039,  0.05788288,\n",
       "       -0.29886478,  0.00960886, -0.23544846, -0.46280792,  0.05992502,\n",
       "       -0.42226458,  0.31675085, -0.01231112,  0.15420774, -0.55189675,\n",
       "       -0.08054933,  0.24695848,  0.19135405,  0.2637137 ,  0.2340654 ,\n",
       "        0.05448505, -0.5442373 , -0.01433846,  0.35339138, -0.1810006 ,\n",
       "       -0.07710031, -0.04899847, -0.14326005, -0.2965767 , -0.10492669],\n",
       "      dtype=float32)"
      ]
     },
     "execution_count": 4596,
     "metadata": {},
     "output_type": "execute_result"
    }
   ],
   "source": [
    "word = \"ecore\"\n",
    "sgram_mde[word]"
   ]
  },
  {
   "cell_type": "code",
   "execution_count": 4597,
   "metadata": {},
   "outputs": [],
   "source": [
    "# import pickle\n",
    "\n",
    "import ast\n",
    "import pandas as pd\n",
    "import numpy as np\n",
    "\n",
    "from worde4mde import load_embeddings\n",
    "import re\n",
    "\n",
    "import os\n",
    "import openai\n",
    "from openai import OpenAI\n",
    "import json\n",
    "\n",
    "import networkx as nx\n",
    "import sys"
   ]
  },
  {
   "cell_type": "code",
   "execution_count": 4598,
   "metadata": {},
   "outputs": [],
   "source": [
    "from dotenv import load_dotenv\n",
    "\n",
    "# %%\n",
    "\n",
    "load_dotenv()\n",
    "\n",
    "openai_key = os.getenv(\"openai_key\")\n",
    "os.environ[\"OPENAI_API_KEY\"] = openai_key"
   ]
  },
  {
   "cell_type": "markdown",
   "metadata": {},
   "source": [
    "## Input"
   ]
  },
  {
   "cell_type": "code",
   "execution_count": null,
   "metadata": {},
   "outputs": [
    {
     "data": {
      "text/plain": [
       "'results/gpt-4/sherpa/03_TSS/result/'"
      ]
     },
     "execution_count": 4599,
     "metadata": {},
     "output_type": "execute_result"
    }
   ],
   "source": [
    "##### update here to change input file directory ######\n",
    "##### update here to change input file directory ######\n",
    "##### update here to change input file directory ######\n",
    "##### update here to change input file directory ######\n",
    "\n",
    "instructor_dir = \"results\"\n",
    "\n",
    "# 01_LabTracker\n",
    "# 02_CelO\n",
    "# 03_TSS\n",
    "# 04_SHAS\n",
    "# 05_OTS\n",
    "# 06_Block\n",
    "# 07_Tile\n",
    "# 08_HBMS\n",
    "problem_id = \"03_TSS\"\n",
    "\n",
    "# location of reference domain model is stored. It is in .txt format\n",
    "instructor_input = instructor_dir \"/\" + problem_id + \".txt\"\n",
    "\n",
    "# gpt-4o-mini\n",
    "# gpt-4\n",
    "# gpt-4o\n",
    "llm_id = \"gpt-4\"\n",
    "\n",
    "# yujing\n",
    "# sherpa\n",
    "method_id = \"sherpa\"\n",
    "\n",
    "student_dir = instructor_dir + '/' + llm_id + '/' + method_id + '/' + problem_id + '/'\n",
    "if not os.path.exists(student_dir):\n",
    "    # Create the directory\n",
    "    os.makedirs(student_dir)\n",
    "    \n",
    "# location of generated domain model is saved. The file should be in .txt    \n",
    "student_input = student_dir + problem_id + \".txt\"\n",
    "student_input\n",
    "student_out_dir = student_dir + \"result/\"\n",
    "student_out_dir"
   ]
  },
  {
   "cell_type": "code",
   "execution_count": 4600,
   "metadata": {
    "colab": {
     "base_uri": "https://localhost:8080/",
     "height": 408
    },
    "id": "4wrNW7WHaq87",
    "outputId": "8b57cb37-45b8-4bac-860c-b6e933a5c239"
   },
   "outputs": [],
   "source": [
    "# First of all, you need to load the embeddings (currently supported: 'sgram-mde' and 'glove-mde')\n",
    "sgram_mde = load_embeddings(\"sgram-mde\")\n",
    "# glove = load_embeddings('glove-mde')\n",
    "# sgram_mde[\"id\"]"
   ]
  },
  {
   "cell_type": "code",
   "execution_count": 4601,
   "metadata": {},
   "outputs": [],
   "source": [
    "# word = 'id'\n",
    "# sgram_mde.most_similar(positive=[word])"
   ]
  },
  {
   "cell_type": "code",
   "execution_count": 4602,
   "metadata": {
    "id": "GnemiQCKo1uA"
   },
   "outputs": [],
   "source": [
    "def inEmbedding(word, embedding):\n",
    "    try:\n",
    "        return True, embedding[word]\n",
    "    except:\n",
    "        return False, None"
   ]
  },
  {
   "cell_type": "code",
   "execution_count": 4603,
   "metadata": {
    "id": "tYrP3rmxLQ3o"
   },
   "outputs": [
    {
     "data": {
      "text/plain": [
       "['device', 'ID']"
      ]
     },
     "execution_count": 4603,
     "metadata": {},
     "output_type": "execute_result"
    }
   ],
   "source": [
    "def splitCamelCase(word):\n",
    "    splitted = re.sub(\"([A-Z][a-z]+)\", r\" \\1\", re.sub(\"([A-Z]+)\", r\" \\1\", word)).split()\n",
    "    return splitted\n",
    "\n",
    "\n",
    "splitCamelCase(\"device ID\")"
   ]
  },
  {
   "cell_type": "code",
   "execution_count": 4604,
   "metadata": {},
   "outputs": [
    {
     "data": {
      "text/plain": [
       "['Command', 'Status']"
      ]
     },
     "execution_count": 4604,
     "metadata": {},
     "output_type": "execute_result"
    }
   ],
   "source": [
    "splitCamelCase(\"CommandStatus\")"
   ]
  },
  {
   "cell_type": "code",
   "execution_count": 4605,
   "metadata": {
    "id": "YJ7yNdA488Vm"
   },
   "outputs": [],
   "source": [
    "# client = OpenAI()\n",
    "\n",
    "# def run_llm(prompt, model =\"gpt-3.5-turbo\"):\n",
    "#   response = client.chat.completions.create(\n",
    "#     model=model,\n",
    "#     messages=[\n",
    "#       {\"role\": \"user\", \"content\": prompt},\n",
    "\n",
    "#     ]\n",
    "#   )\n",
    "#   return response.choices[0].message.content"
   ]
  },
  {
   "cell_type": "code",
   "execution_count": 4606,
   "metadata": {
    "id": "0Juq9RcN9BcX"
   },
   "outputs": [],
   "source": [
    "client = OpenAI()\n",
    "\n",
    "\n",
    "def get_embedding(text, model=\"text-embedding-ada-002\"):\n",
    "    text = text.replace(\"\\n\", \" \")\n",
    "    return client.embeddings.create(input=[text], model=model).data[0].embedding"
   ]
  },
  {
   "cell_type": "code",
   "execution_count": 4607,
   "metadata": {
    "id": "-qddd_ct9lDV"
   },
   "outputs": [],
   "source": [
    "def get_all_info(class_index, class_nodes, list_of_classes, list_edges, need_edge=True):\n",
    "    result = \"\"\n",
    "    result += list_of_classes[class_index] + \"\\n\"\n",
    "    node = class_nodes[class_index]\n",
    "    if \"abstract\" in node:\n",
    "        node = node.replace(\"abstract\", \"\").strip()\n",
    "    if \"Abstract\" in node:\n",
    "        node = node.replace(\"Abstract\", \"\").strip()\n",
    "    if need_edge:\n",
    "        for edge in list_edges:\n",
    "            element = [i.strip() for i in edge.split()]\n",
    "            if node in element:\n",
    "                result += edge + \"\\n\"\n",
    "\n",
    "    return result"
   ]
  },
  {
   "cell_type": "code",
   "execution_count": 4608,
   "metadata": {
    "id": "PF1WvdorJYa8"
   },
   "outputs": [],
   "source": [
    "def match_classes(raw_1, raw_2, dict_attr, thresh=0.5, verbose=False):\n",
    "    # raw_1: nodes from reference solution\n",
    "    # raw_2: nodes from student solution\n",
    "    # dict_attr: dictionary for embeddings\n",
    "    # thresh for subst cost\n",
    "    # map class lists raw_1 and raw_2\n",
    "    print(dict_attr)\n",
    "\n",
    "    def node_subst_cost_attr(node1, node2):\n",
    "        # threshod as 0.45\n",
    "        if dict_attr[node1[\"name\"]][node2[\"name\"]] < thresh:\n",
    "            return 3\n",
    "        else:\n",
    "            return 1 - dict_attr[node1[\"name\"]][node2[\"name\"]]\n",
    "\n",
    "    G_att_1 = nx.Graph()\n",
    "    G_att_2 = nx.Graph()\n",
    "    for node in raw_1:\n",
    "        G_att_1.add_node(node, name=node)\n",
    "\n",
    "    for node in raw_2:\n",
    "        G_att_2.add_node(node, name=node)\n",
    "\n",
    "    for v in nx.optimize_edit_paths(\n",
    "        G_att_1,\n",
    "        G_att_2,\n",
    "        node_subst_cost=node_subst_cost_attr,\n",
    "        edge_match=None,\n",
    "        timeout=20,\n",
    "    ):\n",
    "        minv = v\n",
    "    # minv\n",
    "\n",
    "    return minv"
   ]
  },
  {
   "cell_type": "markdown",
   "metadata": {
    "id": "y7GUzcWW8p6a"
   },
   "source": [
    "# Group"
   ]
  },
  {
   "cell_type": "code",
   "execution_count": 4609,
   "metadata": {
    "id": "ADtI3209Oy52"
   },
   "outputs": [],
   "source": [
    "class Grader:\n",
    "    def __init__(self):\n",
    "        self.ref = None\n",
    "        self.stu = None"
   ]
  },
  {
   "cell_type": "code",
   "execution_count": 4610,
   "metadata": {
    "id": "qvUpWnJVC-9P"
   },
   "outputs": [],
   "source": [
    "grader = Grader()"
   ]
  },
  {
   "cell_type": "markdown",
   "metadata": {
    "id": "MOMw2WnS8p6h"
   },
   "source": [
    "## Class"
   ]
  },
  {
   "cell_type": "markdown",
   "metadata": {
    "id": "_UPG9p99KA6q"
   },
   "source": [
    "### Define metadata"
   ]
  },
  {
   "cell_type": "code",
   "execution_count": 4611,
   "metadata": {
    "id": "IaR1jGbEKCq4"
   },
   "outputs": [],
   "source": [
    "class ModelInfo:\n",
    "\n",
    "    def __init(self):\n",
    "        self.cls_atr = {}\n",
    "        self.cls_name = []\n",
    "        self.raw_dsl = []\n",
    "        self.rel = None"
   ]
  },
  {
   "cell_type": "code",
   "execution_count": 4612,
   "metadata": {
    "id": "4-b5m2ovKZDg"
   },
   "outputs": [],
   "source": [
    "ref_cls = ModelInfo()\n",
    "stu_cls = ModelInfo()"
   ]
  },
  {
   "cell_type": "code",
   "execution_count": 4613,
   "metadata": {
    "id": "bviDqFkT42Tc"
   },
   "outputs": [],
   "source": [
    "grader.ref = ref_cls\n",
    "grader.stu = stu_cls"
   ]
  },
  {
   "cell_type": "code",
   "execution_count": 4614,
   "metadata": {},
   "outputs": [],
   "source": [
    "with open(instructor_input, \"r\") as file:\n",
    "    # Read the entire content of the file\n",
    "    instructor_all = file.read()\n",
    "\n",
    "with open(student_input, \"r\") as file:\n",
    "    # Read the entire content of the file\n",
    "    student_all = file.read()"
   ]
  },
  {
   "cell_type": "code",
   "execution_count": 4615,
   "metadata": {},
   "outputs": [
    {
     "name": "stdout",
     "output_type": "stream",
     "text": [
      "Enumerations:\n",
      "Position(GK, LB)\n",
      "Recommendation(KEY_PLAYER, FIRST_TEAM_PLAYER, RESERVE_TEAM_PLAYER, PROSPECTIVE_PLAYER, NOT_RECOMMENDED)\n",
      "ScoutingStatus(LONG_LISTED, SHORT_LISTED, RECOMMENDED_FOR_SIGNING, OFFER_MADE)\n",
      "ScoutKind(REGULAR_SCOUNT, HEAD_SCOUT)\n",
      "\n",
      "\n",
      "Classes:\n",
      "TSS()\n",
      "abstract Person(string firstName, string lastName)\n",
      "Player(ScoutingStatus status)\n",
      "HeadCoach()\n",
      "Director()\n",
      "Scout(ScoutKind scoutKind)\n",
      "Club()\n",
      "Offer(int value)\n",
      "ScoutingAssignmnet()\n",
      "ScoutReport(string pro, string con, Recommendation recommendation)\n",
      "PlayerProfile(Position position)\n",
      "PlayerAttribute(string name, int value)\n",
      "\n",
      "\n",
      "Relationships:\n",
      "\n"
     ]
    }
   ],
   "source": [
    "print(instructor_all)"
   ]
  },
  {
   "cell_type": "code",
   "execution_count": 4616,
   "metadata": {},
   "outputs": [
    {
     "name": "stdout",
     "output_type": "stream",
     "text": [
      "Enumerations:\n",
      "Recommendation(KeyPlayer, FirstTeamPlayer, ReserveTeamPlayer, ProspectivePlayer, NotAGoodSigning)\n",
      "\n",
      "\n",
      "Classes:\n",
      "TeamSportsScoutingSystem(string systemName)\n",
      "Employee(string employeeName)\n",
      "Player(string playerName, string playerAttributes)\n",
      "Director(string directorName)\n",
      "\n",
      "Scout(string scoutName) \n",
      "Club(string clubName)\n",
      "Offer(string offerName)\n",
      "ScoutingAssignment(string assignmentName)\n",
      "ScoutingReport(string reportName, string pros, string cons, string recommendation)\n",
      "PlayerProfile(string profileName)\n",
      "PlayerAttribute(string attributeName, string attributeValue)\n",
      "TargetPosition(string positionName)\n",
      "LongList(string longListName)\n",
      "HeadScout(string headScoutName)\n",
      "\n",
      "ShortList(string shortListName)\n",
      "\n",
      "Relationships:\n",
      "\n"
     ]
    }
   ],
   "source": [
    "print(student_all)"
   ]
  },
  {
   "cell_type": "code",
   "execution_count": 4617,
   "metadata": {},
   "outputs": [],
   "source": [
    "shas_sol = instructor_all.split(\"Relationships:\")[0]\n",
    "stu_sol_g = student_all.split(\"Relationships:\")[0]  # student solution"
   ]
  },
  {
   "cell_type": "code",
   "execution_count": 4618,
   "metadata": {
    "id": "PHb2yzli8p6h"
   },
   "outputs": [],
   "source": [
    "ref_classes_raw = []\n",
    "tmp = shas_sol.strip().splitlines()\n",
    "ref_classes_raw = [i.strip() for i in tmp if len(i) > 0]\n",
    "ref_classes_raw\n",
    "\n",
    "reference_class = []\n",
    "tmp = shas_sol.strip().splitlines()\n",
    "reference_class = [i.split(\"(\")[0].strip() for i in tmp if len(i) > 0]"
   ]
  },
  {
   "cell_type": "code",
   "execution_count": 4619,
   "metadata": {
    "id": "zR4naxeW8p6h"
   },
   "outputs": [
    {
     "data": {
      "text/plain": [
       "['Enumerations:',\n",
       " 'Recommendation',\n",
       " 'Classes:',\n",
       " 'TeamSportsScoutingSystem',\n",
       " 'Employee',\n",
       " 'Player',\n",
       " 'Director',\n",
       " 'Scout',\n",
       " 'Club',\n",
       " 'Offer',\n",
       " 'ScoutingAssignment',\n",
       " 'ScoutingReport',\n",
       " 'PlayerProfile',\n",
       " 'PlayerAttribute',\n",
       " 'TargetPosition',\n",
       " 'LongList',\n",
       " 'HeadScout',\n",
       " 'ShortList']"
      ]
     },
     "execution_count": 4619,
     "metadata": {},
     "output_type": "execute_result"
    }
   ],
   "source": [
    "stu_classes_raw = []\n",
    "tmp = stu_sol_g.strip().splitlines()\n",
    "stu_classes_raw = [i.strip() for i in tmp if len(i) > 0]\n",
    "stu_classes_raw\n",
    "\n",
    "tmp = stu_sol_g.strip().splitlines()\n",
    "stu_class = [i.split(\"(\")[0].strip() for i in tmp if len(i) > 0]\n",
    "stu_class"
   ]
  },
  {
   "cell_type": "code",
   "execution_count": 4620,
   "metadata": {
    "id": "Kt4R2geh8p6h"
   },
   "outputs": [],
   "source": [
    "ref_attributes = {}\n",
    "enum_index = ref_classes_raw.index(\"Enumerations:\")\n",
    "regular_index = ref_classes_raw.index(\"Classes:\")\n",
    "for cla, dsl in zip(reference_class, ref_classes_raw):\n",
    "    if dsl == \"Enumerations:\" or dsl == \"Classes:\":\n",
    "        continue\n",
    "    else:\n",
    "        index = ref_classes_raw.index(dsl)\n",
    "        if index > regular_index:\n",
    "            class_type = \"regular\"\n",
    "            if \"abstract\" in dsl:\n",
    "                class_type = \"abstract\"\n",
    "        else:\n",
    "            class_type = \"enum\"\n",
    "        ref_attributes[cla] = {\n",
    "            \"score\": 0,\n",
    "            \"type\": class_type,\n",
    "            \"dsl\": dsl,\n",
    "            \"counterpart\": None,\n",
    "            \"attributes\": {},\n",
    "        }\n",
    "\n",
    "        attributes = dsl.split(\"(\")[1][:-1].split(\",\")\n",
    "        for attr in attributes:\n",
    "            attr = attr.strip()\n",
    "            if len(attr) > 0:\n",
    "                ref_attributes[cla][\"attributes\"][attr] = {\n",
    "                    \"score\": 0,\n",
    "                    \"counterpart\": None,\n",
    "                }"
   ]
  },
  {
   "cell_type": "code",
   "execution_count": 4621,
   "metadata": {
    "id": "L_TGf3xW8p6i"
   },
   "outputs": [],
   "source": [
    "reference_class.remove(\"Enumerations:\")\n",
    "reference_class.remove(\"Classes:\")\n",
    "\n",
    "ref_classes_raw.remove(\"Enumerations:\")\n",
    "ref_classes_raw.remove(\"Classes:\")"
   ]
  },
  {
   "cell_type": "code",
   "execution_count": 4622,
   "metadata": {
    "id": "6WI2xkurLJTq"
   },
   "outputs": [],
   "source": [
    "ref_cls.cls_name = reference_class\n",
    "ref_cls.raw_dsl = ref_classes_raw\n",
    "ref_cls.cls_atr = ref_attributes"
   ]
  },
  {
   "cell_type": "code",
   "execution_count": 4623,
   "metadata": {
    "id": "nkxF3Yda8p6i"
   },
   "outputs": [
    {
     "name": "stdout",
     "output_type": "stream",
     "text": [
      "Recommendation(KeyPlayer, FirstTeamPlayer, ReserveTeamPlayer, ProspectivePlayer, NotAGoodSigning)\n",
      "TeamSportsScoutingSystem(string systemName)\n",
      "Employee(string employeeName)\n",
      "Player(string playerName, string playerAttributes)\n",
      "Director(string directorName)\n",
      "Scout(string scoutName)\n",
      "Club(string clubName)\n",
      "Offer(string offerName)\n",
      "ScoutingAssignment(string assignmentName)\n",
      "ScoutingReport(string reportName, string pros, string cons, string recommendation)\n",
      "PlayerProfile(string profileName)\n",
      "PlayerAttribute(string attributeName, string attributeValue)\n",
      "TargetPosition(string positionName)\n",
      "LongList(string longListName)\n",
      "HeadScout(string headScoutName)\n",
      "ShortList(string shortListName)\n"
     ]
    }
   ],
   "source": [
    "stu_attributes = {}\n",
    "enum_index = stu_classes_raw.index(\"Enumerations:\")\n",
    "regular_index = stu_classes_raw.index(\"Classes:\")\n",
    "\n",
    "for cla, dsl in zip(stu_class, stu_classes_raw):\n",
    "    if dsl == \"Enumerations:\" or dsl == \"Classes:\":\n",
    "        continue\n",
    "    else:\n",
    "        index = stu_classes_raw.index(dsl)\n",
    "        if index > regular_index:\n",
    "            class_type = \"regular\"\n",
    "            if \"abstract\" in dsl:\n",
    "                class_type = \"abstract\"\n",
    "        else:\n",
    "            class_type = \"enum\"\n",
    "\n",
    "        stu_attributes[cla] = {\n",
    "            \"score\": 0,\n",
    "            \"type\": class_type,\n",
    "            \"dsl\": dsl,\n",
    "            \"counterpart\": None,\n",
    "            \"attributes\": {},\n",
    "        }\n",
    "\n",
    "        print(dsl)\n",
    "        attributes = dsl.split(\"(\")[1][:-1].split(\",\")\n",
    "        for attr in attributes:\n",
    "            attr = attr.strip()\n",
    "            if len(attr) > 0:\n",
    "                stu_attributes[cla][\"attributes\"][attr] = {\n",
    "                    \"score\": 0,\n",
    "                    \"counterpart\": None,\n",
    "                }"
   ]
  },
  {
   "cell_type": "code",
   "execution_count": 4624,
   "metadata": {
    "id": "iK3ITyIW8p6i"
   },
   "outputs": [],
   "source": [
    "stu_class.remove(\"Enumerations:\")\n",
    "stu_class.remove(\"Classes:\")\n",
    "\n",
    "stu_classes_raw.remove(\"Enumerations:\")\n",
    "stu_classes_raw.remove(\"Classes:\")"
   ]
  },
  {
   "cell_type": "code",
   "execution_count": 4625,
   "metadata": {
    "id": "-DjOKJ1wNNdt"
   },
   "outputs": [],
   "source": [
    "stu_cls.cls_name = stu_class\n",
    "stu_cls.raw_dsl = stu_classes_raw\n",
    "stu_cls.cls_atr = stu_attributes"
   ]
  },
  {
   "cell_type": "markdown",
   "metadata": {
    "id": "dblsT4MS8p6i"
   },
   "source": [
    "## Edges"
   ]
  },
  {
   "cell_type": "markdown",
   "metadata": {
    "id": "7D5Je00s8p6i"
   },
   "source": [
    "### reference and student solutions"
   ]
  },
  {
   "cell_type": "code",
   "execution_count": 4626,
   "metadata": {},
   "outputs": [],
   "source": [
    "shas_edges = instructor_all.split(\"Relationships:\")[1]\n",
    "shas_G2_edges = student_all.split(\"Relationships:\")[1]  # student solution"
   ]
  },
  {
   "cell_type": "code",
   "execution_count": 4627,
   "metadata": {},
   "outputs": [
    {
     "data": {
      "text/plain": [
       "'\\n'"
      ]
     },
     "execution_count": 4627,
     "metadata": {},
     "output_type": "execute_result"
    }
   ],
   "source": [
    "shas_edges"
   ]
  },
  {
   "cell_type": "code",
   "execution_count": 4628,
   "metadata": {},
   "outputs": [
    {
     "data": {
      "text/plain": [
       "'\\n'"
      ]
     },
     "execution_count": 4628,
     "metadata": {},
     "output_type": "execute_result"
    }
   ],
   "source": [
    "shas_edges"
   ]
  },
  {
   "cell_type": "code",
   "execution_count": 4629,
   "metadata": {
    "id": "9ShLk-8_8p6i"
   },
   "outputs": [],
   "source": [
    "shas_edges = shas_edges.replace(\"0..*\", \"*\")"
   ]
  },
  {
   "cell_type": "code",
   "execution_count": 4630,
   "metadata": {
    "id": "54aKqVt58p6j"
   },
   "outputs": [],
   "source": [
    "shas_G2_edges = shas_G2_edges.replace(\"0..*\", \"*\")"
   ]
  },
  {
   "cell_type": "code",
   "execution_count": 4631,
   "metadata": {
    "id": "onsbAmwq8p6j"
   },
   "outputs": [],
   "source": [
    "tmp = shas_edges.strip().splitlines()\n",
    "ref_edges = [i.strip() for i in tmp if len(i) > 0]\n",
    "\n",
    "for i in ref_edges:\n",
    "    length = len(i.split())\n",
    "    if length == 5 or length == 3:\n",
    "        pass\n",
    "    else:\n",
    "        print(\"Reference Length error:\", i)\n",
    "\n",
    "tmp = shas_G2_edges.strip().splitlines()\n",
    "stu_edges = [i.strip() for i in tmp if len(i) > 0]\n",
    "\n",
    "for i in stu_edges:\n",
    "    length = len(i.split())\n",
    "    if length == 5 or length == 3:\n",
    "        pass\n",
    "    else:\n",
    "        print(\"Student Length error:\", i)"
   ]
  },
  {
   "cell_type": "code",
   "execution_count": 4632,
   "metadata": {
    "id": "MqopbetK8p6j"
   },
   "outputs": [],
   "source": [
    "class Relationship:\n",
    "    def __init__(self):\n",
    "        self.rels = []  # list of dict{}\n",
    "        self.raw_dsl = []\n",
    "\n",
    "    # find first non-matched or matched reltionshipi given dsl\n",
    "    def find_relation(self, dsl, matched=False):\n",
    "        for index, i in enumerate(self.rels):\n",
    "            if i[\"dsl\"] == dsl and i[\"counterpart\"] is None:\n",
    "                return index, i\n",
    "\n",
    "        return None"
   ]
  },
  {
   "cell_type": "code",
   "execution_count": 4633,
   "metadata": {
    "id": "lznKb5N28p6j"
   },
   "outputs": [],
   "source": [
    "ref_edges_obj = Relationship()\n",
    "stu_edges_obj = Relationship()\n",
    "\n",
    "\n",
    "ref_edges_dict = []\n",
    "for e in ref_edges:\n",
    "    ref_edges_dict.append({\"dsl\": e, \"score\": 0, \"counterpart\": None})\n",
    "\n",
    "ref_edges_obj.rels = ref_edges_dict\n",
    "ref_edges_obj.raw_dsl = ref_edges\n",
    "\n",
    "stu_edges_dict = []\n",
    "for e in stu_edges:\n",
    "    stu_edges_dict.append({\"dsl\": e, \"score\": 0, \"counterpart\": None})\n",
    "\n",
    "stu_edges_obj.rels = stu_edges_dict\n",
    "stu_edges_obj.raw_dsl = stu_edges"
   ]
  },
  {
   "cell_type": "code",
   "execution_count": 4634,
   "metadata": {
    "id": "oxwZDyyDaibf"
   },
   "outputs": [],
   "source": [
    "# link to classInfo object\n",
    "ref_cls.rel = ref_edges_obj\n",
    "stu_cls.rel = stu_edges_obj"
   ]
  },
  {
   "cell_type": "code",
   "execution_count": 4635,
   "metadata": {
    "id": "6Otwiuqn8p6j"
   },
   "outputs": [],
   "source": [
    "edges = [ref_edges_obj, stu_edges_obj]"
   ]
  },
  {
   "cell_type": "markdown",
   "metadata": {
    "id": "pjvx1y428p6j"
   },
   "source": [
    "## Getting embedding"
   ]
  },
  {
   "cell_type": "code",
   "execution_count": 4636,
   "metadata": {},
   "outputs": [],
   "source": [
    "def removeChars(text, chars):\n",
    "    for c in chars:\n",
    "        text = text.replace(c, \"\")\n",
    "    return text"
   ]
  },
  {
   "cell_type": "code",
   "execution_count": 4637,
   "metadata": {
    "id": "ee0LtyGkkVu3"
   },
   "outputs": [],
   "source": [
    "def get_mde_embedding(text, embedding):\n",
    "    # >>> get_mde_embedding(\"WhatDevice\", sgram_mde)\n",
    "    words = splitCamelCase(removeChars(text, [\"(\", \")\", \",\"]))\n",
    "    lowercase_list = [s.lower() for s in words]\n",
    "    counter = 0\n",
    "    emb = np.zeros(300)\n",
    "    for w in lowercase_list:\n",
    "        try:\n",
    "            emb += embedding[w]\n",
    "            counter += 1\n",
    "        except:\n",
    "            # if failed in emb the complete word, embed the token\n",
    "            tmp = np.zeros(300)\n",
    "            for char in list(w):\n",
    "\n",
    "                tmp += embedding[char]\n",
    "            emb += tmp / len(w)\n",
    "            counter += 1\n",
    "    return emb / counter"
   ]
  },
  {
   "cell_type": "code",
   "execution_count": 4638,
   "metadata": {},
   "outputs": [
    {
     "data": {
      "text/plain": [
       "['Automation', 'Status', 'Created', 'Edited', 'Activated', 'Deactivated']"
      ]
     },
     "execution_count": 4638,
     "metadata": {},
     "output_type": "execute_result"
    }
   ],
   "source": [
    "text = \"AutomationStatus (Created, Edited, Activated, Deactivated)\"\n",
    "words = splitCamelCase(removeChars(text, [\"(\", \")\", \",\"]))\n",
    "words"
   ]
  },
  {
   "cell_type": "code",
   "execution_count": 4639,
   "metadata": {
    "id": "G_8OE4YpljN7"
   },
   "outputs": [],
   "source": [
    "def cosine_distance(emb_i, emb_j):\n",
    "    return np.dot(emb_i, emb_j) / (np.linalg.norm(emb_i) * np.linalg.norm(emb_j))"
   ]
  },
  {
   "cell_type": "markdown",
   "metadata": {
    "id": "V84BIi42N3vb"
   },
   "source": [
    "## Stage 1.1 Class name mapping"
   ]
  },
  {
   "cell_type": "code",
   "execution_count": 4640,
   "metadata": {
    "id": "4Bfij7cROA8x"
   },
   "outputs": [
    {
     "name": "stdout",
     "output_type": "stream",
     "text": [
      "\n",
      "\n",
      "\n",
      "\n",
      "\n",
      "\n",
      "\n",
      "\n",
      "\n",
      "\n",
      "\n",
      "\n",
      "\n",
      "\n",
      "\n",
      "\n",
      "\n",
      "\n",
      "\n",
      "\n",
      "\n",
      "\n",
      "\n",
      "\n",
      "\n",
      "\n",
      "\n",
      "\n",
      "\n",
      "\n",
      "\n",
      "\n",
      "\n",
      "\n",
      "\n",
      "\n",
      "\n",
      "\n",
      "\n",
      "\n",
      "\n",
      "\n",
      "\n",
      "\n",
      "\n",
      "\n",
      "\n",
      "\n",
      "\n",
      "\n",
      "\n",
      "\n",
      "\n",
      "\n",
      "\n",
      "\n",
      "\n",
      "\n",
      "\n",
      "\n",
      "\n",
      "\n",
      "\n",
      "\n",
      "\n",
      "\n",
      "\n",
      "\n",
      "\n",
      "\n",
      "\n",
      "\n",
      "\n",
      "\n",
      "\n",
      "\n",
      "\n",
      "\n",
      "\n",
      "\n",
      "\n",
      "\n",
      "\n",
      "\n",
      "\n",
      "\n",
      "\n",
      "\n",
      "\n",
      "\n",
      "\n",
      "\n",
      "\n",
      "\n",
      "\n",
      "\n",
      "\n",
      "\n",
      "\n",
      "\n",
      "\n",
      "\n",
      "\n",
      "\n",
      "\n",
      "\n",
      "\n",
      "\n",
      "\n",
      "\n",
      "\n",
      "\n",
      "\n",
      "\n",
      "\n",
      "\n",
      "\n",
      "\n",
      "\n",
      "\n",
      "\n",
      "\n",
      "\n",
      "\n",
      "\n",
      "\n",
      "\n",
      "\n",
      "\n",
      "\n",
      "\n",
      "\n",
      "\n",
      "\n",
      "\n",
      "\n",
      "\n",
      "\n",
      "\n",
      "\n",
      "\n",
      "\n",
      "\n",
      "\n",
      "\n",
      "\n",
      "\n",
      "\n",
      "\n",
      "\n",
      "\n",
      "\n",
      "\n",
      "\n",
      "\n",
      "\n",
      "\n",
      "\n",
      "\n",
      "\n",
      "\n",
      "\n",
      "\n",
      "\n",
      "\n",
      "\n",
      "\n",
      "\n",
      "\n",
      "\n",
      "\n",
      "\n",
      "\n",
      "\n",
      "\n",
      "\n",
      "\n",
      "\n",
      "\n",
      "\n",
      "\n",
      "\n",
      "\n",
      "\n",
      "\n",
      "\n",
      "\n",
      "\n",
      "\n",
      "\n",
      "\n",
      "\n",
      "\n",
      "\n",
      "\n",
      "\n",
      "\n",
      "\n",
      "\n",
      "\n",
      "\n",
      "\n",
      "\n",
      "\n",
      "\n",
      "\n",
      "\n",
      "\n",
      "\n",
      "\n",
      "\n",
      "\n",
      "\n",
      "\n",
      "\n",
      "\n",
      "\n",
      "\n",
      "\n",
      "\n",
      "\n",
      "\n",
      "\n",
      "\n",
      "\n",
      "\n",
      "\n",
      "\n",
      "\n",
      "\n",
      "\n",
      "\n",
      "\n",
      "\n",
      "\n",
      "\n",
      "\n",
      "\n",
      "\n",
      "\n",
      "\n",
      "\n",
      "\n",
      "\n",
      "\n",
      "\n",
      "\n",
      "\n",
      "\n",
      "\n",
      "\n",
      "\n",
      "\n",
      "\n",
      "\n",
      "\n"
     ]
    }
   ],
   "source": [
    "# get name embedding\n",
    "# all info\n",
    "similarity_mde = []\n",
    "mde_embedding = sgram_mde\n",
    "threshold = 0.7\n",
    "similarity_mde_dsl = []\n",
    "percentage = 0.8\n",
    "for index, node in enumerate(ref_cls.cls_name):\n",
    "    cls = node.split()[-1].strip()  # get the class name, remove abstract key word\n",
    "\n",
    "    mde_emb_i = get_mde_embedding(cls, mde_embedding)\n",
    "    mde_emb_i_dsl = get_mde_embedding(ref_cls.cls_atr[node][\"dsl\"], mde_embedding)\n",
    "\n",
    "    pair = []\n",
    "    mde_pair = []\n",
    "    for j, stu_node in enumerate(stu_cls.cls_name):\n",
    "        cls = stu_node.split()[\n",
    "            -1\n",
    "        ].strip()  # get the class name, remove abstract key word\n",
    "        print()\n",
    "        mde_emb_j = get_mde_embedding(cls, mde_embedding)\n",
    "        mde_emb_j_dsl = get_mde_embedding(\n",
    "            stu_cls.cls_atr[stu_node][\"dsl\"], mde_embedding\n",
    "        )\n",
    "\n",
    "        mde_sim = cosine_distance(mde_emb_i, mde_emb_j)\n",
    "        mde_sim_dsl = cosine_distance(mde_emb_i_dsl, mde_emb_j_dsl)\n",
    "\n",
    "        mde_pair.append(mde_sim * percentage + (1 - percentage) * mde_sim_dsl)\n",
    "\n",
    "    # apply third quartile\n",
    "    similarity_mde.append(mde_pair)\n",
    "\n",
    "dict_sim_word = {}\n",
    "for i in range(len(ref_cls.cls_name)):\n",
    "    dict_sim_word[ref_cls.cls_name[i]] = {}\n",
    "    for j in range(len(stu_cls.cls_name)):\n",
    "        dict_sim_word[ref_cls.cls_name[i]][stu_cls.cls_name[j]] = similarity_mde[i][j]"
   ]
  },
  {
   "cell_type": "code",
   "execution_count": 4641,
   "metadata": {},
   "outputs": [],
   "source": [
    "for key in dict_sim_word:\n",
    "    exact_match = False\n",
    "    exact_cls = \"\"\n",
    "    for cls_2 in dict_sim_word[key]:\n",
    "        if dict_sim_word[key][cls_2] > 0.99:\n",
    "            exact_match = True\n",
    "            exact_cls = cls_2\n",
    "            print(cls_2)\n",
    "            break\n",
    "\n",
    "    if exact_match:  # keep the exact match, others to 0\n",
    "        print(\"update\")\n",
    "        for cls_2 in dict_sim_word[key]:\n",
    "            if cls_2 != exact_cls:\n",
    "                dict_sim_word[key][cls_2] = 0\n",
    "\n",
    "similarity_mde = []\n",
    "for i in dict_sim_word:\n",
    "    tmp = []\n",
    "    for j in dict_sim_word[i]:\n",
    "        tmp.append(dict_sim_word[i][j])\n",
    "\n",
    "    similarity_mde.append(tmp)"
   ]
  },
  {
   "cell_type": "code",
   "execution_count": 4642,
   "metadata": {
    "id": "eWumU7AcQqKv"
   },
   "outputs": [
    {
     "data": {
      "text/html": [
       "<div>\n",
       "<style scoped>\n",
       "    .dataframe tbody tr th:only-of-type {\n",
       "        vertical-align: middle;\n",
       "    }\n",
       "\n",
       "    .dataframe tbody tr th {\n",
       "        vertical-align: top;\n",
       "    }\n",
       "\n",
       "    .dataframe thead th {\n",
       "        text-align: right;\n",
       "    }\n",
       "</style>\n",
       "<table border=\"1\" class=\"dataframe\">\n",
       "  <thead>\n",
       "    <tr style=\"text-align: right;\">\n",
       "      <th></th>\n",
       "      <th>Recommendation</th>\n",
       "      <th>TeamSportsScoutingSystem</th>\n",
       "      <th>Employee</th>\n",
       "      <th>Player</th>\n",
       "      <th>Director</th>\n",
       "      <th>Scout</th>\n",
       "      <th>Club</th>\n",
       "      <th>Offer</th>\n",
       "      <th>ScoutingAssignment</th>\n",
       "      <th>ScoutingReport</th>\n",
       "      <th>PlayerProfile</th>\n",
       "      <th>PlayerAttribute</th>\n",
       "      <th>TargetPosition</th>\n",
       "      <th>LongList</th>\n",
       "      <th>HeadScout</th>\n",
       "      <th>ShortList</th>\n",
       "    </tr>\n",
       "  </thead>\n",
       "  <tbody>\n",
       "    <tr>\n",
       "      <th>Position</th>\n",
       "      <td>0.172897</td>\n",
       "      <td>0.245518</td>\n",
       "      <td>0.256960</td>\n",
       "      <td>0.280882</td>\n",
       "      <td>0.201255</td>\n",
       "      <td>0.147635</td>\n",
       "      <td>0.203183</td>\n",
       "      <td>0.125496</td>\n",
       "      <td>0.216780</td>\n",
       "      <td>0.252673</td>\n",
       "      <td>0.290412</td>\n",
       "      <td>0.300761</td>\n",
       "      <td>0.736684</td>\n",
       "      <td>0.221491</td>\n",
       "      <td>0.316544</td>\n",
       "      <td>0.257041</td>\n",
       "    </tr>\n",
       "    <tr>\n",
       "      <th>Recommendation</th>\n",
       "      <td>0.946761</td>\n",
       "      <td>0.284232</td>\n",
       "      <td>0.156030</td>\n",
       "      <td>0.210642</td>\n",
       "      <td>0.099612</td>\n",
       "      <td>0.163609</td>\n",
       "      <td>0.213497</td>\n",
       "      <td>0.245176</td>\n",
       "      <td>0.199961</td>\n",
       "      <td>0.227239</td>\n",
       "      <td>0.290341</td>\n",
       "      <td>0.198332</td>\n",
       "      <td>0.218656</td>\n",
       "      <td>0.239719</td>\n",
       "      <td>0.167116</td>\n",
       "      <td>0.238273</td>\n",
       "    </tr>\n",
       "    <tr>\n",
       "      <th>ScoutingStatus</th>\n",
       "      <td>0.154948</td>\n",
       "      <td>0.448950</td>\n",
       "      <td>0.273992</td>\n",
       "      <td>0.230127</td>\n",
       "      <td>0.301752</td>\n",
       "      <td>0.606249</td>\n",
       "      <td>0.144908</td>\n",
       "      <td>0.289805</td>\n",
       "      <td>0.523588</td>\n",
       "      <td>0.524175</td>\n",
       "      <td>0.292092</td>\n",
       "      <td>0.315576</td>\n",
       "      <td>0.397024</td>\n",
       "      <td>0.303973</td>\n",
       "      <td>0.432758</td>\n",
       "      <td>0.296289</td>\n",
       "    </tr>\n",
       "    <tr>\n",
       "      <th>ScoutKind</th>\n",
       "      <td>0.121998</td>\n",
       "      <td>0.409288</td>\n",
       "      <td>0.242748</td>\n",
       "      <td>0.150650</td>\n",
       "      <td>0.219351</td>\n",
       "      <td>0.754001</td>\n",
       "      <td>0.209097</td>\n",
       "      <td>0.322863</td>\n",
       "      <td>0.569662</td>\n",
       "      <td>0.496742</td>\n",
       "      <td>0.258636</td>\n",
       "      <td>0.266970</td>\n",
       "      <td>0.326645</td>\n",
       "      <td>0.205059</td>\n",
       "      <td>0.480803</td>\n",
       "      <td>0.211907</td>\n",
       "    </tr>\n",
       "    <tr>\n",
       "      <th>TSS</th>\n",
       "      <td>0.068208</td>\n",
       "      <td>0.216140</td>\n",
       "      <td>0.112344</td>\n",
       "      <td>0.072561</td>\n",
       "      <td>0.160169</td>\n",
       "      <td>0.143910</td>\n",
       "      <td>0.077671</td>\n",
       "      <td>0.071599</td>\n",
       "      <td>0.143136</td>\n",
       "      <td>0.229334</td>\n",
       "      <td>0.081298</td>\n",
       "      <td>0.061744</td>\n",
       "      <td>0.109590</td>\n",
       "      <td>0.194986</td>\n",
       "      <td>0.188797</td>\n",
       "      <td>0.162323</td>\n",
       "    </tr>\n",
       "    <tr>\n",
       "      <th>abstract Person</th>\n",
       "      <td>0.117581</td>\n",
       "      <td>0.372074</td>\n",
       "      <td>0.629815</td>\n",
       "      <td>0.385744</td>\n",
       "      <td>0.322782</td>\n",
       "      <td>0.263277</td>\n",
       "      <td>0.373273</td>\n",
       "      <td>0.198894</td>\n",
       "      <td>0.291558</td>\n",
       "      <td>0.264242</td>\n",
       "      <td>0.391945</td>\n",
       "      <td>0.471068</td>\n",
       "      <td>0.405813</td>\n",
       "      <td>0.253761</td>\n",
       "      <td>0.302885</td>\n",
       "      <td>0.211176</td>\n",
       "    </tr>\n",
       "    <tr>\n",
       "      <th>Player</th>\n",
       "      <td>0.178987</td>\n",
       "      <td>0.327150</td>\n",
       "      <td>0.252914</td>\n",
       "      <td>0.935426</td>\n",
       "      <td>0.285407</td>\n",
       "      <td>0.123244</td>\n",
       "      <td>0.289916</td>\n",
       "      <td>0.179970</td>\n",
       "      <td>0.229124</td>\n",
       "      <td>0.152251</td>\n",
       "      <td>0.777736</td>\n",
       "      <td>0.819377</td>\n",
       "      <td>0.283653</td>\n",
       "      <td>0.199848</td>\n",
       "      <td>0.195694</td>\n",
       "      <td>0.191571</td>\n",
       "    </tr>\n",
       "    <tr>\n",
       "      <th>HeadCoach</th>\n",
       "      <td>0.203141</td>\n",
       "      <td>0.393395</td>\n",
       "      <td>0.358551</td>\n",
       "      <td>0.300330</td>\n",
       "      <td>0.358061</td>\n",
       "      <td>0.135832</td>\n",
       "      <td>0.217497</td>\n",
       "      <td>0.092529</td>\n",
       "      <td>0.172208</td>\n",
       "      <td>0.247091</td>\n",
       "      <td>0.315448</td>\n",
       "      <td>0.319593</td>\n",
       "      <td>0.294440</td>\n",
       "      <td>0.262622</td>\n",
       "      <td>0.609640</td>\n",
       "      <td>0.256676</td>\n",
       "    </tr>\n",
       "    <tr>\n",
       "      <th>Director</th>\n",
       "      <td>0.063904</td>\n",
       "      <td>0.298537</td>\n",
       "      <td>0.271992</td>\n",
       "      <td>0.240883</td>\n",
       "      <td>0.957426</td>\n",
       "      <td>0.100465</td>\n",
       "      <td>0.172412</td>\n",
       "      <td>0.124772</td>\n",
       "      <td>0.154469</td>\n",
       "      <td>0.160314</td>\n",
       "      <td>0.232441</td>\n",
       "      <td>0.250068</td>\n",
       "      <td>0.159880</td>\n",
       "      <td>0.189285</td>\n",
       "      <td>0.334501</td>\n",
       "      <td>0.172234</td>\n",
       "    </tr>\n",
       "    <tr>\n",
       "      <th>Scout</th>\n",
       "      <td>0.091547</td>\n",
       "      <td>0.426460</td>\n",
       "      <td>0.218074</td>\n",
       "      <td>0.114783</td>\n",
       "      <td>0.173729</td>\n",
       "      <td>0.957523</td>\n",
       "      <td>0.140372</td>\n",
       "      <td>0.218839</td>\n",
       "      <td>0.674127</td>\n",
       "      <td>0.581620</td>\n",
       "      <td>0.183469</td>\n",
       "      <td>0.210617</td>\n",
       "      <td>0.275403</td>\n",
       "      <td>0.160172</td>\n",
       "      <td>0.590252</td>\n",
       "      <td>0.174804</td>\n",
       "    </tr>\n",
       "    <tr>\n",
       "      <th>Club</th>\n",
       "      <td>0.183361</td>\n",
       "      <td>0.348325</td>\n",
       "      <td>0.225185</td>\n",
       "      <td>0.273675</td>\n",
       "      <td>0.168214</td>\n",
       "      <td>0.065767</td>\n",
       "      <td>0.962967</td>\n",
       "      <td>0.152435</td>\n",
       "      <td>0.068939</td>\n",
       "      <td>0.084699</td>\n",
       "      <td>0.302838</td>\n",
       "      <td>0.256905</td>\n",
       "      <td>0.147078</td>\n",
       "      <td>0.188068</td>\n",
       "      <td>0.130449</td>\n",
       "      <td>0.213068</td>\n",
       "    </tr>\n",
       "    <tr>\n",
       "      <th>Offer</th>\n",
       "      <td>0.191843</td>\n",
       "      <td>0.304021</td>\n",
       "      <td>0.199059</td>\n",
       "      <td>0.176842</td>\n",
       "      <td>0.195950</td>\n",
       "      <td>0.239804</td>\n",
       "      <td>0.211715</td>\n",
       "      <td>0.920443</td>\n",
       "      <td>0.246641</td>\n",
       "      <td>0.233593</td>\n",
       "      <td>0.264240</td>\n",
       "      <td>0.219728</td>\n",
       "      <td>0.229865</td>\n",
       "      <td>0.146930</td>\n",
       "      <td>0.144626</td>\n",
       "      <td>0.163547</td>\n",
       "    </tr>\n",
       "    <tr>\n",
       "      <th>ScoutingAssignmnet</th>\n",
       "      <td>0.098381</td>\n",
       "      <td>0.457482</td>\n",
       "      <td>0.216508</td>\n",
       "      <td>0.125100</td>\n",
       "      <td>0.212132</td>\n",
       "      <td>0.917144</td>\n",
       "      <td>0.124246</td>\n",
       "      <td>0.205010</td>\n",
       "      <td>0.716085</td>\n",
       "      <td>0.586305</td>\n",
       "      <td>0.202464</td>\n",
       "      <td>0.215761</td>\n",
       "      <td>0.292070</td>\n",
       "      <td>0.169754</td>\n",
       "      <td>0.582354</td>\n",
       "      <td>0.176251</td>\n",
       "    </tr>\n",
       "    <tr>\n",
       "      <th>ScoutReport</th>\n",
       "      <td>0.194947</td>\n",
       "      <td>0.453701</td>\n",
       "      <td>0.241814</td>\n",
       "      <td>0.145545</td>\n",
       "      <td>0.207666</td>\n",
       "      <td>0.637297</td>\n",
       "      <td>0.145772</td>\n",
       "      <td>0.252829</td>\n",
       "      <td>0.496424</td>\n",
       "      <td>0.931257</td>\n",
       "      <td>0.235305</td>\n",
       "      <td>0.213493</td>\n",
       "      <td>0.291411</td>\n",
       "      <td>0.282799</td>\n",
       "      <td>0.467086</td>\n",
       "      <td>0.279610</td>\n",
       "    </tr>\n",
       "    <tr>\n",
       "      <th>PlayerProfile</th>\n",
       "      <td>0.260295</td>\n",
       "      <td>0.354521</td>\n",
       "      <td>0.246333</td>\n",
       "      <td>0.774928</td>\n",
       "      <td>0.250297</td>\n",
       "      <td>0.133444</td>\n",
       "      <td>0.321042</td>\n",
       "      <td>0.224367</td>\n",
       "      <td>0.219524</td>\n",
       "      <td>0.205181</td>\n",
       "      <td>0.943395</td>\n",
       "      <td>0.707249</td>\n",
       "      <td>0.349083</td>\n",
       "      <td>0.251580</td>\n",
       "      <td>0.210623</td>\n",
       "      <td>0.237536</td>\n",
       "    </tr>\n",
       "    <tr>\n",
       "      <th>PlayerAttribute</th>\n",
       "      <td>0.187412</td>\n",
       "      <td>0.338965</td>\n",
       "      <td>0.383944</td>\n",
       "      <td>0.879617</td>\n",
       "      <td>0.333938</td>\n",
       "      <td>0.253830</td>\n",
       "      <td>0.334455</td>\n",
       "      <td>0.219681</td>\n",
       "      <td>0.398820</td>\n",
       "      <td>0.251544</td>\n",
       "      <td>0.769599</td>\n",
       "      <td>0.975747</td>\n",
       "      <td>0.400048</td>\n",
       "      <td>0.295516</td>\n",
       "      <td>0.287800</td>\n",
       "      <td>0.275211</td>\n",
       "    </tr>\n",
       "  </tbody>\n",
       "</table>\n",
       "</div>"
      ],
      "text/plain": [
       "                    Recommendation  TeamSportsScoutingSystem  Employee  \\\n",
       "Position                  0.172897                  0.245518  0.256960   \n",
       "Recommendation            0.946761                  0.284232  0.156030   \n",
       "ScoutingStatus            0.154948                  0.448950  0.273992   \n",
       "ScoutKind                 0.121998                  0.409288  0.242748   \n",
       "TSS                       0.068208                  0.216140  0.112344   \n",
       "abstract Person           0.117581                  0.372074  0.629815   \n",
       "Player                    0.178987                  0.327150  0.252914   \n",
       "HeadCoach                 0.203141                  0.393395  0.358551   \n",
       "Director                  0.063904                  0.298537  0.271992   \n",
       "Scout                     0.091547                  0.426460  0.218074   \n",
       "Club                      0.183361                  0.348325  0.225185   \n",
       "Offer                     0.191843                  0.304021  0.199059   \n",
       "ScoutingAssignmnet        0.098381                  0.457482  0.216508   \n",
       "ScoutReport               0.194947                  0.453701  0.241814   \n",
       "PlayerProfile             0.260295                  0.354521  0.246333   \n",
       "PlayerAttribute           0.187412                  0.338965  0.383944   \n",
       "\n",
       "                      Player  Director     Scout      Club     Offer  \\\n",
       "Position            0.280882  0.201255  0.147635  0.203183  0.125496   \n",
       "Recommendation      0.210642  0.099612  0.163609  0.213497  0.245176   \n",
       "ScoutingStatus      0.230127  0.301752  0.606249  0.144908  0.289805   \n",
       "ScoutKind           0.150650  0.219351  0.754001  0.209097  0.322863   \n",
       "TSS                 0.072561  0.160169  0.143910  0.077671  0.071599   \n",
       "abstract Person     0.385744  0.322782  0.263277  0.373273  0.198894   \n",
       "Player              0.935426  0.285407  0.123244  0.289916  0.179970   \n",
       "HeadCoach           0.300330  0.358061  0.135832  0.217497  0.092529   \n",
       "Director            0.240883  0.957426  0.100465  0.172412  0.124772   \n",
       "Scout               0.114783  0.173729  0.957523  0.140372  0.218839   \n",
       "Club                0.273675  0.168214  0.065767  0.962967  0.152435   \n",
       "Offer               0.176842  0.195950  0.239804  0.211715  0.920443   \n",
       "ScoutingAssignmnet  0.125100  0.212132  0.917144  0.124246  0.205010   \n",
       "ScoutReport         0.145545  0.207666  0.637297  0.145772  0.252829   \n",
       "PlayerProfile       0.774928  0.250297  0.133444  0.321042  0.224367   \n",
       "PlayerAttribute     0.879617  0.333938  0.253830  0.334455  0.219681   \n",
       "\n",
       "                    ScoutingAssignment  ScoutingReport  PlayerProfile  \\\n",
       "Position                      0.216780        0.252673       0.290412   \n",
       "Recommendation                0.199961        0.227239       0.290341   \n",
       "ScoutingStatus                0.523588        0.524175       0.292092   \n",
       "ScoutKind                     0.569662        0.496742       0.258636   \n",
       "TSS                           0.143136        0.229334       0.081298   \n",
       "abstract Person               0.291558        0.264242       0.391945   \n",
       "Player                        0.229124        0.152251       0.777736   \n",
       "HeadCoach                     0.172208        0.247091       0.315448   \n",
       "Director                      0.154469        0.160314       0.232441   \n",
       "Scout                         0.674127        0.581620       0.183469   \n",
       "Club                          0.068939        0.084699       0.302838   \n",
       "Offer                         0.246641        0.233593       0.264240   \n",
       "ScoutingAssignmnet            0.716085        0.586305       0.202464   \n",
       "ScoutReport                   0.496424        0.931257       0.235305   \n",
       "PlayerProfile                 0.219524        0.205181       0.943395   \n",
       "PlayerAttribute               0.398820        0.251544       0.769599   \n",
       "\n",
       "                    PlayerAttribute  TargetPosition  LongList  HeadScout  \\\n",
       "Position                   0.300761        0.736684  0.221491   0.316544   \n",
       "Recommendation             0.198332        0.218656  0.239719   0.167116   \n",
       "ScoutingStatus             0.315576        0.397024  0.303973   0.432758   \n",
       "ScoutKind                  0.266970        0.326645  0.205059   0.480803   \n",
       "TSS                        0.061744        0.109590  0.194986   0.188797   \n",
       "abstract Person            0.471068        0.405813  0.253761   0.302885   \n",
       "Player                     0.819377        0.283653  0.199848   0.195694   \n",
       "HeadCoach                  0.319593        0.294440  0.262622   0.609640   \n",
       "Director                   0.250068        0.159880  0.189285   0.334501   \n",
       "Scout                      0.210617        0.275403  0.160172   0.590252   \n",
       "Club                       0.256905        0.147078  0.188068   0.130449   \n",
       "Offer                      0.219728        0.229865  0.146930   0.144626   \n",
       "ScoutingAssignmnet         0.215761        0.292070  0.169754   0.582354   \n",
       "ScoutReport                0.213493        0.291411  0.282799   0.467086   \n",
       "PlayerProfile              0.707249        0.349083  0.251580   0.210623   \n",
       "PlayerAttribute            0.975747        0.400048  0.295516   0.287800   \n",
       "\n",
       "                    ShortList  \n",
       "Position             0.257041  \n",
       "Recommendation       0.238273  \n",
       "ScoutingStatus       0.296289  \n",
       "ScoutKind            0.211907  \n",
       "TSS                  0.162323  \n",
       "abstract Person      0.211176  \n",
       "Player               0.191571  \n",
       "HeadCoach            0.256676  \n",
       "Director             0.172234  \n",
       "Scout                0.174804  \n",
       "Club                 0.213068  \n",
       "Offer                0.163547  \n",
       "ScoutingAssignmnet   0.176251  \n",
       "ScoutReport          0.279610  \n",
       "PlayerProfile        0.237536  \n",
       "PlayerAttribute      0.275211  "
      ]
     },
     "execution_count": 4642,
     "metadata": {},
     "output_type": "execute_result"
    }
   ],
   "source": [
    "import pandas as pd\n",
    "\n",
    "df = pd.DataFrame(index=reference_class, columns=stu_class, data=similarity_mde)\n",
    "df"
   ]
  },
  {
   "cell_type": "markdown",
   "metadata": {
    "id": "qUHDc0UMRhZ4"
   },
   "source": [
    "### Stage 1.1.1 Mapping (enum / regular + abstract)"
   ]
  },
  {
   "cell_type": "code",
   "execution_count": 4643,
   "metadata": {
    "id": "jjiO8XGnRmJ-"
   },
   "outputs": [],
   "source": [
    "ref_enum = []\n",
    "ref_reg_cls = []\n",
    "stu_enum = []\n",
    "stu_reg_cls = []\n",
    "\n",
    "for enum in ref_cls.cls_name:\n",
    "    if ref_cls.cls_atr[enum][\"type\"] == \"enum\":\n",
    "        ref_enum.append(enum)\n",
    "    else:\n",
    "        ref_reg_cls.append(enum)\n",
    "\n",
    "for enum in stu_cls.cls_name:\n",
    "    if stu_cls.cls_atr[enum][\"type\"] == \"enum\":\n",
    "        stu_enum.append(enum)\n",
    "    else:\n",
    "        stu_reg_cls.append(enum)"
   ]
  },
  {
   "cell_type": "code",
   "execution_count": 4644,
   "metadata": {
    "id": "fJH4xn6wTUxJ"
   },
   "outputs": [
    {
     "name": "stdout",
     "output_type": "stream",
     "text": [
      "{'Position': {'Recommendation': 0.17289720701248845, 'TeamSportsScoutingSystem': 0.24551773111691017, 'Employee': 0.2569598471529636, 'Player': 0.2808824355394257, 'Director': 0.2012549174947853, 'Scout': 0.14763478806961922, 'Club': 0.20318341445028992, 'Offer': 0.1254959967663124, 'ScoutingAssignment': 0.21678038572140362, 'ScoutingReport': 0.25267279289563177, 'PlayerProfile': 0.2904123917938123, 'PlayerAttribute': 0.30076061345532484, 'TargetPosition': 0.7366842964305249, 'LongList': 0.22149131081650525, 'HeadScout': 0.3165436764150311, 'ShortList': 0.25704129978623275}, 'Recommendation': {'Recommendation': 0.9467610253735672, 'TeamSportsScoutingSystem': 0.28423185844541937, 'Employee': 0.15602987508633503, 'Player': 0.21064163184993834, 'Director': 0.09961178185162307, 'Scout': 0.16360857301047652, 'Club': 0.21349687448651072, 'Offer': 0.24517642622027988, 'ScoutingAssignment': 0.19996121414834356, 'ScoutingReport': 0.22723861441753263, 'PlayerProfile': 0.2903410213572166, 'PlayerAttribute': 0.19833207117512686, 'TargetPosition': 0.2186562212471346, 'LongList': 0.23971854054402833, 'HeadScout': 0.16711574974244095, 'ShortList': 0.2382728476537147}, 'ScoutingStatus': {'Recommendation': 0.15494824764247062, 'TeamSportsScoutingSystem': 0.44894953911810753, 'Employee': 0.2739919317351635, 'Player': 0.23012686019968503, 'Director': 0.30175185220687883, 'Scout': 0.606248953657252, 'Club': 0.14490776751305418, 'Offer': 0.289804625736769, 'ScoutingAssignment': 0.5235881031500182, 'ScoutingReport': 0.5241748478789479, 'PlayerProfile': 0.2920915598654646, 'PlayerAttribute': 0.3155757696079845, 'TargetPosition': 0.39702416918282035, 'LongList': 0.30397325875482695, 'HeadScout': 0.4327583784662473, 'ShortList': 0.29628855071750726}, 'ScoutKind': {'Recommendation': 0.12199842664796925, 'TeamSportsScoutingSystem': 0.4092883642193533, 'Employee': 0.242748208264949, 'Player': 0.15065035385890013, 'Director': 0.21935061966261948, 'Scout': 0.7540007342741717, 'Club': 0.20909677614285765, 'Offer': 0.3228630063737904, 'ScoutingAssignment': 0.5696621077427182, 'ScoutingReport': 0.49674239121567565, 'PlayerProfile': 0.2586359659489645, 'PlayerAttribute': 0.26696955386475396, 'TargetPosition': 0.32664506796815873, 'LongList': 0.20505917795449063, 'HeadScout': 0.48080256267709265, 'ShortList': 0.2119068167788328}, 'TSS': {'Recommendation': 0.06820833451426576, 'TeamSportsScoutingSystem': 0.2161399264421674, 'Employee': 0.11234381732754135, 'Player': 0.07256074855420101, 'Director': 0.16016882549419248, 'Scout': 0.143909583893296, 'Club': 0.07767078851081927, 'Offer': 0.07159925815681722, 'ScoutingAssignment': 0.14313558153620204, 'ScoutingReport': 0.22933359440948917, 'PlayerProfile': 0.08129754338424651, 'PlayerAttribute': 0.06174373522122615, 'TargetPosition': 0.10958950460066605, 'LongList': 0.1949858396443926, 'HeadScout': 0.1887967968491319, 'ShortList': 0.16232263113606973}, 'abstract Person': {'Recommendation': 0.11758065076947205, 'TeamSportsScoutingSystem': 0.37207400658748274, 'Employee': 0.6298147048229356, 'Player': 0.3857435431221343, 'Director': 0.32278169625062547, 'Scout': 0.26327720487145334, 'Club': 0.37327320563058575, 'Offer': 0.19889356802944996, 'ScoutingAssignment': 0.2915583482537272, 'ScoutingReport': 0.264241693832189, 'PlayerProfile': 0.3919446439677716, 'PlayerAttribute': 0.4710684999301374, 'TargetPosition': 0.4058132424513753, 'LongList': 0.2537606300602365, 'HeadScout': 0.30288457722654527, 'ShortList': 0.21117600275106885}, 'Player': {'Recommendation': 0.1789873823263833, 'TeamSportsScoutingSystem': 0.327149546663018, 'Employee': 0.25291424637821486, 'Player': 0.9354258833279625, 'Director': 0.2854073619279834, 'Scout': 0.12324406045100735, 'Club': 0.28991633509569126, 'Offer': 0.17996974802680132, 'ScoutingAssignment': 0.2291242050773888, 'ScoutingReport': 0.15225090896827004, 'PlayerProfile': 0.7777356599606018, 'PlayerAttribute': 0.8193769465597913, 'TargetPosition': 0.28365299264373367, 'LongList': 0.19984824755052877, 'HeadScout': 0.19569403518419856, 'ShortList': 0.1915714036315601}, 'HeadCoach': {'Recommendation': 0.2031412329326509, 'TeamSportsScoutingSystem': 0.39339514540186404, 'Employee': 0.35855127262972775, 'Player': 0.3003303858742519, 'Director': 0.35806126949112954, 'Scout': 0.13583195111123975, 'Club': 0.2174968186015276, 'Offer': 0.09252850883573444, 'ScoutingAssignment': 0.17220840543551935, 'ScoutingReport': 0.24709094994090464, 'PlayerProfile': 0.31544844795679816, 'PlayerAttribute': 0.31959303164985375, 'TargetPosition': 0.29444043390202396, 'LongList': 0.2626224124333946, 'HeadScout': 0.6096398912349994, 'ShortList': 0.2566757554824908}, 'Director': {'Recommendation': 0.06390382900709587, 'TeamSportsScoutingSystem': 0.29853727467789526, 'Employee': 0.27199197513063733, 'Player': 0.2408828983234373, 'Director': 0.9574257457657548, 'Scout': 0.10046492630083691, 'Club': 0.17241180889518767, 'Offer': 0.12477186813196958, 'ScoutingAssignment': 0.15446934686107583, 'ScoutingReport': 0.16031356662372404, 'PlayerProfile': 0.23244092948193135, 'PlayerAttribute': 0.25006792834579245, 'TargetPosition': 0.1598797953531923, 'LongList': 0.18928507285589377, 'HeadScout': 0.33450075119503386, 'ShortList': 0.17223437560099766}, 'Scout': {'Recommendation': 0.09154659590210011, 'TeamSportsScoutingSystem': 0.4264597406355037, 'Employee': 0.2180742551869094, 'Player': 0.11478284968292661, 'Director': 0.1737288166648127, 'Scout': 0.9575229605747491, 'Club': 0.14037196286670034, 'Offer': 0.2188387339177033, 'ScoutingAssignment': 0.674126641356936, 'ScoutingReport': 0.5816201646785426, 'PlayerProfile': 0.1834687306325008, 'PlayerAttribute': 0.21061696980663625, 'TargetPosition': 0.27540257178021904, 'LongList': 0.16017222995915556, 'HeadScout': 0.5902521177881358, 'ShortList': 0.17480377242244743}, 'Club': {'Recommendation': 0.18336118482510605, 'TeamSportsScoutingSystem': 0.34832532728302845, 'Employee': 0.2251849408341173, 'Player': 0.2736746672811935, 'Director': 0.16821433819643403, 'Scout': 0.06576731488339752, 'Club': 0.9629671126237382, 'Offer': 0.15243511404485702, 'ScoutingAssignment': 0.0689393186865331, 'ScoutingReport': 0.08469873489461988, 'PlayerProfile': 0.3028377579360517, 'PlayerAttribute': 0.25690535712167045, 'TargetPosition': 0.14707825850043715, 'LongList': 0.18806782534038283, 'HeadScout': 0.1304491457977717, 'ShortList': 0.21306781722050155}, 'Offer': {'Recommendation': 0.19184282625634178, 'TeamSportsScoutingSystem': 0.30402119818004725, 'Employee': 0.1990590274242926, 'Player': 0.17684234731531628, 'Director': 0.19595041331780189, 'Scout': 0.2398040275198218, 'Club': 0.21171485616820462, 'Offer': 0.9204430849424903, 'ScoutingAssignment': 0.2466406546812555, 'ScoutingReport': 0.233593024949047, 'PlayerProfile': 0.2642396870724746, 'PlayerAttribute': 0.21972845225763443, 'TargetPosition': 0.2298646646119456, 'LongList': 0.14693014527778991, 'HeadScout': 0.1446258816247122, 'ShortList': 0.16354653655278562}, 'ScoutingAssignmnet': {'Recommendation': 0.09838141862647552, 'TeamSportsScoutingSystem': 0.4574818862289255, 'Employee': 0.21650774834175202, 'Player': 0.1250995293512257, 'Director': 0.21213155648358917, 'Scout': 0.9171438564839861, 'Club': 0.12424606715169642, 'Offer': 0.20501006205673958, 'ScoutingAssignment': 0.7160851338340555, 'ScoutingReport': 0.586305312209396, 'PlayerProfile': 0.20246368198682063, 'PlayerAttribute': 0.2157611700089888, 'TargetPosition': 0.2920700899686484, 'LongList': 0.16975402785509114, 'HeadScout': 0.5823537328466821, 'ShortList': 0.17625132333162533}, 'ScoutReport': {'Recommendation': 0.19494714477480923, 'TeamSportsScoutingSystem': 0.45370128395611914, 'Employee': 0.24181407873042057, 'Player': 0.145545177966252, 'Director': 0.20766632584942404, 'Scout': 0.6372973737626277, 'Club': 0.14577179473422297, 'Offer': 0.2528287338814864, 'ScoutingAssignment': 0.49642417976486597, 'ScoutingReport': 0.931256936703248, 'PlayerProfile': 0.2353045463406091, 'PlayerAttribute': 0.2134931874927678, 'TargetPosition': 0.29141140836930307, 'LongList': 0.2827989918921717, 'HeadScout': 0.4670856781304326, 'ShortList': 0.2796104621250323}, 'PlayerProfile': {'Recommendation': 0.2602950192598752, 'TeamSportsScoutingSystem': 0.3545213764760143, 'Employee': 0.24633288049141755, 'Player': 0.7749275495091249, 'Director': 0.25029721282180223, 'Scout': 0.13344375558902571, 'Club': 0.3210422775229407, 'Offer': 0.22436680464145908, 'ScoutingAssignment': 0.2195239509191002, 'ScoutingReport': 0.20518079059713168, 'PlayerProfile': 0.9433954784272814, 'PlayerAttribute': 0.707249071148152, 'TargetPosition': 0.349082856211962, 'LongList': 0.25157997228301027, 'HeadScout': 0.21062274406842177, 'ShortList': 0.23753619106610224}, 'PlayerAttribute': {'Recommendation': 0.1874117106779219, 'TeamSportsScoutingSystem': 0.338965015849226, 'Employee': 0.38394448416572025, 'Player': 0.8796173750083777, 'Director': 0.3339378511701976, 'Scout': 0.25382961138665683, 'Club': 0.33445481252115594, 'Offer': 0.21968062353466078, 'ScoutingAssignment': 0.3988196407940649, 'ScoutingReport': 0.2515436092500555, 'PlayerProfile': 0.7695994223331568, 'PlayerAttribute': 0.9757471298713737, 'TargetPosition': 0.4000476291187637, 'LongList': 0.2955162241505327, 'HeadScout': 0.28780029893965636, 'ShortList': 0.27521097759472857}}\n"
     ]
    },
    {
     "data": {
      "text/plain": [
       "[('Position', None),\n",
       " ('Recommendation', 'Recommendation'),\n",
       " ('ScoutingStatus', None),\n",
       " ('ScoutKind', None)]"
      ]
     },
     "execution_count": 4644,
     "metadata": {},
     "output_type": "execute_result"
    }
   ],
   "source": [
    "enum_mapping = match_classes(ref_enum, stu_enum, dict_sim_word, thresh=0.5)\n",
    "enum_mapping[0]"
   ]
  },
  {
   "cell_type": "code",
   "execution_count": 4645,
   "metadata": {
    "id": "LW80yVXTT7jK"
   },
   "outputs": [
    {
     "name": "stdout",
     "output_type": "stream",
     "text": [
      "{'Position': {'Recommendation': 0.17289720701248845, 'TeamSportsScoutingSystem': 0.24551773111691017, 'Employee': 0.2569598471529636, 'Player': 0.2808824355394257, 'Director': 0.2012549174947853, 'Scout': 0.14763478806961922, 'Club': 0.20318341445028992, 'Offer': 0.1254959967663124, 'ScoutingAssignment': 0.21678038572140362, 'ScoutingReport': 0.25267279289563177, 'PlayerProfile': 0.2904123917938123, 'PlayerAttribute': 0.30076061345532484, 'TargetPosition': 0.7366842964305249, 'LongList': 0.22149131081650525, 'HeadScout': 0.3165436764150311, 'ShortList': 0.25704129978623275}, 'Recommendation': {'Recommendation': 0.9467610253735672, 'TeamSportsScoutingSystem': 0.28423185844541937, 'Employee': 0.15602987508633503, 'Player': 0.21064163184993834, 'Director': 0.09961178185162307, 'Scout': 0.16360857301047652, 'Club': 0.21349687448651072, 'Offer': 0.24517642622027988, 'ScoutingAssignment': 0.19996121414834356, 'ScoutingReport': 0.22723861441753263, 'PlayerProfile': 0.2903410213572166, 'PlayerAttribute': 0.19833207117512686, 'TargetPosition': 0.2186562212471346, 'LongList': 0.23971854054402833, 'HeadScout': 0.16711574974244095, 'ShortList': 0.2382728476537147}, 'ScoutingStatus': {'Recommendation': 0.15494824764247062, 'TeamSportsScoutingSystem': 0.44894953911810753, 'Employee': 0.2739919317351635, 'Player': 0.23012686019968503, 'Director': 0.30175185220687883, 'Scout': 0.606248953657252, 'Club': 0.14490776751305418, 'Offer': 0.289804625736769, 'ScoutingAssignment': 0.5235881031500182, 'ScoutingReport': 0.5241748478789479, 'PlayerProfile': 0.2920915598654646, 'PlayerAttribute': 0.3155757696079845, 'TargetPosition': 0.39702416918282035, 'LongList': 0.30397325875482695, 'HeadScout': 0.4327583784662473, 'ShortList': 0.29628855071750726}, 'ScoutKind': {'Recommendation': 0.12199842664796925, 'TeamSportsScoutingSystem': 0.4092883642193533, 'Employee': 0.242748208264949, 'Player': 0.15065035385890013, 'Director': 0.21935061966261948, 'Scout': 0.7540007342741717, 'Club': 0.20909677614285765, 'Offer': 0.3228630063737904, 'ScoutingAssignment': 0.5696621077427182, 'ScoutingReport': 0.49674239121567565, 'PlayerProfile': 0.2586359659489645, 'PlayerAttribute': 0.26696955386475396, 'TargetPosition': 0.32664506796815873, 'LongList': 0.20505917795449063, 'HeadScout': 0.48080256267709265, 'ShortList': 0.2119068167788328}, 'TSS': {'Recommendation': 0.06820833451426576, 'TeamSportsScoutingSystem': 0.2161399264421674, 'Employee': 0.11234381732754135, 'Player': 0.07256074855420101, 'Director': 0.16016882549419248, 'Scout': 0.143909583893296, 'Club': 0.07767078851081927, 'Offer': 0.07159925815681722, 'ScoutingAssignment': 0.14313558153620204, 'ScoutingReport': 0.22933359440948917, 'PlayerProfile': 0.08129754338424651, 'PlayerAttribute': 0.06174373522122615, 'TargetPosition': 0.10958950460066605, 'LongList': 0.1949858396443926, 'HeadScout': 0.1887967968491319, 'ShortList': 0.16232263113606973}, 'abstract Person': {'Recommendation': 0.11758065076947205, 'TeamSportsScoutingSystem': 0.37207400658748274, 'Employee': 0.6298147048229356, 'Player': 0.3857435431221343, 'Director': 0.32278169625062547, 'Scout': 0.26327720487145334, 'Club': 0.37327320563058575, 'Offer': 0.19889356802944996, 'ScoutingAssignment': 0.2915583482537272, 'ScoutingReport': 0.264241693832189, 'PlayerProfile': 0.3919446439677716, 'PlayerAttribute': 0.4710684999301374, 'TargetPosition': 0.4058132424513753, 'LongList': 0.2537606300602365, 'HeadScout': 0.30288457722654527, 'ShortList': 0.21117600275106885}, 'Player': {'Recommendation': 0.1789873823263833, 'TeamSportsScoutingSystem': 0.327149546663018, 'Employee': 0.25291424637821486, 'Player': 0.9354258833279625, 'Director': 0.2854073619279834, 'Scout': 0.12324406045100735, 'Club': 0.28991633509569126, 'Offer': 0.17996974802680132, 'ScoutingAssignment': 0.2291242050773888, 'ScoutingReport': 0.15225090896827004, 'PlayerProfile': 0.7777356599606018, 'PlayerAttribute': 0.8193769465597913, 'TargetPosition': 0.28365299264373367, 'LongList': 0.19984824755052877, 'HeadScout': 0.19569403518419856, 'ShortList': 0.1915714036315601}, 'HeadCoach': {'Recommendation': 0.2031412329326509, 'TeamSportsScoutingSystem': 0.39339514540186404, 'Employee': 0.35855127262972775, 'Player': 0.3003303858742519, 'Director': 0.35806126949112954, 'Scout': 0.13583195111123975, 'Club': 0.2174968186015276, 'Offer': 0.09252850883573444, 'ScoutingAssignment': 0.17220840543551935, 'ScoutingReport': 0.24709094994090464, 'PlayerProfile': 0.31544844795679816, 'PlayerAttribute': 0.31959303164985375, 'TargetPosition': 0.29444043390202396, 'LongList': 0.2626224124333946, 'HeadScout': 0.6096398912349994, 'ShortList': 0.2566757554824908}, 'Director': {'Recommendation': 0.06390382900709587, 'TeamSportsScoutingSystem': 0.29853727467789526, 'Employee': 0.27199197513063733, 'Player': 0.2408828983234373, 'Director': 0.9574257457657548, 'Scout': 0.10046492630083691, 'Club': 0.17241180889518767, 'Offer': 0.12477186813196958, 'ScoutingAssignment': 0.15446934686107583, 'ScoutingReport': 0.16031356662372404, 'PlayerProfile': 0.23244092948193135, 'PlayerAttribute': 0.25006792834579245, 'TargetPosition': 0.1598797953531923, 'LongList': 0.18928507285589377, 'HeadScout': 0.33450075119503386, 'ShortList': 0.17223437560099766}, 'Scout': {'Recommendation': 0.09154659590210011, 'TeamSportsScoutingSystem': 0.4264597406355037, 'Employee': 0.2180742551869094, 'Player': 0.11478284968292661, 'Director': 0.1737288166648127, 'Scout': 0.9575229605747491, 'Club': 0.14037196286670034, 'Offer': 0.2188387339177033, 'ScoutingAssignment': 0.674126641356936, 'ScoutingReport': 0.5816201646785426, 'PlayerProfile': 0.1834687306325008, 'PlayerAttribute': 0.21061696980663625, 'TargetPosition': 0.27540257178021904, 'LongList': 0.16017222995915556, 'HeadScout': 0.5902521177881358, 'ShortList': 0.17480377242244743}, 'Club': {'Recommendation': 0.18336118482510605, 'TeamSportsScoutingSystem': 0.34832532728302845, 'Employee': 0.2251849408341173, 'Player': 0.2736746672811935, 'Director': 0.16821433819643403, 'Scout': 0.06576731488339752, 'Club': 0.9629671126237382, 'Offer': 0.15243511404485702, 'ScoutingAssignment': 0.0689393186865331, 'ScoutingReport': 0.08469873489461988, 'PlayerProfile': 0.3028377579360517, 'PlayerAttribute': 0.25690535712167045, 'TargetPosition': 0.14707825850043715, 'LongList': 0.18806782534038283, 'HeadScout': 0.1304491457977717, 'ShortList': 0.21306781722050155}, 'Offer': {'Recommendation': 0.19184282625634178, 'TeamSportsScoutingSystem': 0.30402119818004725, 'Employee': 0.1990590274242926, 'Player': 0.17684234731531628, 'Director': 0.19595041331780189, 'Scout': 0.2398040275198218, 'Club': 0.21171485616820462, 'Offer': 0.9204430849424903, 'ScoutingAssignment': 0.2466406546812555, 'ScoutingReport': 0.233593024949047, 'PlayerProfile': 0.2642396870724746, 'PlayerAttribute': 0.21972845225763443, 'TargetPosition': 0.2298646646119456, 'LongList': 0.14693014527778991, 'HeadScout': 0.1446258816247122, 'ShortList': 0.16354653655278562}, 'ScoutingAssignmnet': {'Recommendation': 0.09838141862647552, 'TeamSportsScoutingSystem': 0.4574818862289255, 'Employee': 0.21650774834175202, 'Player': 0.1250995293512257, 'Director': 0.21213155648358917, 'Scout': 0.9171438564839861, 'Club': 0.12424606715169642, 'Offer': 0.20501006205673958, 'ScoutingAssignment': 0.7160851338340555, 'ScoutingReport': 0.586305312209396, 'PlayerProfile': 0.20246368198682063, 'PlayerAttribute': 0.2157611700089888, 'TargetPosition': 0.2920700899686484, 'LongList': 0.16975402785509114, 'HeadScout': 0.5823537328466821, 'ShortList': 0.17625132333162533}, 'ScoutReport': {'Recommendation': 0.19494714477480923, 'TeamSportsScoutingSystem': 0.45370128395611914, 'Employee': 0.24181407873042057, 'Player': 0.145545177966252, 'Director': 0.20766632584942404, 'Scout': 0.6372973737626277, 'Club': 0.14577179473422297, 'Offer': 0.2528287338814864, 'ScoutingAssignment': 0.49642417976486597, 'ScoutingReport': 0.931256936703248, 'PlayerProfile': 0.2353045463406091, 'PlayerAttribute': 0.2134931874927678, 'TargetPosition': 0.29141140836930307, 'LongList': 0.2827989918921717, 'HeadScout': 0.4670856781304326, 'ShortList': 0.2796104621250323}, 'PlayerProfile': {'Recommendation': 0.2602950192598752, 'TeamSportsScoutingSystem': 0.3545213764760143, 'Employee': 0.24633288049141755, 'Player': 0.7749275495091249, 'Director': 0.25029721282180223, 'Scout': 0.13344375558902571, 'Club': 0.3210422775229407, 'Offer': 0.22436680464145908, 'ScoutingAssignment': 0.2195239509191002, 'ScoutingReport': 0.20518079059713168, 'PlayerProfile': 0.9433954784272814, 'PlayerAttribute': 0.707249071148152, 'TargetPosition': 0.349082856211962, 'LongList': 0.25157997228301027, 'HeadScout': 0.21062274406842177, 'ShortList': 0.23753619106610224}, 'PlayerAttribute': {'Recommendation': 0.1874117106779219, 'TeamSportsScoutingSystem': 0.338965015849226, 'Employee': 0.38394448416572025, 'Player': 0.8796173750083777, 'Director': 0.3339378511701976, 'Scout': 0.25382961138665683, 'Club': 0.33445481252115594, 'Offer': 0.21968062353466078, 'ScoutingAssignment': 0.3988196407940649, 'ScoutingReport': 0.2515436092500555, 'PlayerProfile': 0.7695994223331568, 'PlayerAttribute': 0.9757471298713737, 'TargetPosition': 0.4000476291187637, 'LongList': 0.2955162241505327, 'HeadScout': 0.28780029893965636, 'ShortList': 0.27521097759472857}}\n"
     ]
    },
    {
     "data": {
      "text/plain": [
       "[('TSS', None),\n",
       " ('abstract Person', 'Employee'),\n",
       " ('Player', 'Player'),\n",
       " ('HeadCoach', 'HeadScout'),\n",
       " ('Director', 'Director'),\n",
       " ('Scout', 'Scout'),\n",
       " ('Club', 'Club'),\n",
       " ('Offer', 'Offer'),\n",
       " ('ScoutingAssignmnet', 'ScoutingAssignment'),\n",
       " ('ScoutReport', 'ScoutingReport'),\n",
       " ('PlayerProfile', 'PlayerProfile'),\n",
       " ('PlayerAttribute', 'PlayerAttribute'),\n",
       " (None, 'TeamSportsScoutingSystem'),\n",
       " (None, 'TargetPosition'),\n",
       " (None, 'LongList'),\n",
       " (None, 'ShortList')]"
      ]
     },
     "execution_count": 4645,
     "metadata": {},
     "output_type": "execute_result"
    }
   ],
   "source": [
    "cls_mapping = match_classes(ref_reg_cls, stu_reg_cls, dict_sim_word, thresh=0.5)\n",
    "cls_mapping[0]"
   ]
  },
  {
   "cell_type": "code",
   "execution_count": 4646,
   "metadata": {
    "id": "X6xo0l99VeXm"
   },
   "outputs": [],
   "source": [
    "mapping = enum_mapping[0] + cls_mapping[0]\n",
    "\n",
    "for map in mapping:\n",
    "    if map[0] and map[1]:\n",
    "        ref_cls.cls_atr[map[0]][\"score\"] = 1\n",
    "        ref_cls.cls_atr[map[0]][\"counterpart\"] = map[1]\n",
    "\n",
    "        stu_cls.cls_atr[map[1]][\"score\"] = 1\n",
    "        stu_cls.cls_atr[map[1]][\"counterpart\"] = map[0]\n",
    "\n",
    "        if ref_cls.cls_atr[map[0]][\"type\"] != stu_cls.cls_atr[map[1]][\"type\"]:\n",
    "            # type mismatch\n",
    "            ref_cls.cls_atr[map[0]][\"score\"] = 0.5\n",
    "            stu_cls.cls_atr[map[1]][\"score\"] = 0.5"
   ]
  },
  {
   "cell_type": "code",
   "execution_count": 4647,
   "metadata": {
    "id": "zndCFvnoWS7D"
   },
   "outputs": [
    {
     "data": {
      "text/plain": [
       "{'Position': {'score': 0,\n",
       "  'type': 'enum',\n",
       "  'dsl': 'Position(GK, LB)',\n",
       "  'counterpart': None,\n",
       "  'attributes': {'GK': {'score': 0, 'counterpart': None},\n",
       "   'LB': {'score': 0, 'counterpart': None}}},\n",
       " 'Recommendation': {'score': 1,\n",
       "  'type': 'enum',\n",
       "  'dsl': 'Recommendation(KEY_PLAYER, FIRST_TEAM_PLAYER, RESERVE_TEAM_PLAYER, PROSPECTIVE_PLAYER, NOT_RECOMMENDED)',\n",
       "  'counterpart': 'Recommendation',\n",
       "  'attributes': {'KEY_PLAYER': {'score': 0, 'counterpart': None},\n",
       "   'FIRST_TEAM_PLAYER': {'score': 0, 'counterpart': None},\n",
       "   'RESERVE_TEAM_PLAYER': {'score': 0, 'counterpart': None},\n",
       "   'PROSPECTIVE_PLAYER': {'score': 0, 'counterpart': None},\n",
       "   'NOT_RECOMMENDED': {'score': 0, 'counterpart': None}}},\n",
       " 'ScoutingStatus': {'score': 0,\n",
       "  'type': 'enum',\n",
       "  'dsl': 'ScoutingStatus(LONG_LISTED, SHORT_LISTED, RECOMMENDED_FOR_SIGNING, OFFER_MADE)',\n",
       "  'counterpart': None,\n",
       "  'attributes': {'LONG_LISTED': {'score': 0, 'counterpart': None},\n",
       "   'SHORT_LISTED': {'score': 0, 'counterpart': None},\n",
       "   'RECOMMENDED_FOR_SIGNING': {'score': 0, 'counterpart': None},\n",
       "   'OFFER_MADE': {'score': 0, 'counterpart': None}}},\n",
       " 'ScoutKind': {'score': 0,\n",
       "  'type': 'enum',\n",
       "  'dsl': 'ScoutKind(REGULAR_SCOUNT, HEAD_SCOUT)',\n",
       "  'counterpart': None,\n",
       "  'attributes': {'REGULAR_SCOUNT': {'score': 0, 'counterpart': None},\n",
       "   'HEAD_SCOUT': {'score': 0, 'counterpart': None}}},\n",
       " 'TSS': {'score': 0,\n",
       "  'type': 'regular',\n",
       "  'dsl': 'TSS()',\n",
       "  'counterpart': None,\n",
       "  'attributes': {}},\n",
       " 'abstract Person': {'score': 0.5,\n",
       "  'type': 'abstract',\n",
       "  'dsl': 'abstract Person(string firstName, string lastName)',\n",
       "  'counterpart': 'Employee',\n",
       "  'attributes': {'string firstName': {'score': 0, 'counterpart': None},\n",
       "   'string lastName': {'score': 0, 'counterpart': None}}},\n",
       " 'Player': {'score': 1,\n",
       "  'type': 'regular',\n",
       "  'dsl': 'Player(ScoutingStatus status)',\n",
       "  'counterpart': 'Player',\n",
       "  'attributes': {'ScoutingStatus status': {'score': 0, 'counterpart': None}}},\n",
       " 'HeadCoach': {'score': 1,\n",
       "  'type': 'regular',\n",
       "  'dsl': 'HeadCoach()',\n",
       "  'counterpart': 'HeadScout',\n",
       "  'attributes': {}},\n",
       " 'Director': {'score': 1,\n",
       "  'type': 'regular',\n",
       "  'dsl': 'Director()',\n",
       "  'counterpart': 'Director',\n",
       "  'attributes': {}},\n",
       " 'Scout': {'score': 1,\n",
       "  'type': 'regular',\n",
       "  'dsl': 'Scout(ScoutKind scoutKind)',\n",
       "  'counterpart': 'Scout',\n",
       "  'attributes': {'ScoutKind scoutKind': {'score': 0, 'counterpart': None}}},\n",
       " 'Club': {'score': 1,\n",
       "  'type': 'regular',\n",
       "  'dsl': 'Club()',\n",
       "  'counterpart': 'Club',\n",
       "  'attributes': {}},\n",
       " 'Offer': {'score': 1,\n",
       "  'type': 'regular',\n",
       "  'dsl': 'Offer(int value)',\n",
       "  'counterpart': 'Offer',\n",
       "  'attributes': {'int value': {'score': 0, 'counterpart': None}}},\n",
       " 'ScoutingAssignmnet': {'score': 1,\n",
       "  'type': 'regular',\n",
       "  'dsl': 'ScoutingAssignmnet()',\n",
       "  'counterpart': 'ScoutingAssignment',\n",
       "  'attributes': {}},\n",
       " 'ScoutReport': {'score': 1,\n",
       "  'type': 'regular',\n",
       "  'dsl': 'ScoutReport(string pro, string con, Recommendation recommendation)',\n",
       "  'counterpart': 'ScoutingReport',\n",
       "  'attributes': {'string pro': {'score': 0, 'counterpart': None},\n",
       "   'string con': {'score': 0, 'counterpart': None},\n",
       "   'Recommendation recommendation': {'score': 0, 'counterpart': None}}},\n",
       " 'PlayerProfile': {'score': 1,\n",
       "  'type': 'regular',\n",
       "  'dsl': 'PlayerProfile(Position position)',\n",
       "  'counterpart': 'PlayerProfile',\n",
       "  'attributes': {'Position position': {'score': 0, 'counterpart': None}}},\n",
       " 'PlayerAttribute': {'score': 1,\n",
       "  'type': 'regular',\n",
       "  'dsl': 'PlayerAttribute(string name, int value)',\n",
       "  'counterpart': 'PlayerAttribute',\n",
       "  'attributes': {'string name': {'score': 0, 'counterpart': None},\n",
       "   'int value': {'score': 0, 'counterpart': None}}}}"
      ]
     },
     "execution_count": 4647,
     "metadata": {},
     "output_type": "execute_result"
    }
   ],
   "source": [
    "ref_cls.cls_atr"
   ]
  },
  {
   "cell_type": "markdown",
   "metadata": {
    "id": "8y1nt_fsXDwB"
   },
   "source": [
    "## Stage 1.2 Class Mapping (with all info)"
   ]
  },
  {
   "cell_type": "code",
   "execution_count": 4648,
   "metadata": {
    "id": "8FOiiOpfXM5c"
   },
   "outputs": [],
   "source": [
    "ref_classes = []\n",
    "stu_classes = []\n",
    "\n",
    "for cls in ref_cls.cls_name:\n",
    "    if ref_cls.cls_atr[cls][\"counterpart\"] == None:\n",
    "        ref_classes.append(cls)\n",
    "\n",
    "for cls in stu_cls.cls_name:\n",
    "    if stu_cls.cls_atr[cls][\"counterpart\"] == None:\n",
    "        stu_classes.append(cls)"
   ]
  },
  {
   "cell_type": "code",
   "execution_count": 4649,
   "metadata": {
    "id": "l_HDKCa3XmuR"
   },
   "outputs": [],
   "source": [
    "# get name embedding\n",
    "# all info\n",
    "similarity_all = []\n",
    "mde_embedding = sgram_mde\n",
    "threshold = 0.7\n",
    "\n",
    "\n",
    "# reuse saved embedding result...\n",
    "# may cause problem\n",
    "# if os.path.exists(student_dir + \"ada_embedding.txt\"):\n",
    "#   pass\n",
    "\n",
    "# with open(student_dir + \"ada_embedding.txt\", 'r') as json_file:\n",
    "#   dict_sim_all = json.load(json_file)\n",
    "\n",
    "if False:\n",
    "    pass\n",
    "\n",
    "else:\n",
    "    for index, node in enumerate(ref_cls.cls_name):\n",
    "        text_1 = get_all_info(\n",
    "            index, ref_cls.cls_name, ref_cls.raw_dsl, ref_cls.rel.raw_dsl, True\n",
    "        )\n",
    "        emb_i = get_embedding(text_1)\n",
    "        mde_pair = []\n",
    "        for j, stu_node in enumerate(stu_cls.cls_name):\n",
    "            text_2 = get_all_info(\n",
    "                j, stu_cls.cls_name, stu_cls.raw_dsl, stu_cls.rel.raw_dsl, True\n",
    "            )\n",
    "            emb_j = get_embedding(text_2)\n",
    "            mde_sim = cosine_distance(emb_i, emb_j)\n",
    "            mde_pair.append(mde_sim)\n",
    "\n",
    "        # apply third quartile\n",
    "        similarity_all.append(mde_pair)\n",
    "\n",
    "    dict_sim_all = {}\n",
    "    for i in range(len(ref_cls.cls_name)):\n",
    "        dict_sim_all[ref_cls.cls_name[i]] = {}\n",
    "        for j in range(len(stu_cls.cls_name)):\n",
    "            dict_sim_all[ref_cls.cls_name[i]][stu_cls.cls_name[j]] = similarity_all[i][\n",
    "                j\n",
    "            ]"
   ]
  },
  {
   "cell_type": "code",
   "execution_count": 4650,
   "metadata": {},
   "outputs": [],
   "source": [
    "with open(student_dir + \"ada_embedding.txt\", \"w\") as json_file:\n",
    "    json.dump(dict_sim_all, json_file)"
   ]
  },
  {
   "cell_type": "code",
   "execution_count": 4651,
   "metadata": {},
   "outputs": [
    {
     "data": {
      "text/plain": [
       "'results/gpt-4/sherpa/03_TSS/'"
      ]
     },
     "execution_count": 4651,
     "metadata": {},
     "output_type": "execute_result"
    }
   ],
   "source": [
    "student_dir"
   ]
  },
  {
   "cell_type": "code",
   "execution_count": 4652,
   "metadata": {},
   "outputs": [
    {
     "data": {
      "text/plain": [
       "['Position', 'ScoutingStatus', 'ScoutKind', 'TSS']"
      ]
     },
     "execution_count": 4652,
     "metadata": {},
     "output_type": "execute_result"
    }
   ],
   "source": [
    "ref_classes"
   ]
  },
  {
   "cell_type": "code",
   "execution_count": 4653,
   "metadata": {},
   "outputs": [
    {
     "data": {
      "text/plain": [
       "['TeamSportsScoutingSystem', 'TargetPosition', 'LongList', 'ShortList']"
      ]
     },
     "execution_count": 4653,
     "metadata": {},
     "output_type": "execute_result"
    }
   ],
   "source": [
    "stu_classes"
   ]
  },
  {
   "cell_type": "code",
   "execution_count": 4654,
   "metadata": {},
   "outputs": [
    {
     "data": {
      "text/plain": [
       "{'Position': {'Recommendation': 0.8079217823679182,\n",
       "  'TeamSportsScoutingSystem': 0.7627924089897553,\n",
       "  'Employee': 0.7735570692258937,\n",
       "  'Player': 0.78079911716202,\n",
       "  'Director': 0.7458105332807372,\n",
       "  'Scout': 0.7661538915803264,\n",
       "  'Club': 0.7945192168204267,\n",
       "  'Offer': 0.7671666748692328,\n",
       "  'ScoutingAssignment': 0.7608710646911971,\n",
       "  'ScoutingReport': 0.7442650719172951,\n",
       "  'PlayerProfile': 0.7565542817063662,\n",
       "  'PlayerAttribute': 0.7587910613700283,\n",
       "  'TargetPosition': 0.8072487722828308,\n",
       "  'LongList': 0.7361644064633082,\n",
       "  'HeadScout': 0.7665836102445983,\n",
       "  'ShortList': 0.7337331464538285},\n",
       " 'Recommendation': {'Recommendation': 0.9509893640672223,\n",
       "  'TeamSportsScoutingSystem': 0.7919031640443507,\n",
       "  'Employee': 0.7795864760540311,\n",
       "  'Player': 0.7909390961486967,\n",
       "  'Director': 0.750078656499594,\n",
       "  'Scout': 0.7666448741912515,\n",
       "  'Club': 0.7878305260469088,\n",
       "  'Offer': 0.7553860553050957,\n",
       "  'ScoutingAssignment': 0.7471938172486762,\n",
       "  'ScoutingReport': 0.815827470774207,\n",
       "  'PlayerProfile': 0.7807783450390694,\n",
       "  'PlayerAttribute': 0.7636412749368087,\n",
       "  'TargetPosition': 0.7409026343106756,\n",
       "  'LongList': 0.7162130973790346,\n",
       "  'HeadScout': 0.7690283679193959,\n",
       "  'ShortList': 0.7453569303683892},\n",
       " 'ScoutingStatus': {'Recommendation': 0.8360805844347934,\n",
       "  'TeamSportsScoutingSystem': 0.8091965037453404,\n",
       "  'Employee': 0.747109725916516,\n",
       "  'Player': 0.7394515830566906,\n",
       "  'Director': 0.7377062420272007,\n",
       "  'Scout': 0.8195710959578265,\n",
       "  'Club': 0.7627892200440731,\n",
       "  'Offer': 0.7766647827948348,\n",
       "  'ScoutingAssignment': 0.8101987170911004,\n",
       "  'ScoutingReport': 0.830114485534349,\n",
       "  'PlayerProfile': 0.7461220459706097,\n",
       "  'PlayerAttribute': 0.7252850143333551,\n",
       "  'TargetPosition': 0.7347992985377148,\n",
       "  'LongList': 0.7583435065660231,\n",
       "  'HeadScout': 0.8098657385229153,\n",
       "  'ShortList': 0.7814112604249933},\n",
       " 'ScoutKind': {'Recommendation': 0.7732638303056635,\n",
       "  'TeamSportsScoutingSystem': 0.7956937238149004,\n",
       "  'Employee': 0.7574278669836932,\n",
       "  'Player': 0.7626193925882137,\n",
       "  'Director': 0.7629491445979367,\n",
       "  'Scout': 0.878605906813444,\n",
       "  'Club': 0.7608686153285249,\n",
       "  'Offer': 0.7583945013875852,\n",
       "  'ScoutingAssignment': 0.8187573352419557,\n",
       "  'ScoutingReport': 0.7839102349480739,\n",
       "  'PlayerProfile': 0.7570965891360533,\n",
       "  'PlayerAttribute': 0.746878671009154,\n",
       "  'TargetPosition': 0.7349793448408717,\n",
       "  'LongList': 0.7398356462088561,\n",
       "  'HeadScout': 0.8861364451696835,\n",
       "  'ShortList': 0.7629951220575388},\n",
       " 'TSS': {'Recommendation': 0.7485522958949031,\n",
       "  'TeamSportsScoutingSystem': 0.7981135088120883,\n",
       "  'Employee': 0.7850169340938206,\n",
       "  'Player': 0.7511053781897066,\n",
       "  'Director': 0.7636750044316979,\n",
       "  'Scout': 0.788689273533173,\n",
       "  'Club': 0.7849852343032918,\n",
       "  'Offer': 0.7713463048228987,\n",
       "  'ScoutingAssignment': 0.7656775025011389,\n",
       "  'ScoutingReport': 0.7472157855482275,\n",
       "  'PlayerProfile': 0.7365800791328201,\n",
       "  'PlayerAttribute': 0.7342518942471284,\n",
       "  'TargetPosition': 0.7742743390145432,\n",
       "  'LongList': 0.7463440584804305,\n",
       "  'HeadScout': 0.7913295002928687,\n",
       "  'ShortList': 0.7698580163287126},\n",
       " 'abstract Person': {'Recommendation': 0.7566213395864047,\n",
       "  'TeamSportsScoutingSystem': 0.793096983412462,\n",
       "  'Employee': 0.8473986746704193,\n",
       "  'Player': 0.8590387488190985,\n",
       "  'Director': 0.8110544039629618,\n",
       "  'Scout': 0.8170704652618366,\n",
       "  'Club': 0.7968060105502711,\n",
       "  'Offer': 0.7915470976222995,\n",
       "  'ScoutingAssignment': 0.7922909342788782,\n",
       "  'ScoutingReport': 0.7746687351395778,\n",
       "  'PlayerProfile': 0.8432412210707957,\n",
       "  'PlayerAttribute': 0.8364451161693814,\n",
       "  'TargetPosition': 0.7882410918147014,\n",
       "  'LongList': 0.7794395150062149,\n",
       "  'HeadScout': 0.8216557176129707,\n",
       "  'ShortList': 0.7818277731484916},\n",
       " 'Player': {'Recommendation': 0.8196487721186152,\n",
       "  'TeamSportsScoutingSystem': 0.8494185515422518,\n",
       "  'Employee': 0.7940036596380369,\n",
       "  'Player': 0.8312282610055692,\n",
       "  'Director': 0.7702952518114943,\n",
       "  'Scout': 0.8651815286982287,\n",
       "  'Club': 0.8049451735361323,\n",
       "  'Offer': 0.7693409420884204,\n",
       "  'ScoutingAssignment': 0.8381625318309335,\n",
       "  'ScoutingReport': 0.8120229207989902,\n",
       "  'PlayerProfile': 0.8250627510149862,\n",
       "  'PlayerAttribute': 0.8014810482929027,\n",
       "  'TargetPosition': 0.7804519999330666,\n",
       "  'LongList': 0.7260065436841481,\n",
       "  'HeadScout': 0.8461524931136164,\n",
       "  'ShortList': 0.7479339357874012},\n",
       " 'HeadCoach': {'Recommendation': 0.8080690871442802,\n",
       "  'TeamSportsScoutingSystem': 0.8214764094168956,\n",
       "  'Employee': 0.8139235408448371,\n",
       "  'Player': 0.7964795289516099,\n",
       "  'Director': 0.8329124537618542,\n",
       "  'Scout': 0.8200303577971458,\n",
       "  'Club': 0.8288719634026843,\n",
       "  'Offer': 0.7759143706724991,\n",
       "  'ScoutingAssignment': 0.7936528478683591,\n",
       "  'ScoutingReport': 0.7749573171680624,\n",
       "  'PlayerProfile': 0.7889572126372703,\n",
       "  'PlayerAttribute': 0.7698634188769647,\n",
       "  'TargetPosition': 0.7682036635773557,\n",
       "  'LongList': 0.735347159605271,\n",
       "  'HeadScout': 0.8410615274348099,\n",
       "  'ShortList': 0.7536913162656982},\n",
       " 'Director': {'Recommendation': 0.781834077423405,\n",
       "  'TeamSportsScoutingSystem': 0.7602914351769332,\n",
       "  'Employee': 0.7975489512330667,\n",
       "  'Player': 0.7671470732144146,\n",
       "  'Director': 0.9213966389919513,\n",
       "  'Scout': 0.7794397312644457,\n",
       "  'Club': 0.7836892891847641,\n",
       "  'Offer': 0.7701371437731626,\n",
       "  'ScoutingAssignment': 0.7493291501785145,\n",
       "  'ScoutingReport': 0.7476606295134216,\n",
       "  'PlayerProfile': 0.7630418593189331,\n",
       "  'PlayerAttribute': 0.7467874215062807,\n",
       "  'TargetPosition': 0.7633786091936414,\n",
       "  'LongList': 0.7389748689013762,\n",
       "  'HeadScout': 0.794323897089922,\n",
       "  'ShortList': 0.7565590684941502},\n",
       " 'Scout': {'Recommendation': 0.7663113032934764,\n",
       "  'TeamSportsScoutingSystem': 0.8082722449947021,\n",
       "  'Employee': 0.7774030791815697,\n",
       "  'Player': 0.7755709132524431,\n",
       "  'Director': 0.7831676279089069,\n",
       "  'Scout': 0.9112397659961061,\n",
       "  'Club': 0.7812677467519104,\n",
       "  'Offer': 0.7728821233113942,\n",
       "  'ScoutingAssignment': 0.8310509039059409,\n",
       "  'ScoutingReport': 0.7898710709343194,\n",
       "  'PlayerProfile': 0.7667735147564009,\n",
       "  'PlayerAttribute': 0.7619032053106684,\n",
       "  'TargetPosition': 0.7464183972058143,\n",
       "  'LongList': 0.7398028038534926,\n",
       "  'HeadScout': 0.8670448462905532,\n",
       "  'ShortList': 0.7716822915557893},\n",
       " 'Club': {'Recommendation': 0.7970971709782938,\n",
       "  'TeamSportsScoutingSystem': 0.7905062459615626,\n",
       "  'Employee': 0.7917569253539409,\n",
       "  'Player': 0.7703756639872207,\n",
       "  'Director': 0.7773104984293373,\n",
       "  'Scout': 0.7814139386750204,\n",
       "  'Club': 0.9226628108309584,\n",
       "  'Offer': 0.7825698147181321,\n",
       "  'ScoutingAssignment': 0.7610854165902636,\n",
       "  'ScoutingReport': 0.7408593315644398,\n",
       "  'PlayerProfile': 0.7689764467204647,\n",
       "  'PlayerAttribute': 0.752147943893506,\n",
       "  'TargetPosition': 0.7408954843170754,\n",
       "  'LongList': 0.7347251518297295,\n",
       "  'HeadScout': 0.7699988099138698,\n",
       "  'ShortList': 0.7515760455397649},\n",
       " 'Offer': {'Recommendation': 0.736098961682567,\n",
       "  'TeamSportsScoutingSystem': 0.7372498135010608,\n",
       "  'Employee': 0.7861812893659751,\n",
       "  'Player': 0.769502304563732,\n",
       "  'Director': 0.7410237451037573,\n",
       "  'Scout': 0.7565495158567243,\n",
       "  'Club': 0.7806615302779076,\n",
       "  'Offer': 0.8818172097204012,\n",
       "  'ScoutingAssignment': 0.7431985487162118,\n",
       "  'ScoutingReport': 0.7122346662539353,\n",
       "  'PlayerProfile': 0.74730481341932,\n",
       "  'PlayerAttribute': 0.7721812580767528,\n",
       "  'TargetPosition': 0.7550302333931418,\n",
       "  'LongList': 0.7344644606784859,\n",
       "  'HeadScout': 0.7429292250875301,\n",
       "  'ShortList': 0.744909178646721},\n",
       " 'ScoutingAssignmnet': {'Recommendation': 0.7915945916437708,\n",
       "  'TeamSportsScoutingSystem': 0.8436633495538484,\n",
       "  'Employee': 0.7830408333449929,\n",
       "  'Player': 0.7659761789754672,\n",
       "  'Director': 0.7703278311160721,\n",
       "  'Scout': 0.8633030391903488,\n",
       "  'Club': 0.7864694406816638,\n",
       "  'Offer': 0.7732413502837058,\n",
       "  'ScoutingAssignment': 0.9253401412253939,\n",
       "  'ScoutingReport': 0.8252838568019056,\n",
       "  'PlayerProfile': 0.7572065414679282,\n",
       "  'PlayerAttribute': 0.7593106197825289,\n",
       "  'TargetPosition': 0.76910937709298,\n",
       "  'LongList': 0.7382626447409697,\n",
       "  'HeadScout': 0.8499353268795599,\n",
       "  'ShortList': 0.7638605471997648},\n",
       " 'ScoutReport': {'Recommendation': 0.814193668046421,\n",
       "  'TeamSportsScoutingSystem': 0.8317722796739275,\n",
       "  'Employee': 0.7640248416807617,\n",
       "  'Player': 0.7760843782239175,\n",
       "  'Director': 0.7607256190577519,\n",
       "  'Scout': 0.844813339470234,\n",
       "  'Club': 0.772225064301915,\n",
       "  'Offer': 0.7751150338508888,\n",
       "  'ScoutingAssignment': 0.8219632833481313,\n",
       "  'ScoutingReport': 0.9398786139095288,\n",
       "  'PlayerProfile': 0.7812536782186993,\n",
       "  'PlayerAttribute': 0.753868579888565,\n",
       "  'TargetPosition': 0.7413988599066488,\n",
       "  'LongList': 0.7353878666448754,\n",
       "  'HeadScout': 0.8240427202797351,\n",
       "  'ShortList': 0.7662790733867605},\n",
       " 'PlayerProfile': {'Recommendation': 0.7963927223798203,\n",
       "  'TeamSportsScoutingSystem': 0.7885575985793692,\n",
       "  'Employee': 0.8102875023907962,\n",
       "  'Player': 0.8543887309862661,\n",
       "  'Director': 0.7630212611919602,\n",
       "  'Scout': 0.7884836402566489,\n",
       "  'Club': 0.80122922712983,\n",
       "  'Offer': 0.7716279763355478,\n",
       "  'ScoutingAssignment': 0.7668575951947905,\n",
       "  'ScoutingReport': 0.7432584447392587,\n",
       "  'PlayerProfile': 0.9039625388213982,\n",
       "  'PlayerAttribute': 0.8292804171540231,\n",
       "  'TargetPosition': 0.8485801764110305,\n",
       "  'LongList': 0.7282980364178582,\n",
       "  'HeadScout': 0.7898934743855289,\n",
       "  'ShortList': 0.735399179512078},\n",
       " 'PlayerAttribute': {'Recommendation': 0.7712871293819789,\n",
       "  'TeamSportsScoutingSystem': 0.8048985408313359,\n",
       "  'Employee': 0.8238021245266446,\n",
       "  'Player': 0.9202531966114812,\n",
       "  'Director': 0.7698314514025696,\n",
       "  'Scout': 0.8118214010436303,\n",
       "  'Club': 0.7999219499899441,\n",
       "  'Offer': 0.80727062428437,\n",
       "  'ScoutingAssignment': 0.794855962317625,\n",
       "  'ScoutingReport': 0.7507537017153907,\n",
       "  'PlayerProfile': 0.8799320871936936,\n",
       "  'PlayerAttribute': 0.9509126599216616,\n",
       "  'TargetPosition': 0.8111739948080033,\n",
       "  'LongList': 0.7757463721329158,\n",
       "  'HeadScout': 0.7996418771552747,\n",
       "  'ShortList': 0.7745009314479212}}"
      ]
     },
     "execution_count": 4654,
     "metadata": {},
     "output_type": "execute_result"
    }
   ],
   "source": [
    "dict_sim_all"
   ]
  },
  {
   "cell_type": "code",
   "execution_count": 4655,
   "metadata": {
    "id": "0h_VDYCKdqHv"
   },
   "outputs": [
    {
     "name": "stdout",
     "output_type": "stream",
     "text": [
      "{'Position': {'Recommendation': 0.8079217823679182, 'TeamSportsScoutingSystem': 0.7627924089897553, 'Employee': 0.7735570692258937, 'Player': 0.78079911716202, 'Director': 0.7458105332807372, 'Scout': 0.7661538915803264, 'Club': 0.7945192168204267, 'Offer': 0.7671666748692328, 'ScoutingAssignment': 0.7608710646911971, 'ScoutingReport': 0.7442650719172951, 'PlayerProfile': 0.7565542817063662, 'PlayerAttribute': 0.7587910613700283, 'TargetPosition': 0.8072487722828308, 'LongList': 0.7361644064633082, 'HeadScout': 0.7665836102445983, 'ShortList': 0.7337331464538285}, 'Recommendation': {'Recommendation': 0.9509893640672223, 'TeamSportsScoutingSystem': 0.7919031640443507, 'Employee': 0.7795864760540311, 'Player': 0.7909390961486967, 'Director': 0.750078656499594, 'Scout': 0.7666448741912515, 'Club': 0.7878305260469088, 'Offer': 0.7553860553050957, 'ScoutingAssignment': 0.7471938172486762, 'ScoutingReport': 0.815827470774207, 'PlayerProfile': 0.7807783450390694, 'PlayerAttribute': 0.7636412749368087, 'TargetPosition': 0.7409026343106756, 'LongList': 0.7162130973790346, 'HeadScout': 0.7690283679193959, 'ShortList': 0.7453569303683892}, 'ScoutingStatus': {'Recommendation': 0.8360805844347934, 'TeamSportsScoutingSystem': 0.8091965037453404, 'Employee': 0.747109725916516, 'Player': 0.7394515830566906, 'Director': 0.7377062420272007, 'Scout': 0.8195710959578265, 'Club': 0.7627892200440731, 'Offer': 0.7766647827948348, 'ScoutingAssignment': 0.8101987170911004, 'ScoutingReport': 0.830114485534349, 'PlayerProfile': 0.7461220459706097, 'PlayerAttribute': 0.7252850143333551, 'TargetPosition': 0.7347992985377148, 'LongList': 0.7583435065660231, 'HeadScout': 0.8098657385229153, 'ShortList': 0.7814112604249933}, 'ScoutKind': {'Recommendation': 0.7732638303056635, 'TeamSportsScoutingSystem': 0.7956937238149004, 'Employee': 0.7574278669836932, 'Player': 0.7626193925882137, 'Director': 0.7629491445979367, 'Scout': 0.878605906813444, 'Club': 0.7608686153285249, 'Offer': 0.7583945013875852, 'ScoutingAssignment': 0.8187573352419557, 'ScoutingReport': 0.7839102349480739, 'PlayerProfile': 0.7570965891360533, 'PlayerAttribute': 0.746878671009154, 'TargetPosition': 0.7349793448408717, 'LongList': 0.7398356462088561, 'HeadScout': 0.8861364451696835, 'ShortList': 0.7629951220575388}, 'TSS': {'Recommendation': 0.7485522958949031, 'TeamSportsScoutingSystem': 0.7981135088120883, 'Employee': 0.7850169340938206, 'Player': 0.7511053781897066, 'Director': 0.7636750044316979, 'Scout': 0.788689273533173, 'Club': 0.7849852343032918, 'Offer': 0.7713463048228987, 'ScoutingAssignment': 0.7656775025011389, 'ScoutingReport': 0.7472157855482275, 'PlayerProfile': 0.7365800791328201, 'PlayerAttribute': 0.7342518942471284, 'TargetPosition': 0.7742743390145432, 'LongList': 0.7463440584804305, 'HeadScout': 0.7913295002928687, 'ShortList': 0.7698580163287126}, 'abstract Person': {'Recommendation': 0.7566213395864047, 'TeamSportsScoutingSystem': 0.793096983412462, 'Employee': 0.8473986746704193, 'Player': 0.8590387488190985, 'Director': 0.8110544039629618, 'Scout': 0.8170704652618366, 'Club': 0.7968060105502711, 'Offer': 0.7915470976222995, 'ScoutingAssignment': 0.7922909342788782, 'ScoutingReport': 0.7746687351395778, 'PlayerProfile': 0.8432412210707957, 'PlayerAttribute': 0.8364451161693814, 'TargetPosition': 0.7882410918147014, 'LongList': 0.7794395150062149, 'HeadScout': 0.8216557176129707, 'ShortList': 0.7818277731484916}, 'Player': {'Recommendation': 0.8196487721186152, 'TeamSportsScoutingSystem': 0.8494185515422518, 'Employee': 0.7940036596380369, 'Player': 0.8312282610055692, 'Director': 0.7702952518114943, 'Scout': 0.8651815286982287, 'Club': 0.8049451735361323, 'Offer': 0.7693409420884204, 'ScoutingAssignment': 0.8381625318309335, 'ScoutingReport': 0.8120229207989902, 'PlayerProfile': 0.8250627510149862, 'PlayerAttribute': 0.8014810482929027, 'TargetPosition': 0.7804519999330666, 'LongList': 0.7260065436841481, 'HeadScout': 0.8461524931136164, 'ShortList': 0.7479339357874012}, 'HeadCoach': {'Recommendation': 0.8080690871442802, 'TeamSportsScoutingSystem': 0.8214764094168956, 'Employee': 0.8139235408448371, 'Player': 0.7964795289516099, 'Director': 0.8329124537618542, 'Scout': 0.8200303577971458, 'Club': 0.8288719634026843, 'Offer': 0.7759143706724991, 'ScoutingAssignment': 0.7936528478683591, 'ScoutingReport': 0.7749573171680624, 'PlayerProfile': 0.7889572126372703, 'PlayerAttribute': 0.7698634188769647, 'TargetPosition': 0.7682036635773557, 'LongList': 0.735347159605271, 'HeadScout': 0.8410615274348099, 'ShortList': 0.7536913162656982}, 'Director': {'Recommendation': 0.781834077423405, 'TeamSportsScoutingSystem': 0.7602914351769332, 'Employee': 0.7975489512330667, 'Player': 0.7671470732144146, 'Director': 0.9213966389919513, 'Scout': 0.7794397312644457, 'Club': 0.7836892891847641, 'Offer': 0.7701371437731626, 'ScoutingAssignment': 0.7493291501785145, 'ScoutingReport': 0.7476606295134216, 'PlayerProfile': 0.7630418593189331, 'PlayerAttribute': 0.7467874215062807, 'TargetPosition': 0.7633786091936414, 'LongList': 0.7389748689013762, 'HeadScout': 0.794323897089922, 'ShortList': 0.7565590684941502}, 'Scout': {'Recommendation': 0.7663113032934764, 'TeamSportsScoutingSystem': 0.8082722449947021, 'Employee': 0.7774030791815697, 'Player': 0.7755709132524431, 'Director': 0.7831676279089069, 'Scout': 0.9112397659961061, 'Club': 0.7812677467519104, 'Offer': 0.7728821233113942, 'ScoutingAssignment': 0.8310509039059409, 'ScoutingReport': 0.7898710709343194, 'PlayerProfile': 0.7667735147564009, 'PlayerAttribute': 0.7619032053106684, 'TargetPosition': 0.7464183972058143, 'LongList': 0.7398028038534926, 'HeadScout': 0.8670448462905532, 'ShortList': 0.7716822915557893}, 'Club': {'Recommendation': 0.7970971709782938, 'TeamSportsScoutingSystem': 0.7905062459615626, 'Employee': 0.7917569253539409, 'Player': 0.7703756639872207, 'Director': 0.7773104984293373, 'Scout': 0.7814139386750204, 'Club': 0.9226628108309584, 'Offer': 0.7825698147181321, 'ScoutingAssignment': 0.7610854165902636, 'ScoutingReport': 0.7408593315644398, 'PlayerProfile': 0.7689764467204647, 'PlayerAttribute': 0.752147943893506, 'TargetPosition': 0.7408954843170754, 'LongList': 0.7347251518297295, 'HeadScout': 0.7699988099138698, 'ShortList': 0.7515760455397649}, 'Offer': {'Recommendation': 0.736098961682567, 'TeamSportsScoutingSystem': 0.7372498135010608, 'Employee': 0.7861812893659751, 'Player': 0.769502304563732, 'Director': 0.7410237451037573, 'Scout': 0.7565495158567243, 'Club': 0.7806615302779076, 'Offer': 0.8818172097204012, 'ScoutingAssignment': 0.7431985487162118, 'ScoutingReport': 0.7122346662539353, 'PlayerProfile': 0.74730481341932, 'PlayerAttribute': 0.7721812580767528, 'TargetPosition': 0.7550302333931418, 'LongList': 0.7344644606784859, 'HeadScout': 0.7429292250875301, 'ShortList': 0.744909178646721}, 'ScoutingAssignmnet': {'Recommendation': 0.7915945916437708, 'TeamSportsScoutingSystem': 0.8436633495538484, 'Employee': 0.7830408333449929, 'Player': 0.7659761789754672, 'Director': 0.7703278311160721, 'Scout': 0.8633030391903488, 'Club': 0.7864694406816638, 'Offer': 0.7732413502837058, 'ScoutingAssignment': 0.9253401412253939, 'ScoutingReport': 0.8252838568019056, 'PlayerProfile': 0.7572065414679282, 'PlayerAttribute': 0.7593106197825289, 'TargetPosition': 0.76910937709298, 'LongList': 0.7382626447409697, 'HeadScout': 0.8499353268795599, 'ShortList': 0.7638605471997648}, 'ScoutReport': {'Recommendation': 0.814193668046421, 'TeamSportsScoutingSystem': 0.8317722796739275, 'Employee': 0.7640248416807617, 'Player': 0.7760843782239175, 'Director': 0.7607256190577519, 'Scout': 0.844813339470234, 'Club': 0.772225064301915, 'Offer': 0.7751150338508888, 'ScoutingAssignment': 0.8219632833481313, 'ScoutingReport': 0.9398786139095288, 'PlayerProfile': 0.7812536782186993, 'PlayerAttribute': 0.753868579888565, 'TargetPosition': 0.7413988599066488, 'LongList': 0.7353878666448754, 'HeadScout': 0.8240427202797351, 'ShortList': 0.7662790733867605}, 'PlayerProfile': {'Recommendation': 0.7963927223798203, 'TeamSportsScoutingSystem': 0.7885575985793692, 'Employee': 0.8102875023907962, 'Player': 0.8543887309862661, 'Director': 0.7630212611919602, 'Scout': 0.7884836402566489, 'Club': 0.80122922712983, 'Offer': 0.7716279763355478, 'ScoutingAssignment': 0.7668575951947905, 'ScoutingReport': 0.7432584447392587, 'PlayerProfile': 0.9039625388213982, 'PlayerAttribute': 0.8292804171540231, 'TargetPosition': 0.8485801764110305, 'LongList': 0.7282980364178582, 'HeadScout': 0.7898934743855289, 'ShortList': 0.735399179512078}, 'PlayerAttribute': {'Recommendation': 0.7712871293819789, 'TeamSportsScoutingSystem': 0.8048985408313359, 'Employee': 0.8238021245266446, 'Player': 0.9202531966114812, 'Director': 0.7698314514025696, 'Scout': 0.8118214010436303, 'Club': 0.7999219499899441, 'Offer': 0.80727062428437, 'ScoutingAssignment': 0.794855962317625, 'ScoutingReport': 0.7507537017153907, 'PlayerProfile': 0.8799320871936936, 'PlayerAttribute': 0.9509126599216616, 'TargetPosition': 0.8111739948080033, 'LongList': 0.7757463721329158, 'HeadScout': 0.7996418771552747, 'ShortList': 0.7745009314479212}}\n"
     ]
    },
    {
     "data": {
      "text/plain": [
       "[('Position', 'TargetPosition'),\n",
       " ('ScoutingStatus', 'TeamSportsScoutingSystem'),\n",
       " ('ScoutKind', None),\n",
       " ('TSS', None),\n",
       " (None, 'LongList'),\n",
       " (None, 'ShortList')]"
      ]
     },
     "execution_count": 4655,
     "metadata": {},
     "output_type": "execute_result"
    }
   ],
   "source": [
    "mapping = match_classes(ref_classes, stu_classes, dict_sim_all, 0.8)\n",
    "mapping[0]"
   ]
  },
  {
   "cell_type": "code",
   "execution_count": 4656,
   "metadata": {
    "id": "c-JGkI6OgFFf"
   },
   "outputs": [],
   "source": [
    "for map in mapping[0]:\n",
    "    if map[0] and map[1]:\n",
    "        ref_cls.cls_atr[map[0]][\"score\"] = 1\n",
    "        ref_cls.cls_atr[map[0]][\"counterpart\"] = map[1]\n",
    "\n",
    "        stu_cls.cls_atr[map[1]][\"score\"] = 1\n",
    "        stu_cls.cls_atr[map[1]][\"counterpart\"] = map[0]\n",
    "\n",
    "        if ref_cls.cls_atr[map[0]][\"type\"] != stu_cls.cls_atr[map[1]][\"type\"]:\n",
    "            # type mismatch\n",
    "            ref_cls.cls_atr[map[0]][\"score\"] = 0.5\n",
    "            stu_cls.cls_atr[map[1]][\"score\"] = 0.5"
   ]
  },
  {
   "cell_type": "code",
   "execution_count": null,
   "metadata": {},
   "outputs": [],
   "source": []
  },
  {
   "cell_type": "markdown",
   "metadata": {
    "id": "AD1YW_WlcROJ"
   },
   "source": [
    "## Stage 2.1 Attribute mapping"
   ]
  },
  {
   "cell_type": "code",
   "execution_count": 4657,
   "metadata": {
    "id": "iscQC5FOiqGK"
   },
   "outputs": [],
   "source": [
    "def get_cosine_disntance(text1, text2, embedding):\n",
    "    avg = np.sum(embedding[text1], axis=0)\n",
    "    emb_i = avg / len(text1)\n",
    "\n",
    "    avg = np.sum(embedding[text2], axis=0)\n",
    "    emb_j = avg / len(text2)\n",
    "\n",
    "    return np.dot(emb_i, emb_j) / (np.linalg.norm(emb_i) * np.linalg.norm(emb_j))"
   ]
  },
  {
   "cell_type": "code",
   "execution_count": 4658,
   "metadata": {
    "id": "Y_pf4bzuhcWM"
   },
   "outputs": [],
   "source": [
    "def create_cosine_similarity_dict(attr_1, attr_2, embedding):\n",
    "    # attr_1: list[list] split camel case into separated case\n",
    "    # attr_2: list[list] split camel case into separated case\n",
    "    # embedding:\n",
    "    # raw_1: list[str] camcel case attributes\n",
    "    # raw_2: list[str] camcel case attributes\n",
    "\n",
    "    # create cosine distance between two attributes with embeeding\n",
    "\n",
    "    # >>> dic = createCosineDistance(['deviceStatus', 'deviceId'], ['id'], sgram_mde)\n",
    "    similarities = []\n",
    "    for att in attr_1:\n",
    "        emb_i = get_mde_embedding(att, embedding)\n",
    "        pair = []\n",
    "        for attribute in attr_2:\n",
    "            emb_j = get_mde_embedding(attribute, embedding)\n",
    "\n",
    "            sim = np.dot(emb_i, emb_j) / (np.linalg.norm(emb_i) * np.linalg.norm(emb_j))\n",
    "            pair.append(sim)\n",
    "\n",
    "        similarities.append(pair)\n",
    "\n",
    "    dict_attr = {}\n",
    "    for i in range(len(attr_1)):\n",
    "        dict_attr[attr_1[i]] = {}\n",
    "        for j in range(len(attr_2)):\n",
    "            dict_attr[attr_1[i]][attr_2[j]] = similarities[i][j]\n",
    "\n",
    "    return dict_attr"
   ]
  },
  {
   "cell_type": "code",
   "execution_count": 4659,
   "metadata": {
    "id": "3zgOAtMkjId5"
   },
   "outputs": [],
   "source": [
    "def match_attributes(raw_1, raw_2, dict_attr, threshold=0.5):\n",
    "    # map attributes lists raw_1 and raw_2\n",
    "    # >>> mapAttributes(['deviceStatus'], ['id'], dic)[0]\n",
    "    def node_subst_cost_attr(node1, node2):\n",
    "        # threshod as 0.45\n",
    "        if dict_attr[node1[\"name\"]][node2[\"name\"]] < threshold:\n",
    "            return 3\n",
    "        else:\n",
    "            return 1 - dict_attr[node1[\"name\"]][node2[\"name\"]]\n",
    "\n",
    "    G_att_1 = nx.Graph()\n",
    "    G_att_2 = nx.Graph()\n",
    "    for node in raw_1:\n",
    "        G_att_1.add_node(node, name=node)\n",
    "\n",
    "    for node in raw_2:\n",
    "        G_att_2.add_node(node, name=node)\n",
    "\n",
    "    for v in nx.optimize_edit_paths(\n",
    "        G_att_1,\n",
    "        G_att_2,\n",
    "        node_subst_cost=node_subst_cost_attr,\n",
    "        edge_match=None,\n",
    "        timeout=20,\n",
    "    ):\n",
    "        minv = v\n",
    "    # minv\n",
    "\n",
    "    return minv"
   ]
  },
  {
   "cell_type": "code",
   "execution_count": 4660,
   "metadata": {
    "id": "_DfPQzlrkIPr"
   },
   "outputs": [],
   "source": [
    "def check_attributes_type(attr_1, attr_2, ref_dict, stu_dict):\n",
    "    # given two attribute, compare whether their type can match\n",
    "    attr_1 = attr_1.split()  # from reference solution do not need to check it\n",
    "    attr_2 = attr_2.split()\n",
    "\n",
    "    # if enumerate literal and attributes\n",
    "    # if len(attr_1) != len(attr_2):\n",
    "    #   return 0.5, 0.5\n",
    "\n",
    "    # if an attributes use a regular class as its type\n",
    "    if len(attr_2) == 2:\n",
    "        t = attr_2[0].strip()\n",
    "        cls = stu_dict.get(t, None)\n",
    "        if cls is not None and (\n",
    "            stu_dict[t][\"type\"] == \"regular\" or stu_dict[t][\"type\"] == \"abstract\"\n",
    "        ):\n",
    "            return 0.5, 0.5\n",
    "\n",
    "    if len(attr_1) == 2 or len(attr_2) == 2:\n",
    "        t = attr_1[0].strip()\n",
    "        cls = ref_dict.get(t, None)\n",
    "        # print(cls)\n",
    "        t_2 = attr_2[0].strip()\n",
    "        cls_2 = stu_dict.get(t_2, None)\n",
    "        # print(cls_2)\n",
    "        if cls is not None:\n",
    "            if ref_dict[t][\"counterpart\"] != t_2:\n",
    "                return 0.5, 0.5\n",
    "        if cls_2 is not None:\n",
    "            if stu_dict[t_2][\"counterpart\"] != t:\n",
    "                return 0.5, 0.5\n",
    "\n",
    "    return 1, 1"
   ]
  },
  {
   "cell_type": "code",
   "execution_count": 4661,
   "metadata": {},
   "outputs": [
    {
     "data": {
      "text/plain": [
       "(1, 1)"
      ]
     },
     "execution_count": 4661,
     "metadata": {},
     "output_type": "execute_result"
    }
   ],
   "source": [
    "x = check_attributes_type(\n",
    "    (\"CommandStatus commandStatus\", \"ControllerStatus status\")[0],\n",
    "    (\"CommandStatus commandStatus\", \"ControllerStatus status\")[1],\n",
    "    ref_cls.cls_atr,\n",
    "    stu_cls.cls_atr,\n",
    ")\n",
    "x"
   ]
  },
  {
   "cell_type": "markdown",
   "metadata": {
    "id": "Aa4XV2BtjJyR"
   },
   "source": [
    "### Stage 2.1.1 Attribute <-> Attribute (mapped classes)"
   ]
  },
  {
   "cell_type": "code",
   "execution_count": 4662,
   "metadata": {
    "id": "AWTlbDOnrwK-"
   },
   "outputs": [
    {
     "name": "stdout",
     "output_type": "stream",
     "text": [
      "['Position', 'TargetPosition']\n",
      "mapping [('GK', None), ('LB', None), (None, 'string positionName')]\n",
      "====================\n",
      "['Recommendation', 'Recommendation']\n",
      "mapping [('KEY_PLAYER', 'KeyPlayer'), ('FIRST_TEAM_PLAYER', 'FirstTeamPlayer'), ('RESERVE_TEAM_PLAYER', 'ReserveTeamPlayer'), ('PROSPECTIVE_PLAYER', 'ProspectivePlayer'), ('NOT_RECOMMENDED', None), (None, 'NotAGoodSigning')]\n",
      "====================\n",
      "['ScoutingStatus', 'TeamSportsScoutingSystem']\n",
      "mapping [('LONG_LISTED', None), ('SHORT_LISTED', None), ('RECOMMENDED_FOR_SIGNING', None), ('OFFER_MADE', None), (None, 'string systemName')]\n",
      "====================\n",
      "['abstract Person', 'Employee']\n",
      "mapping [('string firstName', 'string employeeName'), ('string lastName', None)]\n",
      "====================\n",
      "['Player', 'Player']\n",
      "mapping [('ScoutingStatus status', None), (None, 'string playerName'), (None, 'string playerAttributes')]\n",
      "====================\n",
      "['HeadCoach', 'HeadScout']\n",
      "mapping [(None, 'string headScoutName')]\n",
      "====================\n",
      "['Director', 'Director']\n",
      "mapping [(None, 'string directorName')]\n",
      "====================\n",
      "['Scout', 'Scout']\n",
      "mapping [('ScoutKind scoutKind', 'string scoutName')]\n",
      "====================\n",
      "['Club', 'Club']\n",
      "mapping [(None, 'string clubName')]\n",
      "====================\n",
      "['Offer', 'Offer']\n",
      "mapping [('int value', 'string offerName')]\n",
      "====================\n",
      "['ScoutingAssignmnet', 'ScoutingAssignment']\n",
      "mapping [(None, 'string assignmentName')]\n",
      "====================\n",
      "['ScoutReport', 'ScoutingReport']\n",
      "mapping [('string pro', 'string reportName'), ('string con', 'string cons'), ('Recommendation recommendation', 'string recommendation'), (None, 'string pros')]\n",
      "====================\n",
      "['PlayerProfile', 'PlayerProfile']\n",
      "mapping [('Position position', None), (None, 'string profileName')]\n",
      "====================\n",
      "['PlayerAttribute', 'PlayerAttribute']\n",
      "mapping [('string name', 'string attributeName'), ('int value', 'string attributeValue')]\n",
      "====================\n"
     ]
    }
   ],
   "source": [
    "# map classes\n",
    "pairs = []\n",
    "\n",
    "# get matched pairs\n",
    "for key in ref_cls.cls_atr:\n",
    "    if ref_cls.cls_atr[key][\"counterpart\"] != None:\n",
    "        pair = [key, ref_cls.cls_atr[key][\"counterpart\"]]\n",
    "        pairs.append(pair)\n",
    "\n",
    "for pair in pairs:\n",
    "    if pair[0] and pair[1]:\n",
    "        print(pair)\n",
    "\n",
    "        # map attributes:\n",
    "        # matched_ref = set()\n",
    "        # matched_attr = set()\n",
    "\n",
    "        raw_1 = []\n",
    "        for attributes in ref_cls.cls_atr[pair[0]][\"attributes\"]:\n",
    "            raw_1.append(attributes)\n",
    "\n",
    "        raw_2 = []\n",
    "        for attributes in stu_cls.cls_atr[pair[1]][\"attributes\"]:\n",
    "            raw_2.append(attributes)\n",
    "\n",
    "        cos_dict = create_cosine_similarity_dict(raw_1, raw_2, sgram_mde)\n",
    "        mappings = match_attributes(raw_1, raw_2, cos_dict)[0]\n",
    "        print(\"mapping\", mappings)\n",
    "\n",
    "        for mapping in mappings:\n",
    "            if mapping[0] != None and mapping[1] != None:\n",
    "                scores = check_attributes_type(\n",
    "                    mapping[0], mapping[1], ref_cls.cls_atr, stu_cls.cls_atr\n",
    "                )\n",
    "                ref_cls.cls_atr[pair[0]][\"attributes\"][mapping[0]][\"score\"] = scores[0]\n",
    "                ref_cls.cls_atr[pair[0]][\"attributes\"][mapping[0]][\"counterpart\"] = (\n",
    "                    mapping[1],\n",
    "                    pair[1],\n",
    "                )\n",
    "                stu_cls.cls_atr[pair[1]][\"attributes\"][mapping[1]][\"score\"] = scores[1]\n",
    "                stu_cls.cls_atr[pair[1]][\"attributes\"][mapping[1]][\"counterpart\"] = (\n",
    "                    mapping[0],\n",
    "                    pair[0],\n",
    "                )\n",
    "\n",
    "        print(\"=\" * 20)"
   ]
  },
  {
   "cell_type": "markdown",
   "metadata": {
    "id": "w1MhcWsJ5oaH"
   },
   "source": [
    "### Stage 2.1.2 Attribute <-> Attribute (between any classes)"
   ]
  },
  {
   "cell_type": "code",
   "execution_count": 4663,
   "metadata": {
    "id": "h6Hg_bA7AozB"
   },
   "outputs": [],
   "source": [
    "def create_cosine_similarity_list(attr_1, attr_2, embedding):\n",
    "    # attr_1: list[list] split camel case into separated case\n",
    "    # attr_2: list[list] split camel case into separated case\n",
    "    # embedding:\n",
    "    # raw_1: list[str] camcel case attributes\n",
    "    # raw_2: list[str] camcel case attributes\n",
    "\n",
    "    # create cosine distance between two attributes with embeeding\n",
    "\n",
    "    # >>> dic = createCosineDistance(['deviceStatus', 'deviceId'], ['id'], sgram_mde)\n",
    "    similarities = []\n",
    "    for att in attr_1:\n",
    "        emb_i = get_mde_embedding(att, embedding)\n",
    "        pair = []\n",
    "        for attribute in attr_2:\n",
    "            emb_j = get_mde_embedding(attribute, embedding)\n",
    "\n",
    "            sim = np.dot(emb_i, emb_j) / (np.linalg.norm(emb_i) * np.linalg.norm(emb_j))\n",
    "            pair.append(sim)\n",
    "\n",
    "        similarities.append(pair)\n",
    "\n",
    "    return similarities"
   ]
  },
  {
   "cell_type": "code",
   "execution_count": 4664,
   "metadata": {
    "id": "MJjwB1h-9rgc"
   },
   "outputs": [],
   "source": [
    "def combine_two_dict(\n",
    "    list_1, list_2, atr_1, atr_2, cls_1, cls_2, weight_1=0.9, weight_2=0.1\n",
    "):\n",
    "    # list_1: similarity between cls\n",
    "    # list_2: cos similarity between attributes\n",
    "    if weight_1 + weight_2 != 1:\n",
    "        raise ValueError(\"weight_1 + weight_2 != 1\")\n",
    "    result = {}\n",
    "    for i in range(len(atr_1)):\n",
    "        atr_r = atr_1[i]\n",
    "        cls_r = cls_1[i]\n",
    "        tmp_ref = (atr_r, cls_r)\n",
    "        result[tmp_ref] = {}\n",
    "        for j in range(len(atr_2)):\n",
    "            atr_s = atr_2[j]\n",
    "            cls_s = cls_2[j]\n",
    "            tmp_stu = (atr_s, cls_s)\n",
    "\n",
    "            result[tmp_ref][tmp_stu] = weight_1 * list_1[i][j] + weight_2 * list_2[i][j]\n",
    "\n",
    "    return result"
   ]
  },
  {
   "cell_type": "code",
   "execution_count": 4665,
   "metadata": {
    "id": "ksyw3eTg5nLe"
   },
   "outputs": [
    {
     "name": "stdout",
     "output_type": "stream",
     "text": [
      "(('GK', 'Position'), None)\n",
      "(('LB', 'Position'), None)\n",
      "(('NOT_RECOMMENDED', 'Recommendation'), None)\n",
      "(('LONG_LISTED', 'ScoutingStatus'), None)\n",
      "(('SHORT_LISTED', 'ScoutingStatus'), None)\n",
      "(('RECOMMENDED_FOR_SIGNING', 'ScoutingStatus'), ('NotAGoodSigning', 'Recommendation'))\n",
      "(('OFFER_MADE', 'ScoutingStatus'), None)\n",
      "(('REGULAR_SCOUNT', 'ScoutKind'), ('string headScoutName', 'HeadScout'))\n",
      "(('HEAD_SCOUT', 'ScoutKind'), None)\n",
      "(('string lastName', 'abstract Person'), ('string systemName', 'TeamSportsScoutingSystem'))\n",
      "(('ScoutingStatus status', 'Player'), None)\n",
      "(('Position position', 'PlayerProfile'), ('string positionName', 'TargetPosition'))\n",
      "(None, ('string playerName', 'Player'))\n",
      "(None, ('string playerAttributes', 'Player'))\n",
      "(None, ('string directorName', 'Director'))\n",
      "(None, ('string clubName', 'Club'))\n",
      "(None, ('string assignmentName', 'ScoutingAssignment'))\n",
      "(None, ('string pros', 'ScoutingReport'))\n",
      "(None, ('string profileName', 'PlayerProfile'))\n",
      "(None, ('string longListName', 'LongList'))\n",
      "(None, ('string shortListName', 'ShortList'))\n",
      "====================\n"
     ]
    }
   ],
   "source": [
    "# attr between any classes\n",
    "\n",
    "raw_1 = []\n",
    "ref_source = []\n",
    "tup_r = []\n",
    "# get attributes on instrucotr sides\n",
    "for cls in ref_cls.cls_atr:\n",
    "    for attributes in ref_cls.cls_atr[cls][\"attributes\"]:\n",
    "        if ref_cls.cls_atr[cls][\"attributes\"][attributes][\"counterpart\"] == None:\n",
    "            raw_1.append(attributes)\n",
    "            ref_source.append(cls)\n",
    "            tup_r.append((attributes, cls))\n",
    "\n",
    "raw_2 = []\n",
    "stu_source = []\n",
    "tup_s = []\n",
    "# get attributes on student sides\n",
    "for cls in stu_cls.cls_atr:\n",
    "    for attributes in stu_cls.cls_atr[cls][\"attributes\"]:\n",
    "        if stu_cls.cls_atr[cls][\"attributes\"][attributes][\"counterpart\"] == None:\n",
    "            raw_2.append(attributes)\n",
    "            stu_source.append(cls)\n",
    "            tup_s.append((attributes, cls))\n",
    "\n",
    "list_1 = create_cosine_similarity_list(raw_1, raw_2, sgram_mde)\n",
    "list_2 = create_cosine_similarity_list(ref_source, stu_source, sgram_mde)\n",
    "combined = combine_two_dict(list_1, list_2, raw_1, raw_2, ref_source, stu_source)\n",
    "\n",
    "mappings = match_attributes(tup_r, tup_s, combined)[0]\n",
    "\n",
    "for mapping in mappings:\n",
    "    print(mapping)\n",
    "    if mapping[0] != None and mapping[1] != None:\n",
    "        scores = check_attributes_type(\n",
    "            mapping[0][0], mapping[1][0], ref_cls.cls_atr, stu_cls.cls_atr\n",
    "        )\n",
    "\n",
    "        ref_cls.cls_atr[mapping[0][1]][\"attributes\"][mapping[0][0]][\"score\"] = min(\n",
    "            scores[0], 0.5\n",
    "        )\n",
    "        ref_cls.cls_atr[mapping[0][1]][\"attributes\"][mapping[0][0]][\"counterpart\"] = (\n",
    "            mapping[1]\n",
    "        )\n",
    "\n",
    "        stu_cls.cls_atr[mapping[1][1]][\"attributes\"][mapping[1][0]][\"score\"] = min(\n",
    "            scores[1], 0.5\n",
    "        )\n",
    "        stu_cls.cls_atr[mapping[1][1]][\"attributes\"][mapping[1][0]][\"counterpart\"] = (\n",
    "            mapping[0]\n",
    "        )\n",
    "\n",
    "        if ref_cls.cls_atr[mapping[0][1]][\"counterpart\"] == mapping[1][1]:\n",
    "            ref_cls.cls_atr[mapping[0][1]][\"attributes\"][mapping[0][0]][\"score\"] = min(\n",
    "                scores[0], 1\n",
    "            )\n",
    "\n",
    "            stu_cls.cls_atr[mapping[1][1]][\"attributes\"][mapping[1][0]][\"score\"] = min(\n",
    "                scores[1], 1\n",
    "            )\n",
    "print(\"=\" * 20)"
   ]
  },
  {
   "cell_type": "markdown",
   "metadata": {
    "id": "z8jvTH1EcWAo"
   },
   "source": [
    "## Stage 2.2.1 Attribute mapping atr -> cls"
   ]
  },
  {
   "cell_type": "code",
   "execution_count": 4666,
   "metadata": {},
   "outputs": [
    {
     "name": "stdout",
     "output_type": "stream",
     "text": [
      "(('GK', 'Position'), None)\n",
      "(('LB', 'Position'), None)\n",
      "(('NOT_RECOMMENDED', 'Recommendation'), None)\n",
      "(('LONG_LISTED', 'ScoutingStatus'), None)\n",
      "(('SHORT_LISTED', 'ScoutingStatus'), None)\n",
      "(('OFFER_MADE', 'ScoutingStatus'), None)\n",
      "(('HEAD_SCOUT', 'ScoutKind'), None)\n",
      "(('ScoutingStatus status', 'Player'), None)\n",
      "(None, ('LongList', 'LongList'))\n",
      "(None, ('ShortList', 'ShortList'))\n",
      "====================\n"
     ]
    }
   ],
   "source": [
    "#  get non-mapped attributes on instrucotr side\n",
    "\n",
    "raw_1 = []\n",
    "ref_source = []\n",
    "tup_r = []\n",
    "# get attributes on instrucotr sides\n",
    "for cls in ref_cls.cls_atr:\n",
    "    for attributes in ref_cls.cls_atr[cls][\"attributes\"]:\n",
    "        if ref_cls.cls_atr[cls][\"attributes\"][attributes][\"counterpart\"] == None:\n",
    "            raw_1.append(attributes)\n",
    "            ref_source.append(cls)\n",
    "            tup_r.append((attributes, cls))\n",
    "\n",
    "raw_2 = []\n",
    "stu_source = []\n",
    "tup_s = []\n",
    "# get un-mapped class on student sides\n",
    "for cls in stu_cls.cls_atr:\n",
    "    if stu_cls.cls_atr[cls][\"counterpart\"] == None:\n",
    "        raw_2.append(cls)\n",
    "        stu_source.append(cls)\n",
    "        tup_s.append((cls, cls))\n",
    "\n",
    "list_1 = create_cosine_similarity_list(raw_1, raw_2, sgram_mde)\n",
    "list_2 = create_cosine_similarity_list(ref_source, stu_source, sgram_mde)\n",
    "combined = combine_two_dict(list_1, list_2, raw_1, raw_2, ref_source, stu_source)\n",
    "\n",
    "mappings = match_attributes(tup_r, tup_s, combined)[0]\n",
    "\n",
    "for mapping in mappings:\n",
    "    print(mapping)\n",
    "    if mapping[0] != None and mapping[1] != None:\n",
    "        # scores = check_attributes_type(mapping[0][0], mapping[1][0], ref_cls.cls_atr, stu_cls.cls_atr)\n",
    "        ref_cls.cls_atr[mapping[0][1]][\"attributes\"][mapping[0][0]][\"score\"] = 0.5\n",
    "        ref_cls.cls_atr[mapping[0][1]][\"attributes\"][mapping[0][0]][\"counterpart\"] = (\n",
    "            None,\n",
    "            mapping[1][1],\n",
    "        )\n",
    "\n",
    "        stu_cls.cls_atr[mapping[1][1]][\"score\"] = 0.5\n",
    "        stu_cls.cls_atr[mapping[1][1]][\"counterpart\"] = mapping[0]\n",
    "\n",
    "print(\"=\" * 20)"
   ]
  },
  {
   "cell_type": "markdown",
   "metadata": {
    "id": "RUqlTdHicb7A"
   },
   "source": [
    "## Stage 2.2.2 Attribute mapping cls -> atr"
   ]
  },
  {
   "cell_type": "code",
   "execution_count": 4667,
   "metadata": {},
   "outputs": [
    {
     "name": "stdout",
     "output_type": "stream",
     "text": [
      "(('ScoutKind', 'ScoutKind'), None)\n",
      "(('TSS', 'TSS'), None)\n",
      "(None, ('string playerName', 'Player'))\n",
      "(None, ('string playerAttributes', 'Player'))\n",
      "(None, ('string directorName', 'Director'))\n",
      "(None, ('string clubName', 'Club'))\n",
      "(None, ('string assignmentName', 'ScoutingAssignment'))\n",
      "(None, ('string pros', 'ScoutingReport'))\n",
      "(None, ('string profileName', 'PlayerProfile'))\n",
      "(None, ('string longListName', 'LongList'))\n",
      "(None, ('string shortListName', 'ShortList'))\n",
      "====================\n"
     ]
    }
   ],
   "source": [
    "#  get non-mapped cls on instrucotr side\n",
    "\n",
    "raw_1 = []\n",
    "ref_source = []\n",
    "tup_r = []\n",
    "# get class on instrucotr sides\n",
    "for cls in ref_cls.cls_atr:\n",
    "    if ref_cls.cls_atr[cls][\"counterpart\"] == None:\n",
    "        raw_1.append(cls)\n",
    "        ref_source.append(cls)\n",
    "        tup_r.append((cls, cls))\n",
    "\n",
    "raw_2 = []\n",
    "stu_source = []\n",
    "tup_s = []\n",
    "# get un-mapped class on student sides\n",
    "for cls in stu_cls.cls_atr:\n",
    "    for attributes in stu_cls.cls_atr[cls][\"attributes\"]:\n",
    "        if stu_cls.cls_atr[cls][\"attributes\"][attributes][\"counterpart\"] == None:\n",
    "            raw_2.append(attributes)\n",
    "            stu_source.append(cls)\n",
    "            tup_s.append((attributes, cls))\n",
    "\n",
    "list_1 = create_cosine_similarity_list(raw_1, raw_2, sgram_mde)\n",
    "list_2 = create_cosine_similarity_list(ref_source, stu_source, sgram_mde)\n",
    "combined = combine_two_dict(list_1, list_2, raw_1, raw_2, ref_source, stu_source)\n",
    "\n",
    "mappings = match_attributes(tup_r, tup_s, combined)[0]\n",
    "\n",
    "for mapping in mappings:\n",
    "    print(mapping)\n",
    "    if mapping[0] != None and mapping[1] != None:\n",
    "        # scores = check_attributes_type(mapping[0][0], mapping[1][0], ref_cls.cls_atr, stu_cls.cls_atr)\n",
    "        ref_cls.cls_atr[mapping[0][1]][\"score\"] = 0.5\n",
    "        ref_cls.cls_atr[mapping[0][1]][\"counterpart\"] = mapping[1]\n",
    "\n",
    "        stu_cls.cls_atr[mapping[1][1]][\"attributes\"][mapping[1][0]][\"score\"] = 0.5\n",
    "        stu_cls.cls_atr[mapping[1][1]][\"attributes\"][mapping[1][0]][\"counterpart\"] = (\n",
    "            None,\n",
    "            mapping[0][1],\n",
    "        )\n",
    "\n",
    "print(\"=\" * 20)"
   ]
  },
  {
   "cell_type": "code",
   "execution_count": null,
   "metadata": {},
   "outputs": [],
   "source": []
  },
  {
   "cell_type": "markdown",
   "metadata": {
    "id": "Nj29zba_g4b9"
   },
   "source": [
    "## Stage 3: Relationship mapping"
   ]
  },
  {
   "cell_type": "code",
   "execution_count": 4668,
   "metadata": {
    "id": "tcebf4Y10ZWF"
   },
   "outputs": [],
   "source": [
    "def check_relations_classes(ref_index, stu_index, ref_elements, stu_elements):\n",
    "    # ref_index: index of the element in the dsl\n",
    "    # stu_index: index of the element in the dsl\n",
    "    # ref_elements: list[str] elements in the dsl\n",
    "    # stu_elements: list[str] elements in the dsl\n",
    "\n",
    "    ref_class_1 = ref_elements[ref_index]\n",
    "    # check whether this is an abstract class\n",
    "    dict_keys = list(ref_attributes.keys())\n",
    "    if not ref_class_1 in dict_keys:\n",
    "        abstract = \"abstract \" + ref_class_1\n",
    "        ref_class_1 = abstract\n",
    "\n",
    "    true_pair = ref_attributes[ref_class_1][\"counterpart\"]\n",
    "    if isinstance(true_pair, tuple):\n",
    "        boolean_1 = False\n",
    "    elif true_pair == None:\n",
    "        boolean_1 = False\n",
    "    else:\n",
    "        tmp = true_pair.replace(\"abstract \", \"\")\n",
    "        boolean_1 = stu_elements[stu_index] == tmp\n",
    "    return boolean_1"
   ]
  },
  {
   "cell_type": "markdown",
   "metadata": {
    "id": "jOkmZADOQVKU"
   },
   "source": [
    "#### Compare rel"
   ]
  },
  {
   "cell_type": "code",
   "execution_count": 4669,
   "metadata": {
    "id": "W4LkPWHX0kRX"
   },
   "outputs": [],
   "source": [
    "def compare_edges(ref_e, stu_e):\n",
    "    # compare if two relationships match\n",
    "    # return bool, score, score\n",
    "\n",
    "    ref_elements = ref_e.split()\n",
    "    stu_elements = stu_e.split()\n",
    "    # print(ref_elements, stu_elements)\n",
    "\n",
    "    # exact match first\n",
    "    # length must match\n",
    "    n_ref = len(ref_elements)\n",
    "    n_stu = len(stu_elements)\n",
    "    if n_ref == n_stu and n_ref == 5:\n",
    "        # all element must match\n",
    "        boolean_1 = check_relations_classes(1, 1, ref_elements, stu_elements)\n",
    "\n",
    "        boolean_4 = check_relations_classes(4, 4, ref_elements, stu_elements)\n",
    "\n",
    "        # type\n",
    "        boolean_2 = ref_elements[2] == stu_elements[2]\n",
    "\n",
    "        # association\n",
    "        boolean_0 = ref_elements[0] == stu_elements[0]\n",
    "\n",
    "        # association\n",
    "        boolean_3 = ref_elements[3] == stu_elements[3]\n",
    "\n",
    "        if boolean_0 and boolean_1 and boolean_2 and boolean_3 and boolean_4:\n",
    "            print(\"exact match success\")\n",
    "            print(ref_e, \"|||\", stu_e)\n",
    "            return True, 1, 1\n",
    "\n",
    "        boolean_1_4 = False\n",
    "        boolean_4_1 = False\n",
    "        boolean_1_4 = check_relations_classes(1, 4, ref_elements, stu_elements)\n",
    "        boolean_4_1 = check_relations_classes(4, 1, ref_elements, stu_elements)\n",
    "\n",
    "        # check if the relationship is fliped, this only works for associate, not containment\n",
    "        if \"associate\" in ref_elements[2] and \"associate\" in stu_elements[2]:\n",
    "            # association\n",
    "            boolean_0 = ref_elements[0] == stu_elements[3]\n",
    "\n",
    "            # association\n",
    "            boolean_3 = ref_elements[3] == stu_elements[0]\n",
    "\n",
    "        if boolean_0 and boolean_1_4 and boolean_3 and boolean_4_1 and boolean_2:\n",
    "            print(\"match success, flipped associate\")\n",
    "            print(ref_e, \"|||\", stu_e)\n",
    "            return True, 1, 1\n",
    "\n",
    "        # check if relationship is partially match\n",
    "        if (boolean_1 and boolean_4) or (boolean_1_4 and boolean_4_1):\n",
    "            print(\"match partially success\")\n",
    "            print(ref_e, \"|||\", stu_e)\n",
    "            return True, 0.5, 0.5\n",
    "\n",
    "    if n_ref == n_stu and n_ref == 3:\n",
    "        # all element must match\n",
    "        boolean_0 = check_relations_classes(0, 0, ref_elements, stu_elements)\n",
    "        boolean_2 = check_relations_classes(2, 2, ref_elements, stu_elements)\n",
    "\n",
    "        # type\n",
    "        boolean_1 = ref_elements[1] == stu_elements[1]\n",
    "\n",
    "        if boolean_0 and boolean_1 and boolean_2:\n",
    "            print(\"match success\")\n",
    "            print(ref_e, \"|||\", stu_e)\n",
    "            # ref_dict[ref_e][\"score\"] = 1\n",
    "            # ref_dict[ref_e][\"counterpart\"] = stu_e\n",
    "\n",
    "            # stu_dict[stu_e][\"score\"] = 1\n",
    "            # stu_dict[stu_e][\"counterpart\"] = ref_e\n",
    "            return True, 1, 1\n",
    "\n",
    "    return False, 0, 0"
   ]
  },
  {
   "cell_type": "code",
   "execution_count": 4670,
   "metadata": {
    "id": "Ts1dyVvI0qZL"
   },
   "outputs": [],
   "source": [
    "for i, ref_tmp in enumerate(edges[0].raw_dsl):\n",
    "    matchings = []\n",
    "    for j, stu_tmp in enumerate(edges[1].raw_dsl):\n",
    "        if (\n",
    "            edges[0].rels[i][\"counterpart\"] is None\n",
    "            and edges[1].rels[j][\"counterpart\"] is None\n",
    "        ):\n",
    "            result = compare_edges(ref_tmp, stu_tmp)\n",
    "            if result[0]:\n",
    "                matching = (i, j, result[1], result[2])\n",
    "                matchings.append(matching)\n",
    "                # matched_stu_edges.add(j)\n",
    "                # matched_ref_edges.add(i)\n",
    "                # edges[0].rels[i][\"score\"] = result[1]\n",
    "                # edges[0].rels[i][\"counterpart\"] = stu_tmp\n",
    "\n",
    "                # edges[1].rels[j][\"score\"] = result[2]\n",
    "                # edges[1].rels[j][\"counterpart\"] = ref_tmp\n",
    "    print(matchings)\n",
    "    if len(matchings) > 0:\n",
    "        print()\n",
    "        highest_score = 0\n",
    "        matching = None\n",
    "\n",
    "        for m in matchings:\n",
    "            if m[2] > highest_score:\n",
    "                matching = m\n",
    "                highest_score = m[2]\n",
    "        j_j = matching[1]\n",
    "        i_i = matching[0]\n",
    "\n",
    "        edges[0].rels[i_i][\"score\"] = m[2]\n",
    "        edges[0].rels[i_i][\"counterpart\"] = edges[1].raw_dsl[j_j]\n",
    "\n",
    "        edges[1].rels[j_j][\"score\"] = m[3]\n",
    "        edges[1].rels[j_j][\"counterpart\"] = edges[0].raw_dsl[i_i]"
   ]
  },
  {
   "cell_type": "markdown",
   "metadata": {
    "id": "zVK8inUYg-4A"
   },
   "source": [
    "## Result: Precision/Recall/F1"
   ]
  },
  {
   "cell_type": "markdown",
   "metadata": {},
   "source": [
    "### save matching to disk"
   ]
  },
  {
   "cell_type": "code",
   "execution_count": 4671,
   "metadata": {},
   "outputs": [],
   "source": [
    "if not os.path.exists(student_out_dir):\n",
    "    os.makedirs(student_out_dir)"
   ]
  },
  {
   "cell_type": "code",
   "execution_count": 4672,
   "metadata": {},
   "outputs": [],
   "source": [
    "# with open( student_out_dir + 'matching.pkl', 'wb') as outp:\n",
    "#     pickle.dump(grader, outp, pickle.HIGHEST_PROTOCOL)"
   ]
  },
  {
   "cell_type": "code",
   "execution_count": 4673,
   "metadata": {},
   "outputs": [
    {
     "data": {
      "text/plain": [
       "'results/gpt-4/sherpa/03_TSS/result/'"
      ]
     },
     "execution_count": 4673,
     "metadata": {},
     "output_type": "execute_result"
    }
   ],
   "source": [
    "student_out_dir"
   ]
  },
  {
   "cell_type": "code",
   "execution_count": 4674,
   "metadata": {},
   "outputs": [],
   "source": [
    "# as requested in comment\n",
    "\n",
    "with open(student_out_dir + \"solution_matching.txt\", \"w\") as file:\n",
    "    file.write(json.dumps(grader.ref.cls_atr))\n",
    "\n",
    "\n",
    "with open(student_out_dir + \"student_matching.txt\", \"w\") as file:\n",
    "    file.write(json.dumps(grader.stu.cls_atr))\n",
    "\n",
    "with open(student_out_dir + \"solution_matching_relationship.txt\", \"w\") as file:\n",
    "    file.write(json.dumps(grader.ref.rel.rels))\n",
    "\n",
    "\n",
    "with open(student_out_dir + \"student_matching_relationship.txt\", \"w\") as file:\n",
    "    file.write(json.dumps(grader.stu.rel.rels))"
   ]
  },
  {
   "cell_type": "code",
   "execution_count": 4675,
   "metadata": {},
   "outputs": [
    {
     "data": {
      "text/plain": [
       "'results/gpt-4/sherpa/03_TSS/result/'"
      ]
     },
     "execution_count": 4675,
     "metadata": {},
     "output_type": "execute_result"
    }
   ],
   "source": [
    "student_out_dir"
   ]
  },
  {
   "cell_type": "markdown",
   "metadata": {},
   "source": [
    "###### to local"
   ]
  },
  {
   "cell_type": "code",
   "execution_count": 4676,
   "metadata": {},
   "outputs": [],
   "source": [
    "# # # be careful...\n",
    "\n",
    "# with open(student_dir + \"human_eval/\" + 'ref_meta_cls.py', 'w') as file:\n",
    "#     file.write(json.dumps(grader.ref.cls_atr))\n",
    "\n",
    "\n",
    "# with open(student_dir + \"human_eval/\" + 'stu_meta_cls.py', 'w') as file:\n",
    "#     file.write(json.dumps(grader.stu.cls_atr))\n",
    "\n",
    "# with open(student_dir + \"human_eval/\" + 'ref_meta_rels.py', 'w') as file:\n",
    "#     file.write(json.dumps(grader.ref.rel.rels))\n",
    "\n",
    "\n",
    "# with open(student_dir + \"human_eval/\" + 'stu_meta_rels.py', 'w') as file:\n",
    "#     file.write(json.dumps(grader.stu.rel.rels))"
   ]
  },
  {
   "cell_type": "code",
   "execution_count": 4677,
   "metadata": {},
   "outputs": [],
   "source": [
    "algo_result = {}\n",
    "algo_result[\"class\"] = {\"precision\": 0, \"recall\": 0, \"f1\": 0}\n",
    "algo_result[\"attribute\"] = {\"precision\": 0, \"recall\": 0, \"f1\": 0}\n",
    "algo_result[\"relationship\"] = {\"precision\": 0, \"recall\": 0, \"f1\": 0}"
   ]
  },
  {
   "cell_type": "markdown",
   "metadata": {
    "id": "qCEg2NRm1hA3"
   },
   "source": [
    "### Class"
   ]
  },
  {
   "cell_type": "code",
   "execution_count": 4678,
   "metadata": {
    "id": "JOA-f9jC1foa"
   },
   "outputs": [
    {
     "name": "stdout",
     "output_type": "stream",
     "text": [
      "16 12.5\n"
     ]
    }
   ],
   "source": [
    "# recell\n",
    "count = 0\n",
    "recall = 0\n",
    "for key in list(ref_attributes.keys()):\n",
    "    count += 1\n",
    "    recall += ref_attributes[key][\"score\"]\n",
    "print(count, recall)\n",
    "\n",
    "if count != 0:\n",
    "    algo_result[\"class\"][\"recall\"] = recall / count"
   ]
  },
  {
   "cell_type": "code",
   "execution_count": 4679,
   "metadata": {
    "id": "AbAnFeeM1l4s"
   },
   "outputs": [
    {
     "name": "stdout",
     "output_type": "stream",
     "text": [
      "16 12.5\n"
     ]
    }
   ],
   "source": [
    "# precision\n",
    "count = 0\n",
    "precision = 0\n",
    "for key in list(stu_attributes.keys()):\n",
    "    count += 1\n",
    "    precision += stu_attributes[key][\"score\"]\n",
    "\n",
    "print(count, precision)\n",
    "if count != 0:\n",
    "    algo_result[\"class\"][\"precision\"] = precision / count\n",
    "\n",
    "if algo_result[\"class\"][\"recall\"] + algo_result[\"class\"][\"precision\"] != 0:\n",
    "    algo_result[\"class\"][\"f1\"] = (\n",
    "        2\n",
    "        * (algo_result[\"class\"][\"recall\"] * algo_result[\"class\"][\"precision\"])\n",
    "        / (algo_result[\"class\"][\"recall\"] + algo_result[\"class\"][\"precision\"])\n",
    "    )"
   ]
  },
  {
   "cell_type": "markdown",
   "metadata": {
    "id": "gDH3PsL21unk"
   },
   "source": [
    "### Attribute"
   ]
  },
  {
   "cell_type": "code",
   "execution_count": 4680,
   "metadata": {
    "id": "67CLMQ6j10Wx"
   },
   "outputs": [
    {
     "name": "stdout",
     "output_type": "stream",
     "text": [
      "24 13.0\n"
     ]
    }
   ],
   "source": [
    "# recall\n",
    "count = 0\n",
    "recall = 0\n",
    "for key in list(ref_attributes.keys()):\n",
    "    attrs = ref_attributes[key][\"attributes\"]\n",
    "\n",
    "    for att in attrs:\n",
    "        count += 1\n",
    "        recall += ref_attributes[key][\"attributes\"][att][\"score\"]\n",
    "print(count, recall)\n",
    "\n",
    "if count != 0:\n",
    "    algo_result[\"attribute\"][\"recall\"] = recall / count"
   ]
  },
  {
   "cell_type": "code",
   "execution_count": 4681,
   "metadata": {
    "id": "7MIGD7kS12JT"
   },
   "outputs": [
    {
     "name": "stdout",
     "output_type": "stream",
     "text": [
      "25 13.0\n"
     ]
    }
   ],
   "source": [
    "count = 0\n",
    "precision = 0\n",
    "for key in list(stu_attributes.keys()):\n",
    "    attrs = stu_attributes[key][\"attributes\"]\n",
    "\n",
    "    for att in attrs:\n",
    "        count += 1\n",
    "        precision += stu_attributes[key][\"attributes\"][att][\"score\"]\n",
    "print(count, precision)\n",
    "\n",
    "if count != 0:\n",
    "    algo_result[\"attribute\"][\"precision\"] = precision / count\n",
    "\n",
    "r = algo_result[\"attribute\"][\"recall\"]\n",
    "p = algo_result[\"attribute\"][\"precision\"]\n",
    "\n",
    "if r + p != 0:\n",
    "    algo_result[\"attribute\"][\"f1\"] = 2 * (r * p) / (r + p)"
   ]
  },
  {
   "cell_type": "markdown",
   "metadata": {
    "id": "qWYSO_N415V0"
   },
   "source": [
    "### Relationship"
   ]
  },
  {
   "cell_type": "code",
   "execution_count": 4682,
   "metadata": {
    "id": "PkuCKrzF17CR"
   },
   "outputs": [
    {
     "name": "stdout",
     "output_type": "stream",
     "text": [
      "0 0\n"
     ]
    }
   ],
   "source": [
    "count = 0\n",
    "recall = 0\n",
    "for tmp in edges[0].rels:\n",
    "    attrs = tmp[\"score\"]\n",
    "\n",
    "    count += 1\n",
    "    recall += attrs\n",
    "print(count, recall)\n",
    "\n",
    "if count != 0:\n",
    "    algo_result[\"relationship\"][\"recall\"] = recall / count"
   ]
  },
  {
   "cell_type": "code",
   "execution_count": 4683,
   "metadata": {
    "id": "XZE-uCOM2ATr"
   },
   "outputs": [
    {
     "name": "stdout",
     "output_type": "stream",
     "text": [
      "0 0\n"
     ]
    }
   ],
   "source": [
    "count = 0\n",
    "precision = 0\n",
    "for tmp in edges[1].rels:\n",
    "    attrs = tmp[\"score\"]\n",
    "\n",
    "    count += 1\n",
    "    precision += attrs\n",
    "print(count, precision)\n",
    "\n",
    "if count != 0:\n",
    "    algo_result[\"relationship\"][\"precision\"] = precision / count\n",
    "r = algo_result[\"relationship\"][\"recall\"]\n",
    "p = algo_result[\"relationship\"][\"precision\"]\n",
    "\n",
    "if r + p != 0:\n",
    "    algo_result[\"relationship\"][\"f1\"] = 2 * (r * p) / (r + p)"
   ]
  },
  {
   "cell_type": "code",
   "execution_count": 4684,
   "metadata": {},
   "outputs": [],
   "source": [
    "# as requested in comment\n",
    "\n",
    "with open(student_out_dir + \"algo_result.txt\", \"w\") as file:\n",
    "    file.write(json.dumps(algo_result))"
   ]
  }
 ],
 "metadata": {
  "colab": {
   "collapsed_sections": [
    "pBpCEgQV82Nj",
    "MOMw2WnS8p6h",
    "_UPG9p99KA6q",
    "7D5Je00s8p6i",
    "V84BIi42N3vb",
    "AD1YW_WlcROJ",
    "-lWeUly08p6j",
    "Qt34Gd8g8p6o"
   ],
   "provenance": [],
   "toc_visible": true
  },
  "kernelspec": {
   "display_name": "m38",
   "language": "python",
   "name": "python3"
  },
  "language_info": {
   "codemirror_mode": {
    "name": "ipython",
    "version": 3
   },
   "file_extension": ".py",
   "mimetype": "text/x-python",
   "name": "python",
   "nbconvert_exporter": "python",
   "pygments_lexer": "ipython3",
   "version": "3.8.18"
  }
 },
 "nbformat": 4,
 "nbformat_minor": 0
}
