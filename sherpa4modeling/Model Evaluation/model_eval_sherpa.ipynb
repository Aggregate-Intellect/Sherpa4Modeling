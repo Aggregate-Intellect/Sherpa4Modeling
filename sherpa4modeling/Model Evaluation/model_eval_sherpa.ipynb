{
 "cells": [
  {
   "cell_type": "markdown",
   "metadata": {
    "id": "pBpCEgQV82Nj"
   },
   "source": [
    "# Set up"
   ]
  },
  {
   "cell_type": "code",
   "execution_count": 3603,
   "metadata": {},
   "outputs": [],
   "source": [
    "from worde4mde import load_embeddings\n",
    "sgram_mde = load_embeddings('sgram-mde')"
   ]
  },
  {
   "cell_type": "code",
   "execution_count": 3604,
   "metadata": {},
   "outputs": [
    {
     "data": {
      "text/plain": [
       "array([ 0.14674647,  0.42704162,  0.17717203,  0.05179158,  0.38020504,\n",
       "       -0.00091264,  0.02094162,  0.00924711, -0.13806985,  0.1403339 ,\n",
       "       -0.0953936 , -0.03681302,  0.38122246, -0.03746711, -0.17595871,\n",
       "       -0.02031669,  0.23675247,  0.27676958, -0.07487358, -0.1987225 ,\n",
       "        0.02015282,  0.05147164, -0.223504  ,  0.00699752, -0.06145973,\n",
       "        0.00920826,  0.01364714,  0.10218145, -0.25330105, -0.14080754,\n",
       "        0.2541444 ,  0.4577827 , -0.16825216, -0.08050938,  0.11404785,\n",
       "       -0.38822263, -0.06395938, -0.4724689 , -0.00111705,  0.27869806,\n",
       "        0.28032073,  0.02976846, -0.01675524,  0.09774698,  0.18298927,\n",
       "       -0.24398401, -0.3238438 ,  0.01912955,  0.11861664,  0.08640955,\n",
       "        0.18799016, -0.06891091, -0.03893414, -0.04862301,  0.02151174,\n",
       "       -0.39205688, -0.23195332, -0.09532862, -0.01324714, -0.24555108,\n",
       "        0.09372689, -0.21971853, -0.26171875, -0.3605202 , -0.07306654,\n",
       "       -0.16288763,  0.12160088,  0.11416717,  0.17378834, -0.04977667,\n",
       "       -0.02417112, -0.13736062,  0.10142291,  0.14622003, -0.06097897,\n",
       "        0.0110862 ,  0.05240794,  0.15037489,  0.01547078,  0.35214952,\n",
       "       -0.15471339,  0.5516976 ,  0.02722004,  0.02725664,  0.23240256,\n",
       "        0.05949455, -0.44269025, -0.13142551,  0.06569727,  0.35366765,\n",
       "        0.0054803 ,  0.31536654, -0.09254798, -0.15512526, -0.0875922 ,\n",
       "        0.11746775, -0.28369817,  0.09341916, -0.00101699,  0.04416016,\n",
       "       -0.07782371,  0.02029933, -0.22690448, -0.12364466, -0.03259058,\n",
       "        0.22620802, -0.21208178,  0.263114  ,  0.39393342, -0.15680021,\n",
       "        0.22134748,  0.35054302,  0.06579161,  0.35725534, -0.17017011,\n",
       "        0.15412103,  0.26485255, -0.18039705,  0.64513373, -0.19044282,\n",
       "        0.05683825,  0.3352058 , -0.02149567,  0.08801293, -0.08748423,\n",
       "       -0.17109865, -0.14135368,  0.10019533, -0.3675318 ,  0.00882045,\n",
       "        0.16446897, -0.41429162, -0.00912068,  0.40898782,  0.02396349,\n",
       "        0.04935403, -0.43389502,  0.13081332,  0.42163405, -0.01841845,\n",
       "        0.08077876,  0.29817823,  0.15492964,  0.15107153,  0.04632611,\n",
       "       -0.5162636 , -0.4262554 ,  0.4967304 ,  0.26285887, -0.02183742,\n",
       "        0.15454406, -0.15592995, -0.3154367 ,  0.19769375, -0.40255702,\n",
       "        0.5028242 , -0.12623732,  0.04818065, -0.00665806,  0.0951322 ,\n",
       "       -0.13625342, -0.18664543,  0.03917297, -0.13414499, -0.21604219,\n",
       "       -0.17906193,  0.08638127, -0.0697468 ,  0.32579476, -0.03519589,\n",
       "       -0.1119362 , -0.08318598, -0.14666392,  0.15051971,  0.1680534 ,\n",
       "       -0.1643881 ,  0.00266754,  0.05763746,  0.01020493,  0.11781339,\n",
       "        0.03850262,  0.11651297, -0.19016212, -0.24033345,  0.24375466,\n",
       "       -0.12184826,  0.29208905,  0.28852615, -0.13238004, -0.02661056,\n",
       "       -0.09076066, -0.25580582,  0.09068189,  0.14338125, -0.03469551,\n",
       "       -0.01255474, -0.28556666,  0.27322152,  0.25480196,  0.067168  ,\n",
       "       -0.1661719 ,  0.07038358,  0.2961011 ,  0.39964455, -0.24441637,\n",
       "       -0.14219673,  0.4223389 ,  0.08920322, -0.5007695 ,  0.22100608,\n",
       "       -0.04162686,  0.07493343, -0.37272817, -0.08913708, -0.05271813,\n",
       "        0.07073972,  0.03486674,  0.01831518, -0.18682544,  0.24017447,\n",
       "        0.04472353, -0.21995458, -0.09560642,  0.05616789, -0.09767775,\n",
       "        0.46399042,  0.26137525, -0.2067443 , -0.20870632, -0.12792471,\n",
       "       -0.32071748, -0.00343737,  0.00869052, -0.17461683,  0.11852369,\n",
       "       -0.23727247,  0.16901173,  0.1390128 ,  0.19200057,  0.07023092,\n",
       "        0.10720899, -0.3680233 , -0.00385552,  0.30061063, -0.0638096 ,\n",
       "        0.15909314,  0.49717936, -0.02870842,  0.04373342, -0.03065694,\n",
       "       -0.03803138, -0.07179781,  0.1352796 ,  0.1206585 ,  0.28997678,\n",
       "       -0.22211125,  0.07451916, -0.4530426 , -0.12867354,  0.25162628,\n",
       "       -0.04360061, -0.01631085,  0.02732887,  0.26878425, -0.25473082,\n",
       "       -0.0563923 ,  0.47035375, -0.1539718 , -0.08114478,  0.3599968 ,\n",
       "        0.01964958,  0.00155073, -0.13521218, -0.04892039,  0.05788288,\n",
       "       -0.29886478,  0.00960886, -0.23544846, -0.46280792,  0.05992502,\n",
       "       -0.42226458,  0.31675085, -0.01231112,  0.15420774, -0.55189675,\n",
       "       -0.08054933,  0.24695848,  0.19135405,  0.2637137 ,  0.2340654 ,\n",
       "        0.05448505, -0.5442373 , -0.01433846,  0.35339138, -0.1810006 ,\n",
       "       -0.07710031, -0.04899847, -0.14326005, -0.2965767 , -0.10492669],\n",
       "      dtype=float32)"
      ]
     },
     "execution_count": 3604,
     "metadata": {},
     "output_type": "execute_result"
    }
   ],
   "source": [
    "word = 'ecore'\n",
    "sgram_mde[word]"
   ]
  },
  {
   "cell_type": "code",
   "execution_count": 3605,
   "metadata": {},
   "outputs": [],
   "source": [
    "# import pickle\n",
    "\n",
    "import ast\n",
    "import pandas as pd\n",
    "import numpy as np\n",
    "\n",
    "from worde4mde import load_embeddings\n",
    "import re\n",
    "\n",
    "import os\n",
    "import openai\n",
    "from openai import OpenAI\n",
    "import json\n",
    "\n",
    "import networkx as nx\n",
    "import sys\n"
   ]
  },
  {
   "cell_type": "code",
   "execution_count": 3606,
   "metadata": {},
   "outputs": [],
   "source": [
    "from dotenv import load_dotenv\n",
    "\n",
    "# %%\n",
    "\n",
    "load_dotenv()\n",
    "\n",
    "openai_key = os.getenv('openai_key')\n",
    "os.environ['OPENAI_API_KEY'] = openai_key"
   ]
  },
  {
   "cell_type": "markdown",
   "metadata": {},
   "source": [
    "## Input"
   ]
  },
  {
   "cell_type": "code",
   "execution_count": 3607,
   "metadata": {},
   "outputs": [
    {
     "data": {
      "text/plain": [
       "'results/gpt-4/sherpa/08_HBMS/result/'"
      ]
     },
     "execution_count": 3607,
     "metadata": {},
     "output_type": "execute_result"
    }
   ],
   "source": [
    "##### update here to change input file directory ######\n",
    "##### update here to change input file directory ######\n",
    "##### update here to change input file directory ######\n",
    "##### update here to change input file directory ######\n",
    "\n",
    "instructor_dir = \"results/\"\n",
    "\n",
    "# 01_LabTracker\n",
    "# 02_CelO\n",
    "# 03_TSS\n",
    "# 04_SHAS\n",
    "# 05_OTS\n",
    "# 06_Block\n",
    "# 07_Tile\n",
    "# 08_HBMS\n",
    "problem_id = \"01_LabTracker\"\n",
    "\n",
    "# location of reference domain model is stored. It is in .txt format\n",
    "instructor_input = instructor_dir + problem_id + \".txt\"\n",
    "\n",
    "# gpt-4o-mini\n",
    "# gpt-4\n",
    "# gpt-4o\n",
    "llm_id = \"gpt-4\"\n",
    "\n",
    "# yujing\n",
    "# sherpa\n",
    "method_id = \"yujing\"\n",
    "\n",
    "student_dir = instructor_dir + llm_id + '/' + method_id + '/' + problem_id + '/'\n",
    "if not os.path.exists(student_dir):\n",
    "    # Create the directory\n",
    "    os.makedirs(student_dir)\n",
    "    \n",
    "# location of generated domain model is saved. The file should be in .txt    \n",
    "student_input = student_dir + problem_id + \".txt\"\n",
    "student_input\n",
    "student_out_dir = student_dir + \"result/\"\n",
    "student_out_dir"
   ]
  },
  {
   "cell_type": "code",
   "execution_count": 3608,
   "metadata": {
    "colab": {
     "base_uri": "https://localhost:8080/",
     "height": 408
    },
    "id": "4wrNW7WHaq87",
    "outputId": "8b57cb37-45b8-4bac-860c-b6e933a5c239"
   },
   "outputs": [],
   "source": [
    "# First of all, you need to load the embeddings (currently supported: 'sgram-mde' and 'glove-mde')\n",
    "sgram_mde = load_embeddings('sgram-mde')\n",
    "# glove = load_embeddings('glove-mde')\n",
    "# sgram_mde[\"id\"]"
   ]
  },
  {
   "cell_type": "code",
   "execution_count": 3609,
   "metadata": {},
   "outputs": [],
   "source": [
    "# word = 'id'\n",
    "# sgram_mde.most_similar(positive=[word])"
   ]
  },
  {
   "cell_type": "code",
   "execution_count": 3610,
   "metadata": {
    "id": "GnemiQCKo1uA"
   },
   "outputs": [],
   "source": [
    "def inEmbedding(word, embedding):\n",
    "  try:\n",
    "    return True, embedding[word]\n",
    "  except:\n",
    "    return False, None"
   ]
  },
  {
   "cell_type": "code",
   "execution_count": 3611,
   "metadata": {
    "id": "tYrP3rmxLQ3o"
   },
   "outputs": [
    {
     "data": {
      "text/plain": [
       "['device', 'ID']"
      ]
     },
     "execution_count": 3611,
     "metadata": {},
     "output_type": "execute_result"
    }
   ],
   "source": [
    "\n",
    "def splitCamelCase(word):\n",
    "  splitted = re.sub('([A-Z][a-z]+)', r' \\1', re.sub('([A-Z]+)', r' \\1', word)).split()\n",
    "  return splitted\n",
    "\n",
    "splitCamelCase(\"device ID\")"
   ]
  },
  {
   "cell_type": "code",
   "execution_count": 3612,
   "metadata": {},
   "outputs": [
    {
     "data": {
      "text/plain": [
       "['Command', 'Status']"
      ]
     },
     "execution_count": 3612,
     "metadata": {},
     "output_type": "execute_result"
    }
   ],
   "source": [
    "splitCamelCase(\"CommandStatus\")"
   ]
  },
  {
   "cell_type": "code",
   "execution_count": 3613,
   "metadata": {
    "id": "YJ7yNdA488Vm"
   },
   "outputs": [],
   "source": [
    "# client = OpenAI()\n",
    "\n",
    "# def run_llm(prompt, model =\"gpt-3.5-turbo\"):\n",
    "#   response = client.chat.completions.create(\n",
    "#     model=model,\n",
    "#     messages=[\n",
    "#       {\"role\": \"user\", \"content\": prompt},\n",
    "\n",
    "#     ]\n",
    "#   )\n",
    "#   return response.choices[0].message.content"
   ]
  },
  {
   "cell_type": "code",
   "execution_count": 3614,
   "metadata": {
    "id": "0Juq9RcN9BcX"
   },
   "outputs": [],
   "source": [
    "client = OpenAI()\n",
    "\n",
    "def get_embedding(text, model=\"text-embedding-ada-002\"):\n",
    "   text = text.replace(\"\\n\", \" \")\n",
    "   return client.embeddings.create(input = [text], model=model).data[0].embedding"
   ]
  },
  {
   "cell_type": "code",
   "execution_count": 3615,
   "metadata": {
    "id": "-qddd_ct9lDV"
   },
   "outputs": [],
   "source": [
    "def get_all_info(class_index, class_nodes, list_of_classes, list_edges, need_edge = True):\n",
    "  result = ''\n",
    "  result +=  list_of_classes[class_index] + \"\\n\"\n",
    "  node = class_nodes[class_index]\n",
    "  if \"abstract\" in node:\n",
    "      node = node.replace(\"abstract\", \"\").strip()\n",
    "  if \"Abstract\" in node:\n",
    "      node = node.replace(\"Abstract\", \"\").strip()\n",
    "  if need_edge:\n",
    "    for edge in list_edges:\n",
    "      element = [i.strip() for i in edge.split()]\n",
    "      if node in element:\n",
    "        result += edge + \"\\n\"\n",
    "\n",
    "  return  result"
   ]
  },
  {
   "cell_type": "code",
   "execution_count": 3616,
   "metadata": {
    "id": "PF1WvdorJYa8"
   },
   "outputs": [],
   "source": [
    "def match_classes(raw_1, raw_2, dict_attr, thresh = 0.5, verbose = False):\n",
    "  # raw_1: nodes from reference solution\n",
    "  # raw_2: nodes from student solution\n",
    "  # dict_attr: dictionary for embeddings\n",
    "  # thresh for subst cost\n",
    "  # map class lists raw_1 and raw_2\n",
    "  print(dict_attr)\n",
    "  def node_subst_cost_attr(node1, node2):\n",
    "    # threshod as 0.45\n",
    "    if dict_attr[node1[\"name\"]][node2[\"name\"]] < thresh:\n",
    "      return 3\n",
    "    else:\n",
    "      return 1-dict_attr[node1[\"name\"]][node2[\"name\"]]\n",
    "    \n",
    "\n",
    "\n",
    "  G_att_1 = nx.Graph()\n",
    "  G_att_2 = nx.Graph()\n",
    "  for node in raw_1:\n",
    "    G_att_1.add_node(node, name = node)\n",
    "\n",
    "  for node in raw_2:\n",
    "    G_att_2.add_node(node, name = node)\n",
    "\n",
    "  for v in nx.optimize_edit_paths(G_att_1, G_att_2, node_subst_cost=node_subst_cost_attr, edge_match=None, timeout = 20):\n",
    "      minv = v\n",
    "  # minv\n",
    "\n",
    "  return minv"
   ]
  },
  {
   "cell_type": "markdown",
   "metadata": {
    "id": "y7GUzcWW8p6a"
   },
   "source": [
    "# Group"
   ]
  },
  {
   "cell_type": "code",
   "execution_count": 3617,
   "metadata": {
    "id": "ADtI3209Oy52"
   },
   "outputs": [],
   "source": [
    "class Grader():\n",
    "  def __init__(self):\n",
    "    self.ref = None\n",
    "    self.stu = None"
   ]
  },
  {
   "cell_type": "code",
   "execution_count": 3618,
   "metadata": {
    "id": "qvUpWnJVC-9P"
   },
   "outputs": [],
   "source": [
    "grader = Grader()"
   ]
  },
  {
   "cell_type": "markdown",
   "metadata": {
    "id": "MOMw2WnS8p6h"
   },
   "source": [
    "## Class"
   ]
  },
  {
   "cell_type": "markdown",
   "metadata": {
    "id": "_UPG9p99KA6q"
   },
   "source": [
    "### Define metadata"
   ]
  },
  {
   "cell_type": "code",
   "execution_count": 3619,
   "metadata": {
    "id": "IaR1jGbEKCq4"
   },
   "outputs": [],
   "source": [
    "class ModelInfo():\n",
    "\n",
    "  def __init(self):\n",
    "    self.cls_atr = {}\n",
    "    self.cls_name = []\n",
    "    self.raw_dsl = []\n",
    "    self.rel = None"
   ]
  },
  {
   "cell_type": "code",
   "execution_count": 3620,
   "metadata": {
    "id": "4-b5m2ovKZDg"
   },
   "outputs": [],
   "source": [
    "ref_cls = ModelInfo()\n",
    "stu_cls = ModelInfo()"
   ]
  },
  {
   "cell_type": "code",
   "execution_count": 3621,
   "metadata": {
    "id": "bviDqFkT42Tc"
   },
   "outputs": [],
   "source": [
    "grader.ref = ref_cls\n",
    "grader.stu = stu_cls"
   ]
  },
  {
   "cell_type": "code",
   "execution_count": 3622,
   "metadata": {},
   "outputs": [],
   "source": [
    "with open(instructor_input, 'r') as file:\n",
    "    # Read the entire content of the file\n",
    "    instructor_all = file.read()\n",
    "\n",
    "with open(student_input, 'r') as file:\n",
    "    # Read the entire content of the file\n",
    "    student_all = file.read()"
   ]
  },
  {
   "cell_type": "code",
   "execution_count": 3623,
   "metadata": {},
   "outputs": [
    {
     "name": "stdout",
     "output_type": "stream",
     "text": [
      "Enumerations:\n",
      "RoomType(SINGLE, DOUBLE, TWIN)\n",
      "BookingStatus(FINALIZED, CONFIRMED, CANCELLED_BY_HBMS, PRELIMINARY, CANCELLED_BY_TRAVELLER, CANCELLED_BY_HOTEL)\n",
      "PaymentType (PREPAID, PAID_AT_HOTEL)\n",
      "\n",
      "Classes:\n",
      "HotelBookingManager()\n",
      "HotelChain()\n",
      "\n",
      "Traveller (string name, int reliabilityRating)\n",
      "\n",
      "BillingInformation(string companyName, string address)\n",
      "TravelPreference(string preference, string value)\n",
      "Hotel (string city, string country, string area)\n",
      "abstract Offer()\n",
      "SpecialOffer()\n",
      "RegularOffer()\n",
      "TravelSearch()\n",
      "SearchInfo()\n",
      "RoomAvailability()\n",
      "abstract TripInfo(int numberOfRooms, RoomType roomType, date arrivalDate, date departureDate, float budgetPerNight)\n",
      "BookingInfo()\n",
      "Booking (int bookingId, date cancellationDeadline, string creditCardNumber, BookingStatus bookingStatus, PaymentType paymentType, date confirmationDate, float paidAmount)\n",
      "\n",
      "\n",
      "Relationships:\n",
      "\n"
     ]
    }
   ],
   "source": [
    "print(instructor_all)"
   ]
  },
  {
   "cell_type": "code",
   "execution_count": 3624,
   "metadata": {},
   "outputs": [
    {
     "name": "stdout",
     "output_type": "stream",
     "text": [
      "Enumerations:\n",
      "\n",
      "\n",
      "Classes:\n",
      "\n",
      "HBMS(string city, date arrivalDate, date departureDate, int numberOfRooms, string roomType, int hotelRating, float budget, boolean travelPreferences)\n",
      "BusinessTraveller(string name, string companyName, string address, boolean travelPreferences, int reliabilityRating)\n",
      "\n",
      "\n",
      "\n",
      "Hotel(string name, string address, int hotelRating, string roomType, boolean availability)\n",
      "\n",
      "SpecialOffer(float price, string cityArea, int hotelRating, string keyPreferences)\n",
      "\n",
      "\n",
      "\n",
      "Room(string type, int number)\n",
      "\n",
      "\n",
      "Booking(string city, date arrivalDate, date departureDate, int numberOfRooms, string roomType, float price, string uniqueBookingIdentifier, float financialCompensation)\n",
      "AccommodationDeal(string city, date arrivalDate, date departureDate, int numberOfRooms, string roomType, int hotelRating, float budget)\n",
      "Confirmation(boolean confirmed, date confirmationDate)\n",
      "\n",
      "\n",
      "Relationships:\n",
      "\n"
     ]
    }
   ],
   "source": [
    "print(student_all)"
   ]
  },
  {
   "cell_type": "code",
   "execution_count": 3625,
   "metadata": {},
   "outputs": [],
   "source": [
    "shas_sol = instructor_all.split(\"Relationships:\")[0]\n",
    "stu_sol_g =  student_all.split(\"Relationships:\")[0] # student solution"
   ]
  },
  {
   "cell_type": "code",
   "execution_count": 3626,
   "metadata": {
    "id": "PHb2yzli8p6h"
   },
   "outputs": [],
   "source": [
    "ref_classes_raw = []\n",
    "tmp = shas_sol.strip().splitlines()\n",
    "ref_classes_raw = [i.strip() for i in tmp if len(i) > 0]\n",
    "ref_classes_raw\n",
    "\n",
    "reference_class = []\n",
    "tmp = shas_sol.strip().splitlines()\n",
    "reference_class = [i.split(\"(\")[0].strip() for i in tmp if len(i) > 0]"
   ]
  },
  {
   "cell_type": "code",
   "execution_count": 3627,
   "metadata": {
    "id": "zR4naxeW8p6h"
   },
   "outputs": [
    {
     "data": {
      "text/plain": [
       "['Enumerations:',\n",
       " 'Classes:',\n",
       " 'HBMS',\n",
       " 'BusinessTraveller',\n",
       " 'Hotel',\n",
       " 'SpecialOffer',\n",
       " 'Room',\n",
       " 'Booking',\n",
       " 'AccommodationDeal',\n",
       " 'Confirmation']"
      ]
     },
     "execution_count": 3627,
     "metadata": {},
     "output_type": "execute_result"
    }
   ],
   "source": [
    "stu_classes_raw = []\n",
    "tmp = stu_sol_g.strip().splitlines()\n",
    "stu_classes_raw = [i.strip() for i in tmp if len(i) > 0]\n",
    "stu_classes_raw\n",
    "\n",
    "tmp = stu_sol_g.strip().splitlines()\n",
    "stu_class = [i.split(\"(\")[0].strip() for i in tmp if len(i) > 0]\n",
    "stu_class"
   ]
  },
  {
   "cell_type": "code",
   "execution_count": 3628,
   "metadata": {
    "id": "Kt4R2geh8p6h"
   },
   "outputs": [],
   "source": [
    "ref_attributes = {}\n",
    "enum_index = ref_classes_raw.index(\"Enumerations:\")\n",
    "regular_index = ref_classes_raw.index(\"Classes:\")\n",
    "for cla, dsl in zip(reference_class, ref_classes_raw):\n",
    "  if dsl == \"Enumerations:\" or dsl == \"Classes:\":\n",
    "    continue\n",
    "  else:\n",
    "    index = ref_classes_raw.index(dsl)\n",
    "    if index > regular_index:\n",
    "      class_type = \"regular\"\n",
    "      if \"abstract\" in dsl:\n",
    "        class_type = \"abstract\"\n",
    "    else:\n",
    "      class_type = \"enum\"\n",
    "    ref_attributes[cla] = {\"score\": 0, \"type\":class_type, \"dsl\":dsl, \"counterpart\": None, \"attributes\": {}}\n",
    "\n",
    "    attributes = dsl.split(\"(\")[1][:-1].split(\",\")\n",
    "    for attr in attributes:\n",
    "      attr = attr.strip()\n",
    "      if len(attr) > 0:\n",
    "        ref_attributes[cla][\"attributes\"][attr] = {\"score\":0, \"counterpart\": None}"
   ]
  },
  {
   "cell_type": "code",
   "execution_count": 3629,
   "metadata": {
    "id": "L_TGf3xW8p6i"
   },
   "outputs": [],
   "source": [
    "reference_class.remove(\"Enumerations:\")\n",
    "reference_class.remove(\"Classes:\")\n",
    "\n",
    "ref_classes_raw.remove(\"Enumerations:\")\n",
    "ref_classes_raw.remove(\"Classes:\")"
   ]
  },
  {
   "cell_type": "code",
   "execution_count": 3630,
   "metadata": {
    "id": "6WI2xkurLJTq"
   },
   "outputs": [],
   "source": [
    "ref_cls.cls_name = reference_class\n",
    "ref_cls.raw_dsl = ref_classes_raw\n",
    "ref_cls.cls_atr = ref_attributes"
   ]
  },
  {
   "cell_type": "code",
   "execution_count": 3631,
   "metadata": {
    "id": "nkxF3Yda8p6i"
   },
   "outputs": [
    {
     "name": "stdout",
     "output_type": "stream",
     "text": [
      "HBMS(string city, date arrivalDate, date departureDate, int numberOfRooms, string roomType, int hotelRating, float budget, boolean travelPreferences)\n",
      "BusinessTraveller(string name, string companyName, string address, boolean travelPreferences, int reliabilityRating)\n",
      "Hotel(string name, string address, int hotelRating, string roomType, boolean availability)\n",
      "SpecialOffer(float price, string cityArea, int hotelRating, string keyPreferences)\n",
      "Room(string type, int number)\n",
      "Booking(string city, date arrivalDate, date departureDate, int numberOfRooms, string roomType, float price, string uniqueBookingIdentifier, float financialCompensation)\n",
      "AccommodationDeal(string city, date arrivalDate, date departureDate, int numberOfRooms, string roomType, int hotelRating, float budget)\n",
      "Confirmation(boolean confirmed, date confirmationDate)\n"
     ]
    }
   ],
   "source": [
    "stu_attributes = {}\n",
    "enum_index = stu_classes_raw.index(\"Enumerations:\")\n",
    "regular_index = stu_classes_raw.index(\"Classes:\")\n",
    "\n",
    "for cla, dsl in zip(stu_class, stu_classes_raw):\n",
    "  if dsl == \"Enumerations:\" or dsl == \"Classes:\":\n",
    "    continue\n",
    "  else:\n",
    "    index = stu_classes_raw.index(dsl)\n",
    "    if index > regular_index:\n",
    "      class_type = \"regular\"\n",
    "      if \"abstract\" in dsl:\n",
    "        class_type = \"abstract\"\n",
    "    else:\n",
    "      class_type = \"enum\"\n",
    "\n",
    "    stu_attributes[cla] = {\"score\": 0, \"type\":class_type, \"dsl\":dsl, \"counterpart\": None, \"attributes\": {}}\n",
    "\n",
    "    print(dsl)\n",
    "    attributes = dsl.split(\"(\")[1][:-1].split(\",\")\n",
    "    for attr in attributes:\n",
    "      attr = attr.strip()\n",
    "      if len(attr) > 0:\n",
    "        stu_attributes[cla][\"attributes\"][attr] = {\"score\":0, \"counterpart\": None}"
   ]
  },
  {
   "cell_type": "code",
   "execution_count": 3632,
   "metadata": {
    "id": "iK3ITyIW8p6i"
   },
   "outputs": [],
   "source": [
    "stu_class.remove(\"Enumerations:\")\n",
    "stu_class.remove(\"Classes:\")\n",
    "\n",
    "stu_classes_raw.remove(\"Enumerations:\")\n",
    "stu_classes_raw.remove(\"Classes:\")"
   ]
  },
  {
   "cell_type": "code",
   "execution_count": 3633,
   "metadata": {
    "id": "-DjOKJ1wNNdt"
   },
   "outputs": [],
   "source": [
    "stu_cls.cls_name = stu_class\n",
    "stu_cls.raw_dsl = stu_classes_raw\n",
    "stu_cls.cls_atr = stu_attributes"
   ]
  },
  {
   "cell_type": "markdown",
   "metadata": {
    "id": "dblsT4MS8p6i"
   },
   "source": [
    "## Edges"
   ]
  },
  {
   "cell_type": "markdown",
   "metadata": {
    "id": "7D5Je00s8p6i"
   },
   "source": [
    "### reference and student solutions"
   ]
  },
  {
   "cell_type": "code",
   "execution_count": 3634,
   "metadata": {},
   "outputs": [],
   "source": [
    "shas_edges = instructor_all.split(\"Relationships:\")[1]\n",
    "shas_G2_edges =  student_all.split(\"Relationships:\")[1] # student solution"
   ]
  },
  {
   "cell_type": "code",
   "execution_count": 3635,
   "metadata": {},
   "outputs": [
    {
     "data": {
      "text/plain": [
       "'\\n'"
      ]
     },
     "execution_count": 3635,
     "metadata": {},
     "output_type": "execute_result"
    }
   ],
   "source": [
    "shas_edges"
   ]
  },
  {
   "cell_type": "code",
   "execution_count": 3636,
   "metadata": {},
   "outputs": [
    {
     "data": {
      "text/plain": [
       "'\\n'"
      ]
     },
     "execution_count": 3636,
     "metadata": {},
     "output_type": "execute_result"
    }
   ],
   "source": [
    "shas_edges"
   ]
  },
  {
   "cell_type": "code",
   "execution_count": 3637,
   "metadata": {
    "id": "9ShLk-8_8p6i"
   },
   "outputs": [],
   "source": [
    "shas_edges = shas_edges.replace(\"0..*\",\"*\")"
   ]
  },
  {
   "cell_type": "code",
   "execution_count": 3638,
   "metadata": {
    "id": "54aKqVt58p6j"
   },
   "outputs": [],
   "source": [
    "shas_G2_edges = shas_G2_edges.replace(\"0..*\",\"*\")"
   ]
  },
  {
   "cell_type": "code",
   "execution_count": 3639,
   "metadata": {
    "id": "onsbAmwq8p6j"
   },
   "outputs": [],
   "source": [
    "tmp = shas_edges.strip().splitlines()\n",
    "ref_edges = [i.strip() for i in tmp if len(i) > 0]\n",
    "\n",
    "for i in ref_edges:\n",
    "  length = len(i.split())\n",
    "  if length == 5 or length == 3:\n",
    "    pass\n",
    "  else:\n",
    "    print(\"Reference Length error:\", i)\n",
    "\n",
    "tmp = shas_G2_edges.strip().splitlines()\n",
    "stu_edges = [i.strip() for i in tmp if len(i) > 0]\n",
    "\n",
    "for i in stu_edges:\n",
    "  length = len(i.split())\n",
    "  if length == 5 or length == 3:\n",
    "    pass\n",
    "  else:\n",
    "    print(\"Student Length error:\", i)\n",
    "\n"
   ]
  },
  {
   "cell_type": "code",
   "execution_count": 3640,
   "metadata": {
    "id": "MqopbetK8p6j"
   },
   "outputs": [],
   "source": [
    "class Relationship:\n",
    "  def __init__(self):\n",
    "    self.rels = [] # list of dict{}\n",
    "    self.raw_dsl = []\n",
    "  # find first non-matched or matched reltionshipi given dsl\n",
    "  def find_relation(self, dsl, matched = False):\n",
    "    for index, i in enumerate(self.rels):\n",
    "      if i[\"dsl\"] == dsl and i[\"counterpart\"] is None:\n",
    "        return index, i\n",
    "\n",
    "    return None"
   ]
  },
  {
   "cell_type": "code",
   "execution_count": 3641,
   "metadata": {
    "id": "lznKb5N28p6j"
   },
   "outputs": [],
   "source": [
    "ref_edges_obj = Relationship()\n",
    "stu_edges_obj = Relationship()\n",
    "\n",
    "\n",
    "ref_edges_dict = []\n",
    "for e in ref_edges:\n",
    "  ref_edges_dict.append({\"dsl\":e,\"score\":0, \"counterpart\": None})\n",
    "\n",
    "ref_edges_obj.rels = ref_edges_dict\n",
    "ref_edges_obj.raw_dsl = ref_edges\n",
    "\n",
    "stu_edges_dict = []\n",
    "for e in stu_edges:\n",
    "  stu_edges_dict.append({\"dsl\":e,\"score\":0, \"counterpart\": None})\n",
    "\n",
    "stu_edges_obj.rels = stu_edges_dict\n",
    "stu_edges_obj.raw_dsl = stu_edges"
   ]
  },
  {
   "cell_type": "code",
   "execution_count": 3642,
   "metadata": {
    "id": "oxwZDyyDaibf"
   },
   "outputs": [],
   "source": [
    "# link to classInfo object\n",
    "ref_cls.rel = ref_edges_obj\n",
    "stu_cls.rel = stu_edges_obj"
   ]
  },
  {
   "cell_type": "code",
   "execution_count": 3643,
   "metadata": {
    "id": "6Otwiuqn8p6j"
   },
   "outputs": [],
   "source": [
    "edges = [ref_edges_obj, stu_edges_obj]"
   ]
  },
  {
   "cell_type": "markdown",
   "metadata": {
    "id": "pjvx1y428p6j"
   },
   "source": [
    "## Getting embedding"
   ]
  },
  {
   "cell_type": "code",
   "execution_count": 3644,
   "metadata": {},
   "outputs": [],
   "source": [
    "def removeChars(text, chars):\n",
    "    for c in chars:\n",
    "        text = text.replace(c,\"\")\n",
    "    return text\n"
   ]
  },
  {
   "cell_type": "code",
   "execution_count": 3645,
   "metadata": {
    "id": "ee0LtyGkkVu3"
   },
   "outputs": [],
   "source": [
    "def get_mde_embedding(text, embedding):\n",
    "  # >>> get_mde_embedding(\"WhatDevice\", sgram_mde)\n",
    "  words = splitCamelCase(removeChars(text, [\"(\",\")\",\",\"]))\n",
    "  lowercase_list = [s.lower() for s in words]\n",
    "  counter = 0\n",
    "  emb = np.zeros(300)\n",
    "  for w in lowercase_list:\n",
    "    try:\n",
    "      emb += embedding[w]\n",
    "      counter += 1\n",
    "    except:\n",
    "      # if failed in emb the complete word, embed the token\n",
    "      tmp = np.zeros(300)\n",
    "      for char in list(w):\n",
    "\n",
    "        tmp += embedding[char]\n",
    "      emb += (tmp / len(w))\n",
    "      counter += 1\n",
    "  return emb / counter"
   ]
  },
  {
   "cell_type": "code",
   "execution_count": 3646,
   "metadata": {},
   "outputs": [
    {
     "data": {
      "text/plain": [
       "['Automation', 'Status', 'Created', 'Edited', 'Activated', 'Deactivated']"
      ]
     },
     "execution_count": 3646,
     "metadata": {},
     "output_type": "execute_result"
    }
   ],
   "source": [
    "text = \"AutomationStatus (Created, Edited, Activated, Deactivated)\"\n",
    "words = splitCamelCase(removeChars(text, [\"(\",\")\",\",\"]))\n",
    "words"
   ]
  },
  {
   "cell_type": "code",
   "execution_count": 3647,
   "metadata": {
    "id": "G_8OE4YpljN7"
   },
   "outputs": [],
   "source": [
    "def cosine_distance(emb_i, emb_j):\n",
    "  return np.dot(emb_i, emb_j) / (np.linalg.norm(emb_i) * np.linalg.norm(emb_j))"
   ]
  },
  {
   "cell_type": "markdown",
   "metadata": {
    "id": "V84BIi42N3vb"
   },
   "source": [
    "## Stage 1.1 Class name mapping"
   ]
  },
  {
   "cell_type": "code",
   "execution_count": 3648,
   "metadata": {
    "id": "4Bfij7cROA8x"
   },
   "outputs": [
    {
     "name": "stdout",
     "output_type": "stream",
     "text": [
      "\n",
      "\n",
      "\n",
      "\n",
      "\n",
      "\n",
      "\n",
      "\n",
      "\n",
      "\n",
      "\n",
      "\n",
      "\n",
      "\n",
      "\n",
      "\n",
      "\n",
      "\n",
      "\n",
      "\n",
      "\n",
      "\n",
      "\n",
      "\n",
      "\n",
      "\n",
      "\n",
      "\n",
      "\n",
      "\n",
      "\n",
      "\n",
      "\n",
      "\n",
      "\n",
      "\n",
      "\n",
      "\n",
      "\n",
      "\n",
      "\n",
      "\n",
      "\n",
      "\n",
      "\n",
      "\n",
      "\n",
      "\n",
      "\n",
      "\n",
      "\n",
      "\n",
      "\n",
      "\n",
      "\n",
      "\n",
      "\n",
      "\n",
      "\n",
      "\n",
      "\n",
      "\n",
      "\n",
      "\n",
      "\n",
      "\n",
      "\n",
      "\n",
      "\n",
      "\n",
      "\n",
      "\n",
      "\n",
      "\n",
      "\n",
      "\n",
      "\n",
      "\n",
      "\n",
      "\n",
      "\n",
      "\n",
      "\n",
      "\n",
      "\n",
      "\n",
      "\n",
      "\n",
      "\n",
      "\n",
      "\n",
      "\n",
      "\n",
      "\n",
      "\n",
      "\n",
      "\n",
      "\n",
      "\n",
      "\n",
      "\n",
      "\n",
      "\n",
      "\n",
      "\n",
      "\n",
      "\n",
      "\n",
      "\n",
      "\n",
      "\n",
      "\n",
      "\n",
      "\n",
      "\n",
      "\n",
      "\n",
      "\n",
      "\n",
      "\n",
      "\n",
      "\n",
      "\n",
      "\n",
      "\n",
      "\n",
      "\n",
      "\n",
      "\n",
      "\n",
      "\n",
      "\n",
      "\n",
      "\n",
      "\n",
      "\n",
      "\n",
      "\n",
      "\n",
      "\n",
      "\n",
      "\n",
      "\n",
      "\n"
     ]
    }
   ],
   "source": [
    "# get name embedding\n",
    "# all info\n",
    "similarity_mde = []\n",
    "mde_embedding = sgram_mde\n",
    "threshold = 0.7\n",
    "similarity_mde_dsl = []\n",
    "percentage = 0.8\n",
    "for index, node in enumerate(ref_cls.cls_name):\n",
    "  cls = node.split()[-1].strip() # get the class name, remove abstract key word\n",
    "  \n",
    "  mde_emb_i = get_mde_embedding(cls, mde_embedding)\n",
    "  mde_emb_i_dsl = get_mde_embedding(ref_cls.cls_atr[node][\"dsl\"], mde_embedding)\n",
    "\n",
    "  pair = []\n",
    "  mde_pair = []\n",
    "  for j, stu_node in enumerate(stu_cls.cls_name):\n",
    "    cls = stu_node.split()[-1].strip() # get the class name, remove abstract key word\n",
    "    print()\n",
    "    mde_emb_j = get_mde_embedding(cls, mde_embedding)\n",
    "    mde_emb_j_dsl = get_mde_embedding(stu_cls.cls_atr[stu_node][\"dsl\"], mde_embedding)\n",
    "\n",
    "    mde_sim = cosine_distance(mde_emb_i, mde_emb_j)\n",
    "    mde_sim_dsl = cosine_distance(mde_emb_i_dsl, mde_emb_j_dsl)\n",
    "\n",
    "    mde_pair.append(mde_sim * percentage + (1-percentage) * mde_sim_dsl)\n",
    "\n",
    "  # apply third quartile\n",
    "  similarity_mde.append(mde_pair)\n",
    "\n",
    "dict_sim_word = {}\n",
    "for i in range(len(ref_cls.cls_name)):\n",
    "  dict_sim_word[ref_cls.cls_name[i]] = {}\n",
    "  for j in range(len(stu_cls.cls_name)):\n",
    "    dict_sim_word[ref_cls.cls_name[i]][stu_cls.cls_name[j]] = similarity_mde[i][j]"
   ]
  },
  {
   "cell_type": "code",
   "execution_count": 3649,
   "metadata": {},
   "outputs": [],
   "source": [
    "for key in dict_sim_word:\n",
    "    exact_match = False\n",
    "    exact_cls = \"\"\n",
    "    for cls_2 in dict_sim_word[key]:\n",
    "        if dict_sim_word[key][cls_2] > 0.99:\n",
    "            exact_match = True\n",
    "            exact_cls = cls_2\n",
    "            print(cls_2)\n",
    "            break\n",
    "    \n",
    "    if exact_match:    # keep the exact match, others to 0\n",
    "        print(\"update\")\n",
    "        for cls_2 in dict_sim_word[key]:\n",
    "            if cls_2 !=  exact_cls:\n",
    "                dict_sim_word[key][cls_2] = 0\n",
    "\n",
    "similarity_mde = []\n",
    "for i in dict_sim_word:\n",
    "    tmp = []\n",
    "    for j in dict_sim_word[i]:\n",
    "        tmp.append(dict_sim_word[i][j])\n",
    "\n",
    "    similarity_mde.append(tmp)"
   ]
  },
  {
   "cell_type": "code",
   "execution_count": 3650,
   "metadata": {
    "id": "eWumU7AcQqKv"
   },
   "outputs": [
    {
     "data": {
      "text/html": [
       "<div>\n",
       "<style scoped>\n",
       "    .dataframe tbody tr th:only-of-type {\n",
       "        vertical-align: middle;\n",
       "    }\n",
       "\n",
       "    .dataframe tbody tr th {\n",
       "        vertical-align: top;\n",
       "    }\n",
       "\n",
       "    .dataframe thead th {\n",
       "        text-align: right;\n",
       "    }\n",
       "</style>\n",
       "<table border=\"1\" class=\"dataframe\">\n",
       "  <thead>\n",
       "    <tr style=\"text-align: right;\">\n",
       "      <th></th>\n",
       "      <th>HBMS</th>\n",
       "      <th>BusinessTraveller</th>\n",
       "      <th>Hotel</th>\n",
       "      <th>SpecialOffer</th>\n",
       "      <th>Room</th>\n",
       "      <th>Booking</th>\n",
       "      <th>AccommodationDeal</th>\n",
       "      <th>Confirmation</th>\n",
       "    </tr>\n",
       "  </thead>\n",
       "  <tbody>\n",
       "    <tr>\n",
       "      <th>RoomType</th>\n",
       "      <td>0.252150</td>\n",
       "      <td>0.270693</td>\n",
       "      <td>0.400047</td>\n",
       "      <td>0.290126</td>\n",
       "      <td>0.803402</td>\n",
       "      <td>0.397912</td>\n",
       "      <td>0.313996</td>\n",
       "      <td>0.233427</td>\n",
       "    </tr>\n",
       "    <tr>\n",
       "      <th>BookingStatus</th>\n",
       "      <td>0.306146</td>\n",
       "      <td>0.434784</td>\n",
       "      <td>0.455739</td>\n",
       "      <td>0.311174</td>\n",
       "      <td>0.365694</td>\n",
       "      <td>0.792375</td>\n",
       "      <td>0.361364</td>\n",
       "      <td>0.387458</td>\n",
       "    </tr>\n",
       "    <tr>\n",
       "      <th>PaymentType</th>\n",
       "      <td>0.189935</td>\n",
       "      <td>0.392296</td>\n",
       "      <td>0.340370</td>\n",
       "      <td>0.403015</td>\n",
       "      <td>0.247521</td>\n",
       "      <td>0.483809</td>\n",
       "      <td>0.387861</td>\n",
       "      <td>0.421696</td>\n",
       "    </tr>\n",
       "    <tr>\n",
       "      <th>HotelBookingManager</th>\n",
       "      <td>0.257302</td>\n",
       "      <td>0.454526</td>\n",
       "      <td>0.762139</td>\n",
       "      <td>0.317623</td>\n",
       "      <td>0.382589</td>\n",
       "      <td>0.758401</td>\n",
       "      <td>0.418199</td>\n",
       "      <td>0.283701</td>\n",
       "    </tr>\n",
       "    <tr>\n",
       "      <th>HotelChain</th>\n",
       "      <td>0.214408</td>\n",
       "      <td>0.385508</td>\n",
       "      <td>0.784038</td>\n",
       "      <td>0.294366</td>\n",
       "      <td>0.283872</td>\n",
       "      <td>0.416303</td>\n",
       "      <td>0.382899</td>\n",
       "      <td>0.212599</td>\n",
       "    </tr>\n",
       "    <tr>\n",
       "      <th>Traveller</th>\n",
       "      <td>0.236027</td>\n",
       "      <td>0.856694</td>\n",
       "      <td>0.441611</td>\n",
       "      <td>0.341422</td>\n",
       "      <td>0.290531</td>\n",
       "      <td>0.428739</td>\n",
       "      <td>0.354634</td>\n",
       "      <td>0.323995</td>\n",
       "    </tr>\n",
       "    <tr>\n",
       "      <th>BillingInformation</th>\n",
       "      <td>0.196264</td>\n",
       "      <td>0.569551</td>\n",
       "      <td>0.414963</td>\n",
       "      <td>0.393410</td>\n",
       "      <td>0.320733</td>\n",
       "      <td>0.469100</td>\n",
       "      <td>0.392562</td>\n",
       "      <td>0.373408</td>\n",
       "    </tr>\n",
       "    <tr>\n",
       "      <th>TravelPreference</th>\n",
       "      <td>0.207524</td>\n",
       "      <td>0.544683</td>\n",
       "      <td>0.442040</td>\n",
       "      <td>0.367817</td>\n",
       "      <td>0.299061</td>\n",
       "      <td>0.488069</td>\n",
       "      <td>0.445356</td>\n",
       "      <td>0.326849</td>\n",
       "    </tr>\n",
       "    <tr>\n",
       "      <th>Hotel</th>\n",
       "      <td>0.254894</td>\n",
       "      <td>0.452910</td>\n",
       "      <td>0.965310</td>\n",
       "      <td>0.326743</td>\n",
       "      <td>0.389864</td>\n",
       "      <td>0.561671</td>\n",
       "      <td>0.440926</td>\n",
       "      <td>0.213744</td>\n",
       "    </tr>\n",
       "    <tr>\n",
       "      <th>abstract Offer</th>\n",
       "      <td>0.151255</td>\n",
       "      <td>0.284774</td>\n",
       "      <td>0.247690</td>\n",
       "      <td>0.669884</td>\n",
       "      <td>0.167956</td>\n",
       "      <td>0.206760</td>\n",
       "      <td>0.288595</td>\n",
       "      <td>0.249763</td>\n",
       "    </tr>\n",
       "    <tr>\n",
       "      <th>SpecialOffer</th>\n",
       "      <td>0.164260</td>\n",
       "      <td>0.304821</td>\n",
       "      <td>0.212812</td>\n",
       "      <td>0.879239</td>\n",
       "      <td>0.167487</td>\n",
       "      <td>0.227760</td>\n",
       "      <td>0.345314</td>\n",
       "      <td>0.218810</td>\n",
       "    </tr>\n",
       "    <tr>\n",
       "      <th>RegularOffer</th>\n",
       "      <td>0.200493</td>\n",
       "      <td>0.296103</td>\n",
       "      <td>0.233494</td>\n",
       "      <td>0.702109</td>\n",
       "      <td>0.181851</td>\n",
       "      <td>0.181608</td>\n",
       "      <td>0.295231</td>\n",
       "      <td>0.148153</td>\n",
       "    </tr>\n",
       "    <tr>\n",
       "      <th>TravelSearch</th>\n",
       "      <td>0.181310</td>\n",
       "      <td>0.453279</td>\n",
       "      <td>0.411599</td>\n",
       "      <td>0.294655</td>\n",
       "      <td>0.187276</td>\n",
       "      <td>0.460885</td>\n",
       "      <td>0.406410</td>\n",
       "      <td>0.276191</td>\n",
       "    </tr>\n",
       "    <tr>\n",
       "      <th>SearchInfo</th>\n",
       "      <td>0.124081</td>\n",
       "      <td>0.298154</td>\n",
       "      <td>0.311756</td>\n",
       "      <td>0.262911</td>\n",
       "      <td>0.176872</td>\n",
       "      <td>0.307452</td>\n",
       "      <td>0.283663</td>\n",
       "      <td>0.280777</td>\n",
       "    </tr>\n",
       "    <tr>\n",
       "      <th>RoomAvailability</th>\n",
       "      <td>0.260206</td>\n",
       "      <td>0.342334</td>\n",
       "      <td>0.474218</td>\n",
       "      <td>0.286273</td>\n",
       "      <td>0.724673</td>\n",
       "      <td>0.383881</td>\n",
       "      <td>0.362450</td>\n",
       "      <td>0.283671</td>\n",
       "    </tr>\n",
       "    <tr>\n",
       "      <th>abstract TripInfo</th>\n",
       "      <td>0.247026</td>\n",
       "      <td>0.412592</td>\n",
       "      <td>0.442526</td>\n",
       "      <td>0.282988</td>\n",
       "      <td>0.283728</td>\n",
       "      <td>0.463910</td>\n",
       "      <td>0.418269</td>\n",
       "      <td>0.299884</td>\n",
       "    </tr>\n",
       "    <tr>\n",
       "      <th>BookingInfo</th>\n",
       "      <td>0.185483</td>\n",
       "      <td>0.390430</td>\n",
       "      <td>0.468231</td>\n",
       "      <td>0.299744</td>\n",
       "      <td>0.317356</td>\n",
       "      <td>0.740822</td>\n",
       "      <td>0.354404</td>\n",
       "      <td>0.353805</td>\n",
       "    </tr>\n",
       "    <tr>\n",
       "      <th>Booking</th>\n",
       "      <td>0.281490</td>\n",
       "      <td>0.453760</td>\n",
       "      <td>0.551869</td>\n",
       "      <td>0.307924</td>\n",
       "      <td>0.387767</td>\n",
       "      <td>0.970208</td>\n",
       "      <td>0.403779</td>\n",
       "      <td>0.372266</td>\n",
       "    </tr>\n",
       "  </tbody>\n",
       "</table>\n",
       "</div>"
      ],
      "text/plain": [
       "                         HBMS  BusinessTraveller     Hotel  SpecialOffer  \\\n",
       "RoomType             0.252150           0.270693  0.400047      0.290126   \n",
       "BookingStatus        0.306146           0.434784  0.455739      0.311174   \n",
       "PaymentType          0.189935           0.392296  0.340370      0.403015   \n",
       "HotelBookingManager  0.257302           0.454526  0.762139      0.317623   \n",
       "HotelChain           0.214408           0.385508  0.784038      0.294366   \n",
       "Traveller            0.236027           0.856694  0.441611      0.341422   \n",
       "BillingInformation   0.196264           0.569551  0.414963      0.393410   \n",
       "TravelPreference     0.207524           0.544683  0.442040      0.367817   \n",
       "Hotel                0.254894           0.452910  0.965310      0.326743   \n",
       "abstract Offer       0.151255           0.284774  0.247690      0.669884   \n",
       "SpecialOffer         0.164260           0.304821  0.212812      0.879239   \n",
       "RegularOffer         0.200493           0.296103  0.233494      0.702109   \n",
       "TravelSearch         0.181310           0.453279  0.411599      0.294655   \n",
       "SearchInfo           0.124081           0.298154  0.311756      0.262911   \n",
       "RoomAvailability     0.260206           0.342334  0.474218      0.286273   \n",
       "abstract TripInfo    0.247026           0.412592  0.442526      0.282988   \n",
       "BookingInfo          0.185483           0.390430  0.468231      0.299744   \n",
       "Booking              0.281490           0.453760  0.551869      0.307924   \n",
       "\n",
       "                         Room   Booking  AccommodationDeal  Confirmation  \n",
       "RoomType             0.803402  0.397912           0.313996      0.233427  \n",
       "BookingStatus        0.365694  0.792375           0.361364      0.387458  \n",
       "PaymentType          0.247521  0.483809           0.387861      0.421696  \n",
       "HotelBookingManager  0.382589  0.758401           0.418199      0.283701  \n",
       "HotelChain           0.283872  0.416303           0.382899      0.212599  \n",
       "Traveller            0.290531  0.428739           0.354634      0.323995  \n",
       "BillingInformation   0.320733  0.469100           0.392562      0.373408  \n",
       "TravelPreference     0.299061  0.488069           0.445356      0.326849  \n",
       "Hotel                0.389864  0.561671           0.440926      0.213744  \n",
       "abstract Offer       0.167956  0.206760           0.288595      0.249763  \n",
       "SpecialOffer         0.167487  0.227760           0.345314      0.218810  \n",
       "RegularOffer         0.181851  0.181608           0.295231      0.148153  \n",
       "TravelSearch         0.187276  0.460885           0.406410      0.276191  \n",
       "SearchInfo           0.176872  0.307452           0.283663      0.280777  \n",
       "RoomAvailability     0.724673  0.383881           0.362450      0.283671  \n",
       "abstract TripInfo    0.283728  0.463910           0.418269      0.299884  \n",
       "BookingInfo          0.317356  0.740822           0.354404      0.353805  \n",
       "Booking              0.387767  0.970208           0.403779      0.372266  "
      ]
     },
     "execution_count": 3650,
     "metadata": {},
     "output_type": "execute_result"
    }
   ],
   "source": [
    "import pandas as pd\n",
    "\n",
    "df = pd.DataFrame(index=reference_class, columns=stu_class, data=similarity_mde)\n",
    "df"
   ]
  },
  {
   "cell_type": "markdown",
   "metadata": {
    "id": "qUHDc0UMRhZ4"
   },
   "source": [
    "### Stage 1.1.1 Mapping (enum / regular + abstract)"
   ]
  },
  {
   "cell_type": "code",
   "execution_count": 3651,
   "metadata": {
    "id": "jjiO8XGnRmJ-"
   },
   "outputs": [],
   "source": [
    "ref_enum = []\n",
    "ref_reg_cls = []\n",
    "stu_enum = []\n",
    "stu_reg_cls = []\n",
    "\n",
    "for enum in ref_cls.cls_name:\n",
    "  if ref_cls.cls_atr[enum][\"type\"] == \"enum\":\n",
    "    ref_enum.append(enum)\n",
    "  else:\n",
    "    ref_reg_cls.append(enum)\n",
    "\n",
    "for enum in stu_cls.cls_name:\n",
    "  if stu_cls.cls_atr[enum][\"type\"] == \"enum\":\n",
    "    stu_enum.append(enum)\n",
    "  else:\n",
    "    stu_reg_cls.append(enum)"
   ]
  },
  {
   "cell_type": "code",
   "execution_count": 3652,
   "metadata": {
    "id": "fJH4xn6wTUxJ"
   },
   "outputs": [
    {
     "name": "stdout",
     "output_type": "stream",
     "text": [
      "{'RoomType': {'HBMS': 0.25214963468283036, 'BusinessTraveller': 0.2706933395490135, 'Hotel': 0.4000472521679917, 'SpecialOffer': 0.29012563382361956, 'Room': 0.8034022909699896, 'Booking': 0.3979115522407458, 'AccommodationDeal': 0.31399624447308255, 'Confirmation': 0.23342720387181948}, 'BookingStatus': {'HBMS': 0.30614621398713976, 'BusinessTraveller': 0.43478413371069535, 'Hotel': 0.4557390090286323, 'SpecialOffer': 0.31117415882730476, 'Room': 0.3656940427093817, 'Booking': 0.7923749400747551, 'AccommodationDeal': 0.3613638227235778, 'Confirmation': 0.38745772545580764}, 'PaymentType': {'HBMS': 0.18993509086788077, 'BusinessTraveller': 0.3922960749790374, 'Hotel': 0.3403704145677425, 'SpecialOffer': 0.4030145571705338, 'Room': 0.24752058979651503, 'Booking': 0.48380851409387005, 'AccommodationDeal': 0.387861232112681, 'Confirmation': 0.4216955004517514}, 'HotelBookingManager': {'HBMS': 0.25730239285645806, 'BusinessTraveller': 0.45452578988646664, 'Hotel': 0.76213901015159, 'SpecialOffer': 0.31762341021448315, 'Room': 0.3825886469455605, 'Booking': 0.7584014395644563, 'AccommodationDeal': 0.418199101089935, 'Confirmation': 0.28370072893588977}, 'HotelChain': {'HBMS': 0.21440778354723294, 'BusinessTraveller': 0.38550789129508045, 'Hotel': 0.7840375221578636, 'SpecialOffer': 0.29436648680873323, 'Room': 0.2838715754219515, 'Booking': 0.41630270659937985, 'AccommodationDeal': 0.38289859835603157, 'Confirmation': 0.21259921472486}, 'Traveller': {'HBMS': 0.2360265535720007, 'BusinessTraveller': 0.8566941032689612, 'Hotel': 0.4416107026952123, 'SpecialOffer': 0.34142193075742877, 'Room': 0.29053109018184986, 'Booking': 0.42873889749927613, 'AccommodationDeal': 0.3546336616457544, 'Confirmation': 0.32399549682214457}, 'BillingInformation': {'HBMS': 0.19626416922936415, 'BusinessTraveller': 0.5695510565099433, 'Hotel': 0.41496285204736333, 'SpecialOffer': 0.39340997497741287, 'Room': 0.3207331104420649, 'Booking': 0.4691003950544898, 'AccommodationDeal': 0.3925615801803014, 'Confirmation': 0.37340752117570347}, 'TravelPreference': {'HBMS': 0.2075238416881811, 'BusinessTraveller': 0.5446827909520668, 'Hotel': 0.4420400147504643, 'SpecialOffer': 0.36781664309666623, 'Room': 0.2990610568104049, 'Booking': 0.488068570293022, 'AccommodationDeal': 0.4453564457441195, 'Confirmation': 0.3268486783975185}, 'Hotel': {'HBMS': 0.25489412484491436, 'BusinessTraveller': 0.45291027347667223, 'Hotel': 0.9653104924670345, 'SpecialOffer': 0.32674303507121427, 'Room': 0.38986433594061853, 'Booking': 0.5616706405836331, 'AccommodationDeal': 0.4409258609140876, 'Confirmation': 0.21374407622079433}, 'abstract Offer': {'HBMS': 0.1512549527194555, 'BusinessTraveller': 0.28477402978046934, 'Hotel': 0.24768964278678346, 'SpecialOffer': 0.6698840505112456, 'Room': 0.16795600829046148, 'Booking': 0.20676017501446112, 'AccommodationDeal': 0.2885954940493898, 'Confirmation': 0.24976261818819212}, 'SpecialOffer': {'HBMS': 0.16426015894303725, 'BusinessTraveller': 0.30482113233892494, 'Hotel': 0.21281150458635859, 'SpecialOffer': 0.8792385274477823, 'Room': 0.16748696599252313, 'Booking': 0.2277597621440979, 'AccommodationDeal': 0.34531424815306, 'Confirmation': 0.21880976854689743}, 'RegularOffer': {'HBMS': 0.20049311738947295, 'BusinessTraveller': 0.2961032666797292, 'Hotel': 0.23349423398316516, 'SpecialOffer': 0.7021094477748594, 'Room': 0.18185051903163968, 'Booking': 0.1816078760708013, 'AccommodationDeal': 0.29523060479020435, 'Confirmation': 0.1481526239593718}, 'TravelSearch': {'HBMS': 0.18130979667575903, 'BusinessTraveller': 0.45327891111601526, 'Hotel': 0.411598856495745, 'SpecialOffer': 0.29465459849751724, 'Room': 0.18727597842571073, 'Booking': 0.4608846068857748, 'AccommodationDeal': 0.40641036029326444, 'Confirmation': 0.27619109338728165}, 'SearchInfo': {'HBMS': 0.12408050388474087, 'BusinessTraveller': 0.2981535739357979, 'Hotel': 0.3117561043038099, 'SpecialOffer': 0.2629113440877725, 'Room': 0.17687185002001968, 'Booking': 0.30745241111366794, 'AccommodationDeal': 0.2836629725946658, 'Confirmation': 0.28077653140692627}, 'RoomAvailability': {'HBMS': 0.2602064436863605, 'BusinessTraveller': 0.34233438410188227, 'Hotel': 0.47421832124398877, 'SpecialOffer': 0.28627284625093574, 'Room': 0.7246728996917766, 'Booking': 0.3838805225235755, 'AccommodationDeal': 0.3624501172930829, 'Confirmation': 0.28367063529555225}, 'abstract TripInfo': {'HBMS': 0.2470261762446805, 'BusinessTraveller': 0.4125922705655227, 'Hotel': 0.44252562075336965, 'SpecialOffer': 0.28298805941679384, 'Room': 0.2837282463018004, 'Booking': 0.46391028094940967, 'AccommodationDeal': 0.4182688633011975, 'Confirmation': 0.2998838334689944}, 'BookingInfo': {'HBMS': 0.18548284038184604, 'BusinessTraveller': 0.39043033312174397, 'Hotel': 0.46823118745253367, 'SpecialOffer': 0.2997436271243093, 'Room': 0.31735605952564794, 'Booking': 0.7408216713766916, 'AccommodationDeal': 0.354404138378404, 'Confirmation': 0.3538053133517834}, 'Booking': {'HBMS': 0.28148961643393006, 'BusinessTraveller': 0.4537599964623321, 'Hotel': 0.5518688772361985, 'SpecialOffer': 0.3079238750778555, 'Room': 0.38776730134744614, 'Booking': 0.9702081927685264, 'AccommodationDeal': 0.40377901418300577, 'Confirmation': 0.3722662508204894}}\n"
     ]
    },
    {
     "data": {
      "text/plain": [
       "[('RoomType', None), ('BookingStatus', None), ('PaymentType', None)]"
      ]
     },
     "execution_count": 3652,
     "metadata": {},
     "output_type": "execute_result"
    }
   ],
   "source": [
    "enum_mapping = match_classes(ref_enum, stu_enum, dict_sim_word, thresh = 0.5)\n",
    "enum_mapping[0]"
   ]
  },
  {
   "cell_type": "code",
   "execution_count": 3653,
   "metadata": {
    "id": "LW80yVXTT7jK"
   },
   "outputs": [
    {
     "name": "stdout",
     "output_type": "stream",
     "text": [
      "{'RoomType': {'HBMS': 0.25214963468283036, 'BusinessTraveller': 0.2706933395490135, 'Hotel': 0.4000472521679917, 'SpecialOffer': 0.29012563382361956, 'Room': 0.8034022909699896, 'Booking': 0.3979115522407458, 'AccommodationDeal': 0.31399624447308255, 'Confirmation': 0.23342720387181948}, 'BookingStatus': {'HBMS': 0.30614621398713976, 'BusinessTraveller': 0.43478413371069535, 'Hotel': 0.4557390090286323, 'SpecialOffer': 0.31117415882730476, 'Room': 0.3656940427093817, 'Booking': 0.7923749400747551, 'AccommodationDeal': 0.3613638227235778, 'Confirmation': 0.38745772545580764}, 'PaymentType': {'HBMS': 0.18993509086788077, 'BusinessTraveller': 0.3922960749790374, 'Hotel': 0.3403704145677425, 'SpecialOffer': 0.4030145571705338, 'Room': 0.24752058979651503, 'Booking': 0.48380851409387005, 'AccommodationDeal': 0.387861232112681, 'Confirmation': 0.4216955004517514}, 'HotelBookingManager': {'HBMS': 0.25730239285645806, 'BusinessTraveller': 0.45452578988646664, 'Hotel': 0.76213901015159, 'SpecialOffer': 0.31762341021448315, 'Room': 0.3825886469455605, 'Booking': 0.7584014395644563, 'AccommodationDeal': 0.418199101089935, 'Confirmation': 0.28370072893588977}, 'HotelChain': {'HBMS': 0.21440778354723294, 'BusinessTraveller': 0.38550789129508045, 'Hotel': 0.7840375221578636, 'SpecialOffer': 0.29436648680873323, 'Room': 0.2838715754219515, 'Booking': 0.41630270659937985, 'AccommodationDeal': 0.38289859835603157, 'Confirmation': 0.21259921472486}, 'Traveller': {'HBMS': 0.2360265535720007, 'BusinessTraveller': 0.8566941032689612, 'Hotel': 0.4416107026952123, 'SpecialOffer': 0.34142193075742877, 'Room': 0.29053109018184986, 'Booking': 0.42873889749927613, 'AccommodationDeal': 0.3546336616457544, 'Confirmation': 0.32399549682214457}, 'BillingInformation': {'HBMS': 0.19626416922936415, 'BusinessTraveller': 0.5695510565099433, 'Hotel': 0.41496285204736333, 'SpecialOffer': 0.39340997497741287, 'Room': 0.3207331104420649, 'Booking': 0.4691003950544898, 'AccommodationDeal': 0.3925615801803014, 'Confirmation': 0.37340752117570347}, 'TravelPreference': {'HBMS': 0.2075238416881811, 'BusinessTraveller': 0.5446827909520668, 'Hotel': 0.4420400147504643, 'SpecialOffer': 0.36781664309666623, 'Room': 0.2990610568104049, 'Booking': 0.488068570293022, 'AccommodationDeal': 0.4453564457441195, 'Confirmation': 0.3268486783975185}, 'Hotel': {'HBMS': 0.25489412484491436, 'BusinessTraveller': 0.45291027347667223, 'Hotel': 0.9653104924670345, 'SpecialOffer': 0.32674303507121427, 'Room': 0.38986433594061853, 'Booking': 0.5616706405836331, 'AccommodationDeal': 0.4409258609140876, 'Confirmation': 0.21374407622079433}, 'abstract Offer': {'HBMS': 0.1512549527194555, 'BusinessTraveller': 0.28477402978046934, 'Hotel': 0.24768964278678346, 'SpecialOffer': 0.6698840505112456, 'Room': 0.16795600829046148, 'Booking': 0.20676017501446112, 'AccommodationDeal': 0.2885954940493898, 'Confirmation': 0.24976261818819212}, 'SpecialOffer': {'HBMS': 0.16426015894303725, 'BusinessTraveller': 0.30482113233892494, 'Hotel': 0.21281150458635859, 'SpecialOffer': 0.8792385274477823, 'Room': 0.16748696599252313, 'Booking': 0.2277597621440979, 'AccommodationDeal': 0.34531424815306, 'Confirmation': 0.21880976854689743}, 'RegularOffer': {'HBMS': 0.20049311738947295, 'BusinessTraveller': 0.2961032666797292, 'Hotel': 0.23349423398316516, 'SpecialOffer': 0.7021094477748594, 'Room': 0.18185051903163968, 'Booking': 0.1816078760708013, 'AccommodationDeal': 0.29523060479020435, 'Confirmation': 0.1481526239593718}, 'TravelSearch': {'HBMS': 0.18130979667575903, 'BusinessTraveller': 0.45327891111601526, 'Hotel': 0.411598856495745, 'SpecialOffer': 0.29465459849751724, 'Room': 0.18727597842571073, 'Booking': 0.4608846068857748, 'AccommodationDeal': 0.40641036029326444, 'Confirmation': 0.27619109338728165}, 'SearchInfo': {'HBMS': 0.12408050388474087, 'BusinessTraveller': 0.2981535739357979, 'Hotel': 0.3117561043038099, 'SpecialOffer': 0.2629113440877725, 'Room': 0.17687185002001968, 'Booking': 0.30745241111366794, 'AccommodationDeal': 0.2836629725946658, 'Confirmation': 0.28077653140692627}, 'RoomAvailability': {'HBMS': 0.2602064436863605, 'BusinessTraveller': 0.34233438410188227, 'Hotel': 0.47421832124398877, 'SpecialOffer': 0.28627284625093574, 'Room': 0.7246728996917766, 'Booking': 0.3838805225235755, 'AccommodationDeal': 0.3624501172930829, 'Confirmation': 0.28367063529555225}, 'abstract TripInfo': {'HBMS': 0.2470261762446805, 'BusinessTraveller': 0.4125922705655227, 'Hotel': 0.44252562075336965, 'SpecialOffer': 0.28298805941679384, 'Room': 0.2837282463018004, 'Booking': 0.46391028094940967, 'AccommodationDeal': 0.4182688633011975, 'Confirmation': 0.2998838334689944}, 'BookingInfo': {'HBMS': 0.18548284038184604, 'BusinessTraveller': 0.39043033312174397, 'Hotel': 0.46823118745253367, 'SpecialOffer': 0.2997436271243093, 'Room': 0.31735605952564794, 'Booking': 0.7408216713766916, 'AccommodationDeal': 0.354404138378404, 'Confirmation': 0.3538053133517834}, 'Booking': {'HBMS': 0.28148961643393006, 'BusinessTraveller': 0.4537599964623321, 'Hotel': 0.5518688772361985, 'SpecialOffer': 0.3079238750778555, 'Room': 0.38776730134744614, 'Booking': 0.9702081927685264, 'AccommodationDeal': 0.40377901418300577, 'Confirmation': 0.3722662508204894}}\n"
     ]
    },
    {
     "data": {
      "text/plain": [
       "[('HotelBookingManager', None),\n",
       " ('HotelChain', None),\n",
       " ('Traveller', 'BusinessTraveller'),\n",
       " ('BillingInformation', None),\n",
       " ('TravelPreference', None),\n",
       " ('Hotel', 'Hotel'),\n",
       " ('abstract Offer', None),\n",
       " ('SpecialOffer', 'SpecialOffer'),\n",
       " ('RegularOffer', None),\n",
       " ('TravelSearch', None),\n",
       " ('SearchInfo', None),\n",
       " ('RoomAvailability', 'Room'),\n",
       " ('abstract TripInfo', None),\n",
       " ('BookingInfo', None),\n",
       " ('Booking', 'Booking'),\n",
       " (None, 'HBMS'),\n",
       " (None, 'AccommodationDeal'),\n",
       " (None, 'Confirmation')]"
      ]
     },
     "execution_count": 3653,
     "metadata": {},
     "output_type": "execute_result"
    }
   ],
   "source": [
    "cls_mapping = match_classes(ref_reg_cls, stu_reg_cls, dict_sim_word, thresh = 0.5)\n",
    "cls_mapping[0]"
   ]
  },
  {
   "cell_type": "code",
   "execution_count": 3654,
   "metadata": {
    "id": "X6xo0l99VeXm"
   },
   "outputs": [],
   "source": [
    "mapping = enum_mapping[0] + cls_mapping[0]\n",
    "\n",
    "for map in mapping:\n",
    "  if map[0] and map[1]:\n",
    "    ref_cls.cls_atr[map[0]]['score'] = 1\n",
    "    ref_cls.cls_atr[map[0]]['counterpart'] = map[1]\n",
    "\n",
    "    stu_cls.cls_atr[map[1]]['score'] = 1\n",
    "    stu_cls.cls_atr[map[1]]['counterpart'] = map[0]\n",
    "\n",
    "    if ref_cls.cls_atr[map[0]][\"type\"] !=  stu_cls.cls_atr[map[1]][\"type\"]:\n",
    "      # type mismatch\n",
    "      ref_cls.cls_atr[map[0]]['score'] = 0.5\n",
    "      stu_cls.cls_atr[map[1]][\"score\"] = 0.5"
   ]
  },
  {
   "cell_type": "code",
   "execution_count": 3655,
   "metadata": {
    "id": "zndCFvnoWS7D"
   },
   "outputs": [
    {
     "data": {
      "text/plain": [
       "{'RoomType': {'score': 0,\n",
       "  'type': 'enum',\n",
       "  'dsl': 'RoomType(SINGLE, DOUBLE, TWIN)',\n",
       "  'counterpart': None,\n",
       "  'attributes': {'SINGLE': {'score': 0, 'counterpart': None},\n",
       "   'DOUBLE': {'score': 0, 'counterpart': None},\n",
       "   'TWIN': {'score': 0, 'counterpart': None}}},\n",
       " 'BookingStatus': {'score': 0,\n",
       "  'type': 'enum',\n",
       "  'dsl': 'BookingStatus(FINALIZED, CONFIRMED, CANCELLED_BY_HBMS, PRELIMINARY, CANCELLED_BY_TRAVELLER, CANCELLED_BY_HOTEL)',\n",
       "  'counterpart': None,\n",
       "  'attributes': {'FINALIZED': {'score': 0, 'counterpart': None},\n",
       "   'CONFIRMED': {'score': 0, 'counterpart': None},\n",
       "   'CANCELLED_BY_HBMS': {'score': 0, 'counterpart': None},\n",
       "   'PRELIMINARY': {'score': 0, 'counterpart': None},\n",
       "   'CANCELLED_BY_TRAVELLER': {'score': 0, 'counterpart': None},\n",
       "   'CANCELLED_BY_HOTEL': {'score': 0, 'counterpart': None}}},\n",
       " 'PaymentType': {'score': 0,\n",
       "  'type': 'enum',\n",
       "  'dsl': 'PaymentType (PREPAID, PAID_AT_HOTEL)',\n",
       "  'counterpart': None,\n",
       "  'attributes': {'PREPAID': {'score': 0, 'counterpart': None},\n",
       "   'PAID_AT_HOTEL': {'score': 0, 'counterpart': None}}},\n",
       " 'HotelBookingManager': {'score': 0,\n",
       "  'type': 'regular',\n",
       "  'dsl': 'HotelBookingManager()',\n",
       "  'counterpart': None,\n",
       "  'attributes': {}},\n",
       " 'HotelChain': {'score': 0,\n",
       "  'type': 'regular',\n",
       "  'dsl': 'HotelChain()',\n",
       "  'counterpart': None,\n",
       "  'attributes': {}},\n",
       " 'Traveller': {'score': 1,\n",
       "  'type': 'regular',\n",
       "  'dsl': 'Traveller (string name, int reliabilityRating)',\n",
       "  'counterpart': 'BusinessTraveller',\n",
       "  'attributes': {'string name': {'score': 0, 'counterpart': None},\n",
       "   'int reliabilityRating': {'score': 0, 'counterpart': None}}},\n",
       " 'BillingInformation': {'score': 0,\n",
       "  'type': 'regular',\n",
       "  'dsl': 'BillingInformation(string companyName, string address)',\n",
       "  'counterpart': None,\n",
       "  'attributes': {'string companyName': {'score': 0, 'counterpart': None},\n",
       "   'string address': {'score': 0, 'counterpart': None}}},\n",
       " 'TravelPreference': {'score': 0,\n",
       "  'type': 'regular',\n",
       "  'dsl': 'TravelPreference(string preference, string value)',\n",
       "  'counterpart': None,\n",
       "  'attributes': {'string preference': {'score': 0, 'counterpart': None},\n",
       "   'string value': {'score': 0, 'counterpart': None}}},\n",
       " 'Hotel': {'score': 1,\n",
       "  'type': 'regular',\n",
       "  'dsl': 'Hotel (string city, string country, string area)',\n",
       "  'counterpart': 'Hotel',\n",
       "  'attributes': {'string city': {'score': 0, 'counterpart': None},\n",
       "   'string country': {'score': 0, 'counterpart': None},\n",
       "   'string area': {'score': 0, 'counterpart': None}}},\n",
       " 'abstract Offer': {'score': 0,\n",
       "  'type': 'abstract',\n",
       "  'dsl': 'abstract Offer()',\n",
       "  'counterpart': None,\n",
       "  'attributes': {}},\n",
       " 'SpecialOffer': {'score': 1,\n",
       "  'type': 'regular',\n",
       "  'dsl': 'SpecialOffer()',\n",
       "  'counterpart': 'SpecialOffer',\n",
       "  'attributes': {}},\n",
       " 'RegularOffer': {'score': 0,\n",
       "  'type': 'regular',\n",
       "  'dsl': 'RegularOffer()',\n",
       "  'counterpart': None,\n",
       "  'attributes': {}},\n",
       " 'TravelSearch': {'score': 0,\n",
       "  'type': 'regular',\n",
       "  'dsl': 'TravelSearch()',\n",
       "  'counterpart': None,\n",
       "  'attributes': {}},\n",
       " 'SearchInfo': {'score': 0,\n",
       "  'type': 'regular',\n",
       "  'dsl': 'SearchInfo()',\n",
       "  'counterpart': None,\n",
       "  'attributes': {}},\n",
       " 'RoomAvailability': {'score': 1,\n",
       "  'type': 'regular',\n",
       "  'dsl': 'RoomAvailability()',\n",
       "  'counterpart': 'Room',\n",
       "  'attributes': {}},\n",
       " 'abstract TripInfo': {'score': 0,\n",
       "  'type': 'abstract',\n",
       "  'dsl': 'abstract TripInfo(int numberOfRooms, RoomType roomType, date arrivalDate, date departureDate, float budgetPerNight)',\n",
       "  'counterpart': None,\n",
       "  'attributes': {'int numberOfRooms': {'score': 0, 'counterpart': None},\n",
       "   'RoomType roomType': {'score': 0, 'counterpart': None},\n",
       "   'date arrivalDate': {'score': 0, 'counterpart': None},\n",
       "   'date departureDate': {'score': 0, 'counterpart': None},\n",
       "   'float budgetPerNight': {'score': 0, 'counterpart': None}}},\n",
       " 'BookingInfo': {'score': 0,\n",
       "  'type': 'regular',\n",
       "  'dsl': 'BookingInfo()',\n",
       "  'counterpart': None,\n",
       "  'attributes': {}},\n",
       " 'Booking': {'score': 1,\n",
       "  'type': 'regular',\n",
       "  'dsl': 'Booking (int bookingId, date cancellationDeadline, string creditCardNumber, BookingStatus bookingStatus, PaymentType paymentType, date confirmationDate, float paidAmount)',\n",
       "  'counterpart': 'Booking',\n",
       "  'attributes': {'int bookingId': {'score': 0, 'counterpart': None},\n",
       "   'date cancellationDeadline': {'score': 0, 'counterpart': None},\n",
       "   'string creditCardNumber': {'score': 0, 'counterpart': None},\n",
       "   'BookingStatus bookingStatus': {'score': 0, 'counterpart': None},\n",
       "   'PaymentType paymentType': {'score': 0, 'counterpart': None},\n",
       "   'date confirmationDate': {'score': 0, 'counterpart': None},\n",
       "   'float paidAmount': {'score': 0, 'counterpart': None}}}}"
      ]
     },
     "execution_count": 3655,
     "metadata": {},
     "output_type": "execute_result"
    }
   ],
   "source": [
    "ref_cls.cls_atr"
   ]
  },
  {
   "cell_type": "markdown",
   "metadata": {
    "id": "8y1nt_fsXDwB"
   },
   "source": [
    "## Stage 1.2 Class Mapping (with all info)"
   ]
  },
  {
   "cell_type": "code",
   "execution_count": 3656,
   "metadata": {
    "id": "8FOiiOpfXM5c"
   },
   "outputs": [],
   "source": [
    "ref_classes = []\n",
    "stu_classes = []\n",
    "\n",
    "for cls in ref_cls.cls_name:\n",
    "  if ref_cls.cls_atr[cls][\"counterpart\"] == None:\n",
    "    ref_classes.append(cls)\n",
    "\n",
    "for cls in stu_cls.cls_name:\n",
    "  if stu_cls.cls_atr[cls][\"counterpart\"] == None:\n",
    "    stu_classes.append(cls)"
   ]
  },
  {
   "cell_type": "code",
   "execution_count": 3657,
   "metadata": {
    "id": "l_HDKCa3XmuR"
   },
   "outputs": [],
   "source": [
    "# get name embedding\n",
    "# all info\n",
    "similarity_all = []\n",
    "mde_embedding = sgram_mde\n",
    "threshold = 0.7\n",
    "\n",
    "\n",
    "\n",
    "\n",
    "# reuse saved embedding result...\n",
    "# may cause problem\n",
    "# if os.path.exists(student_dir + \"ada_embedding.txt\"):\n",
    "#   pass\n",
    "  \n",
    "  # with open(student_dir + \"ada_embedding.txt\", 'r') as json_file:\n",
    "  #   dict_sim_all = json.load(json_file)\n",
    "\n",
    "if False:\n",
    "  pass\n",
    "\n",
    "else:\n",
    "  for index, node in enumerate(ref_cls.cls_name):\n",
    "    text_1 = get_all_info(index, ref_cls.cls_name, ref_cls.raw_dsl, ref_cls.rel.raw_dsl, True)\n",
    "    emb_i = get_embedding(text_1)\n",
    "    mde_pair = []\n",
    "    for j, stu_node in enumerate(stu_cls.cls_name):\n",
    "      text_2 = get_all_info(j, stu_cls.cls_name, stu_cls.raw_dsl, stu_cls.rel.raw_dsl, True)\n",
    "      emb_j = get_embedding(text_2)\n",
    "      mde_sim = cosine_distance(emb_i, emb_j)\n",
    "      mde_pair.append(mde_sim)\n",
    "\n",
    "    # apply third quartile\n",
    "    similarity_all.append(mde_pair)\n",
    "\n",
    "  dict_sim_all = {}\n",
    "  for i in range(len(ref_cls.cls_name)):\n",
    "    dict_sim_all[ref_cls.cls_name[i]] = {}\n",
    "    for j in range(len(stu_cls.cls_name)):\n",
    "      dict_sim_all[ref_cls.cls_name[i]][stu_cls.cls_name[j]] = similarity_all[i][j]\n",
    "\n",
    "\n",
    "\n"
   ]
  },
  {
   "cell_type": "code",
   "execution_count": 3658,
   "metadata": {},
   "outputs": [],
   "source": [
    "with open(student_dir + \"ada_embedding.txt\", 'w') as json_file:\n",
    "    json.dump(dict_sim_all, json_file)"
   ]
  },
  {
   "cell_type": "code",
   "execution_count": 3659,
   "metadata": {},
   "outputs": [
    {
     "data": {
      "text/plain": [
       "'results/gpt-4/sherpa/08_HBMS/'"
      ]
     },
     "execution_count": 3659,
     "metadata": {},
     "output_type": "execute_result"
    }
   ],
   "source": [
    "student_dir"
   ]
  },
  {
   "cell_type": "code",
   "execution_count": 3660,
   "metadata": {},
   "outputs": [
    {
     "data": {
      "text/plain": [
       "['RoomType',\n",
       " 'BookingStatus',\n",
       " 'PaymentType',\n",
       " 'HotelBookingManager',\n",
       " 'HotelChain',\n",
       " 'BillingInformation',\n",
       " 'TravelPreference',\n",
       " 'abstract Offer',\n",
       " 'RegularOffer',\n",
       " 'TravelSearch',\n",
       " 'SearchInfo',\n",
       " 'abstract TripInfo',\n",
       " 'BookingInfo']"
      ]
     },
     "execution_count": 3660,
     "metadata": {},
     "output_type": "execute_result"
    }
   ],
   "source": [
    "ref_classes"
   ]
  },
  {
   "cell_type": "code",
   "execution_count": 3661,
   "metadata": {},
   "outputs": [
    {
     "data": {
      "text/plain": [
       "['HBMS', 'AccommodationDeal', 'Confirmation']"
      ]
     },
     "execution_count": 3661,
     "metadata": {},
     "output_type": "execute_result"
    }
   ],
   "source": [
    "stu_classes"
   ]
  },
  {
   "cell_type": "code",
   "execution_count": 3662,
   "metadata": {},
   "outputs": [
    {
     "data": {
      "text/plain": [
       "{'RoomType': {'HBMS': 0.804840725104826,\n",
       "  'BusinessTraveller': 0.7811249629928283,\n",
       "  'Hotel': 0.8408345123820181,\n",
       "  'SpecialOffer': 0.8013737019585344,\n",
       "  'Room': 0.877537021230031,\n",
       "  'Booking': 0.8101290769682334,\n",
       "  'AccommodationDeal': 0.8119374220133271,\n",
       "  'Confirmation': 0.7640029540639278},\n",
       " 'BookingStatus': {'HBMS': 0.8183165492638729,\n",
       "  'BusinessTraveller': 0.7792535081412233,\n",
       "  'Hotel': 0.7993107361723563,\n",
       "  'SpecialOffer': 0.7732534754614532,\n",
       "  'Room': 0.777040305224274,\n",
       "  'Booking': 0.8125943053414727,\n",
       "  'AccommodationDeal': 0.775603114484755,\n",
       "  'Confirmation': 0.797169465991154},\n",
       " 'PaymentType': {'HBMS': 0.7817584628370285,\n",
       "  'BusinessTraveller': 0.755398489554848,\n",
       "  'Hotel': 0.7977326556764767,\n",
       "  'SpecialOffer': 0.8007195931442392,\n",
       "  'Room': 0.7911308964613673,\n",
       "  'Booking': 0.8001536047825836,\n",
       "  'AccommodationDeal': 0.7911799472930916,\n",
       "  'Confirmation': 0.7600161695587908},\n",
       " 'HotelBookingManager': {'HBMS': 0.8377303097667167,\n",
       "  'BusinessTraveller': 0.8451244448337505,\n",
       "  'Hotel': 0.8430153179829974,\n",
       "  'SpecialOffer': 0.820303873256826,\n",
       "  'Room': 0.8196312043949904,\n",
       "  'Booking': 0.8432896005599808,\n",
       "  'AccommodationDeal': 0.8283376027574934,\n",
       "  'Confirmation': 0.7909254677293187},\n",
       " 'HotelChain': {'HBMS': 0.77602666294293,\n",
       "  'BusinessTraveller': 0.7845651293296427,\n",
       "  'Hotel': 0.8051050648446543,\n",
       "  'SpecialOffer': 0.7678790964299707,\n",
       "  'Room': 0.8114420516545421,\n",
       "  'Booking': 0.770742189734199,\n",
       "  'AccommodationDeal': 0.7706788688478589,\n",
       "  'Confirmation': 0.7653718052193009},\n",
       " 'Traveller': {'HBMS': 0.8176973205972866,\n",
       "  'BusinessTraveller': 0.9099297399086929,\n",
       "  'Hotel': 0.8462711847649819,\n",
       "  'SpecialOffer': 0.812613048220939,\n",
       "  'Room': 0.81306527087252,\n",
       "  'Booking': 0.8109066070377369,\n",
       "  'AccommodationDeal': 0.8088053480969498,\n",
       "  'Confirmation': 0.7707516207943896},\n",
       " 'BillingInformation': {'HBMS': 0.7814498481558416,\n",
       "  'BusinessTraveller': 0.8515918673347828,\n",
       "  'Hotel': 0.8068742520731098,\n",
       "  'SpecialOffer': 0.7877896197105283,\n",
       "  'Room': 0.7801201936856775,\n",
       "  'Booking': 0.8160277686173014,\n",
       "  'AccommodationDeal': 0.7950761267555017,\n",
       "  'Confirmation': 0.7667705096192171},\n",
       " 'TravelPreference': {'HBMS': 0.7985410146118932,\n",
       "  'BusinessTraveller': 0.8554189619019895,\n",
       "  'Hotel': 0.794543648323077,\n",
       "  'SpecialOffer': 0.82336953732235,\n",
       "  'Room': 0.7806556513313072,\n",
       "  'Booking': 0.7994472919059815,\n",
       "  'AccommodationDeal': 0.7957201202854383,\n",
       "  'Confirmation': 0.7408431186560898},\n",
       " 'Hotel': {'HBMS': 0.8433896910204065,\n",
       "  'BusinessTraveller': 0.8248910685994159,\n",
       "  'Hotel': 0.8806235381554204,\n",
       "  'SpecialOffer': 0.8736439237767198,\n",
       "  'Room': 0.8505020866794982,\n",
       "  'Booking': 0.8420497261418027,\n",
       "  'AccommodationDeal': 0.8571706763893728,\n",
       "  'Confirmation': 0.7461015040340838},\n",
       " 'abstract Offer': {'HBMS': 0.750825314608831,\n",
       "  'BusinessTraveller': 0.7574181187748461,\n",
       "  'Hotel': 0.7782026018651237,\n",
       "  'SpecialOffer': 0.804573914567415,\n",
       "  'Room': 0.7851619405526185,\n",
       "  'Booking': 0.7751077651791944,\n",
       "  'AccommodationDeal': 0.7827907388086908,\n",
       "  'Confirmation': 0.7650207965734177},\n",
       " 'SpecialOffer': {'HBMS': 0.7735088013462981,\n",
       "  'BusinessTraveller': 0.7759367912251652,\n",
       "  'Hotel': 0.801120729639988,\n",
       "  'SpecialOffer': 0.8701718571947649,\n",
       "  'Room': 0.8069434482520592,\n",
       "  'Booking': 0.7906325156272361,\n",
       "  'AccommodationDeal': 0.8014255249252007,\n",
       "  'Confirmation': 0.771253383432176},\n",
       " 'RegularOffer': {'HBMS': 0.7605275113934732,\n",
       "  'BusinessTraveller': 0.7773873324979603,\n",
       "  'Hotel': 0.7926668094043735,\n",
       "  'SpecialOffer': 0.8327502850634988,\n",
       "  'Room': 0.8031901277203399,\n",
       "  'Booking': 0.7813601337819149,\n",
       "  'AccommodationDeal': 0.7883185107292986,\n",
       "  'Confirmation': 0.756244326789539},\n",
       " 'TravelSearch': {'HBMS': 0.816386929548209,\n",
       "  'BusinessTraveller': 0.835568578277714,\n",
       "  'Hotel': 0.8037775168271207,\n",
       "  'SpecialOffer': 0.8034191276536587,\n",
       "  'Room': 0.8018010513614479,\n",
       "  'Booking': 0.8147756007475715,\n",
       "  'AccommodationDeal': 0.807018832568215,\n",
       "  'Confirmation': 0.7556602636435431},\n",
       " 'SearchInfo': {'HBMS': 0.7511672348485865,\n",
       "  'BusinessTraveller': 0.7556100049546581,\n",
       "  'Hotel': 0.7644013808531325,\n",
       "  'SpecialOffer': 0.7719065790089227,\n",
       "  'Room': 0.7697382915272597,\n",
       "  'Booking': 0.7514694279765267,\n",
       "  'AccommodationDeal': 0.7463464173785482,\n",
       "  'Confirmation': 0.7360382317381168},\n",
       " 'RoomAvailability': {'HBMS': 0.8127908076398815,\n",
       "  'BusinessTraveller': 0.7903626974353252,\n",
       "  'Hotel': 0.8611114804468015,\n",
       "  'SpecialOffer': 0.8103287720899981,\n",
       "  'Room': 0.8480502951331407,\n",
       "  'Booking': 0.8239465676362947,\n",
       "  'AccommodationDeal': 0.8169639345768511,\n",
       "  'Confirmation': 0.7746631009687195},\n",
       " 'abstract TripInfo': {'HBMS': 0.8771997757739184,\n",
       "  'BusinessTraveller': 0.8341783119598906,\n",
       "  'Hotel': 0.8528946394242646,\n",
       "  'SpecialOffer': 0.8100779755143902,\n",
       "  'Room': 0.8404189346574897,\n",
       "  'Booking': 0.8749408495643397,\n",
       "  'AccommodationDeal': 0.8760240120536721,\n",
       "  'Confirmation': 0.7959168322005852},\n",
       " 'BookingInfo': {'HBMS': 0.807287557368059,\n",
       "  'BusinessTraveller': 0.8123959246832164,\n",
       "  'Hotel': 0.8249180010007875,\n",
       "  'SpecialOffer': 0.8101500245387286,\n",
       "  'Room': 0.8047218220232936,\n",
       "  'Booking': 0.8478934276986679,\n",
       "  'AccommodationDeal': 0.8114572013170527,\n",
       "  'Confirmation': 0.7785700145919524},\n",
       " 'Booking': {'HBMS': 0.8211282551704149,\n",
       "  'BusinessTraveller': 0.8083799564967891,\n",
       "  'Hotel': 0.8270266981329976,\n",
       "  'SpecialOffer': 0.8198957572357004,\n",
       "  'Room': 0.7850226552566731,\n",
       "  'Booking': 0.9010539845432861,\n",
       "  'AccommodationDeal': 0.8516581414530008,\n",
       "  'Confirmation': 0.8092707478619549}}"
      ]
     },
     "execution_count": 3662,
     "metadata": {},
     "output_type": "execute_result"
    }
   ],
   "source": [
    "dict_sim_all"
   ]
  },
  {
   "cell_type": "code",
   "execution_count": 3663,
   "metadata": {
    "id": "0h_VDYCKdqHv"
   },
   "outputs": [
    {
     "name": "stdout",
     "output_type": "stream",
     "text": [
      "{'RoomType': {'HBMS': 0.804840725104826, 'BusinessTraveller': 0.7811249629928283, 'Hotel': 0.8408345123820181, 'SpecialOffer': 0.8013737019585344, 'Room': 0.877537021230031, 'Booking': 0.8101290769682334, 'AccommodationDeal': 0.8119374220133271, 'Confirmation': 0.7640029540639278}, 'BookingStatus': {'HBMS': 0.8183165492638729, 'BusinessTraveller': 0.7792535081412233, 'Hotel': 0.7993107361723563, 'SpecialOffer': 0.7732534754614532, 'Room': 0.777040305224274, 'Booking': 0.8125943053414727, 'AccommodationDeal': 0.775603114484755, 'Confirmation': 0.797169465991154}, 'PaymentType': {'HBMS': 0.7817584628370285, 'BusinessTraveller': 0.755398489554848, 'Hotel': 0.7977326556764767, 'SpecialOffer': 0.8007195931442392, 'Room': 0.7911308964613673, 'Booking': 0.8001536047825836, 'AccommodationDeal': 0.7911799472930916, 'Confirmation': 0.7600161695587908}, 'HotelBookingManager': {'HBMS': 0.8377303097667167, 'BusinessTraveller': 0.8451244448337505, 'Hotel': 0.8430153179829974, 'SpecialOffer': 0.820303873256826, 'Room': 0.8196312043949904, 'Booking': 0.8432896005599808, 'AccommodationDeal': 0.8283376027574934, 'Confirmation': 0.7909254677293187}, 'HotelChain': {'HBMS': 0.77602666294293, 'BusinessTraveller': 0.7845651293296427, 'Hotel': 0.8051050648446543, 'SpecialOffer': 0.7678790964299707, 'Room': 0.8114420516545421, 'Booking': 0.770742189734199, 'AccommodationDeal': 0.7706788688478589, 'Confirmation': 0.7653718052193009}, 'Traveller': {'HBMS': 0.8176973205972866, 'BusinessTraveller': 0.9099297399086929, 'Hotel': 0.8462711847649819, 'SpecialOffer': 0.812613048220939, 'Room': 0.81306527087252, 'Booking': 0.8109066070377369, 'AccommodationDeal': 0.8088053480969498, 'Confirmation': 0.7707516207943896}, 'BillingInformation': {'HBMS': 0.7814498481558416, 'BusinessTraveller': 0.8515918673347828, 'Hotel': 0.8068742520731098, 'SpecialOffer': 0.7877896197105283, 'Room': 0.7801201936856775, 'Booking': 0.8160277686173014, 'AccommodationDeal': 0.7950761267555017, 'Confirmation': 0.7667705096192171}, 'TravelPreference': {'HBMS': 0.7985410146118932, 'BusinessTraveller': 0.8554189619019895, 'Hotel': 0.794543648323077, 'SpecialOffer': 0.82336953732235, 'Room': 0.7806556513313072, 'Booking': 0.7994472919059815, 'AccommodationDeal': 0.7957201202854383, 'Confirmation': 0.7408431186560898}, 'Hotel': {'HBMS': 0.8433896910204065, 'BusinessTraveller': 0.8248910685994159, 'Hotel': 0.8806235381554204, 'SpecialOffer': 0.8736439237767198, 'Room': 0.8505020866794982, 'Booking': 0.8420497261418027, 'AccommodationDeal': 0.8571706763893728, 'Confirmation': 0.7461015040340838}, 'abstract Offer': {'HBMS': 0.750825314608831, 'BusinessTraveller': 0.7574181187748461, 'Hotel': 0.7782026018651237, 'SpecialOffer': 0.804573914567415, 'Room': 0.7851619405526185, 'Booking': 0.7751077651791944, 'AccommodationDeal': 0.7827907388086908, 'Confirmation': 0.7650207965734177}, 'SpecialOffer': {'HBMS': 0.7735088013462981, 'BusinessTraveller': 0.7759367912251652, 'Hotel': 0.801120729639988, 'SpecialOffer': 0.8701718571947649, 'Room': 0.8069434482520592, 'Booking': 0.7906325156272361, 'AccommodationDeal': 0.8014255249252007, 'Confirmation': 0.771253383432176}, 'RegularOffer': {'HBMS': 0.7605275113934732, 'BusinessTraveller': 0.7773873324979603, 'Hotel': 0.7926668094043735, 'SpecialOffer': 0.8327502850634988, 'Room': 0.8031901277203399, 'Booking': 0.7813601337819149, 'AccommodationDeal': 0.7883185107292986, 'Confirmation': 0.756244326789539}, 'TravelSearch': {'HBMS': 0.816386929548209, 'BusinessTraveller': 0.835568578277714, 'Hotel': 0.8037775168271207, 'SpecialOffer': 0.8034191276536587, 'Room': 0.8018010513614479, 'Booking': 0.8147756007475715, 'AccommodationDeal': 0.807018832568215, 'Confirmation': 0.7556602636435431}, 'SearchInfo': {'HBMS': 0.7511672348485865, 'BusinessTraveller': 0.7556100049546581, 'Hotel': 0.7644013808531325, 'SpecialOffer': 0.7719065790089227, 'Room': 0.7697382915272597, 'Booking': 0.7514694279765267, 'AccommodationDeal': 0.7463464173785482, 'Confirmation': 0.7360382317381168}, 'RoomAvailability': {'HBMS': 0.8127908076398815, 'BusinessTraveller': 0.7903626974353252, 'Hotel': 0.8611114804468015, 'SpecialOffer': 0.8103287720899981, 'Room': 0.8480502951331407, 'Booking': 0.8239465676362947, 'AccommodationDeal': 0.8169639345768511, 'Confirmation': 0.7746631009687195}, 'abstract TripInfo': {'HBMS': 0.8771997757739184, 'BusinessTraveller': 0.8341783119598906, 'Hotel': 0.8528946394242646, 'SpecialOffer': 0.8100779755143902, 'Room': 0.8404189346574897, 'Booking': 0.8749408495643397, 'AccommodationDeal': 0.8760240120536721, 'Confirmation': 0.7959168322005852}, 'BookingInfo': {'HBMS': 0.807287557368059, 'BusinessTraveller': 0.8123959246832164, 'Hotel': 0.8249180010007875, 'SpecialOffer': 0.8101500245387286, 'Room': 0.8047218220232936, 'Booking': 0.8478934276986679, 'AccommodationDeal': 0.8114572013170527, 'Confirmation': 0.7785700145919524}, 'Booking': {'HBMS': 0.8211282551704149, 'BusinessTraveller': 0.8083799564967891, 'Hotel': 0.8270266981329976, 'SpecialOffer': 0.8198957572357004, 'Room': 0.7850226552566731, 'Booking': 0.9010539845432861, 'AccommodationDeal': 0.8516581414530008, 'Confirmation': 0.8092707478619549}}\n"
     ]
    },
    {
     "data": {
      "text/plain": [
       "[('RoomType', None),\n",
       " ('BookingStatus', None),\n",
       " ('PaymentType', None),\n",
       " ('HotelBookingManager', 'HBMS'),\n",
       " ('HotelChain', None),\n",
       " ('BillingInformation', None),\n",
       " ('TravelPreference', None),\n",
       " ('abstract Offer', None),\n",
       " ('RegularOffer', None),\n",
       " ('TravelSearch', None),\n",
       " ('SearchInfo', None),\n",
       " ('abstract TripInfo', 'AccommodationDeal'),\n",
       " ('BookingInfo', None),\n",
       " (None, 'Confirmation')]"
      ]
     },
     "execution_count": 3663,
     "metadata": {},
     "output_type": "execute_result"
    }
   ],
   "source": [
    "mapping = match_classes(ref_classes, stu_classes, dict_sim_all, 0.8)\n",
    "mapping[0]"
   ]
  },
  {
   "cell_type": "code",
   "execution_count": 3664,
   "metadata": {
    "id": "c-JGkI6OgFFf"
   },
   "outputs": [],
   "source": [
    "for map in mapping[0]:\n",
    "  if map[0] and map[1]:\n",
    "    ref_cls.cls_atr[map[0]]['score'] = 1\n",
    "    ref_cls.cls_atr[map[0]]['counterpart'] = map[1]\n",
    "\n",
    "    stu_cls.cls_atr[map[1]]['score'] = 1\n",
    "    stu_cls.cls_atr[map[1]]['counterpart'] = map[0]\n",
    "\n",
    "    if ref_cls.cls_atr[map[0]][\"type\"] !=  stu_cls.cls_atr[map[1]][\"type\"]:\n",
    "      # type mismatch\n",
    "      ref_cls.cls_atr[map[0]]['score'] = 0.5\n",
    "      stu_cls.cls_atr[map[1]][\"score\"] = 0.5"
   ]
  },
  {
   "cell_type": "code",
   "execution_count": null,
   "metadata": {},
   "outputs": [],
   "source": []
  },
  {
   "cell_type": "markdown",
   "metadata": {
    "id": "AD1YW_WlcROJ"
   },
   "source": [
    "## Stage 2.1 Attribute mapping"
   ]
  },
  {
   "cell_type": "code",
   "execution_count": 3665,
   "metadata": {
    "id": "iscQC5FOiqGK"
   },
   "outputs": [],
   "source": [
    "def get_cosine_disntance(text1, text2, embedding):\n",
    "    avg = np.sum(embedding[text1], axis=0)\n",
    "    emb_i = avg / len(text1)\n",
    "\n",
    "    avg = np.sum(embedding[text2], axis=0)\n",
    "    emb_j = avg / len(text2)\n",
    "\n",
    "    return np.dot(emb_i, emb_j) / (np.linalg.norm(emb_i) * np.linalg.norm(emb_j))"
   ]
  },
  {
   "cell_type": "code",
   "execution_count": 3666,
   "metadata": {
    "id": "Y_pf4bzuhcWM"
   },
   "outputs": [],
   "source": [
    "def create_cosine_similarity_dict(attr_1, attr_2, embedding):\n",
    "  # attr_1: list[list] split camel case into separated case\n",
    "  # attr_2: list[list] split camel case into separated case\n",
    "  # embedding:\n",
    "  # raw_1: list[str] camcel case attributes\n",
    "  # raw_2: list[str] camcel case attributes\n",
    "\n",
    "  # create cosine distance between two attributes with embeeding\n",
    "\n",
    "  # >>> dic = createCosineDistance(['deviceStatus', 'deviceId'], ['id'], sgram_mde)\n",
    "  similarities = []\n",
    "  for att in attr_1:\n",
    "    emb_i = get_mde_embedding(att, embedding)\n",
    "    pair = []\n",
    "    for attribute in attr_2:\n",
    "      emb_j = get_mde_embedding(attribute, embedding)\n",
    "\n",
    "      sim = np.dot(emb_i, emb_j) / (np.linalg.norm(emb_i) * np.linalg.norm(emb_j))\n",
    "      pair.append(sim)\n",
    "\n",
    "    similarities.append(pair)\n",
    "\n",
    "  dict_attr = {}\n",
    "  for i in range(len(attr_1)):\n",
    "    dict_attr[attr_1[i]] = {}\n",
    "    for j in range(len(attr_2)):\n",
    "      dict_attr[attr_1[i]][attr_2[j]] = similarities[i][j]\n",
    "\n",
    "  return dict_attr"
   ]
  },
  {
   "cell_type": "code",
   "execution_count": 3667,
   "metadata": {
    "id": "3zgOAtMkjId5"
   },
   "outputs": [],
   "source": [
    "def match_attributes(raw_1, raw_2, dict_attr, threshold = 0.5):\n",
    "  # map attributes lists raw_1 and raw_2\n",
    "  # >>> mapAttributes(['deviceStatus'], ['id'], dic)[0]\n",
    "  def node_subst_cost_attr(node1, node2):\n",
    "    # threshod as 0.45\n",
    "    if dict_attr[node1[\"name\"]][node2[\"name\"]] < threshold:\n",
    "      return 3\n",
    "    else:\n",
    "      return 1-dict_attr[node1[\"name\"]][node2[\"name\"]]\n",
    "\n",
    "  G_att_1 = nx.Graph()\n",
    "  G_att_2 = nx.Graph()\n",
    "  for node in raw_1:\n",
    "    G_att_1.add_node(node, name = node)\n",
    "\n",
    "  for node in raw_2:\n",
    "    G_att_2.add_node(node, name = node)\n",
    "\n",
    "  for v in nx.optimize_edit_paths(G_att_1, G_att_2, node_subst_cost=node_subst_cost_attr, edge_match=None, timeout = 20):\n",
    "      minv = v\n",
    "  # minv\n",
    "\n",
    "  return minv"
   ]
  },
  {
   "cell_type": "code",
   "execution_count": 3668,
   "metadata": {
    "id": "_DfPQzlrkIPr"
   },
   "outputs": [],
   "source": [
    "def check_attributes_type(attr_1, attr_2, ref_dict, stu_dict):\n",
    "  # given two attribute, compare whether their type can match\n",
    "  attr_1 = attr_1.split() # from reference solution do not need to check it\n",
    "  attr_2 = attr_2.split()\n",
    "\n",
    "  # if enumerate literal and attributes\n",
    "  # if len(attr_1) != len(attr_2):\n",
    "  #   return 0.5, 0.5\n",
    "\n",
    "  # if an attributes use a regular class as its type\n",
    "  if len(attr_2) == 2:\n",
    "    t = attr_2[0].strip()\n",
    "    cls = stu_dict.get(t, None)\n",
    "    if cls is not None and (stu_dict[t]['type'] == \"regular\" or stu_dict[t]['type'] == \"abstract\"):\n",
    "      return 0.5, 0.5\n",
    "    \n",
    "  if len(attr_1) == 2 or len(attr_2) == 2:\n",
    "    t = attr_1[0].strip()\n",
    "    cls = ref_dict.get(t, None)\n",
    "    # print(cls)\n",
    "    t_2 = attr_2[0].strip()\n",
    "    cls_2 = stu_dict.get(t_2, None)   \n",
    "    # print(cls_2) \n",
    "    if cls is not None:\n",
    "      if ref_dict[t]['counterpart'] != t_2:\n",
    "        return 0.5, 0.5\n",
    "    if cls_2 is not None:\n",
    "      if stu_dict[t_2]['counterpart'] != t:\n",
    "        return 0.5, 0.5\n",
    "    \n",
    "  return 1,1"
   ]
  },
  {
   "cell_type": "code",
   "execution_count": 3669,
   "metadata": {},
   "outputs": [
    {
     "data": {
      "text/plain": [
       "(1, 1)"
      ]
     },
     "execution_count": 3669,
     "metadata": {},
     "output_type": "execute_result"
    }
   ],
   "source": [
    "x =check_attributes_type(('CommandStatus commandStatus', 'ControllerStatus status')[0], ('CommandStatus commandStatus', 'ControllerStatus status')[1], ref_cls.cls_atr, stu_cls.cls_atr)\n",
    "x"
   ]
  },
  {
   "cell_type": "markdown",
   "metadata": {
    "id": "Aa4XV2BtjJyR"
   },
   "source": [
    "### Stage 2.1.1 Attribute <-> Attribute (mapped classes)"
   ]
  },
  {
   "cell_type": "code",
   "execution_count": 3670,
   "metadata": {
    "id": "AWTlbDOnrwK-"
   },
   "outputs": [
    {
     "name": "stdout",
     "output_type": "stream",
     "text": [
      "['HotelBookingManager', 'HBMS']\n",
      "mapping [(None, 'string city'), (None, 'date arrivalDate'), (None, 'date departureDate'), (None, 'int numberOfRooms'), (None, 'string roomType'), (None, 'int hotelRating'), (None, 'float budget'), (None, 'boolean travelPreferences')]\n",
      "====================\n",
      "['Traveller', 'BusinessTraveller']\n",
      "mapping [('string name', 'string name'), ('int reliabilityRating', 'int reliabilityRating'), (None, 'string companyName'), (None, 'string address'), (None, 'boolean travelPreferences')]\n",
      "====================\n",
      "['Hotel', 'Hotel']\n",
      "mapping [('string city', 'string address'), ('string country', 'string name'), ('string area', 'string roomType'), (None, 'int hotelRating'), (None, 'boolean availability')]\n",
      "====================\n",
      "['SpecialOffer', 'SpecialOffer']\n",
      "mapping [(None, 'float price'), (None, 'string cityArea'), (None, 'int hotelRating'), (None, 'string keyPreferences')]\n",
      "====================\n",
      "['RoomAvailability', 'Room']\n",
      "mapping [(None, 'string type'), (None, 'int number')]\n",
      "====================\n",
      "['abstract TripInfo', 'AccommodationDeal']\n",
      "mapping [('int numberOfRooms', 'int numberOfRooms'), ('RoomType roomType', 'string roomType'), ('date arrivalDate', 'date arrivalDate'), ('date departureDate', 'date departureDate'), ('float budgetPerNight', 'float budget'), (None, 'string city'), (None, 'int hotelRating')]\n",
      "====================\n",
      "['Booking', 'Booking']\n",
      "mapping [('int bookingId', 'int numberOfRooms'), ('date cancellationDeadline', 'date arrivalDate'), ('string creditCardNumber', None), ('BookingStatus bookingStatus', 'string uniqueBookingIdentifier'), ('PaymentType paymentType', None), ('date confirmationDate', 'date departureDate'), ('float paidAmount', 'float price'), (None, 'string city'), (None, 'string roomType'), (None, 'float financialCompensation')]\n",
      "====================\n"
     ]
    }
   ],
   "source": [
    "# map classes\n",
    "pairs = []\n",
    "\n",
    "# get matched pairs\n",
    "for key in ref_cls.cls_atr:\n",
    "  if ref_cls.cls_atr[key][\"counterpart\"] != None:\n",
    "    pair = [key, ref_cls.cls_atr[key][\"counterpart\"]]\n",
    "    pairs.append(pair)\n",
    "\n",
    "for pair in pairs:\n",
    "  if pair[0] and pair[1]:\n",
    "    print(pair)\n",
    "\n",
    "    # map attributes:\n",
    "    # matched_ref = set()\n",
    "    # matched_attr = set()\n",
    "\n",
    "    raw_1 = []\n",
    "    for attributes in ref_cls.cls_atr[pair[0]][\"attributes\"]:\n",
    "      raw_1.append(attributes)\n",
    "\n",
    "    raw_2 = []\n",
    "    for attributes in stu_cls.cls_atr[pair[1]][\"attributes\"]:\n",
    "      raw_2.append(attributes)\n",
    "\n",
    "    cos_dict = create_cosine_similarity_dict(raw_1, raw_2, sgram_mde)\n",
    "    mappings = match_attributes(raw_1, raw_2, cos_dict)[0]\n",
    "    print(\"mapping\", mappings)\n",
    "\n",
    "    for mapping in mappings:\n",
    "      if mapping[0] != None and mapping[1] != None:\n",
    "        scores = check_attributes_type(mapping[0], mapping[1], ref_cls.cls_atr, stu_cls.cls_atr)\n",
    "        ref_cls.cls_atr[pair[0]][\"attributes\"][mapping[0]]['score'] = scores[0]\n",
    "        ref_cls.cls_atr[pair[0]][\"attributes\"][mapping[0]][\"counterpart\"] = (mapping[1], pair[1])\n",
    "        stu_cls.cls_atr[pair[1]][\"attributes\"][mapping[1]]['score'] = scores[1]\n",
    "        stu_cls.cls_atr[pair[1]][\"attributes\"][mapping[1]][\"counterpart\"] =  (mapping[0], pair[0])\n",
    "\n",
    "    print(\"=\"*20)"
   ]
  },
  {
   "cell_type": "markdown",
   "metadata": {
    "id": "w1MhcWsJ5oaH"
   },
   "source": [
    "### Stage 2.1.2 Attribute <-> Attribute (between any classes)"
   ]
  },
  {
   "cell_type": "code",
   "execution_count": 3671,
   "metadata": {
    "id": "h6Hg_bA7AozB"
   },
   "outputs": [],
   "source": [
    "def create_cosine_similarity_list(attr_1, attr_2, embedding):\n",
    "  # attr_1: list[list] split camel case into separated case\n",
    "  # attr_2: list[list] split camel case into separated case\n",
    "  # embedding:\n",
    "  # raw_1: list[str] camcel case attributes\n",
    "  # raw_2: list[str] camcel case attributes\n",
    "\n",
    "  # create cosine distance between two attributes with embeeding\n",
    "\n",
    "  # >>> dic = createCosineDistance(['deviceStatus', 'deviceId'], ['id'], sgram_mde)\n",
    "  similarities = []\n",
    "  for att in attr_1:\n",
    "    emb_i = get_mde_embedding(att, embedding)\n",
    "    pair = []\n",
    "    for attribute in attr_2:\n",
    "      emb_j = get_mde_embedding(attribute, embedding)\n",
    "\n",
    "      sim = np.dot(emb_i, emb_j) / (np.linalg.norm(emb_i) * np.linalg.norm(emb_j))\n",
    "      pair.append(sim)\n",
    "\n",
    "    similarities.append(pair)\n",
    "\n",
    "  return similarities"
   ]
  },
  {
   "cell_type": "code",
   "execution_count": 3672,
   "metadata": {
    "id": "MJjwB1h-9rgc"
   },
   "outputs": [],
   "source": [
    "def combine_two_dict(list_1, list_2, atr_1, atr_2, cls_1, cls_2, weight_1 = 0.9, weight_2=0.1):\n",
    "  # list_1: similarity between cls\n",
    "  # list_2: cos similarity between attributes\n",
    "  if weight_1 + weight_2 != 1:\n",
    "    raise ValueError(\"weight_1 + weight_2 != 1\")\n",
    "  result = {}\n",
    "  for i in range(len(atr_1)):\n",
    "    atr_r = atr_1[i]\n",
    "    cls_r = cls_1[i]\n",
    "    tmp_ref = (atr_r, cls_r)\n",
    "    result[tmp_ref] = {}\n",
    "    for j in range(len(atr_2)):\n",
    "      atr_s = atr_2[j]\n",
    "      cls_s = cls_2[j]\n",
    "      tmp_stu = (atr_s, cls_s)\n",
    "\n",
    "      result[tmp_ref][tmp_stu] = weight_1 * list_1[i][j] + weight_2 * list_2[i][j]\n",
    "\n",
    "  return result\n"
   ]
  },
  {
   "cell_type": "code",
   "execution_count": 3673,
   "metadata": {
    "id": "ksyw3eTg5nLe"
   },
   "outputs": [
    {
     "name": "stdout",
     "output_type": "stream",
     "text": [
      "(('SINGLE', 'RoomType'), None)\n",
      "(('DOUBLE', 'RoomType'), None)\n",
      "(('TWIN', 'RoomType'), None)\n",
      "(('FINALIZED', 'BookingStatus'), None)\n",
      "(('CONFIRMED', 'BookingStatus'), ('boolean confirmed', 'Confirmation'))\n",
      "(('CANCELLED_BY_HBMS', 'BookingStatus'), None)\n",
      "(('PRELIMINARY', 'BookingStatus'), None)\n",
      "(('CANCELLED_BY_TRAVELLER', 'BookingStatus'), None)\n",
      "(('CANCELLED_BY_HOTEL', 'BookingStatus'), ('int hotelRating', 'Hotel'))\n",
      "(('PREPAID', 'PaymentType'), None)\n",
      "(('PAID_AT_HOTEL', 'PaymentType'), ('int hotelRating', 'SpecialOffer'))\n",
      "(('string companyName', 'BillingInformation'), ('string companyName', 'BusinessTraveller'))\n",
      "(('string address', 'BillingInformation'), ('string address', 'BusinessTraveller'))\n",
      "(('string preference', 'TravelPreference'), ('string keyPreferences', 'SpecialOffer'))\n",
      "(('string value', 'TravelPreference'), ('string type', 'Room'))\n",
      "(('string creditCardNumber', 'Booking'), ('string city', 'Booking'))\n",
      "(('PaymentType paymentType', 'Booking'), None)\n",
      "(None, ('string city', 'HBMS'))\n",
      "(None, ('date arrivalDate', 'HBMS'))\n",
      "(None, ('date departureDate', 'HBMS'))\n",
      "(None, ('int numberOfRooms', 'HBMS'))\n",
      "(None, ('string roomType', 'HBMS'))\n",
      "(None, ('int hotelRating', 'HBMS'))\n",
      "(None, ('float budget', 'HBMS'))\n",
      "(None, ('boolean travelPreferences', 'HBMS'))\n",
      "(None, ('boolean travelPreferences', 'BusinessTraveller'))\n",
      "(None, ('boolean availability', 'Hotel'))\n",
      "(None, ('float price', 'SpecialOffer'))\n",
      "(None, ('string cityArea', 'SpecialOffer'))\n",
      "(None, ('int number', 'Room'))\n",
      "(None, ('string roomType', 'Booking'))\n",
      "(None, ('float financialCompensation', 'Booking'))\n",
      "(None, ('string city', 'AccommodationDeal'))\n",
      "(None, ('int hotelRating', 'AccommodationDeal'))\n",
      "(None, ('date confirmationDate', 'Confirmation'))\n",
      "====================\n"
     ]
    }
   ],
   "source": [
    "# attr between any classes\n",
    "\n",
    "raw_1 = []\n",
    "ref_source = []\n",
    "tup_r = []\n",
    "# get attributes on instrucotr sides\n",
    "for cls in ref_cls.cls_atr:\n",
    "  for attributes in ref_cls.cls_atr[cls][\"attributes\"]:\n",
    "    if ref_cls.cls_atr[cls][\"attributes\"][attributes][\"counterpart\"] == None:\n",
    "      raw_1.append(attributes)\n",
    "      ref_source.append(cls)\n",
    "      tup_r.append((attributes, cls))\n",
    "\n",
    "raw_2 = []\n",
    "stu_source = []\n",
    "tup_s = []\n",
    "# get attributes on student sides\n",
    "for cls in stu_cls.cls_atr:\n",
    "  for attributes in stu_cls.cls_atr[cls][\"attributes\"]:\n",
    "    if stu_cls.cls_atr[cls][\"attributes\"][attributes][\"counterpart\"] == None:\n",
    "      raw_2.append(attributes)\n",
    "      stu_source.append(cls)\n",
    "      tup_s.append((attributes, cls))\n",
    "\n",
    "list_1 = create_cosine_similarity_list(raw_1, raw_2, sgram_mde)\n",
    "list_2 = create_cosine_similarity_list(ref_source, stu_source, sgram_mde)\n",
    "combined = combine_two_dict(list_1, list_2, raw_1, raw_2, ref_source, stu_source)\n",
    "\n",
    "mappings = match_attributes(tup_r, tup_s, combined)[0]\n",
    "\n",
    "for mapping in mappings:\n",
    "  print(mapping)\n",
    "  if mapping[0] != None and mapping[1] != None:\n",
    "    scores = check_attributes_type(mapping[0][0], mapping[1][0], ref_cls.cls_atr, stu_cls.cls_atr)\n",
    "\n",
    "\n",
    "    ref_cls.cls_atr[mapping[0][1]][\"attributes\"][mapping[0][0]]['score'] = min(scores[0], 0.5)\n",
    "    ref_cls.cls_atr[mapping[0][1]][\"attributes\"][mapping[0][0]][\"counterpart\"] = mapping[1]\n",
    "\n",
    "    stu_cls.cls_atr[mapping[1][1]][\"attributes\"][mapping[1][0]]['score'] = min(scores[1], 0.5)\n",
    "    stu_cls.cls_atr[mapping[1][1]][\"attributes\"][mapping[1][0]][\"counterpart\"] =  mapping[0]\n",
    "\n",
    "    if ref_cls.cls_atr[mapping[0][1]]['counterpart'] == mapping[1][1]:\n",
    "      ref_cls.cls_atr[mapping[0][1]][\"attributes\"][mapping[0][0]]['score'] = min(scores[0], 1)\n",
    "\n",
    "      stu_cls.cls_atr[mapping[1][1]][\"attributes\"][mapping[1][0]]['score'] = min(scores[1], 1)\n",
    "print(\"=\"*20)"
   ]
  },
  {
   "cell_type": "markdown",
   "metadata": {
    "id": "z8jvTH1EcWAo"
   },
   "source": [
    "## Stage 2.2.1 Attribute mapping atr -> cls"
   ]
  },
  {
   "cell_type": "code",
   "execution_count": 3674,
   "metadata": {},
   "outputs": [
    {
     "name": "stdout",
     "output_type": "stream",
     "text": [
      "(('SINGLE', 'RoomType'), None)\n",
      "(('DOUBLE', 'RoomType'), None)\n",
      "(('TWIN', 'RoomType'), None)\n",
      "(('FINALIZED', 'BookingStatus'), None)\n",
      "(('CANCELLED_BY_HBMS', 'BookingStatus'), None)\n",
      "(('PRELIMINARY', 'BookingStatus'), None)\n",
      "(('CANCELLED_BY_TRAVELLER', 'BookingStatus'), None)\n",
      "(('PREPAID', 'PaymentType'), None)\n",
      "(('PaymentType paymentType', 'Booking'), None)\n",
      "(None, ('Confirmation', 'Confirmation'))\n",
      "====================\n"
     ]
    }
   ],
   "source": [
    "#  get non-mapped attributes on instrucotr side\n",
    "\n",
    "raw_1 = []\n",
    "ref_source = []\n",
    "tup_r = []\n",
    "# get attributes on instrucotr sides\n",
    "for cls in ref_cls.cls_atr:\n",
    "  for attributes in ref_cls.cls_atr[cls][\"attributes\"]:\n",
    "    if ref_cls.cls_atr[cls][\"attributes\"][attributes][\"counterpart\"] == None:\n",
    "      raw_1.append(attributes)\n",
    "      ref_source.append(cls)\n",
    "      tup_r.append((attributes, cls))\n",
    "\n",
    "raw_2 = []\n",
    "stu_source = []\n",
    "tup_s = []\n",
    "# get un-mapped class on student sides\n",
    "for cls in stu_cls.cls_atr:\n",
    "    if stu_cls.cls_atr[cls][\"counterpart\"] == None:\n",
    "      raw_2.append(cls)\n",
    "      stu_source.append(cls)\n",
    "      tup_s.append((cls, cls))\n",
    "\n",
    "list_1 = create_cosine_similarity_list(raw_1, raw_2, sgram_mde)\n",
    "list_2 = create_cosine_similarity_list(ref_source, stu_source, sgram_mde)\n",
    "combined = combine_two_dict(list_1, list_2, raw_1, raw_2, ref_source, stu_source)\n",
    "\n",
    "mappings = match_attributes(tup_r, tup_s, combined)[0]\n",
    "\n",
    "for mapping in mappings:\n",
    "  print(mapping)\n",
    "  if mapping[0] != None and mapping[1] != None:\n",
    "    # scores = check_attributes_type(mapping[0][0], mapping[1][0], ref_cls.cls_atr, stu_cls.cls_atr)\n",
    "    ref_cls.cls_atr[mapping[0][1]][\"attributes\"][mapping[0][0]]['score'] = 0.5\n",
    "    ref_cls.cls_atr[mapping[0][1]][\"attributes\"][mapping[0][0]][\"counterpart\"] = (None, mapping[1][1])\n",
    "\n",
    "    stu_cls.cls_atr[mapping[1][1]]['score'] = 0.5\n",
    "    stu_cls.cls_atr[mapping[1][1]][\"counterpart\"] =  mapping[0]\n",
    "\n",
    "print(\"=\"*20)\n"
   ]
  },
  {
   "cell_type": "markdown",
   "metadata": {
    "id": "RUqlTdHicb7A"
   },
   "source": [
    "## Stage 2.2.2 Attribute mapping cls -> atr"
   ]
  },
  {
   "cell_type": "code",
   "execution_count": 3675,
   "metadata": {},
   "outputs": [
    {
     "name": "stdout",
     "output_type": "stream",
     "text": [
      "(('RoomType', 'RoomType'), ('string roomType', 'Booking'))\n",
      "(('BookingStatus', 'BookingStatus'), None)\n",
      "(('PaymentType', 'PaymentType'), None)\n",
      "(('HotelChain', 'HotelChain'), ('int hotelRating', 'AccommodationDeal'))\n",
      "(('BillingInformation', 'BillingInformation'), None)\n",
      "(('TravelPreference', 'TravelPreference'), ('boolean travelPreferences', 'BusinessTraveller'))\n",
      "(('abstract Offer', 'abstract Offer'), None)\n",
      "(('RegularOffer', 'RegularOffer'), None)\n",
      "(('TravelSearch', 'TravelSearch'), ('boolean travelPreferences', 'HBMS'))\n",
      "(('SearchInfo', 'SearchInfo'), None)\n",
      "(('BookingInfo', 'BookingInfo'), None)\n",
      "(None, ('string city', 'HBMS'))\n",
      "(None, ('date arrivalDate', 'HBMS'))\n",
      "(None, ('date departureDate', 'HBMS'))\n",
      "(None, ('int numberOfRooms', 'HBMS'))\n",
      "(None, ('string roomType', 'HBMS'))\n",
      "(None, ('int hotelRating', 'HBMS'))\n",
      "(None, ('float budget', 'HBMS'))\n",
      "(None, ('boolean availability', 'Hotel'))\n",
      "(None, ('float price', 'SpecialOffer'))\n",
      "(None, ('string cityArea', 'SpecialOffer'))\n",
      "(None, ('int number', 'Room'))\n",
      "(None, ('float financialCompensation', 'Booking'))\n",
      "(None, ('string city', 'AccommodationDeal'))\n",
      "(None, ('date confirmationDate', 'Confirmation'))\n",
      "====================\n"
     ]
    }
   ],
   "source": [
    "#  get non-mapped cls on instrucotr side\n",
    "\n",
    "raw_1 = []\n",
    "ref_source = []\n",
    "tup_r = []\n",
    "# get class on instrucotr sides\n",
    "for cls in ref_cls.cls_atr:\n",
    "    if ref_cls.cls_atr[cls][\"counterpart\"] == None:\n",
    "      raw_1.append(cls)\n",
    "      ref_source.append(cls)\n",
    "      tup_r.append((cls, cls))\n",
    "\n",
    "raw_2 = []\n",
    "stu_source = []\n",
    "tup_s = []\n",
    "# get un-mapped class on student sides\n",
    "for cls in stu_cls.cls_atr:\n",
    "  for attributes in stu_cls.cls_atr[cls][\"attributes\"]:\n",
    "    if stu_cls.cls_atr[cls][\"attributes\"][attributes][\"counterpart\"] == None:\n",
    "      raw_2.append(attributes)\n",
    "      stu_source.append(cls)\n",
    "      tup_s.append((attributes, cls))\n",
    "\n",
    "list_1 = create_cosine_similarity_list(raw_1, raw_2, sgram_mde)\n",
    "list_2 = create_cosine_similarity_list(ref_source, stu_source, sgram_mde)\n",
    "combined = combine_two_dict(list_1, list_2, raw_1, raw_2, ref_source, stu_source)\n",
    "\n",
    "mappings = match_attributes(tup_r, tup_s, combined)[0]\n",
    "\n",
    "for mapping in mappings:\n",
    "  print(mapping)\n",
    "  if mapping[0] != None and mapping[1] != None:\n",
    "    # scores = check_attributes_type(mapping[0][0], mapping[1][0], ref_cls.cls_atr, stu_cls.cls_atr)\n",
    "    ref_cls.cls_atr[mapping[0][1]]['score'] = 0.5\n",
    "    ref_cls.cls_atr[mapping[0][1]][\"counterpart\"] = mapping[1]\n",
    "\n",
    "    stu_cls.cls_atr[mapping[1][1]][\"attributes\"][mapping[1][0]]['score'] = 0.5\n",
    "    stu_cls.cls_atr[mapping[1][1]][\"attributes\"][mapping[1][0]][\"counterpart\"] = (None, mapping[0][1])\n",
    "\n",
    "print(\"=\"*20)\n"
   ]
  },
  {
   "cell_type": "code",
   "execution_count": null,
   "metadata": {},
   "outputs": [],
   "source": []
  },
  {
   "cell_type": "markdown",
   "metadata": {
    "id": "Nj29zba_g4b9"
   },
   "source": [
    "## Stage 3: Relationship mapping"
   ]
  },
  {
   "cell_type": "code",
   "execution_count": 3676,
   "metadata": {
    "id": "tcebf4Y10ZWF"
   },
   "outputs": [],
   "source": [
    "def check_relations_classes(ref_index, stu_index, ref_elements, stu_elements):\n",
    "    # ref_index: index of the element in the dsl\n",
    "    # stu_index: index of the element in the dsl\n",
    "    # ref_elements: list[str] elements in the dsl\n",
    "    # stu_elements: list[str] elements in the dsl\n",
    "\n",
    "    ref_class_1 = ref_elements[ref_index]\n",
    "    # check whether this is an abstract class\n",
    "    dict_keys = list(ref_attributes.keys())\n",
    "    if not ref_class_1 in dict_keys:\n",
    "      abstract = \"abstract \" + ref_class_1\n",
    "      ref_class_1 = abstract\n",
    "\n",
    "    true_pair = ref_attributes[ref_class_1][\"counterpart\"]\n",
    "    if isinstance(true_pair, tuple):\n",
    "      boolean_1 = False\n",
    "    elif true_pair == None:\n",
    "      boolean_1 = False\n",
    "    else:\n",
    "      tmp = true_pair.replace(\"abstract \", \"\")\n",
    "      boolean_1 = stu_elements[stu_index] == tmp\n",
    "    return boolean_1"
   ]
  },
  {
   "cell_type": "markdown",
   "metadata": {
    "id": "jOkmZADOQVKU"
   },
   "source": [
    "#### Compare rel"
   ]
  },
  {
   "cell_type": "code",
   "execution_count": 3677,
   "metadata": {
    "id": "W4LkPWHX0kRX"
   },
   "outputs": [],
   "source": [
    "\n",
    "def compare_edges(ref_e, stu_e):\n",
    "  # compare if two relationships match\n",
    "  # return bool, score, score\n",
    "\n",
    "  ref_elements = ref_e.split()\n",
    "  stu_elements = stu_e.split()\n",
    "  # print(ref_elements, stu_elements)\n",
    "\n",
    "  # exact match first\n",
    "  # length must match\n",
    "  n_ref = len(ref_elements)\n",
    "  n_stu = len(stu_elements)\n",
    "  if n_ref == n_stu and n_ref == 5:\n",
    "    # all element must match\n",
    "    boolean_1 = check_relations_classes(1,1,ref_elements,stu_elements )\n",
    "\n",
    "    boolean_4 = check_relations_classes(4,4,ref_elements,stu_elements )\n",
    "\n",
    "    # type\n",
    "    boolean_2 = ref_elements[2] == stu_elements[2]\n",
    "\n",
    "    # association\n",
    "    boolean_0 = ref_elements[0] == stu_elements[0]\n",
    "\n",
    "    # association\n",
    "    boolean_3 = ref_elements[3] == stu_elements[3]\n",
    "\n",
    "    if boolean_0 and boolean_1 and boolean_2 and boolean_3 and boolean_4:\n",
    "      print(\"exact match success\")\n",
    "      print(ref_e, \"|||\", stu_e)\n",
    "      return True, 1, 1\n",
    "\n",
    "    boolean_1_4 = False\n",
    "    boolean_4_1 = False\n",
    "    boolean_1_4 = check_relations_classes(1,4,ref_elements,stu_elements )\n",
    "    boolean_4_1 = check_relations_classes(4,1,ref_elements,stu_elements )\n",
    "\n",
    "    # check if the relationship is fliped, this only works for associate, not containment\n",
    "    if  \"associate\" in ref_elements[2] and \"associate\" in stu_elements[2]:\n",
    "      # association\n",
    "      boolean_0 = ref_elements[0] == stu_elements[3]\n",
    "\n",
    "      # association\n",
    "      boolean_3 = ref_elements[3] == stu_elements[0]\n",
    "\n",
    "    if boolean_0 and boolean_1_4 and boolean_3 and boolean_4_1 and boolean_2:\n",
    "      print(\"match success, flipped associate\")\n",
    "      print(ref_e, \"|||\", stu_e)\n",
    "      return True, 1, 1\n",
    "\n",
    "    # check if relationship is partially match\n",
    "    if  (boolean_1 and boolean_4) or (boolean_1_4 and boolean_4_1):\n",
    "      print(\"match partially success\")\n",
    "      print(ref_e, \"|||\", stu_e)\n",
    "      return True, 0.5, 0.5\n",
    "\n",
    "  if n_ref == n_stu and n_ref == 3:\n",
    "    # all element must match\n",
    "    boolean_0 = check_relations_classes(0,0,ref_elements,stu_elements )\n",
    "    boolean_2 = check_relations_classes(2,2,ref_elements,stu_elements )\n",
    "\n",
    "    # type\n",
    "    boolean_1 = ref_elements[1] == stu_elements[1]\n",
    "\n",
    "    if boolean_0 and boolean_1 and boolean_2:\n",
    "      print(\"match success\")\n",
    "      print(ref_e, \"|||\", stu_e)\n",
    "      # ref_dict[ref_e][\"score\"] = 1\n",
    "      # ref_dict[ref_e][\"counterpart\"] = stu_e\n",
    "\n",
    "      # stu_dict[stu_e][\"score\"] = 1\n",
    "      # stu_dict[stu_e][\"counterpart\"] = ref_e\n",
    "      return True, 1, 1\n",
    "\n",
    "\n",
    "  return False,0, 0"
   ]
  },
  {
   "cell_type": "code",
   "execution_count": 3678,
   "metadata": {
    "id": "Ts1dyVvI0qZL"
   },
   "outputs": [],
   "source": [
    "\n",
    "for i, ref_tmp in enumerate(edges[0].raw_dsl):\n",
    "  matchings = []\n",
    "  for j, stu_tmp in enumerate(edges[1].raw_dsl):\n",
    "    if edges[0].rels[i][\"counterpart\"] is None and edges[1].rels[j][\"counterpart\"] is None:\n",
    "      result = compare_edges(ref_tmp, stu_tmp)\n",
    "      if result[0]:\n",
    "        matching = (i, j, result[1], result[2])\n",
    "        matchings.append(matching)\n",
    "        # matched_stu_edges.add(j)\n",
    "        # matched_ref_edges.add(i)\n",
    "        # edges[0].rels[i][\"score\"] = result[1]\n",
    "        # edges[0].rels[i][\"counterpart\"] = stu_tmp\n",
    "\n",
    "        # edges[1].rels[j][\"score\"] = result[2]\n",
    "        # edges[1].rels[j][\"counterpart\"] = ref_tmp\n",
    "  print(matchings)\n",
    "  if len(matchings) > 0:\n",
    "    print()\n",
    "    highest_score = 0\n",
    "    matching = None\n",
    "\n",
    "    for m in matchings:\n",
    "      if m[2] > highest_score:\n",
    "        matching = m\n",
    "        highest_score = m[2]\n",
    "    j_j = matching[1]\n",
    "    i_i = matching[0]\n",
    "    \n",
    "    edges[0].rels[i_i][\"score\"] = m[2]\n",
    "    edges[0].rels[i_i][\"counterpart\"] = edges[1].raw_dsl[j_j]\n",
    "\n",
    "    edges[1].rels[j_j][\"score\"] = m[3]\n",
    "    edges[1].rels[j_j][\"counterpart\"] = edges[0].raw_dsl[i_i]\n",
    "\n"
   ]
  },
  {
   "cell_type": "markdown",
   "metadata": {
    "id": "zVK8inUYg-4A"
   },
   "source": [
    "## Result: Precision/Recall/F1"
   ]
  },
  {
   "cell_type": "markdown",
   "metadata": {},
   "source": [
    "### save matching to disk"
   ]
  },
  {
   "cell_type": "code",
   "execution_count": 3679,
   "metadata": {},
   "outputs": [],
   "source": [
    "if not os.path.exists(student_out_dir):\n",
    "    os.makedirs(student_out_dir)"
   ]
  },
  {
   "cell_type": "code",
   "execution_count": 3680,
   "metadata": {},
   "outputs": [],
   "source": [
    "# with open( student_out_dir + 'matching.pkl', 'wb') as outp:\n",
    "#     pickle.dump(grader, outp, pickle.HIGHEST_PROTOCOL)"
   ]
  },
  {
   "cell_type": "code",
   "execution_count": 3681,
   "metadata": {},
   "outputs": [
    {
     "data": {
      "text/plain": [
       "'results/gpt-4/sherpa/08_HBMS/result/'"
      ]
     },
     "execution_count": 3681,
     "metadata": {},
     "output_type": "execute_result"
    }
   ],
   "source": [
    "student_out_dir"
   ]
  },
  {
   "cell_type": "code",
   "execution_count": 3682,
   "metadata": {},
   "outputs": [],
   "source": [
    "\n",
    "\n",
    "# as requested in comment\n",
    "\n",
    "with open(student_out_dir + 'solution_matching.txt', 'w') as file:\n",
    "     file.write(json.dumps(grader.ref.cls_atr))\n",
    "\n",
    "\n",
    "with open(student_out_dir + 'student_matching.txt', 'w') as file:\n",
    "     file.write(json.dumps(grader.stu.cls_atr))\n",
    "\n",
    "with open(student_out_dir + 'solution_matching_relationship.txt', 'w') as file:\n",
    "     file.write(json.dumps(grader.ref.rel.rels))\n",
    "\n",
    "\n",
    "with open(student_out_dir + 'student_matching_relationship.txt', 'w') as file:\n",
    "     file.write(json.dumps(grader.stu.rel.rels))"
   ]
  },
  {
   "cell_type": "code",
   "execution_count": 3683,
   "metadata": {},
   "outputs": [
    {
     "data": {
      "text/plain": [
       "'results/gpt-4/sherpa/08_HBMS/result/'"
      ]
     },
     "execution_count": 3683,
     "metadata": {},
     "output_type": "execute_result"
    }
   ],
   "source": [
    "student_out_dir"
   ]
  },
  {
   "cell_type": "markdown",
   "metadata": {},
   "source": [
    "###### to local"
   ]
  },
  {
   "cell_type": "code",
   "execution_count": 3684,
   "metadata": {},
   "outputs": [],
   "source": [
    "# # # be careful...\n",
    "\n",
    "# with open(student_dir + \"human_eval/\" + 'ref_meta_cls.py', 'w') as file:\n",
    "#     file.write(json.dumps(grader.ref.cls_atr))\n",
    "\n",
    "\n",
    "# with open(student_dir + \"human_eval/\" + 'stu_meta_cls.py', 'w') as file:\n",
    "#     file.write(json.dumps(grader.stu.cls_atr))\n",
    "\n",
    "# with open(student_dir + \"human_eval/\" + 'ref_meta_rels.py', 'w') as file:\n",
    "#     file.write(json.dumps(grader.ref.rel.rels))\n",
    "\n",
    "\n",
    "# with open(student_dir + \"human_eval/\" + 'stu_meta_rels.py', 'w') as file:\n",
    "#     file.write(json.dumps(grader.stu.rel.rels))"
   ]
  },
  {
   "cell_type": "code",
   "execution_count": 3685,
   "metadata": {},
   "outputs": [],
   "source": [
    "algo_result = {}\n",
    "algo_result[\"class\"] = {\"precision\": 0, \"recall\": 0, \"f1\":0}\n",
    "algo_result[\"attribute\"] = {\"precision\": 0, \"recall\": 0, \"f1\":0}\n",
    "algo_result[\"relationship\"] = {\"precision\": 0, \"recall\": 0, \"f1\":0}"
   ]
  },
  {
   "cell_type": "markdown",
   "metadata": {
    "id": "qCEg2NRm1hA3"
   },
   "source": [
    "### Class"
   ]
  },
  {
   "cell_type": "code",
   "execution_count": 3686,
   "metadata": {
    "id": "JOA-f9jC1foa"
   },
   "outputs": [
    {
     "name": "stdout",
     "output_type": "stream",
     "text": [
      "18 8.5\n"
     ]
    }
   ],
   "source": [
    "# recell\n",
    "count = 0\n",
    "recall = 0\n",
    "for key in list(ref_attributes.keys()):\n",
    "  count += 1\n",
    "  recall += ref_attributes[key][\"score\"]\n",
    "print(count, recall)\n",
    "\n",
    "if count != 0:\n",
    "  algo_result[\"class\"]['recall'] = recall / count"
   ]
  },
  {
   "cell_type": "code",
   "execution_count": 3687,
   "metadata": {
    "id": "AbAnFeeM1l4s"
   },
   "outputs": [
    {
     "name": "stdout",
     "output_type": "stream",
     "text": [
      "8 6.5\n"
     ]
    }
   ],
   "source": [
    "# precision\n",
    "count = 0\n",
    "precision = 0\n",
    "for key in list(stu_attributes.keys()):\n",
    "  count += 1\n",
    "  precision += stu_attributes[key][\"score\"]\n",
    "\n",
    "print(count, precision)\n",
    "if count != 0:\n",
    "  algo_result[\"class\"]['precision'] = precision / count\n",
    "\n",
    "if algo_result[\"class\"]['recall']   + algo_result[\"class\"]['precision'] != 0:\n",
    "  algo_result[\"class\"]['f1'] = 2* (algo_result[\"class\"]['recall']   * algo_result[\"class\"]['precision'] ) / ( algo_result[\"class\"]['recall']   + algo_result[\"class\"]['precision']  )\n"
   ]
  },
  {
   "cell_type": "markdown",
   "metadata": {
    "id": "gDH3PsL21unk"
   },
   "source": [
    "### Attribute"
   ]
  },
  {
   "cell_type": "code",
   "execution_count": 3688,
   "metadata": {
    "id": "67CLMQ6j10Wx"
   },
   "outputs": [
    {
     "name": "stdout",
     "output_type": "stream",
     "text": [
      "32 18.5\n"
     ]
    }
   ],
   "source": [
    "# recall\n",
    "count = 0\n",
    "recall = 0\n",
    "for key in list(ref_attributes.keys()):\n",
    "  attrs = ref_attributes[key][\"attributes\"]\n",
    "\n",
    "  for att in attrs:\n",
    "    count += 1\n",
    "    recall += ref_attributes[key][\"attributes\"][att][\"score\"]\n",
    "print(count, recall)\n",
    "\n",
    "if count != 0:\n",
    "  algo_result[\"attribute\"]['recall'] = recall / count"
   ]
  },
  {
   "cell_type": "code",
   "execution_count": 3689,
   "metadata": {
    "id": "7MIGD7kS12JT"
   },
   "outputs": [
    {
     "name": "stdout",
     "output_type": "stream",
     "text": [
      "41 20.5\n"
     ]
    }
   ],
   "source": [
    "count = 0\n",
    "precision = 0\n",
    "for key in list(stu_attributes.keys()):\n",
    "  attrs = stu_attributes[key][\"attributes\"]\n",
    "\n",
    "  for att in attrs:\n",
    "    count += 1\n",
    "    precision += stu_attributes[key][\"attributes\"][att][\"score\"]\n",
    "print(count, precision)\n",
    "\n",
    "if count != 0:\n",
    "  algo_result[\"attribute\"]['precision'] = precision / count\n",
    "\n",
    "r = algo_result[\"attribute\"]['recall']\n",
    "p = algo_result[\"attribute\"]['precision']\n",
    "\n",
    "if r + p != 0:\n",
    "  algo_result[\"attribute\"]['f1'] = 2* (r * p) / (r + p)\n"
   ]
  },
  {
   "cell_type": "markdown",
   "metadata": {
    "id": "qWYSO_N415V0"
   },
   "source": [
    "### Relationship"
   ]
  },
  {
   "cell_type": "code",
   "execution_count": 3690,
   "metadata": {
    "id": "PkuCKrzF17CR"
   },
   "outputs": [
    {
     "name": "stdout",
     "output_type": "stream",
     "text": [
      "0 0\n"
     ]
    }
   ],
   "source": [
    "count = 0\n",
    "recall = 0\n",
    "for tmp in edges[0].rels:\n",
    "  attrs = tmp[\"score\"]\n",
    "\n",
    "  count += 1\n",
    "  recall += attrs\n",
    "print(count, recall)\n",
    "\n",
    "if count != 0:\n",
    "  algo_result[\"relationship\"]['recall'] = recall / count"
   ]
  },
  {
   "cell_type": "code",
   "execution_count": 3691,
   "metadata": {
    "id": "XZE-uCOM2ATr"
   },
   "outputs": [
    {
     "name": "stdout",
     "output_type": "stream",
     "text": [
      "0 0\n"
     ]
    }
   ],
   "source": [
    "count = 0\n",
    "precision = 0\n",
    "for tmp in edges[1].rels:\n",
    "  attrs = tmp[\"score\"]\n",
    "\n",
    "  count += 1\n",
    "  precision += attrs\n",
    "print(count, precision)\n",
    "\n",
    "if count!= 0:\n",
    "  algo_result[\"relationship\"]['precision'] = precision / count\n",
    "r = algo_result[\"relationship\"]['recall']\n",
    "p = algo_result[\"relationship\"]['precision']\n",
    "\n",
    "if r + p != 0:\n",
    "  algo_result[\"relationship\"]['f1'] = 2* (r * p ) / ( r + p )\n"
   ]
  },
  {
   "cell_type": "code",
   "execution_count": 3692,
   "metadata": {},
   "outputs": [],
   "source": [
    "\n",
    "# as requested in comment\n",
    "\n",
    "with open(student_out_dir + 'algo_result.txt', 'w') as file:\n",
    "     file.write(json.dumps(algo_result))"
   ]
  }
 ],
 "metadata": {
  "colab": {
   "collapsed_sections": [
    "pBpCEgQV82Nj",
    "MOMw2WnS8p6h",
    "_UPG9p99KA6q",
    "7D5Je00s8p6i",
    "V84BIi42N3vb",
    "AD1YW_WlcROJ",
    "-lWeUly08p6j",
    "Qt34Gd8g8p6o"
   ],
   "provenance": [],
   "toc_visible": true
  },
  "kernelspec": {
   "display_name": "m38",
   "language": "python",
   "name": "python3"
  },
  "language_info": {
   "codemirror_mode": {
    "name": "ipython",
    "version": 3
   },
   "file_extension": ".py",
   "mimetype": "text/x-python",
   "name": "python",
   "nbconvert_exporter": "python",
   "pygments_lexer": "ipython3",
   "version": "3.8.18"
  }
 },
 "nbformat": 4,
 "nbformat_minor": 0
}
