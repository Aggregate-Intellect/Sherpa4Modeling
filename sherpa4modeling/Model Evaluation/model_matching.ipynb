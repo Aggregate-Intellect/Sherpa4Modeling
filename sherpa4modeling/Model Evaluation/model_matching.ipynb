{
 "cells": [
  {
   "cell_type": "markdown",
   "metadata": {
    "id": "pBpCEgQV82Nj"
   },
   "source": [
    "# Set up"
   ]
  },
  {
   "cell_type": "code",
   "execution_count": 1122,
   "metadata": {},
   "outputs": [],
   "source": [
    "from worde4mde import load_embeddings\n",
    "sgram_mde = load_embeddings('sgram-mde')"
   ]
  },
  {
   "cell_type": "code",
   "execution_count": 1123,
   "metadata": {},
   "outputs": [
    {
     "data": {
      "text/plain": [
       "array([ 0.14674647,  0.42704162,  0.17717203,  0.05179158,  0.38020504,\n",
       "       -0.00091264,  0.02094162,  0.00924711, -0.13806985,  0.1403339 ,\n",
       "       -0.0953936 , -0.03681302,  0.38122246, -0.03746711, -0.17595871,\n",
       "       -0.02031669,  0.23675247,  0.27676958, -0.07487358, -0.1987225 ,\n",
       "        0.02015282,  0.05147164, -0.223504  ,  0.00699752, -0.06145973,\n",
       "        0.00920826,  0.01364714,  0.10218145, -0.25330105, -0.14080754,\n",
       "        0.2541444 ,  0.4577827 , -0.16825216, -0.08050938,  0.11404785,\n",
       "       -0.38822263, -0.06395938, -0.4724689 , -0.00111705,  0.27869806,\n",
       "        0.28032073,  0.02976846, -0.01675524,  0.09774698,  0.18298927,\n",
       "       -0.24398401, -0.3238438 ,  0.01912955,  0.11861664,  0.08640955,\n",
       "        0.18799016, -0.06891091, -0.03893414, -0.04862301,  0.02151174,\n",
       "       -0.39205688, -0.23195332, -0.09532862, -0.01324714, -0.24555108,\n",
       "        0.09372689, -0.21971853, -0.26171875, -0.3605202 , -0.07306654,\n",
       "       -0.16288763,  0.12160088,  0.11416717,  0.17378834, -0.04977667,\n",
       "       -0.02417112, -0.13736062,  0.10142291,  0.14622003, -0.06097897,\n",
       "        0.0110862 ,  0.05240794,  0.15037489,  0.01547078,  0.35214952,\n",
       "       -0.15471339,  0.5516976 ,  0.02722004,  0.02725664,  0.23240256,\n",
       "        0.05949455, -0.44269025, -0.13142551,  0.06569727,  0.35366765,\n",
       "        0.0054803 ,  0.31536654, -0.09254798, -0.15512526, -0.0875922 ,\n",
       "        0.11746775, -0.28369817,  0.09341916, -0.00101699,  0.04416016,\n",
       "       -0.07782371,  0.02029933, -0.22690448, -0.12364466, -0.03259058,\n",
       "        0.22620802, -0.21208178,  0.263114  ,  0.39393342, -0.15680021,\n",
       "        0.22134748,  0.35054302,  0.06579161,  0.35725534, -0.17017011,\n",
       "        0.15412103,  0.26485255, -0.18039705,  0.64513373, -0.19044282,\n",
       "        0.05683825,  0.3352058 , -0.02149567,  0.08801293, -0.08748423,\n",
       "       -0.17109865, -0.14135368,  0.10019533, -0.3675318 ,  0.00882045,\n",
       "        0.16446897, -0.41429162, -0.00912068,  0.40898782,  0.02396349,\n",
       "        0.04935403, -0.43389502,  0.13081332,  0.42163405, -0.01841845,\n",
       "        0.08077876,  0.29817823,  0.15492964,  0.15107153,  0.04632611,\n",
       "       -0.5162636 , -0.4262554 ,  0.4967304 ,  0.26285887, -0.02183742,\n",
       "        0.15454406, -0.15592995, -0.3154367 ,  0.19769375, -0.40255702,\n",
       "        0.5028242 , -0.12623732,  0.04818065, -0.00665806,  0.0951322 ,\n",
       "       -0.13625342, -0.18664543,  0.03917297, -0.13414499, -0.21604219,\n",
       "       -0.17906193,  0.08638127, -0.0697468 ,  0.32579476, -0.03519589,\n",
       "       -0.1119362 , -0.08318598, -0.14666392,  0.15051971,  0.1680534 ,\n",
       "       -0.1643881 ,  0.00266754,  0.05763746,  0.01020493,  0.11781339,\n",
       "        0.03850262,  0.11651297, -0.19016212, -0.24033345,  0.24375466,\n",
       "       -0.12184826,  0.29208905,  0.28852615, -0.13238004, -0.02661056,\n",
       "       -0.09076066, -0.25580582,  0.09068189,  0.14338125, -0.03469551,\n",
       "       -0.01255474, -0.28556666,  0.27322152,  0.25480196,  0.067168  ,\n",
       "       -0.1661719 ,  0.07038358,  0.2961011 ,  0.39964455, -0.24441637,\n",
       "       -0.14219673,  0.4223389 ,  0.08920322, -0.5007695 ,  0.22100608,\n",
       "       -0.04162686,  0.07493343, -0.37272817, -0.08913708, -0.05271813,\n",
       "        0.07073972,  0.03486674,  0.01831518, -0.18682544,  0.24017447,\n",
       "        0.04472353, -0.21995458, -0.09560642,  0.05616789, -0.09767775,\n",
       "        0.46399042,  0.26137525, -0.2067443 , -0.20870632, -0.12792471,\n",
       "       -0.32071748, -0.00343737,  0.00869052, -0.17461683,  0.11852369,\n",
       "       -0.23727247,  0.16901173,  0.1390128 ,  0.19200057,  0.07023092,\n",
       "        0.10720899, -0.3680233 , -0.00385552,  0.30061063, -0.0638096 ,\n",
       "        0.15909314,  0.49717936, -0.02870842,  0.04373342, -0.03065694,\n",
       "       -0.03803138, -0.07179781,  0.1352796 ,  0.1206585 ,  0.28997678,\n",
       "       -0.22211125,  0.07451916, -0.4530426 , -0.12867354,  0.25162628,\n",
       "       -0.04360061, -0.01631085,  0.02732887,  0.26878425, -0.25473082,\n",
       "       -0.0563923 ,  0.47035375, -0.1539718 , -0.08114478,  0.3599968 ,\n",
       "        0.01964958,  0.00155073, -0.13521218, -0.04892039,  0.05788288,\n",
       "       -0.29886478,  0.00960886, -0.23544846, -0.46280792,  0.05992502,\n",
       "       -0.42226458,  0.31675085, -0.01231112,  0.15420774, -0.55189675,\n",
       "       -0.08054933,  0.24695848,  0.19135405,  0.2637137 ,  0.2340654 ,\n",
       "        0.05448505, -0.5442373 , -0.01433846,  0.35339138, -0.1810006 ,\n",
       "       -0.07710031, -0.04899847, -0.14326005, -0.2965767 , -0.10492669],\n",
       "      dtype=float32)"
      ]
     },
     "execution_count": 1123,
     "metadata": {},
     "output_type": "execute_result"
    }
   ],
   "source": [
    "word = 'ecore'\n",
    "sgram_mde[word]"
   ]
  },
  {
   "cell_type": "code",
   "execution_count": 1124,
   "metadata": {},
   "outputs": [],
   "source": [
    "# import pickle\n",
    "\n",
    "import ast\n",
    "import pandas as pd\n",
    "import numpy as np\n",
    "\n",
    "from worde4mde import load_embeddings\n",
    "import re\n",
    "\n",
    "import os\n",
    "import openai\n",
    "from openai import OpenAI\n",
    "import json\n",
    "\n",
    "import networkx as nx\n",
    "import sys\n"
   ]
  },
  {
   "cell_type": "code",
   "execution_count": 1125,
   "metadata": {},
   "outputs": [],
   "source": [
    "from dotenv import load_dotenv\n",
    "\n",
    "# %%\n",
    "\n",
    "load_dotenv()\n",
    "\n",
    "openai_key = os.getenv('openai_key')\n",
    "os.environ['OPENAI_API_KEY'] = openai_key"
   ]
  },
  {
   "cell_type": "markdown",
   "metadata": {},
   "source": [
    "## Input"
   ]
  },
  {
   "cell_type": "code",
   "execution_count": 1126,
   "metadata": {},
   "outputs": [
    {
     "data": {
      "text/plain": [
       "'results/gpt-4o-mini/sherpa/08_HBMS/result/'"
      ]
     },
     "execution_count": 1126,
     "metadata": {},
     "output_type": "execute_result"
    }
   ],
   "source": [
    "##### update here to change input files\n",
    "\n",
    "instructor_dir = \"results/\"\n",
    "\n",
    "# 01_LabTracker\n",
    "# 02_CelO\n",
    "# 03_TSS\n",
    "# 04_SHAS\n",
    "# 05_OTS\n",
    "# 06_Block\n",
    "# 07_Tile\n",
    "# 08_HBMS\n",
    "problem_id = \"08_HBMS\"\n",
    "instructor_input = instructor_dir + problem_id + \".txt\"\n",
    "\n",
    "llm_id = \"gpt-4o-mini\"\n",
    "method_id = \"sherpa\"\n",
    "\n",
    "student_dir = \"results/\" + llm_id + '/' + method_id + '/' + problem_id + '/'\n",
    "if not os.path.exists(student_dir):\n",
    "    # Create the directory\n",
    "    os.makedirs(student_dir)\n",
    "    \n",
    "student_input = student_dir + problem_id + \".txt\"\n",
    "student_input\n",
    "student_out_dir = student_dir + \"result/\"\n",
    "student_out_dir"
   ]
  },
  {
   "cell_type": "code",
   "execution_count": 1127,
   "metadata": {
    "colab": {
     "base_uri": "https://localhost:8080/",
     "height": 408
    },
    "id": "4wrNW7WHaq87",
    "outputId": "8b57cb37-45b8-4bac-860c-b6e933a5c239"
   },
   "outputs": [],
   "source": [
    "# First of all, you need to load the embeddings (currently supported: 'sgram-mde' and 'glove-mde')\n",
    "sgram_mde = load_embeddings('sgram-mde')\n",
    "# glove = load_embeddings('glove-mde')\n",
    "# sgram_mde[\"id\"]"
   ]
  },
  {
   "cell_type": "code",
   "execution_count": 1128,
   "metadata": {},
   "outputs": [],
   "source": [
    "# word = 'id'\n",
    "# sgram_mde.most_similar(positive=[word])"
   ]
  },
  {
   "cell_type": "code",
   "execution_count": 1129,
   "metadata": {
    "id": "GnemiQCKo1uA"
   },
   "outputs": [],
   "source": [
    "def inEmbedding(word, embedding):\n",
    "  try:\n",
    "    return True, embedding[word]\n",
    "  except:\n",
    "    return False, None"
   ]
  },
  {
   "cell_type": "code",
   "execution_count": 1130,
   "metadata": {
    "id": "tYrP3rmxLQ3o"
   },
   "outputs": [
    {
     "data": {
      "text/plain": [
       "['device', 'ID']"
      ]
     },
     "execution_count": 1130,
     "metadata": {},
     "output_type": "execute_result"
    }
   ],
   "source": [
    "\n",
    "def splitCamelCase(word):\n",
    "  splitted = re.sub('([A-Z][a-z]+)', r' \\1', re.sub('([A-Z]+)', r' \\1', word)).split()\n",
    "  return splitted\n",
    "\n",
    "splitCamelCase(\"device ID\")"
   ]
  },
  {
   "cell_type": "code",
   "execution_count": 1131,
   "metadata": {},
   "outputs": [
    {
     "data": {
      "text/plain": [
       "['Command', 'Status']"
      ]
     },
     "execution_count": 1131,
     "metadata": {},
     "output_type": "execute_result"
    }
   ],
   "source": [
    "splitCamelCase(\"CommandStatus\")"
   ]
  },
  {
   "cell_type": "code",
   "execution_count": 1132,
   "metadata": {
    "id": "YJ7yNdA488Vm"
   },
   "outputs": [],
   "source": [
    "# client = OpenAI()\n",
    "\n",
    "# def run_llm(prompt, model =\"gpt-3.5-turbo\"):\n",
    "#   response = client.chat.completions.create(\n",
    "#     model=model,\n",
    "#     messages=[\n",
    "#       {\"role\": \"user\", \"content\": prompt},\n",
    "\n",
    "#     ]\n",
    "#   )\n",
    "#   return response.choices[0].message.content"
   ]
  },
  {
   "cell_type": "code",
   "execution_count": 1133,
   "metadata": {
    "id": "0Juq9RcN9BcX"
   },
   "outputs": [],
   "source": [
    "client = OpenAI()\n",
    "\n",
    "def get_embedding(text, model=\"text-embedding-ada-002\"):\n",
    "   text = text.replace(\"\\n\", \" \")\n",
    "   return client.embeddings.create(input = [text], model=model).data[0].embedding"
   ]
  },
  {
   "cell_type": "code",
   "execution_count": 1134,
   "metadata": {
    "id": "-qddd_ct9lDV"
   },
   "outputs": [],
   "source": [
    "def get_all_info(class_index, class_nodes, list_of_classes, list_edges, need_edge = True):\n",
    "  result = ''\n",
    "  result +=  list_of_classes[class_index] + \"\\n\"\n",
    "  node = class_nodes[class_index]\n",
    "  if \"abstract\" in node:\n",
    "      node = node.replace(\"abstract\", \"\").strip()\n",
    "  if \"Abstract\" in node:\n",
    "      node = node.replace(\"Abstract\", \"\").strip()\n",
    "  if need_edge:\n",
    "    for edge in list_edges:\n",
    "      element = [i.strip() for i in edge.split()]\n",
    "      if node in element:\n",
    "        result += edge + \"\\n\"\n",
    "\n",
    "  return  result"
   ]
  },
  {
   "cell_type": "code",
   "execution_count": 1135,
   "metadata": {
    "id": "PF1WvdorJYa8"
   },
   "outputs": [],
   "source": [
    "def match_classes(raw_1, raw_2, dict_attr, thresh = 0.5, verbose = False):\n",
    "  # raw_1: nodes from reference solution\n",
    "  # raw_2: nodes from student solution\n",
    "  # dict_attr: dictionary for embeddings\n",
    "  # thresh for subst cost\n",
    "  # map class lists raw_1 and raw_2\n",
    "  print(dict_attr)\n",
    "  def node_subst_cost_attr(node1, node2):\n",
    "    # threshod as 0.45\n",
    "    if dict_attr[node1[\"name\"]][node2[\"name\"]] < thresh:\n",
    "      return 3\n",
    "    else:\n",
    "      return 1-dict_attr[node1[\"name\"]][node2[\"name\"]]\n",
    "    \n",
    "\n",
    "\n",
    "  G_att_1 = nx.Graph()\n",
    "  G_att_2 = nx.Graph()\n",
    "  for node in raw_1:\n",
    "    G_att_1.add_node(node, name = node)\n",
    "\n",
    "  for node in raw_2:\n",
    "    G_att_2.add_node(node, name = node)\n",
    "\n",
    "  for v in nx.optimize_edit_paths(G_att_1, G_att_2, node_subst_cost=node_subst_cost_attr, edge_match=None, timeout = 20):\n",
    "      minv = v\n",
    "  # minv\n",
    "\n",
    "  return minv"
   ]
  },
  {
   "cell_type": "markdown",
   "metadata": {
    "id": "y7GUzcWW8p6a"
   },
   "source": [
    "# Group"
   ]
  },
  {
   "cell_type": "code",
   "execution_count": 1136,
   "metadata": {
    "id": "ADtI3209Oy52"
   },
   "outputs": [],
   "source": [
    "class Grader():\n",
    "  def __init__(self):\n",
    "    self.ref = None\n",
    "    self.stu = None"
   ]
  },
  {
   "cell_type": "code",
   "execution_count": 1137,
   "metadata": {
    "id": "qvUpWnJVC-9P"
   },
   "outputs": [],
   "source": [
    "grader = Grader()"
   ]
  },
  {
   "cell_type": "markdown",
   "metadata": {
    "id": "MOMw2WnS8p6h"
   },
   "source": [
    "## Class"
   ]
  },
  {
   "cell_type": "markdown",
   "metadata": {
    "id": "_UPG9p99KA6q"
   },
   "source": [
    "### Define metadata"
   ]
  },
  {
   "cell_type": "code",
   "execution_count": 1138,
   "metadata": {
    "id": "IaR1jGbEKCq4"
   },
   "outputs": [],
   "source": [
    "class ModelInfo():\n",
    "\n",
    "  def __init(self):\n",
    "    self.cls_atr = {}\n",
    "    self.cls_name = []\n",
    "    self.raw_dsl = []\n",
    "    self.rel = None"
   ]
  },
  {
   "cell_type": "code",
   "execution_count": 1139,
   "metadata": {
    "id": "4-b5m2ovKZDg"
   },
   "outputs": [],
   "source": [
    "ref_cls = ModelInfo()\n",
    "stu_cls = ModelInfo()"
   ]
  },
  {
   "cell_type": "code",
   "execution_count": 1140,
   "metadata": {
    "id": "bviDqFkT42Tc"
   },
   "outputs": [],
   "source": [
    "grader.ref = ref_cls\n",
    "grader.stu = stu_cls"
   ]
  },
  {
   "cell_type": "code",
   "execution_count": 1141,
   "metadata": {},
   "outputs": [],
   "source": [
    "with open(instructor_input, 'r') as file:\n",
    "    # Read the entire content of the file\n",
    "    instructor_all = file.read()\n",
    "\n",
    "with open(student_input, 'r') as file:\n",
    "    # Read the entire content of the file\n",
    "    student_all = file.read()"
   ]
  },
  {
   "cell_type": "code",
   "execution_count": 1142,
   "metadata": {},
   "outputs": [
    {
     "name": "stdout",
     "output_type": "stream",
     "text": [
      "Enumerations:\n",
      "RoomType(SINGLE, DOUBLE, TWIN)\n",
      "BookingStatus(FINALIZED, CONFIRMED, CANCELLED_BY_HBMS, PRELIMINARY, CANCELLED_BY_TRAVELLER, CANCELLED_BY_HOTEL)\n",
      "PaymentType (PREPAID, PAID_AT_HOTEL)\n",
      "\n",
      "Classes:\n",
      "HotelBookingManager()\n",
      "HotelChain()\n",
      "\n",
      "Traveller (string name, int reliabilityRating)\n",
      "\n",
      "BillingInformation(string companyName, string address)\n",
      "TravelPreference(string preference, string value)\n",
      "Hotel (string city, string country, string area)\n",
      "abstract Offer()\n",
      "SpecialOffer()\n",
      "RegularOffer()\n",
      "TravelSearch()\n",
      "SearchInfo()\n",
      "RoomAvailability()\n",
      "abstract TripInfo(int numberOfRooms, RoomType roomType, date arrivalDate, date departureDate, float budgetPerNight)\n",
      "BookingInfo()\n",
      "Booking (int bookingId, date cancellationDeadline, string creditCardNumber, BookingStatus bookingStatus, PaymentType paymentType, date confirmationDate, float paidAmount)\n",
      "\n",
      "\n",
      "Relationships:\n",
      "\n"
     ]
    }
   ],
   "source": [
    "print(instructor_all)"
   ]
  },
  {
   "cell_type": "code",
   "execution_count": 1143,
   "metadata": {},
   "outputs": [
    {
     "name": "stdout",
     "output_type": "stream",
     "text": [
      "Enumerations:\n",
      "BookingType(PrePaid, PayAtHotel)\n",
      "RoomType(Single, Double, Twin)\n",
      "HotelRating(OneStar, TwoStars, ThreeStars, FourStars, FiveStars)\n",
      "TravelPreferenceType(BreakfastIncluded, FreeWifi, FrontDesk247)\n",
      "\n",
      "Classes:\n",
      "\n",
      "HotelChain(string name)  \n",
      "\n",
      "Traveller(string name, BillingInformation billingInformation, ReliabilityRating reliabilityRating)  \n",
      "\n",
      "BillingInformation(string billingAddress, string companyName)  \n",
      "\n",
      "Hotel(string name, string address, string city, HotelChain hotelChain, int rating)  \n",
      "\n",
      "abstract Booking(string bookingIdentifier, date dateArrival, date dateDeparture, int numberOfRooms, RoomType roomType, boolean isPrePaid, date cancellationDeadline)  \n",
      "FinalizedBooking(boolean isConfirmed, date confirmationDeadline) inherit Booking  \n",
      "AccommodationDeal(string price, string area, string keyPreferences)  \n",
      "Address(string street, string city, string state, string zipCode)  \n",
      "ReliabilityRating(int score)  \n",
      "Competitor(string name, Offer offer)  \n",
      "FinancialCompensation(string compensationDetails)  \n",
      "CreditCard(string cardNumber, string cardHolderName, date expirationDate)  \n",
      "\n",
      "Relationships:\n",
      "\n"
     ]
    }
   ],
   "source": [
    "print(student_all)"
   ]
  },
  {
   "cell_type": "code",
   "execution_count": 1144,
   "metadata": {},
   "outputs": [],
   "source": [
    "shas_sol = instructor_all.split(\"Relationships:\")[0]\n",
    "stu_sol_g =  student_all.split(\"Relationships:\")[0] # student solution"
   ]
  },
  {
   "cell_type": "code",
   "execution_count": 1145,
   "metadata": {
    "id": "PHb2yzli8p6h"
   },
   "outputs": [],
   "source": [
    "ref_classes_raw = []\n",
    "tmp = shas_sol.strip().splitlines()\n",
    "ref_classes_raw = [i.strip() for i in tmp if len(i) > 0]\n",
    "ref_classes_raw\n",
    "\n",
    "reference_class = []\n",
    "tmp = shas_sol.strip().splitlines()\n",
    "reference_class = [i.split(\"(\")[0].strip() for i in tmp if len(i) > 0]"
   ]
  },
  {
   "cell_type": "code",
   "execution_count": 1146,
   "metadata": {
    "id": "zR4naxeW8p6h"
   },
   "outputs": [
    {
     "data": {
      "text/plain": [
       "['Enumerations:',\n",
       " 'BookingType',\n",
       " 'RoomType',\n",
       " 'HotelRating',\n",
       " 'TravelPreferenceType',\n",
       " 'Classes:',\n",
       " 'HotelChain',\n",
       " 'Traveller',\n",
       " 'BillingInformation',\n",
       " 'Hotel',\n",
       " 'abstract Booking',\n",
       " 'FinalizedBooking',\n",
       " 'AccommodationDeal',\n",
       " 'Address',\n",
       " 'ReliabilityRating',\n",
       " 'Competitor',\n",
       " 'FinancialCompensation',\n",
       " 'CreditCard']"
      ]
     },
     "execution_count": 1146,
     "metadata": {},
     "output_type": "execute_result"
    }
   ],
   "source": [
    "stu_classes_raw = []\n",
    "tmp = stu_sol_g.strip().splitlines()\n",
    "stu_classes_raw = [i.strip() for i in tmp if len(i) > 0]\n",
    "stu_classes_raw\n",
    "\n",
    "tmp = stu_sol_g.strip().splitlines()\n",
    "stu_class = [i.split(\"(\")[0].strip() for i in tmp if len(i) > 0]\n",
    "stu_class"
   ]
  },
  {
   "cell_type": "code",
   "execution_count": 1147,
   "metadata": {
    "id": "Kt4R2geh8p6h"
   },
   "outputs": [],
   "source": [
    "ref_attributes = {}\n",
    "enum_index = ref_classes_raw.index(\"Enumerations:\")\n",
    "regular_index = ref_classes_raw.index(\"Classes:\")\n",
    "for cla, dsl in zip(reference_class, ref_classes_raw):\n",
    "  if dsl == \"Enumerations:\" or dsl == \"Classes:\":\n",
    "    continue\n",
    "  else:\n",
    "    index = ref_classes_raw.index(dsl)\n",
    "    if index > regular_index:\n",
    "      class_type = \"regular\"\n",
    "      if \"abstract\" in dsl:\n",
    "        class_type = \"abstract\"\n",
    "    else:\n",
    "      class_type = \"enum\"\n",
    "    ref_attributes[cla] = {\"score\": 0, \"type\":class_type, \"dsl\":dsl, \"counterpart\": None, \"attributes\": {}}\n",
    "\n",
    "    attributes = dsl.split(\"(\")[1][:-1].split(\",\")\n",
    "    for attr in attributes:\n",
    "      attr = attr.strip()\n",
    "      if len(attr) > 0:\n",
    "        ref_attributes[cla][\"attributes\"][attr] = {\"score\":0, \"counterpart\": None}"
   ]
  },
  {
   "cell_type": "code",
   "execution_count": 1148,
   "metadata": {
    "id": "L_TGf3xW8p6i"
   },
   "outputs": [],
   "source": [
    "reference_class.remove(\"Enumerations:\")\n",
    "reference_class.remove(\"Classes:\")\n",
    "\n",
    "ref_classes_raw.remove(\"Enumerations:\")\n",
    "ref_classes_raw.remove(\"Classes:\")"
   ]
  },
  {
   "cell_type": "code",
   "execution_count": 1149,
   "metadata": {
    "id": "6WI2xkurLJTq"
   },
   "outputs": [],
   "source": [
    "ref_cls.cls_name = reference_class\n",
    "ref_cls.raw_dsl = ref_classes_raw\n",
    "ref_cls.cls_atr = ref_attributes"
   ]
  },
  {
   "cell_type": "code",
   "execution_count": 1150,
   "metadata": {
    "id": "nkxF3Yda8p6i"
   },
   "outputs": [
    {
     "name": "stdout",
     "output_type": "stream",
     "text": [
      "BookingType(PrePaid, PayAtHotel)\n",
      "RoomType(Single, Double, Twin)\n",
      "HotelRating(OneStar, TwoStars, ThreeStars, FourStars, FiveStars)\n",
      "TravelPreferenceType(BreakfastIncluded, FreeWifi, FrontDesk247)\n",
      "HotelChain(string name)\n",
      "Traveller(string name, BillingInformation billingInformation, ReliabilityRating reliabilityRating)\n",
      "BillingInformation(string billingAddress, string companyName)\n",
      "Hotel(string name, string address, string city, HotelChain hotelChain, int rating)\n",
      "abstract Booking(string bookingIdentifier, date dateArrival, date dateDeparture, int numberOfRooms, RoomType roomType, boolean isPrePaid, date cancellationDeadline)\n",
      "FinalizedBooking(boolean isConfirmed, date confirmationDeadline) inherit Booking\n",
      "AccommodationDeal(string price, string area, string keyPreferences)\n",
      "Address(string street, string city, string state, string zipCode)\n",
      "ReliabilityRating(int score)\n",
      "Competitor(string name, Offer offer)\n",
      "FinancialCompensation(string compensationDetails)\n",
      "CreditCard(string cardNumber, string cardHolderName, date expirationDate)\n"
     ]
    }
   ],
   "source": [
    "stu_attributes = {}\n",
    "enum_index = stu_classes_raw.index(\"Enumerations:\")\n",
    "regular_index = stu_classes_raw.index(\"Classes:\")\n",
    "\n",
    "for cla, dsl in zip(stu_class, stu_classes_raw):\n",
    "  if dsl == \"Enumerations:\" or dsl == \"Classes:\":\n",
    "    continue\n",
    "  else:\n",
    "    index = stu_classes_raw.index(dsl)\n",
    "    if index > regular_index:\n",
    "      class_type = \"regular\"\n",
    "      if \"abstract\" in dsl:\n",
    "        class_type = \"abstract\"\n",
    "    else:\n",
    "      class_type = \"enum\"\n",
    "\n",
    "    stu_attributes[cla] = {\"score\": 0, \"type\":class_type, \"dsl\":dsl, \"counterpart\": None, \"attributes\": {}}\n",
    "\n",
    "    print(dsl)\n",
    "    attributes = dsl.split(\"(\")[1][:-1].split(\",\")\n",
    "    for attr in attributes:\n",
    "      attr = attr.strip()\n",
    "      if len(attr) > 0:\n",
    "        stu_attributes[cla][\"attributes\"][attr] = {\"score\":0, \"counterpart\": None}"
   ]
  },
  {
   "cell_type": "code",
   "execution_count": 1151,
   "metadata": {
    "id": "iK3ITyIW8p6i"
   },
   "outputs": [],
   "source": [
    "stu_class.remove(\"Enumerations:\")\n",
    "stu_class.remove(\"Classes:\")\n",
    "\n",
    "stu_classes_raw.remove(\"Enumerations:\")\n",
    "stu_classes_raw.remove(\"Classes:\")"
   ]
  },
  {
   "cell_type": "code",
   "execution_count": 1152,
   "metadata": {
    "id": "-DjOKJ1wNNdt"
   },
   "outputs": [],
   "source": [
    "stu_cls.cls_name = stu_class\n",
    "stu_cls.raw_dsl = stu_classes_raw\n",
    "stu_cls.cls_atr = stu_attributes"
   ]
  },
  {
   "cell_type": "markdown",
   "metadata": {
    "id": "dblsT4MS8p6i"
   },
   "source": [
    "## Edges"
   ]
  },
  {
   "cell_type": "markdown",
   "metadata": {
    "id": "7D5Je00s8p6i"
   },
   "source": [
    "### reference and student solutions"
   ]
  },
  {
   "cell_type": "code",
   "execution_count": 1153,
   "metadata": {},
   "outputs": [],
   "source": [
    "shas_edges = instructor_all.split(\"Relationships:\")[1]\n",
    "shas_G2_edges =  student_all.split(\"Relationships:\")[1] # student solution"
   ]
  },
  {
   "cell_type": "code",
   "execution_count": 1154,
   "metadata": {},
   "outputs": [
    {
     "data": {
      "text/plain": [
       "'\\n'"
      ]
     },
     "execution_count": 1154,
     "metadata": {},
     "output_type": "execute_result"
    }
   ],
   "source": [
    "shas_edges"
   ]
  },
  {
   "cell_type": "code",
   "execution_count": 1155,
   "metadata": {},
   "outputs": [
    {
     "data": {
      "text/plain": [
       "'\\n'"
      ]
     },
     "execution_count": 1155,
     "metadata": {},
     "output_type": "execute_result"
    }
   ],
   "source": [
    "shas_edges"
   ]
  },
  {
   "cell_type": "code",
   "execution_count": 1156,
   "metadata": {
    "id": "9ShLk-8_8p6i"
   },
   "outputs": [],
   "source": [
    "shas_edges = shas_edges.replace(\"0..*\",\"*\")"
   ]
  },
  {
   "cell_type": "code",
   "execution_count": 1157,
   "metadata": {
    "id": "54aKqVt58p6j"
   },
   "outputs": [],
   "source": [
    "shas_G2_edges = shas_G2_edges.replace(\"0..*\",\"*\")"
   ]
  },
  {
   "cell_type": "code",
   "execution_count": 1158,
   "metadata": {
    "id": "onsbAmwq8p6j"
   },
   "outputs": [],
   "source": [
    "tmp = shas_edges.strip().splitlines()\n",
    "ref_edges = [i.strip() for i in tmp if len(i) > 0]\n",
    "\n",
    "for i in ref_edges:\n",
    "  length = len(i.split())\n",
    "  if length == 5 or length == 3:\n",
    "    pass\n",
    "  else:\n",
    "    print(\"Reference Length error:\", i)\n",
    "\n",
    "tmp = shas_G2_edges.strip().splitlines()\n",
    "stu_edges = [i.strip() for i in tmp if len(i) > 0]\n",
    "\n",
    "for i in stu_edges:\n",
    "  length = len(i.split())\n",
    "  if length == 5 or length == 3:\n",
    "    pass\n",
    "  else:\n",
    "    print(\"Student Length error:\", i)\n",
    "\n"
   ]
  },
  {
   "cell_type": "code",
   "execution_count": 1159,
   "metadata": {
    "id": "MqopbetK8p6j"
   },
   "outputs": [],
   "source": [
    "class Relationship:\n",
    "  def __init__(self):\n",
    "    self.rels = [] # list of dict{}\n",
    "    self.raw_dsl = []\n",
    "  # find first non-matched or matched reltionshipi given dsl\n",
    "  def find_relation(self, dsl, matched = False):\n",
    "    for index, i in enumerate(self.rels):\n",
    "      if i[\"dsl\"] == dsl and i[\"counterpart\"] is None:\n",
    "        return index, i\n",
    "\n",
    "    return None"
   ]
  },
  {
   "cell_type": "code",
   "execution_count": 1160,
   "metadata": {
    "id": "lznKb5N28p6j"
   },
   "outputs": [],
   "source": [
    "ref_edges_obj = Relationship()\n",
    "stu_edges_obj = Relationship()\n",
    "\n",
    "\n",
    "ref_edges_dict = []\n",
    "for e in ref_edges:\n",
    "  ref_edges_dict.append({\"dsl\":e,\"score\":0, \"counterpart\": None})\n",
    "\n",
    "ref_edges_obj.rels = ref_edges_dict\n",
    "ref_edges_obj.raw_dsl = ref_edges\n",
    "\n",
    "stu_edges_dict = []\n",
    "for e in stu_edges:\n",
    "  stu_edges_dict.append({\"dsl\":e,\"score\":0, \"counterpart\": None})\n",
    "\n",
    "stu_edges_obj.rels = stu_edges_dict\n",
    "stu_edges_obj.raw_dsl = stu_edges"
   ]
  },
  {
   "cell_type": "code",
   "execution_count": 1161,
   "metadata": {
    "id": "oxwZDyyDaibf"
   },
   "outputs": [],
   "source": [
    "# link to classInfo object\n",
    "ref_cls.rel = ref_edges_obj\n",
    "stu_cls.rel = stu_edges_obj"
   ]
  },
  {
   "cell_type": "code",
   "execution_count": 1162,
   "metadata": {
    "id": "6Otwiuqn8p6j"
   },
   "outputs": [],
   "source": [
    "edges = [ref_edges_obj, stu_edges_obj]"
   ]
  },
  {
   "cell_type": "markdown",
   "metadata": {
    "id": "pjvx1y428p6j"
   },
   "source": [
    "## Getting embedding"
   ]
  },
  {
   "cell_type": "code",
   "execution_count": 1163,
   "metadata": {},
   "outputs": [],
   "source": [
    "def removeChars(text, chars):\n",
    "    for c in chars:\n",
    "        text = text.replace(c,\"\")\n",
    "    return text\n"
   ]
  },
  {
   "cell_type": "code",
   "execution_count": 1164,
   "metadata": {
    "id": "ee0LtyGkkVu3"
   },
   "outputs": [],
   "source": [
    "def get_mde_embedding(text, embedding):\n",
    "  # >>> get_mde_embedding(\"WhatDevice\", sgram_mde)\n",
    "  words = splitCamelCase(removeChars(text, [\"(\",\")\",\",\"]))\n",
    "  lowercase_list = [s.lower() for s in words]\n",
    "  counter = 0\n",
    "  emb = np.zeros(300)\n",
    "  for w in lowercase_list:\n",
    "    try:\n",
    "      emb += embedding[w]\n",
    "      counter += 1\n",
    "    except:\n",
    "      # if failed in emb the complete word, embed the token\n",
    "      tmp = np.zeros(300)\n",
    "      for char in list(w):\n",
    "\n",
    "        tmp += embedding[char]\n",
    "      emb += (tmp / len(w))\n",
    "      counter += 1\n",
    "  return emb / counter"
   ]
  },
  {
   "cell_type": "code",
   "execution_count": 1165,
   "metadata": {},
   "outputs": [
    {
     "data": {
      "text/plain": [
       "['Automation', 'Status', 'Created', 'Edited', 'Activated', 'Deactivated']"
      ]
     },
     "execution_count": 1165,
     "metadata": {},
     "output_type": "execute_result"
    }
   ],
   "source": [
    "text = \"AutomationStatus (Created, Edited, Activated, Deactivated)\"\n",
    "words = splitCamelCase(removeChars(text, [\"(\",\")\",\",\"]))\n",
    "words"
   ]
  },
  {
   "cell_type": "code",
   "execution_count": 1166,
   "metadata": {
    "id": "G_8OE4YpljN7"
   },
   "outputs": [],
   "source": [
    "def cosine_distance(emb_i, emb_j):\n",
    "  return np.dot(emb_i, emb_j) / (np.linalg.norm(emb_i) * np.linalg.norm(emb_j))"
   ]
  },
  {
   "cell_type": "markdown",
   "metadata": {
    "id": "V84BIi42N3vb"
   },
   "source": [
    "## Stage 1.1 Class name mapping"
   ]
  },
  {
   "cell_type": "code",
   "execution_count": 1167,
   "metadata": {
    "id": "4Bfij7cROA8x"
   },
   "outputs": [
    {
     "name": "stdout",
     "output_type": "stream",
     "text": [
      "\n",
      "\n",
      "\n",
      "\n"
     ]
    },
    {
     "ename": "KeyError",
     "evalue": "\"Key '2' not present\"",
     "output_type": "error",
     "traceback": [
      "\u001b[0;31m---------------------------------------------------------------------------\u001b[0m",
      "\u001b[0;31mKeyError\u001b[0m                                  Traceback (most recent call last)",
      "Cell \u001b[0;32mIn[1164], line 9\u001b[0m, in \u001b[0;36mget_mde_embedding\u001b[0;34m(text, embedding)\u001b[0m\n\u001b[1;32m      8\u001b[0m \u001b[38;5;28;01mtry\u001b[39;00m:\n\u001b[0;32m----> 9\u001b[0m   emb \u001b[38;5;241m+\u001b[39m\u001b[38;5;241m=\u001b[39m \u001b[43membedding\u001b[49m\u001b[43m[\u001b[49m\u001b[43mw\u001b[49m\u001b[43m]\u001b[49m\n\u001b[1;32m     10\u001b[0m   counter \u001b[38;5;241m+\u001b[39m\u001b[38;5;241m=\u001b[39m \u001b[38;5;241m1\u001b[39m\n",
      "File \u001b[0;32m~/miniconda3/envs/m38/lib/python3.8/site-packages/gensim/models/keyedvectors.py:404\u001b[0m, in \u001b[0;36mKeyedVectors.__getitem__\u001b[0;34m(self, key_or_keys)\u001b[0m\n\u001b[1;32m    403\u001b[0m \u001b[38;5;28;01mif\u001b[39;00m \u001b[38;5;28misinstance\u001b[39m(key_or_keys, _KEY_TYPES):\n\u001b[0;32m--> 404\u001b[0m     \u001b[38;5;28;01mreturn\u001b[39;00m \u001b[38;5;28;43mself\u001b[39;49m\u001b[38;5;241;43m.\u001b[39;49m\u001b[43mget_vector\u001b[49m\u001b[43m(\u001b[49m\u001b[43mkey_or_keys\u001b[49m\u001b[43m)\u001b[49m\n\u001b[1;32m    406\u001b[0m \u001b[38;5;28;01mreturn\u001b[39;00m vstack([\u001b[38;5;28mself\u001b[39m\u001b[38;5;241m.\u001b[39mget_vector(key) \u001b[38;5;28;01mfor\u001b[39;00m key \u001b[38;5;129;01min\u001b[39;00m key_or_keys])\n",
      "File \u001b[0;32m~/miniconda3/envs/m38/lib/python3.8/site-packages/gensim/models/keyedvectors.py:447\u001b[0m, in \u001b[0;36mKeyedVectors.get_vector\u001b[0;34m(self, key, norm)\u001b[0m\n\u001b[1;32m    424\u001b[0m \u001b[38;5;250m\u001b[39m\u001b[38;5;124;03m\"\"\"Get the key's vector, as a 1D numpy array.\u001b[39;00m\n\u001b[1;32m    425\u001b[0m \n\u001b[1;32m    426\u001b[0m \u001b[38;5;124;03mParameters\u001b[39;00m\n\u001b[0;32m   (...)\u001b[0m\n\u001b[1;32m    445\u001b[0m \n\u001b[1;32m    446\u001b[0m \u001b[38;5;124;03m\"\"\"\u001b[39;00m\n\u001b[0;32m--> 447\u001b[0m index \u001b[38;5;241m=\u001b[39m \u001b[38;5;28;43mself\u001b[39;49m\u001b[38;5;241;43m.\u001b[39;49m\u001b[43mget_index\u001b[49m\u001b[43m(\u001b[49m\u001b[43mkey\u001b[49m\u001b[43m)\u001b[49m\n\u001b[1;32m    448\u001b[0m \u001b[38;5;28;01mif\u001b[39;00m norm:\n",
      "File \u001b[0;32m~/miniconda3/envs/m38/lib/python3.8/site-packages/gensim/models/keyedvectors.py:421\u001b[0m, in \u001b[0;36mKeyedVectors.get_index\u001b[0;34m(self, key, default)\u001b[0m\n\u001b[1;32m    420\u001b[0m \u001b[38;5;28;01melse\u001b[39;00m:\n\u001b[0;32m--> 421\u001b[0m     \u001b[38;5;28;01mraise\u001b[39;00m \u001b[38;5;167;01mKeyError\u001b[39;00m(\u001b[38;5;124mf\u001b[39m\u001b[38;5;124m\"\u001b[39m\u001b[38;5;124mKey \u001b[39m\u001b[38;5;124m'\u001b[39m\u001b[38;5;132;01m{\u001b[39;00mkey\u001b[38;5;132;01m}\u001b[39;00m\u001b[38;5;124m'\u001b[39m\u001b[38;5;124m not present\u001b[39m\u001b[38;5;124m\"\u001b[39m)\n",
      "\u001b[0;31mKeyError\u001b[0m: \"Key 'desk247' not present\"",
      "\nDuring handling of the above exception, another exception occurred:\n",
      "\u001b[0;31mKeyError\u001b[0m                                  Traceback (most recent call last)",
      "Cell \u001b[0;32mIn[1167], line 20\u001b[0m\n\u001b[1;32m     18\u001b[0m \u001b[38;5;28mprint\u001b[39m()\n\u001b[1;32m     19\u001b[0m mde_emb_j \u001b[38;5;241m=\u001b[39m get_mde_embedding(\u001b[38;5;28mcls\u001b[39m, mde_embedding)\n\u001b[0;32m---> 20\u001b[0m mde_emb_j_dsl \u001b[38;5;241m=\u001b[39m \u001b[43mget_mde_embedding\u001b[49m\u001b[43m(\u001b[49m\u001b[43mstu_cls\u001b[49m\u001b[38;5;241;43m.\u001b[39;49m\u001b[43mcls_atr\u001b[49m\u001b[43m[\u001b[49m\u001b[43mstu_node\u001b[49m\u001b[43m]\u001b[49m\u001b[43m[\u001b[49m\u001b[38;5;124;43m\"\u001b[39;49m\u001b[38;5;124;43mdsl\u001b[39;49m\u001b[38;5;124;43m\"\u001b[39;49m\u001b[43m]\u001b[49m\u001b[43m,\u001b[49m\u001b[43m \u001b[49m\u001b[43mmde_embedding\u001b[49m\u001b[43m)\u001b[49m\n\u001b[1;32m     22\u001b[0m mde_sim \u001b[38;5;241m=\u001b[39m cosine_distance(mde_emb_i, mde_emb_j)\n\u001b[1;32m     23\u001b[0m mde_sim_dsl \u001b[38;5;241m=\u001b[39m cosine_distance(mde_emb_i_dsl, mde_emb_j_dsl)\n",
      "Cell \u001b[0;32mIn[1164], line 16\u001b[0m, in \u001b[0;36mget_mde_embedding\u001b[0;34m(text, embedding)\u001b[0m\n\u001b[1;32m     13\u001b[0m tmp \u001b[38;5;241m=\u001b[39m np\u001b[38;5;241m.\u001b[39mzeros(\u001b[38;5;241m300\u001b[39m)\n\u001b[1;32m     14\u001b[0m \u001b[38;5;28;01mfor\u001b[39;00m char \u001b[38;5;129;01min\u001b[39;00m \u001b[38;5;28mlist\u001b[39m(w):\n\u001b[0;32m---> 16\u001b[0m   tmp \u001b[38;5;241m+\u001b[39m\u001b[38;5;241m=\u001b[39m \u001b[43membedding\u001b[49m\u001b[43m[\u001b[49m\u001b[43mchar\u001b[49m\u001b[43m]\u001b[49m\n\u001b[1;32m     17\u001b[0m emb \u001b[38;5;241m+\u001b[39m\u001b[38;5;241m=\u001b[39m (tmp \u001b[38;5;241m/\u001b[39m \u001b[38;5;28mlen\u001b[39m(w))\n\u001b[1;32m     18\u001b[0m counter \u001b[38;5;241m+\u001b[39m\u001b[38;5;241m=\u001b[39m \u001b[38;5;241m1\u001b[39m\n",
      "File \u001b[0;32m~/miniconda3/envs/m38/lib/python3.8/site-packages/gensim/models/keyedvectors.py:404\u001b[0m, in \u001b[0;36mKeyedVectors.__getitem__\u001b[0;34m(self, key_or_keys)\u001b[0m\n\u001b[1;32m    390\u001b[0m \u001b[38;5;250m\u001b[39m\u001b[38;5;124;03m\"\"\"Get vector representation of `key_or_keys`.\u001b[39;00m\n\u001b[1;32m    391\u001b[0m \n\u001b[1;32m    392\u001b[0m \u001b[38;5;124;03mParameters\u001b[39;00m\n\u001b[0;32m   (...)\u001b[0m\n\u001b[1;32m    401\u001b[0m \n\u001b[1;32m    402\u001b[0m \u001b[38;5;124;03m\"\"\"\u001b[39;00m\n\u001b[1;32m    403\u001b[0m \u001b[38;5;28;01mif\u001b[39;00m \u001b[38;5;28misinstance\u001b[39m(key_or_keys, _KEY_TYPES):\n\u001b[0;32m--> 404\u001b[0m     \u001b[38;5;28;01mreturn\u001b[39;00m \u001b[38;5;28;43mself\u001b[39;49m\u001b[38;5;241;43m.\u001b[39;49m\u001b[43mget_vector\u001b[49m\u001b[43m(\u001b[49m\u001b[43mkey_or_keys\u001b[49m\u001b[43m)\u001b[49m\n\u001b[1;32m    406\u001b[0m \u001b[38;5;28;01mreturn\u001b[39;00m vstack([\u001b[38;5;28mself\u001b[39m\u001b[38;5;241m.\u001b[39mget_vector(key) \u001b[38;5;28;01mfor\u001b[39;00m key \u001b[38;5;129;01min\u001b[39;00m key_or_keys])\n",
      "File \u001b[0;32m~/miniconda3/envs/m38/lib/python3.8/site-packages/gensim/models/keyedvectors.py:447\u001b[0m, in \u001b[0;36mKeyedVectors.get_vector\u001b[0;34m(self, key, norm)\u001b[0m\n\u001b[1;32m    423\u001b[0m \u001b[38;5;28;01mdef\u001b[39;00m \u001b[38;5;21mget_vector\u001b[39m(\u001b[38;5;28mself\u001b[39m, key, norm\u001b[38;5;241m=\u001b[39m\u001b[38;5;28;01mFalse\u001b[39;00m):\n\u001b[1;32m    424\u001b[0m \u001b[38;5;250m    \u001b[39m\u001b[38;5;124;03m\"\"\"Get the key's vector, as a 1D numpy array.\u001b[39;00m\n\u001b[1;32m    425\u001b[0m \n\u001b[1;32m    426\u001b[0m \u001b[38;5;124;03m    Parameters\u001b[39;00m\n\u001b[0;32m   (...)\u001b[0m\n\u001b[1;32m    445\u001b[0m \n\u001b[1;32m    446\u001b[0m \u001b[38;5;124;03m    \"\"\"\u001b[39;00m\n\u001b[0;32m--> 447\u001b[0m     index \u001b[38;5;241m=\u001b[39m \u001b[38;5;28;43mself\u001b[39;49m\u001b[38;5;241;43m.\u001b[39;49m\u001b[43mget_index\u001b[49m\u001b[43m(\u001b[49m\u001b[43mkey\u001b[49m\u001b[43m)\u001b[49m\n\u001b[1;32m    448\u001b[0m     \u001b[38;5;28;01mif\u001b[39;00m norm:\n\u001b[1;32m    449\u001b[0m         \u001b[38;5;28mself\u001b[39m\u001b[38;5;241m.\u001b[39mfill_norms()\n",
      "File \u001b[0;32m~/miniconda3/envs/m38/lib/python3.8/site-packages/gensim/models/keyedvectors.py:421\u001b[0m, in \u001b[0;36mKeyedVectors.get_index\u001b[0;34m(self, key, default)\u001b[0m\n\u001b[1;32m    419\u001b[0m     \u001b[38;5;28;01mreturn\u001b[39;00m default\n\u001b[1;32m    420\u001b[0m \u001b[38;5;28;01melse\u001b[39;00m:\n\u001b[0;32m--> 421\u001b[0m     \u001b[38;5;28;01mraise\u001b[39;00m \u001b[38;5;167;01mKeyError\u001b[39;00m(\u001b[38;5;124mf\u001b[39m\u001b[38;5;124m\"\u001b[39m\u001b[38;5;124mKey \u001b[39m\u001b[38;5;124m'\u001b[39m\u001b[38;5;132;01m{\u001b[39;00mkey\u001b[38;5;132;01m}\u001b[39;00m\u001b[38;5;124m'\u001b[39m\u001b[38;5;124m not present\u001b[39m\u001b[38;5;124m\"\u001b[39m)\n",
      "\u001b[0;31mKeyError\u001b[0m: \"Key '2' not present\""
     ]
    }
   ],
   "source": [
    "# get name embedding\n",
    "# all info\n",
    "similarity_mde = []\n",
    "mde_embedding = sgram_mde\n",
    "threshold = 0.7\n",
    "similarity_mde_dsl = []\n",
    "percentage = 0.8\n",
    "for index, node in enumerate(ref_cls.cls_name):\n",
    "  cls = node.split()[-1].strip() # get the class name, remove abstract key word\n",
    "  \n",
    "  mde_emb_i = get_mde_embedding(cls, mde_embedding)\n",
    "  mde_emb_i_dsl = get_mde_embedding(ref_cls.cls_atr[node][\"dsl\"], mde_embedding)\n",
    "\n",
    "  pair = []\n",
    "  mde_pair = []\n",
    "  for j, stu_node in enumerate(stu_cls.cls_name):\n",
    "    cls = stu_node.split()[-1].strip() # get the class name, remove abstract key word\n",
    "    print()\n",
    "    mde_emb_j = get_mde_embedding(cls, mde_embedding)\n",
    "    mde_emb_j_dsl = get_mde_embedding(stu_cls.cls_atr[stu_node][\"dsl\"], mde_embedding)\n",
    "\n",
    "    mde_sim = cosine_distance(mde_emb_i, mde_emb_j)\n",
    "    mde_sim_dsl = cosine_distance(mde_emb_i_dsl, mde_emb_j_dsl)\n",
    "\n",
    "    mde_pair.append(mde_sim * percentage + (1-percentage) * mde_sim_dsl)\n",
    "\n",
    "  # apply third quartile\n",
    "  similarity_mde.append(mde_pair)\n",
    "\n",
    "dict_sim_word = {}\n",
    "for i in range(len(ref_cls.cls_name)):\n",
    "  dict_sim_word[ref_cls.cls_name[i]] = {}\n",
    "  for j in range(len(stu_cls.cls_name)):\n",
    "    dict_sim_word[ref_cls.cls_name[i]][stu_cls.cls_name[j]] = similarity_mde[i][j]"
   ]
  },
  {
   "cell_type": "code",
   "execution_count": 1077,
   "metadata": {},
   "outputs": [],
   "source": [
    "for key in dict_sim_word:\n",
    "    exact_match = False\n",
    "    exact_cls = \"\"\n",
    "    for cls_2 in dict_sim_word[key]:\n",
    "        if dict_sim_word[key][cls_2] > 0.99:\n",
    "            exact_match = True\n",
    "            exact_cls = cls_2\n",
    "            print(cls_2)\n",
    "            break\n",
    "    \n",
    "    if exact_match:    # keep the exact match, others to 0\n",
    "        print(\"update\")\n",
    "        for cls_2 in dict_sim_word[key]:\n",
    "            if cls_2 !=  exact_cls:\n",
    "                dict_sim_word[key][cls_2] = 0\n",
    "\n",
    "similarity_mde = []\n",
    "for i in dict_sim_word:\n",
    "    tmp = []\n",
    "    for j in dict_sim_word[i]:\n",
    "        tmp.append(dict_sim_word[i][j])\n",
    "\n",
    "    similarity_mde.append(tmp)"
   ]
  },
  {
   "cell_type": "code",
   "execution_count": null,
   "metadata": {
    "id": "eWumU7AcQqKv"
   },
   "outputs": [
    {
     "data": {
      "text/html": [
       "<div>\n",
       "<style scoped>\n",
       "    .dataframe tbody tr th:only-of-type {\n",
       "        vertical-align: middle;\n",
       "    }\n",
       "\n",
       "    .dataframe tbody tr th {\n",
       "        vertical-align: top;\n",
       "    }\n",
       "\n",
       "    .dataframe thead th {\n",
       "        text-align: right;\n",
       "    }\n",
       "</style>\n",
       "<table border=\"1\" class=\"dataframe\">\n",
       "  <thead>\n",
       "    <tr style=\"text-align: right;\">\n",
       "      <th></th>\n",
       "      <th>ActionCardType</th>\n",
       "      <th>TileOApplication</th>\n",
       "      <th>abstract Game</th>\n",
       "      <th>Designer</th>\n",
       "      <th>Board</th>\n",
       "      <th>ConnectionPiece</th>\n",
       "      <th>Die</th>\n",
       "      <th>abstract Tile</th>\n",
       "      <th>ActionCard</th>\n",
       "      <th>ActionTile</th>\n",
       "      <th>Player</th>\n",
       "      <th>Turn</th>\n",
       "    </tr>\n",
       "  </thead>\n",
       "  <tbody>\n",
       "    <tr>\n",
       "      <th>Mode</th>\n",
       "      <td>0.263548</td>\n",
       "      <td>0.204278</td>\n",
       "      <td>0.274989</td>\n",
       "      <td>0.140181</td>\n",
       "      <td>0.149749</td>\n",
       "      <td>0.234199</td>\n",
       "      <td>0.185278</td>\n",
       "      <td>0.148853</td>\n",
       "      <td>0.241467</td>\n",
       "      <td>0.197425</td>\n",
       "      <td>0.277882</td>\n",
       "      <td>0.269091</td>\n",
       "    </tr>\n",
       "    <tr>\n",
       "      <th>Color</th>\n",
       "      <td>0.198095</td>\n",
       "      <td>0.133178</td>\n",
       "      <td>0.186167</td>\n",
       "      <td>0.104607</td>\n",
       "      <td>0.146821</td>\n",
       "      <td>0.189357</td>\n",
       "      <td>0.092360</td>\n",
       "      <td>0.132587</td>\n",
       "      <td>0.096513</td>\n",
       "      <td>0.143394</td>\n",
       "      <td>0.237748</td>\n",
       "      <td>0.188706</td>\n",
       "    </tr>\n",
       "    <tr>\n",
       "      <th>TileO</th>\n",
       "      <td>0.303201</td>\n",
       "      <td>0.938481</td>\n",
       "      <td>0.236170</td>\n",
       "      <td>0.088312</td>\n",
       "      <td>0.249976</td>\n",
       "      <td>0.189412</td>\n",
       "      <td>0.181572</td>\n",
       "      <td>0.785995</td>\n",
       "      <td>0.248691</td>\n",
       "      <td>0.733542</td>\n",
       "      <td>0.233191</td>\n",
       "      <td>0.209227</td>\n",
       "    </tr>\n",
       "    <tr>\n",
       "      <th>Game</th>\n",
       "      <td>0.289456</td>\n",
       "      <td>0.280796</td>\n",
       "      <td>0.928925</td>\n",
       "      <td>0.252673</td>\n",
       "      <td>0.380028</td>\n",
       "      <td>0.266304</td>\n",
       "      <td>0.204554</td>\n",
       "      <td>0.305061</td>\n",
       "      <td>0.289216</td>\n",
       "      <td>0.375046</td>\n",
       "      <td>0.657997</td>\n",
       "      <td>0.246921</td>\n",
       "    </tr>\n",
       "    <tr>\n",
       "      <th>Connection</th>\n",
       "      <td>0.299397</td>\n",
       "      <td>0.231373</td>\n",
       "      <td>0.123969</td>\n",
       "      <td>0.143024</td>\n",
       "      <td>0.118273</td>\n",
       "      <td>0.703874</td>\n",
       "      <td>0.072788</td>\n",
       "      <td>0.148996</td>\n",
       "      <td>0.211142</td>\n",
       "      <td>0.214762</td>\n",
       "      <td>0.135394</td>\n",
       "      <td>0.149833</td>\n",
       "    </tr>\n",
       "    <tr>\n",
       "      <th>Die</th>\n",
       "      <td>0.102572</td>\n",
       "      <td>0.146695</td>\n",
       "      <td>0.176723</td>\n",
       "      <td>0.079455</td>\n",
       "      <td>0.115564</td>\n",
       "      <td>0.128325</td>\n",
       "      <td>0.835174</td>\n",
       "      <td>0.049701</td>\n",
       "      <td>0.100450</td>\n",
       "      <td>0.077862</td>\n",
       "      <td>0.160232</td>\n",
       "      <td>0.166951</td>\n",
       "    </tr>\n",
       "    <tr>\n",
       "      <th>Deck</th>\n",
       "      <td>0.192974</td>\n",
       "      <td>0.216692</td>\n",
       "      <td>0.167876</td>\n",
       "      <td>0.125694</td>\n",
       "      <td>0.147373</td>\n",
       "      <td>0.174352</td>\n",
       "      <td>0.145103</td>\n",
       "      <td>0.228037</td>\n",
       "      <td>0.163212</td>\n",
       "      <td>0.221843</td>\n",
       "      <td>0.180184</td>\n",
       "      <td>0.230796</td>\n",
       "    </tr>\n",
       "    <tr>\n",
       "      <th>abstract Tile</th>\n",
       "      <td>0.248523</td>\n",
       "      <td>0.705482</td>\n",
       "      <td>0.342603</td>\n",
       "      <td>0.177389</td>\n",
       "      <td>0.321670</td>\n",
       "      <td>0.196621</td>\n",
       "      <td>0.107394</td>\n",
       "      <td>0.959491</td>\n",
       "      <td>0.236785</td>\n",
       "      <td>0.859425</td>\n",
       "      <td>0.327007</td>\n",
       "      <td>0.246001</td>\n",
       "    </tr>\n",
       "    <tr>\n",
       "      <th>abstract ActionCard</th>\n",
       "      <td>0.885122</td>\n",
       "      <td>0.279548</td>\n",
       "      <td>0.313362</td>\n",
       "      <td>0.202667</td>\n",
       "      <td>0.271694</td>\n",
       "      <td>0.279779</td>\n",
       "      <td>0.130832</td>\n",
       "      <td>0.248392</td>\n",
       "      <td>0.925010</td>\n",
       "      <td>0.477821</td>\n",
       "      <td>0.347375</td>\n",
       "      <td>0.248928</td>\n",
       "    </tr>\n",
       "    <tr>\n",
       "      <th>RollDieActionCard</th>\n",
       "      <td>0.601770</td>\n",
       "      <td>0.281721</td>\n",
       "      <td>0.302956</td>\n",
       "      <td>0.197927</td>\n",
       "      <td>0.251918</td>\n",
       "      <td>0.249916</td>\n",
       "      <td>0.574259</td>\n",
       "      <td>0.192922</td>\n",
       "      <td>0.619365</td>\n",
       "      <td>0.356390</td>\n",
       "      <td>0.350590</td>\n",
       "      <td>0.295907</td>\n",
       "    </tr>\n",
       "    <tr>\n",
       "      <th>ConnectTilesActionCard</th>\n",
       "      <td>0.728788</td>\n",
       "      <td>0.513948</td>\n",
       "      <td>0.294472</td>\n",
       "      <td>0.215497</td>\n",
       "      <td>0.300299</td>\n",
       "      <td>0.378796</td>\n",
       "      <td>0.093817</td>\n",
       "      <td>0.511377</td>\n",
       "      <td>0.670466</td>\n",
       "      <td>0.625106</td>\n",
       "      <td>0.303963</td>\n",
       "      <td>0.273765</td>\n",
       "    </tr>\n",
       "    <tr>\n",
       "      <th>RemoveConnectionActionCard</th>\n",
       "      <td>0.826252</td>\n",
       "      <td>0.312893</td>\n",
       "      <td>0.234947</td>\n",
       "      <td>0.207601</td>\n",
       "      <td>0.220349</td>\n",
       "      <td>0.479767</td>\n",
       "      <td>0.141107</td>\n",
       "      <td>0.209000</td>\n",
       "      <td>0.790677</td>\n",
       "      <td>0.428746</td>\n",
       "      <td>0.276584</td>\n",
       "      <td>0.248873</td>\n",
       "    </tr>\n",
       "    <tr>\n",
       "      <th>TeleportActionCard</th>\n",
       "      <td>0.854354</td>\n",
       "      <td>0.383727</td>\n",
       "      <td>0.284338</td>\n",
       "      <td>0.194695</td>\n",
       "      <td>0.251899</td>\n",
       "      <td>0.307940</td>\n",
       "      <td>0.188851</td>\n",
       "      <td>0.221900</td>\n",
       "      <td>0.888102</td>\n",
       "      <td>0.469320</td>\n",
       "      <td>0.302688</td>\n",
       "      <td>0.237252</td>\n",
       "    </tr>\n",
       "    <tr>\n",
       "      <th>LoseTurnActionCard</th>\n",
       "      <td>0.779252</td>\n",
       "      <td>0.321262</td>\n",
       "      <td>0.307520</td>\n",
       "      <td>0.260253</td>\n",
       "      <td>0.226858</td>\n",
       "      <td>0.312769</td>\n",
       "      <td>0.188996</td>\n",
       "      <td>0.247771</td>\n",
       "      <td>0.739795</td>\n",
       "      <td>0.451915</td>\n",
       "      <td>0.355803</td>\n",
       "      <td>0.513153</td>\n",
       "    </tr>\n",
       "    <tr>\n",
       "      <th>WinTile</th>\n",
       "      <td>0.278167</td>\n",
       "      <td>0.598184</td>\n",
       "      <td>0.373772</td>\n",
       "      <td>0.116283</td>\n",
       "      <td>0.291017</td>\n",
       "      <td>0.168273</td>\n",
       "      <td>0.158461</td>\n",
       "      <td>0.681512</td>\n",
       "      <td>0.234467</td>\n",
       "      <td>0.628729</td>\n",
       "      <td>0.380086</td>\n",
       "      <td>0.206762</td>\n",
       "    </tr>\n",
       "    <tr>\n",
       "      <th>ActionTile</th>\n",
       "      <td>0.476325</td>\n",
       "      <td>0.682162</td>\n",
       "      <td>0.362956</td>\n",
       "      <td>0.184967</td>\n",
       "      <td>0.315126</td>\n",
       "      <td>0.277478</td>\n",
       "      <td>0.108057</td>\n",
       "      <td>0.811274</td>\n",
       "      <td>0.459981</td>\n",
       "      <td>0.953379</td>\n",
       "      <td>0.362878</td>\n",
       "      <td>0.288532</td>\n",
       "    </tr>\n",
       "    <tr>\n",
       "      <th>NormalTile</th>\n",
       "      <td>0.259498</td>\n",
       "      <td>0.672421</td>\n",
       "      <td>0.257680</td>\n",
       "      <td>0.073585</td>\n",
       "      <td>0.207179</td>\n",
       "      <td>0.153699</td>\n",
       "      <td>0.100516</td>\n",
       "      <td>0.759198</td>\n",
       "      <td>0.193430</td>\n",
       "      <td>0.687241</td>\n",
       "      <td>0.266235</td>\n",
       "      <td>0.245376</td>\n",
       "    </tr>\n",
       "    <tr>\n",
       "      <th>Player</th>\n",
       "      <td>0.331637</td>\n",
       "      <td>0.236560</td>\n",
       "      <td>0.654516</td>\n",
       "      <td>0.299190</td>\n",
       "      <td>0.324965</td>\n",
       "      <td>0.234919</td>\n",
       "      <td>0.198003</td>\n",
       "      <td>0.310483</td>\n",
       "      <td>0.308137</td>\n",
       "      <td>0.390427</td>\n",
       "      <td>0.953121</td>\n",
       "      <td>0.258372</td>\n",
       "    </tr>\n",
       "  </tbody>\n",
       "</table>\n",
       "</div>"
      ],
      "text/plain": [
       "                            ActionCardType  TileOApplication  abstract Game  \\\n",
       "Mode                              0.263548          0.204278       0.274989   \n",
       "Color                             0.198095          0.133178       0.186167   \n",
       "TileO                             0.303201          0.938481       0.236170   \n",
       "Game                              0.289456          0.280796       0.928925   \n",
       "Connection                        0.299397          0.231373       0.123969   \n",
       "Die                               0.102572          0.146695       0.176723   \n",
       "Deck                              0.192974          0.216692       0.167876   \n",
       "abstract Tile                     0.248523          0.705482       0.342603   \n",
       "abstract ActionCard               0.885122          0.279548       0.313362   \n",
       "RollDieActionCard                 0.601770          0.281721       0.302956   \n",
       "ConnectTilesActionCard            0.728788          0.513948       0.294472   \n",
       "RemoveConnectionActionCard        0.826252          0.312893       0.234947   \n",
       "TeleportActionCard                0.854354          0.383727       0.284338   \n",
       "LoseTurnActionCard                0.779252          0.321262       0.307520   \n",
       "WinTile                           0.278167          0.598184       0.373772   \n",
       "ActionTile                        0.476325          0.682162       0.362956   \n",
       "NormalTile                        0.259498          0.672421       0.257680   \n",
       "Player                            0.331637          0.236560       0.654516   \n",
       "\n",
       "                            Designer     Board  ConnectionPiece       Die  \\\n",
       "Mode                        0.140181  0.149749         0.234199  0.185278   \n",
       "Color                       0.104607  0.146821         0.189357  0.092360   \n",
       "TileO                       0.088312  0.249976         0.189412  0.181572   \n",
       "Game                        0.252673  0.380028         0.266304  0.204554   \n",
       "Connection                  0.143024  0.118273         0.703874  0.072788   \n",
       "Die                         0.079455  0.115564         0.128325  0.835174   \n",
       "Deck                        0.125694  0.147373         0.174352  0.145103   \n",
       "abstract Tile               0.177389  0.321670         0.196621  0.107394   \n",
       "abstract ActionCard         0.202667  0.271694         0.279779  0.130832   \n",
       "RollDieActionCard           0.197927  0.251918         0.249916  0.574259   \n",
       "ConnectTilesActionCard      0.215497  0.300299         0.378796  0.093817   \n",
       "RemoveConnectionActionCard  0.207601  0.220349         0.479767  0.141107   \n",
       "TeleportActionCard          0.194695  0.251899         0.307940  0.188851   \n",
       "LoseTurnActionCard          0.260253  0.226858         0.312769  0.188996   \n",
       "WinTile                     0.116283  0.291017         0.168273  0.158461   \n",
       "ActionTile                  0.184967  0.315126         0.277478  0.108057   \n",
       "NormalTile                  0.073585  0.207179         0.153699  0.100516   \n",
       "Player                      0.299190  0.324965         0.234919  0.198003   \n",
       "\n",
       "                            abstract Tile  ActionCard  ActionTile    Player  \\\n",
       "Mode                             0.148853    0.241467    0.197425  0.277882   \n",
       "Color                            0.132587    0.096513    0.143394  0.237748   \n",
       "TileO                            0.785995    0.248691    0.733542  0.233191   \n",
       "Game                             0.305061    0.289216    0.375046  0.657997   \n",
       "Connection                       0.148996    0.211142    0.214762  0.135394   \n",
       "Die                              0.049701    0.100450    0.077862  0.160232   \n",
       "Deck                             0.228037    0.163212    0.221843  0.180184   \n",
       "abstract Tile                    0.959491    0.236785    0.859425  0.327007   \n",
       "abstract ActionCard              0.248392    0.925010    0.477821  0.347375   \n",
       "RollDieActionCard                0.192922    0.619365    0.356390  0.350590   \n",
       "ConnectTilesActionCard           0.511377    0.670466    0.625106  0.303963   \n",
       "RemoveConnectionActionCard       0.209000    0.790677    0.428746  0.276584   \n",
       "TeleportActionCard               0.221900    0.888102    0.469320  0.302688   \n",
       "LoseTurnActionCard               0.247771    0.739795    0.451915  0.355803   \n",
       "WinTile                          0.681512    0.234467    0.628729  0.380086   \n",
       "ActionTile                       0.811274    0.459981    0.953379  0.362878   \n",
       "NormalTile                       0.759198    0.193430    0.687241  0.266235   \n",
       "Player                           0.310483    0.308137    0.390427  0.953121   \n",
       "\n",
       "                                Turn  \n",
       "Mode                        0.269091  \n",
       "Color                       0.188706  \n",
       "TileO                       0.209227  \n",
       "Game                        0.246921  \n",
       "Connection                  0.149833  \n",
       "Die                         0.166951  \n",
       "Deck                        0.230796  \n",
       "abstract Tile               0.246001  \n",
       "abstract ActionCard         0.248928  \n",
       "RollDieActionCard           0.295907  \n",
       "ConnectTilesActionCard      0.273765  \n",
       "RemoveConnectionActionCard  0.248873  \n",
       "TeleportActionCard          0.237252  \n",
       "LoseTurnActionCard          0.513153  \n",
       "WinTile                     0.206762  \n",
       "ActionTile                  0.288532  \n",
       "NormalTile                  0.245376  \n",
       "Player                      0.258372  "
      ]
     },
     "execution_count": 1078,
     "metadata": {},
     "output_type": "execute_result"
    }
   ],
   "source": [
    "import pandas as pd\n",
    "\n",
    "df = pd.DataFrame(index=reference_class, columns=stu_class, data=similarity_mde)\n",
    "df"
   ]
  },
  {
   "cell_type": "markdown",
   "metadata": {
    "id": "qUHDc0UMRhZ4"
   },
   "source": [
    "### Stage 1.1.1 Mapping (enum / regular + abstract)"
   ]
  },
  {
   "cell_type": "code",
   "execution_count": 1079,
   "metadata": {
    "id": "jjiO8XGnRmJ-"
   },
   "outputs": [],
   "source": [
    "ref_enum = []\n",
    "ref_reg_cls = []\n",
    "stu_enum = []\n",
    "stu_reg_cls = []\n",
    "\n",
    "for enum in ref_cls.cls_name:\n",
    "  if ref_cls.cls_atr[enum][\"type\"] == \"enum\":\n",
    "    ref_enum.append(enum)\n",
    "  else:\n",
    "    ref_reg_cls.append(enum)\n",
    "\n",
    "for enum in stu_cls.cls_name:\n",
    "  if stu_cls.cls_atr[enum][\"type\"] == \"enum\":\n",
    "    stu_enum.append(enum)\n",
    "  else:\n",
    "    stu_reg_cls.append(enum)"
   ]
  },
  {
   "cell_type": "code",
   "execution_count": 1080,
   "metadata": {
    "id": "fJH4xn6wTUxJ"
   },
   "outputs": [
    {
     "name": "stdout",
     "output_type": "stream",
     "text": [
      "{'Mode': {'ActionCardType': 0.2635481073141408, 'TileOApplication': 0.20427802430342534, 'abstract Game': 0.2749890665667466, 'Designer': 0.14018057615958093, 'Board': 0.14974862515593035, 'ConnectionPiece': 0.23419931425378707, 'Die': 0.18527809310768195, 'abstract Tile': 0.14885260212188722, 'ActionCard': 0.24146725079470344, 'ActionTile': 0.19742461852290527, 'Player': 0.27788228880700633, 'Turn': 0.2690913402865595}, 'Color': {'ActionCardType': 0.19809498250689417, 'TileOApplication': 0.13317766674284537, 'abstract Game': 0.18616688630105174, 'Designer': 0.10460733950580114, 'Board': 0.14682085478516266, 'ConnectionPiece': 0.18935660196302287, 'Die': 0.09236025602468209, 'abstract Tile': 0.13258747271542887, 'ActionCard': 0.09651307016285349, 'ActionTile': 0.14339428622113318, 'Player': 0.23774753813578048, 'Turn': 0.1887064406218897}, 'TileO': {'ActionCardType': 0.30320088987552485, 'TileOApplication': 0.9384811749161956, 'abstract Game': 0.2361699324443592, 'Designer': 0.08831193451945284, 'Board': 0.2499757231654977, 'ConnectionPiece': 0.18941160385687505, 'Die': 0.18157181031996772, 'abstract Tile': 0.7859947571780033, 'ActionCard': 0.24869124651224628, 'ActionTile': 0.733542098419012, 'Player': 0.23319056933468224, 'Turn': 0.20922671282088096}, 'Game': {'ActionCardType': 0.2894561384352534, 'TileOApplication': 0.2807962850727971, 'abstract Game': 0.9289247188460222, 'Designer': 0.2526732030032192, 'Board': 0.3800276814784601, 'ConnectionPiece': 0.26630363264909, 'Die': 0.20455448345932425, 'abstract Tile': 0.3050606238670067, 'ActionCard': 0.28921641618308835, 'ActionTile': 0.37504571613914495, 'Player': 0.6579973168204369, 'Turn': 0.24692055676075275}, 'Connection': {'ActionCardType': 0.2993967123805422, 'TileOApplication': 0.23137256157669772, 'abstract Game': 0.1239689964303907, 'Designer': 0.1430239282720459, 'Board': 0.1182734386967001, 'ConnectionPiece': 0.7038738480250268, 'Die': 0.07278831257758932, 'abstract Tile': 0.14899558548563407, 'ActionCard': 0.2111423420463081, 'ActionTile': 0.2147622903455931, 'Player': 0.1353943102467362, 'Turn': 0.14983269481896797}, 'Die': {'ActionCardType': 0.10257245856101618, 'TileOApplication': 0.1466945462545149, 'abstract Game': 0.17672335080135457, 'Designer': 0.07945545892576428, 'Board': 0.11556385526138538, 'ConnectionPiece': 0.12832450492514896, 'Die': 0.8351736310997678, 'abstract Tile': 0.04970097213926215, 'ActionCard': 0.10045000005204935, 'ActionTile': 0.0778618686365992, 'Player': 0.16023195931861767, 'Turn': 0.16695117386152308}, 'Deck': {'ActionCardType': 0.19297382710864977, 'TileOApplication': 0.2166916068801406, 'abstract Game': 0.1678757588102073, 'Designer': 0.12569388099508502, 'Board': 0.14737306735824723, 'ConnectionPiece': 0.17435150165809798, 'Die': 0.14510304703632232, 'abstract Tile': 0.2280370749564633, 'ActionCard': 0.1632117119303286, 'ActionTile': 0.22184275806906883, 'Player': 0.18018390577130797, 'Turn': 0.2307964976108861}, 'abstract Tile': {'ActionCardType': 0.24852318938719764, 'TileOApplication': 0.7054821104208238, 'abstract Game': 0.34260349811724045, 'Designer': 0.17738895085530337, 'Board': 0.3216697585686113, 'ConnectionPiece': 0.19662123474814364, 'Die': 0.10739362245528022, 'abstract Tile': 0.9594914579513483, 'ActionCard': 0.23678495166344968, 'ActionTile': 0.8594249218969576, 'Player': 0.32700729086309166, 'Turn': 0.24600137645415884}, 'abstract ActionCard': {'ActionCardType': 0.8851215859355674, 'TileOApplication': 0.27954805918714803, 'abstract Game': 0.31336186067422067, 'Designer': 0.20266692398867792, 'Board': 0.27169355548288465, 'ConnectionPiece': 0.2797785270100708, 'Die': 0.13083245813251548, 'abstract Tile': 0.24839213181077152, 'ActionCard': 0.9250096390325995, 'ActionTile': 0.47782092914199403, 'Player': 0.34737500330309146, 'Turn': 0.2489282035121508}, 'RollDieActionCard': {'ActionCardType': 0.6017695935041498, 'TileOApplication': 0.2817211695878785, 'abstract Game': 0.30295613605689053, 'Designer': 0.19792709376451603, 'Board': 0.2519181381180423, 'ConnectionPiece': 0.2499157264017928, 'Die': 0.5742589861927292, 'abstract Tile': 0.192922157363356, 'ActionCard': 0.6193647154472055, 'ActionTile': 0.35639017373083637, 'Player': 0.350589956627612, 'Turn': 0.2959065139411151}, 'ConnectTilesActionCard': {'ActionCardType': 0.7287876091213801, 'TileOApplication': 0.5139479183120795, 'abstract Game': 0.2944718389480698, 'Designer': 0.21549745282190658, 'Board': 0.30029861213138037, 'ConnectionPiece': 0.3787955434564948, 'Die': 0.09381693479648069, 'abstract Tile': 0.5113769608901293, 'ActionCard': 0.670465678694391, 'ActionTile': 0.6251058677461098, 'Player': 0.30396309096698904, 'Turn': 0.2737648676446483}, 'RemoveConnectionActionCard': {'ActionCardType': 0.8262524995855334, 'TileOApplication': 0.3128934252148588, 'abstract Game': 0.2349468187998461, 'Designer': 0.2076008090141583, 'Board': 0.22034860921406643, 'ConnectionPiece': 0.4797666622963447, 'Die': 0.1411068454929157, 'abstract Tile': 0.20899980738752527, 'ActionCard': 0.7906774613461754, 'ActionTile': 0.428746286163169, 'Player': 0.2765837285914531, 'Turn': 0.24887265143765738}, 'TeleportActionCard': {'ActionCardType': 0.8543542407472599, 'TileOApplication': 0.3837268650030986, 'abstract Game': 0.28433833059992425, 'Designer': 0.19469517390804136, 'Board': 0.2518986861681274, 'ConnectionPiece': 0.3079404558003194, 'Die': 0.18885138128920148, 'abstract Tile': 0.22190035185511192, 'ActionCard': 0.8881016913130055, 'ActionTile': 0.4693201932293411, 'Player': 0.30268777432607363, 'Turn': 0.23725237406276767}, 'LoseTurnActionCard': {'ActionCardType': 0.7792515116057974, 'TileOApplication': 0.3212620258867348, 'abstract Game': 0.3075201696028116, 'Designer': 0.2602525180581169, 'Board': 0.2268584879743951, 'ConnectionPiece': 0.31276932103048194, 'Die': 0.18899556240449011, 'abstract Tile': 0.2477707363505795, 'ActionCard': 0.7397945087255736, 'ActionTile': 0.45191480255096417, 'Player': 0.35580330304119656, 'Turn': 0.5131528985771155}, 'WinTile': {'ActionCardType': 0.2781668513093853, 'TileOApplication': 0.598184260879409, 'abstract Game': 0.373772463788519, 'Designer': 0.11628297778222405, 'Board': 0.2910165464593766, 'ConnectionPiece': 0.1682730761830869, 'Die': 0.15846135807306377, 'abstract Tile': 0.6815123909340861, 'ActionCard': 0.23446667664515242, 'ActionTile': 0.6287288948997628, 'Player': 0.38008621036287626, 'Turn': 0.20676227405210054}, 'ActionTile': {'ActionCardType': 0.47632490479616624, 'TileOApplication': 0.6821615220367799, 'abstract Game': 0.3629555193133431, 'Designer': 0.18496663896386262, 'Board': 0.31512591154292197, 'ConnectionPiece': 0.27747810386640503, 'Die': 0.10805650027457364, 'abstract Tile': 0.8112742794035059, 'ActionCard': 0.459980608729988, 'ActionTile': 0.9533790722356272, 'Player': 0.3628781708776131, 'Turn': 0.28853240269469627}, 'NormalTile': {'ActionCardType': 0.2594982549922902, 'TileOApplication': 0.6724214180623546, 'abstract Game': 0.25768032838541405, 'Designer': 0.0735853291375131, 'Board': 0.2071785033863182, 'ConnectionPiece': 0.1536988191487092, 'Die': 0.10051562505847175, 'abstract Tile': 0.7591984027858961, 'ActionCard': 0.19343037562849663, 'ActionTile': 0.6872405452271021, 'Player': 0.26623493224383843, 'Turn': 0.24537615433418036}, 'Player': {'ActionCardType': 0.3316368798416179, 'TileOApplication': 0.23656018277512247, 'abstract Game': 0.6545157936505308, 'Designer': 0.2991902350219498, 'Board': 0.3249653522966709, 'ConnectionPiece': 0.23491945046127016, 'Die': 0.19800344026275174, 'abstract Tile': 0.3104832609862963, 'ActionCard': 0.30813697986116795, 'ActionTile': 0.39042683297881264, 'Player': 0.9531214869557605, 'Turn': 0.25837177479706114}}\n"
     ]
    },
    {
     "data": {
      "text/plain": [
       "[('Mode', None), ('Color', None), (None, 'ActionCardType')]"
      ]
     },
     "execution_count": 1080,
     "metadata": {},
     "output_type": "execute_result"
    }
   ],
   "source": [
    "enum_mapping = match_classes(ref_enum, stu_enum, dict_sim_word, thresh = 0.5)\n",
    "enum_mapping[0]"
   ]
  },
  {
   "cell_type": "code",
   "execution_count": null,
   "metadata": {
    "id": "LW80yVXTT7jK"
   },
   "outputs": [
    {
     "name": "stdout",
     "output_type": "stream",
     "text": [
      "{'Mode': {'ActionCardType': 0.2635481073141408, 'TileOApplication': 0.20427802430342534, 'abstract Game': 0.2749890665667466, 'Designer': 0.14018057615958093, 'Board': 0.14974862515593035, 'ConnectionPiece': 0.23419931425378707, 'Die': 0.18527809310768195, 'abstract Tile': 0.14885260212188722, 'ActionCard': 0.24146725079470344, 'ActionTile': 0.19742461852290527, 'Player': 0.27788228880700633, 'Turn': 0.2690913402865595}, 'Color': {'ActionCardType': 0.19809498250689417, 'TileOApplication': 0.13317766674284537, 'abstract Game': 0.18616688630105174, 'Designer': 0.10460733950580114, 'Board': 0.14682085478516266, 'ConnectionPiece': 0.18935660196302287, 'Die': 0.09236025602468209, 'abstract Tile': 0.13258747271542887, 'ActionCard': 0.09651307016285349, 'ActionTile': 0.14339428622113318, 'Player': 0.23774753813578048, 'Turn': 0.1887064406218897}, 'TileO': {'ActionCardType': 0.30320088987552485, 'TileOApplication': 0.9384811749161956, 'abstract Game': 0.2361699324443592, 'Designer': 0.08831193451945284, 'Board': 0.2499757231654977, 'ConnectionPiece': 0.18941160385687505, 'Die': 0.18157181031996772, 'abstract Tile': 0.7859947571780033, 'ActionCard': 0.24869124651224628, 'ActionTile': 0.733542098419012, 'Player': 0.23319056933468224, 'Turn': 0.20922671282088096}, 'Game': {'ActionCardType': 0.2894561384352534, 'TileOApplication': 0.2807962850727971, 'abstract Game': 0.9289247188460222, 'Designer': 0.2526732030032192, 'Board': 0.3800276814784601, 'ConnectionPiece': 0.26630363264909, 'Die': 0.20455448345932425, 'abstract Tile': 0.3050606238670067, 'ActionCard': 0.28921641618308835, 'ActionTile': 0.37504571613914495, 'Player': 0.6579973168204369, 'Turn': 0.24692055676075275}, 'Connection': {'ActionCardType': 0.2993967123805422, 'TileOApplication': 0.23137256157669772, 'abstract Game': 0.1239689964303907, 'Designer': 0.1430239282720459, 'Board': 0.1182734386967001, 'ConnectionPiece': 0.7038738480250268, 'Die': 0.07278831257758932, 'abstract Tile': 0.14899558548563407, 'ActionCard': 0.2111423420463081, 'ActionTile': 0.2147622903455931, 'Player': 0.1353943102467362, 'Turn': 0.14983269481896797}, 'Die': {'ActionCardType': 0.10257245856101618, 'TileOApplication': 0.1466945462545149, 'abstract Game': 0.17672335080135457, 'Designer': 0.07945545892576428, 'Board': 0.11556385526138538, 'ConnectionPiece': 0.12832450492514896, 'Die': 0.8351736310997678, 'abstract Tile': 0.04970097213926215, 'ActionCard': 0.10045000005204935, 'ActionTile': 0.0778618686365992, 'Player': 0.16023195931861767, 'Turn': 0.16695117386152308}, 'Deck': {'ActionCardType': 0.19297382710864977, 'TileOApplication': 0.2166916068801406, 'abstract Game': 0.1678757588102073, 'Designer': 0.12569388099508502, 'Board': 0.14737306735824723, 'ConnectionPiece': 0.17435150165809798, 'Die': 0.14510304703632232, 'abstract Tile': 0.2280370749564633, 'ActionCard': 0.1632117119303286, 'ActionTile': 0.22184275806906883, 'Player': 0.18018390577130797, 'Turn': 0.2307964976108861}, 'abstract Tile': {'ActionCardType': 0.24852318938719764, 'TileOApplication': 0.7054821104208238, 'abstract Game': 0.34260349811724045, 'Designer': 0.17738895085530337, 'Board': 0.3216697585686113, 'ConnectionPiece': 0.19662123474814364, 'Die': 0.10739362245528022, 'abstract Tile': 0.9594914579513483, 'ActionCard': 0.23678495166344968, 'ActionTile': 0.8594249218969576, 'Player': 0.32700729086309166, 'Turn': 0.24600137645415884}, 'abstract ActionCard': {'ActionCardType': 0.8851215859355674, 'TileOApplication': 0.27954805918714803, 'abstract Game': 0.31336186067422067, 'Designer': 0.20266692398867792, 'Board': 0.27169355548288465, 'ConnectionPiece': 0.2797785270100708, 'Die': 0.13083245813251548, 'abstract Tile': 0.24839213181077152, 'ActionCard': 0.9250096390325995, 'ActionTile': 0.47782092914199403, 'Player': 0.34737500330309146, 'Turn': 0.2489282035121508}, 'RollDieActionCard': {'ActionCardType': 0.6017695935041498, 'TileOApplication': 0.2817211695878785, 'abstract Game': 0.30295613605689053, 'Designer': 0.19792709376451603, 'Board': 0.2519181381180423, 'ConnectionPiece': 0.2499157264017928, 'Die': 0.5742589861927292, 'abstract Tile': 0.192922157363356, 'ActionCard': 0.6193647154472055, 'ActionTile': 0.35639017373083637, 'Player': 0.350589956627612, 'Turn': 0.2959065139411151}, 'ConnectTilesActionCard': {'ActionCardType': 0.7287876091213801, 'TileOApplication': 0.5139479183120795, 'abstract Game': 0.2944718389480698, 'Designer': 0.21549745282190658, 'Board': 0.30029861213138037, 'ConnectionPiece': 0.3787955434564948, 'Die': 0.09381693479648069, 'abstract Tile': 0.5113769608901293, 'ActionCard': 0.670465678694391, 'ActionTile': 0.6251058677461098, 'Player': 0.30396309096698904, 'Turn': 0.2737648676446483}, 'RemoveConnectionActionCard': {'ActionCardType': 0.8262524995855334, 'TileOApplication': 0.3128934252148588, 'abstract Game': 0.2349468187998461, 'Designer': 0.2076008090141583, 'Board': 0.22034860921406643, 'ConnectionPiece': 0.4797666622963447, 'Die': 0.1411068454929157, 'abstract Tile': 0.20899980738752527, 'ActionCard': 0.7906774613461754, 'ActionTile': 0.428746286163169, 'Player': 0.2765837285914531, 'Turn': 0.24887265143765738}, 'TeleportActionCard': {'ActionCardType': 0.8543542407472599, 'TileOApplication': 0.3837268650030986, 'abstract Game': 0.28433833059992425, 'Designer': 0.19469517390804136, 'Board': 0.2518986861681274, 'ConnectionPiece': 0.3079404558003194, 'Die': 0.18885138128920148, 'abstract Tile': 0.22190035185511192, 'ActionCard': 0.8881016913130055, 'ActionTile': 0.4693201932293411, 'Player': 0.30268777432607363, 'Turn': 0.23725237406276767}, 'LoseTurnActionCard': {'ActionCardType': 0.7792515116057974, 'TileOApplication': 0.3212620258867348, 'abstract Game': 0.3075201696028116, 'Designer': 0.2602525180581169, 'Board': 0.2268584879743951, 'ConnectionPiece': 0.31276932103048194, 'Die': 0.18899556240449011, 'abstract Tile': 0.2477707363505795, 'ActionCard': 0.7397945087255736, 'ActionTile': 0.45191480255096417, 'Player': 0.35580330304119656, 'Turn': 0.5131528985771155}, 'WinTile': {'ActionCardType': 0.2781668513093853, 'TileOApplication': 0.598184260879409, 'abstract Game': 0.373772463788519, 'Designer': 0.11628297778222405, 'Board': 0.2910165464593766, 'ConnectionPiece': 0.1682730761830869, 'Die': 0.15846135807306377, 'abstract Tile': 0.6815123909340861, 'ActionCard': 0.23446667664515242, 'ActionTile': 0.6287288948997628, 'Player': 0.38008621036287626, 'Turn': 0.20676227405210054}, 'ActionTile': {'ActionCardType': 0.47632490479616624, 'TileOApplication': 0.6821615220367799, 'abstract Game': 0.3629555193133431, 'Designer': 0.18496663896386262, 'Board': 0.31512591154292197, 'ConnectionPiece': 0.27747810386640503, 'Die': 0.10805650027457364, 'abstract Tile': 0.8112742794035059, 'ActionCard': 0.459980608729988, 'ActionTile': 0.9533790722356272, 'Player': 0.3628781708776131, 'Turn': 0.28853240269469627}, 'NormalTile': {'ActionCardType': 0.2594982549922902, 'TileOApplication': 0.6724214180623546, 'abstract Game': 0.25768032838541405, 'Designer': 0.0735853291375131, 'Board': 0.2071785033863182, 'ConnectionPiece': 0.1536988191487092, 'Die': 0.10051562505847175, 'abstract Tile': 0.7591984027858961, 'ActionCard': 0.19343037562849663, 'ActionTile': 0.6872405452271021, 'Player': 0.26623493224383843, 'Turn': 0.24537615433418036}, 'Player': {'ActionCardType': 0.3316368798416179, 'TileOApplication': 0.23656018277512247, 'abstract Game': 0.6545157936505308, 'Designer': 0.2991902350219498, 'Board': 0.3249653522966709, 'ConnectionPiece': 0.23491945046127016, 'Die': 0.19800344026275174, 'abstract Tile': 0.3104832609862963, 'ActionCard': 0.30813697986116795, 'ActionTile': 0.39042683297881264, 'Player': 0.9531214869557605, 'Turn': 0.25837177479706114}}\n"
     ]
    },
    {
     "data": {
      "text/plain": [
       "[('TileO', 'TileOApplication'),\n",
       " ('Game', 'abstract Game'),\n",
       " ('Connection', 'ConnectionPiece'),\n",
       " ('Die', 'Die'),\n",
       " ('Deck', None),\n",
       " ('abstract Tile', 'abstract Tile'),\n",
       " ('abstract ActionCard', 'ActionCard'),\n",
       " ('RollDieActionCard', None),\n",
       " ('ConnectTilesActionCard', None),\n",
       " ('RemoveConnectionActionCard', None),\n",
       " ('TeleportActionCard', None),\n",
       " ('LoseTurnActionCard', 'Turn'),\n",
       " ('WinTile', None),\n",
       " ('ActionTile', 'ActionTile'),\n",
       " ('NormalTile', None),\n",
       " ('Player', 'Player'),\n",
       " (None, 'Designer'),\n",
       " (None, 'Board')]"
      ]
     },
     "execution_count": 1081,
     "metadata": {},
     "output_type": "execute_result"
    }
   ],
   "source": [
    "cls_mapping = match_classes(ref_reg_cls, stu_reg_cls, dict_sim_word, thresh = 0.5)\n",
    "cls_mapping[0]"
   ]
  },
  {
   "cell_type": "code",
   "execution_count": 1082,
   "metadata": {
    "id": "X6xo0l99VeXm"
   },
   "outputs": [],
   "source": [
    "mapping = enum_mapping[0] + cls_mapping[0]\n",
    "\n",
    "for map in mapping:\n",
    "  if map[0] and map[1]:\n",
    "    ref_cls.cls_atr[map[0]]['score'] = 1\n",
    "    ref_cls.cls_atr[map[0]]['counterpart'] = map[1]\n",
    "\n",
    "    stu_cls.cls_atr[map[1]]['score'] = 1\n",
    "    stu_cls.cls_atr[map[1]]['counterpart'] = map[0]\n",
    "\n",
    "    if ref_cls.cls_atr[map[0]][\"type\"] !=  stu_cls.cls_atr[map[1]][\"type\"]:\n",
    "      # type mismatch\n",
    "      ref_cls.cls_atr[map[0]]['score'] = 0.5\n",
    "      stu_cls.cls_atr[map[1]][\"score\"] = 0.5"
   ]
  },
  {
   "cell_type": "code",
   "execution_count": 1083,
   "metadata": {
    "id": "zndCFvnoWS7D"
   },
   "outputs": [
    {
     "data": {
      "text/plain": [
       "{'Mode': {'score': 0,\n",
       "  'type': 'enum',\n",
       "  'dsl': 'Mode(design, game)',\n",
       "  'counterpart': None,\n",
       "  'attributes': {'design': {'score': 0, 'counterpart': None},\n",
       "   'game': {'score': 0, 'counterpart': None}}},\n",
       " 'Color': {'score': 0,\n",
       "  'type': 'enum',\n",
       "  'dsl': 'Color(red, blue, green, yellow)',\n",
       "  'counterpart': None,\n",
       "  'attributes': {'red': {'score': 0, 'counterpart': None},\n",
       "   'blue': {'score': 0, 'counterpart': None},\n",
       "   'green': {'score': 0, 'counterpart': None},\n",
       "   'yellow': {'score': 0, 'counterpart': None}}},\n",
       " 'TileO': {'score': 1,\n",
       "  'type': 'regular',\n",
       "  'dsl': 'TileO()',\n",
       "  'counterpart': 'TileOApplication',\n",
       "  'attributes': {}},\n",
       " 'Game': {'score': 0.5,\n",
       "  'type': 'regular',\n",
       "  'dsl': 'Game(int currentConnectionPieces, Mode mode, int spaceConnectionPieces, int numberOfActionCards)',\n",
       "  'counterpart': 'abstract Game',\n",
       "  'attributes': {'int currentConnectionPieces': {'score': 0,\n",
       "    'counterpart': None},\n",
       "   'Mode mode': {'score': 0, 'counterpart': None},\n",
       "   'int spaceConnectionPieces': {'score': 0, 'counterpart': None},\n",
       "   'int numberOfActionCards': {'score': 0, 'counterpart': None}}},\n",
       " 'Connection': {'score': 1,\n",
       "  'type': 'regular',\n",
       "  'dsl': 'Connection()',\n",
       "  'counterpart': 'ConnectionPiece',\n",
       "  'attributes': {}},\n",
       " 'Die': {'score': 1,\n",
       "  'type': 'regular',\n",
       "  'dsl': 'Die()',\n",
       "  'counterpart': 'Die',\n",
       "  'attributes': {}},\n",
       " 'Deck': {'score': 0,\n",
       "  'type': 'regular',\n",
       "  'dsl': 'Deck()',\n",
       "  'counterpart': None,\n",
       "  'attributes': {}},\n",
       " 'abstract Tile': {'score': 1,\n",
       "  'type': 'abstract',\n",
       "  'dsl': 'abstract Tile(int x, int y, boolean hasBeenVisited)',\n",
       "  'counterpart': 'abstract Tile',\n",
       "  'attributes': {'int x': {'score': 0, 'counterpart': None},\n",
       "   'int y': {'score': 0, 'counterpart': None},\n",
       "   'boolean hasBeenVisited': {'score': 0, 'counterpart': None}}},\n",
       " 'abstract ActionCard': {'score': 0.5,\n",
       "  'type': 'abstract',\n",
       "  'dsl': 'abstract ActionCard (string instructions)',\n",
       "  'counterpart': 'ActionCard',\n",
       "  'attributes': {'string instructions': {'score': 0, 'counterpart': None}}},\n",
       " 'RollDieActionCard': {'score': 0,\n",
       "  'type': 'regular',\n",
       "  'dsl': 'RollDieActionCard()',\n",
       "  'counterpart': None,\n",
       "  'attributes': {}},\n",
       " 'ConnectTilesActionCard': {'score': 0,\n",
       "  'type': 'regular',\n",
       "  'dsl': 'ConnectTilesActionCard()',\n",
       "  'counterpart': None,\n",
       "  'attributes': {}},\n",
       " 'RemoveConnectionActionCard': {'score': 0,\n",
       "  'type': 'regular',\n",
       "  'dsl': 'RemoveConnectionActionCard()',\n",
       "  'counterpart': None,\n",
       "  'attributes': {}},\n",
       " 'TeleportActionCard': {'score': 0,\n",
       "  'type': 'regular',\n",
       "  'dsl': 'TeleportActionCard()',\n",
       "  'counterpart': None,\n",
       "  'attributes': {}},\n",
       " 'LoseTurnActionCard': {'score': 1,\n",
       "  'type': 'regular',\n",
       "  'dsl': 'LoseTurnActionCard()',\n",
       "  'counterpart': 'Turn',\n",
       "  'attributes': {}},\n",
       " 'WinTile': {'score': 0,\n",
       "  'type': 'regular',\n",
       "  'dsl': 'WinTile()',\n",
       "  'counterpart': None,\n",
       "  'attributes': {}},\n",
       " 'ActionTile': {'score': 1,\n",
       "  'type': 'regular',\n",
       "  'dsl': 'ActionTile(int inactivityPeriod, int turnsUntilActive)',\n",
       "  'counterpart': 'ActionTile',\n",
       "  'attributes': {'int inactivityPeriod': {'score': 0, 'counterpart': None},\n",
       "   'int turnsUntilActive': {'score': 0, 'counterpart': None}}},\n",
       " 'NormalTile': {'score': 0,\n",
       "  'type': 'regular',\n",
       "  'dsl': 'NormalTile()',\n",
       "  'counterpart': None,\n",
       "  'attributes': {}},\n",
       " 'Player': {'score': 1,\n",
       "  'type': 'regular',\n",
       "  'dsl': 'Player(int number, int turnsUntilActive, Color color)',\n",
       "  'counterpart': 'Player',\n",
       "  'attributes': {'int number': {'score': 0, 'counterpart': None},\n",
       "   'int turnsUntilActive': {'score': 0, 'counterpart': None},\n",
       "   'Color color': {'score': 0, 'counterpart': None}}}}"
      ]
     },
     "execution_count": 1083,
     "metadata": {},
     "output_type": "execute_result"
    }
   ],
   "source": [
    "ref_cls.cls_atr"
   ]
  },
  {
   "cell_type": "markdown",
   "metadata": {
    "id": "8y1nt_fsXDwB"
   },
   "source": [
    "## Stage 1.2 Class Mapping (with all info)"
   ]
  },
  {
   "cell_type": "code",
   "execution_count": 1084,
   "metadata": {
    "id": "8FOiiOpfXM5c"
   },
   "outputs": [],
   "source": [
    "ref_classes = []\n",
    "stu_classes = []\n",
    "\n",
    "for cls in ref_cls.cls_name:\n",
    "  if ref_cls.cls_atr[cls][\"counterpart\"] == None:\n",
    "    ref_classes.append(cls)\n",
    "\n",
    "for cls in stu_cls.cls_name:\n",
    "  if stu_cls.cls_atr[cls][\"counterpart\"] == None:\n",
    "    stu_classes.append(cls)"
   ]
  },
  {
   "cell_type": "code",
   "execution_count": 1085,
   "metadata": {
    "id": "l_HDKCa3XmuR"
   },
   "outputs": [],
   "source": [
    "# get name embedding\n",
    "# all info\n",
    "similarity_all = []\n",
    "mde_embedding = sgram_mde\n",
    "threshold = 0.7\n",
    "\n",
    "\n",
    "\n",
    "if os.path.exists(student_dir + \"ada_embedding.txt\"):\n",
    "  with open(student_dir + \"ada_embedding.txt\", 'r') as json_file:\n",
    "    dict_sim_all = json.load(json_file)\n",
    "\n",
    "else:\n",
    "  for index, node in enumerate(ref_cls.cls_name):\n",
    "    text_1 = get_all_info(index, ref_cls.cls_name, ref_cls.raw_dsl, ref_cls.rel.raw_dsl, True)\n",
    "    emb_i = get_embedding(text_1)\n",
    "    mde_pair = []\n",
    "    for j, stu_node in enumerate(stu_cls.cls_name):\n",
    "      text_2 = get_all_info(j, stu_cls.cls_name, stu_cls.raw_dsl, stu_cls.rel.raw_dsl, True)\n",
    "      emb_j = get_embedding(text_2)\n",
    "      mde_sim = cosine_distance(emb_i, emb_j)\n",
    "      mde_pair.append(mde_sim)\n",
    "\n",
    "    # apply third quartile\n",
    "    similarity_all.append(mde_pair)\n",
    "\n",
    "  dict_sim_all = {}\n",
    "  for i in range(len(ref_cls.cls_name)):\n",
    "    dict_sim_all[ref_cls.cls_name[i]] = {}\n",
    "    for j in range(len(stu_cls.cls_name)):\n",
    "      dict_sim_all[ref_cls.cls_name[i]][stu_cls.cls_name[j]] = similarity_all[i][j]\n",
    "\n",
    "\n",
    "\n"
   ]
  },
  {
   "cell_type": "code",
   "execution_count": 1086,
   "metadata": {},
   "outputs": [],
   "source": [
    "with open(student_dir + \"ada_embedding.txt\", 'w') as json_file:\n",
    "    json.dump(dict_sim_all, json_file)"
   ]
  },
  {
   "cell_type": "code",
   "execution_count": 1087,
   "metadata": {},
   "outputs": [
    {
     "data": {
      "text/plain": [
       "'results/gpt-4o-mini/sherpa/07_Tile/'"
      ]
     },
     "execution_count": 1087,
     "metadata": {},
     "output_type": "execute_result"
    }
   ],
   "source": [
    "student_dir"
   ]
  },
  {
   "cell_type": "code",
   "execution_count": 1088,
   "metadata": {},
   "outputs": [
    {
     "data": {
      "text/plain": [
       "['Mode',\n",
       " 'Color',\n",
       " 'Deck',\n",
       " 'RollDieActionCard',\n",
       " 'ConnectTilesActionCard',\n",
       " 'RemoveConnectionActionCard',\n",
       " 'TeleportActionCard',\n",
       " 'WinTile',\n",
       " 'NormalTile']"
      ]
     },
     "execution_count": 1088,
     "metadata": {},
     "output_type": "execute_result"
    }
   ],
   "source": [
    "ref_classes"
   ]
  },
  {
   "cell_type": "code",
   "execution_count": 1089,
   "metadata": {},
   "outputs": [
    {
     "data": {
      "text/plain": [
       "['ActionCardType', 'Designer', 'Board']"
      ]
     },
     "execution_count": 1089,
     "metadata": {},
     "output_type": "execute_result"
    }
   ],
   "source": [
    "stu_classes"
   ]
  },
  {
   "cell_type": "code",
   "execution_count": null,
   "metadata": {},
   "outputs": [
    {
     "data": {
      "text/plain": [
       "{'Mode': {'ActionCardType': 0.7803789530484666,\n",
       "  'TileOApplication': 0.7849335825989973,\n",
       "  'abstract Game': 0.8203053596695445,\n",
       "  'Designer': 0.8384511177977061,\n",
       "  'Board': 0.8003124058499295,\n",
       "  'ConnectionPiece': 0.7801746016658562,\n",
       "  'Die': 0.7945335803096161,\n",
       "  'abstract Tile': 0.7651446894110163,\n",
       "  'ActionCard': 0.7659720074553982,\n",
       "  'ActionTile': 0.7645772452203214,\n",
       "  'Player': 0.7708272551342213,\n",
       "  'Turn': 0.7752655725704595},\n",
       " 'Color': {'ActionCardType': 0.752892455912234,\n",
       "  'TileOApplication': 0.7617506888455718,\n",
       "  'abstract Game': 0.7396951641901045,\n",
       "  'Designer': 0.7864113579352578,\n",
       "  'Board': 0.7777599471988865,\n",
       "  'ConnectionPiece': 0.7691348153787241,\n",
       "  'Die': 0.7895114818360068,\n",
       "  'abstract Tile': 0.7434349500346253,\n",
       "  'ActionCard': 0.741285088165323,\n",
       "  'ActionTile': 0.7291483966884102,\n",
       "  'Player': 0.7894573858569608,\n",
       "  'Turn': 0.7504768283836784},\n",
       " 'TileO': {'ActionCardType': 0.7832896941422128,\n",
       "  'TileOApplication': 0.9242214417613405,\n",
       "  'abstract Game': 0.7591889643075148,\n",
       "  'Designer': 0.7693046200372154,\n",
       "  'Board': 0.8033025047718675,\n",
       "  'ConnectionPiece': 0.7780063624933374,\n",
       "  'Die': 0.8187363198183137,\n",
       "  'abstract Tile': 0.8118510034793522,\n",
       "  'ActionCard': 0.7527053567216532,\n",
       "  'ActionTile': 0.7919481991703919,\n",
       "  'Player': 0.7648932784381066,\n",
       "  'Turn': 0.7728724339831711},\n",
       " 'Game': {'ActionCardType': 0.8348633488253494,\n",
       "  'TileOApplication': 0.7545391443269428,\n",
       "  'abstract Game': 0.7933696406271528,\n",
       "  'Designer': 0.7513946924777162,\n",
       "  'Board': 0.813423808071896,\n",
       "  'ConnectionPiece': 0.8137292522926792,\n",
       "  'Die': 0.7760971746473532,\n",
       "  'abstract Tile': 0.7419944483397353,\n",
       "  'ActionCard': 0.7906174553067241,\n",
       "  'ActionTile': 0.7834917553334062,\n",
       "  'Player': 0.8029291719303652,\n",
       "  'Turn': 0.7860734176031399},\n",
       " 'Connection': {'ActionCardType': 0.7816531106001202,\n",
       "  'TileOApplication': 0.789080174733791,\n",
       "  'abstract Game': 0.7479612282885235,\n",
       "  'Designer': 0.7835369417869464,\n",
       "  'Board': 0.772944944390733,\n",
       "  'ConnectionPiece': 0.836101586867023,\n",
       "  'Die': 0.7685725433644943,\n",
       "  'abstract Tile': 0.7320139582794791,\n",
       "  'ActionCard': 0.7646956260378655,\n",
       "  'ActionTile': 0.7281419884024433,\n",
       "  'Player': 0.7754804790461871,\n",
       "  'Turn': 0.7499896412775501},\n",
       " 'Die': {'ActionCardType': 0.7459884896164687,\n",
       "  'TileOApplication': 0.7901654134375784,\n",
       "  'abstract Game': 0.7416296916675271,\n",
       "  'Designer': 0.7986392358658917,\n",
       "  'Board': 0.7725908945760652,\n",
       "  'ConnectionPiece': 0.7694799836355338,\n",
       "  'Die': 0.8488248512224206,\n",
       "  'abstract Tile': 0.7381225921152916,\n",
       "  'ActionCard': 0.7506469572552972,\n",
       "  'ActionTile': 0.7407260549906344,\n",
       "  'Player': 0.7542913446629033,\n",
       "  'Turn': 0.7541363845586364},\n",
       " 'Deck': {'ActionCardType': 0.8177008609069234,\n",
       "  'TileOApplication': 0.7931122841775027,\n",
       "  'abstract Game': 0.7750120578922778,\n",
       "  'Designer': 0.7854438442968434,\n",
       "  'Board': 0.8327580463395398,\n",
       "  'ConnectionPiece': 0.8011949095791493,\n",
       "  'Die': 0.8171141458770343,\n",
       "  'abstract Tile': 0.7784615009329062,\n",
       "  'ActionCard': 0.8134357067394895,\n",
       "  'ActionTile': 0.7760935314924122,\n",
       "  'Player': 0.7816688605003288,\n",
       "  'Turn': 0.7779901374570244},\n",
       " 'abstract Tile': {'ActionCardType': 0.7595958616372013,\n",
       "  'TileOApplication': 0.7774253272044749,\n",
       "  'abstract Game': 0.7775546980074974,\n",
       "  'Designer': 0.7279095318610175,\n",
       "  'Board': 0.8117439184893163,\n",
       "  'ConnectionPiece': 0.7699786695849794,\n",
       "  'Die': 0.7639853425102133,\n",
       "  'abstract Tile': 0.9286996124992497,\n",
       "  'ActionCard': 0.7315049997029218,\n",
       "  'ActionTile': 0.8444178909084207,\n",
       "  'Player': 0.7539542225460493,\n",
       "  'Turn': 0.7325809999093547},\n",
       " 'abstract ActionCard': {'ActionCardType': 0.8305729950959251,\n",
       "  'TileOApplication': 0.7447459346176395,\n",
       "  'abstract Game': 0.7907268995169604,\n",
       "  'Designer': 0.7624008118031995,\n",
       "  'Board': 0.7622451025387503,\n",
       "  'ConnectionPiece': 0.7739797876770759,\n",
       "  'Die': 0.762592182206592,\n",
       "  'abstract Tile': 0.7733555357704696,\n",
       "  'ActionCard': 0.8995033420738779,\n",
       "  'ActionTile': 0.8082085881004711,\n",
       "  'Player': 0.75114002846074,\n",
       "  'Turn': 0.7671334156333544},\n",
       " 'RollDieActionCard': {'ActionCardType': 0.849160134289037,\n",
       "  'TileOApplication': 0.7675373092359141,\n",
       "  'abstract Game': 0.7512875521487608,\n",
       "  'Designer': 0.739096515331357,\n",
       "  'Board': 0.7691588032449354,\n",
       "  'ConnectionPiece': 0.7696983865341462,\n",
       "  'Die': 0.7750901871870804,\n",
       "  'abstract Tile': 0.7376612575003596,\n",
       "  'ActionCard': 0.8548666913286391,\n",
       "  'ActionTile': 0.8118856530701531,\n",
       "  'Player': 0.7579552755842249,\n",
       "  'Turn': 0.7924033825844033},\n",
       " 'ConnectTilesActionCard': {'ActionCardType': 0.8698670590889582,\n",
       "  'TileOApplication': 0.8175571750233153,\n",
       "  'abstract Game': 0.7457166479161027,\n",
       "  'Designer': 0.7429852679755361,\n",
       "  'Board': 0.7845400881965517,\n",
       "  'ConnectionPiece': 0.7885907860778628,\n",
       "  'Die': 0.7681114128885773,\n",
       "  'abstract Tile': 0.7945698105088498,\n",
       "  'ActionCard': 0.8494320215404567,\n",
       "  'ActionTile': 0.8459255646859267,\n",
       "  'Player': 0.755592087926969,\n",
       "  'Turn': 0.7680771487924788},\n",
       " 'RemoveConnectionActionCard': {'ActionCardType': 0.8512163240723942,\n",
       "  'TileOApplication': 0.7467929074878898,\n",
       "  'abstract Game': 0.7203954687449213,\n",
       "  'Designer': 0.7322354360968605,\n",
       "  'Board': 0.7355231965928005,\n",
       "  'ConnectionPiece': 0.7824098327136075,\n",
       "  'Die': 0.7373940368549384,\n",
       "  'abstract Tile': 0.7122558716315951,\n",
       "  'ActionCard': 0.84138384598526,\n",
       "  'ActionTile': 0.7709526512794236,\n",
       "  'Player': 0.7315334101082807,\n",
       "  'Turn': 0.7394781690003676},\n",
       " 'TeleportActionCard': {'ActionCardType': 0.8576929870874611,\n",
       "  'TileOApplication': 0.7922926133969004,\n",
       "  'abstract Game': 0.7638635007282863,\n",
       "  'Designer': 0.7506882533371694,\n",
       "  'Board': 0.7820720381684922,\n",
       "  'ConnectionPiece': 0.7929229013857338,\n",
       "  'Die': 0.765106957298505,\n",
       "  'abstract Tile': 0.7766502509492171,\n",
       "  'ActionCard': 0.8691481020874324,\n",
       "  'ActionTile': 0.8389860779965408,\n",
       "  'Player': 0.7771505476882677,\n",
       "  'Turn': 0.7793365485133597},\n",
       " 'LoseTurnActionCard': {'ActionCardType': 0.8935832372080914,\n",
       "  'TileOApplication': 0.7673164154594164,\n",
       "  'abstract Game': 0.7582632564779286,\n",
       "  'Designer': 0.7411461064301375,\n",
       "  'Board': 0.768977117408859,\n",
       "  'ConnectionPiece': 0.7725882518080085,\n",
       "  'Die': 0.7727766640514481,\n",
       "  'abstract Tile': 0.747533125497239,\n",
       "  'ActionCard': 0.8434824648557606,\n",
       "  'ActionTile': 0.8287184453876935,\n",
       "  'Player': 0.7669117098078304,\n",
       "  'Turn': 0.8231481843142574},\n",
       " 'WinTile': {'ActionCardType': 0.799989929949164,\n",
       "  'TileOApplication': 0.8742137794232772,\n",
       "  'abstract Game': 0.7685468418969871,\n",
       "  'Designer': 0.7720648376263511,\n",
       "  'Board': 0.8119518399393095,\n",
       "  'ConnectionPiece': 0.7828133851979251,\n",
       "  'Die': 0.7848749549568658,\n",
       "  'abstract Tile': 0.8164386608420865,\n",
       "  'ActionCard': 0.7782872154773969,\n",
       "  'ActionTile': 0.8097885198201509,\n",
       "  'Player': 0.7686993915570408,\n",
       "  'Turn': 0.7743997458535924},\n",
       " 'ActionTile': {'ActionCardType': 0.827086104290011,\n",
       "  'TileOApplication': 0.7861326619719227,\n",
       "  'abstract Game': 0.7905105262088622,\n",
       "  'Designer': 0.7354715273347383,\n",
       "  'Board': 0.7760746128659844,\n",
       "  'ConnectionPiece': 0.7655208294436066,\n",
       "  'Die': 0.7677736769431821,\n",
       "  'abstract Tile': 0.782374282563341,\n",
       "  'ActionCard': 0.7945715786671563,\n",
       "  'ActionTile': 0.8731197529633736,\n",
       "  'Player': 0.7474781000917187,\n",
       "  'Turn': 0.8073273175830864},\n",
       " 'NormalTile': {'ActionCardType': 0.7916912321716622,\n",
       "  'TileOApplication': 0.8421875346656763,\n",
       "  'abstract Game': 0.7586174030945911,\n",
       "  'Designer': 0.7769639183519171,\n",
       "  'Board': 0.8126630510977342,\n",
       "  'ConnectionPiece': 0.7856577732418167,\n",
       "  'Die': 0.7926227675009657,\n",
       "  'abstract Tile': 0.831537719565613,\n",
       "  'ActionCard': 0.7685010004437969,\n",
       "  'ActionTile': 0.8180235984433086,\n",
       "  'Player': 0.7621059255421054,\n",
       "  'Turn': 0.7535697203548709},\n",
       " 'Player': {'ActionCardType': 0.8073505576149559,\n",
       "  'TileOApplication': 0.7648765386480357,\n",
       "  'abstract Game': 0.8134562893929734,\n",
       "  'Designer': 0.7639068604076633,\n",
       "  'Board': 0.8141832471795565,\n",
       "  'ConnectionPiece': 0.7921668897747672,\n",
       "  'Die': 0.7862722438733724,\n",
       "  'abstract Tile': 0.765402696859202,\n",
       "  'ActionCard': 0.7676937649866883,\n",
       "  'ActionTile': 0.821104332645476,\n",
       "  'Player': 0.8824887505977894,\n",
       "  'Turn': 0.8609238240274445}}"
      ]
     },
     "execution_count": 1090,
     "metadata": {},
     "output_type": "execute_result"
    }
   ],
   "source": [
    "dict_sim_all"
   ]
  },
  {
   "cell_type": "code",
   "execution_count": null,
   "metadata": {
    "id": "0h_VDYCKdqHv"
   },
   "outputs": [
    {
     "name": "stdout",
     "output_type": "stream",
     "text": [
      "{'Mode': {'ActionCardType': 0.7803789530484666, 'TileOApplication': 0.7849335825989973, 'abstract Game': 0.8203053596695445, 'Designer': 0.8384511177977061, 'Board': 0.8003124058499295, 'ConnectionPiece': 0.7801746016658562, 'Die': 0.7945335803096161, 'abstract Tile': 0.7651446894110163, 'ActionCard': 0.7659720074553982, 'ActionTile': 0.7645772452203214, 'Player': 0.7708272551342213, 'Turn': 0.7752655725704595}, 'Color': {'ActionCardType': 0.752892455912234, 'TileOApplication': 0.7617506888455718, 'abstract Game': 0.7396951641901045, 'Designer': 0.7864113579352578, 'Board': 0.7777599471988865, 'ConnectionPiece': 0.7691348153787241, 'Die': 0.7895114818360068, 'abstract Tile': 0.7434349500346253, 'ActionCard': 0.741285088165323, 'ActionTile': 0.7291483966884102, 'Player': 0.7894573858569608, 'Turn': 0.7504768283836784}, 'TileO': {'ActionCardType': 0.7832896941422128, 'TileOApplication': 0.9242214417613405, 'abstract Game': 0.7591889643075148, 'Designer': 0.7693046200372154, 'Board': 0.8033025047718675, 'ConnectionPiece': 0.7780063624933374, 'Die': 0.8187363198183137, 'abstract Tile': 0.8118510034793522, 'ActionCard': 0.7527053567216532, 'ActionTile': 0.7919481991703919, 'Player': 0.7648932784381066, 'Turn': 0.7728724339831711}, 'Game': {'ActionCardType': 0.8348633488253494, 'TileOApplication': 0.7545391443269428, 'abstract Game': 0.7933696406271528, 'Designer': 0.7513946924777162, 'Board': 0.813423808071896, 'ConnectionPiece': 0.8137292522926792, 'Die': 0.7760971746473532, 'abstract Tile': 0.7419944483397353, 'ActionCard': 0.7906174553067241, 'ActionTile': 0.7834917553334062, 'Player': 0.8029291719303652, 'Turn': 0.7860734176031399}, 'Connection': {'ActionCardType': 0.7816531106001202, 'TileOApplication': 0.789080174733791, 'abstract Game': 0.7479612282885235, 'Designer': 0.7835369417869464, 'Board': 0.772944944390733, 'ConnectionPiece': 0.836101586867023, 'Die': 0.7685725433644943, 'abstract Tile': 0.7320139582794791, 'ActionCard': 0.7646956260378655, 'ActionTile': 0.7281419884024433, 'Player': 0.7754804790461871, 'Turn': 0.7499896412775501}, 'Die': {'ActionCardType': 0.7459884896164687, 'TileOApplication': 0.7901654134375784, 'abstract Game': 0.7416296916675271, 'Designer': 0.7986392358658917, 'Board': 0.7725908945760652, 'ConnectionPiece': 0.7694799836355338, 'Die': 0.8488248512224206, 'abstract Tile': 0.7381225921152916, 'ActionCard': 0.7506469572552972, 'ActionTile': 0.7407260549906344, 'Player': 0.7542913446629033, 'Turn': 0.7541363845586364}, 'Deck': {'ActionCardType': 0.8177008609069234, 'TileOApplication': 0.7931122841775027, 'abstract Game': 0.7750120578922778, 'Designer': 0.7854438442968434, 'Board': 0.8327580463395398, 'ConnectionPiece': 0.8011949095791493, 'Die': 0.8171141458770343, 'abstract Tile': 0.7784615009329062, 'ActionCard': 0.8134357067394895, 'ActionTile': 0.7760935314924122, 'Player': 0.7816688605003288, 'Turn': 0.7779901374570244}, 'abstract Tile': {'ActionCardType': 0.7595958616372013, 'TileOApplication': 0.7774253272044749, 'abstract Game': 0.7775546980074974, 'Designer': 0.7279095318610175, 'Board': 0.8117439184893163, 'ConnectionPiece': 0.7699786695849794, 'Die': 0.7639853425102133, 'abstract Tile': 0.9286996124992497, 'ActionCard': 0.7315049997029218, 'ActionTile': 0.8444178909084207, 'Player': 0.7539542225460493, 'Turn': 0.7325809999093547}, 'abstract ActionCard': {'ActionCardType': 0.8305729950959251, 'TileOApplication': 0.7447459346176395, 'abstract Game': 0.7907268995169604, 'Designer': 0.7624008118031995, 'Board': 0.7622451025387503, 'ConnectionPiece': 0.7739797876770759, 'Die': 0.762592182206592, 'abstract Tile': 0.7733555357704696, 'ActionCard': 0.8995033420738779, 'ActionTile': 0.8082085881004711, 'Player': 0.75114002846074, 'Turn': 0.7671334156333544}, 'RollDieActionCard': {'ActionCardType': 0.849160134289037, 'TileOApplication': 0.7675373092359141, 'abstract Game': 0.7512875521487608, 'Designer': 0.739096515331357, 'Board': 0.7691588032449354, 'ConnectionPiece': 0.7696983865341462, 'Die': 0.7750901871870804, 'abstract Tile': 0.7376612575003596, 'ActionCard': 0.8548666913286391, 'ActionTile': 0.8118856530701531, 'Player': 0.7579552755842249, 'Turn': 0.7924033825844033}, 'ConnectTilesActionCard': {'ActionCardType': 0.8698670590889582, 'TileOApplication': 0.8175571750233153, 'abstract Game': 0.7457166479161027, 'Designer': 0.7429852679755361, 'Board': 0.7845400881965517, 'ConnectionPiece': 0.7885907860778628, 'Die': 0.7681114128885773, 'abstract Tile': 0.7945698105088498, 'ActionCard': 0.8494320215404567, 'ActionTile': 0.8459255646859267, 'Player': 0.755592087926969, 'Turn': 0.7680771487924788}, 'RemoveConnectionActionCard': {'ActionCardType': 0.8512163240723942, 'TileOApplication': 0.7467929074878898, 'abstract Game': 0.7203954687449213, 'Designer': 0.7322354360968605, 'Board': 0.7355231965928005, 'ConnectionPiece': 0.7824098327136075, 'Die': 0.7373940368549384, 'abstract Tile': 0.7122558716315951, 'ActionCard': 0.84138384598526, 'ActionTile': 0.7709526512794236, 'Player': 0.7315334101082807, 'Turn': 0.7394781690003676}, 'TeleportActionCard': {'ActionCardType': 0.8576929870874611, 'TileOApplication': 0.7922926133969004, 'abstract Game': 0.7638635007282863, 'Designer': 0.7506882533371694, 'Board': 0.7820720381684922, 'ConnectionPiece': 0.7929229013857338, 'Die': 0.765106957298505, 'abstract Tile': 0.7766502509492171, 'ActionCard': 0.8691481020874324, 'ActionTile': 0.8389860779965408, 'Player': 0.7771505476882677, 'Turn': 0.7793365485133597}, 'LoseTurnActionCard': {'ActionCardType': 0.8935832372080914, 'TileOApplication': 0.7673164154594164, 'abstract Game': 0.7582632564779286, 'Designer': 0.7411461064301375, 'Board': 0.768977117408859, 'ConnectionPiece': 0.7725882518080085, 'Die': 0.7727766640514481, 'abstract Tile': 0.747533125497239, 'ActionCard': 0.8434824648557606, 'ActionTile': 0.8287184453876935, 'Player': 0.7669117098078304, 'Turn': 0.8231481843142574}, 'WinTile': {'ActionCardType': 0.799989929949164, 'TileOApplication': 0.8742137794232772, 'abstract Game': 0.7685468418969871, 'Designer': 0.7720648376263511, 'Board': 0.8119518399393095, 'ConnectionPiece': 0.7828133851979251, 'Die': 0.7848749549568658, 'abstract Tile': 0.8164386608420865, 'ActionCard': 0.7782872154773969, 'ActionTile': 0.8097885198201509, 'Player': 0.7686993915570408, 'Turn': 0.7743997458535924}, 'ActionTile': {'ActionCardType': 0.827086104290011, 'TileOApplication': 0.7861326619719227, 'abstract Game': 0.7905105262088622, 'Designer': 0.7354715273347383, 'Board': 0.7760746128659844, 'ConnectionPiece': 0.7655208294436066, 'Die': 0.7677736769431821, 'abstract Tile': 0.782374282563341, 'ActionCard': 0.7945715786671563, 'ActionTile': 0.8731197529633736, 'Player': 0.7474781000917187, 'Turn': 0.8073273175830864}, 'NormalTile': {'ActionCardType': 0.7916912321716622, 'TileOApplication': 0.8421875346656763, 'abstract Game': 0.7586174030945911, 'Designer': 0.7769639183519171, 'Board': 0.8126630510977342, 'ConnectionPiece': 0.7856577732418167, 'Die': 0.7926227675009657, 'abstract Tile': 0.831537719565613, 'ActionCard': 0.7685010004437969, 'ActionTile': 0.8180235984433086, 'Player': 0.7621059255421054, 'Turn': 0.7535697203548709}, 'Player': {'ActionCardType': 0.8073505576149559, 'TileOApplication': 0.7648765386480357, 'abstract Game': 0.8134562893929734, 'Designer': 0.7639068604076633, 'Board': 0.8141832471795565, 'ConnectionPiece': 0.7921668897747672, 'Die': 0.7862722438733724, 'abstract Tile': 0.765402696859202, 'ActionCard': 0.7676937649866883, 'ActionTile': 0.821104332645476, 'Player': 0.8824887505977894, 'Turn': 0.8609238240274445}}\n"
     ]
    },
    {
     "data": {
      "text/plain": [
       "[('Mode', 'Designer'),\n",
       " ('Color', None),\n",
       " ('Deck', 'Board'),\n",
       " ('RollDieActionCard', None),\n",
       " ('ConnectTilesActionCard', 'ActionCardType'),\n",
       " ('RemoveConnectionActionCard', None),\n",
       " ('TeleportActionCard', None),\n",
       " ('WinTile', None),\n",
       " ('NormalTile', None)]"
      ]
     },
     "execution_count": 1091,
     "metadata": {},
     "output_type": "execute_result"
    }
   ],
   "source": [
    "mapping = match_classes(ref_classes, stu_classes, dict_sim_all, 0.8)\n",
    "mapping[0]"
   ]
  },
  {
   "cell_type": "code",
   "execution_count": 1092,
   "metadata": {
    "id": "c-JGkI6OgFFf"
   },
   "outputs": [],
   "source": [
    "for map in mapping[0]:\n",
    "  if map[0] and map[1]:\n",
    "    ref_cls.cls_atr[map[0]]['score'] = 1\n",
    "    ref_cls.cls_atr[map[0]]['counterpart'] = map[1]\n",
    "\n",
    "    stu_cls.cls_atr[map[1]]['score'] = 1\n",
    "    stu_cls.cls_atr[map[1]]['counterpart'] = map[0]\n",
    "\n",
    "    if ref_cls.cls_atr[map[0]][\"type\"] !=  stu_cls.cls_atr[map[1]][\"type\"]:\n",
    "      # type mismatch\n",
    "      ref_cls.cls_atr[map[0]]['score'] = 0.5\n",
    "      stu_cls.cls_atr[map[1]][\"score\"] = 0.5"
   ]
  },
  {
   "cell_type": "code",
   "execution_count": null,
   "metadata": {},
   "outputs": [],
   "source": []
  },
  {
   "cell_type": "markdown",
   "metadata": {
    "id": "AD1YW_WlcROJ"
   },
   "source": [
    "## Stage 2.1 Attribute mapping"
   ]
  },
  {
   "cell_type": "code",
   "execution_count": 1093,
   "metadata": {
    "id": "iscQC5FOiqGK"
   },
   "outputs": [],
   "source": [
    "def get_cosine_disntance(text1, text2, embedding):\n",
    "    avg = np.sum(embedding[text1], axis=0)\n",
    "    emb_i = avg / len(text1)\n",
    "\n",
    "    avg = np.sum(embedding[text2], axis=0)\n",
    "    emb_j = avg / len(text2)\n",
    "\n",
    "    return np.dot(emb_i, emb_j) / (np.linalg.norm(emb_i) * np.linalg.norm(emb_j))"
   ]
  },
  {
   "cell_type": "code",
   "execution_count": 1094,
   "metadata": {
    "id": "Y_pf4bzuhcWM"
   },
   "outputs": [],
   "source": [
    "def create_cosine_similarity_dict(attr_1, attr_2, embedding):\n",
    "  # attr_1: list[list] split camel case into separated case\n",
    "  # attr_2: list[list] split camel case into separated case\n",
    "  # embedding:\n",
    "  # raw_1: list[str] camcel case attributes\n",
    "  # raw_2: list[str] camcel case attributes\n",
    "\n",
    "  # create cosine distance between two attributes with embeeding\n",
    "\n",
    "  # >>> dic = createCosineDistance(['deviceStatus', 'deviceId'], ['id'], sgram_mde)\n",
    "  similarities = []\n",
    "  for att in attr_1:\n",
    "    emb_i = get_mde_embedding(att, embedding)\n",
    "    pair = []\n",
    "    for attribute in attr_2:\n",
    "      emb_j = get_mde_embedding(attribute, embedding)\n",
    "\n",
    "      sim = np.dot(emb_i, emb_j) / (np.linalg.norm(emb_i) * np.linalg.norm(emb_j))\n",
    "      pair.append(sim)\n",
    "\n",
    "    similarities.append(pair)\n",
    "\n",
    "  dict_attr = {}\n",
    "  for i in range(len(attr_1)):\n",
    "    dict_attr[attr_1[i]] = {}\n",
    "    for j in range(len(attr_2)):\n",
    "      dict_attr[attr_1[i]][attr_2[j]] = similarities[i][j]\n",
    "\n",
    "  return dict_attr"
   ]
  },
  {
   "cell_type": "code",
   "execution_count": 1095,
   "metadata": {
    "id": "3zgOAtMkjId5"
   },
   "outputs": [],
   "source": [
    "def match_attributes(raw_1, raw_2, dict_attr, threshold = 0.5):\n",
    "  # map attributes lists raw_1 and raw_2\n",
    "  # >>> mapAttributes(['deviceStatus'], ['id'], dic)[0]\n",
    "  def node_subst_cost_attr(node1, node2):\n",
    "    # threshod as 0.45\n",
    "    if dict_attr[node1[\"name\"]][node2[\"name\"]] < threshold:\n",
    "      return 3\n",
    "    else:\n",
    "      return 1-dict_attr[node1[\"name\"]][node2[\"name\"]]\n",
    "\n",
    "  G_att_1 = nx.Graph()\n",
    "  G_att_2 = nx.Graph()\n",
    "  for node in raw_1:\n",
    "    G_att_1.add_node(node, name = node)\n",
    "\n",
    "  for node in raw_2:\n",
    "    G_att_2.add_node(node, name = node)\n",
    "\n",
    "  for v in nx.optimize_edit_paths(G_att_1, G_att_2, node_subst_cost=node_subst_cost_attr, edge_match=None, timeout = 20):\n",
    "      minv = v\n",
    "  # minv\n",
    "\n",
    "  return minv"
   ]
  },
  {
   "cell_type": "code",
   "execution_count": 1096,
   "metadata": {
    "id": "_DfPQzlrkIPr"
   },
   "outputs": [],
   "source": [
    "def check_attributes_type(attr_1, attr_2, ref_dict, stu_dict):\n",
    "  # given two attribute, compare whether their type can match\n",
    "  attr_1 = attr_1.split() # from reference solution do not need to check it\n",
    "  attr_2 = attr_2.split()\n",
    "\n",
    "  # if enumerate literal and attributes\n",
    "  # if len(attr_1) != len(attr_2):\n",
    "  #   return 0.5, 0.5\n",
    "\n",
    "  # if an attributes use a regular class as its type\n",
    "  if len(attr_2) == 2:\n",
    "    t = attr_2[0].strip()\n",
    "    cls = stu_dict.get(t, None)\n",
    "    if cls is not None and (stu_dict[t]['type'] == \"regular\" or stu_dict[t]['type'] == \"abstract\"):\n",
    "      return 0.5, 0.5\n",
    "    \n",
    "  if len(attr_1) == 2 or len(attr_2) == 2:\n",
    "    t = attr_1[0].strip()\n",
    "    cls = ref_dict.get(t, None)\n",
    "    # print(cls)\n",
    "    t_2 = attr_2[0].strip()\n",
    "    cls_2 = stu_dict.get(t_2, None)   \n",
    "    # print(cls_2) \n",
    "    if cls is not None:\n",
    "      if ref_dict[t]['counterpart'] != t_2:\n",
    "        return 0.5, 0.5\n",
    "    if cls_2 is not None:\n",
    "      if stu_dict[t_2]['counterpart'] != t:\n",
    "        return 0.5, 0.5\n",
    "    \n",
    "  return 1,1"
   ]
  },
  {
   "cell_type": "code",
   "execution_count": 1097,
   "metadata": {},
   "outputs": [
    {
     "data": {
      "text/plain": [
       "(1, 1)"
      ]
     },
     "execution_count": 1097,
     "metadata": {},
     "output_type": "execute_result"
    }
   ],
   "source": [
    "x =check_attributes_type(('CommandStatus commandStatus', 'ControllerStatus status')[0], ('CommandStatus commandStatus', 'ControllerStatus status')[1], ref_cls.cls_atr, stu_cls.cls_atr)\n",
    "x"
   ]
  },
  {
   "cell_type": "markdown",
   "metadata": {
    "id": "Aa4XV2BtjJyR"
   },
   "source": [
    "### Stage 2.1.1 Attribute <-> Attribute (mapped classes)"
   ]
  },
  {
   "cell_type": "code",
   "execution_count": null,
   "metadata": {
    "id": "AWTlbDOnrwK-"
   },
   "outputs": [
    {
     "name": "stdout",
     "output_type": "stream",
     "text": [
      "['Mode', 'Designer']\n",
      "mapping [('design', None), ('game', None), (None, 'string designerName')]\n",
      "====================\n",
      "['TileO', 'TileOApplication']\n",
      "mapping []\n",
      "====================\n",
      "['Game', 'abstract Game']\n",
      "mapping [('int currentConnectionPieces', None), ('Mode mode', None), ('int spaceConnectionPieces', None), ('int numberOfActionCards', 'boolean isActive'), (None, 'string gameName')]\n",
      "====================\n",
      "['Connection', 'ConnectionPiece']\n",
      "mapping [(None, 'string direction')]\n",
      "====================\n",
      "['Die', 'Die']\n",
      "mapping [(None, 'int sides')]\n",
      "====================\n",
      "['Deck', 'Board']\n",
      "mapping [(None, 'int width'), (None, 'int height')]\n",
      "====================\n",
      "['abstract Tile', 'abstract Tile']\n",
      "mapping [('int x', None), ('int y', None), ('boolean hasBeenVisited', 'boolean isVisited'), (None, 'string tileType')]\n",
      "====================\n",
      "['abstract ActionCard', 'ActionCard']\n",
      "mapping [('string instructions', 'string actionDescription')]\n",
      "====================\n",
      "['ConnectTilesActionCard', 'ActionCardType']\n",
      "mapping [(None, 'ExtraTurn'), (None, 'ConnectTiles'), (None, 'RemoveConnection'), (None, 'MovePiece'), (None, 'LoseTurn')]\n",
      "====================\n",
      "['LoseTurnActionCard', 'Turn']\n",
      "mapping [(None, 'int turnNumber'), (None, 'string currentPlayer')]\n",
      "====================\n",
      "['ActionTile', 'ActionTile']\n",
      "mapping [('int inactivityPeriod', None), ('int turnsUntilActive', 'int turnsUntilRegular) inherit Til'), (None, 'string actionType')]\n",
      "====================\n",
      "['Player', 'Player']\n",
      "mapping [('int number', 'int position'), ('int turnsUntilActive', None), ('Color color', 'string color'), (None, 'string playerName')]\n",
      "====================\n"
     ]
    }
   ],
   "source": [
    "# map classes\n",
    "pairs = []\n",
    "\n",
    "# get matched pairs\n",
    "for key in ref_cls.cls_atr:\n",
    "  if ref_cls.cls_atr[key][\"counterpart\"] != None:\n",
    "    pair = [key, ref_cls.cls_atr[key][\"counterpart\"]]\n",
    "    pairs.append(pair)\n",
    "\n",
    "for pair in pairs:\n",
    "  if pair[0] and pair[1]:\n",
    "    print(pair)\n",
    "\n",
    "    # map attributes:\n",
    "    # matched_ref = set()\n",
    "    # matched_attr = set()\n",
    "\n",
    "    raw_1 = []\n",
    "    for attributes in ref_cls.cls_atr[pair[0]][\"attributes\"]:\n",
    "      raw_1.append(attributes)\n",
    "\n",
    "    raw_2 = []\n",
    "    for attributes in stu_cls.cls_atr[pair[1]][\"attributes\"]:\n",
    "      raw_2.append(attributes)\n",
    "\n",
    "    cos_dict = create_cosine_similarity_dict(raw_1, raw_2, sgram_mde)\n",
    "    mappings = match_attributes(raw_1, raw_2, cos_dict)[0]\n",
    "    print(\"mapping\", mappings)\n",
    "\n",
    "    for mapping in mappings:\n",
    "      if mapping[0] != None and mapping[1] != None:\n",
    "        scores = check_attributes_type(mapping[0], mapping[1], ref_cls.cls_atr, stu_cls.cls_atr)\n",
    "        ref_cls.cls_atr[pair[0]][\"attributes\"][mapping[0]]['score'] = scores[0]\n",
    "        ref_cls.cls_atr[pair[0]][\"attributes\"][mapping[0]][\"counterpart\"] = (mapping[1], pair[1])\n",
    "        stu_cls.cls_atr[pair[1]][\"attributes\"][mapping[1]]['score'] = scores[1]\n",
    "        stu_cls.cls_atr[pair[1]][\"attributes\"][mapping[1]][\"counterpart\"] =  (mapping[0], pair[0])\n",
    "\n",
    "    print(\"=\"*20)"
   ]
  },
  {
   "cell_type": "markdown",
   "metadata": {
    "id": "w1MhcWsJ5oaH"
   },
   "source": [
    "### Stage 2.1.2 Attribute <-> Attribute (between any classes)"
   ]
  },
  {
   "cell_type": "code",
   "execution_count": 1099,
   "metadata": {
    "id": "h6Hg_bA7AozB"
   },
   "outputs": [],
   "source": [
    "def create_cosine_similarity_list(attr_1, attr_2, embedding):\n",
    "  # attr_1: list[list] split camel case into separated case\n",
    "  # attr_2: list[list] split camel case into separated case\n",
    "  # embedding:\n",
    "  # raw_1: list[str] camcel case attributes\n",
    "  # raw_2: list[str] camcel case attributes\n",
    "\n",
    "  # create cosine distance between two attributes with embeeding\n",
    "\n",
    "  # >>> dic = createCosineDistance(['deviceStatus', 'deviceId'], ['id'], sgram_mde)\n",
    "  similarities = []\n",
    "  for att in attr_1:\n",
    "    emb_i = get_mde_embedding(att, embedding)\n",
    "    pair = []\n",
    "    for attribute in attr_2:\n",
    "      emb_j = get_mde_embedding(attribute, embedding)\n",
    "\n",
    "      sim = np.dot(emb_i, emb_j) / (np.linalg.norm(emb_i) * np.linalg.norm(emb_j))\n",
    "      pair.append(sim)\n",
    "\n",
    "    similarities.append(pair)\n",
    "\n",
    "  return similarities"
   ]
  },
  {
   "cell_type": "code",
   "execution_count": 1100,
   "metadata": {
    "id": "MJjwB1h-9rgc"
   },
   "outputs": [],
   "source": [
    "def combine_two_dict(list_1, list_2, atr_1, atr_2, cls_1, cls_2, weight_1 = 0.9, weight_2=0.1):\n",
    "  # list_1: similarity between cls\n",
    "  # list_2: cos similarity between attributes\n",
    "  if weight_1 + weight_2 != 1:\n",
    "    raise ValueError(\"weight_1 + weight_2 != 1\")\n",
    "  result = {}\n",
    "  for i in range(len(atr_1)):\n",
    "    atr_r = atr_1[i]\n",
    "    cls_r = cls_1[i]\n",
    "    tmp_ref = (atr_r, cls_r)\n",
    "    result[tmp_ref] = {}\n",
    "    for j in range(len(atr_2)):\n",
    "      atr_s = atr_2[j]\n",
    "      cls_s = cls_2[j]\n",
    "      tmp_stu = (atr_s, cls_s)\n",
    "\n",
    "      result[tmp_ref][tmp_stu] = weight_1 * list_1[i][j] + weight_2 * list_2[i][j]\n",
    "\n",
    "  return result\n"
   ]
  },
  {
   "cell_type": "code",
   "execution_count": null,
   "metadata": {
    "id": "ksyw3eTg5nLe"
   },
   "outputs": [
    {
     "name": "stdout",
     "output_type": "stream",
     "text": [
      "(('design', 'Mode'), None)\n",
      "(('game', 'Mode'), ('string gameName', 'abstract Game'))\n",
      "(('red', 'Color'), None)\n",
      "(('blue', 'Color'), None)\n",
      "(('green', 'Color'), None)\n",
      "(('yellow', 'Color'), None)\n",
      "(('int currentConnectionPieces', 'Game'), ('string currentPlayer', 'Turn'))\n",
      "(('Mode mode', 'Game'), None)\n",
      "(('int spaceConnectionPieces', 'Game'), ('int sides', 'Die'))\n",
      "(('int x', 'abstract Tile'), ('string actionType', 'ActionTile'))\n",
      "(('int y', 'abstract Tile'), ('int height', 'Board'))\n",
      "(('int inactivityPeriod', 'ActionTile'), ('int width', 'Board'))\n",
      "(('int turnsUntilActive', 'Player'), ('int turnNumber', 'Turn'))\n",
      "(None, ('ExtraTurn', 'ActionCardType'))\n",
      "(None, ('ConnectTiles', 'ActionCardType'))\n",
      "(None, ('RemoveConnection', 'ActionCardType'))\n",
      "(None, ('MovePiece', 'ActionCardType'))\n",
      "(None, ('LoseTurn', 'ActionCardType'))\n",
      "(None, ('string designerName', 'Designer'))\n",
      "(None, ('string direction', 'ConnectionPiece'))\n",
      "(None, ('string tileType', 'abstract Tile'))\n",
      "(None, ('string playerName', 'Player'))\n",
      "====================\n"
     ]
    }
   ],
   "source": [
    "# attr between any classes\n",
    "\n",
    "raw_1 = []\n",
    "ref_source = []\n",
    "tup_r = []\n",
    "# get attributes on instrucotr sides\n",
    "for cls in ref_cls.cls_atr:\n",
    "  for attributes in ref_cls.cls_atr[cls][\"attributes\"]:\n",
    "    if ref_cls.cls_atr[cls][\"attributes\"][attributes][\"counterpart\"] == None:\n",
    "      raw_1.append(attributes)\n",
    "      ref_source.append(cls)\n",
    "      tup_r.append((attributes, cls))\n",
    "\n",
    "raw_2 = []\n",
    "stu_source = []\n",
    "tup_s = []\n",
    "# get attributes on student sides\n",
    "for cls in stu_cls.cls_atr:\n",
    "  for attributes in stu_cls.cls_atr[cls][\"attributes\"]:\n",
    "    if stu_cls.cls_atr[cls][\"attributes\"][attributes][\"counterpart\"] == None:\n",
    "      raw_2.append(attributes)\n",
    "      stu_source.append(cls)\n",
    "      tup_s.append((attributes, cls))\n",
    "\n",
    "list_1 = create_cosine_similarity_list(raw_1, raw_2, sgram_mde)\n",
    "list_2 = create_cosine_similarity_list(ref_source, stu_source, sgram_mde)\n",
    "combined = combine_two_dict(list_1, list_2, raw_1, raw_2, ref_source, stu_source)\n",
    "\n",
    "mappings = match_attributes(tup_r, tup_s, combined)[0]\n",
    "\n",
    "for mapping in mappings:\n",
    "  print(mapping)\n",
    "  if mapping[0] != None and mapping[1] != None:\n",
    "    scores = check_attributes_type(mapping[0][0], mapping[1][0], ref_cls.cls_atr, stu_cls.cls_atr)\n",
    "\n",
    "\n",
    "    ref_cls.cls_atr[mapping[0][1]][\"attributes\"][mapping[0][0]]['score'] = min(scores[0], 0.5)\n",
    "    ref_cls.cls_atr[mapping[0][1]][\"attributes\"][mapping[0][0]][\"counterpart\"] = mapping[1]\n",
    "\n",
    "    stu_cls.cls_atr[mapping[1][1]][\"attributes\"][mapping[1][0]]['score'] = min(scores[1], 0.5)\n",
    "    stu_cls.cls_atr[mapping[1][1]][\"attributes\"][mapping[1][0]][\"counterpart\"] =  mapping[0]\n",
    "\n",
    "    if ref_cls.cls_atr[mapping[0][1]]['counterpart'] == mapping[1][1]:\n",
    "      ref_cls.cls_atr[mapping[0][1]][\"attributes\"][mapping[0][0]]['score'] = min(scores[0], 1)\n",
    "\n",
    "      stu_cls.cls_atr[mapping[1][1]][\"attributes\"][mapping[1][0]]['score'] = min(scores[1], 1)\n",
    "print(\"=\"*20)"
   ]
  },
  {
   "cell_type": "markdown",
   "metadata": {
    "id": "z8jvTH1EcWAo"
   },
   "source": [
    "## Stage 2.2.1 Attribute mapping atr -> cls"
   ]
  },
  {
   "cell_type": "code",
   "execution_count": 1102,
   "metadata": {},
   "outputs": [
    {
     "name": "stdout",
     "output_type": "stream",
     "text": [
      "(('design', 'Mode'), None)\n",
      "(('red', 'Color'), None)\n",
      "(('blue', 'Color'), None)\n",
      "(('green', 'Color'), None)\n",
      "(('yellow', 'Color'), None)\n",
      "(('Mode mode', 'Game'), None)\n",
      "====================\n"
     ]
    }
   ],
   "source": [
    "#  get non-mapped attributes on instrucotr side\n",
    "\n",
    "raw_1 = []\n",
    "ref_source = []\n",
    "tup_r = []\n",
    "# get attributes on instrucotr sides\n",
    "for cls in ref_cls.cls_atr:\n",
    "  for attributes in ref_cls.cls_atr[cls][\"attributes\"]:\n",
    "    if ref_cls.cls_atr[cls][\"attributes\"][attributes][\"counterpart\"] == None:\n",
    "      raw_1.append(attributes)\n",
    "      ref_source.append(cls)\n",
    "      tup_r.append((attributes, cls))\n",
    "\n",
    "raw_2 = []\n",
    "stu_source = []\n",
    "tup_s = []\n",
    "# get un-mapped class on student sides\n",
    "for cls in stu_cls.cls_atr:\n",
    "    if stu_cls.cls_atr[cls][\"counterpart\"] == None:\n",
    "      raw_2.append(cls)\n",
    "      stu_source.append(cls)\n",
    "      tup_s.append((cls, cls))\n",
    "\n",
    "list_1 = create_cosine_similarity_list(raw_1, raw_2, sgram_mde)\n",
    "list_2 = create_cosine_similarity_list(ref_source, stu_source, sgram_mde)\n",
    "combined = combine_two_dict(list_1, list_2, raw_1, raw_2, ref_source, stu_source)\n",
    "\n",
    "mappings = match_attributes(tup_r, tup_s, combined)[0]\n",
    "\n",
    "for mapping in mappings:\n",
    "  print(mapping)\n",
    "  if mapping[0] != None and mapping[1] != None:\n",
    "    # scores = check_attributes_type(mapping[0][0], mapping[1][0], ref_cls.cls_atr, stu_cls.cls_atr)\n",
    "    ref_cls.cls_atr[mapping[0][1]][\"attributes\"][mapping[0][0]]['score'] = 0.5\n",
    "    ref_cls.cls_atr[mapping[0][1]][\"attributes\"][mapping[0][0]][\"counterpart\"] = (None, mapping[1][1])\n",
    "\n",
    "    stu_cls.cls_atr[mapping[1][1]]['score'] = 0.5\n",
    "    stu_cls.cls_atr[mapping[1][1]][\"counterpart\"] =  mapping[0]\n",
    "\n",
    "print(\"=\"*20)\n"
   ]
  },
  {
   "cell_type": "markdown",
   "metadata": {
    "id": "RUqlTdHicb7A"
   },
   "source": [
    "## Stage 2.2.2 Attribute mapping cls -> atr"
   ]
  },
  {
   "cell_type": "code",
   "execution_count": 1103,
   "metadata": {},
   "outputs": [
    {
     "name": "stdout",
     "output_type": "stream",
     "text": [
      "(('Color', 'Color'), None)\n",
      "(('RollDieActionCard', 'RollDieActionCard'), None)\n",
      "(('RemoveConnectionActionCard', 'RemoveConnectionActionCard'), ('RemoveConnection', 'ActionCardType'))\n",
      "(('TeleportActionCard', 'TeleportActionCard'), None)\n",
      "(('WinTile', 'WinTile'), None)\n",
      "(('NormalTile', 'NormalTile'), ('string tileType', 'abstract Tile'))\n",
      "(None, ('ExtraTurn', 'ActionCardType'))\n",
      "(None, ('ConnectTiles', 'ActionCardType'))\n",
      "(None, ('MovePiece', 'ActionCardType'))\n",
      "(None, ('LoseTurn', 'ActionCardType'))\n",
      "(None, ('string designerName', 'Designer'))\n",
      "(None, ('string direction', 'ConnectionPiece'))\n",
      "(None, ('string playerName', 'Player'))\n",
      "====================\n"
     ]
    }
   ],
   "source": [
    "#  get non-mapped cls on instrucotr side\n",
    "\n",
    "raw_1 = []\n",
    "ref_source = []\n",
    "tup_r = []\n",
    "# get class on instrucotr sides\n",
    "for cls in ref_cls.cls_atr:\n",
    "    if ref_cls.cls_atr[cls][\"counterpart\"] == None:\n",
    "      raw_1.append(cls)\n",
    "      ref_source.append(cls)\n",
    "      tup_r.append((cls, cls))\n",
    "\n",
    "raw_2 = []\n",
    "stu_source = []\n",
    "tup_s = []\n",
    "# get un-mapped class on student sides\n",
    "for cls in stu_cls.cls_atr:\n",
    "  for attributes in stu_cls.cls_atr[cls][\"attributes\"]:\n",
    "    if stu_cls.cls_atr[cls][\"attributes\"][attributes][\"counterpart\"] == None:\n",
    "      raw_2.append(attributes)\n",
    "      stu_source.append(cls)\n",
    "      tup_s.append((attributes, cls))\n",
    "\n",
    "list_1 = create_cosine_similarity_list(raw_1, raw_2, sgram_mde)\n",
    "list_2 = create_cosine_similarity_list(ref_source, stu_source, sgram_mde)\n",
    "combined = combine_two_dict(list_1, list_2, raw_1, raw_2, ref_source, stu_source)\n",
    "\n",
    "mappings = match_attributes(tup_r, tup_s, combined)[0]\n",
    "\n",
    "for mapping in mappings:\n",
    "  print(mapping)\n",
    "  if mapping[0] != None and mapping[1] != None:\n",
    "    # scores = check_attributes_type(mapping[0][0], mapping[1][0], ref_cls.cls_atr, stu_cls.cls_atr)\n",
    "    ref_cls.cls_atr[mapping[0][1]]['score'] = 0.5\n",
    "    ref_cls.cls_atr[mapping[0][1]][\"counterpart\"] = mapping[1]\n",
    "\n",
    "    stu_cls.cls_atr[mapping[1][1]][\"attributes\"][mapping[1][0]]['score'] = 0.5\n",
    "    stu_cls.cls_atr[mapping[1][1]][\"attributes\"][mapping[1][0]][\"counterpart\"] = (None, mapping[0][1])\n",
    "\n",
    "print(\"=\"*20)\n"
   ]
  },
  {
   "cell_type": "code",
   "execution_count": null,
   "metadata": {},
   "outputs": [],
   "source": []
  },
  {
   "cell_type": "markdown",
   "metadata": {
    "id": "Nj29zba_g4b9"
   },
   "source": [
    "## Stage 3: Relationship mapping"
   ]
  },
  {
   "cell_type": "code",
   "execution_count": 1104,
   "metadata": {
    "id": "tcebf4Y10ZWF"
   },
   "outputs": [],
   "source": [
    "def check_relations_classes(ref_index, stu_index, ref_elements, stu_elements):\n",
    "    # ref_index: index of the element in the dsl\n",
    "    # stu_index: index of the element in the dsl\n",
    "    # ref_elements: list[str] elements in the dsl\n",
    "    # stu_elements: list[str] elements in the dsl\n",
    "\n",
    "    ref_class_1 = ref_elements[ref_index]\n",
    "    # check whether this is an abstract class\n",
    "    dict_keys = list(ref_attributes.keys())\n",
    "    if not ref_class_1 in dict_keys:\n",
    "      abstract = \"abstract \" + ref_class_1\n",
    "      ref_class_1 = abstract\n",
    "\n",
    "    true_pair = ref_attributes[ref_class_1][\"counterpart\"]\n",
    "    if isinstance(true_pair, tuple):\n",
    "      boolean_1 = False\n",
    "    elif true_pair == None:\n",
    "      boolean_1 = False\n",
    "    else:\n",
    "      tmp = true_pair.replace(\"abstract \", \"\")\n",
    "      boolean_1 = stu_elements[stu_index] == tmp\n",
    "    return boolean_1"
   ]
  },
  {
   "cell_type": "markdown",
   "metadata": {
    "id": "jOkmZADOQVKU"
   },
   "source": [
    "#### Compare rel"
   ]
  },
  {
   "cell_type": "code",
   "execution_count": 1105,
   "metadata": {
    "id": "W4LkPWHX0kRX"
   },
   "outputs": [],
   "source": [
    "\n",
    "def compare_edges(ref_e, stu_e):\n",
    "  # compare if two relationships match\n",
    "  # return bool, score, score\n",
    "\n",
    "  ref_elements = ref_e.split()\n",
    "  stu_elements = stu_e.split()\n",
    "  # print(ref_elements, stu_elements)\n",
    "\n",
    "  # exact match first\n",
    "  # length must match\n",
    "  n_ref = len(ref_elements)\n",
    "  n_stu = len(stu_elements)\n",
    "  if n_ref == n_stu and n_ref == 5:\n",
    "    # all element must match\n",
    "    boolean_1 = check_relations_classes(1,1,ref_elements,stu_elements )\n",
    "\n",
    "    boolean_4 = check_relations_classes(4,4,ref_elements,stu_elements )\n",
    "\n",
    "    # type\n",
    "    boolean_2 = ref_elements[2] == stu_elements[2]\n",
    "\n",
    "    # association\n",
    "    boolean_0 = ref_elements[0] == stu_elements[0]\n",
    "\n",
    "    # association\n",
    "    boolean_3 = ref_elements[3] == stu_elements[3]\n",
    "\n",
    "    if boolean_0 and boolean_1 and boolean_2 and boolean_3 and boolean_4:\n",
    "      print(\"exact match success\")\n",
    "      print(ref_e, \"|||\", stu_e)\n",
    "      return True, 1, 1\n",
    "\n",
    "    boolean_1_4 = False\n",
    "    boolean_4_1 = False\n",
    "    boolean_1_4 = check_relations_classes(1,4,ref_elements,stu_elements )\n",
    "    boolean_4_1 = check_relations_classes(4,1,ref_elements,stu_elements )\n",
    "\n",
    "    # check if the relationship is fliped, this only works for associate, not containment\n",
    "    if  \"associate\" in ref_elements[2] and \"associate\" in stu_elements[2]:\n",
    "      # association\n",
    "      boolean_0 = ref_elements[0] == stu_elements[3]\n",
    "\n",
    "      # association\n",
    "      boolean_3 = ref_elements[3] == stu_elements[0]\n",
    "\n",
    "    if boolean_0 and boolean_1_4 and boolean_3 and boolean_4_1 and boolean_2:\n",
    "      print(\"match success, flipped associate\")\n",
    "      print(ref_e, \"|||\", stu_e)\n",
    "      return True, 1, 1\n",
    "\n",
    "    # check if relationship is partially match\n",
    "    if  (boolean_1 and boolean_4) or (boolean_1_4 and boolean_4_1):\n",
    "      print(\"match partially success\")\n",
    "      print(ref_e, \"|||\", stu_e)\n",
    "      return True, 0.5, 0.5\n",
    "\n",
    "  if n_ref == n_stu and n_ref == 3:\n",
    "    # all element must match\n",
    "    boolean_0 = check_relations_classes(0,0,ref_elements,stu_elements )\n",
    "    boolean_2 = check_relations_classes(2,2,ref_elements,stu_elements )\n",
    "\n",
    "    # type\n",
    "    boolean_1 = ref_elements[1] == stu_elements[1]\n",
    "\n",
    "    if boolean_0 and boolean_1 and boolean_2:\n",
    "      print(\"match success\")\n",
    "      print(ref_e, \"|||\", stu_e)\n",
    "      # ref_dict[ref_e][\"score\"] = 1\n",
    "      # ref_dict[ref_e][\"counterpart\"] = stu_e\n",
    "\n",
    "      # stu_dict[stu_e][\"score\"] = 1\n",
    "      # stu_dict[stu_e][\"counterpart\"] = ref_e\n",
    "      return True, 1, 1\n",
    "\n",
    "\n",
    "  return False,0, 0"
   ]
  },
  {
   "cell_type": "code",
   "execution_count": 1106,
   "metadata": {
    "id": "Ts1dyVvI0qZL"
   },
   "outputs": [],
   "source": [
    "\n",
    "for i, ref_tmp in enumerate(edges[0].raw_dsl):\n",
    "  matchings = []\n",
    "  for j, stu_tmp in enumerate(edges[1].raw_dsl):\n",
    "    if edges[0].rels[i][\"counterpart\"] is None and edges[1].rels[j][\"counterpart\"] is None:\n",
    "      result = compare_edges(ref_tmp, stu_tmp)\n",
    "      if result[0]:\n",
    "        matching = (i, j, result[1], result[2])\n",
    "        matchings.append(matching)\n",
    "        # matched_stu_edges.add(j)\n",
    "        # matched_ref_edges.add(i)\n",
    "        # edges[0].rels[i][\"score\"] = result[1]\n",
    "        # edges[0].rels[i][\"counterpart\"] = stu_tmp\n",
    "\n",
    "        # edges[1].rels[j][\"score\"] = result[2]\n",
    "        # edges[1].rels[j][\"counterpart\"] = ref_tmp\n",
    "  print(matchings)\n",
    "  if len(matchings) > 0:\n",
    "    print()\n",
    "    highest_score = 0\n",
    "    matching = None\n",
    "\n",
    "    for m in matchings:\n",
    "      if m[2] > highest_score:\n",
    "        matching = m\n",
    "        highest_score = m[2]\n",
    "    j_j = matching[1]\n",
    "    i_i = matching[0]\n",
    "    \n",
    "    edges[0].rels[i_i][\"score\"] = m[2]\n",
    "    edges[0].rels[i_i][\"counterpart\"] = edges[1].raw_dsl[j_j]\n",
    "\n",
    "    edges[1].rels[j_j][\"score\"] = m[3]\n",
    "    edges[1].rels[j_j][\"counterpart\"] = edges[0].raw_dsl[i_i]\n",
    "\n"
   ]
  },
  {
   "cell_type": "markdown",
   "metadata": {
    "id": "zVK8inUYg-4A"
   },
   "source": [
    "## Result: Precision/Recall/F1"
   ]
  },
  {
   "cell_type": "markdown",
   "metadata": {},
   "source": [
    "### save matching to disk"
   ]
  },
  {
   "cell_type": "code",
   "execution_count": 1107,
   "metadata": {},
   "outputs": [],
   "source": [
    "if not os.path.exists(student_out_dir):\n",
    "    os.makedirs(student_out_dir)"
   ]
  },
  {
   "cell_type": "code",
   "execution_count": 1108,
   "metadata": {},
   "outputs": [],
   "source": [
    "# with open( student_out_dir + 'matching.pkl', 'wb') as outp:\n",
    "#     pickle.dump(grader, outp, pickle.HIGHEST_PROTOCOL)"
   ]
  },
  {
   "cell_type": "code",
   "execution_count": 1109,
   "metadata": {},
   "outputs": [
    {
     "data": {
      "text/plain": [
       "'results/gpt-4o-mini/sherpa/07_Tile/result/'"
      ]
     },
     "execution_count": 1109,
     "metadata": {},
     "output_type": "execute_result"
    }
   ],
   "source": [
    "student_out_dir"
   ]
  },
  {
   "cell_type": "code",
   "execution_count": 1110,
   "metadata": {},
   "outputs": [],
   "source": [
    "\n",
    "\n",
    "# as requested in comment\n",
    "\n",
    "with open(student_out_dir + 'solution_matching.txt', 'w') as file:\n",
    "     file.write(json.dumps(grader.ref.cls_atr))\n",
    "\n",
    "\n",
    "with open(student_out_dir + 'student_matching.txt', 'w') as file:\n",
    "     file.write(json.dumps(grader.stu.cls_atr))\n",
    "\n",
    "with open(student_out_dir + 'solution_matching_relationship.txt', 'w') as file:\n",
    "     file.write(json.dumps(grader.ref.rel.rels))\n",
    "\n",
    "\n",
    "with open(student_out_dir + 'student_matching_relationship.txt', 'w') as file:\n",
    "     file.write(json.dumps(grader.stu.rel.rels))"
   ]
  },
  {
   "cell_type": "code",
   "execution_count": 1111,
   "metadata": {},
   "outputs": [
    {
     "data": {
      "text/plain": [
       "'results/gpt-4o-mini/sherpa/07_Tile/result/'"
      ]
     },
     "execution_count": 1111,
     "metadata": {},
     "output_type": "execute_result"
    }
   ],
   "source": [
    "student_out_dir"
   ]
  },
  {
   "cell_type": "markdown",
   "metadata": {},
   "source": [
    "###### to local"
   ]
  },
  {
   "cell_type": "code",
   "execution_count": 1112,
   "metadata": {},
   "outputs": [],
   "source": [
    "# # # be careful...\n",
    "\n",
    "# with open(student_dir + \"human_eval/\" + 'ref_meta_cls.py', 'w') as file:\n",
    "#     file.write(json.dumps(grader.ref.cls_atr))\n",
    "\n",
    "\n",
    "# with open(student_dir + \"human_eval/\" + 'stu_meta_cls.py', 'w') as file:\n",
    "#     file.write(json.dumps(grader.stu.cls_atr))\n",
    "\n",
    "# with open(student_dir + \"human_eval/\" + 'ref_meta_rels.py', 'w') as file:\n",
    "#     file.write(json.dumps(grader.ref.rel.rels))\n",
    "\n",
    "\n",
    "# with open(student_dir + \"human_eval/\" + 'stu_meta_rels.py', 'w') as file:\n",
    "#     file.write(json.dumps(grader.stu.rel.rels))"
   ]
  },
  {
   "cell_type": "code",
   "execution_count": 1113,
   "metadata": {},
   "outputs": [],
   "source": [
    "algo_result = {}\n",
    "algo_result[\"class\"] = {\"precision\": 0, \"recall\": 0, \"f1\":0}\n",
    "algo_result[\"attribute\"] = {\"precision\": 0, \"recall\": 0, \"f1\":0}\n",
    "algo_result[\"relationship\"] = {\"precision\": 0, \"recall\": 0, \"f1\":0}"
   ]
  },
  {
   "cell_type": "markdown",
   "metadata": {
    "id": "qCEg2NRm1hA3"
   },
   "source": [
    "### Class"
   ]
  },
  {
   "cell_type": "code",
   "execution_count": 1114,
   "metadata": {
    "id": "JOA-f9jC1foa"
   },
   "outputs": [
    {
     "name": "stdout",
     "output_type": "stream",
     "text": [
      "18 11.0\n"
     ]
    }
   ],
   "source": [
    "# recell\n",
    "count = 0\n",
    "recall = 0\n",
    "for key in list(ref_attributes.keys()):\n",
    "  count += 1\n",
    "  recall += ref_attributes[key][\"score\"]\n",
    "print(count, recall)\n",
    "\n",
    "algo_result[\"class\"]['recall'] = recall / count"
   ]
  },
  {
   "cell_type": "code",
   "execution_count": 1115,
   "metadata": {
    "id": "AbAnFeeM1l4s"
   },
   "outputs": [
    {
     "name": "stdout",
     "output_type": "stream",
     "text": [
      "12 10.0\n"
     ]
    }
   ],
   "source": [
    "# precision\n",
    "count = 0\n",
    "precision = 0\n",
    "for key in list(stu_attributes.keys()):\n",
    "  count += 1\n",
    "  precision += stu_attributes[key][\"score\"]\n",
    "\n",
    "print(count, precision)\n",
    "\n",
    "algo_result[\"class\"]['precision'] = precision / count\n",
    "algo_result[\"class\"]['f1'] = 2* (algo_result[\"class\"]['recall']   * algo_result[\"class\"]['precision'] ) / ( algo_result[\"class\"]['recall']   + algo_result[\"class\"]['precision']  )\n"
   ]
  },
  {
   "cell_type": "markdown",
   "metadata": {
    "id": "gDH3PsL21unk"
   },
   "source": [
    "### Attribute"
   ]
  },
  {
   "cell_type": "code",
   "execution_count": 1116,
   "metadata": {
    "id": "67CLMQ6j10Wx"
   },
   "outputs": [
    {
     "name": "stdout",
     "output_type": "stream",
     "text": [
      "19 9.0\n"
     ]
    }
   ],
   "source": [
    "# recall\n",
    "count = 0\n",
    "recall = 0\n",
    "for key in list(ref_attributes.keys()):\n",
    "  attrs = ref_attributes[key][\"attributes\"]\n",
    "\n",
    "  for att in attrs:\n",
    "    count += 1\n",
    "    recall += ref_attributes[key][\"attributes\"][att][\"score\"]\n",
    "print(count, recall)\n",
    "\n",
    "algo_result[\"attribute\"]['recall'] = recall / count"
   ]
  },
  {
   "cell_type": "code",
   "execution_count": 1117,
   "metadata": {
    "id": "7MIGD7kS12JT"
   },
   "outputs": [
    {
     "name": "stdout",
     "output_type": "stream",
     "text": [
      "22 10.0\n"
     ]
    }
   ],
   "source": [
    "count = 0\n",
    "precision = 0\n",
    "for key in list(stu_attributes.keys()):\n",
    "  attrs = stu_attributes[key][\"attributes\"]\n",
    "\n",
    "  for att in attrs:\n",
    "    count += 1\n",
    "    precision += stu_attributes[key][\"attributes\"][att][\"score\"]\n",
    "print(count, precision)\n",
    "\n",
    "algo_result[\"attribute\"]['precision'] = precision / count\n",
    "\n",
    "r = algo_result[\"attribute\"]['recall']\n",
    "p = algo_result[\"attribute\"]['precision']\n",
    "\n",
    "algo_result[\"attribute\"]['f1'] = 2* (r * p) / (r + p)\n"
   ]
  },
  {
   "cell_type": "markdown",
   "metadata": {
    "id": "qWYSO_N415V0"
   },
   "source": [
    "### Relationship"
   ]
  },
  {
   "cell_type": "code",
   "execution_count": 1118,
   "metadata": {
    "id": "PkuCKrzF17CR"
   },
   "outputs": [
    {
     "name": "stdout",
     "output_type": "stream",
     "text": [
      "0 0\n"
     ]
    }
   ],
   "source": [
    "count = 0\n",
    "recall = 0\n",
    "for tmp in edges[0].rels:\n",
    "  attrs = tmp[\"score\"]\n",
    "\n",
    "  count += 1\n",
    "  recall += attrs\n",
    "print(count, recall)\n",
    "\n",
    "# algo_result[\"relationship\"]['recall'] = recall / count"
   ]
  },
  {
   "cell_type": "code",
   "execution_count": null,
   "metadata": {
    "id": "XZE-uCOM2ATr"
   },
   "outputs": [
    {
     "name": "stdout",
     "output_type": "stream",
     "text": [
      "0 0\n"
     ]
    }
   ],
   "source": [
    "count = 0\n",
    "precision = 0\n",
    "for tmp in edges[1].rels:\n",
    "  attrs = tmp[\"score\"]\n",
    "\n",
    "  count += 1\n",
    "  precision += attrs\n",
    "print(count, precision)\n",
    "\n",
    "# algo_result[\"relationship\"]['precision'] = precision / count\n",
    "r = algo_result[\"relationship\"]['recall']\n",
    "p = algo_result[\"relationship\"]['precision']\n",
    "# algo_result[\"relationship\"]['f1'] = 2* (r * p ) / ( r + p )\n"
   ]
  },
  {
   "cell_type": "code",
   "execution_count": 1120,
   "metadata": {},
   "outputs": [],
   "source": [
    "\n",
    "# as requested in comment\n",
    "\n",
    "with open(student_out_dir + 'algo_result.txt', 'w') as file:\n",
    "     file.write(json.dumps(algo_result))"
   ]
  },
  {
   "cell_type": "code",
   "execution_count": null,
   "metadata": {},
   "outputs": [],
   "source": []
  },
  {
   "cell_type": "code",
   "execution_count": 1121,
   "metadata": {},
   "outputs": [
    {
     "ename": "SyntaxError",
     "evalue": "'break' outside loop (668683560.py, line 1)",
     "output_type": "error",
     "traceback": [
      "\u001b[0;36m  Cell \u001b[0;32mIn[1121], line 1\u001b[0;36m\u001b[0m\n\u001b[0;31m    break\u001b[0m\n\u001b[0m    ^\u001b[0m\n\u001b[0;31mSyntaxError\u001b[0m\u001b[0;31m:\u001b[0m 'break' outside loop\n"
     ]
    }
   ],
   "source": [
    "break"
   ]
  },
  {
   "cell_type": "markdown",
   "metadata": {
    "id": "v3d45DqW3Zku"
   },
   "source": [
    "## Comparing with manual evaluation"
   ]
  },
  {
   "cell_type": "code",
   "execution_count": 92,
   "metadata": {},
   "outputs": [],
   "source": [
    "\n",
    "class HumanEvaluation(object):\n",
    "    def __init__(self, ref_cls=None, stu_cls=None, ref_rels=None, stu_rels=None):\n",
    "        self.ref_cls = ref_cls\n",
    "        self.stu_cls = stu_cls\n",
    "        self.ref_rels = ref_rels\n",
    "        self.stu_rels = stu_rels\n",
    "\n",
    "group = HumanEvaluation()\n"
   ]
  },
  {
   "cell_type": "code",
   "execution_count": null,
   "metadata": {},
   "outputs": [
    {
     "ename": "FileNotFoundError",
     "evalue": "[Errno 2] No such file or directory: 'results/gpt-4o-mini/sherpa/01_LabTracker/human_eval/ref_meta_cls.py'",
     "output_type": "error",
     "traceback": [
      "\u001b[0;31m---------------------------------------------------------------------------\u001b[0m",
      "\u001b[0;31mFileNotFoundError\u001b[0m                         Traceback (most recent call last)",
      "Cell \u001b[0;32mIn[93], line 3\u001b[0m\n\u001b[1;32m      1\u001b[0m \u001b[38;5;66;03m# as requested in comment\u001b[39;00m\n\u001b[0;32m----> 3\u001b[0m \u001b[38;5;28;01mwith\u001b[39;00m \u001b[38;5;28;43mopen\u001b[39;49m\u001b[43m(\u001b[49m\u001b[43mstudent_dir\u001b[49m\u001b[43m \u001b[49m\u001b[38;5;241;43m+\u001b[39;49m\u001b[43m \u001b[49m\u001b[38;5;124;43m\"\u001b[39;49m\u001b[38;5;124;43mhuman_eval/\u001b[39;49m\u001b[38;5;124;43m\"\u001b[39;49m\u001b[43m \u001b[49m\u001b[38;5;241;43m+\u001b[39;49m\u001b[43m \u001b[49m\u001b[38;5;124;43m'\u001b[39;49m\u001b[38;5;124;43mref_meta_cls.py\u001b[39;49m\u001b[38;5;124;43m'\u001b[39;49m\u001b[43m,\u001b[49m\u001b[43m \u001b[49m\u001b[38;5;124;43m'\u001b[39;49m\u001b[38;5;124;43mr\u001b[39;49m\u001b[38;5;124;43m'\u001b[39;49m\u001b[43m)\u001b[49m \u001b[38;5;28;01mas\u001b[39;00m file:\n\u001b[1;32m      4\u001b[0m     content \u001b[38;5;241m=\u001b[39m file\u001b[38;5;241m.\u001b[39mread()\n\u001b[1;32m      5\u001b[0m     ref_cls_human \u001b[38;5;241m=\u001b[39m ast\u001b[38;5;241m.\u001b[39mliteral_eval(content)\n",
      "File \u001b[0;32m~/miniconda3/envs/m38/lib/python3.8/site-packages/IPython/core/interactiveshell.py:284\u001b[0m, in \u001b[0;36m_modified_open\u001b[0;34m(file, *args, **kwargs)\u001b[0m\n\u001b[1;32m    277\u001b[0m \u001b[38;5;28;01mif\u001b[39;00m file \u001b[38;5;129;01min\u001b[39;00m {\u001b[38;5;241m0\u001b[39m, \u001b[38;5;241m1\u001b[39m, \u001b[38;5;241m2\u001b[39m}:\n\u001b[1;32m    278\u001b[0m     \u001b[38;5;28;01mraise\u001b[39;00m \u001b[38;5;167;01mValueError\u001b[39;00m(\n\u001b[1;32m    279\u001b[0m         \u001b[38;5;124mf\u001b[39m\u001b[38;5;124m\"\u001b[39m\u001b[38;5;124mIPython won\u001b[39m\u001b[38;5;124m'\u001b[39m\u001b[38;5;124mt let you open fd=\u001b[39m\u001b[38;5;132;01m{\u001b[39;00mfile\u001b[38;5;132;01m}\u001b[39;00m\u001b[38;5;124m by default \u001b[39m\u001b[38;5;124m\"\u001b[39m\n\u001b[1;32m    280\u001b[0m         \u001b[38;5;124m\"\u001b[39m\u001b[38;5;124mas it is likely to crash IPython. If you know what you are doing, \u001b[39m\u001b[38;5;124m\"\u001b[39m\n\u001b[1;32m    281\u001b[0m         \u001b[38;5;124m\"\u001b[39m\u001b[38;5;124myou can use builtins\u001b[39m\u001b[38;5;124m'\u001b[39m\u001b[38;5;124m open.\u001b[39m\u001b[38;5;124m\"\u001b[39m\n\u001b[1;32m    282\u001b[0m     )\n\u001b[0;32m--> 284\u001b[0m \u001b[38;5;28;01mreturn\u001b[39;00m \u001b[43mio_open\u001b[49m\u001b[43m(\u001b[49m\u001b[43mfile\u001b[49m\u001b[43m,\u001b[49m\u001b[43m \u001b[49m\u001b[38;5;241;43m*\u001b[39;49m\u001b[43margs\u001b[49m\u001b[43m,\u001b[49m\u001b[43m \u001b[49m\u001b[38;5;241;43m*\u001b[39;49m\u001b[38;5;241;43m*\u001b[39;49m\u001b[43mkwargs\u001b[49m\u001b[43m)\u001b[49m\n",
      "\u001b[0;31mFileNotFoundError\u001b[0m: [Errno 2] No such file or directory: 'results/gpt-4o-mini/sherpa/01_LabTracker/human_eval/ref_meta_cls.py'"
     ]
    }
   ],
   "source": [
    "\n",
    "\n",
    "# as requested in comment\n",
    "\n",
    "with open(student_dir + \"human_eval/\" + 'ref_meta_cls.py', 'r') as file:\n",
    "    content = file.read()\n",
    "    ref_cls_human = ast.literal_eval(content)\n",
    "    group.ref_cls = ref_cls_human\n",
    "\n",
    "with open(student_dir + \"human_eval/\" + 'stu_meta_cls.py', 'r') as file:\n",
    "    content = file.read()\n",
    "    stu_cls_human = ast.literal_eval(content)\n",
    "    group.stu_cls = stu_cls_human\n",
    "\n",
    "with open(student_dir + \"human_eval/\" + 'ref_meta_rels.py', 'r') as file:\n",
    "    content = file.read()\n",
    "    ref_rel_human = ast.literal_eval(content)\n",
    "    group.ref_rels = ref_rel_human\n",
    "\n",
    "with open(student_dir + \"human_eval/\" + 'stu_meta_rels.py', 'r') as file:\n",
    "    content = file.read()\n",
    "    stu_rel_human = ast.literal_eval(content)\n",
    "    group.stu_rels = stu_rel_human"
   ]
  },
  {
   "cell_type": "markdown",
   "metadata": {
    "id": "04W5Jim3FsGB"
   },
   "source": [
    "### Save to disk"
   ]
  },
  {
   "cell_type": "code",
   "execution_count": null,
   "metadata": {
    "id": "bzjzqjvqFtfR"
   },
   "outputs": [],
   "source": [
    "# # # import pickle\n",
    "\n",
    "\n",
    "# with open(student_dir + 'human_grade.pkl', 'wb') as outp:\n",
    "#     g2 = HumanEvaluation(ref_cls_human, stu_cls_human, ref_rel_human, stu_rel_human)\n",
    "#     pickle.dump(g2, outp, pickle.HIGHEST_PROTOCOL)\n",
    "\n",
    "\n"
   ]
  },
  {
   "cell_type": "markdown",
   "metadata": {
    "id": "SCFGrQjsGbvG"
   },
   "source": [
    "### Comparsion"
   ]
  },
  {
   "cell_type": "code",
   "execution_count": null,
   "metadata": {},
   "outputs": [],
   "source": [
    "algo_human = {}\n",
    "algo_human[\"class\"] = {\"precision\": 0, \"recall\": 0, \"f1\":0}\n",
    "algo_human[\"attribute\"] = {\"precision\": 0, \"recall\": 0, \"f1\":0}\n",
    "algo_human[\"relationship\"] = {\"precision\": 0, \"recall\": 0, \"f1\":0}"
   ]
  },
  {
   "cell_type": "markdown",
   "metadata": {
    "id": "g7gA27kRInsi"
   },
   "source": [
    "#### Class"
   ]
  },
  {
   "cell_type": "code",
   "execution_count": null,
   "metadata": {
    "id": "HpC633wFMSA_"
   },
   "outputs": [],
   "source": [
    "def exist_mapping(mappings, one_mapping):\n",
    "  for m in mappings:\n",
    "    if m[0] == one_mapping[0] and m[1] == one_mapping[1]:\n",
    "      return True # already exist\n",
    "  return False"
   ]
  },
  {
   "cell_type": "code",
   "execution_count": null,
   "metadata": {
    "id": "9VwwYZbOK2Dl"
   },
   "outputs": [],
   "source": [
    "# get human matching first:\n",
    "\n",
    "tmp = group.ref_cls\n",
    "human_mappings = []\n",
    "for key in tmp:\n",
    "  # print(tmp[key])\n",
    "  human_mappings.append((key, tmp[key][\"counterpart\"], tmp[key][\"score\"]))\n",
    "\n",
    "tmp = group.stu_cls\n",
    "for key in tmp:\n",
    "  # print(tmp[key])\n",
    "\n",
    "  # reserve the order\n",
    "  matching = (tmp[key][\"counterpart\"], key, tmp[key][\"score\"])\n",
    "\n",
    "  if not exist_mapping(human_mappings, matching):\n",
    "    human_mappings.append(matching)"
   ]
  },
  {
   "cell_type": "code",
   "execution_count": null,
   "metadata": {},
   "outputs": [],
   "source": [
    "human_mappings"
   ]
  },
  {
   "cell_type": "code",
   "execution_count": null,
   "metadata": {
    "id": "WqwDA4GFNw8N"
   },
   "outputs": [],
   "source": [
    "# compare performance\n",
    "# algo matching\n",
    "grader.ref.cls_atr\n",
    "\n",
    "tmp = grader.ref.cls_atr\n",
    "EMB_mappings = []\n",
    "for key in tmp:\n",
    "  # print(tmp[key])\n",
    "  EMB_mappings.append((key, tmp[key][\"counterpart\"], tmp[key][\"score\"]))\n",
    "\n",
    "tmp = grader.stu.cls_atr\n",
    "\n",
    "for key in tmp:\n",
    "  # print(tmp[key])\n",
    "  matching = (tmp[key][\"counterpart\"], key, tmp[key][\"score\"])\n",
    "\n",
    "  if not exist_mapping(EMB_mappings, matching):\n",
    "    EMB_mappings.append(matching)"
   ]
  },
  {
   "cell_type": "code",
   "execution_count": null,
   "metadata": {},
   "outputs": [],
   "source": [
    "EMB_mappings"
   ]
  },
  {
   "cell_type": "markdown",
   "metadata": {},
   "source": [
    "##### Start Evaluation"
   ]
  },
  {
   "cell_type": "code",
   "execution_count": null,
   "metadata": {
    "id": "QCGbZjIQPOUf"
   },
   "outputs": [],
   "source": [
    "# TP/FP/TN/FN\n",
    "TP = []\n",
    "FP = []\n",
    "TN = []\n",
    "FN = []\n",
    "\n",
    "def check_TP_TN(map_human, map_algo):\n",
    "  if map_human[0] == map_algo[0] and map_human[1] == map_algo[1] and not (None in map_human):\n",
    "    return \"TP\"\n",
    "  elif map_human[0] == map_algo[0] and map_human[1] == map_algo[1] and (None in map_human):\n",
    "    return \"TN\"\n",
    "  else:\n",
    "    return \"NA\"\n",
    "\n",
    "human_mappings_dict = {}\n",
    "for i in human_mappings:\n",
    "  human_mappings_dict[i] = False # not mapped\n",
    "EMB_mappings_dict = {}\n",
    "for i in EMB_mappings:\n",
    "  EMB_mappings_dict[i] = False # not mapped\n",
    "\n",
    "# filter out TP or TN first\n",
    "for i in human_mappings:\n",
    "  mappinged = False\n",
    "  if not mappinged:\n",
    "    for j in EMB_mappings:\n",
    "      ans = check_TP_TN(i,j)\n",
    "      if ans == \"NA\":\n",
    "        continue\n",
    "      elif ans == \"TP\":\n",
    "        score = 1 if i[2] == j[2] else 0.5\n",
    "        TP.append((i,j, score))\n",
    "        human_mappings_dict[i] = True\n",
    "        EMB_mappings_dict[j] = True\n",
    "      elif ans == \"TN\":\n",
    "        score = 1 if i[2] == j[2] else 0.5\n",
    "        TN.append((i,j, score))\n",
    "        human_mappings_dict[i] = True\n",
    "        EMB_mappings_dict[j] = True\n"
   ]
  },
  {
   "cell_type": "code",
   "execution_count": null,
   "metadata": {
    "id": "s8aqCNxwXmkO"
   },
   "outputs": [],
   "source": [
    "def find_mapping_with_cls(mapping_dict, mapping, pos):\n",
    "  # position = 0 or 1\n",
    "  for i in mapping_dict:\n",
    "    element = mapping[pos]\n",
    "\n",
    "    if i[pos] == element:\n",
    "      return i\n",
    "  print(\"no mapping is found with\", mapping, pos)\n",
    "  return None\n"
   ]
  },
  {
   "cell_type": "code",
   "execution_count": null,
   "metadata": {
    "id": "irENTEhuVW1C"
   },
   "outputs": [],
   "source": [
    "human_mappings_dict\n",
    "\n",
    "for i in human_mappings_dict:\n",
    "  if human_mappings_dict[i]:\n",
    "    continue # if mapped, ignore\n",
    "\n",
    "    # i[0] is human pair\n",
    "  mapping_0 = find_mapping_with_cls(EMB_mappings_dict, i, 0) # human result\n",
    "  mapping_1 = find_mapping_with_cls(EMB_mappings_dict, i, 1) # human result\n",
    "  if i[0] is not None and mapping_0:\n",
    "    mapping = mapping_0\n",
    "    # if mapping:\n",
    "    if i[1] is not None and mapping[1] is not None: # a b\t// a c\t0\tFP\n",
    "      FP.append((i, mapping))\n",
    "      human_mappings_dict[i] = True\n",
    "      EMB_mappings_dict[mapping] = True\n",
    "\n",
    "    elif i[1] is not None and mapping[1] is None: # a b\t// a None\t0\tFN\n",
    "      FN.append((i, mapping))\n",
    "      human_mappings_dict[i] = True\n",
    "      EMB_mappings_dict[mapping] = True\n",
    "\n",
    "    elif i[1] is None and mapping[1] is not None: # a None // a b\t0\tFP\n",
    "      FP.append((i, mapping))\n",
    "      human_mappings_dict[i] = True\n",
    "      EMB_mappings_dict[mapping] = True\n",
    "\n",
    "  elif i[1] is not None and mapping_1:\n",
    "    mapping = mapping_1\n",
    "    if i[0] is None and mapping[0] is not None: # none a //\tb a \t0\tFP\n",
    "      FP.append((i, mapping))\n",
    "      human_mappings_dict[i] = True\n",
    "      EMB_mappings_dict[mapping] = True\n",
    "\n",
    "    elif i[0] is not None and mapping[0] is None: # b a\t// none a  \t0\tFN\n",
    "      FN.append((i, mapping))\n",
    "      human_mappings_dict[i] = True\n",
    "      EMB_mappings_dict[mapping] = True\n",
    "\n",
    "    elif i[0] is not None and mapping[0] is not None: # c a\t// b a  0\tFP\n",
    "      FP.append((i, mapping))\n",
    "      human_mappings_dict[i] = True\n",
    "      EMB_mappings_dict[mapping] = True\n",
    "  else:\n",
    "    raise Exception(f\"Sorry, no match found for {i}\")\n",
    "\n"
   ]
  },
  {
   "cell_type": "code",
   "execution_count": null,
   "metadata": {
    "id": "muc4JS6QcILL"
   },
   "outputs": [],
   "source": [
    "EMB_mappings_dict\n",
    "\n",
    "for i in EMB_mappings_dict:\n",
    "  if EMB_mappings_dict[i]:\n",
    "    continue # if mapped, ignore\n",
    "\n",
    "    # i[0] is generaeted pair\n",
    "  mapping_0 = find_mapping_with_cls(human_mappings_dict, i, 0) # human result\n",
    "  mapping_1 = find_mapping_with_cls(human_mappings_dict, i, 1) # human result\n",
    "  if i[0] is not None and mapping_0:\n",
    "    mapping = mapping_0\n",
    "    if i[1] is not None and mapping[1] is not None: # a b\t// a c\t0\tFP\n",
    "      FP.append((mapping, i ))\n",
    "      human_mappings_dict[mapping] = True\n",
    "      EMB_mappings_dict[i] = True\n",
    "\n",
    "    elif mapping[1] is not None and i[1] is None: # a b\t// a None\t0\tFN\n",
    "      FN.append((mapping, i ))\n",
    "      human_mappings_dict[mapping] = True\n",
    "      EMB_mappings_dict[i] = True\n",
    "\n",
    "    elif mapping[1] is None and i[1] is not None: # a None // a b\t0\tFP\n",
    "      FP.append((mapping, i ))\n",
    "      human_mappings_dict[mapping] = True\n",
    "      EMB_mappings_dict[i] = True\n",
    "\n",
    "  elif i[1] is not None and mapping_1:\n",
    "    mapping = mapping_1\n",
    "    if mapping[0] is not None and i[0] is None: # b a //\tnone a \t0\tFN\n",
    "      FN.append((i, mapping))\n",
    "      human_mappings_dict[mapping] = True\n",
    "      EMB_mappings_dict[i] = True\n",
    "\n",
    "    elif mapping[0] is None and i[0] is not None: # none a //\tb a  \t0\tFP\n",
    "      FP.append((i, mapping))\n",
    "      human_mappings_dict[mapping] = True\n",
    "      EMB_mappings_dict[i] = True\n",
    "\n",
    "    elif mapping[0] is not None and i[0] is not None: # c a\t// b a  0\tFP\n",
    "      FP.append((i, mapping))\n",
    "      human_mappings_dict[mapping] = True\n",
    "      EMB_mappings_dict[i] = True\n",
    "  else:\n",
    "    raise Exception(\"matching failed\")"
   ]
  },
  {
   "cell_type": "code",
   "execution_count": null,
   "metadata": {
    "id": "UOpQGonbbiso"
   },
   "outputs": [],
   "source": [
    "# precision = TP /(TP + FP)\n",
    "# recall = TP /(TP + FN)\n",
    "\n",
    "tp = 0\n",
    "\n",
    "for i in TP:\n",
    "  tp += i[2]\n",
    "\n",
    "print(\"precision:\", tp / (len(TP) + len(FP)))\n",
    "print(\"recall:\", tp / (len(TP) + len(FN)))\n",
    "\n",
    "p = tp / (len(TP) + len(FP))\n",
    "r = tp / (len(TP) + len(FN))\n",
    "\n",
    "algo_human['class'][\"precision\"] = p\n",
    "algo_human['class'][\"recall\"] = r\n",
    "\n",
    "algo_human['class'][\"f1\"] = 2 * p * r /  (p + r)\n"
   ]
  },
  {
   "cell_type": "markdown",
   "metadata": {},
   "source": [
    " a b => a c\n",
    " c"
   ]
  },
  {
   "cell_type": "code",
   "execution_count": null,
   "metadata": {},
   "outputs": [],
   "source": [
    "for fp in FP:\n",
    "    print(fp)"
   ]
  },
  {
   "cell_type": "code",
   "execution_count": null,
   "metadata": {},
   "outputs": [],
   "source": [
    "for fn in FN:\n",
    "    print(fn)"
   ]
  },
  {
   "cell_type": "markdown",
   "metadata": {
    "id": "m94L8Z8pIpI_"
   },
   "source": [
    "#### Attribute"
   ]
  },
  {
   "cell_type": "code",
   "execution_count": null,
   "metadata": {},
   "outputs": [],
   "source": [
    "# algo matching\n",
    "\n",
    "tmp = group.ref_cls\n",
    "human_mappings = []\n",
    "for cls  in tmp: # cls\n",
    "  for attr in tmp[cls][\"attributes\"]: # attributes\n",
    "    # print(cls, attr)\n",
    "\n",
    "    human_mappings.append(((attr, cls), tmp[cls][\"attributes\"][attr][\"counterpart\"], tmp[cls][\"attributes\"][attr][\"score\"]))\n",
    "    \n",
    "\n",
    "tmp = group.stu_cls\n",
    "for cls in tmp:\n",
    "  # print(tmp[key])\n",
    "  for attr in tmp[cls][\"attributes\"]: # attributes\n",
    "\n",
    "    # order of the elements\n",
    "    matching = (tmp[cls][\"attributes\"][attr][\"counterpart\"], (attr, cls), tmp[cls][\"attributes\"][attr][\"score\"])\n",
    "\n",
    "    if not exist_mapping(human_mappings, matching):\n",
    "      # print(matching)\n",
    "      human_mappings.append(matching)"
   ]
  },
  {
   "cell_type": "code",
   "execution_count": null,
   "metadata": {},
   "outputs": [],
   "source": [
    "human_mappings"
   ]
  },
  {
   "cell_type": "code",
   "execution_count": null,
   "metadata": {},
   "outputs": [],
   "source": [
    "# compare performance\n",
    "# algo matching\n",
    "grader.ref.cls_atr\n",
    "\n",
    "tmp = grader.ref.cls_atr\n",
    "EMB_mappings = []\n",
    "for cls in tmp:\n",
    "  # print(tmp[key])\n",
    "  for attr in tmp[cls]['attributes']:\n",
    "    EMB_mappings.append(((attr, cls), tmp[cls][\"attributes\"][attr][\"counterpart\"], tmp[cls][\"attributes\"][attr][\"score\"]))\n",
    "\n",
    "tmp = grader.stu.cls_atr\n",
    "\n",
    "for cls in tmp:\n",
    "  # print(tmp[key])\n",
    "  for attr in tmp[cls]['attributes']:\n",
    "    matching = (tmp[cls][\"attributes\"][attr][\"counterpart\"], (attr, cls),tmp[cls][\"attributes\"][attr][\"score\"])\n",
    "    # if \"LightController\" in str(matching):\n",
    "    #   print(matching)\n",
    "    if not exist_mapping(EMB_mappings, matching):\n",
    "      EMB_mappings.append(matching)"
   ]
  },
  {
   "cell_type": "code",
   "execution_count": null,
   "metadata": {},
   "outputs": [],
   "source": [
    "# TP/FP/TN/FN\n",
    "TP = []\n",
    "FP = []\n",
    "TN = []\n",
    "FN = []\n",
    "\n",
    "def check_TP_TN(map_human, map_algo):\n",
    "  if map_human[0] == map_algo[0] and map_human[1] == map_algo[1] and not (None in map_human):\n",
    "    return \"TP\"\n",
    "  elif map_human[0] == map_algo[0] and map_human[1] == map_algo[1] and (None in map_human):\n",
    "    return \"TN\"\n",
    "  else:\n",
    "    return \"NA\"\n",
    "\n",
    "human_mappings_dict = {}\n",
    "for i in human_mappings:\n",
    "  human_mappings_dict[i] = False # not mapped\n",
    "EMB_mappings_dict = {}\n",
    "for i in EMB_mappings:\n",
    "  EMB_mappings_dict[i] = False # not mapped\n",
    "\n",
    "# filter out TP or TN first\n",
    "for i in human_mappings:\n",
    "  mappinged = False\n",
    "  if not mappinged:\n",
    "    for j in EMB_mappings:\n",
    "      ans = check_TP_TN(i,j)\n",
    "      if ans == \"NA\":\n",
    "        continue\n",
    "      elif ans == \"TP\":\n",
    "        score = 1 if i[2] == j[2] else 0.5\n",
    "        TP.append((i,j, score))\n",
    "        human_mappings_dict[i] = True\n",
    "        EMB_mappings_dict[j] = True\n",
    "      elif ans == \"TN\":\n",
    "        score = 1 if i[2] == j[2] else 0.5\n",
    "        TN.append((i,j, score))\n",
    "        human_mappings_dict[i] = True\n",
    "        EMB_mappings_dict[j] = True\n"
   ]
  },
  {
   "cell_type": "code",
   "execution_count": null,
   "metadata": {},
   "outputs": [],
   "source": [
    "human_mappings_dict\n",
    "\n",
    "for i in human_mappings_dict:\n",
    "\n",
    "\n",
    "  if human_mappings_dict[i]:\n",
    "    continue # if mapped, ignore\n",
    "\n",
    "  else:\n",
    "    mapping_0 = find_mapping_with_cls(EMB_mappings_dict, i, 0) \n",
    "    mapping_1 = find_mapping_with_cls(EMB_mappings_dict, i, 1) \n",
    "    if i[0] is not None and mapping_0:\n",
    "      mapping = mapping_0\n",
    "      # print(i, mapping)\n",
    "      if i[1] is not None and mapping[1] is not None: # a b\t// a c\t0\tFP\n",
    "        FP.append((i, mapping))\n",
    "        human_mappings_dict[i] = True\n",
    "        EMB_mappings_dict[mapping] = True\n",
    "\n",
    "      elif i[1] is not None and mapping[1] is None: # a b\t// a None\t0\tFN\n",
    "        FN.append((i, mapping))\n",
    "        human_mappings_dict[i] = True\n",
    "        EMB_mappings_dict[mapping] = True\n",
    "\n",
    "      elif i[1] is None and mapping[1] is not None: # a None // a b\t0\tFP\n",
    "        FP.append((i, mapping))\n",
    "        human_mappings_dict[i] = True\n",
    "        EMB_mappings_dict[mapping] = True\n",
    "\n",
    "    \n",
    "    elif i[1] is not None and mapping_1:\n",
    "      mapping = mapping_1 # generated pair\n",
    "      # print(i)\n",
    "      # print(mapping)\n",
    "      if i[0] is None and mapping[0] is not None: # none a //\tb a \t0\tFP\n",
    "        FP.append((i, mapping))\n",
    "        human_mappings_dict[i] = True\n",
    "        EMB_mappings_dict[mapping] = True\n",
    "\n",
    "      elif i[0] is not None and mapping[0] is None: # b a\t// none a  \t0\tFN\n",
    "        FN.append((i, mapping))\n",
    "        human_mappings_dict[i] = True\n",
    "        EMB_mappings_dict[mapping] = True\n",
    "\n",
    "      elif i[0] is not None and mapping[0] is not None: # c a\t// b a  0\tFP\n",
    "        FP.append((i, mapping))\n",
    "        human_mappings_dict[i] = True\n",
    "        EMB_mappings_dict[mapping] = True\n",
    "\n"
   ]
  },
  {
   "cell_type": "code",
   "execution_count": null,
   "metadata": {},
   "outputs": [],
   "source": [
    "EMB_mappings_dict\n",
    "\n",
    "for i in EMB_mappings_dict:\n",
    "\n",
    "  if EMB_mappings_dict[i]:\n",
    "    continue # if mapped, ignore\n",
    "\n",
    "    # i[0] is generaeted pair\n",
    "  mapping_0 = find_mapping_with_cls(human_mappings_dict, i, 0) # human result\n",
    "  mapping_1 = find_mapping_with_cls(human_mappings_dict, i, 1) # human result\n",
    "\n",
    "  if i[0] is not None and mapping_0:\n",
    "    # mapping = find_mapping_with_cls(human_mappings_dict, i, 0) # human result\n",
    "\n",
    "    mapping = mapping_0\n",
    "    if i[1] is not None and mapping_0[1] is not None: # a b\t// a c\t0\tFP\n",
    "      mapping = mapping_0\n",
    "      FP.append((mapping, i ))\n",
    "      human_mappings_dict[mapping] = True\n",
    "      EMB_mappings_dict[i] = True\n",
    "\n",
    "    elif mapping[1] is not None and i[1] is None: # a b\t// a None\t0\tFN\n",
    "      FN.append((mapping, i ))\n",
    "      human_mappings_dict[mapping] = True\n",
    "      EMB_mappings_dict[i] = True\n",
    "\n",
    "    elif mapping[1] is None and i[1] is not None: # a None // a b\t0\tFP\n",
    "      FP.append((mapping, i ))\n",
    "      human_mappings_dict[mapping] = True\n",
    "      EMB_mappings_dict[i] = True\n",
    "\n",
    "\n",
    "  elif i[1] is not None and mapping_1:\n",
    "    mapping = mapping_1\n",
    "    mapping = find_mapping_with_cls(human_mappings_dict, i, 1)\n",
    "    if mapping[0] is not None and i[0] is None: # b a //\tnone a \t0\tFN\n",
    "      FN.append((i, mapping))\n",
    "      human_mappings_dict[mapping] = True\n",
    "      EMB_mappings_dict[i] = True\n",
    "\n",
    "    elif mapping[0] is None and i[0] is not None: # none a //\tb a  \t0\tFP\n",
    "      FP.append((i, mapping))\n",
    "      human_mappings_dict[mapping] = True\n",
    "      EMB_mappings_dict[i] = True\n",
    "\n",
    "    elif mapping[0] is not None and i[0] is not None: # c a\t// b a  0\tFP\n",
    "      FP.append((i, mapping))\n",
    "      human_mappings_dict[mapping] = True\n",
    "      EMB_mappings_dict[i] = True"
   ]
  },
  {
   "cell_type": "code",
   "execution_count": null,
   "metadata": {},
   "outputs": [],
   "source": [
    "# precision = TP /(TP + FP)\n",
    "# recall = TP /(TP + FN)\n",
    "\n",
    "tp = 0\n",
    "\n",
    "for i in TP:\n",
    "  tp += i[2]\n",
    "\n",
    "print(\"precision:\", tp / (len(TP) + len(FP)))\n",
    "print(\"recall:\", tp / (len(TP) + len(FN)))\n",
    "\n",
    "p = tp / (len(TP) + len(FP))\n",
    "r = tp / (len(TP) + len(FN))\n",
    "\n",
    "algo_human['attribute'][\"precision\"] = p\n",
    "algo_human['attribute'][\"recall\"] = r\n",
    "\n",
    "algo_human['attribute'][\"f1\"] = 2 * p * r /  (p + r)"
   ]
  },
  {
   "cell_type": "markdown",
   "metadata": {
    "id": "R6-0BsNIIquf"
   },
   "source": [
    "#### Relationship"
   ]
  },
  {
   "cell_type": "code",
   "execution_count": null,
   "metadata": {},
   "outputs": [],
   "source": [
    "# algo matching\n",
    "\n",
    "tmp = group.ref_rels\n",
    "\n",
    "human_mappings = []\n",
    "for dic  in tmp: # cls\n",
    "  # cls is a dict\n",
    "  \n",
    "  matching = (dic['dsl'], dic['counterpart'], dic['score'] )\n",
    "\n",
    "  human_mappings.append(matching)\n",
    "    \n",
    "\n",
    "tmp = group.stu_rels\n",
    "for dic in tmp:\n",
    "\n",
    "    # order of the elements\n",
    "    matching = (dic['counterpart'], dic['dsl'], dic['score'])\n",
    "\n",
    "    if not exist_mapping(human_mappings, matching):\n",
    "      # print(matching)\n",
    "      human_mappings.append(matching)"
   ]
  },
  {
   "cell_type": "code",
   "execution_count": null,
   "metadata": {},
   "outputs": [],
   "source": [
    "# compare performance\n",
    "# algo matching\n",
    "grader.ref.rel.rels\n",
    "\n",
    "tmp = grader.ref.rel.rels\n",
    "EMB_mappings = []\n",
    "for dic  in tmp: # cls\n",
    "  # cls is a dict\n",
    "  \n",
    "  matching = (dic['dsl'], dic['counterpart'], dic['score'] )\n",
    "  EMB_mappings.append(matching)\n",
    "\n",
    "tmp = grader.stu.rel.rels\n",
    "\n",
    "for dic in tmp:\n",
    "\n",
    "    # order of the elements\n",
    "    matching = (dic['counterpart'], dic['dsl'], dic['score'])\n",
    "\n",
    "    if not exist_mapping(EMB_mappings, matching):\n",
    "      # print(matching)\n",
    "      EMB_mappings.append(matching)\n"
   ]
  },
  {
   "cell_type": "markdown",
   "metadata": {},
   "source": [
    "##### Start evaluation"
   ]
  },
  {
   "cell_type": "code",
   "execution_count": null,
   "metadata": {},
   "outputs": [],
   "source": [
    "# TP/FP/TN/FN\n",
    "TP = []\n",
    "FP = []\n",
    "TN = []\n",
    "FN = []\n",
    "\n",
    "def check_TP_TN(map_human, map_algo):\n",
    "  if map_human[0] == map_algo[0] and map_human[1] == map_algo[1] and not (None in map_human):\n",
    "    return \"TP\"\n",
    "  elif map_human[0] == map_algo[0] and map_human[1] == map_algo[1] and (None in map_human):\n",
    "    return \"TN\"\n",
    "  else:\n",
    "    return \"NA\"\n",
    "\n",
    "human_mappings_dict = {}\n",
    "for i in human_mappings:\n",
    "  human_mappings_dict[i] = False # not mapped\n",
    "EMB_mappings_dict = {}\n",
    "for i in EMB_mappings:\n",
    "  EMB_mappings_dict[i] = False # not mapped\n",
    "\n",
    "# filter out TP or TN first\n",
    "for i in human_mappings:\n",
    "  mappinged = False\n",
    "  if not mappinged:\n",
    "    for j in EMB_mappings:\n",
    "      ans = check_TP_TN(i,j)\n",
    "      if ans == \"NA\":\n",
    "        continue\n",
    "      elif ans == \"TP\":\n",
    "        score = 1 if i[2] == j[2] else 0.5\n",
    "        TP.append((i,j, score))\n",
    "        human_mappings_dict[i] = True\n",
    "        EMB_mappings_dict[j] = True\n",
    "      elif ans == \"TN\":\n",
    "        score = 1 if i[2] == j[2] else 0.5\n",
    "        TN.append((i,j, score))\n",
    "        human_mappings_dict[i] = True\n",
    "        EMB_mappings_dict[j] = True\n"
   ]
  },
  {
   "cell_type": "code",
   "execution_count": null,
   "metadata": {},
   "outputs": [],
   "source": [
    "human_mappings_dict\n",
    "\n",
    "for i in human_mappings_dict:\n",
    "  print(i)\n",
    "  if human_mappings_dict[i]:\n",
    "    continue # if mapped, ignore\n",
    "\n",
    "    # i[0] is human pair\n",
    "  elif i[0] is not None:\n",
    "    mapping = find_mapping_with_cls(EMB_mappings_dict, i, 0) # generated pair\n",
    "    if i[1] is not None and mapping[1] is not None: # a b\t// a c\t0\tFP\n",
    "      FP.append((i, mapping))\n",
    "      human_mappings_dict[i] = True\n",
    "      EMB_mappings_dict[mapping] = True\n",
    "\n",
    "    elif i[1] is not None and mapping[1] is None: # a b\t// a None\t0\tFN\n",
    "      FN.append((i, mapping))\n",
    "      human_mappings_dict[i] = True\n",
    "      EMB_mappings_dict[mapping] = True\n",
    "\n",
    "    elif i[1] is None and mapping[1] is not None: # a None // a b\t0\tFP\n",
    "      FP.append((i, mapping))\n",
    "      human_mappings_dict[i] = True\n",
    "      EMB_mappings_dict[mapping] = True\n",
    "\n",
    "  elif i[1] is not None:\n",
    "    mapping = find_mapping_with_cls(EMB_mappings_dict, i, 1) # generated pair\n",
    "    if i[0] is None and mapping[0] is not None: # none a //\tb a \t0\tFP\n",
    "      FP.append((i, mapping))\n",
    "      human_mappings_dict[i] = True\n",
    "      EMB_mappings_dict[mapping] = True\n",
    "\n",
    "    elif i[0] is not None and mapping[0] is None: # b a\t// none a  \t0\tFN\n",
    "      FN.append((i, mapping))\n",
    "      human_mappings_dict[i] = True\n",
    "      EMB_mappings_dict[mapping] = True\n",
    "\n",
    "    elif i[0] is not None and mapping[0] is not None: # c a\t// b a  0\tFP\n",
    "      FP.append((i, mapping))\n",
    "      human_mappings_dict[i] = True\n",
    "      EMB_mappings_dict[mapping] = True\n",
    "\n"
   ]
  },
  {
   "cell_type": "code",
   "execution_count": null,
   "metadata": {},
   "outputs": [],
   "source": [
    "EMB_mappings_dict"
   ]
  },
  {
   "cell_type": "code",
   "execution_count": null,
   "metadata": {},
   "outputs": [],
   "source": []
  },
  {
   "cell_type": "code",
   "execution_count": null,
   "metadata": {},
   "outputs": [],
   "source": [
    "EMB_mappings_dict\n",
    "\n",
    "for i in EMB_mappings_dict:\n",
    "  if EMB_mappings_dict[i]:\n",
    "    continue # if mapped, ignore\n",
    "\n",
    "    # i[0] is generaeted pair\n",
    "  elif i[0] is not None:\n",
    "    mapping = find_mapping_with_cls(human_mappings_dict, i, 0) # human result\n",
    "    if i[1] is not None and mapping[1] is not None: # a b\t// a c\t0\tFP\n",
    "      FP.append((mapping, i ))\n",
    "      human_mappings_dict[mapping] = True\n",
    "      EMB_mappings_dict[i] = True\n",
    "\n",
    "    elif mapping[1] is not None and i[1] is None: # a b\t// a None\t0\tFN\n",
    "      FN.append((mapping, i ))\n",
    "      human_mappings_dict[mapping] = True\n",
    "      EMB_mappings_dict[i] = True\n",
    "\n",
    "    elif mapping[1] is None and i[1] is not None: # a None // a b\t0\tFP\n",
    "      FP.append((mapping, i ))\n",
    "      human_mappings_dict[mapping] = True\n",
    "      EMB_mappings_dict[i] = True\n",
    "\n",
    "  elif i[1] is not None:\n",
    "    mapping = find_mapping_with_cls(human_mappings_dict, i, 1)\n",
    "    if mapping[0] is not None and i[0] is None: # b a //\tnone a \t0\tFN\n",
    "      FN.append((i, mapping))\n",
    "      human_mappings_dict[mapping] = True\n",
    "      EMB_mappings_dict[i] = True\n",
    "\n",
    "    elif mapping[0] is None and i[0] is not None: # none a //\tb a  \t0\tFP\n",
    "      FP.append((i, mapping))\n",
    "      human_mappings_dict[mapping] = True\n",
    "      EMB_mappings_dict[i] = True\n",
    "\n",
    "    elif mapping[0] is not None and i[0] is not None: # c a\t// b a  0\tFP\n",
    "      FP.append((i, mapping))\n",
    "      human_mappings_dict[mapping] = True\n",
    "      EMB_mappings_dict[i] = True"
   ]
  },
  {
   "cell_type": "code",
   "execution_count": null,
   "metadata": {},
   "outputs": [],
   "source": [
    "# precision = TP /(TP + FP)\n",
    "# recall = TP /(TP + FN)\n",
    "\n",
    "tp = 0\n",
    "\n",
    "for i in TP:\n",
    "  tp += i[2]\n",
    "\n",
    "print(\"precision:\", tp / (len(TP) + len(FP)))\n",
    "print(\"recall:\", tp / (len(TP) + len(FN)))\n",
    "\n",
    "p = tp / (len(TP) + len(FP))\n",
    "r = tp / (len(TP) + len(FN))\n",
    "\n",
    "algo_human['relationship'][\"precision\"] = p\n",
    "algo_human['relationship'][\"recall\"] = r\n",
    "\n",
    "algo_human['relationship'][\"f1\"] = 2 * p * r /  (p + r)\n"
   ]
  },
  {
   "cell_type": "code",
   "execution_count": null,
   "metadata": {},
   "outputs": [],
   "source": [
    "algo_human"
   ]
  },
  {
   "cell_type": "code",
   "execution_count": null,
   "metadata": {},
   "outputs": [],
   "source": [
    "student_out_dir"
   ]
  },
  {
   "cell_type": "code",
   "execution_count": null,
   "metadata": {},
   "outputs": [],
   "source": [
    "\n",
    "# as requested in comment\n",
    "\n",
    "with open(student_out_dir + 'algo_evaluation.txt', 'w') as file:\n",
    "     file.write(json.dumps(algo_human))"
   ]
  }
 ],
 "metadata": {
  "colab": {
   "collapsed_sections": [
    "pBpCEgQV82Nj",
    "MOMw2WnS8p6h",
    "_UPG9p99KA6q",
    "7D5Je00s8p6i",
    "V84BIi42N3vb",
    "AD1YW_WlcROJ",
    "-lWeUly08p6j",
    "Qt34Gd8g8p6o"
   ],
   "provenance": [],
   "toc_visible": true
  },
  "kernelspec": {
   "display_name": "m38",
   "language": "python",
   "name": "python3"
  },
  "language_info": {
   "codemirror_mode": {
    "name": "ipython",
    "version": 3
   },
   "file_extension": ".py",
   "mimetype": "text/x-python",
   "name": "python",
   "nbconvert_exporter": "python",
   "pygments_lexer": "ipython3",
   "version": "3.8.18"
  }
 },
 "nbformat": 4,
 "nbformat_minor": 0
}
