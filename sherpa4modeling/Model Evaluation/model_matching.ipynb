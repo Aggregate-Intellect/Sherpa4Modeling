{
 "cells": [
  {
   "cell_type": "markdown",
   "metadata": {
    "id": "pBpCEgQV82Nj"
   },
   "source": [
    "# Set up"
   ]
  },
  {
   "cell_type": "code",
   "execution_count": 1168,
   "metadata": {},
   "outputs": [],
   "source": [
    "from worde4mde import load_embeddings\n",
    "\n",
    "sgram_mde = load_embeddings(\"sgram-mde\")"
   ]
  },
  {
   "cell_type": "code",
   "execution_count": 1169,
   "metadata": {},
   "outputs": [
    {
     "data": {
      "text/plain": [
       "array([ 0.14674647,  0.42704162,  0.17717203,  0.05179158,  0.38020504,\n",
       "       -0.00091264,  0.02094162,  0.00924711, -0.13806985,  0.1403339 ,\n",
       "       -0.0953936 , -0.03681302,  0.38122246, -0.03746711, -0.17595871,\n",
       "       -0.02031669,  0.23675247,  0.27676958, -0.07487358, -0.1987225 ,\n",
       "        0.02015282,  0.05147164, -0.223504  ,  0.00699752, -0.06145973,\n",
       "        0.00920826,  0.01364714,  0.10218145, -0.25330105, -0.14080754,\n",
       "        0.2541444 ,  0.4577827 , -0.16825216, -0.08050938,  0.11404785,\n",
       "       -0.38822263, -0.06395938, -0.4724689 , -0.00111705,  0.27869806,\n",
       "        0.28032073,  0.02976846, -0.01675524,  0.09774698,  0.18298927,\n",
       "       -0.24398401, -0.3238438 ,  0.01912955,  0.11861664,  0.08640955,\n",
       "        0.18799016, -0.06891091, -0.03893414, -0.04862301,  0.02151174,\n",
       "       -0.39205688, -0.23195332, -0.09532862, -0.01324714, -0.24555108,\n",
       "        0.09372689, -0.21971853, -0.26171875, -0.3605202 , -0.07306654,\n",
       "       -0.16288763,  0.12160088,  0.11416717,  0.17378834, -0.04977667,\n",
       "       -0.02417112, -0.13736062,  0.10142291,  0.14622003, -0.06097897,\n",
       "        0.0110862 ,  0.05240794,  0.15037489,  0.01547078,  0.35214952,\n",
       "       -0.15471339,  0.5516976 ,  0.02722004,  0.02725664,  0.23240256,\n",
       "        0.05949455, -0.44269025, -0.13142551,  0.06569727,  0.35366765,\n",
       "        0.0054803 ,  0.31536654, -0.09254798, -0.15512526, -0.0875922 ,\n",
       "        0.11746775, -0.28369817,  0.09341916, -0.00101699,  0.04416016,\n",
       "       -0.07782371,  0.02029933, -0.22690448, -0.12364466, -0.03259058,\n",
       "        0.22620802, -0.21208178,  0.263114  ,  0.39393342, -0.15680021,\n",
       "        0.22134748,  0.35054302,  0.06579161,  0.35725534, -0.17017011,\n",
       "        0.15412103,  0.26485255, -0.18039705,  0.64513373, -0.19044282,\n",
       "        0.05683825,  0.3352058 , -0.02149567,  0.08801293, -0.08748423,\n",
       "       -0.17109865, -0.14135368,  0.10019533, -0.3675318 ,  0.00882045,\n",
       "        0.16446897, -0.41429162, -0.00912068,  0.40898782,  0.02396349,\n",
       "        0.04935403, -0.43389502,  0.13081332,  0.42163405, -0.01841845,\n",
       "        0.08077876,  0.29817823,  0.15492964,  0.15107153,  0.04632611,\n",
       "       -0.5162636 , -0.4262554 ,  0.4967304 ,  0.26285887, -0.02183742,\n",
       "        0.15454406, -0.15592995, -0.3154367 ,  0.19769375, -0.40255702,\n",
       "        0.5028242 , -0.12623732,  0.04818065, -0.00665806,  0.0951322 ,\n",
       "       -0.13625342, -0.18664543,  0.03917297, -0.13414499, -0.21604219,\n",
       "       -0.17906193,  0.08638127, -0.0697468 ,  0.32579476, -0.03519589,\n",
       "       -0.1119362 , -0.08318598, -0.14666392,  0.15051971,  0.1680534 ,\n",
       "       -0.1643881 ,  0.00266754,  0.05763746,  0.01020493,  0.11781339,\n",
       "        0.03850262,  0.11651297, -0.19016212, -0.24033345,  0.24375466,\n",
       "       -0.12184826,  0.29208905,  0.28852615, -0.13238004, -0.02661056,\n",
       "       -0.09076066, -0.25580582,  0.09068189,  0.14338125, -0.03469551,\n",
       "       -0.01255474, -0.28556666,  0.27322152,  0.25480196,  0.067168  ,\n",
       "       -0.1661719 ,  0.07038358,  0.2961011 ,  0.39964455, -0.24441637,\n",
       "       -0.14219673,  0.4223389 ,  0.08920322, -0.5007695 ,  0.22100608,\n",
       "       -0.04162686,  0.07493343, -0.37272817, -0.08913708, -0.05271813,\n",
       "        0.07073972,  0.03486674,  0.01831518, -0.18682544,  0.24017447,\n",
       "        0.04472353, -0.21995458, -0.09560642,  0.05616789, -0.09767775,\n",
       "        0.46399042,  0.26137525, -0.2067443 , -0.20870632, -0.12792471,\n",
       "       -0.32071748, -0.00343737,  0.00869052, -0.17461683,  0.11852369,\n",
       "       -0.23727247,  0.16901173,  0.1390128 ,  0.19200057,  0.07023092,\n",
       "        0.10720899, -0.3680233 , -0.00385552,  0.30061063, -0.0638096 ,\n",
       "        0.15909314,  0.49717936, -0.02870842,  0.04373342, -0.03065694,\n",
       "       -0.03803138, -0.07179781,  0.1352796 ,  0.1206585 ,  0.28997678,\n",
       "       -0.22211125,  0.07451916, -0.4530426 , -0.12867354,  0.25162628,\n",
       "       -0.04360061, -0.01631085,  0.02732887,  0.26878425, -0.25473082,\n",
       "       -0.0563923 ,  0.47035375, -0.1539718 , -0.08114478,  0.3599968 ,\n",
       "        0.01964958,  0.00155073, -0.13521218, -0.04892039,  0.05788288,\n",
       "       -0.29886478,  0.00960886, -0.23544846, -0.46280792,  0.05992502,\n",
       "       -0.42226458,  0.31675085, -0.01231112,  0.15420774, -0.55189675,\n",
       "       -0.08054933,  0.24695848,  0.19135405,  0.2637137 ,  0.2340654 ,\n",
       "        0.05448505, -0.5442373 , -0.01433846,  0.35339138, -0.1810006 ,\n",
       "       -0.07710031, -0.04899847, -0.14326005, -0.2965767 , -0.10492669],\n",
       "      dtype=float32)"
      ]
     },
     "execution_count": 1169,
     "metadata": {},
     "output_type": "execute_result"
    }
   ],
   "source": [
    "word = \"ecore\"\n",
    "sgram_mde[word]"
   ]
  },
  {
   "cell_type": "code",
   "execution_count": 1170,
   "metadata": {},
   "outputs": [],
   "source": [
    "# import pickle\n",
    "\n",
    "import ast\n",
    "import pandas as pd\n",
    "import numpy as np\n",
    "\n",
    "from worde4mde import load_embeddings\n",
    "import re\n",
    "\n",
    "import os\n",
    "import openai\n",
    "from openai import OpenAI\n",
    "import json\n",
    "\n",
    "import networkx as nx\n",
    "import sys"
   ]
  },
  {
   "cell_type": "code",
   "execution_count": 1171,
   "metadata": {},
   "outputs": [],
   "source": [
    "from dotenv import load_dotenv\n",
    "\n",
    "# %%\n",
    "\n",
    "load_dotenv()\n",
    "\n",
    "openai_key = os.getenv(\"openai_key\")\n",
    "os.environ[\"OPENAI_API_KEY\"] = openai_key"
   ]
  },
  {
   "cell_type": "markdown",
   "metadata": {},
   "source": [
    "## Input"
   ]
  },
  {
   "cell_type": "code",
   "execution_count": 1172,
   "metadata": {},
   "outputs": [
    {
     "data": {
      "text/plain": [
       "'results/gpt-4o-mini/sherpa/08_HBMS/result/'"
      ]
     },
     "execution_count": 1172,
     "metadata": {},
     "output_type": "execute_result"
    }
   ],
   "source": [
    "##### update here to change input file directory ######\n",
    "##### update here to change input file directory ######\n",
    "##### update here to change input file directory ######\n",
    "##### update here to change input file directory ######\n",
    "\n",
    "instructor_dir = \"results/\"\n",
    "\n",
    "# 01_LabTracker\n",
    "# 02_CelO\n",
    "# 03_TSS\n",
    "# 04_SHAS\n",
    "# 05_OTS\n",
    "# 06_Block\n",
    "# 07_Tile\n",
    "# 08_HBMS\n",
    "problem_id = \"08_HBMS\"\n",
    "instructor_input = instructor_dir + problem_id + \".txt\"\n",
    "\n",
    "# gpt-4o-mini\n",
    "# gpt-4\n",
    "# gpt-4o\n",
    "llm_id = \"gpt-4o-mini\"\n",
    "\n",
    "# yujing\n",
    "# sherpa\n",
    "method_id = \"sherpa\"\n",
    "\n",
    "student_dir = \"results/\" + llm_id + \"/\" + method_id + \"/\" + problem_id + \"/\"\n",
    "if not os.path.exists(student_dir):\n",
    "    # Create the directory\n",
    "    os.makedirs(student_dir)\n",
    "\n",
    "student_input = student_dir + problem_id + \".txt\"\n",
    "student_input\n",
    "student_out_dir = student_dir + \"result/\"\n",
    "student_out_dir"
   ]
  },
  {
   "cell_type": "code",
   "execution_count": 1173,
   "metadata": {
    "colab": {
     "base_uri": "https://localhost:8080/",
     "height": 408
    },
    "id": "4wrNW7WHaq87",
    "outputId": "8b57cb37-45b8-4bac-860c-b6e933a5c239"
   },
   "outputs": [],
   "source": [
    "# First of all, you need to load the embeddings (currently supported: 'sgram-mde' and 'glove-mde')\n",
    "sgram_mde = load_embeddings(\"sgram-mde\")\n",
    "# glove = load_embeddings('glove-mde')\n",
    "# sgram_mde[\"id\"]"
   ]
  },
  {
   "cell_type": "code",
   "execution_count": 1174,
   "metadata": {},
   "outputs": [],
   "source": [
    "# word = 'id'\n",
    "# sgram_mde.most_similar(positive=[word])"
   ]
  },
  {
   "cell_type": "code",
   "execution_count": 1175,
   "metadata": {
    "id": "GnemiQCKo1uA"
   },
   "outputs": [],
   "source": [
    "def inEmbedding(word, embedding):\n",
    "    try:\n",
    "        return True, embedding[word]\n",
    "    except:\n",
    "        return False, None"
   ]
  },
  {
   "cell_type": "code",
   "execution_count": 1176,
   "metadata": {
    "id": "tYrP3rmxLQ3o"
   },
   "outputs": [
    {
     "data": {
      "text/plain": [
       "['device', 'ID']"
      ]
     },
     "execution_count": 1176,
     "metadata": {},
     "output_type": "execute_result"
    }
   ],
   "source": [
    "def splitCamelCase(word):\n",
    "    splitted = re.sub(\"([A-Z][a-z]+)\", r\" \\1\", re.sub(\"([A-Z]+)\", r\" \\1\", word)).split()\n",
    "    return splitted\n",
    "\n",
    "\n",
    "splitCamelCase(\"device ID\")"
   ]
  },
  {
   "cell_type": "code",
   "execution_count": 1177,
   "metadata": {},
   "outputs": [
    {
     "data": {
      "text/plain": [
       "['Command', 'Status']"
      ]
     },
     "execution_count": 1177,
     "metadata": {},
     "output_type": "execute_result"
    }
   ],
   "source": [
    "splitCamelCase(\"CommandStatus\")"
   ]
  },
  {
   "cell_type": "code",
   "execution_count": 1178,
   "metadata": {
    "id": "YJ7yNdA488Vm"
   },
   "outputs": [],
   "source": [
    "# client = OpenAI()\n",
    "\n",
    "# def run_llm(prompt, model =\"gpt-3.5-turbo\"):\n",
    "#   response = client.chat.completions.create(\n",
    "#     model=model,\n",
    "#     messages=[\n",
    "#       {\"role\": \"user\", \"content\": prompt},\n",
    "\n",
    "#     ]\n",
    "#   )\n",
    "#   return response.choices[0].message.content"
   ]
  },
  {
   "cell_type": "code",
   "execution_count": 1179,
   "metadata": {
    "id": "0Juq9RcN9BcX"
   },
   "outputs": [],
   "source": [
    "client = OpenAI()\n",
    "\n",
    "\n",
    "def get_embedding(text, model=\"text-embedding-ada-002\"):\n",
    "    text = text.replace(\"\\n\", \" \")\n",
    "    return client.embeddings.create(input=[text], model=model).data[0].embedding"
   ]
  },
  {
   "cell_type": "code",
   "execution_count": 1180,
   "metadata": {
    "id": "-qddd_ct9lDV"
   },
   "outputs": [],
   "source": [
    "def get_all_info(class_index, class_nodes, list_of_classes, list_edges, need_edge=True):\n",
    "    result = \"\"\n",
    "    result += list_of_classes[class_index] + \"\\n\"\n",
    "    node = class_nodes[class_index]\n",
    "    if \"abstract\" in node:\n",
    "        node = node.replace(\"abstract\", \"\").strip()\n",
    "    if \"Abstract\" in node:\n",
    "        node = node.replace(\"Abstract\", \"\").strip()\n",
    "    if need_edge:\n",
    "        for edge in list_edges:\n",
    "            element = [i.strip() for i in edge.split()]\n",
    "            if node in element:\n",
    "                result += edge + \"\\n\"\n",
    "\n",
    "    return result"
   ]
  },
  {
   "cell_type": "code",
   "execution_count": 1181,
   "metadata": {
    "id": "PF1WvdorJYa8"
   },
   "outputs": [],
   "source": [
    "def match_classes(raw_1, raw_2, dict_attr, thresh=0.5, verbose=False):\n",
    "    # raw_1: nodes from reference solution\n",
    "    # raw_2: nodes from student solution\n",
    "    # dict_attr: dictionary for embeddings\n",
    "    # thresh for subst cost\n",
    "    # map class lists raw_1 and raw_2\n",
    "    print(dict_attr)\n",
    "\n",
    "    def node_subst_cost_attr(node1, node2):\n",
    "        # threshod as 0.45\n",
    "        if dict_attr[node1[\"name\"]][node2[\"name\"]] < thresh:\n",
    "            return 3\n",
    "        else:\n",
    "            return 1 - dict_attr[node1[\"name\"]][node2[\"name\"]]\n",
    "\n",
    "    G_att_1 = nx.Graph()\n",
    "    G_att_2 = nx.Graph()\n",
    "    for node in raw_1:\n",
    "        G_att_1.add_node(node, name=node)\n",
    "\n",
    "    for node in raw_2:\n",
    "        G_att_2.add_node(node, name=node)\n",
    "\n",
    "    for v in nx.optimize_edit_paths(\n",
    "        G_att_1,\n",
    "        G_att_2,\n",
    "        node_subst_cost=node_subst_cost_attr,\n",
    "        edge_match=None,\n",
    "        timeout=20,\n",
    "    ):\n",
    "        minv = v\n",
    "    # minv\n",
    "\n",
    "    return minv"
   ]
  },
  {
   "cell_type": "markdown",
   "metadata": {
    "id": "y7GUzcWW8p6a"
   },
   "source": [
    "# Group"
   ]
  },
  {
   "cell_type": "code",
   "execution_count": 1182,
   "metadata": {
    "id": "ADtI3209Oy52"
   },
   "outputs": [],
   "source": [
    "class Grader:\n",
    "    def __init__(self):\n",
    "        self.ref = None\n",
    "        self.stu = None"
   ]
  },
  {
   "cell_type": "code",
   "execution_count": 1183,
   "metadata": {
    "id": "qvUpWnJVC-9P"
   },
   "outputs": [],
   "source": [
    "grader = Grader()"
   ]
  },
  {
   "cell_type": "markdown",
   "metadata": {
    "id": "MOMw2WnS8p6h"
   },
   "source": [
    "## Class"
   ]
  },
  {
   "cell_type": "markdown",
   "metadata": {
    "id": "_UPG9p99KA6q"
   },
   "source": [
    "### Define metadata"
   ]
  },
  {
   "cell_type": "code",
   "execution_count": 1184,
   "metadata": {
    "id": "IaR1jGbEKCq4"
   },
   "outputs": [],
   "source": [
    "class ModelInfo:\n",
    "\n",
    "    def __init(self):\n",
    "        self.cls_atr = {}\n",
    "        self.cls_name = []\n",
    "        self.raw_dsl = []\n",
    "        self.rel = None"
   ]
  },
  {
   "cell_type": "code",
   "execution_count": 1185,
   "metadata": {
    "id": "4-b5m2ovKZDg"
   },
   "outputs": [],
   "source": [
    "ref_cls = ModelInfo()\n",
    "stu_cls = ModelInfo()"
   ]
  },
  {
   "cell_type": "code",
   "execution_count": 1186,
   "metadata": {
    "id": "bviDqFkT42Tc"
   },
   "outputs": [],
   "source": [
    "grader.ref = ref_cls\n",
    "grader.stu = stu_cls"
   ]
  },
  {
   "cell_type": "code",
   "execution_count": 1187,
   "metadata": {},
   "outputs": [],
   "source": [
    "with open(instructor_input, \"r\") as file:\n",
    "    # Read the entire content of the file\n",
    "    instructor_all = file.read()\n",
    "\n",
    "with open(student_input, \"r\") as file:\n",
    "    # Read the entire content of the file\n",
    "    student_all = file.read()"
   ]
  },
  {
   "cell_type": "code",
   "execution_count": 1188,
   "metadata": {},
   "outputs": [
    {
     "name": "stdout",
     "output_type": "stream",
     "text": [
      "Enumerations:\n",
      "RoomType(SINGLE, DOUBLE, TWIN)\n",
      "BookingStatus(FINALIZED, CONFIRMED, CANCELLED_BY_HBMS, PRELIMINARY, CANCELLED_BY_TRAVELLER, CANCELLED_BY_HOTEL)\n",
      "PaymentType (PREPAID, PAID_AT_HOTEL)\n",
      "\n",
      "Classes:\n",
      "HotelBookingManager()\n",
      "HotelChain()\n",
      "\n",
      "Traveller (string name, int reliabilityRating)\n",
      "\n",
      "BillingInformation(string companyName, string address)\n",
      "TravelPreference(string preference, string value)\n",
      "Hotel (string city, string country, string area)\n",
      "abstract Offer()\n",
      "SpecialOffer()\n",
      "RegularOffer()\n",
      "TravelSearch()\n",
      "SearchInfo()\n",
      "RoomAvailability()\n",
      "abstract TripInfo(int numberOfRooms, RoomType roomType, date arrivalDate, date departureDate, float budgetPerNight)\n",
      "BookingInfo()\n",
      "Booking (int bookingId, date cancellationDeadline, string creditCardNumber, BookingStatus bookingStatus, PaymentType paymentType, date confirmationDate, float paidAmount)\n",
      "\n",
      "\n",
      "Relationships:\n",
      "\n"
     ]
    }
   ],
   "source": [
    "print(instructor_all)"
   ]
  },
  {
   "cell_type": "code",
   "execution_count": 1189,
   "metadata": {},
   "outputs": [
    {
     "name": "stdout",
     "output_type": "stream",
     "text": [
      "Enumerations:\n",
      "BookingType(PrePaid, PayAtHotel)\n",
      "RoomType(Single, Double, Twin)\n",
      "HotelRating(OneStar, TwoStars, ThreeStars, FourStars, FiveStars)\n",
      "TravelPreferenceType(BreakfastIncluded, FreeWifi, FrontDesk)\n",
      "\n",
      "Classes:\n",
      "\n",
      "HotelChain(string name)  \n",
      "\n",
      "Traveller(string name, BillingInformation billingInformation, ReliabilityRating reliabilityRating)  \n",
      "\n",
      "BillingInformation(string billingAddress, string companyName)  \n",
      "\n",
      "Hotel(string name, string address, string city, HotelChain hotelChain, int rating)  \n",
      "\n",
      "abstract Booking(string bookingIdentifier, date dateArrival, date dateDeparture, int numberOfRooms, RoomType roomType, boolean isPrePaid, date cancellationDeadline)  \n",
      "FinalizedBooking(boolean isConfirmed, date confirmationDeadline) inherit Booking  \n",
      "AccommodationDeal(string price, string area, string keyPreferences)  \n",
      "Address(string street, string city, string state, string zipCode)  \n",
      "ReliabilityRating(int score)  \n",
      "Competitor(string name, Offer offer)  \n",
      "FinancialCompensation(string compensationDetails)  \n",
      "CreditCard(string cardNumber, string cardHolderName, date expirationDate)  \n",
      "\n",
      "Relationships:\n",
      "\n"
     ]
    }
   ],
   "source": [
    "print(student_all)"
   ]
  },
  {
   "cell_type": "code",
   "execution_count": 1190,
   "metadata": {},
   "outputs": [],
   "source": [
    "shas_sol = instructor_all.split(\"Relationships:\")[0]\n",
    "stu_sol_g = student_all.split(\"Relationships:\")[0]  # student solution"
   ]
  },
  {
   "cell_type": "code",
   "execution_count": 1191,
   "metadata": {
    "id": "PHb2yzli8p6h"
   },
   "outputs": [],
   "source": [
    "ref_classes_raw = []\n",
    "tmp = shas_sol.strip().splitlines()\n",
    "ref_classes_raw = [i.strip() for i in tmp if len(i) > 0]\n",
    "ref_classes_raw\n",
    "\n",
    "reference_class = []\n",
    "tmp = shas_sol.strip().splitlines()\n",
    "reference_class = [i.split(\"(\")[0].strip() for i in tmp if len(i) > 0]"
   ]
  },
  {
   "cell_type": "code",
   "execution_count": 1192,
   "metadata": {
    "id": "zR4naxeW8p6h"
   },
   "outputs": [
    {
     "data": {
      "text/plain": [
       "['Enumerations:',\n",
       " 'BookingType',\n",
       " 'RoomType',\n",
       " 'HotelRating',\n",
       " 'TravelPreferenceType',\n",
       " 'Classes:',\n",
       " 'HotelChain',\n",
       " 'Traveller',\n",
       " 'BillingInformation',\n",
       " 'Hotel',\n",
       " 'abstract Booking',\n",
       " 'FinalizedBooking',\n",
       " 'AccommodationDeal',\n",
       " 'Address',\n",
       " 'ReliabilityRating',\n",
       " 'Competitor',\n",
       " 'FinancialCompensation',\n",
       " 'CreditCard']"
      ]
     },
     "execution_count": 1192,
     "metadata": {},
     "output_type": "execute_result"
    }
   ],
   "source": [
    "stu_classes_raw = []\n",
    "tmp = stu_sol_g.strip().splitlines()\n",
    "stu_classes_raw = [i.strip() for i in tmp if len(i) > 0]\n",
    "stu_classes_raw\n",
    "\n",
    "tmp = stu_sol_g.strip().splitlines()\n",
    "stu_class = [i.split(\"(\")[0].strip() for i in tmp if len(i) > 0]\n",
    "stu_class"
   ]
  },
  {
   "cell_type": "code",
   "execution_count": 1193,
   "metadata": {
    "id": "Kt4R2geh8p6h"
   },
   "outputs": [],
   "source": [
    "ref_attributes = {}\n",
    "enum_index = ref_classes_raw.index(\"Enumerations:\")\n",
    "regular_index = ref_classes_raw.index(\"Classes:\")\n",
    "for cla, dsl in zip(reference_class, ref_classes_raw):\n",
    "    if dsl == \"Enumerations:\" or dsl == \"Classes:\":\n",
    "        continue\n",
    "    else:\n",
    "        index = ref_classes_raw.index(dsl)\n",
    "        if index > regular_index:\n",
    "            class_type = \"regular\"\n",
    "            if \"abstract\" in dsl:\n",
    "                class_type = \"abstract\"\n",
    "        else:\n",
    "            class_type = \"enum\"\n",
    "        ref_attributes[cla] = {\n",
    "            \"score\": 0,\n",
    "            \"type\": class_type,\n",
    "            \"dsl\": dsl,\n",
    "            \"counterpart\": None,\n",
    "            \"attributes\": {},\n",
    "        }\n",
    "\n",
    "        attributes = dsl.split(\"(\")[1][:-1].split(\",\")\n",
    "        for attr in attributes:\n",
    "            attr = attr.strip()\n",
    "            if len(attr) > 0:\n",
    "                ref_attributes[cla][\"attributes\"][attr] = {\n",
    "                    \"score\": 0,\n",
    "                    \"counterpart\": None,\n",
    "                }"
   ]
  },
  {
   "cell_type": "code",
   "execution_count": 1194,
   "metadata": {
    "id": "L_TGf3xW8p6i"
   },
   "outputs": [],
   "source": [
    "reference_class.remove(\"Enumerations:\")\n",
    "reference_class.remove(\"Classes:\")\n",
    "\n",
    "ref_classes_raw.remove(\"Enumerations:\")\n",
    "ref_classes_raw.remove(\"Classes:\")"
   ]
  },
  {
   "cell_type": "code",
   "execution_count": 1195,
   "metadata": {
    "id": "6WI2xkurLJTq"
   },
   "outputs": [],
   "source": [
    "ref_cls.cls_name = reference_class\n",
    "ref_cls.raw_dsl = ref_classes_raw\n",
    "ref_cls.cls_atr = ref_attributes"
   ]
  },
  {
   "cell_type": "code",
   "execution_count": 1196,
   "metadata": {
    "id": "nkxF3Yda8p6i"
   },
   "outputs": [
    {
     "name": "stdout",
     "output_type": "stream",
     "text": [
      "BookingType(PrePaid, PayAtHotel)\n",
      "RoomType(Single, Double, Twin)\n",
      "HotelRating(OneStar, TwoStars, ThreeStars, FourStars, FiveStars)\n",
      "TravelPreferenceType(BreakfastIncluded, FreeWifi, FrontDesk)\n",
      "HotelChain(string name)\n",
      "Traveller(string name, BillingInformation billingInformation, ReliabilityRating reliabilityRating)\n",
      "BillingInformation(string billingAddress, string companyName)\n",
      "Hotel(string name, string address, string city, HotelChain hotelChain, int rating)\n",
      "abstract Booking(string bookingIdentifier, date dateArrival, date dateDeparture, int numberOfRooms, RoomType roomType, boolean isPrePaid, date cancellationDeadline)\n",
      "FinalizedBooking(boolean isConfirmed, date confirmationDeadline) inherit Booking\n",
      "AccommodationDeal(string price, string area, string keyPreferences)\n",
      "Address(string street, string city, string state, string zipCode)\n",
      "ReliabilityRating(int score)\n",
      "Competitor(string name, Offer offer)\n",
      "FinancialCompensation(string compensationDetails)\n",
      "CreditCard(string cardNumber, string cardHolderName, date expirationDate)\n"
     ]
    }
   ],
   "source": [
    "stu_attributes = {}\n",
    "enum_index = stu_classes_raw.index(\"Enumerations:\")\n",
    "regular_index = stu_classes_raw.index(\"Classes:\")\n",
    "\n",
    "for cla, dsl in zip(stu_class, stu_classes_raw):\n",
    "    if dsl == \"Enumerations:\" or dsl == \"Classes:\":\n",
    "        continue\n",
    "    else:\n",
    "        index = stu_classes_raw.index(dsl)\n",
    "        if index > regular_index:\n",
    "            class_type = \"regular\"\n",
    "            if \"abstract\" in dsl:\n",
    "                class_type = \"abstract\"\n",
    "        else:\n",
    "            class_type = \"enum\"\n",
    "\n",
    "        stu_attributes[cla] = {\n",
    "            \"score\": 0,\n",
    "            \"type\": class_type,\n",
    "            \"dsl\": dsl,\n",
    "            \"counterpart\": None,\n",
    "            \"attributes\": {},\n",
    "        }\n",
    "\n",
    "        print(dsl)\n",
    "        attributes = dsl.split(\"(\")[1][:-1].split(\",\")\n",
    "        for attr in attributes:\n",
    "            attr = attr.strip()\n",
    "            if len(attr) > 0:\n",
    "                stu_attributes[cla][\"attributes\"][attr] = {\n",
    "                    \"score\": 0,\n",
    "                    \"counterpart\": None,\n",
    "                }"
   ]
  },
  {
   "cell_type": "code",
   "execution_count": 1197,
   "metadata": {
    "id": "iK3ITyIW8p6i"
   },
   "outputs": [],
   "source": [
    "stu_class.remove(\"Enumerations:\")\n",
    "stu_class.remove(\"Classes:\")\n",
    "\n",
    "stu_classes_raw.remove(\"Enumerations:\")\n",
    "stu_classes_raw.remove(\"Classes:\")"
   ]
  },
  {
   "cell_type": "code",
   "execution_count": 1198,
   "metadata": {
    "id": "-DjOKJ1wNNdt"
   },
   "outputs": [],
   "source": [
    "stu_cls.cls_name = stu_class\n",
    "stu_cls.raw_dsl = stu_classes_raw\n",
    "stu_cls.cls_atr = stu_attributes"
   ]
  },
  {
   "cell_type": "markdown",
   "metadata": {
    "id": "dblsT4MS8p6i"
   },
   "source": [
    "## Edges"
   ]
  },
  {
   "cell_type": "markdown",
   "metadata": {
    "id": "7D5Je00s8p6i"
   },
   "source": [
    "### reference and student solutions"
   ]
  },
  {
   "cell_type": "code",
   "execution_count": 1199,
   "metadata": {},
   "outputs": [],
   "source": [
    "shas_edges = instructor_all.split(\"Relationships:\")[1]\n",
    "shas_G2_edges = student_all.split(\"Relationships:\")[1]  # student solution"
   ]
  },
  {
   "cell_type": "code",
   "execution_count": 1200,
   "metadata": {},
   "outputs": [
    {
     "data": {
      "text/plain": [
       "'\\n'"
      ]
     },
     "execution_count": 1200,
     "metadata": {},
     "output_type": "execute_result"
    }
   ],
   "source": [
    "shas_edges"
   ]
  },
  {
   "cell_type": "code",
   "execution_count": 1201,
   "metadata": {},
   "outputs": [
    {
     "data": {
      "text/plain": [
       "'\\n'"
      ]
     },
     "execution_count": 1201,
     "metadata": {},
     "output_type": "execute_result"
    }
   ],
   "source": [
    "shas_edges"
   ]
  },
  {
   "cell_type": "code",
   "execution_count": 1202,
   "metadata": {
    "id": "9ShLk-8_8p6i"
   },
   "outputs": [],
   "source": [
    "shas_edges = shas_edges.replace(\"0..*\", \"*\")"
   ]
  },
  {
   "cell_type": "code",
   "execution_count": 1203,
   "metadata": {
    "id": "54aKqVt58p6j"
   },
   "outputs": [],
   "source": [
    "shas_G2_edges = shas_G2_edges.replace(\"0..*\", \"*\")"
   ]
  },
  {
   "cell_type": "code",
   "execution_count": 1204,
   "metadata": {
    "id": "onsbAmwq8p6j"
   },
   "outputs": [],
   "source": [
    "tmp = shas_edges.strip().splitlines()\n",
    "ref_edges = [i.strip() for i in tmp if len(i) > 0]\n",
    "\n",
    "for i in ref_edges:\n",
    "    length = len(i.split())\n",
    "    if length == 5 or length == 3:\n",
    "        pass\n",
    "    else:\n",
    "        print(\"Reference Length error:\", i)\n",
    "\n",
    "tmp = shas_G2_edges.strip().splitlines()\n",
    "stu_edges = [i.strip() for i in tmp if len(i) > 0]\n",
    "\n",
    "for i in stu_edges:\n",
    "    length = len(i.split())\n",
    "    if length == 5 or length == 3:\n",
    "        pass\n",
    "    else:\n",
    "        print(\"Student Length error:\", i)"
   ]
  },
  {
   "cell_type": "code",
   "execution_count": 1205,
   "metadata": {
    "id": "MqopbetK8p6j"
   },
   "outputs": [],
   "source": [
    "class Relationship:\n",
    "    def __init__(self):\n",
    "        self.rels = []  # list of dict{}\n",
    "        self.raw_dsl = []\n",
    "\n",
    "    # find first non-matched or matched reltionshipi given dsl\n",
    "    def find_relation(self, dsl, matched=False):\n",
    "        for index, i in enumerate(self.rels):\n",
    "            if i[\"dsl\"] == dsl and i[\"counterpart\"] is None:\n",
    "                return index, i\n",
    "\n",
    "        return None"
   ]
  },
  {
   "cell_type": "code",
   "execution_count": 1206,
   "metadata": {
    "id": "lznKb5N28p6j"
   },
   "outputs": [],
   "source": [
    "ref_edges_obj = Relationship()\n",
    "stu_edges_obj = Relationship()\n",
    "\n",
    "\n",
    "ref_edges_dict = []\n",
    "for e in ref_edges:\n",
    "    ref_edges_dict.append({\"dsl\": e, \"score\": 0, \"counterpart\": None})\n",
    "\n",
    "ref_edges_obj.rels = ref_edges_dict\n",
    "ref_edges_obj.raw_dsl = ref_edges\n",
    "\n",
    "stu_edges_dict = []\n",
    "for e in stu_edges:\n",
    "    stu_edges_dict.append({\"dsl\": e, \"score\": 0, \"counterpart\": None})\n",
    "\n",
    "stu_edges_obj.rels = stu_edges_dict\n",
    "stu_edges_obj.raw_dsl = stu_edges"
   ]
  },
  {
   "cell_type": "code",
   "execution_count": 1207,
   "metadata": {
    "id": "oxwZDyyDaibf"
   },
   "outputs": [],
   "source": [
    "# link to classInfo object\n",
    "ref_cls.rel = ref_edges_obj\n",
    "stu_cls.rel = stu_edges_obj"
   ]
  },
  {
   "cell_type": "code",
   "execution_count": 1208,
   "metadata": {
    "id": "6Otwiuqn8p6j"
   },
   "outputs": [],
   "source": [
    "edges = [ref_edges_obj, stu_edges_obj]"
   ]
  },
  {
   "cell_type": "markdown",
   "metadata": {
    "id": "pjvx1y428p6j"
   },
   "source": [
    "## Getting embedding"
   ]
  },
  {
   "cell_type": "code",
   "execution_count": 1209,
   "metadata": {},
   "outputs": [],
   "source": [
    "def removeChars(text, chars):\n",
    "    for c in chars:\n",
    "        text = text.replace(c, \"\")\n",
    "    return text"
   ]
  },
  {
   "cell_type": "code",
   "execution_count": 1210,
   "metadata": {
    "id": "ee0LtyGkkVu3"
   },
   "outputs": [],
   "source": [
    "def get_mde_embedding(text, embedding):\n",
    "    # >>> get_mde_embedding(\"WhatDevice\", sgram_mde)\n",
    "    words = splitCamelCase(removeChars(text, [\"(\", \")\", \",\"]))\n",
    "    lowercase_list = [s.lower() for s in words]\n",
    "    counter = 0\n",
    "    emb = np.zeros(300)\n",
    "    for w in lowercase_list:\n",
    "        try:\n",
    "            emb += embedding[w]\n",
    "            counter += 1\n",
    "        except:\n",
    "            # if failed in emb the complete word, embed the token\n",
    "            tmp = np.zeros(300)\n",
    "            for char in list(w):\n",
    "\n",
    "                tmp += embedding[char]\n",
    "            emb += tmp / len(w)\n",
    "            counter += 1\n",
    "    return emb / counter"
   ]
  },
  {
   "cell_type": "code",
   "execution_count": 1211,
   "metadata": {},
   "outputs": [
    {
     "data": {
      "text/plain": [
       "['Automation', 'Status', 'Created', 'Edited', 'Activated', 'Deactivated']"
      ]
     },
     "execution_count": 1211,
     "metadata": {},
     "output_type": "execute_result"
    }
   ],
   "source": [
    "text = \"AutomationStatus (Created, Edited, Activated, Deactivated)\"\n",
    "words = splitCamelCase(removeChars(text, [\"(\", \")\", \",\"]))\n",
    "words"
   ]
  },
  {
   "cell_type": "code",
   "execution_count": 1212,
   "metadata": {
    "id": "G_8OE4YpljN7"
   },
   "outputs": [],
   "source": [
    "def cosine_distance(emb_i, emb_j):\n",
    "    return np.dot(emb_i, emb_j) / (np.linalg.norm(emb_i) * np.linalg.norm(emb_j))"
   ]
  },
  {
   "cell_type": "markdown",
   "metadata": {
    "id": "V84BIi42N3vb"
   },
   "source": [
    "## Stage 1.1 Class name mapping"
   ]
  },
  {
   "cell_type": "code",
   "execution_count": 1213,
   "metadata": {
    "id": "4Bfij7cROA8x"
   },
   "outputs": [
    {
     "name": "stdout",
     "output_type": "stream",
     "text": [
      "\n",
      "\n",
      "\n",
      "\n",
      "\n",
      "\n",
      "\n",
      "\n",
      "\n",
      "\n",
      "\n",
      "\n",
      "\n",
      "\n",
      "\n",
      "\n",
      "\n",
      "\n",
      "\n",
      "\n",
      "\n",
      "\n",
      "\n",
      "\n",
      "\n",
      "\n",
      "\n",
      "\n",
      "\n",
      "\n",
      "\n",
      "\n",
      "\n",
      "\n",
      "\n",
      "\n",
      "\n",
      "\n",
      "\n",
      "\n",
      "\n",
      "\n",
      "\n",
      "\n",
      "\n",
      "\n",
      "\n",
      "\n",
      "\n",
      "\n",
      "\n",
      "\n",
      "\n",
      "\n",
      "\n",
      "\n",
      "\n",
      "\n",
      "\n",
      "\n",
      "\n",
      "\n",
      "\n",
      "\n",
      "\n",
      "\n",
      "\n",
      "\n",
      "\n",
      "\n",
      "\n",
      "\n",
      "\n",
      "\n",
      "\n",
      "\n",
      "\n",
      "\n",
      "\n",
      "\n",
      "\n",
      "\n",
      "\n",
      "\n",
      "\n",
      "\n",
      "\n",
      "\n",
      "\n",
      "\n",
      "\n",
      "\n",
      "\n",
      "\n",
      "\n",
      "\n",
      "\n",
      "\n",
      "\n",
      "\n",
      "\n",
      "\n",
      "\n",
      "\n",
      "\n",
      "\n",
      "\n",
      "\n",
      "\n",
      "\n",
      "\n",
      "\n",
      "\n",
      "\n",
      "\n",
      "\n",
      "\n",
      "\n",
      "\n",
      "\n",
      "\n",
      "\n",
      "\n",
      "\n",
      "\n",
      "\n",
      "\n",
      "\n",
      "\n",
      "\n",
      "\n",
      "\n",
      "\n",
      "\n",
      "\n",
      "\n",
      "\n",
      "\n",
      "\n",
      "\n",
      "\n",
      "\n",
      "\n",
      "\n",
      "\n",
      "\n",
      "\n",
      "\n",
      "\n",
      "\n",
      "\n",
      "\n",
      "\n",
      "\n",
      "\n",
      "\n",
      "\n",
      "\n",
      "\n",
      "\n",
      "\n",
      "\n",
      "\n",
      "\n",
      "\n",
      "\n",
      "\n",
      "\n",
      "\n",
      "\n",
      "\n",
      "\n",
      "\n",
      "\n",
      "\n",
      "\n",
      "\n",
      "\n",
      "\n",
      "\n",
      "\n",
      "\n",
      "\n",
      "\n",
      "\n",
      "\n",
      "\n",
      "\n",
      "\n",
      "\n",
      "\n",
      "\n",
      "\n",
      "\n",
      "\n",
      "\n",
      "\n",
      "\n",
      "\n",
      "\n",
      "\n",
      "\n",
      "\n",
      "\n",
      "\n",
      "\n",
      "\n",
      "\n",
      "\n",
      "\n",
      "\n",
      "\n",
      "\n",
      "\n",
      "\n",
      "\n",
      "\n",
      "\n",
      "\n",
      "\n",
      "\n",
      "\n",
      "\n",
      "\n",
      "\n",
      "\n",
      "\n",
      "\n",
      "\n",
      "\n",
      "\n",
      "\n",
      "\n",
      "\n",
      "\n",
      "\n",
      "\n",
      "\n",
      "\n",
      "\n",
      "\n",
      "\n",
      "\n",
      "\n",
      "\n",
      "\n",
      "\n",
      "\n",
      "\n",
      "\n",
      "\n",
      "\n",
      "\n",
      "\n",
      "\n",
      "\n",
      "\n",
      "\n",
      "\n",
      "\n",
      "\n",
      "\n",
      "\n",
      "\n",
      "\n",
      "\n",
      "\n",
      "\n",
      "\n",
      "\n",
      "\n",
      "\n",
      "\n",
      "\n",
      "\n",
      "\n",
      "\n",
      "\n",
      "\n",
      "\n",
      "\n",
      "\n",
      "\n",
      "\n",
      "\n",
      "\n",
      "\n",
      "\n"
     ]
    }
   ],
   "source": [
    "# get name embedding\n",
    "# all info\n",
    "similarity_mde = []\n",
    "mde_embedding = sgram_mde\n",
    "threshold = 0.7\n",
    "similarity_mde_dsl = []\n",
    "percentage = 0.8\n",
    "for index, node in enumerate(ref_cls.cls_name):\n",
    "    cls = node.split()[-1].strip()  # get the class name, remove abstract key word\n",
    "\n",
    "    mde_emb_i = get_mde_embedding(cls, mde_embedding)\n",
    "    mde_emb_i_dsl = get_mde_embedding(ref_cls.cls_atr[node][\"dsl\"], mde_embedding)\n",
    "\n",
    "    pair = []\n",
    "    mde_pair = []\n",
    "    for j, stu_node in enumerate(stu_cls.cls_name):\n",
    "        cls = stu_node.split()[\n",
    "            -1\n",
    "        ].strip()  # get the class name, remove abstract key word\n",
    "        print()\n",
    "        mde_emb_j = get_mde_embedding(cls, mde_embedding)\n",
    "        mde_emb_j_dsl = get_mde_embedding(\n",
    "            stu_cls.cls_atr[stu_node][\"dsl\"], mde_embedding\n",
    "        )\n",
    "\n",
    "        mde_sim = cosine_distance(mde_emb_i, mde_emb_j)\n",
    "        mde_sim_dsl = cosine_distance(mde_emb_i_dsl, mde_emb_j_dsl)\n",
    "\n",
    "        mde_pair.append(mde_sim * percentage + (1 - percentage) * mde_sim_dsl)\n",
    "\n",
    "    # apply third quartile\n",
    "    similarity_mde.append(mde_pair)\n",
    "\n",
    "dict_sim_word = {}\n",
    "for i in range(len(ref_cls.cls_name)):\n",
    "    dict_sim_word[ref_cls.cls_name[i]] = {}\n",
    "    for j in range(len(stu_cls.cls_name)):\n",
    "        dict_sim_word[ref_cls.cls_name[i]][stu_cls.cls_name[j]] = similarity_mde[i][j]"
   ]
  },
  {
   "cell_type": "code",
   "execution_count": 1214,
   "metadata": {},
   "outputs": [
    {
     "name": "stdout",
     "output_type": "stream",
     "text": [
      "RoomType\n",
      "update\n",
      "BillingInformation\n",
      "update\n"
     ]
    }
   ],
   "source": [
    "for key in dict_sim_word:\n",
    "    exact_match = False\n",
    "    exact_cls = \"\"\n",
    "    for cls_2 in dict_sim_word[key]:\n",
    "        if dict_sim_word[key][cls_2] > 0.99:\n",
    "            exact_match = True\n",
    "            exact_cls = cls_2\n",
    "            print(cls_2)\n",
    "            break\n",
    "\n",
    "    if exact_match:  # keep the exact match, others to 0\n",
    "        print(\"update\")\n",
    "        for cls_2 in dict_sim_word[key]:\n",
    "            if cls_2 != exact_cls:\n",
    "                dict_sim_word[key][cls_2] = 0\n",
    "\n",
    "similarity_mde = []\n",
    "for i in dict_sim_word:\n",
    "    tmp = []\n",
    "    for j in dict_sim_word[i]:\n",
    "        tmp.append(dict_sim_word[i][j])\n",
    "\n",
    "    similarity_mde.append(tmp)"
   ]
  },
  {
   "cell_type": "code",
   "execution_count": 1215,
   "metadata": {
    "id": "eWumU7AcQqKv"
   },
   "outputs": [
    {
     "data": {
      "text/html": [
       "<div>\n",
       "<style scoped>\n",
       "    .dataframe tbody tr th:only-of-type {\n",
       "        vertical-align: middle;\n",
       "    }\n",
       "\n",
       "    .dataframe tbody tr th {\n",
       "        vertical-align: top;\n",
       "    }\n",
       "\n",
       "    .dataframe thead th {\n",
       "        text-align: right;\n",
       "    }\n",
       "</style>\n",
       "<table border=\"1\" class=\"dataframe\">\n",
       "  <thead>\n",
       "    <tr style=\"text-align: right;\">\n",
       "      <th></th>\n",
       "      <th>BookingType</th>\n",
       "      <th>RoomType</th>\n",
       "      <th>HotelRating</th>\n",
       "      <th>TravelPreferenceType</th>\n",
       "      <th>HotelChain</th>\n",
       "      <th>Traveller</th>\n",
       "      <th>BillingInformation</th>\n",
       "      <th>Hotel</th>\n",
       "      <th>abstract Booking</th>\n",
       "      <th>FinalizedBooking</th>\n",
       "      <th>AccommodationDeal</th>\n",
       "      <th>Address</th>\n",
       "      <th>ReliabilityRating</th>\n",
       "      <th>Competitor</th>\n",
       "      <th>FinancialCompensation</th>\n",
       "      <th>CreditCard</th>\n",
       "    </tr>\n",
       "  </thead>\n",
       "  <tbody>\n",
       "    <tr>\n",
       "      <th>RoomType</th>\n",
       "      <td>0.000000</td>\n",
       "      <td>1.000000</td>\n",
       "      <td>0.000000</td>\n",
       "      <td>0.000000</td>\n",
       "      <td>0.000000</td>\n",
       "      <td>0.000000</td>\n",
       "      <td>0.000000</td>\n",
       "      <td>0.000000</td>\n",
       "      <td>0.000000</td>\n",
       "      <td>0.000000</td>\n",
       "      <td>0.000000</td>\n",
       "      <td>0.000000</td>\n",
       "      <td>0.000000</td>\n",
       "      <td>0.000000</td>\n",
       "      <td>0.000000</td>\n",
       "      <td>0.000000</td>\n",
       "    </tr>\n",
       "    <tr>\n",
       "      <th>BookingStatus</th>\n",
       "      <td>0.785630</td>\n",
       "      <td>0.417276</td>\n",
       "      <td>0.432985</td>\n",
       "      <td>0.504529</td>\n",
       "      <td>0.401412</td>\n",
       "      <td>0.390663</td>\n",
       "      <td>0.446086</td>\n",
       "      <td>0.460196</td>\n",
       "      <td>0.804453</td>\n",
       "      <td>0.711914</td>\n",
       "      <td>0.352551</td>\n",
       "      <td>0.273993</td>\n",
       "      <td>0.239968</td>\n",
       "      <td>0.224188</td>\n",
       "      <td>0.372419</td>\n",
       "      <td>0.366979</td>\n",
       "    </tr>\n",
       "    <tr>\n",
       "      <th>PaymentType</th>\n",
       "      <td>0.622546</td>\n",
       "      <td>0.403901</td>\n",
       "      <td>0.344114</td>\n",
       "      <td>0.514873</td>\n",
       "      <td>0.373793</td>\n",
       "      <td>0.326900</td>\n",
       "      <td>0.515993</td>\n",
       "      <td>0.345942</td>\n",
       "      <td>0.485904</td>\n",
       "      <td>0.431043</td>\n",
       "      <td>0.374407</td>\n",
       "      <td>0.239851</td>\n",
       "      <td>0.291927</td>\n",
       "      <td>0.230998</td>\n",
       "      <td>0.466152</td>\n",
       "      <td>0.549540</td>\n",
       "    </tr>\n",
       "    <tr>\n",
       "      <th>HotelBookingManager</th>\n",
       "      <td>0.758421</td>\n",
       "      <td>0.411749</td>\n",
       "      <td>0.623338</td>\n",
       "      <td>0.484151</td>\n",
       "      <td>0.718045</td>\n",
       "      <td>0.398425</td>\n",
       "      <td>0.459684</td>\n",
       "      <td>0.780845</td>\n",
       "      <td>0.762535</td>\n",
       "      <td>0.657671</td>\n",
       "      <td>0.390459</td>\n",
       "      <td>0.241340</td>\n",
       "      <td>0.210820</td>\n",
       "      <td>0.257270</td>\n",
       "      <td>0.400115</td>\n",
       "      <td>0.351323</td>\n",
       "    </tr>\n",
       "    <tr>\n",
       "      <th>HotelChain</th>\n",
       "      <td>0.436099</td>\n",
       "      <td>0.311024</td>\n",
       "      <td>0.671015</td>\n",
       "      <td>0.358818</td>\n",
       "      <td>0.948059</td>\n",
       "      <td>0.355124</td>\n",
       "      <td>0.332774</td>\n",
       "      <td>0.835569</td>\n",
       "      <td>0.418349</td>\n",
       "      <td>0.391240</td>\n",
       "      <td>0.351197</td>\n",
       "      <td>0.191675</td>\n",
       "      <td>0.268252</td>\n",
       "      <td>0.261125</td>\n",
       "      <td>0.314199</td>\n",
       "      <td>0.257691</td>\n",
       "    </tr>\n",
       "    <tr>\n",
       "      <th>Traveller</th>\n",
       "      <td>0.319700</td>\n",
       "      <td>0.230137</td>\n",
       "      <td>0.404718</td>\n",
       "      <td>0.406869</td>\n",
       "      <td>0.391761</td>\n",
       "      <td>0.942121</td>\n",
       "      <td>0.417029</td>\n",
       "      <td>0.430827</td>\n",
       "      <td>0.414119</td>\n",
       "      <td>0.390255</td>\n",
       "      <td>0.341706</td>\n",
       "      <td>0.281122</td>\n",
       "      <td>0.293520</td>\n",
       "      <td>0.226587</td>\n",
       "      <td>0.278660</td>\n",
       "      <td>0.329117</td>\n",
       "    </tr>\n",
       "    <tr>\n",
       "      <th>BillingInformation</th>\n",
       "      <td>0.000000</td>\n",
       "      <td>0.000000</td>\n",
       "      <td>0.000000</td>\n",
       "      <td>0.000000</td>\n",
       "      <td>0.000000</td>\n",
       "      <td>0.000000</td>\n",
       "      <td>0.994029</td>\n",
       "      <td>0.000000</td>\n",
       "      <td>0.000000</td>\n",
       "      <td>0.000000</td>\n",
       "      <td>0.000000</td>\n",
       "      <td>0.000000</td>\n",
       "      <td>0.000000</td>\n",
       "      <td>0.000000</td>\n",
       "      <td>0.000000</td>\n",
       "      <td>0.000000</td>\n",
       "    </tr>\n",
       "    <tr>\n",
       "      <th>TravelPreference</th>\n",
       "      <td>0.435831</td>\n",
       "      <td>0.280731</td>\n",
       "      <td>0.462840</td>\n",
       "      <td>0.892578</td>\n",
       "      <td>0.392845</td>\n",
       "      <td>0.456590</td>\n",
       "      <td>0.396084</td>\n",
       "      <td>0.433372</td>\n",
       "      <td>0.480861</td>\n",
       "      <td>0.440305</td>\n",
       "      <td>0.462135</td>\n",
       "      <td>0.212040</td>\n",
       "      <td>0.399818</td>\n",
       "      <td>0.199472</td>\n",
       "      <td>0.382340</td>\n",
       "      <td>0.309641</td>\n",
       "    </tr>\n",
       "    <tr>\n",
       "      <th>Hotel</th>\n",
       "      <td>0.473200</td>\n",
       "      <td>0.373558</td>\n",
       "      <td>0.732485</td>\n",
       "      <td>0.382715</td>\n",
       "      <td>0.825314</td>\n",
       "      <td>0.362693</td>\n",
       "      <td>0.388960</td>\n",
       "      <td>0.973693</td>\n",
       "      <td>0.536912</td>\n",
       "      <td>0.430001</td>\n",
       "      <td>0.444977</td>\n",
       "      <td>0.318257</td>\n",
       "      <td>0.224692</td>\n",
       "      <td>0.272597</td>\n",
       "      <td>0.293937</td>\n",
       "      <td>0.315669</td>\n",
       "    </tr>\n",
       "    <tr>\n",
       "      <th>abstract Offer</th>\n",
       "      <td>0.226193</td>\n",
       "      <td>0.191393</td>\n",
       "      <td>0.224007</td>\n",
       "      <td>0.273193</td>\n",
       "      <td>0.246896</td>\n",
       "      <td>0.225435</td>\n",
       "      <td>0.271102</td>\n",
       "      <td>0.245606</td>\n",
       "      <td>0.217092</td>\n",
       "      <td>0.199658</td>\n",
       "      <td>0.285921</td>\n",
       "      <td>0.279989</td>\n",
       "      <td>0.142933</td>\n",
       "      <td>0.422509</td>\n",
       "      <td>0.325313</td>\n",
       "      <td>0.182931</td>\n",
       "    </tr>\n",
       "    <tr>\n",
       "      <th>SpecialOffer</th>\n",
       "      <td>0.290462</td>\n",
       "      <td>0.225495</td>\n",
       "      <td>0.198744</td>\n",
       "      <td>0.321118</td>\n",
       "      <td>0.240082</td>\n",
       "      <td>0.232760</td>\n",
       "      <td>0.312833</td>\n",
       "      <td>0.214194</td>\n",
       "      <td>0.238746</td>\n",
       "      <td>0.231801</td>\n",
       "      <td>0.352744</td>\n",
       "      <td>0.258983</td>\n",
       "      <td>0.116865</td>\n",
       "      <td>0.388113</td>\n",
       "      <td>0.307515</td>\n",
       "      <td>0.197140</td>\n",
       "    </tr>\n",
       "    <tr>\n",
       "      <th>RegularOffer</th>\n",
       "      <td>0.232016</td>\n",
       "      <td>0.231364</td>\n",
       "      <td>0.235991</td>\n",
       "      <td>0.306749</td>\n",
       "      <td>0.243343</td>\n",
       "      <td>0.229573</td>\n",
       "      <td>0.246007</td>\n",
       "      <td>0.230840</td>\n",
       "      <td>0.182668</td>\n",
       "      <td>0.192383</td>\n",
       "      <td>0.303288</td>\n",
       "      <td>0.243533</td>\n",
       "      <td>0.144427</td>\n",
       "      <td>0.368331</td>\n",
       "      <td>0.317610</td>\n",
       "      <td>0.172861</td>\n",
       "    </tr>\n",
       "    <tr>\n",
       "      <th>TravelSearch</th>\n",
       "      <td>0.441793</td>\n",
       "      <td>0.202412</td>\n",
       "      <td>0.398285</td>\n",
       "      <td>0.650406</td>\n",
       "      <td>0.414305</td>\n",
       "      <td>0.424948</td>\n",
       "      <td>0.356185</td>\n",
       "      <td>0.427380</td>\n",
       "      <td>0.458936</td>\n",
       "      <td>0.427342</td>\n",
       "      <td>0.403413</td>\n",
       "      <td>0.195942</td>\n",
       "      <td>0.253701</td>\n",
       "      <td>0.190304</td>\n",
       "      <td>0.313255</td>\n",
       "      <td>0.234091</td>\n",
       "    </tr>\n",
       "    <tr>\n",
       "      <th>SearchInfo</th>\n",
       "      <td>0.306503</td>\n",
       "      <td>0.216570</td>\n",
       "      <td>0.322235</td>\n",
       "      <td>0.405150</td>\n",
       "      <td>0.307538</td>\n",
       "      <td>0.300398</td>\n",
       "      <td>0.353101</td>\n",
       "      <td>0.318236</td>\n",
       "      <td>0.300158</td>\n",
       "      <td>0.303190</td>\n",
       "      <td>0.292972</td>\n",
       "      <td>0.200954</td>\n",
       "      <td>0.272380</td>\n",
       "      <td>0.230264</td>\n",
       "      <td>0.253191</td>\n",
       "      <td>0.202967</td>\n",
       "    </tr>\n",
       "    <tr>\n",
       "      <th>RoomAvailability</th>\n",
       "      <td>0.383763</td>\n",
       "      <td>0.741935</td>\n",
       "      <td>0.444618</td>\n",
       "      <td>0.368945</td>\n",
       "      <td>0.399228</td>\n",
       "      <td>0.313826</td>\n",
       "      <td>0.376465</td>\n",
       "      <td>0.446259</td>\n",
       "      <td>0.400254</td>\n",
       "      <td>0.330962</td>\n",
       "      <td>0.332667</td>\n",
       "      <td>0.253745</td>\n",
       "      <td>0.385847</td>\n",
       "      <td>0.268236</td>\n",
       "      <td>0.252679</td>\n",
       "      <td>0.276218</td>\n",
       "    </tr>\n",
       "    <tr>\n",
       "      <th>abstract TripInfo</th>\n",
       "      <td>0.409588</td>\n",
       "      <td>0.309694</td>\n",
       "      <td>0.384402</td>\n",
       "      <td>0.472636</td>\n",
       "      <td>0.422826</td>\n",
       "      <td>0.357279</td>\n",
       "      <td>0.433055</td>\n",
       "      <td>0.428680</td>\n",
       "      <td>0.467479</td>\n",
       "      <td>0.411584</td>\n",
       "      <td>0.362930</td>\n",
       "      <td>0.211755</td>\n",
       "      <td>0.287193</td>\n",
       "      <td>0.229331</td>\n",
       "      <td>0.352636</td>\n",
       "      <td>0.343207</td>\n",
       "    </tr>\n",
       "    <tr>\n",
       "      <th>BookingInfo</th>\n",
       "      <td>0.725087</td>\n",
       "      <td>0.358536</td>\n",
       "      <td>0.421119</td>\n",
       "      <td>0.488528</td>\n",
       "      <td>0.424650</td>\n",
       "      <td>0.383401</td>\n",
       "      <td>0.485886</td>\n",
       "      <td>0.471741</td>\n",
       "      <td>0.742337</td>\n",
       "      <td>0.629549</td>\n",
       "      <td>0.343273</td>\n",
       "      <td>0.199100</td>\n",
       "      <td>0.229424</td>\n",
       "      <td>0.226626</td>\n",
       "      <td>0.344662</td>\n",
       "      <td>0.331624</td>\n",
       "    </tr>\n",
       "    <tr>\n",
       "      <th>Booking</th>\n",
       "      <td>0.880404</td>\n",
       "      <td>0.379004</td>\n",
       "      <td>0.419689</td>\n",
       "      <td>0.471201</td>\n",
       "      <td>0.447646</td>\n",
       "      <td>0.397831</td>\n",
       "      <td>0.457696</td>\n",
       "      <td>0.541173</td>\n",
       "      <td>0.972920</td>\n",
       "      <td>0.790583</td>\n",
       "      <td>0.372907</td>\n",
       "      <td>0.221729</td>\n",
       "      <td>0.173614</td>\n",
       "      <td>0.223039</td>\n",
       "      <td>0.347057</td>\n",
       "      <td>0.392280</td>\n",
       "    </tr>\n",
       "  </tbody>\n",
       "</table>\n",
       "</div>"
      ],
      "text/plain": [
       "                     BookingType  RoomType  HotelRating  TravelPreferenceType  \\\n",
       "RoomType                0.000000  1.000000     0.000000              0.000000   \n",
       "BookingStatus           0.785630  0.417276     0.432985              0.504529   \n",
       "PaymentType             0.622546  0.403901     0.344114              0.514873   \n",
       "HotelBookingManager     0.758421  0.411749     0.623338              0.484151   \n",
       "HotelChain              0.436099  0.311024     0.671015              0.358818   \n",
       "Traveller               0.319700  0.230137     0.404718              0.406869   \n",
       "BillingInformation      0.000000  0.000000     0.000000              0.000000   \n",
       "TravelPreference        0.435831  0.280731     0.462840              0.892578   \n",
       "Hotel                   0.473200  0.373558     0.732485              0.382715   \n",
       "abstract Offer          0.226193  0.191393     0.224007              0.273193   \n",
       "SpecialOffer            0.290462  0.225495     0.198744              0.321118   \n",
       "RegularOffer            0.232016  0.231364     0.235991              0.306749   \n",
       "TravelSearch            0.441793  0.202412     0.398285              0.650406   \n",
       "SearchInfo              0.306503  0.216570     0.322235              0.405150   \n",
       "RoomAvailability        0.383763  0.741935     0.444618              0.368945   \n",
       "abstract TripInfo       0.409588  0.309694     0.384402              0.472636   \n",
       "BookingInfo             0.725087  0.358536     0.421119              0.488528   \n",
       "Booking                 0.880404  0.379004     0.419689              0.471201   \n",
       "\n",
       "                     HotelChain  Traveller  BillingInformation     Hotel  \\\n",
       "RoomType               0.000000   0.000000            0.000000  0.000000   \n",
       "BookingStatus          0.401412   0.390663            0.446086  0.460196   \n",
       "PaymentType            0.373793   0.326900            0.515993  0.345942   \n",
       "HotelBookingManager    0.718045   0.398425            0.459684  0.780845   \n",
       "HotelChain             0.948059   0.355124            0.332774  0.835569   \n",
       "Traveller              0.391761   0.942121            0.417029  0.430827   \n",
       "BillingInformation     0.000000   0.000000            0.994029  0.000000   \n",
       "TravelPreference       0.392845   0.456590            0.396084  0.433372   \n",
       "Hotel                  0.825314   0.362693            0.388960  0.973693   \n",
       "abstract Offer         0.246896   0.225435            0.271102  0.245606   \n",
       "SpecialOffer           0.240082   0.232760            0.312833  0.214194   \n",
       "RegularOffer           0.243343   0.229573            0.246007  0.230840   \n",
       "TravelSearch           0.414305   0.424948            0.356185  0.427380   \n",
       "SearchInfo             0.307538   0.300398            0.353101  0.318236   \n",
       "RoomAvailability       0.399228   0.313826            0.376465  0.446259   \n",
       "abstract TripInfo      0.422826   0.357279            0.433055  0.428680   \n",
       "BookingInfo            0.424650   0.383401            0.485886  0.471741   \n",
       "Booking                0.447646   0.397831            0.457696  0.541173   \n",
       "\n",
       "                     abstract Booking  FinalizedBooking  AccommodationDeal  \\\n",
       "RoomType                     0.000000          0.000000           0.000000   \n",
       "BookingStatus                0.804453          0.711914           0.352551   \n",
       "PaymentType                  0.485904          0.431043           0.374407   \n",
       "HotelBookingManager          0.762535          0.657671           0.390459   \n",
       "HotelChain                   0.418349          0.391240           0.351197   \n",
       "Traveller                    0.414119          0.390255           0.341706   \n",
       "BillingInformation           0.000000          0.000000           0.000000   \n",
       "TravelPreference             0.480861          0.440305           0.462135   \n",
       "Hotel                        0.536912          0.430001           0.444977   \n",
       "abstract Offer               0.217092          0.199658           0.285921   \n",
       "SpecialOffer                 0.238746          0.231801           0.352744   \n",
       "RegularOffer                 0.182668          0.192383           0.303288   \n",
       "TravelSearch                 0.458936          0.427342           0.403413   \n",
       "SearchInfo                   0.300158          0.303190           0.292972   \n",
       "RoomAvailability             0.400254          0.330962           0.332667   \n",
       "abstract TripInfo            0.467479          0.411584           0.362930   \n",
       "BookingInfo                  0.742337          0.629549           0.343273   \n",
       "Booking                      0.972920          0.790583           0.372907   \n",
       "\n",
       "                      Address  ReliabilityRating  Competitor  \\\n",
       "RoomType             0.000000           0.000000    0.000000   \n",
       "BookingStatus        0.273993           0.239968    0.224188   \n",
       "PaymentType          0.239851           0.291927    0.230998   \n",
       "HotelBookingManager  0.241340           0.210820    0.257270   \n",
       "HotelChain           0.191675           0.268252    0.261125   \n",
       "Traveller            0.281122           0.293520    0.226587   \n",
       "BillingInformation   0.000000           0.000000    0.000000   \n",
       "TravelPreference     0.212040           0.399818    0.199472   \n",
       "Hotel                0.318257           0.224692    0.272597   \n",
       "abstract Offer       0.279989           0.142933    0.422509   \n",
       "SpecialOffer         0.258983           0.116865    0.388113   \n",
       "RegularOffer         0.243533           0.144427    0.368331   \n",
       "TravelSearch         0.195942           0.253701    0.190304   \n",
       "SearchInfo           0.200954           0.272380    0.230264   \n",
       "RoomAvailability     0.253745           0.385847    0.268236   \n",
       "abstract TripInfo    0.211755           0.287193    0.229331   \n",
       "BookingInfo          0.199100           0.229424    0.226626   \n",
       "Booking              0.221729           0.173614    0.223039   \n",
       "\n",
       "                     FinancialCompensation  CreditCard  \n",
       "RoomType                          0.000000    0.000000  \n",
       "BookingStatus                     0.372419    0.366979  \n",
       "PaymentType                       0.466152    0.549540  \n",
       "HotelBookingManager               0.400115    0.351323  \n",
       "HotelChain                        0.314199    0.257691  \n",
       "Traveller                         0.278660    0.329117  \n",
       "BillingInformation                0.000000    0.000000  \n",
       "TravelPreference                  0.382340    0.309641  \n",
       "Hotel                             0.293937    0.315669  \n",
       "abstract Offer                    0.325313    0.182931  \n",
       "SpecialOffer                      0.307515    0.197140  \n",
       "RegularOffer                      0.317610    0.172861  \n",
       "TravelSearch                      0.313255    0.234091  \n",
       "SearchInfo                        0.253191    0.202967  \n",
       "RoomAvailability                  0.252679    0.276218  \n",
       "abstract TripInfo                 0.352636    0.343207  \n",
       "BookingInfo                       0.344662    0.331624  \n",
       "Booking                           0.347057    0.392280  "
      ]
     },
     "execution_count": 1215,
     "metadata": {},
     "output_type": "execute_result"
    }
   ],
   "source": [
    "import pandas as pd\n",
    "\n",
    "df = pd.DataFrame(index=reference_class, columns=stu_class, data=similarity_mde)\n",
    "df"
   ]
  },
  {
   "cell_type": "markdown",
   "metadata": {
    "id": "qUHDc0UMRhZ4"
   },
   "source": [
    "### Stage 1.1.1 Mapping (enum / regular + abstract)"
   ]
  },
  {
   "cell_type": "code",
   "execution_count": 1216,
   "metadata": {
    "id": "jjiO8XGnRmJ-"
   },
   "outputs": [],
   "source": [
    "ref_enum = []\n",
    "ref_reg_cls = []\n",
    "stu_enum = []\n",
    "stu_reg_cls = []\n",
    "\n",
    "for enum in ref_cls.cls_name:\n",
    "    if ref_cls.cls_atr[enum][\"type\"] == \"enum\":\n",
    "        ref_enum.append(enum)\n",
    "    else:\n",
    "        ref_reg_cls.append(enum)\n",
    "\n",
    "for enum in stu_cls.cls_name:\n",
    "    if stu_cls.cls_atr[enum][\"type\"] == \"enum\":\n",
    "        stu_enum.append(enum)\n",
    "    else:\n",
    "        stu_reg_cls.append(enum)"
   ]
  },
  {
   "cell_type": "code",
   "execution_count": 1217,
   "metadata": {
    "id": "fJH4xn6wTUxJ"
   },
   "outputs": [
    {
     "name": "stdout",
     "output_type": "stream",
     "text": [
      "{'RoomType': {'BookingType': 0, 'RoomType': 0.9999999999999999, 'HotelRating': 0, 'TravelPreferenceType': 0, 'HotelChain': 0, 'Traveller': 0, 'BillingInformation': 0, 'Hotel': 0, 'abstract Booking': 0, 'FinalizedBooking': 0, 'AccommodationDeal': 0, 'Address': 0, 'ReliabilityRating': 0, 'Competitor': 0, 'FinancialCompensation': 0, 'CreditCard': 0}, 'BookingStatus': {'BookingType': 0.7856302073852954, 'RoomType': 0.4172764538666226, 'HotelRating': 0.4329851623888572, 'TravelPreferenceType': 0.5045294991843909, 'HotelChain': 0.40141182681586185, 'Traveller': 0.39066345901899024, 'BillingInformation': 0.4460855052241669, 'Hotel': 0.46019591977707885, 'abstract Booking': 0.8044532345330364, 'FinalizedBooking': 0.7119143183228693, 'AccommodationDeal': 0.3525505982720988, 'Address': 0.27399327525368056, 'ReliabilityRating': 0.23996770451147917, 'Competitor': 0.2241876177027491, 'FinancialCompensation': 0.3724186288381438, 'CreditCard': 0.3669788775827373}, 'PaymentType': {'BookingType': 0.6225457282295817, 'RoomType': 0.4039014138339695, 'HotelRating': 0.3441142700226549, 'TravelPreferenceType': 0.5148730934889454, 'HotelChain': 0.3737931267554596, 'Traveller': 0.3268998421119762, 'BillingInformation': 0.5159934107937901, 'Hotel': 0.3459416375924459, 'abstract Booking': 0.4859041148774747, 'FinalizedBooking': 0.4310430814392586, 'AccommodationDeal': 0.3744067778878309, 'Address': 0.23985096393637556, 'ReliabilityRating': 0.29192734502933154, 'Competitor': 0.23099811717204738, 'FinancialCompensation': 0.4661518372418035, 'CreditCard': 0.5495400887199574}, 'HotelBookingManager': {'BookingType': 0.7584211064550133, 'RoomType': 0.41174873818418706, 'HotelRating': 0.623337731984811, 'TravelPreferenceType': 0.4841510518739544, 'HotelChain': 0.718045277742825, 'Traveller': 0.3984246045851277, 'BillingInformation': 0.4596838197150833, 'Hotel': 0.7808450589090221, 'abstract Booking': 0.7625354744297282, 'FinalizedBooking': 0.657670561800266, 'AccommodationDeal': 0.3904589019672685, 'Address': 0.2413400466436501, 'ReliabilityRating': 0.21081986885015094, 'Competitor': 0.2572697796242903, 'FinancialCompensation': 0.4001150224368436, 'CreditCard': 0.35132253357534227}, 'HotelChain': {'BookingType': 0.43609915652844555, 'RoomType': 0.3110244479203478, 'HotelRating': 0.6710153311632564, 'TravelPreferenceType': 0.3588184079589851, 'HotelChain': 0.9480588249536864, 'Traveller': 0.35512403750872823, 'BillingInformation': 0.3327740809863302, 'Hotel': 0.8355689571569076, 'abstract Booking': 0.41834916941950456, 'FinalizedBooking': 0.39123995920900967, 'AccommodationDeal': 0.3511972819773079, 'Address': 0.19167499077219138, 'ReliabilityRating': 0.2682522411847657, 'Competitor': 0.26112546652525964, 'FinancialCompensation': 0.3141985044319714, 'CreditCard': 0.2576906823859842}, 'Traveller': {'BookingType': 0.319699650363395, 'RoomType': 0.23013657298724932, 'HotelRating': 0.4047178149820058, 'TravelPreferenceType': 0.40686864435859527, 'HotelChain': 0.39176093783760857, 'Traveller': 0.9421209704366807, 'BillingInformation': 0.41702895034808946, 'Hotel': 0.4308266380890392, 'abstract Booking': 0.4141188814108234, 'FinalizedBooking': 0.39025464446833247, 'AccommodationDeal': 0.3417064033058451, 'Address': 0.28112219730640675, 'ReliabilityRating': 0.2935200506165239, 'Competitor': 0.22658724535133765, 'FinancialCompensation': 0.2786597496454133, 'CreditCard': 0.32911727678504016}, 'BillingInformation': {'BookingType': 0, 'RoomType': 0, 'HotelRating': 0, 'TravelPreferenceType': 0, 'HotelChain': 0, 'Traveller': 0, 'BillingInformation': 0.9940285542912167, 'Hotel': 0, 'abstract Booking': 0, 'FinalizedBooking': 0, 'AccommodationDeal': 0, 'Address': 0, 'ReliabilityRating': 0, 'Competitor': 0, 'FinancialCompensation': 0, 'CreditCard': 0}, 'TravelPreference': {'BookingType': 0.4358309511066349, 'RoomType': 0.2807306780504749, 'HotelRating': 0.46283959221921633, 'TravelPreferenceType': 0.8925779205406952, 'HotelChain': 0.3928450840963557, 'Traveller': 0.45658965510485827, 'BillingInformation': 0.3960836031150389, 'Hotel': 0.4333717264405307, 'abstract Booking': 0.4808613943645702, 'FinalizedBooking': 0.44030485269098674, 'AccommodationDeal': 0.4621353904578811, 'Address': 0.21203973151991964, 'ReliabilityRating': 0.3998181659590173, 'Competitor': 0.19947242065532889, 'FinancialCompensation': 0.3823397376903383, 'CreditCard': 0.3096408349000985}, 'Hotel': {'BookingType': 0.47320037587404923, 'RoomType': 0.3735580395262369, 'HotelRating': 0.7324851216725314, 'TravelPreferenceType': 0.38271487416037364, 'HotelChain': 0.8253135684444579, 'Traveller': 0.3626932082662487, 'BillingInformation': 0.38895973318214994, 'Hotel': 0.9736932216324639, 'abstract Booking': 0.5369121240634959, 'FinalizedBooking': 0.43000064296516827, 'AccommodationDeal': 0.4449766494345111, 'Address': 0.3182566490493174, 'ReliabilityRating': 0.2246920401016654, 'Competitor': 0.2725971692345722, 'FinancialCompensation': 0.2939367535961703, 'CreditCard': 0.3156692371678088}, 'abstract Offer': {'BookingType': 0.22619343108701895, 'RoomType': 0.19139312460792712, 'HotelRating': 0.22400668692568868, 'TravelPreferenceType': 0.27319263447819914, 'HotelChain': 0.2468959658608024, 'Traveller': 0.22543538818170672, 'BillingInformation': 0.2711019200058459, 'Hotel': 0.24560643009881838, 'abstract Booking': 0.21709190323582833, 'FinalizedBooking': 0.19965844727985757, 'AccommodationDeal': 0.2859205154044368, 'Address': 0.2799889902318333, 'ReliabilityRating': 0.1429333022640238, 'Competitor': 0.42250864668513866, 'FinancialCompensation': 0.32531319114819374, 'CreditCard': 0.18293149448369872}, 'SpecialOffer': {'BookingType': 0.2904615054797043, 'RoomType': 0.22549495327102437, 'HotelRating': 0.19874378696998674, 'TravelPreferenceType': 0.3211184145143838, 'HotelChain': 0.24008194752908502, 'Traveller': 0.23276047201176048, 'BillingInformation': 0.312832598553566, 'Hotel': 0.2141944012301244, 'abstract Booking': 0.23874622554661715, 'FinalizedBooking': 0.23180111692877908, 'AccommodationDeal': 0.35274422394387134, 'Address': 0.2589832901956263, 'ReliabilityRating': 0.11686466467918724, 'Competitor': 0.3881128594944666, 'FinancialCompensation': 0.3075151579517951, 'CreditCard': 0.19713951650900505}, 'RegularOffer': {'BookingType': 0.2320160361422184, 'RoomType': 0.23136419599959518, 'HotelRating': 0.23599122906443154, 'TravelPreferenceType': 0.30674918886906977, 'HotelChain': 0.24334298487029676, 'Traveller': 0.22957290430320682, 'BillingInformation': 0.2460068238996275, 'Hotel': 0.23083974719338546, 'abstract Booking': 0.18266830213217616, 'FinalizedBooking': 0.1923829080558, 'AccommodationDeal': 0.3032878426479145, 'Address': 0.24353329463901857, 'ReliabilityRating': 0.144426659312574, 'Competitor': 0.36833106363446216, 'FinancialCompensation': 0.31761049313012835, 'CreditCard': 0.17286065049607088}, 'TravelSearch': {'BookingType': 0.4417933377507429, 'RoomType': 0.20241168349835406, 'HotelRating': 0.39828463383132523, 'TravelPreferenceType': 0.6504055847008079, 'HotelChain': 0.41430456129588467, 'Traveller': 0.42494751743247305, 'BillingInformation': 0.35618496693497737, 'Hotel': 0.42738019052592113, 'abstract Booking': 0.4589355612358462, 'FinalizedBooking': 0.42734163124052343, 'AccommodationDeal': 0.403412791161963, 'Address': 0.1959419187254362, 'ReliabilityRating': 0.2537005200997578, 'Competitor': 0.19030375273602995, 'FinancialCompensation': 0.31325492202464056, 'CreditCard': 0.2340912765501619}, 'SearchInfo': {'BookingType': 0.30650315070921197, 'RoomType': 0.21656966504684094, 'HotelRating': 0.3222350642854998, 'TravelPreferenceType': 0.40515011790935274, 'HotelChain': 0.30753781612599634, 'Traveller': 0.30039839622947606, 'BillingInformation': 0.3531011426929419, 'Hotel': 0.318235529958737, 'abstract Booking': 0.3001584418085482, 'FinalizedBooking': 0.3031902359469062, 'AccommodationDeal': 0.29297239993300683, 'Address': 0.2009541586548894, 'ReliabilityRating': 0.2723800548960623, 'Competitor': 0.2302635265876431, 'FinancialCompensation': 0.2531914224084944, 'CreditCard': 0.20296747598721854}, 'RoomAvailability': {'BookingType': 0.3837625821582669, 'RoomType': 0.7419351796255418, 'HotelRating': 0.4446181817093328, 'TravelPreferenceType': 0.36894530102540685, 'HotelChain': 0.3992276010873623, 'Traveller': 0.31382586962522685, 'BillingInformation': 0.37646483355036653, 'Hotel': 0.446259101976762, 'abstract Booking': 0.4002542559341903, 'FinalizedBooking': 0.3309622329519272, 'AccommodationDeal': 0.3326670527171987, 'Address': 0.2537454561508095, 'ReliabilityRating': 0.38584709192081296, 'Competitor': 0.26823626125831407, 'FinancialCompensation': 0.25267912172877244, 'CreditCard': 0.2762181934449879}, 'abstract TripInfo': {'BookingType': 0.40958782923640336, 'RoomType': 0.30969441045557217, 'HotelRating': 0.38440167497665434, 'TravelPreferenceType': 0.472636257577784, 'HotelChain': 0.4228258129022195, 'Traveller': 0.35727931148103365, 'BillingInformation': 0.43305531256040586, 'Hotel': 0.4286798767436049, 'abstract Booking': 0.46747940556872214, 'FinalizedBooking': 0.4115840524087289, 'AccommodationDeal': 0.36293006695641494, 'Address': 0.21175519220369637, 'ReliabilityRating': 0.2871933418733008, 'Competitor': 0.22933122992345373, 'FinancialCompensation': 0.35263564186790686, 'CreditCard': 0.3432067818408089}, 'BookingInfo': {'BookingType': 0.7250872918018111, 'RoomType': 0.3585357176662239, 'HotelRating': 0.42111861982703286, 'TravelPreferenceType': 0.4885280955967029, 'HotelChain': 0.42465001845273265, 'Traveller': 0.383400695434187, 'BillingInformation': 0.4858863073299899, 'Hotel': 0.4717414113942273, 'abstract Booking': 0.7423365300267184, 'FinalizedBooking': 0.6295487612194288, 'AccommodationDeal': 0.3432734143655971, 'Address': 0.19910034952754385, 'ReliabilityRating': 0.22942397118180793, 'Competitor': 0.22662594763989552, 'FinancialCompensation': 0.34466155886347616, 'CreditCard': 0.33162407427839286}, 'Booking': {'BookingType': 0.8804035779550514, 'RoomType': 0.37900408590152046, 'HotelRating': 0.4196885620231391, 'TravelPreferenceType': 0.4712009853676082, 'HotelChain': 0.44764569120898307, 'Traveller': 0.3978309169061281, 'BillingInformation': 0.4576957008803604, 'Hotel': 0.5411732974107414, 'abstract Booking': 0.9729201038810308, 'FinalizedBooking': 0.7905830230231181, 'AccommodationDeal': 0.37290733202296056, 'Address': 0.2217294207207222, 'ReliabilityRating': 0.17361360537150206, 'Competitor': 0.2230393106428204, 'FinancialCompensation': 0.34705676369481564, 'CreditCard': 0.3922800761739219}}\n"
     ]
    },
    {
     "data": {
      "text/plain": [
       "[('RoomType', 'RoomType'),\n",
       " ('BookingStatus', 'BookingType'),\n",
       " ('PaymentType', 'TravelPreferenceType'),\n",
       " (None, 'HotelRating')]"
      ]
     },
     "execution_count": 1217,
     "metadata": {},
     "output_type": "execute_result"
    }
   ],
   "source": [
    "enum_mapping = match_classes(ref_enum, stu_enum, dict_sim_word, thresh=0.5)\n",
    "enum_mapping[0]"
   ]
  },
  {
   "cell_type": "code",
   "execution_count": 1218,
   "metadata": {
    "id": "LW80yVXTT7jK"
   },
   "outputs": [
    {
     "name": "stdout",
     "output_type": "stream",
     "text": [
      "{'RoomType': {'BookingType': 0, 'RoomType': 0.9999999999999999, 'HotelRating': 0, 'TravelPreferenceType': 0, 'HotelChain': 0, 'Traveller': 0, 'BillingInformation': 0, 'Hotel': 0, 'abstract Booking': 0, 'FinalizedBooking': 0, 'AccommodationDeal': 0, 'Address': 0, 'ReliabilityRating': 0, 'Competitor': 0, 'FinancialCompensation': 0, 'CreditCard': 0}, 'BookingStatus': {'BookingType': 0.7856302073852954, 'RoomType': 0.4172764538666226, 'HotelRating': 0.4329851623888572, 'TravelPreferenceType': 0.5045294991843909, 'HotelChain': 0.40141182681586185, 'Traveller': 0.39066345901899024, 'BillingInformation': 0.4460855052241669, 'Hotel': 0.46019591977707885, 'abstract Booking': 0.8044532345330364, 'FinalizedBooking': 0.7119143183228693, 'AccommodationDeal': 0.3525505982720988, 'Address': 0.27399327525368056, 'ReliabilityRating': 0.23996770451147917, 'Competitor': 0.2241876177027491, 'FinancialCompensation': 0.3724186288381438, 'CreditCard': 0.3669788775827373}, 'PaymentType': {'BookingType': 0.6225457282295817, 'RoomType': 0.4039014138339695, 'HotelRating': 0.3441142700226549, 'TravelPreferenceType': 0.5148730934889454, 'HotelChain': 0.3737931267554596, 'Traveller': 0.3268998421119762, 'BillingInformation': 0.5159934107937901, 'Hotel': 0.3459416375924459, 'abstract Booking': 0.4859041148774747, 'FinalizedBooking': 0.4310430814392586, 'AccommodationDeal': 0.3744067778878309, 'Address': 0.23985096393637556, 'ReliabilityRating': 0.29192734502933154, 'Competitor': 0.23099811717204738, 'FinancialCompensation': 0.4661518372418035, 'CreditCard': 0.5495400887199574}, 'HotelBookingManager': {'BookingType': 0.7584211064550133, 'RoomType': 0.41174873818418706, 'HotelRating': 0.623337731984811, 'TravelPreferenceType': 0.4841510518739544, 'HotelChain': 0.718045277742825, 'Traveller': 0.3984246045851277, 'BillingInformation': 0.4596838197150833, 'Hotel': 0.7808450589090221, 'abstract Booking': 0.7625354744297282, 'FinalizedBooking': 0.657670561800266, 'AccommodationDeal': 0.3904589019672685, 'Address': 0.2413400466436501, 'ReliabilityRating': 0.21081986885015094, 'Competitor': 0.2572697796242903, 'FinancialCompensation': 0.4001150224368436, 'CreditCard': 0.35132253357534227}, 'HotelChain': {'BookingType': 0.43609915652844555, 'RoomType': 0.3110244479203478, 'HotelRating': 0.6710153311632564, 'TravelPreferenceType': 0.3588184079589851, 'HotelChain': 0.9480588249536864, 'Traveller': 0.35512403750872823, 'BillingInformation': 0.3327740809863302, 'Hotel': 0.8355689571569076, 'abstract Booking': 0.41834916941950456, 'FinalizedBooking': 0.39123995920900967, 'AccommodationDeal': 0.3511972819773079, 'Address': 0.19167499077219138, 'ReliabilityRating': 0.2682522411847657, 'Competitor': 0.26112546652525964, 'FinancialCompensation': 0.3141985044319714, 'CreditCard': 0.2576906823859842}, 'Traveller': {'BookingType': 0.319699650363395, 'RoomType': 0.23013657298724932, 'HotelRating': 0.4047178149820058, 'TravelPreferenceType': 0.40686864435859527, 'HotelChain': 0.39176093783760857, 'Traveller': 0.9421209704366807, 'BillingInformation': 0.41702895034808946, 'Hotel': 0.4308266380890392, 'abstract Booking': 0.4141188814108234, 'FinalizedBooking': 0.39025464446833247, 'AccommodationDeal': 0.3417064033058451, 'Address': 0.28112219730640675, 'ReliabilityRating': 0.2935200506165239, 'Competitor': 0.22658724535133765, 'FinancialCompensation': 0.2786597496454133, 'CreditCard': 0.32911727678504016}, 'BillingInformation': {'BookingType': 0, 'RoomType': 0, 'HotelRating': 0, 'TravelPreferenceType': 0, 'HotelChain': 0, 'Traveller': 0, 'BillingInformation': 0.9940285542912167, 'Hotel': 0, 'abstract Booking': 0, 'FinalizedBooking': 0, 'AccommodationDeal': 0, 'Address': 0, 'ReliabilityRating': 0, 'Competitor': 0, 'FinancialCompensation': 0, 'CreditCard': 0}, 'TravelPreference': {'BookingType': 0.4358309511066349, 'RoomType': 0.2807306780504749, 'HotelRating': 0.46283959221921633, 'TravelPreferenceType': 0.8925779205406952, 'HotelChain': 0.3928450840963557, 'Traveller': 0.45658965510485827, 'BillingInformation': 0.3960836031150389, 'Hotel': 0.4333717264405307, 'abstract Booking': 0.4808613943645702, 'FinalizedBooking': 0.44030485269098674, 'AccommodationDeal': 0.4621353904578811, 'Address': 0.21203973151991964, 'ReliabilityRating': 0.3998181659590173, 'Competitor': 0.19947242065532889, 'FinancialCompensation': 0.3823397376903383, 'CreditCard': 0.3096408349000985}, 'Hotel': {'BookingType': 0.47320037587404923, 'RoomType': 0.3735580395262369, 'HotelRating': 0.7324851216725314, 'TravelPreferenceType': 0.38271487416037364, 'HotelChain': 0.8253135684444579, 'Traveller': 0.3626932082662487, 'BillingInformation': 0.38895973318214994, 'Hotel': 0.9736932216324639, 'abstract Booking': 0.5369121240634959, 'FinalizedBooking': 0.43000064296516827, 'AccommodationDeal': 0.4449766494345111, 'Address': 0.3182566490493174, 'ReliabilityRating': 0.2246920401016654, 'Competitor': 0.2725971692345722, 'FinancialCompensation': 0.2939367535961703, 'CreditCard': 0.3156692371678088}, 'abstract Offer': {'BookingType': 0.22619343108701895, 'RoomType': 0.19139312460792712, 'HotelRating': 0.22400668692568868, 'TravelPreferenceType': 0.27319263447819914, 'HotelChain': 0.2468959658608024, 'Traveller': 0.22543538818170672, 'BillingInformation': 0.2711019200058459, 'Hotel': 0.24560643009881838, 'abstract Booking': 0.21709190323582833, 'FinalizedBooking': 0.19965844727985757, 'AccommodationDeal': 0.2859205154044368, 'Address': 0.2799889902318333, 'ReliabilityRating': 0.1429333022640238, 'Competitor': 0.42250864668513866, 'FinancialCompensation': 0.32531319114819374, 'CreditCard': 0.18293149448369872}, 'SpecialOffer': {'BookingType': 0.2904615054797043, 'RoomType': 0.22549495327102437, 'HotelRating': 0.19874378696998674, 'TravelPreferenceType': 0.3211184145143838, 'HotelChain': 0.24008194752908502, 'Traveller': 0.23276047201176048, 'BillingInformation': 0.312832598553566, 'Hotel': 0.2141944012301244, 'abstract Booking': 0.23874622554661715, 'FinalizedBooking': 0.23180111692877908, 'AccommodationDeal': 0.35274422394387134, 'Address': 0.2589832901956263, 'ReliabilityRating': 0.11686466467918724, 'Competitor': 0.3881128594944666, 'FinancialCompensation': 0.3075151579517951, 'CreditCard': 0.19713951650900505}, 'RegularOffer': {'BookingType': 0.2320160361422184, 'RoomType': 0.23136419599959518, 'HotelRating': 0.23599122906443154, 'TravelPreferenceType': 0.30674918886906977, 'HotelChain': 0.24334298487029676, 'Traveller': 0.22957290430320682, 'BillingInformation': 0.2460068238996275, 'Hotel': 0.23083974719338546, 'abstract Booking': 0.18266830213217616, 'FinalizedBooking': 0.1923829080558, 'AccommodationDeal': 0.3032878426479145, 'Address': 0.24353329463901857, 'ReliabilityRating': 0.144426659312574, 'Competitor': 0.36833106363446216, 'FinancialCompensation': 0.31761049313012835, 'CreditCard': 0.17286065049607088}, 'TravelSearch': {'BookingType': 0.4417933377507429, 'RoomType': 0.20241168349835406, 'HotelRating': 0.39828463383132523, 'TravelPreferenceType': 0.6504055847008079, 'HotelChain': 0.41430456129588467, 'Traveller': 0.42494751743247305, 'BillingInformation': 0.35618496693497737, 'Hotel': 0.42738019052592113, 'abstract Booking': 0.4589355612358462, 'FinalizedBooking': 0.42734163124052343, 'AccommodationDeal': 0.403412791161963, 'Address': 0.1959419187254362, 'ReliabilityRating': 0.2537005200997578, 'Competitor': 0.19030375273602995, 'FinancialCompensation': 0.31325492202464056, 'CreditCard': 0.2340912765501619}, 'SearchInfo': {'BookingType': 0.30650315070921197, 'RoomType': 0.21656966504684094, 'HotelRating': 0.3222350642854998, 'TravelPreferenceType': 0.40515011790935274, 'HotelChain': 0.30753781612599634, 'Traveller': 0.30039839622947606, 'BillingInformation': 0.3531011426929419, 'Hotel': 0.318235529958737, 'abstract Booking': 0.3001584418085482, 'FinalizedBooking': 0.3031902359469062, 'AccommodationDeal': 0.29297239993300683, 'Address': 0.2009541586548894, 'ReliabilityRating': 0.2723800548960623, 'Competitor': 0.2302635265876431, 'FinancialCompensation': 0.2531914224084944, 'CreditCard': 0.20296747598721854}, 'RoomAvailability': {'BookingType': 0.3837625821582669, 'RoomType': 0.7419351796255418, 'HotelRating': 0.4446181817093328, 'TravelPreferenceType': 0.36894530102540685, 'HotelChain': 0.3992276010873623, 'Traveller': 0.31382586962522685, 'BillingInformation': 0.37646483355036653, 'Hotel': 0.446259101976762, 'abstract Booking': 0.4002542559341903, 'FinalizedBooking': 0.3309622329519272, 'AccommodationDeal': 0.3326670527171987, 'Address': 0.2537454561508095, 'ReliabilityRating': 0.38584709192081296, 'Competitor': 0.26823626125831407, 'FinancialCompensation': 0.25267912172877244, 'CreditCard': 0.2762181934449879}, 'abstract TripInfo': {'BookingType': 0.40958782923640336, 'RoomType': 0.30969441045557217, 'HotelRating': 0.38440167497665434, 'TravelPreferenceType': 0.472636257577784, 'HotelChain': 0.4228258129022195, 'Traveller': 0.35727931148103365, 'BillingInformation': 0.43305531256040586, 'Hotel': 0.4286798767436049, 'abstract Booking': 0.46747940556872214, 'FinalizedBooking': 0.4115840524087289, 'AccommodationDeal': 0.36293006695641494, 'Address': 0.21175519220369637, 'ReliabilityRating': 0.2871933418733008, 'Competitor': 0.22933122992345373, 'FinancialCompensation': 0.35263564186790686, 'CreditCard': 0.3432067818408089}, 'BookingInfo': {'BookingType': 0.7250872918018111, 'RoomType': 0.3585357176662239, 'HotelRating': 0.42111861982703286, 'TravelPreferenceType': 0.4885280955967029, 'HotelChain': 0.42465001845273265, 'Traveller': 0.383400695434187, 'BillingInformation': 0.4858863073299899, 'Hotel': 0.4717414113942273, 'abstract Booking': 0.7423365300267184, 'FinalizedBooking': 0.6295487612194288, 'AccommodationDeal': 0.3432734143655971, 'Address': 0.19910034952754385, 'ReliabilityRating': 0.22942397118180793, 'Competitor': 0.22662594763989552, 'FinancialCompensation': 0.34466155886347616, 'CreditCard': 0.33162407427839286}, 'Booking': {'BookingType': 0.8804035779550514, 'RoomType': 0.37900408590152046, 'HotelRating': 0.4196885620231391, 'TravelPreferenceType': 0.4712009853676082, 'HotelChain': 0.44764569120898307, 'Traveller': 0.3978309169061281, 'BillingInformation': 0.4576957008803604, 'Hotel': 0.5411732974107414, 'abstract Booking': 0.9729201038810308, 'FinalizedBooking': 0.7905830230231181, 'AccommodationDeal': 0.37290733202296056, 'Address': 0.2217294207207222, 'ReliabilityRating': 0.17361360537150206, 'Competitor': 0.2230393106428204, 'FinancialCompensation': 0.34705676369481564, 'CreditCard': 0.3922800761739219}}\n"
     ]
    },
    {
     "data": {
      "text/plain": [
       "[('HotelBookingManager', 'FinalizedBooking'),\n",
       " ('HotelChain', 'HotelChain'),\n",
       " ('Traveller', 'Traveller'),\n",
       " ('BillingInformation', 'BillingInformation'),\n",
       " ('TravelPreference', None),\n",
       " ('Hotel', 'Hotel'),\n",
       " ('abstract Offer', None),\n",
       " ('SpecialOffer', None),\n",
       " ('RegularOffer', None),\n",
       " ('TravelSearch', None),\n",
       " ('SearchInfo', None),\n",
       " ('RoomAvailability', None),\n",
       " ('abstract TripInfo', None),\n",
       " ('BookingInfo', None),\n",
       " ('Booking', 'abstract Booking'),\n",
       " (None, 'AccommodationDeal'),\n",
       " (None, 'Address'),\n",
       " (None, 'ReliabilityRating'),\n",
       " (None, 'Competitor'),\n",
       " (None, 'FinancialCompensation'),\n",
       " (None, 'CreditCard')]"
      ]
     },
     "execution_count": 1218,
     "metadata": {},
     "output_type": "execute_result"
    }
   ],
   "source": [
    "cls_mapping = match_classes(ref_reg_cls, stu_reg_cls, dict_sim_word, thresh=0.5)\n",
    "cls_mapping[0]"
   ]
  },
  {
   "cell_type": "code",
   "execution_count": 1219,
   "metadata": {
    "id": "X6xo0l99VeXm"
   },
   "outputs": [],
   "source": [
    "mapping = enum_mapping[0] + cls_mapping[0]\n",
    "\n",
    "for map in mapping:\n",
    "    if map[0] and map[1]:\n",
    "        ref_cls.cls_atr[map[0]][\"score\"] = 1\n",
    "        ref_cls.cls_atr[map[0]][\"counterpart\"] = map[1]\n",
    "\n",
    "        stu_cls.cls_atr[map[1]][\"score\"] = 1\n",
    "        stu_cls.cls_atr[map[1]][\"counterpart\"] = map[0]\n",
    "\n",
    "        if ref_cls.cls_atr[map[0]][\"type\"] != stu_cls.cls_atr[map[1]][\"type\"]:\n",
    "            # type mismatch\n",
    "            ref_cls.cls_atr[map[0]][\"score\"] = 0.5\n",
    "            stu_cls.cls_atr[map[1]][\"score\"] = 0.5"
   ]
  },
  {
   "cell_type": "code",
   "execution_count": 1220,
   "metadata": {
    "id": "zndCFvnoWS7D"
   },
   "outputs": [
    {
     "data": {
      "text/plain": [
       "{'RoomType': {'score': 1,\n",
       "  'type': 'enum',\n",
       "  'dsl': 'RoomType(SINGLE, DOUBLE, TWIN)',\n",
       "  'counterpart': 'RoomType',\n",
       "  'attributes': {'SINGLE': {'score': 0, 'counterpart': None},\n",
       "   'DOUBLE': {'score': 0, 'counterpart': None},\n",
       "   'TWIN': {'score': 0, 'counterpart': None}}},\n",
       " 'BookingStatus': {'score': 1,\n",
       "  'type': 'enum',\n",
       "  'dsl': 'BookingStatus(FINALIZED, CONFIRMED, CANCELLED_BY_HBMS, PRELIMINARY, CANCELLED_BY_TRAVELLER, CANCELLED_BY_HOTEL)',\n",
       "  'counterpart': 'BookingType',\n",
       "  'attributes': {'FINALIZED': {'score': 0, 'counterpart': None},\n",
       "   'CONFIRMED': {'score': 0, 'counterpart': None},\n",
       "   'CANCELLED_BY_HBMS': {'score': 0, 'counterpart': None},\n",
       "   'PRELIMINARY': {'score': 0, 'counterpart': None},\n",
       "   'CANCELLED_BY_TRAVELLER': {'score': 0, 'counterpart': None},\n",
       "   'CANCELLED_BY_HOTEL': {'score': 0, 'counterpart': None}}},\n",
       " 'PaymentType': {'score': 1,\n",
       "  'type': 'enum',\n",
       "  'dsl': 'PaymentType (PREPAID, PAID_AT_HOTEL)',\n",
       "  'counterpart': 'TravelPreferenceType',\n",
       "  'attributes': {'PREPAID': {'score': 0, 'counterpart': None},\n",
       "   'PAID_AT_HOTEL': {'score': 0, 'counterpart': None}}},\n",
       " 'HotelBookingManager': {'score': 1,\n",
       "  'type': 'regular',\n",
       "  'dsl': 'HotelBookingManager()',\n",
       "  'counterpart': 'FinalizedBooking',\n",
       "  'attributes': {}},\n",
       " 'HotelChain': {'score': 1,\n",
       "  'type': 'regular',\n",
       "  'dsl': 'HotelChain()',\n",
       "  'counterpart': 'HotelChain',\n",
       "  'attributes': {}},\n",
       " 'Traveller': {'score': 1,\n",
       "  'type': 'regular',\n",
       "  'dsl': 'Traveller (string name, int reliabilityRating)',\n",
       "  'counterpart': 'Traveller',\n",
       "  'attributes': {'string name': {'score': 0, 'counterpart': None},\n",
       "   'int reliabilityRating': {'score': 0, 'counterpart': None}}},\n",
       " 'BillingInformation': {'score': 1,\n",
       "  'type': 'regular',\n",
       "  'dsl': 'BillingInformation(string companyName, string address)',\n",
       "  'counterpart': 'BillingInformation',\n",
       "  'attributes': {'string companyName': {'score': 0, 'counterpart': None},\n",
       "   'string address': {'score': 0, 'counterpart': None}}},\n",
       " 'TravelPreference': {'score': 0,\n",
       "  'type': 'regular',\n",
       "  'dsl': 'TravelPreference(string preference, string value)',\n",
       "  'counterpart': None,\n",
       "  'attributes': {'string preference': {'score': 0, 'counterpart': None},\n",
       "   'string value': {'score': 0, 'counterpart': None}}},\n",
       " 'Hotel': {'score': 1,\n",
       "  'type': 'regular',\n",
       "  'dsl': 'Hotel (string city, string country, string area)',\n",
       "  'counterpart': 'Hotel',\n",
       "  'attributes': {'string city': {'score': 0, 'counterpart': None},\n",
       "   'string country': {'score': 0, 'counterpart': None},\n",
       "   'string area': {'score': 0, 'counterpart': None}}},\n",
       " 'abstract Offer': {'score': 0,\n",
       "  'type': 'abstract',\n",
       "  'dsl': 'abstract Offer()',\n",
       "  'counterpart': None,\n",
       "  'attributes': {}},\n",
       " 'SpecialOffer': {'score': 0,\n",
       "  'type': 'regular',\n",
       "  'dsl': 'SpecialOffer()',\n",
       "  'counterpart': None,\n",
       "  'attributes': {}},\n",
       " 'RegularOffer': {'score': 0,\n",
       "  'type': 'regular',\n",
       "  'dsl': 'RegularOffer()',\n",
       "  'counterpart': None,\n",
       "  'attributes': {}},\n",
       " 'TravelSearch': {'score': 0,\n",
       "  'type': 'regular',\n",
       "  'dsl': 'TravelSearch()',\n",
       "  'counterpart': None,\n",
       "  'attributes': {}},\n",
       " 'SearchInfo': {'score': 0,\n",
       "  'type': 'regular',\n",
       "  'dsl': 'SearchInfo()',\n",
       "  'counterpart': None,\n",
       "  'attributes': {}},\n",
       " 'RoomAvailability': {'score': 0,\n",
       "  'type': 'regular',\n",
       "  'dsl': 'RoomAvailability()',\n",
       "  'counterpart': None,\n",
       "  'attributes': {}},\n",
       " 'abstract TripInfo': {'score': 0,\n",
       "  'type': 'abstract',\n",
       "  'dsl': 'abstract TripInfo(int numberOfRooms, RoomType roomType, date arrivalDate, date departureDate, float budgetPerNight)',\n",
       "  'counterpart': None,\n",
       "  'attributes': {'int numberOfRooms': {'score': 0, 'counterpart': None},\n",
       "   'RoomType roomType': {'score': 0, 'counterpart': None},\n",
       "   'date arrivalDate': {'score': 0, 'counterpart': None},\n",
       "   'date departureDate': {'score': 0, 'counterpart': None},\n",
       "   'float budgetPerNight': {'score': 0, 'counterpart': None}}},\n",
       " 'BookingInfo': {'score': 0,\n",
       "  'type': 'regular',\n",
       "  'dsl': 'BookingInfo()',\n",
       "  'counterpart': None,\n",
       "  'attributes': {}},\n",
       " 'Booking': {'score': 0.5,\n",
       "  'type': 'regular',\n",
       "  'dsl': 'Booking (int bookingId, date cancellationDeadline, string creditCardNumber, BookingStatus bookingStatus, PaymentType paymentType, date confirmationDate, float paidAmount)',\n",
       "  'counterpart': 'abstract Booking',\n",
       "  'attributes': {'int bookingId': {'score': 0, 'counterpart': None},\n",
       "   'date cancellationDeadline': {'score': 0, 'counterpart': None},\n",
       "   'string creditCardNumber': {'score': 0, 'counterpart': None},\n",
       "   'BookingStatus bookingStatus': {'score': 0, 'counterpart': None},\n",
       "   'PaymentType paymentType': {'score': 0, 'counterpart': None},\n",
       "   'date confirmationDate': {'score': 0, 'counterpart': None},\n",
       "   'float paidAmount': {'score': 0, 'counterpart': None}}}}"
      ]
     },
     "execution_count": 1220,
     "metadata": {},
     "output_type": "execute_result"
    }
   ],
   "source": [
    "ref_cls.cls_atr"
   ]
  },
  {
   "cell_type": "markdown",
   "metadata": {
    "id": "8y1nt_fsXDwB"
   },
   "source": [
    "## Stage 1.2 Class Mapping (with all info)"
   ]
  },
  {
   "cell_type": "code",
   "execution_count": 1221,
   "metadata": {
    "id": "8FOiiOpfXM5c"
   },
   "outputs": [],
   "source": [
    "ref_classes = []\n",
    "stu_classes = []\n",
    "\n",
    "for cls in ref_cls.cls_name:\n",
    "    if ref_cls.cls_atr[cls][\"counterpart\"] == None:\n",
    "        ref_classes.append(cls)\n",
    "\n",
    "for cls in stu_cls.cls_name:\n",
    "    if stu_cls.cls_atr[cls][\"counterpart\"] == None:\n",
    "        stu_classes.append(cls)"
   ]
  },
  {
   "cell_type": "code",
   "execution_count": 1222,
   "metadata": {
    "id": "l_HDKCa3XmuR"
   },
   "outputs": [],
   "source": [
    "# get name embedding\n",
    "# all info\n",
    "similarity_all = []\n",
    "mde_embedding = sgram_mde\n",
    "threshold = 0.7\n",
    "\n",
    "\n",
    "if os.path.exists(student_dir + \"ada_embedding.txt\"):\n",
    "    with open(student_dir + \"ada_embedding.txt\", \"r\") as json_file:\n",
    "        dict_sim_all = json.load(json_file)\n",
    "\n",
    "else:\n",
    "    for index, node in enumerate(ref_cls.cls_name):\n",
    "        text_1 = get_all_info(\n",
    "            index, ref_cls.cls_name, ref_cls.raw_dsl, ref_cls.rel.raw_dsl, True\n",
    "        )\n",
    "        emb_i = get_embedding(text_1)\n",
    "        mde_pair = []\n",
    "        for j, stu_node in enumerate(stu_cls.cls_name):\n",
    "            text_2 = get_all_info(\n",
    "                j, stu_cls.cls_name, stu_cls.raw_dsl, stu_cls.rel.raw_dsl, True\n",
    "            )\n",
    "            emb_j = get_embedding(text_2)\n",
    "            mde_sim = cosine_distance(emb_i, emb_j)\n",
    "            mde_pair.append(mde_sim)\n",
    "\n",
    "        # apply third quartile\n",
    "        similarity_all.append(mde_pair)\n",
    "\n",
    "    dict_sim_all = {}\n",
    "    for i in range(len(ref_cls.cls_name)):\n",
    "        dict_sim_all[ref_cls.cls_name[i]] = {}\n",
    "        for j in range(len(stu_cls.cls_name)):\n",
    "            dict_sim_all[ref_cls.cls_name[i]][stu_cls.cls_name[j]] = similarity_all[i][\n",
    "                j\n",
    "            ]"
   ]
  },
  {
   "cell_type": "code",
   "execution_count": 1223,
   "metadata": {},
   "outputs": [],
   "source": [
    "with open(student_dir + \"ada_embedding.txt\", \"w\") as json_file:\n",
    "    json.dump(dict_sim_all, json_file)"
   ]
  },
  {
   "cell_type": "code",
   "execution_count": 1224,
   "metadata": {},
   "outputs": [
    {
     "data": {
      "text/plain": [
       "'results/gpt-4o-mini/sherpa/08_HBMS/'"
      ]
     },
     "execution_count": 1224,
     "metadata": {},
     "output_type": "execute_result"
    }
   ],
   "source": [
    "student_dir"
   ]
  },
  {
   "cell_type": "code",
   "execution_count": 1225,
   "metadata": {},
   "outputs": [
    {
     "data": {
      "text/plain": [
       "['TravelPreference',\n",
       " 'abstract Offer',\n",
       " 'SpecialOffer',\n",
       " 'RegularOffer',\n",
       " 'TravelSearch',\n",
       " 'SearchInfo',\n",
       " 'RoomAvailability',\n",
       " 'abstract TripInfo',\n",
       " 'BookingInfo']"
      ]
     },
     "execution_count": 1225,
     "metadata": {},
     "output_type": "execute_result"
    }
   ],
   "source": [
    "ref_classes"
   ]
  },
  {
   "cell_type": "code",
   "execution_count": 1226,
   "metadata": {},
   "outputs": [
    {
     "data": {
      "text/plain": [
       "['HotelRating',\n",
       " 'AccommodationDeal',\n",
       " 'Address',\n",
       " 'ReliabilityRating',\n",
       " 'Competitor',\n",
       " 'FinancialCompensation',\n",
       " 'CreditCard']"
      ]
     },
     "execution_count": 1226,
     "metadata": {},
     "output_type": "execute_result"
    }
   ],
   "source": [
    "stu_classes"
   ]
  },
  {
   "cell_type": "code",
   "execution_count": 1227,
   "metadata": {},
   "outputs": [
    {
     "data": {
      "text/plain": [
       "{'RoomType': {'BookingType': 0.8586905421370973,\n",
       "  'RoomType': 0.9909474228763404,\n",
       "  'HotelRating': 0.8628590451279413,\n",
       "  'TravelPreferenceType': 0.8523107233606312,\n",
       "  'HotelChain': 0.7899386305978677,\n",
       "  'Traveller': 0.7856211695377944,\n",
       "  'BillingInformation': 0.7373299500519845,\n",
       "  'Hotel': 0.803014239376256,\n",
       "  'abstract Booking': 0.7966826891771881,\n",
       "  'FinalizedBooking': 0.7599967768749349,\n",
       "  'AccommodationDeal': 0.7898298615019098,\n",
       "  'Address': 0.7406714734916332,\n",
       "  'ReliabilityRating': 0.7450293605729348,\n",
       "  'Competitor': 0.7491683134090827,\n",
       "  'FinancialCompensation': 0.7221996135030353,\n",
       "  'CreditCard': 0.748666713768304},\n",
       " 'BookingStatus': {'BookingType': 0.8661749756348975,\n",
       "  'RoomType': 0.8027120785275237,\n",
       "  'HotelRating': 0.8063557275805142,\n",
       "  'TravelPreferenceType': 0.7979784789716897,\n",
       "  'HotelChain': 0.752507900522799,\n",
       "  'Traveller': 0.7863886533144686,\n",
       "  'BillingInformation': 0.7421933936565029,\n",
       "  'Hotel': 0.765158921269184,\n",
       "  'abstract Booking': 0.8182549867595602,\n",
       "  'FinalizedBooking': 0.8375256990734169,\n",
       "  'AccommodationDeal': 0.7485747104703425,\n",
       "  'Address': 0.7079166390062255,\n",
       "  'ReliabilityRating': 0.7365700442659926,\n",
       "  'Competitor': 0.7203026306378849,\n",
       "  'FinancialCompensation': 0.7204334980525696,\n",
       "  'CreditCard': 0.7402701013055711},\n",
       " 'PaymentType': {'BookingType': 0.9416865356929348,\n",
       "  'RoomType': 0.8278632526260015,\n",
       "  'HotelRating': 0.7986617703017248,\n",
       "  'TravelPreferenceType': 0.8329329010872307,\n",
       "  'HotelChain': 0.7618193040462409,\n",
       "  'Traveller': 0.7778401797500711,\n",
       "  'BillingInformation': 0.7631805648535227,\n",
       "  'Hotel': 0.7754284724588938,\n",
       "  'abstract Booking': 0.8138978192445329,\n",
       "  'FinalizedBooking': 0.7745697324416994,\n",
       "  'AccommodationDeal': 0.785991631399582,\n",
       "  'Address': 0.741611111750419,\n",
       "  'ReliabilityRating': 0.7223185734876654,\n",
       "  'Competitor': 0.733839052537241,\n",
       "  'FinancialCompensation': 0.7607367317307262,\n",
       "  'CreditCard': 0.7866162992533525},\n",
       " 'HotelBookingManager': {'BookingType': 0.8511010696673156,\n",
       "  'RoomType': 0.8101730565613753,\n",
       "  'HotelRating': 0.8142031095016976,\n",
       "  'TravelPreferenceType': 0.8223579911995257,\n",
       "  'HotelChain': 0.8180837744138341,\n",
       "  'Traveller': 0.8283429354733052,\n",
       "  'BillingInformation': 0.8006740261354853,\n",
       "  'Hotel': 0.8285226862749987,\n",
       "  'abstract Booking': 0.833304965536124,\n",
       "  'FinalizedBooking': 0.8215572754911528,\n",
       "  'AccommodationDeal': 0.807897294449867,\n",
       "  'Address': 0.7655345032614871,\n",
       "  'ReliabilityRating': 0.7802856420682818,\n",
       "  'Competitor': 0.7994576881961268,\n",
       "  'FinancialCompensation': 0.7653001201783618,\n",
       "  'CreditCard': 0.7845716391978724},\n",
       " 'HotelChain': {'BookingType': 0.8060348902608302,\n",
       "  'RoomType': 0.8050499934827958,\n",
       "  'HotelRating': 0.8141858795942418,\n",
       "  'TravelPreferenceType': 0.8069865275630245,\n",
       "  'HotelChain': 0.8997659193041454,\n",
       "  'Traveller': 0.7814532055470347,\n",
       "  'BillingInformation': 0.782542067492046,\n",
       "  'Hotel': 0.8490227802531454,\n",
       "  'abstract Booking': 0.7564573525241864,\n",
       "  'FinalizedBooking': 0.7588115288704408,\n",
       "  'AccommodationDeal': 0.767714687083321,\n",
       "  'Address': 0.7817529484203132,\n",
       "  'ReliabilityRating': 0.7674571628218338,\n",
       "  'Competitor': 0.7888264278341066,\n",
       "  'FinancialCompensation': 0.7691122165511807,\n",
       "  'CreditCard': 0.7736867181311533},\n",
       " 'Traveller': {'BookingType': 0.7803059860359604,\n",
       "  'RoomType': 0.7995898041167441,\n",
       "  'HotelRating': 0.827008486747633,\n",
       "  'TravelPreferenceType': 0.8173404294293339,\n",
       "  'HotelChain': 0.8279193603478947,\n",
       "  'Traveller': 0.937200582630512,\n",
       "  'BillingInformation': 0.7705147645461562,\n",
       "  'Hotel': 0.83129417792495,\n",
       "  'abstract Booking': 0.7912251606777226,\n",
       "  'FinalizedBooking': 0.7705964595569484,\n",
       "  'AccommodationDeal': 0.8013673478651213,\n",
       "  'Address': 0.7676629518173813,\n",
       "  'ReliabilityRating': 0.8622760371681579,\n",
       "  'Competitor': 0.8091952245053294,\n",
       "  'FinancialCompensation': 0.7692678746617051,\n",
       "  'CreditCard': 0.7839565138324948},\n",
       " 'BillingInformation': {'BookingType': 0.7784675148282941,\n",
       "  'RoomType': 0.7356592066920595,\n",
       "  'HotelRating': 0.7365478402285175,\n",
       "  'TravelPreferenceType': 0.7445706032732179,\n",
       "  'HotelChain': 0.8052426594934556,\n",
       "  'Traveller': 0.8500052658232804,\n",
       "  'BillingInformation': 0.9808637765581406,\n",
       "  'Hotel': 0.8247027355218403,\n",
       "  'abstract Booking': 0.772250781604519,\n",
       "  'FinalizedBooking': 0.7535189560377689,\n",
       "  'AccommodationDeal': 0.7944125208752195,\n",
       "  'Address': 0.8462007578180625,\n",
       "  'ReliabilityRating': 0.7419363331079788,\n",
       "  'Competitor': 0.8058132135084071,\n",
       "  'FinancialCompensation': 0.8395337788951263,\n",
       "  'CreditCard': 0.8246827383876495},\n",
       " 'TravelPreference': {'BookingType': 0.7767424465702832,\n",
       "  'RoomType': 0.758149222587078,\n",
       "  'HotelRating': 0.7462071931541373,\n",
       "  'TravelPreferenceType': 0.8185173479905459,\n",
       "  'HotelChain': 0.7760021172472881,\n",
       "  'Traveller': 0.8188729184251222,\n",
       "  'BillingInformation': 0.7691018386557312,\n",
       "  'Hotel': 0.789056619578719,\n",
       "  'abstract Booking': 0.7689751922370842,\n",
       "  'FinalizedBooking': 0.724897359396571,\n",
       "  'AccommodationDeal': 0.8410547602415432,\n",
       "  'Address': 0.7807316685087293,\n",
       "  'ReliabilityRating': 0.7392877688749323,\n",
       "  'Competitor': 0.7828974237480625,\n",
       "  'FinancialCompensation': 0.7763640034381417,\n",
       "  'CreditCard': 0.7907430623878394},\n",
       " 'Hotel': {'BookingType': 0.8174159262827667,\n",
       "  'RoomType': 0.8432980249667227,\n",
       "  'HotelRating': 0.8533250595701234,\n",
       "  'TravelPreferenceType': 0.8379110544763556,\n",
       "  'HotelChain': 0.8328546434445637,\n",
       "  'Traveller': 0.8055066888808003,\n",
       "  'BillingInformation': 0.7965094170875988,\n",
       "  'Hotel': 0.8819408492310136,\n",
       "  'abstract Booking': 0.797920448889904,\n",
       "  'FinalizedBooking': 0.7549044235981136,\n",
       "  'AccommodationDeal': 0.850123261091052,\n",
       "  'Address': 0.8285483591452838,\n",
       "  'ReliabilityRating': 0.7422508943636043,\n",
       "  'Competitor': 0.7852711563336533,\n",
       "  'FinancialCompensation': 0.76734530984181,\n",
       "  'CreditCard': 0.7782780115450015},\n",
       " 'abstract Offer': {'BookingType': 0.7833342903451387,\n",
       "  'RoomType': 0.7592300701161118,\n",
       "  'HotelRating': 0.7456811590615027,\n",
       "  'TravelPreferenceType': 0.7664436876446697,\n",
       "  'HotelChain': 0.7961268034187059,\n",
       "  'Traveller': 0.7610974788326532,\n",
       "  'BillingInformation': 0.763411846167771,\n",
       "  'Hotel': 0.7657998667354337,\n",
       "  'abstract Booking': 0.7836938983547775,\n",
       "  'FinalizedBooking': 0.7679701317150621,\n",
       "  'AccommodationDeal': 0.7813729040529894,\n",
       "  'Address': 0.7647870827916784,\n",
       "  'ReliabilityRating': 0.7470063829691225,\n",
       "  'Competitor': 0.8499795783996928,\n",
       "  'FinancialCompensation': 0.7653623329543843,\n",
       "  'CreditCard': 0.7538726623515101},\n",
       " 'SpecialOffer': {'BookingType': 0.8166401269255043,\n",
       "  'RoomType': 0.7944324271150082,\n",
       "  'HotelRating': 0.7849013152352134,\n",
       "  'TravelPreferenceType': 0.8006157367716331,\n",
       "  'HotelChain': 0.8037865331685813,\n",
       "  'Traveller': 0.7723909283292538,\n",
       "  'BillingInformation': 0.7869479735796091,\n",
       "  'Hotel': 0.783550950040005,\n",
       "  'abstract Booking': 0.7733960500483021,\n",
       "  'FinalizedBooking': 0.7790383297532539,\n",
       "  'AccommodationDeal': 0.814190052472285,\n",
       "  'Address': 0.7757914716332801,\n",
       "  'ReliabilityRating': 0.7502852873958284,\n",
       "  'Competitor': 0.8412652946429956,\n",
       "  'FinancialCompensation': 0.7795007949460969,\n",
       "  'CreditCard': 0.7716411924049401},\n",
       " 'RegularOffer': {'BookingType': 0.7997879308320759,\n",
       "  'RoomType': 0.7803062228133726,\n",
       "  'HotelRating': 0.7751795363646837,\n",
       "  'TravelPreferenceType': 0.7823852545246617,\n",
       "  'HotelChain': 0.802534872736453,\n",
       "  'Traveller': 0.7856719680958792,\n",
       "  'BillingInformation': 0.7788094607704915,\n",
       "  'Hotel': 0.7768175516774664,\n",
       "  'abstract Booking': 0.767945994922723,\n",
       "  'FinalizedBooking': 0.7631304443852889,\n",
       "  'AccommodationDeal': 0.7919398941543253,\n",
       "  'Address': 0.7633711321677944,\n",
       "  'ReliabilityRating': 0.7760655834603206,\n",
       "  'Competitor': 0.8602063086488746,\n",
       "  'FinancialCompensation': 0.7830587708428319,\n",
       "  'CreditCard': 0.7662756520183712},\n",
       " 'TravelSearch': {'BookingType': 0.815065879991,\n",
       "  'RoomType': 0.8013318055248408,\n",
       "  'HotelRating': 0.8042912802329004,\n",
       "  'TravelPreferenceType': 0.8345233296314064,\n",
       "  'HotelChain': 0.7974749861719936,\n",
       "  'Traveller': 0.824143261056726,\n",
       "  'BillingInformation': 0.7659816173171369,\n",
       "  'Hotel': 0.7909527642951478,\n",
       "  'abstract Booking': 0.7877350580061881,\n",
       "  'FinalizedBooking': 0.7696569688634185,\n",
       "  'AccommodationDeal': 0.8030884291448532,\n",
       "  'Address': 0.7774350946715028,\n",
       "  'ReliabilityRating': 0.7505431595091171,\n",
       "  'Competitor': 0.768487140407944,\n",
       "  'FinancialCompensation': 0.7513166807818255,\n",
       "  'CreditCard': 0.7684388070635291},\n",
       " 'SearchInfo': {'BookingType': 0.7585096118302125,\n",
       "  'RoomType': 0.763404872727234,\n",
       "  'HotelRating': 0.7590927899510511,\n",
       "  'TravelPreferenceType': 0.7652599584128487,\n",
       "  'HotelChain': 0.7942268070929104,\n",
       "  'Traveller': 0.763166530804506,\n",
       "  'BillingInformation': 0.7747902506968464,\n",
       "  'Hotel': 0.7536385161471305,\n",
       "  'abstract Booking': 0.7267734710860081,\n",
       "  'FinalizedBooking': 0.7251319091485788,\n",
       "  'AccommodationDeal': 0.7656043549378957,\n",
       "  'Address': 0.7623047213884804,\n",
       "  'ReliabilityRating': 0.7604540743845495,\n",
       "  'Competitor': 0.7698225608881484,\n",
       "  'FinancialCompensation': 0.7630372807621384,\n",
       "  'CreditCard': 0.745486239244551},\n",
       " 'RoomAvailability': {'BookingType': 0.8279702760376856,\n",
       "  'RoomType': 0.8490306871420473,\n",
       "  'HotelRating': 0.8250617617706244,\n",
       "  'TravelPreferenceType': 0.8339476584412958,\n",
       "  'HotelChain': 0.7965838403546616,\n",
       "  'Traveller': 0.7906835224167554,\n",
       "  'BillingInformation': 0.7611111886478269,\n",
       "  'Hotel': 0.7971372448216482,\n",
       "  'abstract Booking': 0.8166355736038915,\n",
       "  'FinalizedBooking': 0.8053391211497725,\n",
       "  'AccommodationDeal': 0.8083473880065906,\n",
       "  'Address': 0.7477233861687931,\n",
       "  'ReliabilityRating': 0.775572232285234,\n",
       "  'Competitor': 0.7777154858507901,\n",
       "  'FinancialCompensation': 0.7433816670466669,\n",
       "  'CreditCard': 0.7464003656142072},\n",
       " 'abstract TripInfo': {'BookingType': 0.8143895557433828,\n",
       "  'RoomType': 0.8161907517553271,\n",
       "  'HotelRating': 0.7847751472645342,\n",
       "  'TravelPreferenceType': 0.818000163717198,\n",
       "  'HotelChain': 0.7531428011422323,\n",
       "  'Traveller': 0.8247789976275892,\n",
       "  'BillingInformation': 0.7541081867940767,\n",
       "  'Hotel': 0.8116487489071654,\n",
       "  'abstract Booking': 0.8775000063523702,\n",
       "  'FinalizedBooking': 0.8082002804111104,\n",
       "  'AccommodationDeal': 0.7988670695521838,\n",
       "  'Address': 0.7568812586198744,\n",
       "  'ReliabilityRating': 0.7560498897818503,\n",
       "  'Competitor': 0.7457795635555751,\n",
       "  'FinancialCompensation': 0.7407143316636711,\n",
       "  'CreditCard': 0.7830044902827625},\n",
       " 'BookingInfo': {'BookingType': 0.8549906930945695,\n",
       "  'RoomType': 0.8049231800176824,\n",
       "  'HotelRating': 0.812660150034552,\n",
       "  'TravelPreferenceType': 0.8164726877755569,\n",
       "  'HotelChain': 0.7946536555800532,\n",
       "  'Traveller': 0.8203533388527279,\n",
       "  'BillingInformation': 0.818450684491493,\n",
       "  'Hotel': 0.8028478687807897,\n",
       "  'abstract Booking': 0.8243207329237155,\n",
       "  'FinalizedBooking': 0.8167452310009956,\n",
       "  'AccommodationDeal': 0.8076435341791308,\n",
       "  'Address': 0.7638426497686989,\n",
       "  'ReliabilityRating': 0.7647570405039401,\n",
       "  'Competitor': 0.7727150983544816,\n",
       "  'FinancialCompensation': 0.774988317362115,\n",
       "  'CreditCard': 0.7710508075697232},\n",
       " 'Booking': {'BookingType': 0.8291437531184138,\n",
       "  'RoomType': 0.7627877391434869,\n",
       "  'HotelRating': 0.7565717749654702,\n",
       "  'TravelPreferenceType': 0.7621738271912398,\n",
       "  'HotelChain': 0.7524513709573858,\n",
       "  'Traveller': 0.8185299525179436,\n",
       "  'BillingInformation': 0.8027183007251008,\n",
       "  'Hotel': 0.8125459470601629,\n",
       "  'abstract Booking': 0.8807249799569535,\n",
       "  'FinalizedBooking': 0.8453517697054076,\n",
       "  'AccommodationDeal': 0.7904919654519489,\n",
       "  'Address': 0.7690686381801574,\n",
       "  'ReliabilityRating': 0.742393528112114,\n",
       "  'Competitor': 0.7588029189253622,\n",
       "  'FinancialCompensation': 0.7759867689855546,\n",
       "  'CreditCard': 0.8355173066516792}}"
      ]
     },
     "execution_count": 1227,
     "metadata": {},
     "output_type": "execute_result"
    }
   ],
   "source": [
    "dict_sim_all"
   ]
  },
  {
   "cell_type": "code",
   "execution_count": 1228,
   "metadata": {
    "id": "0h_VDYCKdqHv"
   },
   "outputs": [
    {
     "name": "stdout",
     "output_type": "stream",
     "text": [
      "{'RoomType': {'BookingType': 0.8586905421370973, 'RoomType': 0.9909474228763404, 'HotelRating': 0.8628590451279413, 'TravelPreferenceType': 0.8523107233606312, 'HotelChain': 0.7899386305978677, 'Traveller': 0.7856211695377944, 'BillingInformation': 0.7373299500519845, 'Hotel': 0.803014239376256, 'abstract Booking': 0.7966826891771881, 'FinalizedBooking': 0.7599967768749349, 'AccommodationDeal': 0.7898298615019098, 'Address': 0.7406714734916332, 'ReliabilityRating': 0.7450293605729348, 'Competitor': 0.7491683134090827, 'FinancialCompensation': 0.7221996135030353, 'CreditCard': 0.748666713768304}, 'BookingStatus': {'BookingType': 0.8661749756348975, 'RoomType': 0.8027120785275237, 'HotelRating': 0.8063557275805142, 'TravelPreferenceType': 0.7979784789716897, 'HotelChain': 0.752507900522799, 'Traveller': 0.7863886533144686, 'BillingInformation': 0.7421933936565029, 'Hotel': 0.765158921269184, 'abstract Booking': 0.8182549867595602, 'FinalizedBooking': 0.8375256990734169, 'AccommodationDeal': 0.7485747104703425, 'Address': 0.7079166390062255, 'ReliabilityRating': 0.7365700442659926, 'Competitor': 0.7203026306378849, 'FinancialCompensation': 0.7204334980525696, 'CreditCard': 0.7402701013055711}, 'PaymentType': {'BookingType': 0.9416865356929348, 'RoomType': 0.8278632526260015, 'HotelRating': 0.7986617703017248, 'TravelPreferenceType': 0.8329329010872307, 'HotelChain': 0.7618193040462409, 'Traveller': 0.7778401797500711, 'BillingInformation': 0.7631805648535227, 'Hotel': 0.7754284724588938, 'abstract Booking': 0.8138978192445329, 'FinalizedBooking': 0.7745697324416994, 'AccommodationDeal': 0.785991631399582, 'Address': 0.741611111750419, 'ReliabilityRating': 0.7223185734876654, 'Competitor': 0.733839052537241, 'FinancialCompensation': 0.7607367317307262, 'CreditCard': 0.7866162992533525}, 'HotelBookingManager': {'BookingType': 0.8511010696673156, 'RoomType': 0.8101730565613753, 'HotelRating': 0.8142031095016976, 'TravelPreferenceType': 0.8223579911995257, 'HotelChain': 0.8180837744138341, 'Traveller': 0.8283429354733052, 'BillingInformation': 0.8006740261354853, 'Hotel': 0.8285226862749987, 'abstract Booking': 0.833304965536124, 'FinalizedBooking': 0.8215572754911528, 'AccommodationDeal': 0.807897294449867, 'Address': 0.7655345032614871, 'ReliabilityRating': 0.7802856420682818, 'Competitor': 0.7994576881961268, 'FinancialCompensation': 0.7653001201783618, 'CreditCard': 0.7845716391978724}, 'HotelChain': {'BookingType': 0.8060348902608302, 'RoomType': 0.8050499934827958, 'HotelRating': 0.8141858795942418, 'TravelPreferenceType': 0.8069865275630245, 'HotelChain': 0.8997659193041454, 'Traveller': 0.7814532055470347, 'BillingInformation': 0.782542067492046, 'Hotel': 0.8490227802531454, 'abstract Booking': 0.7564573525241864, 'FinalizedBooking': 0.7588115288704408, 'AccommodationDeal': 0.767714687083321, 'Address': 0.7817529484203132, 'ReliabilityRating': 0.7674571628218338, 'Competitor': 0.7888264278341066, 'FinancialCompensation': 0.7691122165511807, 'CreditCard': 0.7736867181311533}, 'Traveller': {'BookingType': 0.7803059860359604, 'RoomType': 0.7995898041167441, 'HotelRating': 0.827008486747633, 'TravelPreferenceType': 0.8173404294293339, 'HotelChain': 0.8279193603478947, 'Traveller': 0.937200582630512, 'BillingInformation': 0.7705147645461562, 'Hotel': 0.83129417792495, 'abstract Booking': 0.7912251606777226, 'FinalizedBooking': 0.7705964595569484, 'AccommodationDeal': 0.8013673478651213, 'Address': 0.7676629518173813, 'ReliabilityRating': 0.8622760371681579, 'Competitor': 0.8091952245053294, 'FinancialCompensation': 0.7692678746617051, 'CreditCard': 0.7839565138324948}, 'BillingInformation': {'BookingType': 0.7784675148282941, 'RoomType': 0.7356592066920595, 'HotelRating': 0.7365478402285175, 'TravelPreferenceType': 0.7445706032732179, 'HotelChain': 0.8052426594934556, 'Traveller': 0.8500052658232804, 'BillingInformation': 0.9808637765581406, 'Hotel': 0.8247027355218403, 'abstract Booking': 0.772250781604519, 'FinalizedBooking': 0.7535189560377689, 'AccommodationDeal': 0.7944125208752195, 'Address': 0.8462007578180625, 'ReliabilityRating': 0.7419363331079788, 'Competitor': 0.8058132135084071, 'FinancialCompensation': 0.8395337788951263, 'CreditCard': 0.8246827383876495}, 'TravelPreference': {'BookingType': 0.7767424465702832, 'RoomType': 0.758149222587078, 'HotelRating': 0.7462071931541373, 'TravelPreferenceType': 0.8185173479905459, 'HotelChain': 0.7760021172472881, 'Traveller': 0.8188729184251222, 'BillingInformation': 0.7691018386557312, 'Hotel': 0.789056619578719, 'abstract Booking': 0.7689751922370842, 'FinalizedBooking': 0.724897359396571, 'AccommodationDeal': 0.8410547602415432, 'Address': 0.7807316685087293, 'ReliabilityRating': 0.7392877688749323, 'Competitor': 0.7828974237480625, 'FinancialCompensation': 0.7763640034381417, 'CreditCard': 0.7907430623878394}, 'Hotel': {'BookingType': 0.8174159262827667, 'RoomType': 0.8432980249667227, 'HotelRating': 0.8533250595701234, 'TravelPreferenceType': 0.8379110544763556, 'HotelChain': 0.8328546434445637, 'Traveller': 0.8055066888808003, 'BillingInformation': 0.7965094170875988, 'Hotel': 0.8819408492310136, 'abstract Booking': 0.797920448889904, 'FinalizedBooking': 0.7549044235981136, 'AccommodationDeal': 0.850123261091052, 'Address': 0.8285483591452838, 'ReliabilityRating': 0.7422508943636043, 'Competitor': 0.7852711563336533, 'FinancialCompensation': 0.76734530984181, 'CreditCard': 0.7782780115450015}, 'abstract Offer': {'BookingType': 0.7833342903451387, 'RoomType': 0.7592300701161118, 'HotelRating': 0.7456811590615027, 'TravelPreferenceType': 0.7664436876446697, 'HotelChain': 0.7961268034187059, 'Traveller': 0.7610974788326532, 'BillingInformation': 0.763411846167771, 'Hotel': 0.7657998667354337, 'abstract Booking': 0.7836938983547775, 'FinalizedBooking': 0.7679701317150621, 'AccommodationDeal': 0.7813729040529894, 'Address': 0.7647870827916784, 'ReliabilityRating': 0.7470063829691225, 'Competitor': 0.8499795783996928, 'FinancialCompensation': 0.7653623329543843, 'CreditCard': 0.7538726623515101}, 'SpecialOffer': {'BookingType': 0.8166401269255043, 'RoomType': 0.7944324271150082, 'HotelRating': 0.7849013152352134, 'TravelPreferenceType': 0.8006157367716331, 'HotelChain': 0.8037865331685813, 'Traveller': 0.7723909283292538, 'BillingInformation': 0.7869479735796091, 'Hotel': 0.783550950040005, 'abstract Booking': 0.7733960500483021, 'FinalizedBooking': 0.7790383297532539, 'AccommodationDeal': 0.814190052472285, 'Address': 0.7757914716332801, 'ReliabilityRating': 0.7502852873958284, 'Competitor': 0.8412652946429956, 'FinancialCompensation': 0.7795007949460969, 'CreditCard': 0.7716411924049401}, 'RegularOffer': {'BookingType': 0.7997879308320759, 'RoomType': 0.7803062228133726, 'HotelRating': 0.7751795363646837, 'TravelPreferenceType': 0.7823852545246617, 'HotelChain': 0.802534872736453, 'Traveller': 0.7856719680958792, 'BillingInformation': 0.7788094607704915, 'Hotel': 0.7768175516774664, 'abstract Booking': 0.767945994922723, 'FinalizedBooking': 0.7631304443852889, 'AccommodationDeal': 0.7919398941543253, 'Address': 0.7633711321677944, 'ReliabilityRating': 0.7760655834603206, 'Competitor': 0.8602063086488746, 'FinancialCompensation': 0.7830587708428319, 'CreditCard': 0.7662756520183712}, 'TravelSearch': {'BookingType': 0.815065879991, 'RoomType': 0.8013318055248408, 'HotelRating': 0.8042912802329004, 'TravelPreferenceType': 0.8345233296314064, 'HotelChain': 0.7974749861719936, 'Traveller': 0.824143261056726, 'BillingInformation': 0.7659816173171369, 'Hotel': 0.7909527642951478, 'abstract Booking': 0.7877350580061881, 'FinalizedBooking': 0.7696569688634185, 'AccommodationDeal': 0.8030884291448532, 'Address': 0.7774350946715028, 'ReliabilityRating': 0.7505431595091171, 'Competitor': 0.768487140407944, 'FinancialCompensation': 0.7513166807818255, 'CreditCard': 0.7684388070635291}, 'SearchInfo': {'BookingType': 0.7585096118302125, 'RoomType': 0.763404872727234, 'HotelRating': 0.7590927899510511, 'TravelPreferenceType': 0.7652599584128487, 'HotelChain': 0.7942268070929104, 'Traveller': 0.763166530804506, 'BillingInformation': 0.7747902506968464, 'Hotel': 0.7536385161471305, 'abstract Booking': 0.7267734710860081, 'FinalizedBooking': 0.7251319091485788, 'AccommodationDeal': 0.7656043549378957, 'Address': 0.7623047213884804, 'ReliabilityRating': 0.7604540743845495, 'Competitor': 0.7698225608881484, 'FinancialCompensation': 0.7630372807621384, 'CreditCard': 0.745486239244551}, 'RoomAvailability': {'BookingType': 0.8279702760376856, 'RoomType': 0.8490306871420473, 'HotelRating': 0.8250617617706244, 'TravelPreferenceType': 0.8339476584412958, 'HotelChain': 0.7965838403546616, 'Traveller': 0.7906835224167554, 'BillingInformation': 0.7611111886478269, 'Hotel': 0.7971372448216482, 'abstract Booking': 0.8166355736038915, 'FinalizedBooking': 0.8053391211497725, 'AccommodationDeal': 0.8083473880065906, 'Address': 0.7477233861687931, 'ReliabilityRating': 0.775572232285234, 'Competitor': 0.7777154858507901, 'FinancialCompensation': 0.7433816670466669, 'CreditCard': 0.7464003656142072}, 'abstract TripInfo': {'BookingType': 0.8143895557433828, 'RoomType': 0.8161907517553271, 'HotelRating': 0.7847751472645342, 'TravelPreferenceType': 0.818000163717198, 'HotelChain': 0.7531428011422323, 'Traveller': 0.8247789976275892, 'BillingInformation': 0.7541081867940767, 'Hotel': 0.8116487489071654, 'abstract Booking': 0.8775000063523702, 'FinalizedBooking': 0.8082002804111104, 'AccommodationDeal': 0.7988670695521838, 'Address': 0.7568812586198744, 'ReliabilityRating': 0.7560498897818503, 'Competitor': 0.7457795635555751, 'FinancialCompensation': 0.7407143316636711, 'CreditCard': 0.7830044902827625}, 'BookingInfo': {'BookingType': 0.8549906930945695, 'RoomType': 0.8049231800176824, 'HotelRating': 0.812660150034552, 'TravelPreferenceType': 0.8164726877755569, 'HotelChain': 0.7946536555800532, 'Traveller': 0.8203533388527279, 'BillingInformation': 0.818450684491493, 'Hotel': 0.8028478687807897, 'abstract Booking': 0.8243207329237155, 'FinalizedBooking': 0.8167452310009956, 'AccommodationDeal': 0.8076435341791308, 'Address': 0.7638426497686989, 'ReliabilityRating': 0.7647570405039401, 'Competitor': 0.7727150983544816, 'FinancialCompensation': 0.774988317362115, 'CreditCard': 0.7710508075697232}, 'Booking': {'BookingType': 0.8291437531184138, 'RoomType': 0.7627877391434869, 'HotelRating': 0.7565717749654702, 'TravelPreferenceType': 0.7621738271912398, 'HotelChain': 0.7524513709573858, 'Traveller': 0.8185299525179436, 'BillingInformation': 0.8027183007251008, 'Hotel': 0.8125459470601629, 'abstract Booking': 0.8807249799569535, 'FinalizedBooking': 0.8453517697054076, 'AccommodationDeal': 0.7904919654519489, 'Address': 0.7690686381801574, 'ReliabilityRating': 0.742393528112114, 'Competitor': 0.7588029189253622, 'FinancialCompensation': 0.7759867689855546, 'CreditCard': 0.8355173066516792}}\n"
     ]
    },
    {
     "data": {
      "text/plain": [
       "[('TravelPreference', 'AccommodationDeal'),\n",
       " ('abstract Offer', None),\n",
       " ('SpecialOffer', None),\n",
       " ('RegularOffer', 'Competitor'),\n",
       " ('TravelSearch', None),\n",
       " ('SearchInfo', None),\n",
       " ('RoomAvailability', 'HotelRating'),\n",
       " ('abstract TripInfo', None),\n",
       " ('BookingInfo', None),\n",
       " (None, 'Address'),\n",
       " (None, 'ReliabilityRating'),\n",
       " (None, 'FinancialCompensation'),\n",
       " (None, 'CreditCard')]"
      ]
     },
     "execution_count": 1228,
     "metadata": {},
     "output_type": "execute_result"
    }
   ],
   "source": [
    "mapping = match_classes(ref_classes, stu_classes, dict_sim_all, 0.8)\n",
    "mapping[0]"
   ]
  },
  {
   "cell_type": "code",
   "execution_count": 1229,
   "metadata": {
    "id": "c-JGkI6OgFFf"
   },
   "outputs": [],
   "source": [
    "for map in mapping[0]:\n",
    "    if map[0] and map[1]:\n",
    "        ref_cls.cls_atr[map[0]][\"score\"] = 1\n",
    "        ref_cls.cls_atr[map[0]][\"counterpart\"] = map[1]\n",
    "\n",
    "        stu_cls.cls_atr[map[1]][\"score\"] = 1\n",
    "        stu_cls.cls_atr[map[1]][\"counterpart\"] = map[0]\n",
    "\n",
    "        if ref_cls.cls_atr[map[0]][\"type\"] != stu_cls.cls_atr[map[1]][\"type\"]:\n",
    "            # type mismatch\n",
    "            ref_cls.cls_atr[map[0]][\"score\"] = 0.5\n",
    "            stu_cls.cls_atr[map[1]][\"score\"] = 0.5"
   ]
  },
  {
   "cell_type": "code",
   "execution_count": null,
   "metadata": {},
   "outputs": [],
   "source": []
  },
  {
   "cell_type": "markdown",
   "metadata": {
    "id": "AD1YW_WlcROJ"
   },
   "source": [
    "## Stage 2.1 Attribute mapping"
   ]
  },
  {
   "cell_type": "code",
   "execution_count": 1230,
   "metadata": {
    "id": "iscQC5FOiqGK"
   },
   "outputs": [],
   "source": [
    "def get_cosine_disntance(text1, text2, embedding):\n",
    "    avg = np.sum(embedding[text1], axis=0)\n",
    "    emb_i = avg / len(text1)\n",
    "\n",
    "    avg = np.sum(embedding[text2], axis=0)\n",
    "    emb_j = avg / len(text2)\n",
    "\n",
    "    return np.dot(emb_i, emb_j) / (np.linalg.norm(emb_i) * np.linalg.norm(emb_j))"
   ]
  },
  {
   "cell_type": "code",
   "execution_count": 1231,
   "metadata": {
    "id": "Y_pf4bzuhcWM"
   },
   "outputs": [],
   "source": [
    "def create_cosine_similarity_dict(attr_1, attr_2, embedding):\n",
    "    # attr_1: list[list] split camel case into separated case\n",
    "    # attr_2: list[list] split camel case into separated case\n",
    "    # embedding:\n",
    "    # raw_1: list[str] camcel case attributes\n",
    "    # raw_2: list[str] camcel case attributes\n",
    "\n",
    "    # create cosine distance between two attributes with embeeding\n",
    "\n",
    "    # >>> dic = createCosineDistance(['deviceStatus', 'deviceId'], ['id'], sgram_mde)\n",
    "    similarities = []\n",
    "    for att in attr_1:\n",
    "        emb_i = get_mde_embedding(att, embedding)\n",
    "        pair = []\n",
    "        for attribute in attr_2:\n",
    "            emb_j = get_mde_embedding(attribute, embedding)\n",
    "\n",
    "            sim = np.dot(emb_i, emb_j) / (np.linalg.norm(emb_i) * np.linalg.norm(emb_j))\n",
    "            pair.append(sim)\n",
    "\n",
    "        similarities.append(pair)\n",
    "\n",
    "    dict_attr = {}\n",
    "    for i in range(len(attr_1)):\n",
    "        dict_attr[attr_1[i]] = {}\n",
    "        for j in range(len(attr_2)):\n",
    "            dict_attr[attr_1[i]][attr_2[j]] = similarities[i][j]\n",
    "\n",
    "    return dict_attr"
   ]
  },
  {
   "cell_type": "code",
   "execution_count": 1232,
   "metadata": {
    "id": "3zgOAtMkjId5"
   },
   "outputs": [],
   "source": [
    "def match_attributes(raw_1, raw_2, dict_attr, threshold=0.5):\n",
    "    # map attributes lists raw_1 and raw_2\n",
    "    # >>> mapAttributes(['deviceStatus'], ['id'], dic)[0]\n",
    "    def node_subst_cost_attr(node1, node2):\n",
    "        # threshod as 0.45\n",
    "        if dict_attr[node1[\"name\"]][node2[\"name\"]] < threshold:\n",
    "            return 3\n",
    "        else:\n",
    "            return 1 - dict_attr[node1[\"name\"]][node2[\"name\"]]\n",
    "\n",
    "    G_att_1 = nx.Graph()\n",
    "    G_att_2 = nx.Graph()\n",
    "    for node in raw_1:\n",
    "        G_att_1.add_node(node, name=node)\n",
    "\n",
    "    for node in raw_2:\n",
    "        G_att_2.add_node(node, name=node)\n",
    "\n",
    "    for v in nx.optimize_edit_paths(\n",
    "        G_att_1,\n",
    "        G_att_2,\n",
    "        node_subst_cost=node_subst_cost_attr,\n",
    "        edge_match=None,\n",
    "        timeout=20,\n",
    "    ):\n",
    "        minv = v\n",
    "    # minv\n",
    "\n",
    "    return minv"
   ]
  },
  {
   "cell_type": "code",
   "execution_count": 1233,
   "metadata": {
    "id": "_DfPQzlrkIPr"
   },
   "outputs": [],
   "source": [
    "def check_attributes_type(attr_1, attr_2, ref_dict, stu_dict):\n",
    "    # given two attribute, compare whether their type can match\n",
    "    attr_1 = attr_1.split()  # from reference solution do not need to check it\n",
    "    attr_2 = attr_2.split()\n",
    "\n",
    "    # if enumerate literal and attributes\n",
    "    # if len(attr_1) != len(attr_2):\n",
    "    #   return 0.5, 0.5\n",
    "\n",
    "    # if an attributes use a regular class as its type\n",
    "    if len(attr_2) == 2:\n",
    "        t = attr_2[0].strip()\n",
    "        cls = stu_dict.get(t, None)\n",
    "        if cls is not None and (\n",
    "            stu_dict[t][\"type\"] == \"regular\" or stu_dict[t][\"type\"] == \"abstract\"\n",
    "        ):\n",
    "            return 0.5, 0.5\n",
    "\n",
    "    if len(attr_1) == 2 or len(attr_2) == 2:\n",
    "        t = attr_1[0].strip()\n",
    "        cls = ref_dict.get(t, None)\n",
    "        # print(cls)\n",
    "        t_2 = attr_2[0].strip()\n",
    "        cls_2 = stu_dict.get(t_2, None)\n",
    "        # print(cls_2)\n",
    "        if cls is not None:\n",
    "            if ref_dict[t][\"counterpart\"] != t_2:\n",
    "                return 0.5, 0.5\n",
    "        if cls_2 is not None:\n",
    "            if stu_dict[t_2][\"counterpart\"] != t:\n",
    "                return 0.5, 0.5\n",
    "\n",
    "    return 1, 1"
   ]
  },
  {
   "cell_type": "code",
   "execution_count": 1234,
   "metadata": {},
   "outputs": [
    {
     "data": {
      "text/plain": [
       "(1, 1)"
      ]
     },
     "execution_count": 1234,
     "metadata": {},
     "output_type": "execute_result"
    }
   ],
   "source": [
    "x = check_attributes_type(\n",
    "    (\"CommandStatus commandStatus\", \"ControllerStatus status\")[0],\n",
    "    (\"CommandStatus commandStatus\", \"ControllerStatus status\")[1],\n",
    "    ref_cls.cls_atr,\n",
    "    stu_cls.cls_atr,\n",
    ")\n",
    "x"
   ]
  },
  {
   "cell_type": "markdown",
   "metadata": {
    "id": "Aa4XV2BtjJyR"
   },
   "source": [
    "### Stage 2.1.1 Attribute <-> Attribute (mapped classes)"
   ]
  },
  {
   "cell_type": "code",
   "execution_count": 1235,
   "metadata": {
    "id": "AWTlbDOnrwK-"
   },
   "outputs": [
    {
     "name": "stdout",
     "output_type": "stream",
     "text": [
      "['RoomType', 'RoomType']\n",
      "mapping [('SINGLE', 'Single'), ('DOUBLE', 'Double'), ('TWIN', 'Twin')]\n",
      "====================\n",
      "['BookingStatus', 'BookingType']\n",
      "mapping [('FINALIZED', None), ('CONFIRMED', None), ('CANCELLED_BY_HBMS', None), ('PRELIMINARY', None), ('CANCELLED_BY_TRAVELLER', None), ('CANCELLED_BY_HOTEL', 'PayAtHotel'), (None, 'PrePaid')]\n",
      "====================\n",
      "['PaymentType', 'TravelPreferenceType']\n",
      "mapping [('PREPAID', None), ('PAID_AT_HOTEL', None), (None, 'BreakfastIncluded'), (None, 'FreeWifi'), (None, 'FrontDesk')]\n",
      "====================\n",
      "['HotelBookingManager', 'FinalizedBooking']\n",
      "mapping [(None, 'boolean isConfirmed'), (None, 'date confirmationDeadline) inherit Bookin')]\n",
      "====================\n",
      "['HotelChain', 'HotelChain']\n",
      "mapping [(None, 'string name')]\n",
      "====================\n",
      "['Traveller', 'Traveller']\n",
      "mapping [('string name', 'string name'), ('int reliabilityRating', 'ReliabilityRating reliabilityRating'), (None, 'BillingInformation billingInformation')]\n",
      "====================\n",
      "['BillingInformation', 'BillingInformation']\n",
      "mapping [('string companyName', 'string companyName'), ('string address', 'string billingAddress')]\n",
      "====================\n",
      "['TravelPreference', 'AccommodationDeal']\n",
      "mapping [('string preference', 'string keyPreferences'), ('string value', 'string price'), (None, 'string area')]\n",
      "====================\n",
      "['Hotel', 'Hotel']\n",
      "mapping [('string city', 'string city'), ('string country', 'string name'), ('string area', 'string address'), (None, 'HotelChain hotelChain'), (None, 'int rating')]\n",
      "====================\n",
      "['RegularOffer', 'Competitor']\n",
      "mapping [(None, 'string name'), (None, 'Offer offer')]\n",
      "====================\n",
      "['RoomAvailability', 'HotelRating']\n",
      "mapping [(None, 'OneStar'), (None, 'TwoStars'), (None, 'ThreeStars'), (None, 'FourStars'), (None, 'FiveStars')]\n",
      "====================\n",
      "['Booking', 'abstract Booking']\n",
      "mapping [('int bookingId', 'int numberOfRooms'), ('date cancellationDeadline', 'date cancellationDeadline'), ('string creditCardNumber', None), ('BookingStatus bookingStatus', 'string bookingIdentifier'), ('PaymentType paymentType', None), ('date confirmationDate', 'date dateArrival'), ('float paidAmount', 'boolean isPrePaid'), (None, 'date dateDeparture'), (None, 'RoomType roomType')]\n",
      "====================\n"
     ]
    }
   ],
   "source": [
    "# map classes\n",
    "pairs = []\n",
    "\n",
    "# get matched pairs\n",
    "for key in ref_cls.cls_atr:\n",
    "    if ref_cls.cls_atr[key][\"counterpart\"] != None:\n",
    "        pair = [key, ref_cls.cls_atr[key][\"counterpart\"]]\n",
    "        pairs.append(pair)\n",
    "\n",
    "for pair in pairs:\n",
    "    if pair[0] and pair[1]:\n",
    "        print(pair)\n",
    "\n",
    "        # map attributes:\n",
    "        # matched_ref = set()\n",
    "        # matched_attr = set()\n",
    "\n",
    "        raw_1 = []\n",
    "        for attributes in ref_cls.cls_atr[pair[0]][\"attributes\"]:\n",
    "            raw_1.append(attributes)\n",
    "\n",
    "        raw_2 = []\n",
    "        for attributes in stu_cls.cls_atr[pair[1]][\"attributes\"]:\n",
    "            raw_2.append(attributes)\n",
    "\n",
    "        cos_dict = create_cosine_similarity_dict(raw_1, raw_2, sgram_mde)\n",
    "        mappings = match_attributes(raw_1, raw_2, cos_dict)[0]\n",
    "        print(\"mapping\", mappings)\n",
    "\n",
    "        for mapping in mappings:\n",
    "            if mapping[0] != None and mapping[1] != None:\n",
    "                scores = check_attributes_type(\n",
    "                    mapping[0], mapping[1], ref_cls.cls_atr, stu_cls.cls_atr\n",
    "                )\n",
    "                ref_cls.cls_atr[pair[0]][\"attributes\"][mapping[0]][\"score\"] = scores[0]\n",
    "                ref_cls.cls_atr[pair[0]][\"attributes\"][mapping[0]][\"counterpart\"] = (\n",
    "                    mapping[1],\n",
    "                    pair[1],\n",
    "                )\n",
    "                stu_cls.cls_atr[pair[1]][\"attributes\"][mapping[1]][\"score\"] = scores[1]\n",
    "                stu_cls.cls_atr[pair[1]][\"attributes\"][mapping[1]][\"counterpart\"] = (\n",
    "                    mapping[0],\n",
    "                    pair[0],\n",
    "                )\n",
    "\n",
    "        print(\"=\" * 20)"
   ]
  },
  {
   "cell_type": "markdown",
   "metadata": {
    "id": "w1MhcWsJ5oaH"
   },
   "source": [
    "### Stage 2.1.2 Attribute <-> Attribute (between any classes)"
   ]
  },
  {
   "cell_type": "code",
   "execution_count": 1236,
   "metadata": {
    "id": "h6Hg_bA7AozB"
   },
   "outputs": [],
   "source": [
    "def create_cosine_similarity_list(attr_1, attr_2, embedding):\n",
    "    # attr_1: list[list] split camel case into separated case\n",
    "    # attr_2: list[list] split camel case into separated case\n",
    "    # embedding:\n",
    "    # raw_1: list[str] camcel case attributes\n",
    "    # raw_2: list[str] camcel case attributes\n",
    "\n",
    "    # create cosine distance between two attributes with embeeding\n",
    "\n",
    "    # >>> dic = createCosineDistance(['deviceStatus', 'deviceId'], ['id'], sgram_mde)\n",
    "    similarities = []\n",
    "    for att in attr_1:\n",
    "        emb_i = get_mde_embedding(att, embedding)\n",
    "        pair = []\n",
    "        for attribute in attr_2:\n",
    "            emb_j = get_mde_embedding(attribute, embedding)\n",
    "\n",
    "            sim = np.dot(emb_i, emb_j) / (np.linalg.norm(emb_i) * np.linalg.norm(emb_j))\n",
    "            pair.append(sim)\n",
    "\n",
    "        similarities.append(pair)\n",
    "\n",
    "    return similarities"
   ]
  },
  {
   "cell_type": "code",
   "execution_count": 1237,
   "metadata": {
    "id": "MJjwB1h-9rgc"
   },
   "outputs": [],
   "source": [
    "def combine_two_dict(\n",
    "    list_1, list_2, atr_1, atr_2, cls_1, cls_2, weight_1=0.9, weight_2=0.1\n",
    "):\n",
    "    # list_1: similarity between cls\n",
    "    # list_2: cos similarity between attributes\n",
    "    if weight_1 + weight_2 != 1:\n",
    "        raise ValueError(\"weight_1 + weight_2 != 1\")\n",
    "    result = {}\n",
    "    for i in range(len(atr_1)):\n",
    "        atr_r = atr_1[i]\n",
    "        cls_r = cls_1[i]\n",
    "        tmp_ref = (atr_r, cls_r)\n",
    "        result[tmp_ref] = {}\n",
    "        for j in range(len(atr_2)):\n",
    "            atr_s = atr_2[j]\n",
    "            cls_s = cls_2[j]\n",
    "            tmp_stu = (atr_s, cls_s)\n",
    "\n",
    "            result[tmp_ref][tmp_stu] = weight_1 * list_1[i][j] + weight_2 * list_2[i][j]\n",
    "\n",
    "    return result"
   ]
  },
  {
   "cell_type": "code",
   "execution_count": 1238,
   "metadata": {
    "id": "ksyw3eTg5nLe"
   },
   "outputs": [
    {
     "name": "stdout",
     "output_type": "stream",
     "text": [
      "(('FINALIZED', 'BookingStatus'), None)\n",
      "(('CONFIRMED', 'BookingStatus'), ('boolean isConfirmed', 'FinalizedBooking'))\n",
      "(('CANCELLED_BY_HBMS', 'BookingStatus'), None)\n",
      "(('PRELIMINARY', 'BookingStatus'), None)\n",
      "(('CANCELLED_BY_TRAVELLER', 'BookingStatus'), None)\n",
      "(('PREPAID', 'PaymentType'), None)\n",
      "(('PAID_AT_HOTEL', 'PaymentType'), ('HotelChain hotelChain', 'Hotel'))\n",
      "(('int numberOfRooms', 'abstract TripInfo'), ('int rating', 'Hotel'))\n",
      "(('RoomType roomType', 'abstract TripInfo'), ('RoomType roomType', 'abstract Booking'))\n",
      "(('date arrivalDate', 'abstract TripInfo'), ('date expirationDate', 'CreditCard'))\n",
      "(('date departureDate', 'abstract TripInfo'), ('date dateDeparture', 'abstract Booking'))\n",
      "(('float budgetPerNight', 'abstract TripInfo'), None)\n",
      "(('string creditCardNumber', 'Booking'), ('string cardNumber', 'CreditCard'))\n",
      "(('PaymentType paymentType', 'Booking'), ('date confirmationDeadline) inherit Bookin', 'FinalizedBooking'))\n",
      "(None, ('PrePaid', 'BookingType'))\n",
      "(None, ('OneStar', 'HotelRating'))\n",
      "(None, ('TwoStars', 'HotelRating'))\n",
      "(None, ('ThreeStars', 'HotelRating'))\n",
      "(None, ('FourStars', 'HotelRating'))\n",
      "(None, ('FiveStars', 'HotelRating'))\n",
      "(None, ('BreakfastIncluded', 'TravelPreferenceType'))\n",
      "(None, ('FreeWifi', 'TravelPreferenceType'))\n",
      "(None, ('FrontDesk', 'TravelPreferenceType'))\n",
      "(None, ('string name', 'HotelChain'))\n",
      "(None, ('BillingInformation billingInformation', 'Traveller'))\n",
      "(None, ('string area', 'AccommodationDeal'))\n",
      "(None, ('string street', 'Address'))\n",
      "(None, ('string city', 'Address'))\n",
      "(None, ('string state', 'Address'))\n",
      "(None, ('string zipCode', 'Address'))\n",
      "(None, ('int score', 'ReliabilityRating'))\n",
      "(None, ('string name', 'Competitor'))\n",
      "(None, ('Offer offer', 'Competitor'))\n",
      "(None, ('string compensationDetails', 'FinancialCompensation'))\n",
      "(None, ('string cardHolderName', 'CreditCard'))\n",
      "====================\n"
     ]
    }
   ],
   "source": [
    "# attr between any classes\n",
    "\n",
    "raw_1 = []\n",
    "ref_source = []\n",
    "tup_r = []\n",
    "# get attributes on instrucotr sides\n",
    "for cls in ref_cls.cls_atr:\n",
    "    for attributes in ref_cls.cls_atr[cls][\"attributes\"]:\n",
    "        if ref_cls.cls_atr[cls][\"attributes\"][attributes][\"counterpart\"] == None:\n",
    "            raw_1.append(attributes)\n",
    "            ref_source.append(cls)\n",
    "            tup_r.append((attributes, cls))\n",
    "\n",
    "raw_2 = []\n",
    "stu_source = []\n",
    "tup_s = []\n",
    "# get attributes on student sides\n",
    "for cls in stu_cls.cls_atr:\n",
    "    for attributes in stu_cls.cls_atr[cls][\"attributes\"]:\n",
    "        if stu_cls.cls_atr[cls][\"attributes\"][attributes][\"counterpart\"] == None:\n",
    "            raw_2.append(attributes)\n",
    "            stu_source.append(cls)\n",
    "            tup_s.append((attributes, cls))\n",
    "\n",
    "list_1 = create_cosine_similarity_list(raw_1, raw_2, sgram_mde)\n",
    "list_2 = create_cosine_similarity_list(ref_source, stu_source, sgram_mde)\n",
    "combined = combine_two_dict(list_1, list_2, raw_1, raw_2, ref_source, stu_source)\n",
    "\n",
    "mappings = match_attributes(tup_r, tup_s, combined)[0]\n",
    "\n",
    "for mapping in mappings:\n",
    "    print(mapping)\n",
    "    if mapping[0] != None and mapping[1] != None:\n",
    "        scores = check_attributes_type(\n",
    "            mapping[0][0], mapping[1][0], ref_cls.cls_atr, stu_cls.cls_atr\n",
    "        )\n",
    "\n",
    "        ref_cls.cls_atr[mapping[0][1]][\"attributes\"][mapping[0][0]][\"score\"] = min(\n",
    "            scores[0], 0.5\n",
    "        )\n",
    "        ref_cls.cls_atr[mapping[0][1]][\"attributes\"][mapping[0][0]][\"counterpart\"] = (\n",
    "            mapping[1]\n",
    "        )\n",
    "\n",
    "        stu_cls.cls_atr[mapping[1][1]][\"attributes\"][mapping[1][0]][\"score\"] = min(\n",
    "            scores[1], 0.5\n",
    "        )\n",
    "        stu_cls.cls_atr[mapping[1][1]][\"attributes\"][mapping[1][0]][\"counterpart\"] = (\n",
    "            mapping[0]\n",
    "        )\n",
    "\n",
    "        if ref_cls.cls_atr[mapping[0][1]][\"counterpart\"] == mapping[1][1]:\n",
    "            ref_cls.cls_atr[mapping[0][1]][\"attributes\"][mapping[0][0]][\"score\"] = min(\n",
    "                scores[0], 1\n",
    "            )\n",
    "\n",
    "            stu_cls.cls_atr[mapping[1][1]][\"attributes\"][mapping[1][0]][\"score\"] = min(\n",
    "                scores[1], 1\n",
    "            )\n",
    "print(\"=\" * 20)"
   ]
  },
  {
   "cell_type": "markdown",
   "metadata": {
    "id": "z8jvTH1EcWAo"
   },
   "source": [
    "## Stage 2.2.1 Attribute mapping atr -> cls"
   ]
  },
  {
   "cell_type": "code",
   "execution_count": 1239,
   "metadata": {},
   "outputs": [
    {
     "name": "stdout",
     "output_type": "stream",
     "text": [
      "(('FINALIZED', 'BookingStatus'), None)\n",
      "(('CANCELLED_BY_HBMS', 'BookingStatus'), None)\n",
      "(('PRELIMINARY', 'BookingStatus'), None)\n",
      "(('CANCELLED_BY_TRAVELLER', 'BookingStatus'), None)\n",
      "(('PREPAID', 'PaymentType'), ('CreditCard', 'CreditCard'))\n",
      "(('float budgetPerNight', 'abstract TripInfo'), None)\n",
      "(None, ('Address', 'Address'))\n",
      "(None, ('ReliabilityRating', 'ReliabilityRating'))\n",
      "(None, ('FinancialCompensation', 'FinancialCompensation'))\n",
      "====================\n"
     ]
    }
   ],
   "source": [
    "#  get non-mapped attributes on instrucotr side\n",
    "\n",
    "raw_1 = []\n",
    "ref_source = []\n",
    "tup_r = []\n",
    "# get attributes on instrucotr sides\n",
    "for cls in ref_cls.cls_atr:\n",
    "    for attributes in ref_cls.cls_atr[cls][\"attributes\"]:\n",
    "        if ref_cls.cls_atr[cls][\"attributes\"][attributes][\"counterpart\"] == None:\n",
    "            raw_1.append(attributes)\n",
    "            ref_source.append(cls)\n",
    "            tup_r.append((attributes, cls))\n",
    "\n",
    "raw_2 = []\n",
    "stu_source = []\n",
    "tup_s = []\n",
    "# get un-mapped class on student sides\n",
    "for cls in stu_cls.cls_atr:\n",
    "    if stu_cls.cls_atr[cls][\"counterpart\"] == None:\n",
    "        raw_2.append(cls)\n",
    "        stu_source.append(cls)\n",
    "        tup_s.append((cls, cls))\n",
    "\n",
    "list_1 = create_cosine_similarity_list(raw_1, raw_2, sgram_mde)\n",
    "list_2 = create_cosine_similarity_list(ref_source, stu_source, sgram_mde)\n",
    "combined = combine_two_dict(list_1, list_2, raw_1, raw_2, ref_source, stu_source)\n",
    "\n",
    "mappings = match_attributes(tup_r, tup_s, combined)[0]\n",
    "\n",
    "for mapping in mappings:\n",
    "    print(mapping)\n",
    "    if mapping[0] != None and mapping[1] != None:\n",
    "        # scores = check_attributes_type(mapping[0][0], mapping[1][0], ref_cls.cls_atr, stu_cls.cls_atr)\n",
    "        ref_cls.cls_atr[mapping[0][1]][\"attributes\"][mapping[0][0]][\"score\"] = 0.5\n",
    "        ref_cls.cls_atr[mapping[0][1]][\"attributes\"][mapping[0][0]][\"counterpart\"] = (\n",
    "            None,\n",
    "            mapping[1][1],\n",
    "        )\n",
    "\n",
    "        stu_cls.cls_atr[mapping[1][1]][\"score\"] = 0.5\n",
    "        stu_cls.cls_atr[mapping[1][1]][\"counterpart\"] = mapping[0]\n",
    "\n",
    "print(\"=\" * 20)"
   ]
  },
  {
   "cell_type": "markdown",
   "metadata": {
    "id": "RUqlTdHicb7A"
   },
   "source": [
    "## Stage 2.2.2 Attribute mapping cls -> atr"
   ]
  },
  {
   "cell_type": "code",
   "execution_count": 1240,
   "metadata": {},
   "outputs": [
    {
     "name": "stdout",
     "output_type": "stream",
     "text": [
      "(('abstract Offer', 'abstract Offer'), ('Offer offer', 'Competitor'))\n",
      "(('SpecialOffer', 'SpecialOffer'), None)\n",
      "(('TravelSearch', 'TravelSearch'), None)\n",
      "(('SearchInfo', 'SearchInfo'), None)\n",
      "(('abstract TripInfo', 'abstract TripInfo'), None)\n",
      "(('BookingInfo', 'BookingInfo'), None)\n",
      "(None, ('PrePaid', 'BookingType'))\n",
      "(None, ('OneStar', 'HotelRating'))\n",
      "(None, ('TwoStars', 'HotelRating'))\n",
      "(None, ('ThreeStars', 'HotelRating'))\n",
      "(None, ('FourStars', 'HotelRating'))\n",
      "(None, ('FiveStars', 'HotelRating'))\n",
      "(None, ('BreakfastIncluded', 'TravelPreferenceType'))\n",
      "(None, ('FreeWifi', 'TravelPreferenceType'))\n",
      "(None, ('FrontDesk', 'TravelPreferenceType'))\n",
      "(None, ('string name', 'HotelChain'))\n",
      "(None, ('BillingInformation billingInformation', 'Traveller'))\n",
      "(None, ('string area', 'AccommodationDeal'))\n",
      "(None, ('string street', 'Address'))\n",
      "(None, ('string city', 'Address'))\n",
      "(None, ('string state', 'Address'))\n",
      "(None, ('string zipCode', 'Address'))\n",
      "(None, ('int score', 'ReliabilityRating'))\n",
      "(None, ('string name', 'Competitor'))\n",
      "(None, ('string compensationDetails', 'FinancialCompensation'))\n",
      "(None, ('string cardHolderName', 'CreditCard'))\n",
      "====================\n"
     ]
    }
   ],
   "source": [
    "#  get non-mapped cls on instrucotr side\n",
    "\n",
    "raw_1 = []\n",
    "ref_source = []\n",
    "tup_r = []\n",
    "# get class on instrucotr sides\n",
    "for cls in ref_cls.cls_atr:\n",
    "    if ref_cls.cls_atr[cls][\"counterpart\"] == None:\n",
    "        raw_1.append(cls)\n",
    "        ref_source.append(cls)\n",
    "        tup_r.append((cls, cls))\n",
    "\n",
    "raw_2 = []\n",
    "stu_source = []\n",
    "tup_s = []\n",
    "# get un-mapped class on student sides\n",
    "for cls in stu_cls.cls_atr:\n",
    "    for attributes in stu_cls.cls_atr[cls][\"attributes\"]:\n",
    "        if stu_cls.cls_atr[cls][\"attributes\"][attributes][\"counterpart\"] == None:\n",
    "            raw_2.append(attributes)\n",
    "            stu_source.append(cls)\n",
    "            tup_s.append((attributes, cls))\n",
    "\n",
    "list_1 = create_cosine_similarity_list(raw_1, raw_2, sgram_mde)\n",
    "list_2 = create_cosine_similarity_list(ref_source, stu_source, sgram_mde)\n",
    "combined = combine_two_dict(list_1, list_2, raw_1, raw_2, ref_source, stu_source)\n",
    "\n",
    "mappings = match_attributes(tup_r, tup_s, combined)[0]\n",
    "\n",
    "for mapping in mappings:\n",
    "    print(mapping)\n",
    "    if mapping[0] != None and mapping[1] != None:\n",
    "        # scores = check_attributes_type(mapping[0][0], mapping[1][0], ref_cls.cls_atr, stu_cls.cls_atr)\n",
    "        ref_cls.cls_atr[mapping[0][1]][\"score\"] = 0.5\n",
    "        ref_cls.cls_atr[mapping[0][1]][\"counterpart\"] = mapping[1]\n",
    "\n",
    "        stu_cls.cls_atr[mapping[1][1]][\"attributes\"][mapping[1][0]][\"score\"] = 0.5\n",
    "        stu_cls.cls_atr[mapping[1][1]][\"attributes\"][mapping[1][0]][\"counterpart\"] = (\n",
    "            None,\n",
    "            mapping[0][1],\n",
    "        )\n",
    "\n",
    "print(\"=\" * 20)"
   ]
  },
  {
   "cell_type": "code",
   "execution_count": null,
   "metadata": {},
   "outputs": [],
   "source": []
  },
  {
   "cell_type": "markdown",
   "metadata": {
    "id": "Nj29zba_g4b9"
   },
   "source": [
    "## Stage 3: Relationship mapping"
   ]
  },
  {
   "cell_type": "code",
   "execution_count": 1241,
   "metadata": {
    "id": "tcebf4Y10ZWF"
   },
   "outputs": [],
   "source": [
    "def check_relations_classes(ref_index, stu_index, ref_elements, stu_elements):\n",
    "    # ref_index: index of the element in the dsl\n",
    "    # stu_index: index of the element in the dsl\n",
    "    # ref_elements: list[str] elements in the dsl\n",
    "    # stu_elements: list[str] elements in the dsl\n",
    "\n",
    "    ref_class_1 = ref_elements[ref_index]\n",
    "    # check whether this is an abstract class\n",
    "    dict_keys = list(ref_attributes.keys())\n",
    "    if not ref_class_1 in dict_keys:\n",
    "        abstract = \"abstract \" + ref_class_1\n",
    "        ref_class_1 = abstract\n",
    "\n",
    "    true_pair = ref_attributes[ref_class_1][\"counterpart\"]\n",
    "    if isinstance(true_pair, tuple):\n",
    "        boolean_1 = False\n",
    "    elif true_pair == None:\n",
    "        boolean_1 = False\n",
    "    else:\n",
    "        tmp = true_pair.replace(\"abstract \", \"\")\n",
    "        boolean_1 = stu_elements[stu_index] == tmp\n",
    "    return boolean_1"
   ]
  },
  {
   "cell_type": "markdown",
   "metadata": {
    "id": "jOkmZADOQVKU"
   },
   "source": [
    "#### Compare rel"
   ]
  },
  {
   "cell_type": "code",
   "execution_count": 1242,
   "metadata": {
    "id": "W4LkPWHX0kRX"
   },
   "outputs": [],
   "source": [
    "def compare_edges(ref_e, stu_e):\n",
    "    # compare if two relationships match\n",
    "    # return bool, score, score\n",
    "\n",
    "    ref_elements = ref_e.split()\n",
    "    stu_elements = stu_e.split()\n",
    "    # print(ref_elements, stu_elements)\n",
    "\n",
    "    # exact match first\n",
    "    # length must match\n",
    "    n_ref = len(ref_elements)\n",
    "    n_stu = len(stu_elements)\n",
    "    if n_ref == n_stu and n_ref == 5:\n",
    "        # all element must match\n",
    "        boolean_1 = check_relations_classes(1, 1, ref_elements, stu_elements)\n",
    "\n",
    "        boolean_4 = check_relations_classes(4, 4, ref_elements, stu_elements)\n",
    "\n",
    "        # type\n",
    "        boolean_2 = ref_elements[2] == stu_elements[2]\n",
    "\n",
    "        # association\n",
    "        boolean_0 = ref_elements[0] == stu_elements[0]\n",
    "\n",
    "        # association\n",
    "        boolean_3 = ref_elements[3] == stu_elements[3]\n",
    "\n",
    "        if boolean_0 and boolean_1 and boolean_2 and boolean_3 and boolean_4:\n",
    "            print(\"exact match success\")\n",
    "            print(ref_e, \"|||\", stu_e)\n",
    "            return True, 1, 1\n",
    "\n",
    "        boolean_1_4 = False\n",
    "        boolean_4_1 = False\n",
    "        boolean_1_4 = check_relations_classes(1, 4, ref_elements, stu_elements)\n",
    "        boolean_4_1 = check_relations_classes(4, 1, ref_elements, stu_elements)\n",
    "\n",
    "        # check if the relationship is fliped, this only works for associate, not containment\n",
    "        if \"associate\" in ref_elements[2] and \"associate\" in stu_elements[2]:\n",
    "            # association\n",
    "            boolean_0 = ref_elements[0] == stu_elements[3]\n",
    "\n",
    "            # association\n",
    "            boolean_3 = ref_elements[3] == stu_elements[0]\n",
    "\n",
    "        if boolean_0 and boolean_1_4 and boolean_3 and boolean_4_1 and boolean_2:\n",
    "            print(\"match success, flipped associate\")\n",
    "            print(ref_e, \"|||\", stu_e)\n",
    "            return True, 1, 1\n",
    "\n",
    "        # check if relationship is partially match\n",
    "        if (boolean_1 and boolean_4) or (boolean_1_4 and boolean_4_1):\n",
    "            print(\"match partially success\")\n",
    "            print(ref_e, \"|||\", stu_e)\n",
    "            return True, 0.5, 0.5\n",
    "\n",
    "    if n_ref == n_stu and n_ref == 3:\n",
    "        # all element must match\n",
    "        boolean_0 = check_relations_classes(0, 0, ref_elements, stu_elements)\n",
    "        boolean_2 = check_relations_classes(2, 2, ref_elements, stu_elements)\n",
    "\n",
    "        # type\n",
    "        boolean_1 = ref_elements[1] == stu_elements[1]\n",
    "\n",
    "        if boolean_0 and boolean_1 and boolean_2:\n",
    "            print(\"match success\")\n",
    "            print(ref_e, \"|||\", stu_e)\n",
    "            # ref_dict[ref_e][\"score\"] = 1\n",
    "            # ref_dict[ref_e][\"counterpart\"] = stu_e\n",
    "\n",
    "            # stu_dict[stu_e][\"score\"] = 1\n",
    "            # stu_dict[stu_e][\"counterpart\"] = ref_e\n",
    "            return True, 1, 1\n",
    "\n",
    "    return False, 0, 0"
   ]
  },
  {
   "cell_type": "code",
   "execution_count": 1243,
   "metadata": {
    "id": "Ts1dyVvI0qZL"
   },
   "outputs": [],
   "source": [
    "for i, ref_tmp in enumerate(edges[0].raw_dsl):\n",
    "    matchings = []\n",
    "    for j, stu_tmp in enumerate(edges[1].raw_dsl):\n",
    "        if (\n",
    "            edges[0].rels[i][\"counterpart\"] is None\n",
    "            and edges[1].rels[j][\"counterpart\"] is None\n",
    "        ):\n",
    "            result = compare_edges(ref_tmp, stu_tmp)\n",
    "            if result[0]:\n",
    "                matching = (i, j, result[1], result[2])\n",
    "                matchings.append(matching)\n",
    "                # matched_stu_edges.add(j)\n",
    "                # matched_ref_edges.add(i)\n",
    "                # edges[0].rels[i][\"score\"] = result[1]\n",
    "                # edges[0].rels[i][\"counterpart\"] = stu_tmp\n",
    "\n",
    "                # edges[1].rels[j][\"score\"] = result[2]\n",
    "                # edges[1].rels[j][\"counterpart\"] = ref_tmp\n",
    "    print(matchings)\n",
    "    if len(matchings) > 0:\n",
    "        print()\n",
    "        highest_score = 0\n",
    "        matching = None\n",
    "\n",
    "        for m in matchings:\n",
    "            if m[2] > highest_score:\n",
    "                matching = m\n",
    "                highest_score = m[2]\n",
    "        j_j = matching[1]\n",
    "        i_i = matching[0]\n",
    "\n",
    "        edges[0].rels[i_i][\"score\"] = m[2]\n",
    "        edges[0].rels[i_i][\"counterpart\"] = edges[1].raw_dsl[j_j]\n",
    "\n",
    "        edges[1].rels[j_j][\"score\"] = m[3]\n",
    "        edges[1].rels[j_j][\"counterpart\"] = edges[0].raw_dsl[i_i]"
   ]
  },
  {
   "cell_type": "markdown",
   "metadata": {
    "id": "zVK8inUYg-4A"
   },
   "source": [
    "## Result: Precision/Recall/F1"
   ]
  },
  {
   "cell_type": "markdown",
   "metadata": {},
   "source": [
    "### save matching to disk"
   ]
  },
  {
   "cell_type": "code",
   "execution_count": 1244,
   "metadata": {},
   "outputs": [],
   "source": [
    "if not os.path.exists(student_out_dir):\n",
    "    os.makedirs(student_out_dir)"
   ]
  },
  {
   "cell_type": "code",
   "execution_count": 1245,
   "metadata": {},
   "outputs": [],
   "source": [
    "# with open( student_out_dir + 'matching.pkl', 'wb') as outp:\n",
    "#     pickle.dump(grader, outp, pickle.HIGHEST_PROTOCOL)"
   ]
  },
  {
   "cell_type": "code",
   "execution_count": 1246,
   "metadata": {},
   "outputs": [
    {
     "data": {
      "text/plain": [
       "'results/gpt-4o-mini/sherpa/08_HBMS/result/'"
      ]
     },
     "execution_count": 1246,
     "metadata": {},
     "output_type": "execute_result"
    }
   ],
   "source": [
    "student_out_dir"
   ]
  },
  {
   "cell_type": "code",
   "execution_count": 1247,
   "metadata": {},
   "outputs": [],
   "source": [
    "# as requested in comment\n",
    "\n",
    "with open(student_out_dir + \"solution_matching.txt\", \"w\") as file:\n",
    "    file.write(json.dumps(grader.ref.cls_atr))\n",
    "\n",
    "\n",
    "with open(student_out_dir + \"student_matching.txt\", \"w\") as file:\n",
    "    file.write(json.dumps(grader.stu.cls_atr))\n",
    "\n",
    "with open(student_out_dir + \"solution_matching_relationship.txt\", \"w\") as file:\n",
    "    file.write(json.dumps(grader.ref.rel.rels))\n",
    "\n",
    "\n",
    "with open(student_out_dir + \"student_matching_relationship.txt\", \"w\") as file:\n",
    "    file.write(json.dumps(grader.stu.rel.rels))"
   ]
  },
  {
   "cell_type": "code",
   "execution_count": 1248,
   "metadata": {},
   "outputs": [
    {
     "data": {
      "text/plain": [
       "'results/gpt-4o-mini/sherpa/08_HBMS/result/'"
      ]
     },
     "execution_count": 1248,
     "metadata": {},
     "output_type": "execute_result"
    }
   ],
   "source": [
    "student_out_dir"
   ]
  },
  {
   "cell_type": "markdown",
   "metadata": {},
   "source": [
    "###### to local"
   ]
  },
  {
   "cell_type": "code",
   "execution_count": 1249,
   "metadata": {},
   "outputs": [],
   "source": [
    "# # # be careful...\n",
    "\n",
    "# with open(student_dir + \"human_eval/\" + 'ref_meta_cls.py', 'w') as file:\n",
    "#     file.write(json.dumps(grader.ref.cls_atr))\n",
    "\n",
    "\n",
    "# with open(student_dir + \"human_eval/\" + 'stu_meta_cls.py', 'w') as file:\n",
    "#     file.write(json.dumps(grader.stu.cls_atr))\n",
    "\n",
    "# with open(student_dir + \"human_eval/\" + 'ref_meta_rels.py', 'w') as file:\n",
    "#     file.write(json.dumps(grader.ref.rel.rels))\n",
    "\n",
    "\n",
    "# with open(student_dir + \"human_eval/\" + 'stu_meta_rels.py', 'w') as file:\n",
    "#     file.write(json.dumps(grader.stu.rel.rels))"
   ]
  },
  {
   "cell_type": "code",
   "execution_count": 1250,
   "metadata": {},
   "outputs": [],
   "source": [
    "algo_result = {}\n",
    "algo_result[\"class\"] = {\"precision\": 0, \"recall\": 0, \"f1\": 0}\n",
    "algo_result[\"attribute\"] = {\"precision\": 0, \"recall\": 0, \"f1\": 0}\n",
    "algo_result[\"relationship\"] = {\"precision\": 0, \"recall\": 0, \"f1\": 0}"
   ]
  },
  {
   "cell_type": "markdown",
   "metadata": {
    "id": "qCEg2NRm1hA3"
   },
   "source": [
    "### Class"
   ]
  },
  {
   "cell_type": "code",
   "execution_count": 1251,
   "metadata": {
    "id": "JOA-f9jC1foa"
   },
   "outputs": [
    {
     "name": "stdout",
     "output_type": "stream",
     "text": [
      "18 11.5\n"
     ]
    }
   ],
   "source": [
    "# recell\n",
    "count = 0\n",
    "recall = 0\n",
    "for key in list(ref_attributes.keys()):\n",
    "    count += 1\n",
    "    recall += ref_attributes[key][\"score\"]\n",
    "print(count, recall)\n",
    "\n",
    "if count != 0:\n",
    "    algo_result[\"class\"][\"recall\"] = recall / count"
   ]
  },
  {
   "cell_type": "code",
   "execution_count": 1252,
   "metadata": {
    "id": "AbAnFeeM1l4s"
   },
   "outputs": [
    {
     "name": "stdout",
     "output_type": "stream",
     "text": [
      "16 11.5\n"
     ]
    }
   ],
   "source": [
    "# precision\n",
    "count = 0\n",
    "precision = 0\n",
    "for key in list(stu_attributes.keys()):\n",
    "    count += 1\n",
    "    precision += stu_attributes[key][\"score\"]\n",
    "\n",
    "print(count, precision)\n",
    "if count != 0:\n",
    "    algo_result[\"class\"][\"precision\"] = precision / count\n",
    "\n",
    "if algo_result[\"class\"][\"recall\"] + algo_result[\"class\"][\"precision\"] != 0:\n",
    "    algo_result[\"class\"][\"f1\"] = (\n",
    "        2\n",
    "        * (algo_result[\"class\"][\"recall\"] * algo_result[\"class\"][\"precision\"])\n",
    "        / (algo_result[\"class\"][\"recall\"] + algo_result[\"class\"][\"precision\"])\n",
    "    )"
   ]
  },
  {
   "cell_type": "markdown",
   "metadata": {
    "id": "gDH3PsL21unk"
   },
   "source": [
    "### Attribute"
   ]
  },
  {
   "cell_type": "code",
   "execution_count": 1253,
   "metadata": {
    "id": "67CLMQ6j10Wx"
   },
   "outputs": [
    {
     "name": "stdout",
     "output_type": "stream",
     "text": [
      "32 21.5\n"
     ]
    }
   ],
   "source": [
    "# recall\n",
    "count = 0\n",
    "recall = 0\n",
    "for key in list(ref_attributes.keys()):\n",
    "    attrs = ref_attributes[key][\"attributes\"]\n",
    "\n",
    "    for att in attrs:\n",
    "        count += 1\n",
    "        recall += ref_attributes[key][\"attributes\"][att][\"score\"]\n",
    "print(count, recall)\n",
    "\n",
    "if count != 0:\n",
    "    algo_result[\"attribute\"][\"recall\"] = recall / count"
   ]
  },
  {
   "cell_type": "code",
   "execution_count": 1254,
   "metadata": {
    "id": "7MIGD7kS12JT"
   },
   "outputs": [
    {
     "name": "stdout",
     "output_type": "stream",
     "text": [
      "47 21.5\n"
     ]
    }
   ],
   "source": [
    "count = 0\n",
    "precision = 0\n",
    "for key in list(stu_attributes.keys()):\n",
    "    attrs = stu_attributes[key][\"attributes\"]\n",
    "\n",
    "    for att in attrs:\n",
    "        count += 1\n",
    "        precision += stu_attributes[key][\"attributes\"][att][\"score\"]\n",
    "print(count, precision)\n",
    "\n",
    "if count != 0:\n",
    "    algo_result[\"attribute\"][\"precision\"] = precision / count\n",
    "\n",
    "r = algo_result[\"attribute\"][\"recall\"]\n",
    "p = algo_result[\"attribute\"][\"precision\"]\n",
    "\n",
    "if r + p != 0:\n",
    "    algo_result[\"attribute\"][\"f1\"] = 2 * (r * p) / (r + p)"
   ]
  },
  {
   "cell_type": "markdown",
   "metadata": {
    "id": "qWYSO_N415V0"
   },
   "source": [
    "### Relationship"
   ]
  },
  {
   "cell_type": "code",
   "execution_count": 1255,
   "metadata": {
    "id": "PkuCKrzF17CR"
   },
   "outputs": [
    {
     "name": "stdout",
     "output_type": "stream",
     "text": [
      "0 0\n"
     ]
    }
   ],
   "source": [
    "count = 0\n",
    "recall = 0\n",
    "for tmp in edges[0].rels:\n",
    "    attrs = tmp[\"score\"]\n",
    "\n",
    "    count += 1\n",
    "    recall += attrs\n",
    "print(count, recall)\n",
    "\n",
    "if count != 0:\n",
    "    algo_result[\"relationship\"][\"recall\"] = recall / count"
   ]
  },
  {
   "cell_type": "code",
   "execution_count": 1256,
   "metadata": {
    "id": "XZE-uCOM2ATr"
   },
   "outputs": [
    {
     "name": "stdout",
     "output_type": "stream",
     "text": [
      "0 0\n"
     ]
    }
   ],
   "source": [
    "count = 0\n",
    "precision = 0\n",
    "for tmp in edges[1].rels:\n",
    "    attrs = tmp[\"score\"]\n",
    "\n",
    "    count += 1\n",
    "    precision += attrs\n",
    "print(count, precision)\n",
    "\n",
    "if count != 0:\n",
    "    algo_result[\"relationship\"][\"precision\"] = precision / count\n",
    "r = algo_result[\"relationship\"][\"recall\"]\n",
    "p = algo_result[\"relationship\"][\"precision\"]\n",
    "\n",
    "if r + p != 0:\n",
    "    algo_result[\"relationship\"][\"f1\"] = 2 * (r * p) / (r + p)"
   ]
  },
  {
   "cell_type": "code",
   "execution_count": 1257,
   "metadata": {},
   "outputs": [],
   "source": [
    "# as requested in comment\n",
    "\n",
    "with open(student_out_dir + \"algo_result.txt\", \"w\") as file:\n",
    "    file.write(json.dumps(algo_result))"
   ]
  },
  {
   "cell_type": "code",
   "execution_count": null,
   "metadata": {},
   "outputs": [],
   "source": []
  },
  {
   "cell_type": "code",
   "execution_count": 1258,
   "metadata": {},
   "outputs": [
    {
     "ename": "SyntaxError",
     "evalue": "'break' outside loop (668683560.py, line 1)",
     "output_type": "error",
     "traceback": [
      "\u001b[0;36m  Cell \u001b[0;32mIn[1258], line 1\u001b[0;36m\u001b[0m\n\u001b[0;31m    break\u001b[0m\n\u001b[0m    ^\u001b[0m\n\u001b[0;31mSyntaxError\u001b[0m\u001b[0;31m:\u001b[0m 'break' outside loop\n"
     ]
    }
   ],
   "source": [
    "break"
   ]
  },
  {
   "cell_type": "markdown",
   "metadata": {
    "id": "v3d45DqW3Zku"
   },
   "source": [
    "## Comparing with manual evaluation"
   ]
  },
  {
   "cell_type": "code",
   "execution_count": 92,
   "metadata": {},
   "outputs": [],
   "source": [
    "class HumanEvaluation(object):\n",
    "    def __init__(self, ref_cls=None, stu_cls=None, ref_rels=None, stu_rels=None):\n",
    "        self.ref_cls = ref_cls\n",
    "        self.stu_cls = stu_cls\n",
    "        self.ref_rels = ref_rels\n",
    "        self.stu_rels = stu_rels\n",
    "\n",
    "\n",
    "group = HumanEvaluation()"
   ]
  },
  {
   "cell_type": "code",
   "execution_count": null,
   "metadata": {},
   "outputs": [
    {
     "ename": "FileNotFoundError",
     "evalue": "[Errno 2] No such file or directory: 'results/gpt-4o-mini/sherpa/01_LabTracker/human_eval/ref_meta_cls.py'",
     "output_type": "error",
     "traceback": [
      "\u001b[0;31m---------------------------------------------------------------------------\u001b[0m",
      "\u001b[0;31mFileNotFoundError\u001b[0m                         Traceback (most recent call last)",
      "Cell \u001b[0;32mIn[93], line 3\u001b[0m\n\u001b[1;32m      1\u001b[0m \u001b[38;5;66;03m# as requested in comment\u001b[39;00m\n\u001b[0;32m----> 3\u001b[0m \u001b[38;5;28;01mwith\u001b[39;00m \u001b[38;5;28;43mopen\u001b[39;49m\u001b[43m(\u001b[49m\u001b[43mstudent_dir\u001b[49m\u001b[43m \u001b[49m\u001b[38;5;241;43m+\u001b[39;49m\u001b[43m \u001b[49m\u001b[38;5;124;43m\"\u001b[39;49m\u001b[38;5;124;43mhuman_eval/\u001b[39;49m\u001b[38;5;124;43m\"\u001b[39;49m\u001b[43m \u001b[49m\u001b[38;5;241;43m+\u001b[39;49m\u001b[43m \u001b[49m\u001b[38;5;124;43m'\u001b[39;49m\u001b[38;5;124;43mref_meta_cls.py\u001b[39;49m\u001b[38;5;124;43m'\u001b[39;49m\u001b[43m,\u001b[49m\u001b[43m \u001b[49m\u001b[38;5;124;43m'\u001b[39;49m\u001b[38;5;124;43mr\u001b[39;49m\u001b[38;5;124;43m'\u001b[39;49m\u001b[43m)\u001b[49m \u001b[38;5;28;01mas\u001b[39;00m file:\n\u001b[1;32m      4\u001b[0m     content \u001b[38;5;241m=\u001b[39m file\u001b[38;5;241m.\u001b[39mread()\n\u001b[1;32m      5\u001b[0m     ref_cls_human \u001b[38;5;241m=\u001b[39m ast\u001b[38;5;241m.\u001b[39mliteral_eval(content)\n",
      "File \u001b[0;32m~/miniconda3/envs/m38/lib/python3.8/site-packages/IPython/core/interactiveshell.py:284\u001b[0m, in \u001b[0;36m_modified_open\u001b[0;34m(file, *args, **kwargs)\u001b[0m\n\u001b[1;32m    277\u001b[0m \u001b[38;5;28;01mif\u001b[39;00m file \u001b[38;5;129;01min\u001b[39;00m {\u001b[38;5;241m0\u001b[39m, \u001b[38;5;241m1\u001b[39m, \u001b[38;5;241m2\u001b[39m}:\n\u001b[1;32m    278\u001b[0m     \u001b[38;5;28;01mraise\u001b[39;00m \u001b[38;5;167;01mValueError\u001b[39;00m(\n\u001b[1;32m    279\u001b[0m         \u001b[38;5;124mf\u001b[39m\u001b[38;5;124m\"\u001b[39m\u001b[38;5;124mIPython won\u001b[39m\u001b[38;5;124m'\u001b[39m\u001b[38;5;124mt let you open fd=\u001b[39m\u001b[38;5;132;01m{\u001b[39;00mfile\u001b[38;5;132;01m}\u001b[39;00m\u001b[38;5;124m by default \u001b[39m\u001b[38;5;124m\"\u001b[39m\n\u001b[1;32m    280\u001b[0m         \u001b[38;5;124m\"\u001b[39m\u001b[38;5;124mas it is likely to crash IPython. If you know what you are doing, \u001b[39m\u001b[38;5;124m\"\u001b[39m\n\u001b[1;32m    281\u001b[0m         \u001b[38;5;124m\"\u001b[39m\u001b[38;5;124myou can use builtins\u001b[39m\u001b[38;5;124m'\u001b[39m\u001b[38;5;124m open.\u001b[39m\u001b[38;5;124m\"\u001b[39m\n\u001b[1;32m    282\u001b[0m     )\n\u001b[0;32m--> 284\u001b[0m \u001b[38;5;28;01mreturn\u001b[39;00m \u001b[43mio_open\u001b[49m\u001b[43m(\u001b[49m\u001b[43mfile\u001b[49m\u001b[43m,\u001b[49m\u001b[43m \u001b[49m\u001b[38;5;241;43m*\u001b[39;49m\u001b[43margs\u001b[49m\u001b[43m,\u001b[49m\u001b[43m \u001b[49m\u001b[38;5;241;43m*\u001b[39;49m\u001b[38;5;241;43m*\u001b[39;49m\u001b[43mkwargs\u001b[49m\u001b[43m)\u001b[49m\n",
      "\u001b[0;31mFileNotFoundError\u001b[0m: [Errno 2] No such file or directory: 'results/gpt-4o-mini/sherpa/01_LabTracker/human_eval/ref_meta_cls.py'"
     ]
    }
   ],
   "source": [
    "# as requested in comment\n",
    "\n",
    "with open(student_dir + \"human_eval/\" + \"ref_meta_cls.py\", \"r\") as file:\n",
    "    content = file.read()\n",
    "    ref_cls_human = ast.literal_eval(content)\n",
    "    group.ref_cls = ref_cls_human\n",
    "\n",
    "with open(student_dir + \"human_eval/\" + \"stu_meta_cls.py\", \"r\") as file:\n",
    "    content = file.read()\n",
    "    stu_cls_human = ast.literal_eval(content)\n",
    "    group.stu_cls = stu_cls_human\n",
    "\n",
    "with open(student_dir + \"human_eval/\" + \"ref_meta_rels.py\", \"r\") as file:\n",
    "    content = file.read()\n",
    "    ref_rel_human = ast.literal_eval(content)\n",
    "    group.ref_rels = ref_rel_human\n",
    "\n",
    "with open(student_dir + \"human_eval/\" + \"stu_meta_rels.py\", \"r\") as file:\n",
    "    content = file.read()\n",
    "    stu_rel_human = ast.literal_eval(content)\n",
    "    group.stu_rels = stu_rel_human"
   ]
  },
  {
   "cell_type": "markdown",
   "metadata": {
    "id": "04W5Jim3FsGB"
   },
   "source": [
    "### Save to disk"
   ]
  },
  {
   "cell_type": "code",
   "execution_count": null,
   "metadata": {
    "id": "bzjzqjvqFtfR"
   },
   "outputs": [],
   "source": [
    "# # # import pickle\n",
    "\n",
    "\n",
    "# with open(student_dir + 'human_grade.pkl', 'wb') as outp:\n",
    "#     g2 = HumanEvaluation(ref_cls_human, stu_cls_human, ref_rel_human, stu_rel_human)\n",
    "#     pickle.dump(g2, outp, pickle.HIGHEST_PROTOCOL)"
   ]
  },
  {
   "cell_type": "markdown",
   "metadata": {
    "id": "SCFGrQjsGbvG"
   },
   "source": [
    "### Comparsion"
   ]
  },
  {
   "cell_type": "code",
   "execution_count": null,
   "metadata": {},
   "outputs": [],
   "source": [
    "algo_human = {}\n",
    "algo_human[\"class\"] = {\"precision\": 0, \"recall\": 0, \"f1\": 0}\n",
    "algo_human[\"attribute\"] = {\"precision\": 0, \"recall\": 0, \"f1\": 0}\n",
    "algo_human[\"relationship\"] = {\"precision\": 0, \"recall\": 0, \"f1\": 0}"
   ]
  },
  {
   "cell_type": "markdown",
   "metadata": {
    "id": "g7gA27kRInsi"
   },
   "source": [
    "#### Class"
   ]
  },
  {
   "cell_type": "code",
   "execution_count": null,
   "metadata": {
    "id": "HpC633wFMSA_"
   },
   "outputs": [],
   "source": [
    "def exist_mapping(mappings, one_mapping):\n",
    "    for m in mappings:\n",
    "        if m[0] == one_mapping[0] and m[1] == one_mapping[1]:\n",
    "            return True  # already exist\n",
    "    return False"
   ]
  },
  {
   "cell_type": "code",
   "execution_count": null,
   "metadata": {
    "id": "9VwwYZbOK2Dl"
   },
   "outputs": [],
   "source": [
    "# get human matching first:\n",
    "\n",
    "tmp = group.ref_cls\n",
    "human_mappings = []\n",
    "for key in tmp:\n",
    "    # print(tmp[key])\n",
    "    human_mappings.append((key, tmp[key][\"counterpart\"], tmp[key][\"score\"]))\n",
    "\n",
    "tmp = group.stu_cls\n",
    "for key in tmp:\n",
    "    # print(tmp[key])\n",
    "\n",
    "    # reserve the order\n",
    "    matching = (tmp[key][\"counterpart\"], key, tmp[key][\"score\"])\n",
    "\n",
    "    if not exist_mapping(human_mappings, matching):\n",
    "        human_mappings.append(matching)"
   ]
  },
  {
   "cell_type": "code",
   "execution_count": null,
   "metadata": {},
   "outputs": [],
   "source": [
    "human_mappings"
   ]
  },
  {
   "cell_type": "code",
   "execution_count": null,
   "metadata": {
    "id": "WqwDA4GFNw8N"
   },
   "outputs": [],
   "source": [
    "# compare performance\n",
    "# algo matching\n",
    "grader.ref.cls_atr\n",
    "\n",
    "tmp = grader.ref.cls_atr\n",
    "EMB_mappings = []\n",
    "for key in tmp:\n",
    "    # print(tmp[key])\n",
    "    EMB_mappings.append((key, tmp[key][\"counterpart\"], tmp[key][\"score\"]))\n",
    "\n",
    "tmp = grader.stu.cls_atr\n",
    "\n",
    "for key in tmp:\n",
    "    # print(tmp[key])\n",
    "    matching = (tmp[key][\"counterpart\"], key, tmp[key][\"score\"])\n",
    "\n",
    "    if not exist_mapping(EMB_mappings, matching):\n",
    "        EMB_mappings.append(matching)"
   ]
  },
  {
   "cell_type": "code",
   "execution_count": null,
   "metadata": {},
   "outputs": [],
   "source": [
    "EMB_mappings"
   ]
  },
  {
   "cell_type": "markdown",
   "metadata": {},
   "source": [
    "##### Start Evaluation"
   ]
  },
  {
   "cell_type": "code",
   "execution_count": null,
   "metadata": {
    "id": "QCGbZjIQPOUf"
   },
   "outputs": [],
   "source": [
    "# TP/FP/TN/FN\n",
    "TP = []\n",
    "FP = []\n",
    "TN = []\n",
    "FN = []\n",
    "\n",
    "\n",
    "def check_TP_TN(map_human, map_algo):\n",
    "    if (\n",
    "        map_human[0] == map_algo[0]\n",
    "        and map_human[1] == map_algo[1]\n",
    "        and not (None in map_human)\n",
    "    ):\n",
    "        return \"TP\"\n",
    "    elif (\n",
    "        map_human[0] == map_algo[0]\n",
    "        and map_human[1] == map_algo[1]\n",
    "        and (None in map_human)\n",
    "    ):\n",
    "        return \"TN\"\n",
    "    else:\n",
    "        return \"NA\"\n",
    "\n",
    "\n",
    "human_mappings_dict = {}\n",
    "for i in human_mappings:\n",
    "    human_mappings_dict[i] = False  # not mapped\n",
    "EMB_mappings_dict = {}\n",
    "for i in EMB_mappings:\n",
    "    EMB_mappings_dict[i] = False  # not mapped\n",
    "\n",
    "# filter out TP or TN first\n",
    "for i in human_mappings:\n",
    "    mappinged = False\n",
    "    if not mappinged:\n",
    "        for j in EMB_mappings:\n",
    "            ans = check_TP_TN(i, j)\n",
    "            if ans == \"NA\":\n",
    "                continue\n",
    "            elif ans == \"TP\":\n",
    "                score = 1 if i[2] == j[2] else 0.5\n",
    "                TP.append((i, j, score))\n",
    "                human_mappings_dict[i] = True\n",
    "                EMB_mappings_dict[j] = True\n",
    "            elif ans == \"TN\":\n",
    "                score = 1 if i[2] == j[2] else 0.5\n",
    "                TN.append((i, j, score))\n",
    "                human_mappings_dict[i] = True\n",
    "                EMB_mappings_dict[j] = True"
   ]
  },
  {
   "cell_type": "code",
   "execution_count": null,
   "metadata": {
    "id": "s8aqCNxwXmkO"
   },
   "outputs": [],
   "source": [
    "def find_mapping_with_cls(mapping_dict, mapping, pos):\n",
    "    # position = 0 or 1\n",
    "    for i in mapping_dict:\n",
    "        element = mapping[pos]\n",
    "\n",
    "        if i[pos] == element:\n",
    "            return i\n",
    "    print(\"no mapping is found with\", mapping, pos)\n",
    "    return None"
   ]
  },
  {
   "cell_type": "code",
   "execution_count": null,
   "metadata": {
    "id": "irENTEhuVW1C"
   },
   "outputs": [],
   "source": [
    "human_mappings_dict\n",
    "\n",
    "for i in human_mappings_dict:\n",
    "    if human_mappings_dict[i]:\n",
    "        continue  # if mapped, ignore\n",
    "\n",
    "        # i[0] is human pair\n",
    "    mapping_0 = find_mapping_with_cls(EMB_mappings_dict, i, 0)  # human result\n",
    "    mapping_1 = find_mapping_with_cls(EMB_mappings_dict, i, 1)  # human result\n",
    "    if i[0] is not None and mapping_0:\n",
    "        mapping = mapping_0\n",
    "        # if mapping:\n",
    "        if i[1] is not None and mapping[1] is not None:  # a b\t// a c\t0\tFP\n",
    "            FP.append((i, mapping))\n",
    "            human_mappings_dict[i] = True\n",
    "            EMB_mappings_dict[mapping] = True\n",
    "\n",
    "        elif i[1] is not None and mapping[1] is None:  # a b\t// a None\t0\tFN\n",
    "            FN.append((i, mapping))\n",
    "            human_mappings_dict[i] = True\n",
    "            EMB_mappings_dict[mapping] = True\n",
    "\n",
    "        elif i[1] is None and mapping[1] is not None:  # a None // a b\t0\tFP\n",
    "            FP.append((i, mapping))\n",
    "            human_mappings_dict[i] = True\n",
    "            EMB_mappings_dict[mapping] = True\n",
    "\n",
    "    elif i[1] is not None and mapping_1:\n",
    "        mapping = mapping_1\n",
    "        if i[0] is None and mapping[0] is not None:  # none a //\tb a \t0\tFP\n",
    "            FP.append((i, mapping))\n",
    "            human_mappings_dict[i] = True\n",
    "            EMB_mappings_dict[mapping] = True\n",
    "\n",
    "        elif i[0] is not None and mapping[0] is None:  # b a\t// none a  \t0\tFN\n",
    "            FN.append((i, mapping))\n",
    "            human_mappings_dict[i] = True\n",
    "            EMB_mappings_dict[mapping] = True\n",
    "\n",
    "        elif i[0] is not None and mapping[0] is not None:  # c a\t// b a  0\tFP\n",
    "            FP.append((i, mapping))\n",
    "            human_mappings_dict[i] = True\n",
    "            EMB_mappings_dict[mapping] = True\n",
    "    else:\n",
    "        raise Exception(f\"Sorry, no match found for {i}\")"
   ]
  },
  {
   "cell_type": "code",
   "execution_count": null,
   "metadata": {
    "id": "muc4JS6QcILL"
   },
   "outputs": [],
   "source": [
    "EMB_mappings_dict\n",
    "\n",
    "for i in EMB_mappings_dict:\n",
    "    if EMB_mappings_dict[i]:\n",
    "        continue  # if mapped, ignore\n",
    "\n",
    "        # i[0] is generaeted pair\n",
    "    mapping_0 = find_mapping_with_cls(human_mappings_dict, i, 0)  # human result\n",
    "    mapping_1 = find_mapping_with_cls(human_mappings_dict, i, 1)  # human result\n",
    "    if i[0] is not None and mapping_0:\n",
    "        mapping = mapping_0\n",
    "        if i[1] is not None and mapping[1] is not None:  # a b\t// a c\t0\tFP\n",
    "            FP.append((mapping, i))\n",
    "            human_mappings_dict[mapping] = True\n",
    "            EMB_mappings_dict[i] = True\n",
    "\n",
    "        elif mapping[1] is not None and i[1] is None:  # a b\t// a None\t0\tFN\n",
    "            FN.append((mapping, i))\n",
    "            human_mappings_dict[mapping] = True\n",
    "            EMB_mappings_dict[i] = True\n",
    "\n",
    "        elif mapping[1] is None and i[1] is not None:  # a None // a b\t0\tFP\n",
    "            FP.append((mapping, i))\n",
    "            human_mappings_dict[mapping] = True\n",
    "            EMB_mappings_dict[i] = True\n",
    "\n",
    "    elif i[1] is not None and mapping_1:\n",
    "        mapping = mapping_1\n",
    "        if mapping[0] is not None and i[0] is None:  # b a //\tnone a \t0\tFN\n",
    "            FN.append((i, mapping))\n",
    "            human_mappings_dict[mapping] = True\n",
    "            EMB_mappings_dict[i] = True\n",
    "\n",
    "        elif mapping[0] is None and i[0] is not None:  # none a //\tb a  \t0\tFP\n",
    "            FP.append((i, mapping))\n",
    "            human_mappings_dict[mapping] = True\n",
    "            EMB_mappings_dict[i] = True\n",
    "\n",
    "        elif mapping[0] is not None and i[0] is not None:  # c a\t// b a  0\tFP\n",
    "            FP.append((i, mapping))\n",
    "            human_mappings_dict[mapping] = True\n",
    "            EMB_mappings_dict[i] = True\n",
    "    else:\n",
    "        raise Exception(\"matching failed\")"
   ]
  },
  {
   "cell_type": "code",
   "execution_count": null,
   "metadata": {
    "id": "UOpQGonbbiso"
   },
   "outputs": [],
   "source": [
    "# precision = TP /(TP + FP)\n",
    "# recall = TP /(TP + FN)\n",
    "\n",
    "tp = 0\n",
    "\n",
    "for i in TP:\n",
    "    tp += i[2]\n",
    "\n",
    "print(\"precision:\", tp / (len(TP) + len(FP)))\n",
    "print(\"recall:\", tp / (len(TP) + len(FN)))\n",
    "\n",
    "p = tp / (len(TP) + len(FP))\n",
    "r = tp / (len(TP) + len(FN))\n",
    "\n",
    "algo_human[\"class\"][\"precision\"] = p\n",
    "algo_human[\"class\"][\"recall\"] = r\n",
    "\n",
    "algo_human[\"class\"][\"f1\"] = 2 * p * r / (p + r)"
   ]
  },
  {
   "cell_type": "markdown",
   "metadata": {},
   "source": [
    " a b => a c\n",
    " c"
   ]
  },
  {
   "cell_type": "code",
   "execution_count": null,
   "metadata": {},
   "outputs": [],
   "source": [
    "for fp in FP:\n",
    "    print(fp)"
   ]
  },
  {
   "cell_type": "code",
   "execution_count": null,
   "metadata": {},
   "outputs": [],
   "source": [
    "for fn in FN:\n",
    "    print(fn)"
   ]
  },
  {
   "cell_type": "markdown",
   "metadata": {
    "id": "m94L8Z8pIpI_"
   },
   "source": [
    "#### Attribute"
   ]
  },
  {
   "cell_type": "code",
   "execution_count": null,
   "metadata": {},
   "outputs": [],
   "source": [
    "# algo matching\n",
    "\n",
    "tmp = group.ref_cls\n",
    "human_mappings = []\n",
    "for cls in tmp:  # cls\n",
    "    for attr in tmp[cls][\"attributes\"]:  # attributes\n",
    "        # print(cls, attr)\n",
    "\n",
    "        human_mappings.append(\n",
    "            (\n",
    "                (attr, cls),\n",
    "                tmp[cls][\"attributes\"][attr][\"counterpart\"],\n",
    "                tmp[cls][\"attributes\"][attr][\"score\"],\n",
    "            )\n",
    "        )\n",
    "\n",
    "\n",
    "tmp = group.stu_cls\n",
    "for cls in tmp:\n",
    "    # print(tmp[key])\n",
    "    for attr in tmp[cls][\"attributes\"]:  # attributes\n",
    "\n",
    "        # order of the elements\n",
    "        matching = (\n",
    "            tmp[cls][\"attributes\"][attr][\"counterpart\"],\n",
    "            (attr, cls),\n",
    "            tmp[cls][\"attributes\"][attr][\"score\"],\n",
    "        )\n",
    "\n",
    "        if not exist_mapping(human_mappings, matching):\n",
    "            # print(matching)\n",
    "            human_mappings.append(matching)"
   ]
  },
  {
   "cell_type": "code",
   "execution_count": null,
   "metadata": {},
   "outputs": [],
   "source": [
    "human_mappings"
   ]
  },
  {
   "cell_type": "code",
   "execution_count": null,
   "metadata": {},
   "outputs": [],
   "source": [
    "# compare performance\n",
    "# algo matching\n",
    "grader.ref.cls_atr\n",
    "\n",
    "tmp = grader.ref.cls_atr\n",
    "EMB_mappings = []\n",
    "for cls in tmp:\n",
    "    # print(tmp[key])\n",
    "    for attr in tmp[cls][\"attributes\"]:\n",
    "        EMB_mappings.append(\n",
    "            (\n",
    "                (attr, cls),\n",
    "                tmp[cls][\"attributes\"][attr][\"counterpart\"],\n",
    "                tmp[cls][\"attributes\"][attr][\"score\"],\n",
    "            )\n",
    "        )\n",
    "\n",
    "tmp = grader.stu.cls_atr\n",
    "\n",
    "for cls in tmp:\n",
    "    # print(tmp[key])\n",
    "    for attr in tmp[cls][\"attributes\"]:\n",
    "        matching = (\n",
    "            tmp[cls][\"attributes\"][attr][\"counterpart\"],\n",
    "            (attr, cls),\n",
    "            tmp[cls][\"attributes\"][attr][\"score\"],\n",
    "        )\n",
    "        # if \"LightController\" in str(matching):\n",
    "        #   print(matching)\n",
    "        if not exist_mapping(EMB_mappings, matching):\n",
    "            EMB_mappings.append(matching)"
   ]
  },
  {
   "cell_type": "code",
   "execution_count": null,
   "metadata": {},
   "outputs": [],
   "source": [
    "# TP/FP/TN/FN\n",
    "TP = []\n",
    "FP = []\n",
    "TN = []\n",
    "FN = []\n",
    "\n",
    "\n",
    "def check_TP_TN(map_human, map_algo):\n",
    "    if (\n",
    "        map_human[0] == map_algo[0]\n",
    "        and map_human[1] == map_algo[1]\n",
    "        and not (None in map_human)\n",
    "    ):\n",
    "        return \"TP\"\n",
    "    elif (\n",
    "        map_human[0] == map_algo[0]\n",
    "        and map_human[1] == map_algo[1]\n",
    "        and (None in map_human)\n",
    "    ):\n",
    "        return \"TN\"\n",
    "    else:\n",
    "        return \"NA\"\n",
    "\n",
    "\n",
    "human_mappings_dict = {}\n",
    "for i in human_mappings:\n",
    "    human_mappings_dict[i] = False  # not mapped\n",
    "EMB_mappings_dict = {}\n",
    "for i in EMB_mappings:\n",
    "    EMB_mappings_dict[i] = False  # not mapped\n",
    "\n",
    "# filter out TP or TN first\n",
    "for i in human_mappings:\n",
    "    mappinged = False\n",
    "    if not mappinged:\n",
    "        for j in EMB_mappings:\n",
    "            ans = check_TP_TN(i, j)\n",
    "            if ans == \"NA\":\n",
    "                continue\n",
    "            elif ans == \"TP\":\n",
    "                score = 1 if i[2] == j[2] else 0.5\n",
    "                TP.append((i, j, score))\n",
    "                human_mappings_dict[i] = True\n",
    "                EMB_mappings_dict[j] = True\n",
    "            elif ans == \"TN\":\n",
    "                score = 1 if i[2] == j[2] else 0.5\n",
    "                TN.append((i, j, score))\n",
    "                human_mappings_dict[i] = True\n",
    "                EMB_mappings_dict[j] = True"
   ]
  },
  {
   "cell_type": "code",
   "execution_count": null,
   "metadata": {},
   "outputs": [],
   "source": [
    "human_mappings_dict\n",
    "\n",
    "for i in human_mappings_dict:\n",
    "\n",
    "    if human_mappings_dict[i]:\n",
    "        continue  # if mapped, ignore\n",
    "\n",
    "    else:\n",
    "        mapping_0 = find_mapping_with_cls(EMB_mappings_dict, i, 0)\n",
    "        mapping_1 = find_mapping_with_cls(EMB_mappings_dict, i, 1)\n",
    "        if i[0] is not None and mapping_0:\n",
    "            mapping = mapping_0\n",
    "            # print(i, mapping)\n",
    "            if i[1] is not None and mapping[1] is not None:  # a b\t// a c\t0\tFP\n",
    "                FP.append((i, mapping))\n",
    "                human_mappings_dict[i] = True\n",
    "                EMB_mappings_dict[mapping] = True\n",
    "\n",
    "            elif i[1] is not None and mapping[1] is None:  # a b\t// a None\t0\tFN\n",
    "                FN.append((i, mapping))\n",
    "                human_mappings_dict[i] = True\n",
    "                EMB_mappings_dict[mapping] = True\n",
    "\n",
    "            elif i[1] is None and mapping[1] is not None:  # a None // a b\t0\tFP\n",
    "                FP.append((i, mapping))\n",
    "                human_mappings_dict[i] = True\n",
    "                EMB_mappings_dict[mapping] = True\n",
    "\n",
    "        elif i[1] is not None and mapping_1:\n",
    "            mapping = mapping_1  # generated pair\n",
    "            # print(i)\n",
    "            # print(mapping)\n",
    "            if i[0] is None and mapping[0] is not None:  # none a //\tb a \t0\tFP\n",
    "                FP.append((i, mapping))\n",
    "                human_mappings_dict[i] = True\n",
    "                EMB_mappings_dict[mapping] = True\n",
    "\n",
    "            elif i[0] is not None and mapping[0] is None:  # b a\t// none a  \t0\tFN\n",
    "                FN.append((i, mapping))\n",
    "                human_mappings_dict[i] = True\n",
    "                EMB_mappings_dict[mapping] = True\n",
    "\n",
    "            elif i[0] is not None and mapping[0] is not None:  # c a\t// b a  0\tFP\n",
    "                FP.append((i, mapping))\n",
    "                human_mappings_dict[i] = True\n",
    "                EMB_mappings_dict[mapping] = True"
   ]
  },
  {
   "cell_type": "code",
   "execution_count": null,
   "metadata": {},
   "outputs": [],
   "source": [
    "EMB_mappings_dict\n",
    "\n",
    "for i in EMB_mappings_dict:\n",
    "\n",
    "    if EMB_mappings_dict[i]:\n",
    "        continue  # if mapped, ignore\n",
    "\n",
    "        # i[0] is generaeted pair\n",
    "    mapping_0 = find_mapping_with_cls(human_mappings_dict, i, 0)  # human result\n",
    "    mapping_1 = find_mapping_with_cls(human_mappings_dict, i, 1)  # human result\n",
    "\n",
    "    if i[0] is not None and mapping_0:\n",
    "        # mapping = find_mapping_with_cls(human_mappings_dict, i, 0) # human result\n",
    "\n",
    "        mapping = mapping_0\n",
    "        if i[1] is not None and mapping_0[1] is not None:  # a b\t// a c\t0\tFP\n",
    "            mapping = mapping_0\n",
    "            FP.append((mapping, i))\n",
    "            human_mappings_dict[mapping] = True\n",
    "            EMB_mappings_dict[i] = True\n",
    "\n",
    "        elif mapping[1] is not None and i[1] is None:  # a b\t// a None\t0\tFN\n",
    "            FN.append((mapping, i))\n",
    "            human_mappings_dict[mapping] = True\n",
    "            EMB_mappings_dict[i] = True\n",
    "\n",
    "        elif mapping[1] is None and i[1] is not None:  # a None // a b\t0\tFP\n",
    "            FP.append((mapping, i))\n",
    "            human_mappings_dict[mapping] = True\n",
    "            EMB_mappings_dict[i] = True\n",
    "\n",
    "    elif i[1] is not None and mapping_1:\n",
    "        mapping = mapping_1\n",
    "        mapping = find_mapping_with_cls(human_mappings_dict, i, 1)\n",
    "        if mapping[0] is not None and i[0] is None:  # b a //\tnone a \t0\tFN\n",
    "            FN.append((i, mapping))\n",
    "            human_mappings_dict[mapping] = True\n",
    "            EMB_mappings_dict[i] = True\n",
    "\n",
    "        elif mapping[0] is None and i[0] is not None:  # none a //\tb a  \t0\tFP\n",
    "            FP.append((i, mapping))\n",
    "            human_mappings_dict[mapping] = True\n",
    "            EMB_mappings_dict[i] = True\n",
    "\n",
    "        elif mapping[0] is not None and i[0] is not None:  # c a\t// b a  0\tFP\n",
    "            FP.append((i, mapping))\n",
    "            human_mappings_dict[mapping] = True\n",
    "            EMB_mappings_dict[i] = True"
   ]
  },
  {
   "cell_type": "code",
   "execution_count": null,
   "metadata": {},
   "outputs": [],
   "source": [
    "# precision = TP /(TP + FP)\n",
    "# recall = TP /(TP + FN)\n",
    "\n",
    "tp = 0\n",
    "\n",
    "for i in TP:\n",
    "    tp += i[2]\n",
    "\n",
    "print(\"precision:\", tp / (len(TP) + len(FP)))\n",
    "print(\"recall:\", tp / (len(TP) + len(FN)))\n",
    "\n",
    "p = tp / (len(TP) + len(FP))\n",
    "r = tp / (len(TP) + len(FN))\n",
    "\n",
    "algo_human[\"attribute\"][\"precision\"] = p\n",
    "algo_human[\"attribute\"][\"recall\"] = r\n",
    "\n",
    "algo_human[\"attribute\"][\"f1\"] = 2 * p * r / (p + r)"
   ]
  },
  {
   "cell_type": "markdown",
   "metadata": {
    "id": "R6-0BsNIIquf"
   },
   "source": [
    "#### Relationship"
   ]
  },
  {
   "cell_type": "code",
   "execution_count": null,
   "metadata": {},
   "outputs": [],
   "source": [
    "# algo matching\n",
    "\n",
    "tmp = group.ref_rels\n",
    "\n",
    "human_mappings = []\n",
    "for dic in tmp:  # cls\n",
    "    # cls is a dict\n",
    "\n",
    "    matching = (dic[\"dsl\"], dic[\"counterpart\"], dic[\"score\"])\n",
    "\n",
    "    human_mappings.append(matching)\n",
    "\n",
    "\n",
    "tmp = group.stu_rels\n",
    "for dic in tmp:\n",
    "\n",
    "    # order of the elements\n",
    "    matching = (dic[\"counterpart\"], dic[\"dsl\"], dic[\"score\"])\n",
    "\n",
    "    if not exist_mapping(human_mappings, matching):\n",
    "        # print(matching)\n",
    "        human_mappings.append(matching)"
   ]
  },
  {
   "cell_type": "code",
   "execution_count": null,
   "metadata": {},
   "outputs": [],
   "source": [
    "# compare performance\n",
    "# algo matching\n",
    "grader.ref.rel.rels\n",
    "\n",
    "tmp = grader.ref.rel.rels\n",
    "EMB_mappings = []\n",
    "for dic in tmp:  # cls\n",
    "    # cls is a dict\n",
    "\n",
    "    matching = (dic[\"dsl\"], dic[\"counterpart\"], dic[\"score\"])\n",
    "    EMB_mappings.append(matching)\n",
    "\n",
    "tmp = grader.stu.rel.rels\n",
    "\n",
    "for dic in tmp:\n",
    "\n",
    "    # order of the elements\n",
    "    matching = (dic[\"counterpart\"], dic[\"dsl\"], dic[\"score\"])\n",
    "\n",
    "    if not exist_mapping(EMB_mappings, matching):\n",
    "        # print(matching)\n",
    "        EMB_mappings.append(matching)"
   ]
  },
  {
   "cell_type": "markdown",
   "metadata": {},
   "source": [
    "##### Start evaluation"
   ]
  },
  {
   "cell_type": "code",
   "execution_count": null,
   "metadata": {},
   "outputs": [],
   "source": [
    "# TP/FP/TN/FN\n",
    "TP = []\n",
    "FP = []\n",
    "TN = []\n",
    "FN = []\n",
    "\n",
    "\n",
    "def check_TP_TN(map_human, map_algo):\n",
    "    if (\n",
    "        map_human[0] == map_algo[0]\n",
    "        and map_human[1] == map_algo[1]\n",
    "        and not (None in map_human)\n",
    "    ):\n",
    "        return \"TP\"\n",
    "    elif (\n",
    "        map_human[0] == map_algo[0]\n",
    "        and map_human[1] == map_algo[1]\n",
    "        and (None in map_human)\n",
    "    ):\n",
    "        return \"TN\"\n",
    "    else:\n",
    "        return \"NA\"\n",
    "\n",
    "\n",
    "human_mappings_dict = {}\n",
    "for i in human_mappings:\n",
    "    human_mappings_dict[i] = False  # not mapped\n",
    "EMB_mappings_dict = {}\n",
    "for i in EMB_mappings:\n",
    "    EMB_mappings_dict[i] = False  # not mapped\n",
    "\n",
    "# filter out TP or TN first\n",
    "for i in human_mappings:\n",
    "    mappinged = False\n",
    "    if not mappinged:\n",
    "        for j in EMB_mappings:\n",
    "            ans = check_TP_TN(i, j)\n",
    "            if ans == \"NA\":\n",
    "                continue\n",
    "            elif ans == \"TP\":\n",
    "                score = 1 if i[2] == j[2] else 0.5\n",
    "                TP.append((i, j, score))\n",
    "                human_mappings_dict[i] = True\n",
    "                EMB_mappings_dict[j] = True\n",
    "            elif ans == \"TN\":\n",
    "                score = 1 if i[2] == j[2] else 0.5\n",
    "                TN.append((i, j, score))\n",
    "                human_mappings_dict[i] = True\n",
    "                EMB_mappings_dict[j] = True"
   ]
  },
  {
   "cell_type": "code",
   "execution_count": null,
   "metadata": {},
   "outputs": [],
   "source": [
    "human_mappings_dict\n",
    "\n",
    "for i in human_mappings_dict:\n",
    "    print(i)\n",
    "    if human_mappings_dict[i]:\n",
    "        continue  # if mapped, ignore\n",
    "\n",
    "        # i[0] is human pair\n",
    "    elif i[0] is not None:\n",
    "        mapping = find_mapping_with_cls(EMB_mappings_dict, i, 0)  # generated pair\n",
    "        if i[1] is not None and mapping[1] is not None:  # a b\t// a c\t0\tFP\n",
    "            FP.append((i, mapping))\n",
    "            human_mappings_dict[i] = True\n",
    "            EMB_mappings_dict[mapping] = True\n",
    "\n",
    "        elif i[1] is not None and mapping[1] is None:  # a b\t// a None\t0\tFN\n",
    "            FN.append((i, mapping))\n",
    "            human_mappings_dict[i] = True\n",
    "            EMB_mappings_dict[mapping] = True\n",
    "\n",
    "        elif i[1] is None and mapping[1] is not None:  # a None // a b\t0\tFP\n",
    "            FP.append((i, mapping))\n",
    "            human_mappings_dict[i] = True\n",
    "            EMB_mappings_dict[mapping] = True\n",
    "\n",
    "    elif i[1] is not None:\n",
    "        mapping = find_mapping_with_cls(EMB_mappings_dict, i, 1)  # generated pair\n",
    "        if i[0] is None and mapping[0] is not None:  # none a //\tb a \t0\tFP\n",
    "            FP.append((i, mapping))\n",
    "            human_mappings_dict[i] = True\n",
    "            EMB_mappings_dict[mapping] = True\n",
    "\n",
    "        elif i[0] is not None and mapping[0] is None:  # b a\t// none a  \t0\tFN\n",
    "            FN.append((i, mapping))\n",
    "            human_mappings_dict[i] = True\n",
    "            EMB_mappings_dict[mapping] = True\n",
    "\n",
    "        elif i[0] is not None and mapping[0] is not None:  # c a\t// b a  0\tFP\n",
    "            FP.append((i, mapping))\n",
    "            human_mappings_dict[i] = True\n",
    "            EMB_mappings_dict[mapping] = True"
   ]
  },
  {
   "cell_type": "code",
   "execution_count": null,
   "metadata": {},
   "outputs": [],
   "source": [
    "EMB_mappings_dict"
   ]
  },
  {
   "cell_type": "code",
   "execution_count": null,
   "metadata": {},
   "outputs": [],
   "source": []
  },
  {
   "cell_type": "code",
   "execution_count": null,
   "metadata": {},
   "outputs": [],
   "source": [
    "EMB_mappings_dict\n",
    "\n",
    "for i in EMB_mappings_dict:\n",
    "    if EMB_mappings_dict[i]:\n",
    "        continue  # if mapped, ignore\n",
    "\n",
    "        # i[0] is generaeted pair\n",
    "    elif i[0] is not None:\n",
    "        mapping = find_mapping_with_cls(human_mappings_dict, i, 0)  # human result\n",
    "        if i[1] is not None and mapping[1] is not None:  # a b\t// a c\t0\tFP\n",
    "            FP.append((mapping, i))\n",
    "            human_mappings_dict[mapping] = True\n",
    "            EMB_mappings_dict[i] = True\n",
    "\n",
    "        elif mapping[1] is not None and i[1] is None:  # a b\t// a None\t0\tFN\n",
    "            FN.append((mapping, i))\n",
    "            human_mappings_dict[mapping] = True\n",
    "            EMB_mappings_dict[i] = True\n",
    "\n",
    "        elif mapping[1] is None and i[1] is not None:  # a None // a b\t0\tFP\n",
    "            FP.append((mapping, i))\n",
    "            human_mappings_dict[mapping] = True\n",
    "            EMB_mappings_dict[i] = True\n",
    "\n",
    "    elif i[1] is not None:\n",
    "        mapping = find_mapping_with_cls(human_mappings_dict, i, 1)\n",
    "        if mapping[0] is not None and i[0] is None:  # b a //\tnone a \t0\tFN\n",
    "            FN.append((i, mapping))\n",
    "            human_mappings_dict[mapping] = True\n",
    "            EMB_mappings_dict[i] = True\n",
    "\n",
    "        elif mapping[0] is None and i[0] is not None:  # none a //\tb a  \t0\tFP\n",
    "            FP.append((i, mapping))\n",
    "            human_mappings_dict[mapping] = True\n",
    "            EMB_mappings_dict[i] = True\n",
    "\n",
    "        elif mapping[0] is not None and i[0] is not None:  # c a\t// b a  0\tFP\n",
    "            FP.append((i, mapping))\n",
    "            human_mappings_dict[mapping] = True\n",
    "            EMB_mappings_dict[i] = True"
   ]
  },
  {
   "cell_type": "code",
   "execution_count": null,
   "metadata": {},
   "outputs": [],
   "source": [
    "# precision = TP /(TP + FP)\n",
    "# recall = TP /(TP + FN)\n",
    "\n",
    "tp = 0\n",
    "\n",
    "for i in TP:\n",
    "    tp += i[2]\n",
    "\n",
    "print(\"precision:\", tp / (len(TP) + len(FP)))\n",
    "print(\"recall:\", tp / (len(TP) + len(FN)))\n",
    "\n",
    "p = tp / (len(TP) + len(FP))\n",
    "r = tp / (len(TP) + len(FN))\n",
    "\n",
    "algo_human[\"relationship\"][\"precision\"] = p\n",
    "algo_human[\"relationship\"][\"recall\"] = r\n",
    "\n",
    "algo_human[\"relationship\"][\"f1\"] = 2 * p * r / (p + r)"
   ]
  },
  {
   "cell_type": "code",
   "execution_count": null,
   "metadata": {},
   "outputs": [],
   "source": [
    "algo_human"
   ]
  },
  {
   "cell_type": "code",
   "execution_count": null,
   "metadata": {},
   "outputs": [],
   "source": [
    "student_out_dir"
   ]
  },
  {
   "cell_type": "code",
   "execution_count": null,
   "metadata": {},
   "outputs": [],
   "source": [
    "# as requested in comment\n",
    "\n",
    "with open(student_out_dir + \"algo_evaluation.txt\", \"w\") as file:\n",
    "    file.write(json.dumps(algo_human))"
   ]
  }
 ],
 "metadata": {
  "colab": {
   "collapsed_sections": [
    "pBpCEgQV82Nj",
    "MOMw2WnS8p6h",
    "_UPG9p99KA6q",
    "7D5Je00s8p6i",
    "V84BIi42N3vb",
    "AD1YW_WlcROJ",
    "-lWeUly08p6j",
    "Qt34Gd8g8p6o"
   ],
   "provenance": [],
   "toc_visible": true
  },
  "kernelspec": {
   "display_name": "m38",
   "language": "python",
   "name": "python3"
  },
  "language_info": {
   "codemirror_mode": {
    "name": "ipython",
    "version": 3
   },
   "file_extension": ".py",
   "mimetype": "text/x-python",
   "name": "python",
   "nbconvert_exporter": "python",
   "pygments_lexer": "ipython3",
   "version": "3.8.18"
  }
 },
 "nbformat": 4,
 "nbformat_minor": 0
}
